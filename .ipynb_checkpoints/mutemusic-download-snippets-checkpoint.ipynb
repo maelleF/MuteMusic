{
 "cells": [
  {
   "cell_type": "code",
   "execution_count": 1,
   "id": "3f480384",
   "metadata": {},
   "outputs": [],
   "source": [
    "import os \n",
    "import yt_dlp\n",
    "from yt_dlp.utils import download_range_func\n",
    "import pandas as pd"
   ]
  },
  {
   "cell_type": "code",
   "execution_count": 2,
   "id": "e752f15b",
   "metadata": {},
   "outputs": [],
   "source": [
    "def ytdl(url,timestamp,duration,outpath='./'):\n",
    "    minutes, seconds = timestamp.strip().split(':')\n",
    "\n",
    "    # Convert minutes and seconds to integers\n",
    "    minutes = int(minutes)\n",
    "    seconds = int(seconds)\n",
    "    \n",
    "    # Convert minutes to seconds and add to the total seconds\n",
    "    start = minutes * 60 + seconds\n",
    "    \n",
    "    stop = start + duration\n",
    "\n",
    "    ydl_opts = {\n",
    "        'format': 'wav/bestaudio/best',\n",
    "        'paths' : {'home':outpath},\n",
    "        'download_ranges' : download_range_func(None,[(start,stop)]),\n",
    "        'force_keyframes_at_cuts': True, # for yt links,\n",
    "        # ℹ️ See help(yt_dlp.postprocessor) for a list of available Postprocessors and their arguments\n",
    "        'postprocessors': [{  # Extract audio using ffmpeg\n",
    "            'key': 'FFmpegExtractAudio',\n",
    "            'preferredcodec': 'wav',\n",
    "        }]\n",
    "    }\n",
    "\n",
    "    with yt_dlp.YoutubeDL(ydl_opts) as ydl:\n",
    "        error_code = ydl.download([url])"
   ]
  },
  {
   "cell_type": "code",
   "execution_count": 3,
   "id": "071f8212",
   "metadata": {},
   "outputs": [
    {
     "data": {
      "text/html": [
       "<div>\n",
       "<style scoped>\n",
       "    .dataframe tbody tr th:only-of-type {\n",
       "        vertical-align: middle;\n",
       "    }\n",
       "\n",
       "    .dataframe tbody tr th {\n",
       "        vertical-align: top;\n",
       "    }\n",
       "\n",
       "    .dataframe thead th {\n",
       "        text-align: right;\n",
       "    }\n",
       "</style>\n",
       "<table border=\"1\" class=\"dataframe\">\n",
       "  <thead>\n",
       "    <tr style=\"text-align: right;\">\n",
       "      <th></th>\n",
       "      <th>playlist</th>\n",
       "      <th>title</th>\n",
       "      <th>artist</th>\n",
       "      <th>date</th>\n",
       "      <th>timestamp_8s</th>\n",
       "      <th>timestamp_long</th>\n",
       "      <th>duration</th>\n",
       "      <th>url</th>\n",
       "    </tr>\n",
       "  </thead>\n",
       "  <tbody>\n",
       "    <tr>\n",
       "      <th>0</th>\n",
       "      <td>Lyrics</td>\n",
       "      <td>Make 'Em Laugh</td>\n",
       "      <td>Donald O'Connor</td>\n",
       "      <td>1952.0</td>\n",
       "      <td>0:04</td>\n",
       "      <td>0:00</td>\n",
       "      <td>65</td>\n",
       "      <td>https://www.youtube.com/watch?v=ieU4Am0t0tc</td>\n",
       "    </tr>\n",
       "    <tr>\n",
       "      <th>1</th>\n",
       "      <td>Lyrics</td>\n",
       "      <td>Mister Sandman</td>\n",
       "      <td>The Chordettes</td>\n",
       "      <td>1954.0</td>\n",
       "      <td>0:10</td>\n",
       "      <td>0:00</td>\n",
       "      <td>46</td>\n",
       "      <td>https://www.youtube.com/watch?v=PKnPrbPK5vA</td>\n",
       "    </tr>\n",
       "    <tr>\n",
       "      <th>2</th>\n",
       "      <td>Lyrics</td>\n",
       "      <td>Jailhouse Rock</td>\n",
       "      <td>Elvis Presley</td>\n",
       "      <td>1957.0</td>\n",
       "      <td>0:15</td>\n",
       "      <td>0:00</td>\n",
       "      <td>52</td>\n",
       "      <td>https://www.youtube.com/watch?v=Hi2hpTXeHTI?t=15</td>\n",
       "    </tr>\n",
       "    <tr>\n",
       "      <th>3</th>\n",
       "      <td>Lyrics</td>\n",
       "      <td>Rain</td>\n",
       "      <td>The Beatles</td>\n",
       "      <td>1966.0</td>\n",
       "      <td>1:18</td>\n",
       "      <td>0:00</td>\n",
       "      <td>48</td>\n",
       "      <td>https://www.youtube.com/watch?v=cK5G8fPmWeA</td>\n",
       "    </tr>\n",
       "    <tr>\n",
       "      <th>4</th>\n",
       "      <td>Lyrics</td>\n",
       "      <td>Monday, Monday</td>\n",
       "      <td>The Mamas &amp; The Papas</td>\n",
       "      <td>1966.0</td>\n",
       "      <td>1:13</td>\n",
       "      <td>0:29</td>\n",
       "      <td>53</td>\n",
       "      <td>https://www.youtube.com/watch?v=sWGh92O9kxU&amp;t=73</td>\n",
       "    </tr>\n",
       "    <tr>\n",
       "      <th>5</th>\n",
       "      <td>Lyrics</td>\n",
       "      <td>[I Can't Get No] Satisfaction</td>\n",
       "      <td>The Rolling Stones</td>\n",
       "      <td>1965.0</td>\n",
       "      <td>0:34</td>\n",
       "      <td>0:00</td>\n",
       "      <td>67</td>\n",
       "      <td>https://www.youtube.com/watch?v=MSSxnv1_J2g</td>\n",
       "    </tr>\n",
       "    <tr>\n",
       "      <th>6</th>\n",
       "      <td>Lyrics</td>\n",
       "      <td>Mrs. Robinson</td>\n",
       "      <td>Simon &amp; Garfunkel</td>\n",
       "      <td>1967.0</td>\n",
       "      <td>0:41</td>\n",
       "      <td>1:45</td>\n",
       "      <td>53</td>\n",
       "      <td>https://www.youtube.com/watch?v=9C1BCAgu2I8</td>\n",
       "    </tr>\n",
       "    <tr>\n",
       "      <th>7</th>\n",
       "      <td>Lyrics</td>\n",
       "      <td>Take Me Home, Country Roads</td>\n",
       "      <td>John Denver</td>\n",
       "      <td>1971.0</td>\n",
       "      <td>0:31</td>\n",
       "      <td>0:00</td>\n",
       "      <td>54</td>\n",
       "      <td>https://www.youtube.com/watch?v=1vrEljMfXYo</td>\n",
       "    </tr>\n",
       "    <tr>\n",
       "      <th>8</th>\n",
       "      <td>Lyrics</td>\n",
       "      <td>No Woman No Cry</td>\n",
       "      <td>Bob Marley</td>\n",
       "      <td>1974.0</td>\n",
       "      <td>0:20</td>\n",
       "      <td>0:24</td>\n",
       "      <td>64</td>\n",
       "      <td>https://www.youtube.com/watch?v=pHlSE9j5FGY</td>\n",
       "    </tr>\n",
       "    <tr>\n",
       "      <th>9</th>\n",
       "      <td>Lyrics</td>\n",
       "      <td>Living Together</td>\n",
       "      <td>Bee Gees</td>\n",
       "      <td>1978.0</td>\n",
       "      <td>0:23</td>\n",
       "      <td>0:33</td>\n",
       "      <td>71</td>\n",
       "      <td>https://www.youtube.com/watch?v=1U9noJETLU0</td>\n",
       "    </tr>\n",
       "    <tr>\n",
       "      <th>10</th>\n",
       "      <td>Lyrics</td>\n",
       "      <td>Hotel California</td>\n",
       "      <td>Eagles</td>\n",
       "      <td>1977.0</td>\n",
       "      <td>1:50</td>\n",
       "      <td>0:52</td>\n",
       "      <td>78</td>\n",
       "      <td>https://www.youtube.com/watch?v=BciS5krYL80</td>\n",
       "    </tr>\n",
       "    <tr>\n",
       "      <th>11</th>\n",
       "      <td>Lyrics</td>\n",
       "      <td>I Will Survive</td>\n",
       "      <td>Gloria Gaynor</td>\n",
       "      <td>1978.0</td>\n",
       "      <td>1:04</td>\n",
       "      <td>0:06</td>\n",
       "      <td>68</td>\n",
       "      <td>https://www.youtube.com/watch?v=6dYWe1c3OyU</td>\n",
       "    </tr>\n",
       "    <tr>\n",
       "      <th>12</th>\n",
       "      <td>Lyrics</td>\n",
       "      <td>Highway to Hell</td>\n",
       "      <td>AC/DC</td>\n",
       "      <td>1979.0</td>\n",
       "      <td>0:52</td>\n",
       "      <td>0:17</td>\n",
       "      <td>53</td>\n",
       "      <td>https://www.youtube.com/watch?v=l482T0yNkeo</td>\n",
       "    </tr>\n",
       "    <tr>\n",
       "      <th>13</th>\n",
       "      <td>Lyrics</td>\n",
       "      <td>Another Brick In The Wall (Part 1)</td>\n",
       "      <td>Pink Floyd</td>\n",
       "      <td>1979.0</td>\n",
       "      <td>0:55</td>\n",
       "      <td>0:14</td>\n",
       "      <td>60</td>\n",
       "      <td>https://www.youtube.com/watch?v=-cfJqYtmmqA</td>\n",
       "    </tr>\n",
       "    <tr>\n",
       "      <th>14</th>\n",
       "      <td>Lyrics</td>\n",
       "      <td>It's Raining Men</td>\n",
       "      <td>The Weather Girls</td>\n",
       "      <td>1983.0</td>\n",
       "      <td>0:57</td>\n",
       "      <td>0:28</td>\n",
       "      <td>62</td>\n",
       "      <td>https://www.youtube.com/watch?v=l5aZJBLAu1E</td>\n",
       "    </tr>\n",
       "    <tr>\n",
       "      <th>15</th>\n",
       "      <td>Lyrics</td>\n",
       "      <td>Babooshka</td>\n",
       "      <td>Kate Bush</td>\n",
       "      <td>1980.0</td>\n",
       "      <td>1:58</td>\n",
       "      <td>0:17</td>\n",
       "      <td>55</td>\n",
       "      <td>https://www.youtube.com/watch?v=3NMhpI2-pLU</td>\n",
       "    </tr>\n",
       "    <tr>\n",
       "      <th>16</th>\n",
       "      <td>Lyrics</td>\n",
       "      <td>Why You Wanna Trip on Me</td>\n",
       "      <td>Michael Jackson</td>\n",
       "      <td>1991.0</td>\n",
       "      <td>1:30</td>\n",
       "      <td>0:53</td>\n",
       "      <td>53</td>\n",
       "      <td>https://www.youtube.com/watch?v=C2FUzoy-UCg</td>\n",
       "    </tr>\n",
       "    <tr>\n",
       "      <th>17</th>\n",
       "      <td>Lyrics</td>\n",
       "      <td>Everybody Wants To Rule The World</td>\n",
       "      <td>Tears For Fears</td>\n",
       "      <td>1985.0</td>\n",
       "      <td>0:48</td>\n",
       "      <td>1:05</td>\n",
       "      <td>58</td>\n",
       "      <td>https://www.youtube.com/watch?v=znDgBy2mHbc</td>\n",
       "    </tr>\n",
       "    <tr>\n",
       "      <th>18</th>\n",
       "      <td>Lyrics</td>\n",
       "      <td>Murder by Numbers</td>\n",
       "      <td>The Police</td>\n",
       "      <td>1983.0</td>\n",
       "      <td>1:00</td>\n",
       "      <td>0:19</td>\n",
       "      <td>60</td>\n",
       "      <td>https://www.youtube.com/watch?v=tUq9fURN2VQ</td>\n",
       "    </tr>\n",
       "    <tr>\n",
       "      <th>19</th>\n",
       "      <td>Lyrics</td>\n",
       "      <td>Material Girl</td>\n",
       "      <td>Madonna</td>\n",
       "      <td>1985.0</td>\n",
       "      <td>0:57</td>\n",
       "      <td>0:25</td>\n",
       "      <td>50</td>\n",
       "      <td>https://www.youtube.com/watch?v=JO9h1fQU_-k</td>\n",
       "    </tr>\n",
       "    <tr>\n",
       "      <th>20</th>\n",
       "      <td>Lyrics</td>\n",
       "      <td>Never Gonna Give You Up</td>\n",
       "      <td>Rick Astley</td>\n",
       "      <td>1987.0</td>\n",
       "      <td>0:43</td>\n",
       "      <td>0:10</td>\n",
       "      <td>50</td>\n",
       "      <td>https://www.youtube.com/watch?v=dQw4w9WgXcQ</td>\n",
       "    </tr>\n",
       "    <tr>\n",
       "      <th>21</th>\n",
       "      <td>Lyrics</td>\n",
       "      <td>Gangsta's Paradise</td>\n",
       "      <td>Coolio</td>\n",
       "      <td>1995.0</td>\n",
       "      <td>1:00</td>\n",
       "      <td>0:11</td>\n",
       "      <td>61</td>\n",
       "      <td>https://www.youtube.com/watch?v=Tw0_qHNRAEA</td>\n",
       "    </tr>\n",
       "    <tr>\n",
       "      <th>22</th>\n",
       "      <td>Lyrics</td>\n",
       "      <td>I’ll Be There for You</td>\n",
       "      <td>The Rembrandts</td>\n",
       "      <td>1995.0</td>\n",
       "      <td>0:31</td>\n",
       "      <td>0:00</td>\n",
       "      <td>47</td>\n",
       "      <td>https://www.youtube.com/watch?v=RIjTq_OdFvo</td>\n",
       "    </tr>\n",
       "    <tr>\n",
       "      <th>23</th>\n",
       "      <td>Lyrics</td>\n",
       "      <td>Can’t Live With You, Can’t Live Without You</td>\n",
       "      <td>Billy Newton-Davis, Céline Dion</td>\n",
       "      <td>1989.0</td>\n",
       "      <td>2:22</td>\n",
       "      <td>0:31</td>\n",
       "      <td>60</td>\n",
       "      <td>https://www.youtube.com/watch?v=bY8PUuZR4tw</td>\n",
       "    </tr>\n",
       "    <tr>\n",
       "      <th>24</th>\n",
       "      <td>Lyrics</td>\n",
       "      <td>Creep</td>\n",
       "      <td>Radiohead</td>\n",
       "      <td>1992.0</td>\n",
       "      <td>0:54</td>\n",
       "      <td>0:36</td>\n",
       "      <td>49</td>\n",
       "      <td>https://www.youtube.com/watch?v=XFkzRNyygfk</td>\n",
       "    </tr>\n",
       "    <tr>\n",
       "      <th>25</th>\n",
       "      <td>Orchestral</td>\n",
       "      <td>The Office (Main Theme) \"Tv Short Version\"</td>\n",
       "      <td>The Office Band</td>\n",
       "      <td>2011.0</td>\n",
       "      <td>0:06</td>\n",
       "      <td>0:00</td>\n",
       "      <td>34</td>\n",
       "      <td>https://www.youtube.com/watch?v=3cMctz6KNsg</td>\n",
       "    </tr>\n",
       "    <tr>\n",
       "      <th>26</th>\n",
       "      <td>Orchestral</td>\n",
       "      <td>The Imperial March (Darth Vader's Theme)</td>\n",
       "      <td>John Williams &amp; London Symphony</td>\n",
       "      <td>1980.0</td>\n",
       "      <td>0:09</td>\n",
       "      <td>0:00</td>\n",
       "      <td>42</td>\n",
       "      <td>https://www.youtube.com/watch?v=s3SZ5sIMY6o</td>\n",
       "    </tr>\n",
       "    <tr>\n",
       "      <th>27</th>\n",
       "      <td>Orchestral</td>\n",
       "      <td>Game of Thrones Main Title</td>\n",
       "      <td>Ramin Djawadi</td>\n",
       "      <td>2012.0</td>\n",
       "      <td>0:09</td>\n",
       "      <td>0:42</td>\n",
       "      <td>56</td>\n",
       "      <td>https://www.youtube.com/watch?v=uXZd_W5B7N0</td>\n",
       "    </tr>\n",
       "    <tr>\n",
       "      <th>28</th>\n",
       "      <td>Orchestral</td>\n",
       "      <td>The Pink Panther Theme</td>\n",
       "      <td>Henry Mancini &amp; His Orchestra</td>\n",
       "      <td>1975.0</td>\n",
       "      <td>0:12</td>\n",
       "      <td>0:00</td>\n",
       "      <td>45</td>\n",
       "      <td>https://www.youtube.com/watch?v=VyZiIuMufTA</td>\n",
       "    </tr>\n",
       "    <tr>\n",
       "      <th>29</th>\n",
       "      <td>Orchestral</td>\n",
       "      <td>Yakety Sax(1983 version)</td>\n",
       "      <td>Ronnie Aldrich Orchestra</td>\n",
       "      <td>1983.0</td>\n",
       "      <td>0:06</td>\n",
       "      <td>0:50</td>\n",
       "      <td>44</td>\n",
       "      <td>https://www.youtube.com/watch?v=mvsR9KXQknE</td>\n",
       "    </tr>\n",
       "    <tr>\n",
       "      <th>30</th>\n",
       "      <td>Orchestral</td>\n",
       "      <td>Lux Aeterna from Requiem for a Dream</td>\n",
       "      <td>Clint Mansell</td>\n",
       "      <td>NaN</td>\n",
       "      <td>1:22</td>\n",
       "      <td>1:07</td>\n",
       "      <td>60</td>\n",
       "      <td>https://www.youtube.com/watch?v=0-jVz7Dou4Y</td>\n",
       "    </tr>\n",
       "    <tr>\n",
       "      <th>31</th>\n",
       "      <td>Orchestral</td>\n",
       "      <td>il porco rosso</td>\n",
       "      <td>Joe Hisaishi</td>\n",
       "      <td>1998.0</td>\n",
       "      <td>0:23</td>\n",
       "      <td>0:38</td>\n",
       "      <td>66</td>\n",
       "      <td>https://www.youtube.com/watch?v=iKMHCmDdJ2U</td>\n",
       "    </tr>\n",
       "    <tr>\n",
       "      <th>32</th>\n",
       "      <td>Orchestral</td>\n",
       "      <td>Another Brick In The Wall (Part 1)</td>\n",
       "      <td>Pink Floyd</td>\n",
       "      <td>1979.0</td>\n",
       "      <td>1:37</td>\n",
       "      <td>1:24</td>\n",
       "      <td>45</td>\n",
       "      <td>https://www.youtube.com/watch?v=-cfJqYtmmqA</td>\n",
       "    </tr>\n",
       "    <tr>\n",
       "      <th>33</th>\n",
       "      <td>Orchestral</td>\n",
       "      <td>Kiki's Delivery Service</td>\n",
       "      <td>Joe Hisaishi</td>\n",
       "      <td>NaN</td>\n",
       "      <td>0:12</td>\n",
       "      <td>0:00</td>\n",
       "      <td>48</td>\n",
       "      <td>https://www.youtube.com/watch?v=HPg_auEBL1Y</td>\n",
       "    </tr>\n",
       "    <tr>\n",
       "      <th>34</th>\n",
       "      <td>Orchestral</td>\n",
       "      <td>Waltz No. 2</td>\n",
       "      <td>Dmitri Shostakovich</td>\n",
       "      <td>1938.0</td>\n",
       "      <td>0:42</td>\n",
       "      <td>0:00</td>\n",
       "      <td>41</td>\n",
       "      <td>https://www.youtube.com/watch?v=mmCnQDUSO4I&amp;t=42</td>\n",
       "    </tr>\n",
       "    <tr>\n",
       "      <th>35</th>\n",
       "      <td>Orchestral</td>\n",
       "      <td>The Moldau</td>\n",
       "      <td>Bedrich Smetana</td>\n",
       "      <td>NaN</td>\n",
       "      <td>0:00</td>\n",
       "      <td>0:00</td>\n",
       "      <td>54</td>\n",
       "      <td>https://www.youtube.com/watch?v=pT2bgYo9RT0</td>\n",
       "    </tr>\n",
       "    <tr>\n",
       "      <th>36</th>\n",
       "      <td>Orchestral</td>\n",
       "      <td>2001, l'odyssée de l’espace</td>\n",
       "      <td>NaN</td>\n",
       "      <td>1968.0</td>\n",
       "      <td>0:09</td>\n",
       "      <td>0:19</td>\n",
       "      <td>61</td>\n",
       "      <td>https://www.youtube.com/watch?v=5HjTXZPnYso</td>\n",
       "    </tr>\n",
       "    <tr>\n",
       "      <th>37</th>\n",
       "      <td>Orchestral</td>\n",
       "      <td>The 4 Seasons, Op. 8/4, RV 297, \"Winter\"</td>\n",
       "      <td>Vivaldi</td>\n",
       "      <td>NaN</td>\n",
       "      <td>1:14</td>\n",
       "      <td>1:06</td>\n",
       "      <td>60</td>\n",
       "      <td>https://www.youtube.com/watch?v=_FeJFs6LJjU</td>\n",
       "    </tr>\n",
       "    <tr>\n",
       "      <th>38</th>\n",
       "      <td>Orchestral</td>\n",
       "      <td>Back To The Future (From \"Back To The Future\" ...</td>\n",
       "      <td>The Outatime Orchestra</td>\n",
       "      <td>1985.0</td>\n",
       "      <td>2:03</td>\n",
       "      <td>0:00</td>\n",
       "      <td>48</td>\n",
       "      <td>https://www.youtube.com/watch?v=LpbHlXPmmcE</td>\n",
       "    </tr>\n",
       "    <tr>\n",
       "      <th>39</th>\n",
       "      <td>Orchestral</td>\n",
       "      <td>Main Title Terminator 2 Theme (Remastered 2017)</td>\n",
       "      <td>Brad Fiedel</td>\n",
       "      <td>1991.0</td>\n",
       "      <td>0:59</td>\n",
       "      <td>0:51</td>\n",
       "      <td>54</td>\n",
       "      <td>https://www.youtube.com/watch?v=CnQm2_cAZvo</td>\n",
       "    </tr>\n",
       "    <tr>\n",
       "      <th>40</th>\n",
       "      <td>Orchestral</td>\n",
       "      <td>Hook prologue</td>\n",
       "      <td>John Williams</td>\n",
       "      <td>1991.0</td>\n",
       "      <td>0:14</td>\n",
       "      <td>0:00</td>\n",
       "      <td>44</td>\n",
       "      <td>https://www.youtube.com/watch?v=OwpOeeQJXGI</td>\n",
       "    </tr>\n",
       "    <tr>\n",
       "      <th>41</th>\n",
       "      <td>Orchestral</td>\n",
       "      <td>Suite bergamasque, CD 82, L. 75: III. Clair de...</td>\n",
       "      <td>Debussy</td>\n",
       "      <td>NaN</td>\n",
       "      <td>0:02</td>\n",
       "      <td>0:02</td>\n",
       "      <td>50</td>\n",
       "      <td>https://www.youtube.com/watch?v=JVmwLJeeOy4</td>\n",
       "    </tr>\n",
       "    <tr>\n",
       "      <th>42</th>\n",
       "      <td>Orchestral</td>\n",
       "      <td>Gnossienne No.1</td>\n",
       "      <td>Erik Satie</td>\n",
       "      <td>NaN</td>\n",
       "      <td>0:24</td>\n",
       "      <td>0:00</td>\n",
       "      <td>63</td>\n",
       "      <td>https://www.youtube.com/watch?v=t27rzTkFKmU</td>\n",
       "    </tr>\n",
       "    <tr>\n",
       "      <th>43</th>\n",
       "      <td>Orchestral</td>\n",
       "      <td>Moonlight Sonata</td>\n",
       "      <td>Ludwig van Beethoven</td>\n",
       "      <td>NaN</td>\n",
       "      <td>8:06</td>\n",
       "      <td>8:06</td>\n",
       "      <td>47</td>\n",
       "      <td>https://www.youtube.com/watch?v=4Tr0otuiQuU</td>\n",
       "    </tr>\n",
       "    <tr>\n",
       "      <th>44</th>\n",
       "      <td>Orchestral</td>\n",
       "      <td>Star Trek: the Next Generation (Main Title)</td>\n",
       "      <td>Jerry Goldsmith &amp; Alexander Courage</td>\n",
       "      <td>1990.0</td>\n",
       "      <td>0:51</td>\n",
       "      <td>0:51</td>\n",
       "      <td>56</td>\n",
       "      <td>https://www.youtube.com/watch?v=yweIpSWhyRc</td>\n",
       "    </tr>\n",
       "    <tr>\n",
       "      <th>45</th>\n",
       "      <td>Orchestral</td>\n",
       "      <td>Seinfeld Official Soundtrack (Seinfeld Theme)</td>\n",
       "      <td>Jonathan Wolff</td>\n",
       "      <td>NaN</td>\n",
       "      <td>0:29</td>\n",
       "      <td>0:00</td>\n",
       "      <td>52</td>\n",
       "      <td>https://www.youtube.com/watch?v=RWak0i_iqnM</td>\n",
       "    </tr>\n",
       "    <tr>\n",
       "      <th>46</th>\n",
       "      <td>Orchestral</td>\n",
       "      <td>Dreaming of Bag End</td>\n",
       "      <td>Howard Shore</td>\n",
       "      <td>2012.0</td>\n",
       "      <td>0:33</td>\n",
       "      <td>0:00</td>\n",
       "      <td>52</td>\n",
       "      <td>https://www.youtube.com/watch?v=h55ROrO3UHc</td>\n",
       "    </tr>\n",
       "    <tr>\n",
       "      <th>47</th>\n",
       "      <td>Orchestral</td>\n",
       "      <td>My Name is Nobody - Il Mio Nome è Nessuno (Album)</td>\n",
       "      <td>Ennio Morricone</td>\n",
       "      <td>NaN</td>\n",
       "      <td>1:25</td>\n",
       "      <td>0:03</td>\n",
       "      <td>53</td>\n",
       "      <td>https://www.youtube.com/watch?v=duF1OQho1gc</td>\n",
       "    </tr>\n",
       "    <tr>\n",
       "      <th>48</th>\n",
       "      <td>Orchestral</td>\n",
       "      <td>Body and soul</td>\n",
       "      <td>Coleman Hawkins</td>\n",
       "      <td>NaN</td>\n",
       "      <td>0:14</td>\n",
       "      <td>0:00</td>\n",
       "      <td>59</td>\n",
       "      <td>https://www.youtube.com/watch?v=Pkvju_DlP8A</td>\n",
       "    </tr>\n",
       "    <tr>\n",
       "      <th>49</th>\n",
       "      <td>Orchestral</td>\n",
       "      <td>Stairway To Heaven</td>\n",
       "      <td>Led Zeppelin</td>\n",
       "      <td>NaN</td>\n",
       "      <td>0:00</td>\n",
       "      <td>0:00</td>\n",
       "      <td>52</td>\n",
       "      <td>https://www.youtube.com/watch?v=QkF3oxziUI4</td>\n",
       "    </tr>\n",
       "    <tr>\n",
       "      <th>50</th>\n",
       "      <td>Synthetic</td>\n",
       "      <td>Super Mario Bros (NES) Music - Overworld Theme</td>\n",
       "      <td>NaN</td>\n",
       "      <td>NaN</td>\n",
       "      <td>0:00</td>\n",
       "      <td>0:00</td>\n",
       "      <td>59</td>\n",
       "      <td>https://www.youtube.com/watch?v=iy3qq7zc4EY</td>\n",
       "    </tr>\n",
       "    <tr>\n",
       "      <th>51</th>\n",
       "      <td>Synthetic</td>\n",
       "      <td>Super Mario Bros (NES) Music - Underground Theme</td>\n",
       "      <td>NaN</td>\n",
       "      <td>NaN</td>\n",
       "      <td>0:00</td>\n",
       "      <td>0:00</td>\n",
       "      <td>49</td>\n",
       "      <td>https://www.youtube.com/watch?v=UOwyFPgjPQ4</td>\n",
       "    </tr>\n",
       "    <tr>\n",
       "      <th>52</th>\n",
       "      <td>Synthetic</td>\n",
       "      <td>Super Mario Bros. 3 - Overworld 1 Theme</td>\n",
       "      <td>NaN</td>\n",
       "      <td>NaN</td>\n",
       "      <td>0:04</td>\n",
       "      <td>0:00</td>\n",
       "      <td>54</td>\n",
       "      <td>https://www.youtube.com/watch?v=oZszAppxXoo</td>\n",
       "    </tr>\n",
       "    <tr>\n",
       "      <th>53</th>\n",
       "      <td>Synthetic</td>\n",
       "      <td>Super Mario Bros 3 - Underwater Theme</td>\n",
       "      <td>NaN</td>\n",
       "      <td>NaN</td>\n",
       "      <td>0:04</td>\n",
       "      <td>0:00</td>\n",
       "      <td>46</td>\n",
       "      <td>https://www.youtube.com/watch?v=JGpOPWM6uzE</td>\n",
       "    </tr>\n",
       "    <tr>\n",
       "      <th>54</th>\n",
       "      <td>Synthetic</td>\n",
       "      <td>Super Mario 64 - Bob-Omb Battlefield (Extended...</td>\n",
       "      <td>NaN</td>\n",
       "      <td>NaN</td>\n",
       "      <td>0:04</td>\n",
       "      <td>0:00</td>\n",
       "      <td>54</td>\n",
       "      <td>https://www.youtube.com/watch?v=xC3oIT5g_os</td>\n",
       "    </tr>\n",
       "    <tr>\n",
       "      <th>55</th>\n",
       "      <td>Synthetic</td>\n",
       "      <td>Original Tetris theme (Tetris Soundtrack)</td>\n",
       "      <td>NaN</td>\n",
       "      <td>NaN</td>\n",
       "      <td>0:00</td>\n",
       "      <td>0:00</td>\n",
       "      <td>50</td>\n",
       "      <td>https://www.youtube.com/watch?v=NmCCQxVBfyM</td>\n",
       "    </tr>\n",
       "    <tr>\n",
       "      <th>56</th>\n",
       "      <td>Synthetic</td>\n",
       "      <td>Donkey Kong Country OST (Super Nintendo) - Tra...</td>\n",
       "      <td>NaN</td>\n",
       "      <td>NaN</td>\n",
       "      <td>1:14</td>\n",
       "      <td>0:40</td>\n",
       "      <td>59</td>\n",
       "      <td>https://www.youtube.com/watch?v=HG8YrDF6cDk</td>\n",
       "    </tr>\n",
       "    <tr>\n",
       "      <th>57</th>\n",
       "      <td>Synthetic</td>\n",
       "      <td>Final Fantasy 7 Music - Aerith's Theme</td>\n",
       "      <td>Nobuo Uematsu</td>\n",
       "      <td>1997.0</td>\n",
       "      <td>0:14</td>\n",
       "      <td>0:14</td>\n",
       "      <td>57</td>\n",
       "      <td>https://www.youtube.com/watch?v=n0H6kTppjP8</td>\n",
       "    </tr>\n",
       "    <tr>\n",
       "      <th>58</th>\n",
       "      <td>Synthetic</td>\n",
       "      <td>Legend of Zelda, The (NES) Music - Overworld T...</td>\n",
       "      <td>Koji Kondo</td>\n",
       "      <td>NaN</td>\n",
       "      <td>0:06</td>\n",
       "      <td>0:00</td>\n",
       "      <td>50</td>\n",
       "      <td>https://www.youtube.com/watch?v=ncg72VswyTs</td>\n",
       "    </tr>\n",
       "    <tr>\n",
       "      <th>59</th>\n",
       "      <td>Synthetic</td>\n",
       "      <td>Castlevania 4 - Bloody Tears (Super Nintendo)</td>\n",
       "      <td>NaN</td>\n",
       "      <td>NaN</td>\n",
       "      <td>0:09</td>\n",
       "      <td>0:00</td>\n",
       "      <td>58</td>\n",
       "      <td>https://www.youtube.com/watch?v=QOWUSsFar-s</td>\n",
       "    </tr>\n",
       "    <tr>\n",
       "      <th>60</th>\n",
       "      <td>Synthetic</td>\n",
       "      <td>Populous (SNES/SFC) - BGM 01: Title Theme</td>\n",
       "      <td>Rob Hubbard, Kazuo Sawa</td>\n",
       "      <td>NaN</td>\n",
       "      <td>0:00</td>\n",
       "      <td>0:00</td>\n",
       "      <td>49</td>\n",
       "      <td>https://www.youtube.com/watch?v=_Oix8HQESBs</td>\n",
       "    </tr>\n",
       "    <tr>\n",
       "      <th>61</th>\n",
       "      <td>Synthetic</td>\n",
       "      <td>Sim City - Growth</td>\n",
       "      <td>NaN</td>\n",
       "      <td>NaN</td>\n",
       "      <td>0:00</td>\n",
       "      <td>0:00</td>\n",
       "      <td>32</td>\n",
       "      <td>https://www.youtube.com/watch?v=cwWrJg6OMs8</td>\n",
       "    </tr>\n",
       "    <tr>\n",
       "      <th>62</th>\n",
       "      <td>Synthetic</td>\n",
       "      <td>Sid Meier's Civilization 【SNES】 OST 06 City Menu</td>\n",
       "      <td>NaN</td>\n",
       "      <td>1991.0</td>\n",
       "      <td>0:06</td>\n",
       "      <td>0:06</td>\n",
       "      <td>60</td>\n",
       "      <td>https://www.youtube.com/watch?v=zFND5ln-06o</td>\n",
       "    </tr>\n",
       "    <tr>\n",
       "      <th>63</th>\n",
       "      <td>Synthetic</td>\n",
       "      <td>Shinobi 3 Return Of The Ninja Master OST- Japo...</td>\n",
       "      <td>NaN</td>\n",
       "      <td>NaN</td>\n",
       "      <td>0:20</td>\n",
       "      <td>0:00</td>\n",
       "      <td>44</td>\n",
       "      <td>https://www.youtube.com/watch?v=rVmaou-eQfY</td>\n",
       "    </tr>\n",
       "    <tr>\n",
       "      <th>64</th>\n",
       "      <td>Synthetic</td>\n",
       "      <td>Shinobi 3 Return Of The Ninja Master OST- Shin...</td>\n",
       "      <td>NaN</td>\n",
       "      <td>NaN</td>\n",
       "      <td>0:24</td>\n",
       "      <td>0:09</td>\n",
       "      <td>52</td>\n",
       "      <td>https://www.youtube.com/watch?v=A1jKza3O1y4</td>\n",
       "    </tr>\n",
       "    <tr>\n",
       "      <th>65</th>\n",
       "      <td>Synthetic</td>\n",
       "      <td>Shinobi 3 Return Of The Ninja Master OST- Idat...</td>\n",
       "      <td>NaN</td>\n",
       "      <td>NaN</td>\n",
       "      <td>0:06</td>\n",
       "      <td>0:00</td>\n",
       "      <td>61</td>\n",
       "      <td>https://www.youtube.com/watch?v=TFZQWCg99l4</td>\n",
       "    </tr>\n",
       "    <tr>\n",
       "      <th>66</th>\n",
       "      <td>Synthetic</td>\n",
       "      <td>Sonic The Hedgehog OST - Green Hill Zone</td>\n",
       "      <td>NaN</td>\n",
       "      <td>NaN</td>\n",
       "      <td>0:00</td>\n",
       "      <td>0:00</td>\n",
       "      <td>52</td>\n",
       "      <td>https://www.youtube.com/watch?v=G-i8HYi1QH0</td>\n",
       "    </tr>\n",
       "    <tr>\n",
       "      <th>67</th>\n",
       "      <td>Synthetic</td>\n",
       "      <td>Invincibility - Sonic the Hedgehog 2 [OST]</td>\n",
       "      <td>NaN</td>\n",
       "      <td>NaN</td>\n",
       "      <td>0:01</td>\n",
       "      <td>0:00</td>\n",
       "      <td>52</td>\n",
       "      <td>https://www.youtube.com/watch?v=UbobbsFpMR0</td>\n",
       "    </tr>\n",
       "    <tr>\n",
       "      <th>68</th>\n",
       "      <td>Synthetic</td>\n",
       "      <td>Mortal Kombat (Sega Genesis) - Opening Theme</td>\n",
       "      <td>NaN</td>\n",
       "      <td>NaN</td>\n",
       "      <td>0:21</td>\n",
       "      <td>0:00</td>\n",
       "      <td>48</td>\n",
       "      <td>https://www.youtube.com/watch?v=yVCoMrJwFZc</td>\n",
       "    </tr>\n",
       "    <tr>\n",
       "      <th>69</th>\n",
       "      <td>Synthetic</td>\n",
       "      <td>Street Fighter II: Champion Edition Arcade Mus...</td>\n",
       "      <td>NaN</td>\n",
       "      <td>NaN</td>\n",
       "      <td>0:00</td>\n",
       "      <td>0:00</td>\n",
       "      <td>55</td>\n",
       "      <td>https://www.youtube.com/watch?v=kZTFKSfKZ_Q</td>\n",
       "    </tr>\n",
       "    <tr>\n",
       "      <th>70</th>\n",
       "      <td>Synthetic</td>\n",
       "      <td>Aladdin Genesis Music Ending</td>\n",
       "      <td>NaN</td>\n",
       "      <td>NaN</td>\n",
       "      <td>0:35</td>\n",
       "      <td>0:00</td>\n",
       "      <td>65</td>\n",
       "      <td>https://www.youtube.com/watch?v=oaIXo6aaL-w&amp;t=35</td>\n",
       "    </tr>\n",
       "    <tr>\n",
       "      <th>71</th>\n",
       "      <td>Synthetic</td>\n",
       "      <td>Space Harrier Music - MAIN THEME</td>\n",
       "      <td>NaN</td>\n",
       "      <td>NaN</td>\n",
       "      <td>0:25</td>\n",
       "      <td>0:25</td>\n",
       "      <td>48</td>\n",
       "      <td>https://www.youtube.com/watch?v=-_Tam9lv1KQ</td>\n",
       "    </tr>\n",
       "    <tr>\n",
       "      <th>72</th>\n",
       "      <td>Synthetic</td>\n",
       "      <td>Streets Of Rage 1 OST- Stage 1</td>\n",
       "      <td>Yuzo Koshiro</td>\n",
       "      <td>1991.0</td>\n",
       "      <td>0:29</td>\n",
       "      <td>0:00</td>\n",
       "      <td>45</td>\n",
       "      <td>https://www.youtube.com/watch?v=tfiUfU18FmM</td>\n",
       "    </tr>\n",
       "    <tr>\n",
       "      <th>73</th>\n",
       "      <td>Synthetic</td>\n",
       "      <td>[Official] Celeste Original Soundtrack - 03 - ...</td>\n",
       "      <td>Lena Raine</td>\n",
       "      <td>NaN</td>\n",
       "      <td>2:13</td>\n",
       "      <td>2:13</td>\n",
       "      <td>50</td>\n",
       "      <td>https://www.youtube.com/watch?v=1rwAvUvvQzQ</td>\n",
       "    </tr>\n",
       "    <tr>\n",
       "      <th>74</th>\n",
       "      <td>Synthetic</td>\n",
       "      <td>Megalovania (Undertale)</td>\n",
       "      <td>Toby Fox</td>\n",
       "      <td>2015.0</td>\n",
       "      <td>0:16</td>\n",
       "      <td>0:08</td>\n",
       "      <td>56</td>\n",
       "      <td>https://www.youtube.com/watch?v=0FCvzsVlXpQ</td>\n",
       "    </tr>\n",
       "  </tbody>\n",
       "</table>\n",
       "</div>"
      ],
      "text/plain": [
       "      playlist                                              title  \\\n",
       "0       Lyrics                                     Make 'Em Laugh   \n",
       "1       Lyrics                                     Mister Sandman   \n",
       "2       Lyrics                                     Jailhouse Rock   \n",
       "3       Lyrics                                               Rain   \n",
       "4       Lyrics                                     Monday, Monday   \n",
       "5       Lyrics                      [I Can't Get No] Satisfaction   \n",
       "6       Lyrics                                      Mrs. Robinson   \n",
       "7       Lyrics                        Take Me Home, Country Roads   \n",
       "8       Lyrics                                    No Woman No Cry   \n",
       "9       Lyrics                                    Living Together   \n",
       "10      Lyrics                                   Hotel California   \n",
       "11      Lyrics                                     I Will Survive   \n",
       "12      Lyrics                                    Highway to Hell   \n",
       "13      Lyrics                 Another Brick In The Wall (Part 1)   \n",
       "14      Lyrics                                   It's Raining Men   \n",
       "15      Lyrics                                          Babooshka   \n",
       "16      Lyrics                           Why You Wanna Trip on Me   \n",
       "17      Lyrics                  Everybody Wants To Rule The World   \n",
       "18      Lyrics                                  Murder by Numbers   \n",
       "19      Lyrics                                      Material Girl   \n",
       "20      Lyrics                            Never Gonna Give You Up   \n",
       "21      Lyrics                                 Gangsta's Paradise   \n",
       "22      Lyrics                              I’ll Be There for You   \n",
       "23      Lyrics        Can’t Live With You, Can’t Live Without You   \n",
       "24      Lyrics                                              Creep   \n",
       "25  Orchestral        The Office (Main Theme) \"Tv Short Version\"    \n",
       "26  Orchestral           The Imperial March (Darth Vader's Theme)   \n",
       "27  Orchestral                         Game of Thrones Main Title   \n",
       "28  Orchestral                             The Pink Panther Theme   \n",
       "29  Orchestral                           Yakety Sax(1983 version)   \n",
       "30  Orchestral               Lux Aeterna from Requiem for a Dream   \n",
       "31  Orchestral                                     il porco rosso   \n",
       "32  Orchestral                 Another Brick In The Wall (Part 1)   \n",
       "33  Orchestral                            Kiki's Delivery Service   \n",
       "34  Orchestral                                        Waltz No. 2   \n",
       "35  Orchestral                                         The Moldau   \n",
       "36  Orchestral                        2001, l'odyssée de l’espace   \n",
       "37  Orchestral           The 4 Seasons, Op. 8/4, RV 297, \"Winter\"   \n",
       "38  Orchestral  Back To The Future (From \"Back To The Future\" ...   \n",
       "39  Orchestral    Main Title Terminator 2 Theme (Remastered 2017)   \n",
       "40  Orchestral                                      Hook prologue   \n",
       "41  Orchestral  Suite bergamasque, CD 82, L. 75: III. Clair de...   \n",
       "42  Orchestral                                    Gnossienne No.1   \n",
       "43  Orchestral                                   Moonlight Sonata   \n",
       "44  Orchestral        Star Trek: the Next Generation (Main Title)   \n",
       "45  Orchestral      Seinfeld Official Soundtrack (Seinfeld Theme)   \n",
       "46  Orchestral                                Dreaming of Bag End   \n",
       "47  Orchestral  My Name is Nobody - Il Mio Nome è Nessuno (Album)   \n",
       "48  Orchestral                                      Body and soul   \n",
       "49  Orchestral                                 Stairway To Heaven   \n",
       "50   Synthetic     Super Mario Bros (NES) Music - Overworld Theme   \n",
       "51   Synthetic   Super Mario Bros (NES) Music - Underground Theme   \n",
       "52   Synthetic            Super Mario Bros. 3 - Overworld 1 Theme   \n",
       "53   Synthetic              Super Mario Bros 3 - Underwater Theme   \n",
       "54   Synthetic  Super Mario 64 - Bob-Omb Battlefield (Extended...   \n",
       "55   Synthetic          Original Tetris theme (Tetris Soundtrack)   \n",
       "56   Synthetic  Donkey Kong Country OST (Super Nintendo) - Tra...   \n",
       "57   Synthetic             Final Fantasy 7 Music - Aerith's Theme   \n",
       "58   Synthetic  Legend of Zelda, The (NES) Music - Overworld T...   \n",
       "59   Synthetic      Castlevania 4 - Bloody Tears (Super Nintendo)   \n",
       "60   Synthetic          Populous (SNES/SFC) - BGM 01: Title Theme   \n",
       "61   Synthetic                                  Sim City - Growth   \n",
       "62   Synthetic   Sid Meier's Civilization 【SNES】 OST 06 City Menu   \n",
       "63   Synthetic  Shinobi 3 Return Of The Ninja Master OST- Japo...   \n",
       "64   Synthetic  Shinobi 3 Return Of The Ninja Master OST- Shin...   \n",
       "65   Synthetic  Shinobi 3 Return Of The Ninja Master OST- Idat...   \n",
       "66   Synthetic           Sonic The Hedgehog OST - Green Hill Zone   \n",
       "67   Synthetic         Invincibility - Sonic the Hedgehog 2 [OST]   \n",
       "68   Synthetic       Mortal Kombat (Sega Genesis) - Opening Theme   \n",
       "69   Synthetic  Street Fighter II: Champion Edition Arcade Mus...   \n",
       "70   Synthetic                       Aladdin Genesis Music Ending   \n",
       "71   Synthetic                   Space Harrier Music - MAIN THEME   \n",
       "72   Synthetic                     Streets Of Rage 1 OST- Stage 1   \n",
       "73   Synthetic  [Official] Celeste Original Soundtrack - 03 - ...   \n",
       "74   Synthetic                            Megalovania (Undertale)   \n",
       "\n",
       "                                 artist    date timestamp_8s timestamp_long  \\\n",
       "0                       Donald O'Connor  1952.0         0:04           0:00   \n",
       "1                        The Chordettes  1954.0         0:10           0:00   \n",
       "2                         Elvis Presley  1957.0         0:15           0:00   \n",
       "3                           The Beatles  1966.0         1:18           0:00   \n",
       "4                 The Mamas & The Papas  1966.0         1:13           0:29   \n",
       "5                    The Rolling Stones  1965.0         0:34           0:00   \n",
       "6                     Simon & Garfunkel  1967.0         0:41           1:45   \n",
       "7                           John Denver  1971.0         0:31           0:00   \n",
       "8                            Bob Marley  1974.0         0:20           0:24   \n",
       "9                              Bee Gees  1978.0         0:23           0:33   \n",
       "10                               Eagles  1977.0         1:50           0:52   \n",
       "11                        Gloria Gaynor  1978.0         1:04           0:06   \n",
       "12                                AC/DC  1979.0         0:52           0:17   \n",
       "13                           Pink Floyd  1979.0         0:55           0:14   \n",
       "14                    The Weather Girls  1983.0         0:57           0:28   \n",
       "15                            Kate Bush  1980.0         1:58           0:17   \n",
       "16                      Michael Jackson  1991.0         1:30           0:53   \n",
       "17                      Tears For Fears  1985.0         0:48           1:05   \n",
       "18                           The Police  1983.0         1:00           0:19   \n",
       "19                              Madonna  1985.0         0:57           0:25   \n",
       "20                          Rick Astley  1987.0         0:43           0:10   \n",
       "21                               Coolio  1995.0         1:00           0:11   \n",
       "22                       The Rembrandts  1995.0         0:31           0:00   \n",
       "23      Billy Newton-Davis, Céline Dion  1989.0         2:22           0:31   \n",
       "24                            Radiohead  1992.0         0:54           0:36   \n",
       "25                      The Office Band  2011.0         0:06           0:00   \n",
       "26      John Williams & London Symphony  1980.0         0:09           0:00   \n",
       "27                        Ramin Djawadi  2012.0         0:09           0:42   \n",
       "28        Henry Mancini & His Orchestra  1975.0         0:12           0:00   \n",
       "29             Ronnie Aldrich Orchestra  1983.0         0:06           0:50   \n",
       "30                        Clint Mansell     NaN         1:22           1:07   \n",
       "31                         Joe Hisaishi  1998.0         0:23           0:38   \n",
       "32                           Pink Floyd  1979.0         1:37           1:24   \n",
       "33                         Joe Hisaishi     NaN         0:12           0:00   \n",
       "34                  Dmitri Shostakovich  1938.0         0:42           0:00   \n",
       "35                      Bedrich Smetana     NaN         0:00           0:00   \n",
       "36                                  NaN  1968.0         0:09           0:19   \n",
       "37                              Vivaldi     NaN         1:14           1:06   \n",
       "38               The Outatime Orchestra  1985.0         2:03           0:00   \n",
       "39                          Brad Fiedel  1991.0         0:59           0:51   \n",
       "40                        John Williams  1991.0         0:14           0:00   \n",
       "41                              Debussy     NaN         0:02           0:02   \n",
       "42                           Erik Satie     NaN         0:24           0:00   \n",
       "43                 Ludwig van Beethoven     NaN         8:06           8:06   \n",
       "44  Jerry Goldsmith & Alexander Courage  1990.0         0:51           0:51   \n",
       "45                       Jonathan Wolff     NaN         0:29           0:00   \n",
       "46                         Howard Shore  2012.0         0:33           0:00   \n",
       "47                      Ennio Morricone     NaN         1:25           0:03   \n",
       "48                      Coleman Hawkins     NaN         0:14           0:00   \n",
       "49                         Led Zeppelin     NaN         0:00           0:00   \n",
       "50                                  NaN     NaN         0:00           0:00   \n",
       "51                                  NaN     NaN         0:00           0:00   \n",
       "52                                  NaN     NaN         0:04           0:00   \n",
       "53                                  NaN     NaN         0:04           0:00   \n",
       "54                                  NaN     NaN         0:04           0:00   \n",
       "55                                  NaN     NaN         0:00           0:00   \n",
       "56                                  NaN     NaN         1:14           0:40   \n",
       "57                        Nobuo Uematsu  1997.0         0:14           0:14   \n",
       "58                           Koji Kondo     NaN         0:06           0:00   \n",
       "59                                  NaN     NaN         0:09           0:00   \n",
       "60              Rob Hubbard, Kazuo Sawa     NaN         0:00           0:00   \n",
       "61                                  NaN     NaN         0:00           0:00   \n",
       "62                                  NaN  1991.0         0:06           0:06   \n",
       "63                                  NaN     NaN         0:20           0:00   \n",
       "64                                  NaN     NaN         0:24           0:09   \n",
       "65                                  NaN     NaN         0:06           0:00   \n",
       "66                                  NaN     NaN         0:00           0:00   \n",
       "67                                  NaN     NaN         0:01           0:00   \n",
       "68                                  NaN     NaN         0:21           0:00   \n",
       "69                                  NaN     NaN         0:00           0:00   \n",
       "70                                  NaN     NaN         0:35           0:00   \n",
       "71                                  NaN     NaN         0:25           0:25   \n",
       "72                         Yuzo Koshiro  1991.0         0:29           0:00   \n",
       "73                           Lena Raine     NaN         2:13           2:13   \n",
       "74                             Toby Fox  2015.0         0:16           0:08   \n",
       "\n",
       "    duration                                               url  \n",
       "0         65       https://www.youtube.com/watch?v=ieU4Am0t0tc  \n",
       "1         46       https://www.youtube.com/watch?v=PKnPrbPK5vA  \n",
       "2         52  https://www.youtube.com/watch?v=Hi2hpTXeHTI?t=15  \n",
       "3         48       https://www.youtube.com/watch?v=cK5G8fPmWeA  \n",
       "4         53  https://www.youtube.com/watch?v=sWGh92O9kxU&t=73  \n",
       "5         67       https://www.youtube.com/watch?v=MSSxnv1_J2g  \n",
       "6         53       https://www.youtube.com/watch?v=9C1BCAgu2I8  \n",
       "7         54       https://www.youtube.com/watch?v=1vrEljMfXYo  \n",
       "8         64       https://www.youtube.com/watch?v=pHlSE9j5FGY  \n",
       "9         71       https://www.youtube.com/watch?v=1U9noJETLU0  \n",
       "10        78       https://www.youtube.com/watch?v=BciS5krYL80  \n",
       "11        68       https://www.youtube.com/watch?v=6dYWe1c3OyU  \n",
       "12        53       https://www.youtube.com/watch?v=l482T0yNkeo  \n",
       "13        60       https://www.youtube.com/watch?v=-cfJqYtmmqA  \n",
       "14        62       https://www.youtube.com/watch?v=l5aZJBLAu1E  \n",
       "15        55       https://www.youtube.com/watch?v=3NMhpI2-pLU  \n",
       "16        53       https://www.youtube.com/watch?v=C2FUzoy-UCg  \n",
       "17        58       https://www.youtube.com/watch?v=znDgBy2mHbc  \n",
       "18        60       https://www.youtube.com/watch?v=tUq9fURN2VQ  \n",
       "19        50       https://www.youtube.com/watch?v=JO9h1fQU_-k  \n",
       "20        50       https://www.youtube.com/watch?v=dQw4w9WgXcQ  \n",
       "21        61       https://www.youtube.com/watch?v=Tw0_qHNRAEA  \n",
       "22        47       https://www.youtube.com/watch?v=RIjTq_OdFvo  \n",
       "23        60       https://www.youtube.com/watch?v=bY8PUuZR4tw  \n",
       "24        49       https://www.youtube.com/watch?v=XFkzRNyygfk  \n",
       "25        34       https://www.youtube.com/watch?v=3cMctz6KNsg  \n",
       "26        42       https://www.youtube.com/watch?v=s3SZ5sIMY6o  \n",
       "27        56       https://www.youtube.com/watch?v=uXZd_W5B7N0  \n",
       "28        45       https://www.youtube.com/watch?v=VyZiIuMufTA  \n",
       "29        44       https://www.youtube.com/watch?v=mvsR9KXQknE  \n",
       "30        60       https://www.youtube.com/watch?v=0-jVz7Dou4Y  \n",
       "31        66       https://www.youtube.com/watch?v=iKMHCmDdJ2U  \n",
       "32        45       https://www.youtube.com/watch?v=-cfJqYtmmqA  \n",
       "33        48       https://www.youtube.com/watch?v=HPg_auEBL1Y  \n",
       "34        41  https://www.youtube.com/watch?v=mmCnQDUSO4I&t=42  \n",
       "35        54       https://www.youtube.com/watch?v=pT2bgYo9RT0  \n",
       "36        61       https://www.youtube.com/watch?v=5HjTXZPnYso  \n",
       "37        60       https://www.youtube.com/watch?v=_FeJFs6LJjU  \n",
       "38        48       https://www.youtube.com/watch?v=LpbHlXPmmcE  \n",
       "39        54       https://www.youtube.com/watch?v=CnQm2_cAZvo  \n",
       "40        44       https://www.youtube.com/watch?v=OwpOeeQJXGI  \n",
       "41        50       https://www.youtube.com/watch?v=JVmwLJeeOy4  \n",
       "42        63       https://www.youtube.com/watch?v=t27rzTkFKmU  \n",
       "43        47       https://www.youtube.com/watch?v=4Tr0otuiQuU  \n",
       "44        56       https://www.youtube.com/watch?v=yweIpSWhyRc  \n",
       "45        52       https://www.youtube.com/watch?v=RWak0i_iqnM  \n",
       "46        52       https://www.youtube.com/watch?v=h55ROrO3UHc  \n",
       "47        53       https://www.youtube.com/watch?v=duF1OQho1gc  \n",
       "48        59       https://www.youtube.com/watch?v=Pkvju_DlP8A  \n",
       "49        52       https://www.youtube.com/watch?v=QkF3oxziUI4  \n",
       "50        59       https://www.youtube.com/watch?v=iy3qq7zc4EY  \n",
       "51        49       https://www.youtube.com/watch?v=UOwyFPgjPQ4  \n",
       "52        54       https://www.youtube.com/watch?v=oZszAppxXoo  \n",
       "53        46       https://www.youtube.com/watch?v=JGpOPWM6uzE  \n",
       "54        54       https://www.youtube.com/watch?v=xC3oIT5g_os  \n",
       "55        50       https://www.youtube.com/watch?v=NmCCQxVBfyM  \n",
       "56        59       https://www.youtube.com/watch?v=HG8YrDF6cDk  \n",
       "57        57       https://www.youtube.com/watch?v=n0H6kTppjP8  \n",
       "58        50       https://www.youtube.com/watch?v=ncg72VswyTs  \n",
       "59        58       https://www.youtube.com/watch?v=QOWUSsFar-s  \n",
       "60        49       https://www.youtube.com/watch?v=_Oix8HQESBs  \n",
       "61        32       https://www.youtube.com/watch?v=cwWrJg6OMs8  \n",
       "62        60       https://www.youtube.com/watch?v=zFND5ln-06o  \n",
       "63        44       https://www.youtube.com/watch?v=rVmaou-eQfY  \n",
       "64        52       https://www.youtube.com/watch?v=A1jKza3O1y4  \n",
       "65        61       https://www.youtube.com/watch?v=TFZQWCg99l4  \n",
       "66        52       https://www.youtube.com/watch?v=G-i8HYi1QH0  \n",
       "67        52       https://www.youtube.com/watch?v=UbobbsFpMR0  \n",
       "68        48       https://www.youtube.com/watch?v=yVCoMrJwFZc  \n",
       "69        55       https://www.youtube.com/watch?v=kZTFKSfKZ_Q  \n",
       "70        65  https://www.youtube.com/watch?v=oaIXo6aaL-w&t=35  \n",
       "71        48       https://www.youtube.com/watch?v=-_Tam9lv1KQ  \n",
       "72        45       https://www.youtube.com/watch?v=tfiUfU18FmM  \n",
       "73        50       https://www.youtube.com/watch?v=1rwAvUvvQzQ  \n",
       "74        56       https://www.youtube.com/watch?v=0FCvzsVlXpQ  "
      ]
     },
     "execution_count": 3,
     "metadata": {},
     "output_type": "execute_result"
    }
   ],
   "source": [
    "# open csv file \n",
    "songsDf = pd.read_csv('/home/maellef/git/MuteMusic/MuteMusic_songs_data.csv',sep=';')\n",
    "pd.set_option('display.max_rows', None)\n",
    "songsDf\n"
   ]
  },
  {
   "cell_type": "code",
   "execution_count": null,
   "id": "a3568d22",
   "metadata": {},
   "outputs": [
    {
     "name": "stdout",
     "output_type": "stream",
     "text": [
      "Downloading long track : Make 'Em Laugh https://www.youtube.com/watch?v=ieU4Am0t0tc\n",
      "[youtube] Extracting URL: https://www.youtube.com/watch?v=ieU4Am0t0tc\n",
      "[youtube] ieU4Am0t0tc: Downloading webpage\n",
      "[youtube] ieU4Am0t0tc: Downloading ios player API JSON\n",
      "[youtube] ieU4Am0t0tc: Downloading android player API JSON\n",
      "[youtube] ieU4Am0t0tc: Downloading m3u8 information\n",
      "[info] ieU4Am0t0tc: Downloading 1 format(s): 251\n",
      "[info] ieU4Am0t0tc: Downloading 1 time ranges: 0.0-65.0\n",
      "[download] Destination: ./test/StimuliFinal/long/Lyrics/Make 'Em Laugh [ieU4Am0t0tc].webm\n"
     ]
    },
    {
     "name": "stderr",
     "output_type": "stream",
     "text": [
      "Input #0, matroska,webm, from 'https://rr2---sn-gpn9-t0as.googlevideo.com/videoplayback?expire=1697588346&ei=GtAuZc2CIY_y8wSj45zwBg&ip=206.167.239.2&id=o-ABIDFmtYIxMotdt6J8be_1ioyxSF70i8vI7keJlWYZvV&itag=251&source=youtube&requiressl=yes&mh=3L&mm=31%2C29&mn=sn-gpn9-t0as%2Csn-t0a7lnee&ms=au%2Crdu&mv=m&mvi=2&pcm2cms=yes&pl=24&gcr=ca&initcwndbps=1088750&spc=UWF9fx35f5qZf6IO51Hk1HGfOxo99SA&vprv=1&svpuc=1&mime=audio%2Fwebm&gir=yes&clen=2614260&dur=198.081&lmt=1573985142143202&mt=1697566143&fvip=1&keepalive=yes&fexp=24007246&beids=24350018&c=ANDROID&txp=2301222&sparams=expire%2Cei%2Cip%2Cid%2Citag%2Csource%2Crequiressl%2Cgcr%2Cspc%2Cvprv%2Csvpuc%2Cmime%2Cgir%2Cclen%2Cdur%2Clmt&sig=AGM4YrMwRQIhAKAAM4WlusxV8huhp-7HYYQNt189Xw-CYTmC5Un9AfS7AiBXfnJmaX5504VRJq0xE0m3zvH4bmRxHcLIyKdaNKR8Bg%3D%3D&lsparams=mh%2Cmm%2Cmn%2Cms%2Cmv%2Cmvi%2Cpcm2cms%2Cpl%2Cinitcwndbps&lsig=AK1ks_kwRQIgaVYU1G9dfmarViN74j5a3h6Qo-gGi-ZIMuNZ4xbL9c4CIQCkUT75A-OyxHZ70R0g28doPld-yNjRI1HqGcVtdyTlaw%3D%3D':\n",
      "  Metadata:\n",
      "    encoder         : google/video-file\n",
      "  Duration: 00:03:18.08, start: -0.007000, bitrate: 105 kb/s\n",
      "  Stream #0:0(eng): Audio: opus, 48000 Hz, stereo, fltp (default)\n",
      "Stream mapping:\n",
      "  Stream #0:0 -> #0:0 (opus (native) -> opus (libopus))\n",
      "Press [q] to stop, [?] for help\n",
      "[libopus @ 0x55ce7b491840] No bit rate set. Defaulting to 96000 bps.\n",
      "Output #0, webm, to 'file:./test/StimuliFinal/long/Lyrics/Make 'Em Laugh [ieU4Am0t0tc].webm.part':\n",
      "  Metadata:\n",
      "    encoder         : Lavf58.76.100\n",
      "  Stream #0:0(eng): Audio: opus, 48000 Hz, stereo, flt, 96 kb/s (default)\n",
      "    Metadata:\n",
      "      encoder         : Lavc58.134.100 libopus\n",
      "size=     256kB time=00:00:50.04 bitrate=  41.9kbits/s speed=23.3x    \r"
     ]
    },
    {
     "name": "stdout",
     "output_type": "stream",
     "text": [
      "[download] 100% of  619.38KiB in 00:00:02 at 229.06KiB/s\n",
      "[ExtractAudio] Destination: ./test/StimuliFinal/long/Lyrics/Make 'Em Laugh [ieU4Am0t0tc].wav\n",
      "Deleting original file ./test/StimuliFinal/long/Lyrics/Make 'Em Laugh [ieU4Am0t0tc].webm (pass -k to keep)\n"
     ]
    },
    {
     "name": "stderr",
     "output_type": "stream",
     "text": [
      "size=     619kB time=00:01:05.00 bitrate=  78.1kbits/s speed=25.5x    \n",
      "video:0kB audio:596kB subtitle:0kB other streams:0kB global headers:0kB muxing overhead: 3.879075%\n"
     ]
    },
    {
     "name": "stdout",
     "output_type": "stream",
     "text": [
      "Downloading long track : Mister Sandman https://www.youtube.com/watch?v=PKnPrbPK5vA\n",
      "[youtube] Extracting URL: https://www.youtube.com/watch?v=PKnPrbPK5vA\n",
      "[youtube] PKnPrbPK5vA: Downloading webpage\n",
      "[youtube] PKnPrbPK5vA: Downloading ios player API JSON\n",
      "[youtube] PKnPrbPK5vA: Downloading android player API JSON\n",
      "[youtube] PKnPrbPK5vA: Downloading m3u8 information\n",
      "[info] PKnPrbPK5vA: Downloading 1 format(s): 251\n",
      "[info] PKnPrbPK5vA: Downloading 1 time ranges: 0.0-46.0\n",
      "[download] Destination: ./test/StimuliFinal/long/Lyrics/Mister Sandman [PKnPrbPK5vA].webm\n"
     ]
    },
    {
     "name": "stderr",
     "output_type": "stream",
     "text": [
      "Input #0, matroska,webm, from 'https://rr3---sn-gpn9-t0as.googlevideo.com/videoplayback?expire=1697588351&ei=H9AuZYa1A_CI_9EPpp24sAI&ip=206.167.239.2&id=o-AIfzEYT9uYcEYYs1NAbZfMCv8uaeUaAKJabcq5CKiLCN&itag=251&source=youtube&requiressl=yes&mh=4o&mm=31%2C29&mn=sn-gpn9-t0as%2Csn-t0a7sn7d&ms=au%2Crdu&mv=m&mvi=3&pl=24&gcr=ca&initcwndbps=1088750&spc=UWF9fxjeBA4N7G1eVT8T2DfAKjS72hw&vprv=1&svpuc=1&mime=audio%2Fwebm&gir=yes&clen=1913875&dur=146.021&lmt=1604170192890941&mt=1697566143&fvip=3&keepalive=yes&fexp=24007246&beids=24350018&c=ANDROID&txp=5432434&sparams=expire%2Cei%2Cip%2Cid%2Citag%2Csource%2Crequiressl%2Cgcr%2Cspc%2Cvprv%2Csvpuc%2Cmime%2Cgir%2Cclen%2Cdur%2Clmt&sig=AGM4YrMwRQIgfqQyFFP7sjy7H_Gp7d3vA7GRjPhxQjesIvgsI6l-e9kCIQCUbiBe9LY2h9GX5qlXuFx8zwTiBw_l6qd1T9-sbPQtaQ%3D%3D&lsparams=mh%2Cmm%2Cmn%2Cms%2Cmv%2Cmvi%2Cpl%2Cinitcwndbps&lsig=AK1ks_kwRgIhAL0cfmYAFTb_D5QXbp_TlADOGzmEac_P7XR28GVIYsYVAiEAtAHqhs2JGSkYZKk33mHjyM1IboS-N0oZOosoWJHU0tQ%3D':\n",
      "  Metadata:\n",
      "    encoder         : google/video-file\n",
      "  Duration: 00:02:26.02, start: -0.007000, bitrate: 104 kb/s\n",
      "  Stream #0:0(eng): Audio: opus, 48000 Hz, stereo, fltp (default)\n",
      "Stream mapping:\n",
      "  Stream #0:0 -> #0:0 (opus (native) -> opus (libopus))\n",
      "Press [q] to stop, [?] for help\n",
      "[libopus @ 0x556d8f9404c0] No bit rate set. Defaulting to 96000 bps.\n",
      "Output #0, webm, to 'file:./test/StimuliFinal/long/Lyrics/Mister Sandman [PKnPrbPK5vA].webm.part':\n",
      "  Metadata:\n",
      "    encoder         : Lavf58.76.100\n",
      "  Stream #0:0(eng): Audio: opus, 48000 Hz, stereo, flt, 96 kb/s (default)\n",
      "    Metadata:\n",
      "      encoder         : Lavc58.134.100 libopus\n",
      "size=     256kB time=00:00:34.14 bitrate=  61.4kbits/s speed=23.3x    \r"
     ]
    },
    {
     "name": "stdout",
     "output_type": "stream",
     "text": [
      "[download] 100% of  454.56KiB in 00:00:01 at 234.77KiB/s\n",
      "[ExtractAudio] Destination: ./test/StimuliFinal/long/Lyrics/Mister Sandman [PKnPrbPK5vA].wav\n",
      "Deleting original file ./test/StimuliFinal/long/Lyrics/Mister Sandman [PKnPrbPK5vA].webm (pass -k to keep)\n"
     ]
    },
    {
     "name": "stderr",
     "output_type": "stream",
     "text": [
      "size=     455kB time=00:00:46.00 bitrate=  80.9kbits/s speed=  26x    \n",
      "video:0kB audio:438kB subtitle:0kB other streams:0kB global headers:0kB muxing overhead: 3.775419%\n"
     ]
    },
    {
     "name": "stdout",
     "output_type": "stream",
     "text": [
      "Downloading long track : Jailhouse Rock https://www.youtube.com/watch?v=Hi2hpTXeHTI?t=15\n",
      "[youtube] Extracting URL: https://www.youtube.com/watch?v=Hi2hpTXeHTI?t=15\n",
      "[youtube] Hi2hpTXeHTI: Downloading webpage\n",
      "[youtube] Hi2hpTXeHTI: Downloading ios player API JSON\n",
      "[youtube] Hi2hpTXeHTI: Downloading android player API JSON\n",
      "[youtube] Hi2hpTXeHTI: Downloading m3u8 information\n",
      "[info] Hi2hpTXeHTI: Downloading 1 format(s): 251\n",
      "[info] Hi2hpTXeHTI: Downloading 1 time ranges: 0.0-52.0\n",
      "[download] Destination: ./test/StimuliFinal/long/Lyrics/Elvis Presley - Jailhouse Rock (Official Lyric Video) [Hi2hpTXeHTI].webm\n"
     ]
    },
    {
     "name": "stderr",
     "output_type": "stream",
     "text": [
      "Input #0, matroska,webm, from 'https://rr3---sn-gpn9-t0as.googlevideo.com/videoplayback?expire=1697588355&ei=I9AuZb3LDcKm_9EP6pep0Aw&ip=206.167.239.2&id=o-ABJCMuZqK9tVk3FLOddVL-3jmaLNt9DfG6gpF8W_7SP5&itag=251&source=youtube&requiressl=yes&mh=0s&mm=31%2C29&mn=sn-gpn9-t0as%2Csn-t0a7sn7d&ms=au%2Crdu&mv=m&mvi=3&pl=24&gcr=ca&initcwndbps=1088750&spc=UWF9f5fx932wRag5SUfPF8GrBd1KPpU&vprv=1&svpuc=1&mime=audio%2Fwebm&gir=yes&clen=1996512&dur=154.261&lmt=1656107047225993&mt=1697566143&fvip=4&keepalive=yes&fexp=24007246&beids=24350017&c=ANDROID&txp=5318224&sparams=expire%2Cei%2Cip%2Cid%2Citag%2Csource%2Crequiressl%2Cgcr%2Cspc%2Cvprv%2Csvpuc%2Cmime%2Cgir%2Cclen%2Cdur%2Clmt&sig=AGM4YrMwRAIgZ9QxdQKv9Kexm-PtSelUQMz4v7rUvHaY5FVL0YdetZYCIDIKTe5TrrKgdOOZdVeDSGENYY-rXsF9djeNRhp9pnla&lsparams=mh%2Cmm%2Cmn%2Cms%2Cmv%2Cmvi%2Cpl%2Cinitcwndbps&lsig=AK1ks_kwRAIgI7OrXpGYatxwmj8DuiZkl3rKVAwNdWq5LRAkh4yyC2ACIBp3oPbyy54JxMBqPoM_mz15vLwlbKr-y3o0Gk9GDQOK':\n",
      "  Metadata:\n",
      "    encoder         : google/video-file\n",
      "  Duration: 00:02:34.26, start: -0.007000, bitrate: 103 kb/s\n",
      "  Stream #0:0(eng): Audio: opus, 48000 Hz, stereo, fltp (default)\n",
      "Stream mapping:\n",
      "  Stream #0:0 -> #0:0 (opus (native) -> opus (libopus))\n",
      "Press [q] to stop, [?] for help\n",
      "[libopus @ 0x558123055400] No bit rate set. Defaulting to 96000 bps.\n",
      "Output #0, webm, to 'file:./test/StimuliFinal/long/Lyrics/Elvis Presley - Jailhouse Rock (Official Lyric Video) [Hi2hpTXeHTI].webm.part':\n",
      "  Metadata:\n",
      "    encoder         : Lavf58.76.100\n",
      "  Stream #0:0(eng): Audio: opus, 48000 Hz, stereo, flt, 96 kb/s (default)\n",
      "    Metadata:\n",
      "      encoder         : Lavc58.134.100 libopus\n",
      "size=     256kB time=00:00:40.94 bitrate=  51.2kbits/s speed=  12x    \r"
     ]
    },
    {
     "name": "stdout",
     "output_type": "stream",
     "text": [
      "[download] 100% of  501.73KiB in 00:00:03 at 129.78KiB/s\n",
      "[ExtractAudio] Destination: ./test/StimuliFinal/long/Lyrics/Elvis Presley - Jailhouse Rock (Official Lyric Video) [Hi2hpTXeHTI].wav\n",
      "Deleting original file ./test/StimuliFinal/long/Lyrics/Elvis Presley - Jailhouse Rock (Official Lyric Video) [Hi2hpTXeHTI].webm (pass -k to keep)\n"
     ]
    },
    {
     "name": "stderr",
     "output_type": "stream",
     "text": [
      "size=     502kB time=00:00:52.00 bitrate=  79.0kbits/s speed=13.9x    \n",
      "video:0kB audio:483kB subtitle:0kB other streams:0kB global headers:0kB muxing overhead: 3.856766%\n"
     ]
    },
    {
     "name": "stdout",
     "output_type": "stream",
     "text": [
      "Downloading long track : Rain https://www.youtube.com/watch?v=cK5G8fPmWeA\n",
      "[youtube] Extracting URL: https://www.youtube.com/watch?v=cK5G8fPmWeA\n",
      "[youtube] cK5G8fPmWeA: Downloading webpage\n",
      "[youtube] cK5G8fPmWeA: Downloading ios player API JSON\n",
      "[youtube] cK5G8fPmWeA: Downloading android player API JSON\n",
      "[youtube] cK5G8fPmWeA: Downloading m3u8 information\n",
      "[info] cK5G8fPmWeA: Downloading 1 format(s): 251\n",
      "[info] cK5G8fPmWeA: Downloading 1 time ranges: 0.0-48.0\n",
      "[download] Destination: ./test/StimuliFinal/long/Lyrics/The Beatles - Rain [cK5G8fPmWeA].webm\n"
     ]
    },
    {
     "name": "stderr",
     "output_type": "stream",
     "text": [
      "Input #0, matroska,webm, from 'https://rr2---sn-gpn9-t0as.googlevideo.com/videoplayback?expire=1697588360&ei=KNAuZeL_Lor48gTrh6nACA&ip=206.167.239.2&id=o-ACuIBU2qKgY0Hix7rdxMNHX5KXxMvLfktQcu3E5_hlgh&itag=251&source=youtube&requiressl=yes&mh=Sz&mm=31%2C29&mn=sn-gpn9-t0as%2Csn-t0a7sn7d&ms=au%2Crdu&mv=m&mvi=2&pcm2cms=yes&pl=24&gcr=ca&initcwndbps=1092500&spc=UWF9fx_-oX1SxuflcmkGrJ6rrTQWakk&vprv=1&svpuc=1&mime=audio%2Fwebm&gir=yes&clen=2968547&dur=188.201&lmt=1575213365560991&mt=1697566622&fvip=3&keepalive=yes&fexp=24007246&beids=24350018&c=ANDROID&txp=5531432&sparams=expire%2Cei%2Cip%2Cid%2Citag%2Csource%2Crequiressl%2Cgcr%2Cspc%2Cvprv%2Csvpuc%2Cmime%2Cgir%2Cclen%2Cdur%2Clmt&sig=AGM4YrMwRAIgEQH7zyO9wcEqaXnIQIJBUzB5e4ogqkTgeI0hNcOdh78CIDfQ77CsytHZ-DJbyddl4TMhkqqSkozNZ0McrpCi9muZ&lsparams=mh%2Cmm%2Cmn%2Cms%2Cmv%2Cmvi%2Cpcm2cms%2Cpl%2Cinitcwndbps&lsig=AK1ks_kwRgIhAIfeFfpDXHHD8m_Xsx4zolMYcPx2QQIytJZcXgZ_cmoDAiEAw1CuCh6OdKDMyhy3ok40RnDy7vuXnNUeXjrFlJEcC8w%3D':\n",
      "  Metadata:\n",
      "    encoder         : google/video-file\n",
      "  Duration: 00:03:08.20, start: -0.007000, bitrate: 126 kb/s\n",
      "  Stream #0:0(eng): Audio: opus, 48000 Hz, stereo, fltp (default)\n",
      "Stream mapping:\n",
      "  Stream #0:0 -> #0:0 (opus (native) -> opus (libopus))\n",
      "Press [q] to stop, [?] for help\n",
      "[libopus @ 0x5566c99c09c0] No bit rate set. Defaulting to 96000 bps.\n",
      "Output #0, webm, to 'file:./test/StimuliFinal/long/Lyrics/The Beatles - Rain [cK5G8fPmWeA].webm.part':\n",
      "  Metadata:\n",
      "    encoder         : Lavf58.76.100\n",
      "  Stream #0:0(eng): Audio: opus, 48000 Hz, stereo, flt, 96 kb/s (default)\n",
      "    Metadata:\n",
      "      encoder         : Lavc58.134.100 libopus\n",
      "size=     256kB time=00:00:37.92 bitrate=  55.3kbits/s speed=37.7x    \r"
     ]
    },
    {
     "name": "stdout",
     "output_type": "stream",
     "text": [
      "[download] 100% of  556.16KiB in 00:00:01 at 398.23KiB/s\n",
      "[ExtractAudio] Destination: ./test/StimuliFinal/long/Lyrics/The Beatles - Rain [cK5G8fPmWeA].wav\n",
      "Deleting original file ./test/StimuliFinal/long/Lyrics/The Beatles - Rain [cK5G8fPmWeA].webm (pass -k to keep)\n"
     ]
    },
    {
     "name": "stderr",
     "output_type": "stream",
     "text": [
      "size=     556kB time=00:00:48.00 bitrate=  94.9kbits/s speed=37.9x    \n",
      "video:0kB audio:539kB subtitle:0kB other streams:0kB global headers:0kB muxing overhead: 3.194564%\n"
     ]
    },
    {
     "name": "stdout",
     "output_type": "stream",
     "text": [
      "Downloading long track : Monday, Monday https://www.youtube.com/watch?v=sWGh92O9kxU&t=73\n",
      "[youtube] Extracting URL: https://www.youtube.com/watch?v=sWGh92O9kxU&t=73\n",
      "[youtube] sWGh92O9kxU: Downloading webpage\n",
      "[youtube] sWGh92O9kxU: Downloading ios player API JSON\n",
      "[youtube] sWGh92O9kxU: Downloading android player API JSON\n",
      "[youtube] sWGh92O9kxU: Downloading m3u8 information\n",
      "[info] sWGh92O9kxU: Downloading 1 format(s): 251\n",
      "[info] sWGh92O9kxU: Downloading 1 time ranges: 29.0-82.0\n",
      "[download] Destination: ./test/StimuliFinal/long/Lyrics/Monday, Monday [sWGh92O9kxU].webm\n"
     ]
    },
    {
     "name": "stderr",
     "output_type": "stream",
     "text": [
      "Input #0, matroska,webm, from 'https://rr4---sn-gpn9-t0as.googlevideo.com/videoplayback?expire=1697588363&ei=K9AuZeX9M4yi_9EP27OcgA0&ip=206.167.239.2&id=o-AOafyaHltZt5O8BXTSDSmYXQBWUSW6jt1y1ZbXFAALwj&itag=251&source=youtube&requiressl=yes&mh=7u&mm=31%2C29&mn=sn-gpn9-t0as%2Csn-t0a7sn7d&ms=au%2Crdu&mv=m&mvi=4&pl=24&gcr=ca&initcwndbps=1088750&spc=UWF9fwmXpZB1CZ0PjotcuWqFRDg1oZA&vprv=1&svpuc=1&mime=audio%2Fwebm&gir=yes&clen=3400109&dur=208.301&lmt=1565947262493890&mt=1697566143&fvip=5&keepalive=yes&fexp=24007246&beids=24350018&c=ANDROID&txp=1311222&sparams=expire%2Cei%2Cip%2Cid%2Citag%2Csource%2Crequiressl%2Cgcr%2Cspc%2Cvprv%2Csvpuc%2Cmime%2Cgir%2Cclen%2Cdur%2Clmt&sig=AGM4YrMwRQIgB9w5WVnrBtzS7kO1dCB3jIji7_jK1Yys-9g15QzXM_QCIQDSrf5T9jIWml-kMuaNsOjlctuEwMmGNyKnf-jKzuPbgQ%3D%3D&lsparams=mh%2Cmm%2Cmn%2Cms%2Cmv%2Cmvi%2Cpl%2Cinitcwndbps&lsig=AK1ks_kwRQIgZdSSuhzDBt9mlh5EmGSjkCq5KjR5ILBdslPOUtKfuYUCIQC6la9QQ_ou-Gx7hkwJhCQDQEUpxDle-BdpjUjBkpYHVQ%3D%3D':\n",
      "  Metadata:\n",
      "    encoder         : google/video-file\n",
      "  Duration: 00:03:28.30, start: -0.007000, bitrate: 130 kb/s\n",
      "  Stream #0:0(eng): Audio: opus, 48000 Hz, stereo, fltp (default)\n",
      "Stream mapping:\n",
      "  Stream #0:0 -> #0:0 (opus (native) -> opus (libopus))\n",
      "Press [q] to stop, [?] for help\n",
      "[libopus @ 0x55c580bb5f80] No bit rate set. Defaulting to 96000 bps.\n",
      "Output #0, webm, to 'file:./test/StimuliFinal/long/Lyrics/Monday, Monday [sWGh92O9kxU].webm.part':\n",
      "  Metadata:\n",
      "    encoder         : Lavf58.76.100\n",
      "  Stream #0:0(eng): Audio: opus, 48000 Hz, stereo, flt, 96 kb/s (default)\n",
      "    Metadata:\n",
      "      encoder         : Lavc58.134.100 libopus\n",
      "size=     512kB time=00:00:47.69 bitrate=  87.9kbits/s speed=10.6x    \r"
     ]
    },
    {
     "name": "stdout",
     "output_type": "stream",
     "text": [
      "[download] 100% of  654.48KiB in 00:00:06 at 107.00KiB/s\n",
      "[ExtractAudio] Destination: ./test/StimuliFinal/long/Lyrics/Monday, Monday [sWGh92O9kxU].wav\n",
      "Deleting original file ./test/StimuliFinal/long/Lyrics/Monday, Monday [sWGh92O9kxU].webm (pass -k to keep)\n"
     ]
    },
    {
     "name": "stderr",
     "output_type": "stream",
     "text": [
      "size=     654kB time=00:00:52.99 bitrate= 101.2kbits/s speed=10.6x    \n",
      "video:0kB audio:635kB subtitle:0kB other streams:0kB global headers:0kB muxing overhead: 2.986242%\n"
     ]
    },
    {
     "name": "stdout",
     "output_type": "stream",
     "text": [
      "Downloading long track : [I Can't Get No] Satisfaction https://www.youtube.com/watch?v=MSSxnv1_J2g\n",
      "[youtube] Extracting URL: https://www.youtube.com/watch?v=MSSxnv1_J2g\n",
      "[youtube] MSSxnv1_J2g: Downloading webpage\n",
      "[youtube] MSSxnv1_J2g: Downloading ios player API JSON\n",
      "[youtube] MSSxnv1_J2g: Downloading android player API JSON\n",
      "[youtube] MSSxnv1_J2g: Downloading m3u8 information\n",
      "[info] MSSxnv1_J2g: Downloading 1 format(s): 251\n",
      "[info] MSSxnv1_J2g: Downloading 1 time ranges: 0.0-67.0\n",
      "[download] Destination: ./test/StimuliFinal/long/Lyrics/[I Can't Get No] Satisfaction (Mono) [MSSxnv1_J2g].webm\n"
     ]
    },
    {
     "name": "stderr",
     "output_type": "stream",
     "text": [
      "Input #0, matroska,webm, from 'https://rr4---sn-gpn9-t0as.googlevideo.com/videoplayback?expire=1697588371&ei=M9AuZZPKIYia_9EPwpqf8A4&ip=206.167.239.2&id=o-AN9M8v79H4bLQAszX1gzEThiRoupmBJPVQTeazvKY4KM&itag=251&source=youtube&requiressl=yes&mh=LO&mm=31%2C29&mn=sn-gpn9-t0as%2Csn-t0a7lnee&ms=au%2Crdu&mv=m&mvi=4&pl=24&gcr=ca&initcwndbps=1088750&spc=UWF9f74TpEX17hInv8xpmcd6PbUoZ_0&vprv=1&svpuc=1&mime=audio%2Fwebm&gir=yes&clen=2796610&dur=223.461&lmt=1629844623265805&mt=1697566143&fvip=2&keepalive=yes&fexp=24007246&beids=24350018&c=ANDROID&txp=5432434&sparams=expire%2Cei%2Cip%2Cid%2Citag%2Csource%2Crequiressl%2Cgcr%2Cspc%2Cvprv%2Csvpuc%2Cmime%2Cgir%2Cclen%2Cdur%2Clmt&sig=AGM4YrMwRgIhANhXB6pSYPZ0p49E7VpaKgRgA_-gBkp2LJFdvyh1-31DAiEAm-vEA_kN-bpjx1p8eZ5IRRfJ1acCMFBVlT7ha9CF9ss%3D&lsparams=mh%2Cmm%2Cmn%2Cms%2Cmv%2Cmvi%2Cpl%2Cinitcwndbps&lsig=AK1ks_kwRAIgIjDWjBfKxvIRRBQ5m19QWfkpoEo8LaKZrPdfFnSqqQ0CIAH150FV5yiR3bbi5hJXDf2_YLjvnyA17ro4ORf2drpH':\n",
      "  Metadata:\n",
      "    encoder         : google/video-file\n",
      "  Duration: 00:03:43.46, start: -0.007000, bitrate: 100 kb/s\n",
      "  Stream #0:0(eng): Audio: opus, 48000 Hz, stereo, fltp (default)\n",
      "Stream mapping:\n",
      "  Stream #0:0 -> #0:0 (opus (native) -> opus (libopus))\n",
      "Press [q] to stop, [?] for help\n",
      "[libopus @ 0x558219420d00] No bit rate set. Defaulting to 96000 bps.\n",
      "Output #0, webm, to 'file:./test/StimuliFinal/long/Lyrics/[I Can't Get No] Satisfaction (Mono) [MSSxnv1_J2g].webm.part':\n",
      "  Metadata:\n",
      "    encoder         : Lavf58.76.100\n",
      "  Stream #0:0(eng): Audio: opus, 48000 Hz, stereo, flt, 96 kb/s (default)\n",
      "    Metadata:\n",
      "      encoder         : Lavc58.134.100 libopus\n",
      "size=     629kB time=00:01:07.00 bitrate=  76.9kbits/s speed=24.8x    \n",
      "video:0kB audio:605kB subtitle:0kB other streams:0kB global headers:0kB muxing overhead: 3.943249%\n"
     ]
    },
    {
     "name": "stdout",
     "output_type": "stream",
     "text": [
      "[download] 100% of  628.67KiB in 00:00:02 at 221.29KiB/s\n",
      "[ExtractAudio] Destination: ./test/StimuliFinal/long/Lyrics/[I Can't Get No] Satisfaction (Mono) [MSSxnv1_J2g].wav\n",
      "Deleting original file ./test/StimuliFinal/long/Lyrics/[I Can't Get No] Satisfaction (Mono) [MSSxnv1_J2g].webm (pass -k to keep)\n",
      "Downloading long track : Mrs. Robinson https://www.youtube.com/watch?v=9C1BCAgu2I8\n",
      "[youtube] Extracting URL: https://www.youtube.com/watch?v=9C1BCAgu2I8\n",
      "[youtube] 9C1BCAgu2I8: Downloading webpage\n",
      "[youtube] 9C1BCAgu2I8: Downloading ios player API JSON\n",
      "[youtube] 9C1BCAgu2I8: Downloading android player API JSON\n",
      "[youtube] 9C1BCAgu2I8: Downloading m3u8 information\n",
      "[info] 9C1BCAgu2I8: Downloading 1 format(s): 251\n",
      "[info] 9C1BCAgu2I8: Downloading 1 time ranges: 105.0-158.0\n",
      "[download] Destination: ./test/StimuliFinal/long/Lyrics/Simon & Garfunkel - Mrs. Robinson (Audio) [9C1BCAgu2I8].webm\n"
     ]
    },
    {
     "name": "stderr",
     "output_type": "stream",
     "text": [
      "Input #0, matroska,webm, from 'https://rr1---sn-gpn9-t0as.googlevideo.com/videoplayback?expire=1697588376&ei=ONAuZZ_0Ovyt_9EPrtComAM&ip=206.167.239.2&id=o-ALn6RBPmPPKT0kJ0TcKhF_UyxJdwRtLO5DfmAd4lPbm0&itag=251&source=youtube&requiressl=yes&mh=ah&mm=31%2C29&mn=sn-gpn9-t0as%2Csn-t0a7lnee&ms=au%2Crdu&mv=m&mvi=1&pl=24&gcr=ca&initcwndbps=1088750&spc=UWF9fxsXqh8OeZZrLQJQXTN1wTkISQA&vprv=1&svpuc=1&mime=audio%2Fwebm&gir=yes&clen=4401295&dur=243.541&lmt=1574970360668625&mt=1697566143&fvip=2&keepalive=yes&fexp=24007246&beids=24350018&c=ANDROID&txp=5531432&sparams=expire%2Cei%2Cip%2Cid%2Citag%2Csource%2Crequiressl%2Cgcr%2Cspc%2Cvprv%2Csvpuc%2Cmime%2Cgir%2Cclen%2Cdur%2Clmt&sig=AGM4YrMwRQIgFbo2iK_qGR8WZh4T7bL9QvU9AFgPMw249AY-ixiuRLYCIQCG8QcC6VLEoSEECmcTIzsFko9Nl6bPEK-O_RHCyKoUgA%3D%3D&lsparams=mh%2Cmm%2Cmn%2Cms%2Cmv%2Cmvi%2Cpl%2Cinitcwndbps&lsig=AK1ks_kwRAIgQEPYVB6myDDmCcJKhlr3nU1zumRUy6_ujZrrVh8VHNcCIBd4JzS866Jzuh54N0wBiCnes9Fs7NuayI9_rgpMchfp':\n",
      "  Metadata:\n",
      "    encoder         : google/video-file\n",
      "  Duration: 00:04:03.54, start: -0.007000, bitrate: 144 kb/s\n",
      "  Stream #0:0(eng): Audio: opus, 48000 Hz, stereo, fltp (default)\n",
      "Stream mapping:\n",
      "  Stream #0:0 -> #0:0 (opus (native) -> opus (libopus))\n",
      "Press [q] to stop, [?] for help\n",
      "[libopus @ 0x561f81f45f80] No bit rate set. Defaulting to 96000 bps.\n",
      "Output #0, webm, to 'file:./test/StimuliFinal/long/Lyrics/Simon & Garfunkel - Mrs. Robinson (Audio) [9C1BCAgu2I8].webm.part':\n",
      "  Metadata:\n",
      "    encoder         : Lavf58.76.100\n",
      "  Stream #0:0(eng): Audio: opus, 48000 Hz, stereo, flt, 96 kb/s (default)\n",
      "    Metadata:\n",
      "      encoder         : Lavc58.134.100 libopus\n",
      "size=     256kB time=00:00:34.45 bitrate=  60.9kbits/s speed=13.8x    \r"
     ]
    },
    {
     "name": "stdout",
     "output_type": "stream",
     "text": [
      "[download] 100% of  706.18KiB in 00:00:03 at 205.24KiB/s\n",
      "[ExtractAudio] Destination: ./test/StimuliFinal/long/Lyrics/Simon & Garfunkel - Mrs. Robinson (Audio) [9C1BCAgu2I8].wav\n"
     ]
    },
    {
     "name": "stderr",
     "output_type": "stream",
     "text": [
      "size=     706kB time=00:00:52.99 bitrate= 109.2kbits/s speed=16.9x    \n",
      "video:0kB audio:687kB subtitle:0kB other streams:0kB global headers:0kB muxing overhead: 2.761708%\n"
     ]
    },
    {
     "name": "stdout",
     "output_type": "stream",
     "text": [
      "Deleting original file ./test/StimuliFinal/long/Lyrics/Simon & Garfunkel - Mrs. Robinson (Audio) [9C1BCAgu2I8].webm (pass -k to keep)\n",
      "Downloading long track : Take Me Home, Country Roads https://www.youtube.com/watch?v=1vrEljMfXYo\n",
      "[youtube] Extracting URL: https://www.youtube.com/watch?v=1vrEljMfXYo\n",
      "[youtube] 1vrEljMfXYo: Downloading webpage\n",
      "[youtube] 1vrEljMfXYo: Downloading ios player API JSON\n",
      "[youtube] 1vrEljMfXYo: Downloading android player API JSON\n",
      "[youtube] 1vrEljMfXYo: Downloading m3u8 information\n",
      "[info] 1vrEljMfXYo: Downloading 1 format(s): 251\n",
      "[info] 1vrEljMfXYo: Downloading 1 time ranges: 0.0-54.0\n",
      "[download] Destination: ./test/StimuliFinal/long/Lyrics/John Denver - Take Me Home, Country Roads (Official Audio) [1vrEljMfXYo].webm\n"
     ]
    },
    {
     "name": "stderr",
     "output_type": "stream",
     "text": [
      "Input #0, matroska,webm, from 'https://rr1---sn-gpn9-t0as.googlevideo.com/videoplayback?expire=1697588382&ei=PtAuZbf2EPai_9EPg5mekA4&ip=206.167.239.2&id=o-AP37SDQtstH3wfLx6X9YULbWx1pGLRiigW2aVAYgalS-&itag=251&source=youtube&requiressl=yes&mh=zw&mm=31%2C29&mn=sn-gpn9-t0as%2Csn-t0a7sn7d&ms=au%2Crdu&mv=m&mvi=1&pl=24&gcr=ca&initcwndbps=1088750&spc=UWF9fwpZWIRP6TSc7H0UtDalXvPNK6E&vprv=1&svpuc=1&mime=audio%2Fwebm&gir=yes&clen=3258424&dur=195.521&lmt=1657241747088066&mt=1697566143&fvip=4&keepalive=yes&fexp=24007246&beids=24350018&c=ANDROID&txp=4532434&sparams=expire%2Cei%2Cip%2Cid%2Citag%2Csource%2Crequiressl%2Cgcr%2Cspc%2Cvprv%2Csvpuc%2Cmime%2Cgir%2Cclen%2Cdur%2Clmt&sig=AGM4YrMwRAIgfML_0gyEXq2P2cKIRXojaiEcnxIKiR63EH-eops1NoACIC0KGv-iSRb09UUlVbgd1dlBLKeUPSCK-8WGST4my5fj&lsparams=mh%2Cmm%2Cmn%2Cms%2Cmv%2Cmvi%2Cpl%2Cinitcwndbps&lsig=AK1ks_kwRAIfQ87nypE2o8eYWYbsxJFx0WmKdm_p1khlXmiG9XqIPgIhAI4jeJ3fbaeu08zKj-fhV48s-Vsdvf_UjcOV3JHsUPqL':\n",
      "  Metadata:\n",
      "    encoder         : google/video-file\n",
      "  Duration: 00:03:15.52, start: -0.007000, bitrate: 133 kb/s\n",
      "  Stream #0:0(eng): Audio: opus, 48000 Hz, stereo, fltp (default)\n",
      "Stream mapping:\n",
      "  Stream #0:0 -> #0:0 (opus (native) -> opus (libopus))\n",
      "Press [q] to stop, [?] for help\n",
      "[libopus @ 0x55e04d95cc40] No bit rate set. Defaulting to 96000 bps.\n",
      "Output #0, webm, to 'file:./test/StimuliFinal/long/Lyrics/John Denver - Take Me Home, Country Roads (Official Audio) [1vrEljMfXYo].webm.part':\n",
      "  Metadata:\n",
      "    encoder         : Lavf58.76.100\n",
      "  Stream #0:0(eng): Audio: opus, 48000 Hz, stereo, flt, 96 kb/s (default)\n",
      "    Metadata:\n",
      "      encoder         : Lavc58.134.100 libopus\n",
      "size=     256kB time=00:00:42.22 bitrate=  49.7kbits/s speed=12.6x    \r"
     ]
    },
    {
     "name": "stdout",
     "output_type": "stream",
     "text": [
      "[download] 100% of  692.18KiB in 00:00:03 at 181.61KiB/s\n",
      "[ExtractAudio] Destination: ./test/StimuliFinal/long/Lyrics/John Denver - Take Me Home, Country Roads (Official Audio) [1vrEljMfXYo].wav\n",
      "Deleting original file ./test/StimuliFinal/long/Lyrics/John Denver - Take Me Home, Country Roads (Official Audio) [1vrEljMfXYo].webm (pass -k to keep)\n"
     ]
    },
    {
     "name": "stderr",
     "output_type": "stream",
     "text": [
      "size=     692kB time=00:00:54.00 bitrate= 105.0kbits/s speed=14.7x    \n",
      "video:0kB audio:673kB subtitle:0kB other streams:0kB global headers:0kB muxing overhead: 2.865685%\n"
     ]
    },
    {
     "name": "stdout",
     "output_type": "stream",
     "text": [
      "Downloading long track : No Woman No Cry https://www.youtube.com/watch?v=pHlSE9j5FGY\n",
      "[youtube] Extracting URL: https://www.youtube.com/watch?v=pHlSE9j5FGY\n",
      "[youtube] pHlSE9j5FGY: Downloading webpage\n",
      "[youtube] pHlSE9j5FGY: Downloading ios player API JSON\n",
      "[youtube] pHlSE9j5FGY: Downloading android player API JSON\n",
      "[youtube] pHlSE9j5FGY: Downloading m3u8 information\n",
      "[info] pHlSE9j5FGY: Downloading 1 format(s): 251\n",
      "[info] pHlSE9j5FGY: Downloading 1 time ranges: 24.0-88.0\n",
      "[download] Destination: ./test/StimuliFinal/long/Lyrics/Bob Marley - No Women No Cry (Original) [pHlSE9j5FGY].webm\n"
     ]
    },
    {
     "name": "stderr",
     "output_type": "stream",
     "text": [
      "Input #0, matroska,webm, from 'https://rr2---sn-gpn9-t0as.googlevideo.com/videoplayback?expire=1697588388&ei=RNAuZeeODa-w_9EPgLqggAg&ip=206.167.239.2&id=o-ALgp6XrFUR3CitN5o3GvdYORHD96VwVvSXaQLH5g0P1m&itag=251&source=youtube&requiressl=yes&mh=6l&mm=31%2C29&mn=sn-gpn9-t0as%2Csn-t0a7lnee&ms=au%2Crdu&mv=m&mvi=2&pl=24&initcwndbps=1088750&spc=UWF9fyZ1UjWGOQa2-Y87CummVDRR3yI&vprv=1&svpuc=1&mime=audio%2Fwebm&gir=yes&clen=3509375&dur=216.741&lmt=1552069510581362&mt=1697566143&fvip=1&keepalive=yes&fexp=24007246&beids=24350018&c=ANDROID&txp=5511222&sparams=expire%2Cei%2Cip%2Cid%2Citag%2Csource%2Crequiressl%2Cspc%2Cvprv%2Csvpuc%2Cmime%2Cgir%2Cclen%2Cdur%2Clmt&sig=AGM4YrMwRAIgIfhfGHNIMnj_IkQaVps5StYYrJeKAy9Kqf_j3AhkYswCIB1-idwjsa3ufXsYGzfw7zR2NY27V0LiFMSBap58VrsO&lsparams=mh%2Cmm%2Cmn%2Cms%2Cmv%2Cmvi%2Cpl%2Cinitcwndbps&lsig=AK1ks_kwRQIhAL8rrvHg0D8p5cm1edbhGc-QRApzVV85YaQUxeIZmg1MAiAG6T6GrI9Q6EIN1rgVlLNBfwwMk_eHuMubAqn8Ib40LA%3D%3D':\n",
      "  Metadata:\n",
      "    encoder         : google/video-file\n",
      "  Duration: 00:03:36.74, start: -0.007000, bitrate: 129 kb/s\n",
      "  Stream #0:0(eng): Audio: opus, 48000 Hz, stereo, fltp (default)\n",
      "Stream mapping:\n",
      "  Stream #0:0 -> #0:0 (opus (native) -> opus (libopus))\n",
      "Press [q] to stop, [?] for help\n",
      "[libopus @ 0x562d702cbfc0] No bit rate set. Defaulting to 96000 bps.\n",
      "Output #0, webm, to 'file:./test/StimuliFinal/long/Lyrics/Bob Marley - No Women No Cry (Original) [pHlSE9j5FGY].webm.part':\n",
      "  Metadata:\n",
      "    encoder         : Lavf58.76.100\n",
      "  Stream #0:0(eng): Audio: opus, 48000 Hz, stereo, flt, 96 kb/s (default)\n",
      "    Metadata:\n",
      "      encoder         : Lavc58.134.100 libopus\n",
      "size=     512kB time=00:00:50.59 bitrate=  82.9kbits/s speed=  33x    \r"
     ]
    },
    {
     "name": "stdout",
     "output_type": "stream",
     "text": [
      "[download] 100% of  777.60KiB in 00:00:02 at 355.45KiB/s\n",
      "[ExtractAudio] Destination: ./test/StimuliFinal/long/Lyrics/Bob Marley - No Women No Cry (Original) [pHlSE9j5FGY].wav\n",
      "Deleting original file ./test/StimuliFinal/long/Lyrics/Bob Marley - No Women No Cry (Original) [pHlSE9j5FGY].webm (pass -k to keep)\n"
     ]
    },
    {
     "name": "stderr",
     "output_type": "stream",
     "text": [
      "size=     778kB time=00:01:03.99 bitrate=  99.5kbits/s speed=33.6x    \n",
      "video:0kB audio:755kB subtitle:0kB other streams:0kB global headers:0kB muxing overhead: 3.020109%\n"
     ]
    },
    {
     "name": "stdout",
     "output_type": "stream",
     "text": [
      "Downloading long track : Living Together https://www.youtube.com/watch?v=1U9noJETLU0\n",
      "[youtube] Extracting URL: https://www.youtube.com/watch?v=1U9noJETLU0\n",
      "[youtube] 1U9noJETLU0: Downloading webpage\n",
      "[youtube] 1U9noJETLU0: Downloading ios player API JSON\n",
      "[youtube] 1U9noJETLU0: Downloading android player API JSON\n",
      "[youtube] 1U9noJETLU0: Downloading m3u8 information\n",
      "[info] 1U9noJETLU0: Downloading 1 format(s): 251\n",
      "[info] 1U9noJETLU0: Downloading 1 time ranges: 33.0-104.0\n",
      "[download] Destination: ./test/StimuliFinal/long/Lyrics/Living Together [1U9noJETLU0].webm\n"
     ]
    },
    {
     "name": "stderr",
     "output_type": "stream",
     "text": [
      "Input #0, matroska,webm, from 'https://rr1---sn-gpn9-t0as.googlevideo.com/videoplayback?expire=1697588392&ei=SNAuZb7eBtKj_9EP4vGj2Ao&ip=206.167.239.2&id=o-AMuhZV9YK_9-k_fgKjZaVzbm3JjkGOgbQQXxByb-FPMB&itag=251&source=youtube&requiressl=yes&mh=Sx&mm=31%2C29&mn=sn-gpn9-t0as%2Csn-t0a7sn7d&ms=au%2Crdu&mv=m&mvi=1&pl=24&gcr=ca&initcwndbps=1088750&spc=UWF9f3LVDwXyGjbKTiAJSJXL4lubLfU&vprv=1&svpuc=1&mime=audio%2Fwebm&gir=yes&clen=4399829&dur=262.341&lmt=1565912233859760&mt=1697566143&fvip=1&keepalive=yes&fexp=24007246&beids=24350018&c=ANDROID&txp=1311222&sparams=expire%2Cei%2Cip%2Cid%2Citag%2Csource%2Crequiressl%2Cgcr%2Cspc%2Cvprv%2Csvpuc%2Cmime%2Cgir%2Cclen%2Cdur%2Clmt&sig=AGM4YrMwRgIhAJbT2Abvm-2DP4bCo4MrCQ5pZY-5JjSH-phJeybLCY8QAiEAyd9vwkXQ1NUsdulnq2yey14TFE4VqWCz08yY9Bf5lF4%3D&lsparams=mh%2Cmm%2Cmn%2Cms%2Cmv%2Cmvi%2Cpl%2Cinitcwndbps&lsig=AK1ks_kwRQIgcDuBIlrLiJGqtJQuQGOfcUL_FSpEPrlu5yKEmAdFOkACIQD9RaPUbJtSBX7iI_BqOVtkkFU8zIqF4AMd4B7YmHC_-g%3D%3D':\n",
      "  Metadata:\n",
      "    encoder         : google/video-file\n",
      "  Duration: 00:04:22.34, start: -0.007000, bitrate: 134 kb/s\n",
      "  Stream #0:0(eng): Audio: opus, 48000 Hz, stereo, fltp (default)\n",
      "Stream mapping:\n",
      "  Stream #0:0 -> #0:0 (opus (native) -> opus (libopus))\n",
      "Press [q] to stop, [?] for help\n",
      "[libopus @ 0x55f330fbbf80] No bit rate set. Defaulting to 96000 bps.\n",
      "Output #0, webm, to 'file:./test/StimuliFinal/long/Lyrics/Living Together [1U9noJETLU0].webm.part':\n",
      "  Metadata:\n",
      "    encoder         : Lavf58.76.100\n",
      "  Stream #0:0(eng): Audio: opus, 48000 Hz, stereo, flt, 96 kb/s (default)\n",
      "    Metadata:\n",
      "      encoder         : Lavc58.134.100 libopus\n",
      "size=     512kB time=00:00:54.23 bitrate=  77.3kbits/s speed=21.7x    \r"
     ]
    },
    {
     "name": "stdout",
     "output_type": "stream",
     "text": [
      "[download] 100% of  870.38KiB in 00:00:03 at 220.13KiB/s\n"
     ]
    },
    {
     "name": "stderr",
     "output_type": "stream",
     "text": [
      "size=     870kB time=00:01:10.99 bitrate= 100.4kbits/s speed=19.1x    \n",
      "video:0kB audio:845kB subtitle:0kB other streams:0kB global headers:0kB muxing overhead: 2.987462%\n"
     ]
    },
    {
     "name": "stdout",
     "output_type": "stream",
     "text": [
      "[ExtractAudio] Destination: ./test/StimuliFinal/long/Lyrics/Living Together [1U9noJETLU0].wav\n",
      "Deleting original file ./test/StimuliFinal/long/Lyrics/Living Together [1U9noJETLU0].webm (pass -k to keep)\n",
      "Downloading long track : Hotel California https://www.youtube.com/watch?v=BciS5krYL80\n",
      "[youtube] Extracting URL: https://www.youtube.com/watch?v=BciS5krYL80\n",
      "[youtube] BciS5krYL80: Downloading webpage\n",
      "[youtube] BciS5krYL80: Downloading ios player API JSON\n",
      "[youtube] BciS5krYL80: Downloading android player API JSON\n",
      "[youtube] BciS5krYL80: Downloading m3u8 information\n",
      "[info] BciS5krYL80: Downloading 1 format(s): 251\n",
      "[info] BciS5krYL80: Downloading 1 time ranges: 52.0-130.0\n",
      "[download] Destination: ./test/StimuliFinal/long/Lyrics/Hotel California (2013 Remaster) [BciS5krYL80].webm\n"
     ]
    },
    {
     "name": "stderr",
     "output_type": "stream",
     "text": [
      "Input #0, matroska,webm, from 'https://rr3---sn-gpn9-t0as.googlevideo.com/videoplayback?expire=1697588399&ei=T9AuZcimIeSN_9EPqo2F2Ag&ip=206.167.239.2&id=o-APJoIsnssfsIl6f4xxC54FHACg5ZdwGaID8duNJzWXru&itag=251&source=youtube&requiressl=yes&mh=Hn&mm=31%2C29&mn=sn-gpn9-t0as%2Csn-t0a7sn7d&ms=au%2Crdu&mv=m&mvi=3&pl=24&gcr=ca&initcwndbps=1092500&spc=UWF9f67KTp-UjVkJflgcLWCR5EVIeqQ&vprv=1&svpuc=1&mime=audio%2Fwebm&gir=yes&clen=7185589&dur=391.401&lmt=1659118407972175&mt=1697566622&fvip=1&keepalive=yes&fexp=24007246&beids=24350018&c=ANDROID&txp=4532434&sparams=expire%2Cei%2Cip%2Cid%2Citag%2Csource%2Crequiressl%2Cgcr%2Cspc%2Cvprv%2Csvpuc%2Cmime%2Cgir%2Cclen%2Cdur%2Clmt&sig=AGM4YrMwRAIgYzby3CmYc1Qi8GV90ZQzkM7JG71100DA1RP-esqEAhECIF7lCErlRf_WrsRE7tCX4SKJQ_WJpPmw0txLhDYD48_R&lsparams=mh%2Cmm%2Cmn%2Cms%2Cmv%2Cmvi%2Cpl%2Cinitcwndbps&lsig=AK1ks_kwRAIgHisPK394C3K4PNB4z_va-0_gzFNnkgWYqyweEfimOs0CIAfvaOIB6oQ1q_-T3lDbfjcnYSojpMlMPik9dgMghZFo':\n",
      "  Metadata:\n",
      "    encoder         : google/video-file\n",
      "  Duration: 00:06:31.40, start: -0.007000, bitrate: 146 kb/s\n",
      "  Stream #0:0(eng): Audio: opus, 48000 Hz, stereo, fltp (default)\n",
      "Stream mapping:\n",
      "  Stream #0:0 -> #0:0 (opus (native) -> opus (libopus))\n",
      "Press [q] to stop, [?] for help\n",
      "[libopus @ 0x55f26faadf80] No bit rate set. Defaulting to 96000 bps.\n",
      "Output #0, webm, to 'file:./test/StimuliFinal/long/Lyrics/Hotel California (2013 Remaster) [BciS5krYL80].webm.part':\n",
      "  Metadata:\n",
      "    encoder         : Lavf58.76.100\n",
      "  Stream #0:0(eng): Audio: opus, 48000 Hz, stereo, flt, 96 kb/s (default)\n",
      "    Metadata:\n",
      "      encoder         : Lavc58.134.100 libopus\n",
      "size=     768kB time=00:01:04.53 bitrate=  97.5kbits/s speed= 9.3x    \r"
     ]
    },
    {
     "name": "stdout",
     "output_type": "stream",
     "text": [
      "[download] 100% of    1.01MiB in 00:00:07 at 134.93KiB/s\n",
      "[ExtractAudio] Destination: ./test/StimuliFinal/long/Lyrics/Hotel California (2013 Remaster) [BciS5krYL80].wav\n"
     ]
    },
    {
     "name": "stderr",
     "output_type": "stream",
     "text": [
      "size=    1032kB time=00:01:17.99 bitrate= 108.4kbits/s speed=10.6x    \n",
      "video:0kB audio:1004kB subtitle:0kB other streams:0kB global headers:0kB muxing overhead: 2.756258%\n"
     ]
    },
    {
     "name": "stdout",
     "output_type": "stream",
     "text": [
      "Deleting original file ./test/StimuliFinal/long/Lyrics/Hotel California (2013 Remaster) [BciS5krYL80].webm (pass -k to keep)\n",
      "Downloading long track : I Will Survive https://www.youtube.com/watch?v=6dYWe1c3OyU\n",
      "[youtube] Extracting URL: https://www.youtube.com/watch?v=6dYWe1c3OyU\n",
      "[youtube] 6dYWe1c3OyU: Downloading webpage\n",
      "[youtube] 6dYWe1c3OyU: Downloading ios player API JSON\n",
      "[youtube] 6dYWe1c3OyU: Downloading android player API JSON\n",
      "[youtube] 6dYWe1c3OyU: Downloading m3u8 information\n",
      "[info] 6dYWe1c3OyU: Downloading 1 format(s): 251\n",
      "[info] 6dYWe1c3OyU: Downloading 1 time ranges: 6.0-74.0\n",
      "[download] Destination: ./test/StimuliFinal/long/Lyrics/Gloria Gaynor - I Will Survive [6dYWe1c3OyU].webm\n"
     ]
    },
    {
     "name": "stderr",
     "output_type": "stream",
     "text": [
      "Input #0, matroska,webm, from 'https://rr3---sn-gpn9-t0as.googlevideo.com/videoplayback?expire=1697588408&ei=WNAuZfmDNo6F8wTtvamIBw&ip=206.167.239.2&id=o-AMTTpmcg48LTZI1CIATTwi122ZxOuERnfJxJYSSZshNQ&itag=251&source=youtube&requiressl=yes&mh=2C&mm=31%2C29&mn=sn-gpn9-t0as%2Csn-t0a7lnee&ms=au%2Crdu&mv=m&mvi=3&pl=24&gcr=ca&initcwndbps=1088750&spc=UWF9f5HeZcGfLxpI_8-xjPLq7bHT2k8&vprv=1&svpuc=1&mime=audio%2Fwebm&gir=yes&clen=3301512&dur=194.381&lmt=1660241867227263&mt=1697566143&fvip=5&keepalive=yes&fexp=24007246&beids=24350018&c=ANDROID&txp=5532434&sparams=expire%2Cei%2Cip%2Cid%2Citag%2Csource%2Crequiressl%2Cgcr%2Cspc%2Cvprv%2Csvpuc%2Cmime%2Cgir%2Cclen%2Cdur%2Clmt&sig=AGM4YrMwRQIgASeGzRQ5j2jTWjjRvV8jvpmqxJCuoriZZAkFYaPA8BoCIQC2H1B_Xiabd408rr8jpWDVVugTwfV0h4FH1QQm42unWA%3D%3D&lsparams=mh%2Cmm%2Cmn%2Cms%2Cmv%2Cmvi%2Cpl%2Cinitcwndbps&lsig=AK1ks_kwRQIgJz_k17i1gYmBUNIAMQ8ZSuxL95W3KXcsgn1BT17aiRACIQDtbCyL0VEEGRyDUYYEeNqPxAyxzC8OYlVpnJcxogS5Mw%3D%3D':\n",
      "  Metadata:\n",
      "    encoder         : google/video-file\n",
      "  Duration: 00:03:14.38, start: -0.007000, bitrate: 135 kb/s\n",
      "  Stream #0:0(eng): Audio: opus, 48000 Hz, stereo, fltp (default)\n",
      "Stream mapping:\n",
      "  Stream #0:0 -> #0:0 (opus (native) -> opus (libopus))\n",
      "Press [q] to stop, [?] for help\n",
      "[libopus @ 0x561f0239bc00] No bit rate set. Defaulting to 96000 bps.\n",
      "Output #0, webm, to 'file:./test/StimuliFinal/long/Lyrics/Gloria Gaynor - I Will Survive [6dYWe1c3OyU].webm.part':\n",
      "  Metadata:\n",
      "    encoder         : Lavf58.76.100\n",
      "  Stream #0:0(eng): Audio: opus, 48000 Hz, stereo, flt, 96 kb/s (default)\n",
      "    Metadata:\n",
      "      encoder         : Lavc58.134.100 libopus\n",
      "size=     512kB time=00:00:58.25 bitrate=  72.0kbits/s speed=13.6x    \r"
     ]
    },
    {
     "name": "stdout",
     "output_type": "stream",
     "text": [
      "[download] 100% of  846.32KiB in 00:00:04 at 180.63KiB/s\n",
      "[ExtractAudio] Destination: ./test/StimuliFinal/long/Lyrics/Gloria Gaynor - I Will Survive [6dYWe1c3OyU].wav\n",
      "Deleting original file ./test/StimuliFinal/long/Lyrics/Gloria Gaynor - I Will Survive [6dYWe1c3OyU].webm (pass -k to keep)\n"
     ]
    },
    {
     "name": "stderr",
     "output_type": "stream",
     "text": [
      "size=     846kB time=00:01:07.99 bitrate= 102.0kbits/s speed=14.9x    \n",
      "video:0kB audio:822kB subtitle:0kB other streams:0kB global headers:0kB muxing overhead: 2.942770%\n"
     ]
    },
    {
     "name": "stdout",
     "output_type": "stream",
     "text": [
      "Downloading long track : Highway to Hell https://www.youtube.com/watch?v=l482T0yNkeo\n",
      "[youtube] Extracting URL: https://www.youtube.com/watch?v=l482T0yNkeo\n",
      "[youtube] l482T0yNkeo: Downloading webpage\n",
      "[youtube] l482T0yNkeo: Downloading ios player API JSON\n",
      "[youtube] l482T0yNkeo: Downloading android player API JSON\n",
      "[youtube] l482T0yNkeo: Downloading m3u8 information\n",
      "[info] l482T0yNkeo: Downloading 1 format(s): 251\n",
      "[info] l482T0yNkeo: Downloading 1 time ranges: 17.0-70.0\n",
      "[download] Destination: ./test/StimuliFinal/long/Lyrics/AC⧸DC - Highway to Hell (Official Video) [l482T0yNkeo].webm\n"
     ]
    },
    {
     "name": "stderr",
     "output_type": "stream",
     "text": [
      "Input #0, matroska,webm, from 'https://rr3---sn-gpn9-t0as.googlevideo.com/videoplayback?expire=1697588415&ei=X9AuZceYGs6X_9EPqeCssA4&ip=206.167.239.2&id=o-AJNF9ZXuUgDICgWPNFAB8J7w4qsLZQdy2zoOpH95moNc&itag=251&source=youtube&requiressl=yes&mh=C1&mm=31%2C29&mn=sn-gpn9-t0as%2Csn-t0a7sn7d&ms=au%2Crdu&mv=m&mvi=3&pl=24&pcm2=no&gcr=ca&initcwndbps=1092500&spc=UWF9f2a8Zlh71uCEItmbyiFdCqd6JC0&vprv=1&svpuc=1&mime=audio%2Fwebm&gir=yes&clen=3343601&dur=207.061&lmt=1634270984317925&mt=1697566622&fvip=2&keepalive=yes&fexp=24007246&beids=24350018&c=ANDROID&txp=5532434&sparams=expire%2Cei%2Cip%2Cid%2Citag%2Csource%2Crequiressl%2Cpcm2%2Cgcr%2Cspc%2Cvprv%2Csvpuc%2Cmime%2Cgir%2Cclen%2Cdur%2Clmt&sig=AGM4YrMwRgIhAKehe-IWEgCHS6GZvM4_4v2LE3rzEWFpS8GL2_5om3wHAiEA5qYeiTtfzD9mGK8JtBWy_dS5mfTH3UXlNCdiCwc5RmE%3D&lsparams=mh%2Cmm%2Cmn%2Cms%2Cmv%2Cmvi%2Cpl%2Cinitcwndbps&lsig=AK1ks_kwRQIgWI4bUQFOo-6vwy8kF2Lik3QBeYhKJYIotYUv58KaaJsCIQD2-aVDSUnMsGP4S0vGz7bjbNZuUfVwK8FxhCFvkYdGFQ%3D%3D':\n",
      "  Metadata:\n",
      "    encoder         : google/video-file\n",
      "  Duration: 00:03:27.06, start: -0.007000, bitrate: 129 kb/s\n",
      "  Stream #0:0(eng): Audio: opus, 48000 Hz, stereo, fltp (default)\n",
      "Stream mapping:\n",
      "  Stream #0:0 -> #0:0 (opus (native) -> opus (libopus))\n",
      "Press [q] to stop, [?] for help\n",
      "[libopus @ 0x558f6ef6ef80] No bit rate set. Defaulting to 96000 bps.\n",
      "Output #0, webm, to 'file:./test/StimuliFinal/long/Lyrics/AC⧸DC - Highway to Hell (Official Video) [l482T0yNkeo].webm.part':\n",
      "  Metadata:\n",
      "    encoder         : Lavf58.76.100\n",
      "  Stream #0:0(eng): Audio: opus, 48000 Hz, stereo, flt, 96 kb/s (default)\n",
      "    Metadata:\n",
      "      encoder         : Lavc58.134.100 libopus\n",
      "size=     256kB time=00:00:33.17 bitrate=  63.2kbits/s speed=27.7x    \r"
     ]
    },
    {
     "name": "stdout",
     "output_type": "stream",
     "text": [
      "[download] 100% of  622.30KiB in 00:00:02 at 253.71KiB/s\n",
      "[ExtractAudio] Destination: ./test/StimuliFinal/long/Lyrics/AC⧸DC - Highway to Hell (Official Video) [l482T0yNkeo].wav\n"
     ]
    },
    {
     "name": "stderr",
     "output_type": "stream",
     "text": [
      "size=     622kB time=00:00:52.99 bitrate=  96.2kbits/s speed=  24x    \n",
      "video:0kB audio:603kB subtitle:0kB other streams:0kB global headers:0kB muxing overhead: 3.145501%\n"
     ]
    },
    {
     "name": "stdout",
     "output_type": "stream",
     "text": [
      "Deleting original file ./test/StimuliFinal/long/Lyrics/AC⧸DC - Highway to Hell (Official Video) [l482T0yNkeo].webm (pass -k to keep)\n",
      "Downloading long track : Another Brick In The Wall (Part 1) https://www.youtube.com/watch?v=-cfJqYtmmqA\n",
      "[youtube] Extracting URL: https://www.youtube.com/watch?v=-cfJqYtmmqA\n",
      "[youtube] -cfJqYtmmqA: Downloading webpage\n",
      "[youtube] -cfJqYtmmqA: Downloading ios player API JSON\n",
      "[youtube] -cfJqYtmmqA: Downloading android player API JSON\n",
      "[youtube] -cfJqYtmmqA: Downloading m3u8 information\n",
      "[info] -cfJqYtmmqA: Downloading 1 format(s): 251\n",
      "[info] -cfJqYtmmqA: Downloading 1 time ranges: 14.0-74.0\n",
      "[download] Destination: ./test/StimuliFinal/long/Lyrics/Another Brick In The Wall (Part 1) [-cfJqYtmmqA].webm\n"
     ]
    },
    {
     "name": "stderr",
     "output_type": "stream",
     "text": [
      "Input #0, matroska,webm, from 'https://rr1---sn-gpn9-t0as.googlevideo.com/videoplayback?expire=1697588419&ei=Y9AuZdHXJ8Go_9EPmdu9qAc&ip=206.167.239.2&id=o-AEwIIyffOB_lxEqe7zLhXi25xOcm8QqUMhGH4lqxfSxc&itag=251&source=youtube&requiressl=yes&mh=jv&mm=31%2C29&mn=sn-gpn9-t0as%2Csn-t0a7ln7d&ms=au%2Crdu&mv=m&mvi=1&pcm2cms=yes&pl=24&gcr=ca&initcwndbps=1092500&spc=UWF9fwaOmnlugFMhMcEBZDPaVNMxf_0&vprv=1&svpuc=1&mime=audio%2Fwebm&gir=yes&clen=3128434&dur=191.761&lmt=1592564865863361&mt=1697566622&fvip=5&keepalive=yes&fexp=24007246&beids=24350018&c=ANDROID&txp=5511222&sparams=expire%2Cei%2Cip%2Cid%2Citag%2Csource%2Crequiressl%2Cgcr%2Cspc%2Cvprv%2Csvpuc%2Cmime%2Cgir%2Cclen%2Cdur%2Clmt&sig=AGM4YrMwRAIgN-O9poIxrV-hPqfqHbzQWDzYD4yieqJoRVY4c3cuZ4UCIGUI10GZIM68ryAuVSeFxXjwqhHZ12IDBGU4bKb7V8jm&lsparams=mh%2Cmm%2Cmn%2Cms%2Cmv%2Cmvi%2Cpcm2cms%2Cpl%2Cinitcwndbps&lsig=AK1ks_kwRgIhAOGDLRNFsN4YuQd-yArDKR8yhMtlN4tA_R68jMvTrHRfAiEAvQ_dOLe6fFu-pbxJEfoJrtRC-i5AYWLNfr-4zjzB5dg%3D':\n",
      "  Metadata:\n",
      "    encoder         : google/video-file\n",
      "  Duration: 00:03:11.76, start: -0.007000, bitrate: 130 kb/s\n",
      "  Stream #0:0(eng): Audio: opus, 48000 Hz, stereo, fltp (default)\n",
      "Stream mapping:\n",
      "  Stream #0:0 -> #0:0 (opus (native) -> opus (libopus))\n",
      "Press [q] to stop, [?] for help\n",
      "[libopus @ 0x55eed2c00140] No bit rate set. Defaulting to 96000 bps.\n",
      "Output #0, webm, to 'file:./test/StimuliFinal/long/Lyrics/Another Brick In The Wall (Part 1) [-cfJqYtmmqA].webm.part':\n",
      "  Metadata:\n",
      "    encoder         : Lavf58.76.100\n",
      "  Stream #0:0(eng): Audio: opus, 48000 Hz, stereo, flt, 96 kb/s (default)\n",
      "    Metadata:\n",
      "      encoder         : Lavc58.134.100 libopus\n",
      "size=     256kB time=00:00:33.85 bitrate=  61.9kbits/s speed=33.1x    \r"
     ]
    },
    {
     "name": "stdout",
     "output_type": "stream",
     "text": [
      "[download] 100% of  705.26KiB in 00:00:01 at 361.05KiB/s\n"
     ]
    },
    {
     "name": "stderr",
     "output_type": "stream",
     "text": [
      "size=     705kB time=00:00:59.99 bitrate=  96.3kbits/s speed=35.4x    \n",
      "video:0kB audio:684kB subtitle:0kB other streams:0kB global headers:0kB muxing overhead: 3.133488%\n"
     ]
    },
    {
     "name": "stdout",
     "output_type": "stream",
     "text": [
      "[ExtractAudio] Destination: ./test/StimuliFinal/long/Lyrics/Another Brick In The Wall (Part 1) [-cfJqYtmmqA].wav\n",
      "Deleting original file ./test/StimuliFinal/long/Lyrics/Another Brick In The Wall (Part 1) [-cfJqYtmmqA].webm (pass -k to keep)\n",
      "Downloading long track : It's Raining Men https://www.youtube.com/watch?v=l5aZJBLAu1E\n",
      "[youtube] Extracting URL: https://www.youtube.com/watch?v=l5aZJBLAu1E\n",
      "[youtube] l5aZJBLAu1E: Downloading webpage\n",
      "[youtube] l5aZJBLAu1E: Downloading ios player API JSON\n",
      "[youtube] l5aZJBLAu1E: Downloading android player API JSON\n",
      "[youtube] l5aZJBLAu1E: Downloading m3u8 information\n",
      "[info] l5aZJBLAu1E: Downloading 1 format(s): 251\n",
      "[info] l5aZJBLAu1E: Downloading 1 time ranges: 28.0-90.0\n",
      "[download] Destination: ./test/StimuliFinal/long/Lyrics/The Weather Girls - It's Raining Men (Video) [l5aZJBLAu1E].webm\n"
     ]
    },
    {
     "name": "stderr",
     "output_type": "stream",
     "text": [
      "Input #0, matroska,webm, from 'https://rr1---sn-gpn9-t0as.googlevideo.com/videoplayback?expire=1697588423&ei=Z9AuZdC-FMOP_9EP5dCWoAc&ip=206.167.239.2&id=o-AJ2al4f2FZR26hJy76QEY8pg_zRXGs3ih7fgFBYfoX0x&itag=251&source=youtube&requiressl=yes&mh=Pg&mm=31%2C29&mn=sn-gpn9-t0as%2Csn-t0a7sn7d&ms=au%2Crdu&mv=m&mvi=1&pcm2cms=yes&pl=24&gcr=ca&initcwndbps=1092500&spc=UWF9f9VTxmYKaJSF5XXkn9dzKPFb2G0&vprv=1&svpuc=1&mime=audio%2Fwebm&gir=yes&clen=4774666&dur=294.121&lmt=1575227259819326&mt=1697566622&fvip=4&keepalive=yes&fexp=24007246&beids=24472436&c=ANDROID&txp=5531432&sparams=expire%2Cei%2Cip%2Cid%2Citag%2Csource%2Crequiressl%2Cgcr%2Cspc%2Cvprv%2Csvpuc%2Cmime%2Cgir%2Cclen%2Cdur%2Clmt&sig=AGM4YrMwRAIgDKMWTAG5LnmPGmQw869noeqGp1RkPwjIO699PrMon70CIGsaXJu9SzfjUpflzcCA56tOHzjr4HTMJ124jlIgngdF&lsparams=mh%2Cmm%2Cmn%2Cms%2Cmv%2Cmvi%2Cpcm2cms%2Cpl%2Cinitcwndbps&lsig=AK1ks_kwRQIgHIZfjFILH35QdLipeBlSLIYo2V0mn2bzZoU7ZqHYYwcCIQDDda4OAgmwY8ozO0OtJ9HUDjpWbDQLpqC0G4S6_Q6J4Q%3D%3D':\n",
      "  Metadata:\n",
      "    encoder         : google/video-file\n",
      "  Duration: 00:04:54.12, start: -0.007000, bitrate: 129 kb/s\n",
      "  Stream #0:0(eng): Audio: opus, 48000 Hz, stereo, fltp (default)\n",
      "Stream mapping:\n",
      "  Stream #0:0 -> #0:0 (opus (native) -> opus (libopus))\n",
      "Press [q] to stop, [?] for help\n",
      "[libopus @ 0x55d4203f8140] No bit rate set. Defaulting to 96000 bps.\n",
      "Output #0, webm, to 'file:./test/StimuliFinal/long/Lyrics/The Weather Girls - It's Raining Men (Video) [l5aZJBLAu1E].webm.part':\n",
      "  Metadata:\n",
      "    encoder         : Lavf58.76.100\n",
      "  Stream #0:0(eng): Audio: opus, 48000 Hz, stereo, flt, 96 kb/s (default)\n",
      "    Metadata:\n",
      "      encoder         : Lavc58.134.100 libopus\n",
      "size=     512kB time=00:00:48.13 bitrate=  87.1kbits/s speed=21.1x    \r"
     ]
    },
    {
     "name": "stdout",
     "output_type": "stream",
     "text": [
      "[download] 100% of  742.51KiB in 00:00:02 at 256.86KiB/s\n",
      "[ExtractAudio] Destination: ./test/StimuliFinal/long/Lyrics/The Weather Girls - It's Raining Men (Video) [l5aZJBLAu1E].wav\n",
      "Deleting original file ./test/StimuliFinal/long/Lyrics/The Weather Girls - It's Raining Men (Video) [l5aZJBLAu1E].webm (pass -k to keep)\n"
     ]
    },
    {
     "name": "stderr",
     "output_type": "stream",
     "text": [
      "size=     743kB time=00:01:01.99 bitrate=  98.1kbits/s speed=23.6x    \n",
      "video:0kB audio:720kB subtitle:0kB other streams:0kB global headers:0kB muxing overhead: 3.069476%\n"
     ]
    },
    {
     "name": "stdout",
     "output_type": "stream",
     "text": [
      "Downloading long track : Babooshka https://www.youtube.com/watch?v=3NMhpI2-pLU\n",
      "[youtube] Extracting URL: https://www.youtube.com/watch?v=3NMhpI2-pLU\n",
      "[youtube] 3NMhpI2-pLU: Downloading webpage\n",
      "[youtube] 3NMhpI2-pLU: Downloading ios player API JSON\n",
      "[youtube] 3NMhpI2-pLU: Downloading android player API JSON\n",
      "[youtube] 3NMhpI2-pLU: Downloading m3u8 information\n",
      "[info] 3NMhpI2-pLU: Downloading 1 format(s): 251\n",
      "[info] 3NMhpI2-pLU: Downloading 1 time ranges: 17.0-72.0\n",
      "[download] Destination: ./test/StimuliFinal/long/Lyrics/Babooshka (2018 Remaster) [3NMhpI2-pLU].webm\n"
     ]
    },
    {
     "name": "stderr",
     "output_type": "stream",
     "text": [
      "Input #0, matroska,webm, from 'https://rr1---sn-gpn9-t0as.googlevideo.com/videoplayback?expire=1697588428&ei=bNAuZff8EYHNgwP-o4roAw&ip=206.167.239.2&id=o-ANNqibFmWi0fKCKzNcEMomIUgHUSCVCAsxlx_zVLrWRW&itag=251&source=youtube&requiressl=yes&mh=ZM&mm=31%2C29&mn=sn-gpn9-t0as%2Csn-t0a7sn7d&ms=au%2Crdu&mv=m&mvi=1&pl=24&pcm2=no&gcr=ca&initcwndbps=1092500&spc=UWF9f1mT5Oib1Nk2hnJIk-T1CEvl64c&vprv=1&svpuc=1&mime=audio%2Fwebm&gir=yes&clen=3294624&dur=199.241&lmt=1571197585855182&mt=1697566622&fvip=1&keepalive=yes&fexp=24007246&beids=24350018&c=ANDROID&txp=2301222&sparams=expire%2Cei%2Cip%2Cid%2Citag%2Csource%2Crequiressl%2Cpcm2%2Cgcr%2Cspc%2Cvprv%2Csvpuc%2Cmime%2Cgir%2Cclen%2Cdur%2Clmt&sig=AGM4YrMwRQIhAMVBfTTVS4HjT06Sv06BhQQBqbDnXTTFwL7e0TE-n8uSAiAboF4a-yggaETB_Kj6aleV4r5ee7uuJfADDBrZrsyGeg%3D%3D&lsparams=mh%2Cmm%2Cmn%2Cms%2Cmv%2Cmvi%2Cpl%2Cinitcwndbps&lsig=AK1ks_kwRgIhAJWxTYNxNkgpn6dqSkuFeMo_sIK1j3qt_q20DOdZk5-QAiEAjKEkqEt6iXkysGOOaPqx6kDvcqB-MXTkUxxu9YKXj2I%3D':\n",
      "  Metadata:\n",
      "    encoder         : google/video-file\n",
      "  Duration: 00:03:19.24, start: -0.007000, bitrate: 132 kb/s\n",
      "  Stream #0:0(eng): Audio: opus, 48000 Hz, stereo, fltp (default)\n",
      "Stream mapping:\n",
      "  Stream #0:0 -> #0:0 (opus (native) -> opus (libopus))\n",
      "Press [q] to stop, [?] for help\n",
      "[libopus @ 0x5587b0a71f80] No bit rate set. Defaulting to 96000 bps.\n",
      "Output #0, webm, to 'file:./test/StimuliFinal/long/Lyrics/Babooshka (2018 Remaster) [3NMhpI2-pLU].webm.part':\n",
      "  Metadata:\n",
      "    encoder         : Lavf58.76.100\n",
      "  Stream #0:0(eng): Audio: opus, 48000 Hz, stereo, flt, 96 kb/s (default)\n",
      "    Metadata:\n",
      "      encoder         : Lavc58.134.100 libopus\n",
      "size=     256kB time=00:00:44.45 bitrate=  47.2kbits/s speed=29.6x    \r"
     ]
    },
    {
     "name": "stdout",
     "output_type": "stream",
     "text": [
      "[download] 100% of  655.69KiB in 00:00:02 at 313.34KiB/s\n",
      "[ExtractAudio] Destination: ./test/StimuliFinal/long/Lyrics/Babooshka (2018 Remaster) [3NMhpI2-pLU].wav\n",
      "Deleting original file ./test/StimuliFinal/long/Lyrics/Babooshka (2018 Remaster) [3NMhpI2-pLU].webm (pass -k to keep)\n"
     ]
    },
    {
     "name": "stderr",
     "output_type": "stream",
     "text": [
      "size=     656kB time=00:00:54.99 bitrate=  97.7kbits/s speed=31.1x    \n",
      "video:0kB audio:636kB subtitle:0kB other streams:0kB global headers:0kB muxing overhead: 3.095831%\n"
     ]
    },
    {
     "name": "stdout",
     "output_type": "stream",
     "text": [
      "Downloading long track : Why You Wanna Trip on Me https://www.youtube.com/watch?v=C2FUzoy-UCg\n",
      "[youtube] Extracting URL: https://www.youtube.com/watch?v=C2FUzoy-UCg\n",
      "[youtube] C2FUzoy-UCg: Downloading webpage\n",
      "[youtube] C2FUzoy-UCg: Downloading ios player API JSON\n",
      "[youtube] C2FUzoy-UCg: Downloading android player API JSON\n",
      "[youtube] C2FUzoy-UCg: Downloading m3u8 information\n",
      "[info] C2FUzoy-UCg: Downloading 1 format(s): 251\n",
      "[info] C2FUzoy-UCg: Downloading 1 time ranges: 53.0-106.0\n",
      "[download] Destination: ./test/StimuliFinal/long/Lyrics/Michael Jackson - Why You Wanna Trip on Me (Audio) [C2FUzoy-UCg].webm\n"
     ]
    },
    {
     "name": "stderr",
     "output_type": "stream",
     "text": [
      "Input #0, matroska,webm, from 'https://rr3---sn-gpn9-t0as.googlevideo.com/videoplayback?expire=1697588432&ei=cNAuZfDjCpSP_9EPs7e1oAE&ip=206.167.239.2&id=o-ACHpeO2bNSDlKV7UQXyHqbwA9Le7SOdRMCW6qfDNmxZf&itag=251&source=youtube&requiressl=yes&mh=7R&mm=31%2C29&mn=sn-gpn9-t0as%2Csn-t0a7ln7d&ms=au%2Crdu&mv=m&mvi=3&pl=24&gcr=ca&initcwndbps=1092500&spc=UWF9f02N5sbCNUTk6szwCGZIy4nqWuM&vprv=1&svpuc=1&mime=audio%2Fwebm&gir=yes&clen=5257777&dur=324.901&lmt=1686012877421437&mt=1697566622&fvip=4&keepalive=yes&fexp=24007246&beids=24350018&c=ANDROID&txp=4532434&sparams=expire%2Cei%2Cip%2Cid%2Citag%2Csource%2Crequiressl%2Cgcr%2Cspc%2Cvprv%2Csvpuc%2Cmime%2Cgir%2Cclen%2Cdur%2Clmt&sig=AGM4YrMwRAIgAQJFg_AMC8wqeLDUh6en-YGEl-YXTaS5GVJfJ6EgeF8CIGk4dhaI69Vh6FRrx1tbhc3dDsN2Yu_Tdl0aKMsNXhXU&lsparams=mh%2Cmm%2Cmn%2Cms%2Cmv%2Cmvi%2Cpl%2Cinitcwndbps&lsig=AK1ks_kwRAIgXUm_zrj55y0-IZsB6FAchHArbomFJ29CZxO__Dl8Z0cCIGPPzfSwSDR54BlEwQTAy7XFU_pHbxnCwK3aYiNTp_py':\n",
      "  Metadata:\n",
      "    encoder         : google/video-file\n",
      "  Duration: 00:05:24.90, start: -0.007000, bitrate: 129 kb/s\n",
      "  Stream #0:0(eng): Audio: opus, 48000 Hz, stereo, fltp (default)\n",
      "Stream mapping:\n",
      "  Stream #0:0 -> #0:0 (opus (native) -> opus (libopus))\n",
      "Press [q] to stop, [?] for help\n",
      "[libopus @ 0x557eb73a3f80] No bit rate set. Defaulting to 96000 bps.\n",
      "Output #0, webm, to 'file:./test/StimuliFinal/long/Lyrics/Michael Jackson - Why You Wanna Trip on Me (Audio) [C2FUzoy-UCg].webm.part':\n",
      "  Metadata:\n",
      "    encoder         : Lavf58.76.100\n",
      "  Stream #0:0(eng): Audio: opus, 48000 Hz, stereo, flt, 96 kb/s (default)\n",
      "    Metadata:\n",
      "      encoder         : Lavc58.134.100 libopus\n",
      "size=     256kB time=00:00:44.39 bitrate=  47.2kbits/s speed=29.3x    \r"
     ]
    },
    {
     "name": "stdout",
     "output_type": "stream",
     "text": [
      "[download] 100% of  619.18KiB in 00:00:02 at 302.92KiB/s\n",
      "[ExtractAudio] Destination: ./test/StimuliFinal/long/Lyrics/Michael Jackson - Why You Wanna Trip on Me (Audio) [C2FUzoy-UCg].wav\n",
      "Deleting original file ./test/StimuliFinal/long/Lyrics/Michael Jackson - Why You Wanna Trip on Me (Audio) [C2FUzoy-UCg].webm (pass -k to keep)\n"
     ]
    },
    {
     "name": "stderr",
     "output_type": "stream",
     "text": [
      "size=     619kB time=00:00:52.99 bitrate=  95.7kbits/s speed=29.9x    \n",
      "video:0kB audio:600kB subtitle:0kB other streams:0kB global headers:0kB muxing overhead: 3.161853%\n"
     ]
    },
    {
     "name": "stdout",
     "output_type": "stream",
     "text": [
      "Downloading long track : Everybody Wants To Rule The World https://www.youtube.com/watch?v=znDgBy2mHbc\n",
      "[youtube] Extracting URL: https://www.youtube.com/watch?v=znDgBy2mHbc\n",
      "[youtube] znDgBy2mHbc: Downloading webpage\n",
      "[youtube] znDgBy2mHbc: Downloading ios player API JSON\n",
      "[youtube] znDgBy2mHbc: Downloading android player API JSON\n",
      "[youtube] znDgBy2mHbc: Downloading m3u8 information\n",
      "[info] znDgBy2mHbc: Downloading 1 format(s): 251\n",
      "[info] znDgBy2mHbc: Downloading 1 time ranges: 65.0-123.0\n",
      "[download] Destination: ./test/StimuliFinal/long/Lyrics/Tears For Fears - Everybody Wants To Rule The World (Official Archive Video) [znDgBy2mHbc].webm\n"
     ]
    },
    {
     "name": "stderr",
     "output_type": "stream",
     "text": [
      "Input #0, matroska,webm, from 'https://rr2---sn-gpn9-t0as.googlevideo.com/videoplayback?expire=1697588436&ei=dNAuZbGsF5qN_9EP1NKTuAk&ip=206.167.239.2&id=o-AHxkx7mPZfF_iNLdU_MWd4UOu5d_JDgD63klSfqImzLe&itag=251&source=youtube&requiressl=yes&mh=r0&mm=31%2C29&mn=sn-gpn9-t0as%2Csn-t0a7lnee&ms=au%2Crdu&mv=m&mvi=2&pl=24&gcr=ca&initcwndbps=1092500&spc=UWF9f6EM3MXDXUigu7NysXkT0qEE2Lg&vprv=1&svpuc=1&mime=audio%2Fwebm&gir=yes&clen=4226492&dur=251.101&lmt=1686006393299454&mt=1697566622&fvip=1&keepalive=yes&fexp=24007246&beids=24350018&c=ANDROID&txp=4532434&sparams=expire%2Cei%2Cip%2Cid%2Citag%2Csource%2Crequiressl%2Cgcr%2Cspc%2Cvprv%2Csvpuc%2Cmime%2Cgir%2Cclen%2Cdur%2Clmt&sig=AGM4YrMwRAIgHCco9-KbIL0rL0gQT-eSHoBbyNgEgYGkTdBy7LvHrGICICkJXkRYHSpnaLeb90QsLkzXHPY4UpQ_5b-y5_NJvarJ&lsparams=mh%2Cmm%2Cmn%2Cms%2Cmv%2Cmvi%2Cpl%2Cinitcwndbps&lsig=AK1ks_kwRAIgGNpznSZzZjxdAdI5gd2yT_tpQZ0Rc-Jv6JYrQwCEDbkCIDArJeILRf7ZXTvCpGzH6gxdSZ5Lwk2ekfMMXiX_Pxv5':\n",
      "  Metadata:\n",
      "    encoder         : google/video-file\n",
      "  Duration: 00:04:11.10, start: -0.007000, bitrate: 134 kb/s\n",
      "  Stream #0:0(eng): Audio: opus, 48000 Hz, stereo, fltp (default)\n",
      "Stream mapping:\n",
      "  Stream #0:0 -> #0:0 (opus (native) -> opus (libopus))\n",
      "Press [q] to stop, [?] for help\n",
      "[libopus @ 0x561509ca6380] No bit rate set. Defaulting to 96000 bps.\n",
      "Output #0, webm, to 'file:./test/StimuliFinal/long/Lyrics/Tears For Fears - Everybody Wants To Rule The World (Official Archive Video) [znDgBy2mHbc].webm.part':\n",
      "  Metadata:\n",
      "    encoder         : Lavf58.76.100\n",
      "  Stream #0:0(eng): Audio: opus, 48000 Hz, stereo, flt, 96 kb/s (default)\n",
      "    Metadata:\n",
      "      encoder         : Lavc58.134.100 libopus\n",
      "size=     256kB time=00:00:43.25 bitrate=  48.5kbits/s speed=9.31x    \r"
     ]
    },
    {
     "name": "stdout",
     "output_type": "stream",
     "text": [
      "[download] 100% of  684.54KiB in 00:00:05 at 120.51KiB/s\n",
      "[ExtractAudio] Destination: ./test/StimuliFinal/long/Lyrics/Tears For Fears - Everybody Wants To Rule The World (Official Archive Video) [znDgBy2mHbc].wav\n",
      "Deleting original file ./test/StimuliFinal/long/Lyrics/Tears For Fears - Everybody Wants To Rule The World (Official Archive Video) [znDgBy2mHbc].webm (pass -k to keep)\n"
     ]
    },
    {
     "name": "stderr",
     "output_type": "stream",
     "text": [
      "size=     685kB time=00:00:57.99 bitrate=  96.7kbits/s speed=11.4x    \n",
      "video:0kB audio:664kB subtitle:0kB other streams:0kB global headers:0kB muxing overhead: 3.120656%\n"
     ]
    },
    {
     "name": "stdout",
     "output_type": "stream",
     "text": [
      "Downloading long track : Murder by Numbers https://www.youtube.com/watch?v=tUq9fURN2VQ\n",
      "[youtube] Extracting URL: https://www.youtube.com/watch?v=tUq9fURN2VQ\n",
      "[youtube] tUq9fURN2VQ: Downloading webpage\n",
      "[youtube] tUq9fURN2VQ: Downloading ios player API JSON\n",
      "[youtube] tUq9fURN2VQ: Downloading android player API JSON\n",
      "[youtube] tUq9fURN2VQ: Downloading m3u8 information\n",
      "[info] tUq9fURN2VQ: Downloading 1 format(s): 251\n",
      "[info] tUq9fURN2VQ: Downloading 1 time ranges: 19.0-79.0\n",
      "[download] Destination: ./test/StimuliFinal/long/Lyrics/Murder By Numbers [tUq9fURN2VQ].webm\n"
     ]
    },
    {
     "name": "stderr",
     "output_type": "stream",
     "text": [
      "Input #0, matroska,webm, from 'https://rr4---sn-gpn9-t0as.googlevideo.com/videoplayback?expire=1697588444&ei=fNAuZbivCNei_9EP-9atoAk&ip=206.167.239.2&id=o-ALX6L8mlk51AiThZwhMd5nUW_XK1ey43KYOoQsYWUIPq&itag=251&source=youtube&requiressl=yes&mh=5u&mm=31%2C29&mn=sn-gpn9-t0as%2Csn-t0a7lnee&ms=au%2Crdu&mv=m&mvi=4&pl=24&gcr=ca&initcwndbps=1092500&spc=UWF9fzEoxZ0S5axf4xIfd9Fjwkfh1Kg&vprv=1&svpuc=1&mime=audio%2Fwebm&gir=yes&clen=4598767&dur=276.141&lmt=1577811361723687&mt=1697566622&fvip=2&keepalive=yes&fexp=24007246&beids=24350018&c=ANDROID&txp=2301222&sparams=expire%2Cei%2Cip%2Cid%2Citag%2Csource%2Crequiressl%2Cgcr%2Cspc%2Cvprv%2Csvpuc%2Cmime%2Cgir%2Cclen%2Cdur%2Clmt&sig=AGM4YrMwRgIhAOE67iNVordRtdPiii5wTpd3uSvQ4Z4aoEPr3vPO83C_AiEA1YiMK_ucfP8gpDfk0PlEB4JaxQnGkZDUpqil6sfTJ00%3D&lsparams=mh%2Cmm%2Cmn%2Cms%2Cmv%2Cmvi%2Cpl%2Cinitcwndbps&lsig=AK1ks_kwRQIgN0hKc7RVRl_11eFTIyHFroJr5zt3xutNg3mb-aLoLXcCIQDLbaX-0KCcadeAFL9TACUXbbfBsAA-pd2I0xI4IqXcRw%3D%3D':\n",
      "  Metadata:\n",
      "    encoder         : google/video-file\n",
      "  Duration: 00:04:36.14, start: -0.007000, bitrate: 133 kb/s\n",
      "  Stream #0:0(eng): Audio: opus, 48000 Hz, stereo, fltp (default)\n",
      "Stream mapping:\n",
      "  Stream #0:0 -> #0:0 (opus (native) -> opus (libopus))\n",
      "Press [q] to stop, [?] for help\n",
      "[libopus @ 0x5624eb8edf80] No bit rate set. Defaulting to 96000 bps.\n",
      "Output #0, webm, to 'file:./test/StimuliFinal/long/Lyrics/Murder By Numbers [tUq9fURN2VQ].webm.part':\n",
      "  Metadata:\n",
      "    encoder         : Lavf58.76.100\n",
      "  Stream #0:0(eng): Audio: opus, 48000 Hz, stereo, flt, 96 kb/s (default)\n",
      "    Metadata:\n",
      "      encoder         : Lavc58.134.100 libopus\n",
      "size=     256kB time=00:00:42.03 bitrate=  49.9kbits/s speed=18.1x    \r"
     ]
    },
    {
     "name": "stdout",
     "output_type": "stream",
     "text": [
      "[download] 100% of  736.62KiB in 00:00:03 at 240.47KiB/s\n",
      "[ExtractAudio] Destination: ./test/StimuliFinal/long/Lyrics/Murder By Numbers [tUq9fURN2VQ].wav\n",
      "Deleting original file ./test/StimuliFinal/long/Lyrics/Murder By Numbers [tUq9fURN2VQ].webm (pass -k to keep)\n"
     ]
    },
    {
     "name": "stderr",
     "output_type": "stream",
     "text": [
      "size=     737kB time=00:00:59.99 bitrate= 100.6kbits/s speed=21.4x    \n",
      "video:0kB audio:715kB subtitle:0kB other streams:0kB global headers:0kB muxing overhead: 2.996084%\n"
     ]
    },
    {
     "name": "stdout",
     "output_type": "stream",
     "text": [
      "Downloading long track : Material Girl https://www.youtube.com/watch?v=JO9h1fQU_-k\n",
      "[youtube] Extracting URL: https://www.youtube.com/watch?v=JO9h1fQU_-k\n",
      "[youtube] JO9h1fQU_-k: Downloading webpage\n",
      "[youtube] JO9h1fQU_-k: Downloading ios player API JSON\n",
      "[youtube] JO9h1fQU_-k: Downloading android player API JSON\n",
      "[youtube] JO9h1fQU_-k: Downloading m3u8 information\n",
      "[info] JO9h1fQU_-k: Downloading 1 format(s): 251\n",
      "[info] JO9h1fQU_-k: Downloading 1 time ranges: 25.0-75.0\n",
      "[download] Destination: ./test/StimuliFinal/long/Lyrics/Material Girl [JO9h1fQU_-k].webm\n"
     ]
    },
    {
     "name": "stderr",
     "output_type": "stream",
     "text": [
      "Input #0, matroska,webm, from 'https://rr1---sn-gpn9-t0as.googlevideo.com/videoplayback?expire=1697588450&ei=gtAuZaGPCeCF_9EP0se02Aw&ip=206.167.239.2&id=o-AOr8BSr-APfa5Se_0KHPYJiCp1YEYJkd-ZCnZDNcLwOB&itag=251&source=youtube&requiressl=yes&mh=bQ&mm=31%2C29&mn=sn-gpn9-t0as%2Csn-t0a7sn7d&ms=au%2Crdu&mv=m&mvi=1&pl=24&gcr=ca&initcwndbps=1088750&spc=UWF9f0kqTcFXXb2HwnE2JGMZzaAjg3E&vprv=1&svpuc=1&mime=audio%2Fwebm&gir=yes&clen=3868801&dur=240.301&lmt=1590602413638714&mt=1697566143&fvip=2&keepalive=yes&fexp=24007246&beids=24350018&c=ANDROID&txp=5531432&sparams=expire%2Cei%2Cip%2Cid%2Citag%2Csource%2Crequiressl%2Cgcr%2Cspc%2Cvprv%2Csvpuc%2Cmime%2Cgir%2Cclen%2Cdur%2Clmt&sig=AGM4YrMwRQIhAOGgz_MYQ_Aw0eeBVSwirQYJKJMCgSWMVJ0zvnlR_2YNAiAxjRla6vsiPTN0-pqxZmGGAy7C2pnBOAvHkvIPjZhgow%3D%3D&lsparams=mh%2Cmm%2Cmn%2Cms%2Cmv%2Cmvi%2Cpl%2Cinitcwndbps&lsig=AK1ks_kwRgIhANlcGb5Cgc7gKcRUCCePx0jAvYnavF9WdG02bQ0xeyITAiEAu1Cvk0rwhbCpJaC5IjzqqFTAg49wMtrnSutXJ7rklIE%3D':\n",
      "  Metadata:\n",
      "    encoder         : google/video-file\n",
      "  Duration: 00:04:00.30, start: -0.007000, bitrate: 128 kb/s\n",
      "  Stream #0:0(eng): Audio: opus, 48000 Hz, stereo, fltp (default)\n",
      "Stream mapping:\n",
      "  Stream #0:0 -> #0:0 (opus (native) -> opus (libopus))\n",
      "Press [q] to stop, [?] for help\n",
      "[libopus @ 0x55be6e254f80] No bit rate set. Defaulting to 96000 bps.\n",
      "Output #0, webm, to 'file:./test/StimuliFinal/long/Lyrics/Material Girl [JO9h1fQU_-k].webm.part':\n",
      "  Metadata:\n",
      "    encoder         : Lavf58.76.100\n",
      "  Stream #0:0(eng): Audio: opus, 48000 Hz, stereo, flt, 96 kb/s (default)\n",
      "    Metadata:\n",
      "      encoder         : Lavc58.134.100 libopus\n",
      "size=     256kB time=00:00:28.19 bitrate=  74.4kbits/s speed=21.2x    \r"
     ]
    },
    {
     "name": "stdout",
     "output_type": "stream",
     "text": [
      "[download] 100% of  589.27KiB in 00:00:02 at 209.79KiB/s\n"
     ]
    },
    {
     "name": "stderr",
     "output_type": "stream",
     "text": [
      "size=     589kB time=00:00:49.99 bitrate=  96.6kbits/s speed=19.7x    \n",
      "video:0kB audio:571kB subtitle:0kB other streams:0kB global headers:0kB muxing overhead: 3.142061%\n"
     ]
    },
    {
     "name": "stdout",
     "output_type": "stream",
     "text": [
      "[ExtractAudio] Destination: ./test/StimuliFinal/long/Lyrics/Material Girl [JO9h1fQU_-k].wav\n",
      "Deleting original file ./test/StimuliFinal/long/Lyrics/Material Girl [JO9h1fQU_-k].webm (pass -k to keep)\n",
      "Downloading long track : Never Gonna Give You Up https://www.youtube.com/watch?v=dQw4w9WgXcQ\n",
      "[youtube] Extracting URL: https://www.youtube.com/watch?v=dQw4w9WgXcQ\n",
      "[youtube] dQw4w9WgXcQ: Downloading webpage\n",
      "[youtube] dQw4w9WgXcQ: Downloading ios player API JSON\n",
      "[youtube] dQw4w9WgXcQ: Downloading android player API JSON\n",
      "[youtube] dQw4w9WgXcQ: Downloading m3u8 information\n",
      "[info] dQw4w9WgXcQ: Downloading 1 format(s): 251\n",
      "[info] dQw4w9WgXcQ: Downloading 1 time ranges: 10.0-60.0\n",
      "[download] Destination: ./test/StimuliFinal/long/Lyrics/Rick Astley - Never Gonna Give You Up (Official Music Video) [dQw4w9WgXcQ].webm\n"
     ]
    },
    {
     "name": "stderr",
     "output_type": "stream",
     "text": [
      "Input #0, matroska,webm, from 'https://rr2---sn-gpn9-t0as.googlevideo.com/videoplayback?expire=1697588454&ei=htAuZf_YL-Kh_9EP8oCQyAY&ip=206.167.239.2&id=o-AAo53_OuCo1TLC_mzBFT0hc10c_AFbSL3M9SAQYS5ESG&itag=251&source=youtube&requiressl=yes&mh=7c&mm=31%2C29&mn=sn-gpn9-t0as%2Csn-t0a7sn7d&ms=au%2Crdu&mv=m&mvi=2&pl=24&initcwndbps=1092500&spc=UWF9f9ElNN9g9wNmIGLUvdUecpXscxw&vprv=1&svpuc=1&mime=audio%2Fwebm&gir=yes&clen=3437753&dur=212.061&lmt=1696366847061576&mt=1697566622&fvip=1&keepalive=yes&fexp=24007246&beids=24350018&c=ANDROID&txp=4532434&sparams=expire%2Cei%2Cip%2Cid%2Citag%2Csource%2Crequiressl%2Cspc%2Cvprv%2Csvpuc%2Cmime%2Cgir%2Cclen%2Cdur%2Clmt&sig=AGM4YrMwRQIgJv7CRJN3_GDH0Sfo1yq0dBwS1PI2HLKfNQ56XKg8i3QCIQCawa_5qRL2XCn6Oq26GAunwQU3nJk-Fjkm8H-AG0mykA%3D%3D&lsparams=mh%2Cmm%2Cmn%2Cms%2Cmv%2Cmvi%2Cpl%2Cinitcwndbps&lsig=AK1ks_kwRgIhAJEayJFyXEV4l1CDFyirREODgLAm6DhHe_cb20xpyBQ6AiEAwg892KeiRfjsVHhl3IA9eVInJWaS3kFV_BFq6O8K1AI%3D':\n",
      "  Metadata:\n",
      "    encoder         : google/video-file\n",
      "  Duration: 00:03:32.06, start: -0.007000, bitrate: 129 kb/s\n",
      "  Stream #0:0(eng): Audio: opus, 48000 Hz, stereo, fltp (default)\n",
      "Stream mapping:\n",
      "  Stream #0:0 -> #0:0 (opus (native) -> opus (libopus))\n",
      "Press [q] to stop, [?] for help\n",
      "[libopus @ 0x5567b7a1c000] No bit rate set. Defaulting to 96000 bps.\n",
      "Output #0, webm, to 'file:./test/StimuliFinal/long/Lyrics/Rick Astley - Never Gonna Give You Up (Official Music Video) [dQw4w9WgXcQ].webm.part':\n",
      "  Metadata:\n",
      "    encoder         : Lavf58.76.100\n",
      "  Stream #0:0(eng): Audio: opus, 48000 Hz, stereo, flt, 96 kb/s (default)\n",
      "    Metadata:\n",
      "      encoder         : Lavc58.134.100 libopus\n",
      "size=     256kB time=00:00:25.37 bitrate=  82.6kbits/s speed=25.1x    \r"
     ]
    },
    {
     "name": "stdout",
     "output_type": "stream",
     "text": [
      "[download] 100% of  598.77KiB in 00:00:01 at 334.11KiB/s\n",
      "[ExtractAudio] Destination: ./test/StimuliFinal/long/Lyrics/Rick Astley - Never Gonna Give You Up (Official Music Video) [dQw4w9WgXcQ].wav\n"
     ]
    },
    {
     "name": "stderr",
     "output_type": "stream",
     "text": [
      "size=     599kB time=00:00:49.99 bitrate=  98.1kbits/s speed=  30x    \n",
      "video:0kB audio:581kB subtitle:0kB other streams:0kB global headers:0kB muxing overhead: 3.090674%\n"
     ]
    },
    {
     "name": "stdout",
     "output_type": "stream",
     "text": [
      "Deleting original file ./test/StimuliFinal/long/Lyrics/Rick Astley - Never Gonna Give You Up (Official Music Video) [dQw4w9WgXcQ].webm (pass -k to keep)\n",
      "Downloading long track : Gangsta's Paradise https://www.youtube.com/watch?v=Tw0_qHNRAEA\n",
      "[youtube] Extracting URL: https://www.youtube.com/watch?v=Tw0_qHNRAEA\n",
      "[youtube] Tw0_qHNRAEA: Downloading webpage\n",
      "[youtube] Tw0_qHNRAEA: Downloading ios player API JSON\n",
      "[youtube] Tw0_qHNRAEA: Downloading android player API JSON\n",
      "[youtube] Tw0_qHNRAEA: Downloading m3u8 information\n",
      "[info] Tw0_qHNRAEA: Downloading 1 format(s): 251\n",
      "[info] Tw0_qHNRAEA: Downloading 1 time ranges: 11.0-72.0\n",
      "[download] Destination: ./test/StimuliFinal/long/Lyrics/Gangsta's Paradise [Tw0_qHNRAEA].webm\n"
     ]
    },
    {
     "name": "stderr",
     "output_type": "stream",
     "text": [
      "Input #0, matroska,webm, from 'https://rr1---sn-gpn9-t0as.googlevideo.com/videoplayback?expire=1697588458&ei=itAuZarBKLWj_9EPiZmtyAg&ip=206.167.239.2&id=o-AMCl0VK5iZzrHPgV4O8uC1YQsgrfBGs0auekcyjFGdd7&itag=251&source=youtube&requiressl=yes&mh=LY&mm=31%2C29&mn=sn-gpn9-t0as%2Csn-t0a7lnee&ms=au%2Crdu&mv=m&mvi=1&pl=24&gcr=ca&initcwndbps=1088750&spc=UWF9fzioappHW4bYNTUzaqVQIrd7TXY&vprv=1&svpuc=1&mime=audio%2Fwebm&gir=yes&clen=3841486&dur=241.021&lmt=1663829489615992&mt=1697566143&fvip=2&keepalive=yes&fexp=24007246&beids=24350018&c=ANDROID&txp=2318224&sparams=expire%2Cei%2Cip%2Cid%2Citag%2Csource%2Crequiressl%2Cgcr%2Cspc%2Cvprv%2Csvpuc%2Cmime%2Cgir%2Cclen%2Cdur%2Clmt&sig=AGM4YrMwRQIhAJ0I22lQz_J3GnMwi9IjoZ4tbrRhERqweW_dTcFB4KMzAiAJ75E7BJpThsRDGxdTVsBKGf9BW05nyNAftzUBF6WGIw%3D%3D&lsparams=mh%2Cmm%2Cmn%2Cms%2Cmv%2Cmvi%2Cpl%2Cinitcwndbps&lsig=AK1ks_kwRgIhAOEaft1j6-oMGeWWeI6-f79TgEYYCD20K8Uyc8zcgFo-AiEAtAblr11T9KupAKJ4WwIKe5iHZXhOpvAgs-sZUgs3OLI%3D':\n",
      "  Metadata:\n",
      "    encoder         : google/video-file\n",
      "  Duration: 00:04:01.02, start: -0.007000, bitrate: 127 kb/s\n",
      "  Stream #0:0(eng): Audio: opus, 48000 Hz, stereo, fltp (default)\n",
      "Stream mapping:\n",
      "  Stream #0:0 -> #0:0 (opus (native) -> opus (libopus))\n",
      "Press [q] to stop, [?] for help\n",
      "[libopus @ 0x55a5b348bf80] No bit rate set. Defaulting to 96000 bps.\n",
      "Output #0, webm, to 'file:./test/StimuliFinal/long/Lyrics/Gangsta's Paradise [Tw0_qHNRAEA].webm.part':\n",
      "  Metadata:\n",
      "    encoder         : Lavf58.76.100\n",
      "  Stream #0:0(eng): Audio: opus, 48000 Hz, stereo, flt, 96 kb/s (default)\n",
      "    Metadata:\n",
      "      encoder         : Lavc58.134.100 libopus\n",
      "size=     256kB time=00:00:47.17 bitrate=  44.5kbits/s speed=24.1x    \r"
     ]
    },
    {
     "name": "stdout",
     "output_type": "stream",
     "text": [
      "[download] 100% of  693.35KiB in 00:00:02 at 271.11KiB/s\n",
      "[ExtractAudio] Destination: ./test/StimuliFinal/long/Lyrics/Gangsta's Paradise [Tw0_qHNRAEA].wav\n",
      "Deleting original file ./test/StimuliFinal/long/Lyrics/Gangsta's Paradise [Tw0_qHNRAEA].webm (pass -k to keep)\n"
     ]
    },
    {
     "name": "stderr",
     "output_type": "stream",
     "text": [
      "size=     693kB time=00:01:00.99 bitrate=  93.1kbits/s speed=26.4x    \n",
      "video:0kB audio:672kB subtitle:0kB other streams:0kB global headers:0kB muxing overhead: 3.241549%\n"
     ]
    },
    {
     "name": "stdout",
     "output_type": "stream",
     "text": [
      "Downloading long track : I’ll Be There for You https://www.youtube.com/watch?v=RIjTq_OdFvo\n",
      "[youtube] Extracting URL: https://www.youtube.com/watch?v=RIjTq_OdFvo\n",
      "[youtube] RIjTq_OdFvo: Downloading webpage\n",
      "[youtube] RIjTq_OdFvo: Downloading ios player API JSON\n",
      "[youtube] RIjTq_OdFvo: Downloading android player API JSON\n",
      "[youtube] RIjTq_OdFvo: Downloading m3u8 information\n",
      "[info] RIjTq_OdFvo: Downloading 1 format(s): 251\n",
      "[info] RIjTq_OdFvo: Downloading 1 time ranges: 0.0-47.0\n",
      "[download] Destination: ./test/StimuliFinal/long/Lyrics/I'll Be There for You (Theme From ＂Friends＂) [RIjTq_OdFvo].webm\n"
     ]
    },
    {
     "name": "stderr",
     "output_type": "stream",
     "text": [
      "Input #0, matroska,webm, from 'https://rr3---sn-gpn9-t0as.googlevideo.com/videoplayback?expire=1697588462&ei=jtAuZb-oNNyp_9EPou-jyAg&ip=206.167.239.2&id=o-AB1MFj01nT0Zw8upt3TPDapwf1_iYmMrzrmjvin9Auvj&itag=251&source=youtube&requiressl=yes&mh=S-&mm=31%2C29&mn=sn-gpn9-t0as%2Csn-t0a7lnee&ms=au%2Crdu&mv=m&mvi=3&pl=24&gcr=ca&initcwndbps=1088750&spc=UWF9f8KSpKceTovW0sKKiCDMClF_nK4&vprv=1&svpuc=1&mime=audio%2Fwebm&gir=yes&clen=3091740&dur=188.381&lmt=1621528387662293&mt=1697566143&fvip=5&keepalive=yes&fexp=24007246&beids=24350018&c=ANDROID&txp=5432434&sparams=expire%2Cei%2Cip%2Cid%2Citag%2Csource%2Crequiressl%2Cgcr%2Cspc%2Cvprv%2Csvpuc%2Cmime%2Cgir%2Cclen%2Cdur%2Clmt&sig=AGM4YrMwRgIhANfXyPGrGPWqblu9Y6zjFcuCVSXZLEPrrs39YCnhZtBdAiEAsBoXrrC2jIxW-ZghEL67vj54KLsu2x_nkKX4R9aROPs%3D&lsparams=mh%2Cmm%2Cmn%2Cms%2Cmv%2Cmvi%2Cpl%2Cinitcwndbps&lsig=AK1ks_kwRQIhAJ-dSMQJTidpXYiN2g_PNTX_ld86171MMnfo0gXaTxAeAiAMVIgAbR0RzA4X2toeYaNOP0wnkb-vA3XGRor0osRkWw%3D%3D':\n",
      "  Metadata:\n",
      "    encoder         : google/video-file\n",
      "  Duration: 00:03:08.38, start: -0.007000, bitrate: 131 kb/s\n",
      "  Stream #0:0(eng): Audio: opus, 48000 Hz, stereo, fltp (default)\n",
      "Stream mapping:\n",
      "  Stream #0:0 -> #0:0 (opus (native) -> opus (libopus))\n",
      "Press [q] to stop, [?] for help\n",
      "[libopus @ 0x560646fffc00] No bit rate set. Defaulting to 96000 bps.\n",
      "Output #0, webm, to 'file:./test/StimuliFinal/long/Lyrics/I'll Be There for You (Theme From ＂Friends＂) [RIjTq_OdFvo].webm.part':\n",
      "  Metadata:\n",
      "    encoder         : Lavf58.76.100\n",
      "  Stream #0:0(eng): Audio: opus, 48000 Hz, stereo, flt, 96 kb/s (default)\n",
      "    Metadata:\n",
      "      encoder         : Lavc58.134.100 libopus\n",
      "size=     256kB time=00:00:36.14 bitrate=  58.0kbits/s speed=35.9x    \r"
     ]
    },
    {
     "name": "stdout",
     "output_type": "stream",
     "text": [
      "[download] 100% of  573.33KiB in 00:00:01 at 403.34KiB/s\n",
      "[ExtractAudio] Destination: ./test/StimuliFinal/long/Lyrics/I'll Be There for You (Theme From ＂Friends＂) [RIjTq_OdFvo].wav\n",
      "Deleting original file ./test/StimuliFinal/long/Lyrics/I'll Be There for You (Theme From ＂Friends＂) [RIjTq_OdFvo].webm (pass -k to keep)\n"
     ]
    },
    {
     "name": "stderr",
     "output_type": "stream",
     "text": [
      "size=     573kB time=00:00:47.00 bitrate=  99.9kbits/s speed=36.2x    \n",
      "video:0kB audio:556kB subtitle:0kB other streams:0kB global headers:0kB muxing overhead: 3.036919%\n"
     ]
    },
    {
     "name": "stdout",
     "output_type": "stream",
     "text": [
      "Downloading long track : Can’t Live With You, Can’t Live Without You https://www.youtube.com/watch?v=bY8PUuZR4tw\n",
      "[youtube] Extracting URL: https://www.youtube.com/watch?v=bY8PUuZR4tw\n",
      "[youtube] bY8PUuZR4tw: Downloading webpage\n",
      "[youtube] bY8PUuZR4tw: Downloading ios player API JSON\n",
      "[youtube] bY8PUuZR4tw: Downloading android player API JSON\n",
      "[youtube] bY8PUuZR4tw: Downloading m3u8 information\n",
      "[info] bY8PUuZR4tw: Downloading 1 format(s): 251\n",
      "[info] bY8PUuZR4tw: Downloading 1 time ranges: 31.0-91.0\n",
      "[download] Destination: ./test/StimuliFinal/long/Lyrics/Billy Newton-Davis, Céline Dion - Can’t Live With You, Can’t Live Without You (Official Audio) [bY8PUuZR4tw].webm\n"
     ]
    },
    {
     "name": "stderr",
     "output_type": "stream",
     "text": [
      "Input #0, matroska,webm, from 'https://rr1---sn-gpn9-t0as.googlevideo.com/videoplayback?expire=1697588465&ei=kdAuZbX4OMyl_9EPjJOYkAM&ip=206.167.239.2&id=o-ADnaqyBO316IAWvdmTY-3gvTc3HYigKDTOUYCTCDufrP&itag=251&source=youtube&requiressl=yes&mh=u_&mm=31%2C29&mn=sn-gpn9-t0as%2Csn-t0a7lnee&ms=au%2Crdu&mv=m&mvi=1&pl=24&initcwndbps=1088750&spc=UWF9f60ztA02hQZiT0hqXKL9h3FZyn8&vprv=1&svpuc=1&mime=audio%2Fwebm&gir=yes&clen=4115443&dur=257.181&lmt=1640774368885043&mt=1697566143&fvip=1&keepalive=yes&fexp=24007246&beids=24350018&c=ANDROID&txp=6211224&sparams=expire%2Cei%2Cip%2Cid%2Citag%2Csource%2Crequiressl%2Cspc%2Cvprv%2Csvpuc%2Cmime%2Cgir%2Cclen%2Cdur%2Clmt&sig=AGM4YrMwRQIgchq7F63rcUlUwpJaMpIq0f9cYDSA0J0rCOGxXz9FPLACIQCZjW71nBV8iV2NNfxC94tzZTKVxhUJeGiDqTT7znIiqA%3D%3D&lsparams=mh%2Cmm%2Cmn%2Cms%2Cmv%2Cmvi%2Cpl%2Cinitcwndbps&lsig=AK1ks_kwRgIhALbeOwAa7GSJNApFKbZCbSmjyGEJJi9mlTrCWafJHwWVAiEAp6bBqOLqbHbLowGJg9NNnDlTs-CxJbWb_CQtHkSF9q8%3D':\n",
      "  Metadata:\n",
      "    encoder         : google/video-file\n",
      "  Duration: 00:04:17.18, start: -0.007000, bitrate: 128 kb/s\n",
      "  Stream #0:0(eng): Audio: opus, 48000 Hz, stereo, fltp (default)\n",
      "Stream mapping:\n",
      "  Stream #0:0 -> #0:0 (opus (native) -> opus (libopus))\n",
      "Press [q] to stop, [?] for help\n",
      "[libopus @ 0x55d072bd2380] No bit rate set. Defaulting to 96000 bps.\n",
      "Output #0, webm, to 'file:./test/StimuliFinal/long/Lyrics/Billy Newton-Davis, Céline Dion - Can’t Live With You, Can’t Live Without You (Official Audio) [bY8PUuZR4tw].webm.part':\n",
      "  Metadata:\n",
      "    encoder         : Lavf58.76.100\n",
      "  Stream #0:0(eng): Audio: opus, 48000 Hz, stereo, flt, 96 kb/s (default)\n",
      "    Metadata:\n",
      "      encoder         : Lavc58.134.100 libopus\n",
      "size=     512kB time=00:00:50.73 bitrate=  82.7kbits/s speed=23.6x    \r"
     ]
    },
    {
     "name": "stdout",
     "output_type": "stream",
     "text": [
      "[download] 100% of  723.04KiB in 00:00:02 at 273.83KiB/s\n",
      "[ExtractAudio] Destination: ./test/StimuliFinal/long/Lyrics/Billy Newton-Davis, Céline Dion - Can’t Live With You, Can’t Live Without You (Official Audio) [bY8PUuZR4tw].wav\n",
      "Deleting original file ./test/StimuliFinal/long/Lyrics/Billy Newton-Davis, Céline Dion - Can’t Live With You, Can’t Live Without You (Official Audio) [bY8PUuZR4tw].webm (pass -k to keep)\n"
     ]
    },
    {
     "name": "stderr",
     "output_type": "stream",
     "text": [
      "size=     723kB time=00:00:59.99 bitrate=  98.7kbits/s speed=25.1x    \n",
      "video:0kB audio:702kB subtitle:0kB other streams:0kB global headers:0kB muxing overhead: 3.054070%\n"
     ]
    },
    {
     "name": "stdout",
     "output_type": "stream",
     "text": [
      "Downloading long track : Creep https://www.youtube.com/watch?v=XFkzRNyygfk\n",
      "[youtube] Extracting URL: https://www.youtube.com/watch?v=XFkzRNyygfk\n",
      "[youtube] XFkzRNyygfk: Downloading webpage\n",
      "[youtube] XFkzRNyygfk: Downloading ios player API JSON\n",
      "[youtube] XFkzRNyygfk: Downloading android player API JSON\n",
      "[youtube] XFkzRNyygfk: Downloading m3u8 information\n",
      "[info] XFkzRNyygfk: Downloading 1 format(s): 251\n",
      "[info] XFkzRNyygfk: Downloading 1 time ranges: 36.0-85.0\n",
      "[download] Destination: ./test/StimuliFinal/long/Lyrics/Radiohead - Creep [XFkzRNyygfk].webm\n"
     ]
    },
    {
     "name": "stderr",
     "output_type": "stream",
     "text": [
      "Input #0, matroska,webm, from 'https://rr3---sn-gpn9-t0as.googlevideo.com/videoplayback?expire=1697588469&ei=ldAuZdXPLY334QSx-7jQAg&ip=206.167.239.2&id=o-ACojPFYSDPF8nouwBNVagGeswgNTT473tKv8ev0RkUEi&itag=251&source=youtube&requiressl=yes&mh=md&mm=31%2C29&mn=sn-gpn9-t0as%2Csn-t0a7sn7d&ms=au%2Crdu&mv=m&mvi=3&pl=24&initcwndbps=1092500&spc=UWF9f2_sHWsSuoePu5rdzFUUOWih_DyLhyg8zn2BCA&vprv=1&svpuc=1&mime=audio%2Fwebm&ns=MY23rOd76yxck-pziq9F9DUP&gir=yes&clen=4037230&dur=236.601&lmt=1659419851691368&mt=1697566622&fvip=5&keepalive=yes&fexp=24007246&beids=24350018&c=WEB&txp=4532434&n=yE9mHGFyY2FTAQ&sparams=expire%2Cei%2Cip%2Cid%2Citag%2Csource%2Crequiressl%2Cspc%2Cvprv%2Csvpuc%2Cmime%2Cns%2Cgir%2Cclen%2Cdur%2Clmt&lsparams=mh%2Cmm%2Cmn%2Cms%2Cmv%2Cmvi%2Cpl%2Cinitcwndbps&lsig=AK1ks_kwRAIgNTGAHmrTR_WDHXapJJL8PsrmhUu4vDf8hF9SjxtOqEECIFVTms9dZ-dIWMSVNIzxvvaOiYmusLaHcCrFTGHtD4Ik&sig=AGM4YrMwRQIgZHmBrPH-IogHDaPuXXrFaGrSjJ3ipjkOwxc4ANhXmfICIQD3CYXJ4av40BQMfHIQ_vAtBYGo8IyXmTagxJNxumCUeQ%3D%3D':\n",
      "  Metadata:\n",
      "    encoder         : google/video-file\n",
      "  Duration: 00:03:56.60, start: -0.007000, bitrate: 136 kb/s\n",
      "  Stream #0:0(eng): Audio: opus, 48000 Hz, stereo, fltp (default)\n",
      "Stream mapping:\n",
      "  Stream #0:0 -> #0:0 (opus (native) -> opus (libopus))\n",
      "Press [q] to stop, [?] for help\n",
      "[libopus @ 0x56285ab06240] No bit rate set. Defaulting to 96000 bps.\n",
      "Output #0, webm, to 'file:./test/StimuliFinal/long/Lyrics/Radiohead - Creep [XFkzRNyygfk].webm.part':\n",
      "  Metadata:\n",
      "    encoder         : Lavf58.76.100\n",
      "  Stream #0:0(eng): Audio: opus, 48000 Hz, stereo, flt, 96 kb/s (default)\n",
      "    Metadata:\n",
      "      encoder         : Lavc58.134.100 libopus\n",
      "size=     256kB time=00:00:32.31 bitrate=  64.9kbits/s speed=7.84x    \r"
     ]
    },
    {
     "name": "stdout",
     "output_type": "stream",
     "text": [
      "[download] 100% of  613.26KiB in 00:00:05 at 117.03KiB/s\n",
      "[ExtractAudio] Destination: ./test/StimuliFinal/long/Lyrics/Radiohead - Creep [XFkzRNyygfk].wav\n"
     ]
    },
    {
     "name": "stderr",
     "output_type": "stream",
     "text": [
      "size=     613kB time=00:00:48.99 bitrate= 102.5kbits/s speed=10.4x    \n",
      "video:0kB audio:596kB subtitle:0kB other streams:0kB global headers:0kB muxing overhead: 2.951621%\n"
     ]
    },
    {
     "name": "stdout",
     "output_type": "stream",
     "text": [
      "Deleting original file ./test/StimuliFinal/long/Lyrics/Radiohead - Creep [XFkzRNyygfk].webm (pass -k to keep)\n",
      "Downloading long track : The Office (Main Theme) \"Tv Short Version\"  https://www.youtube.com/watch?v=3cMctz6KNsg\n",
      "[youtube] Extracting URL: https://www.youtube.com/watch?v=3cMctz6KNsg\n",
      "[youtube] 3cMctz6KNsg: Downloading webpage\n",
      "[youtube] 3cMctz6KNsg: Downloading ios player API JSON\n",
      "[youtube] 3cMctz6KNsg: Downloading android player API JSON\n",
      "[youtube] 3cMctz6KNsg: Downloading m3u8 information\n",
      "[info] 3cMctz6KNsg: Downloading 1 format(s): 251\n",
      "[info] 3cMctz6KNsg: Downloading 1 time ranges: 0.0-34.0\n",
      "[download] Destination: ./test/StimuliFinal/long/Orchestral/The Office (Main Theme) ＂Tv Short Version＂ [3cMctz6KNsg].webm\n"
     ]
    },
    {
     "name": "stderr",
     "output_type": "stream",
     "text": [
      "Input #0, matroska,webm, from 'https://rr4---sn-gpn9-t0as.googlevideo.com/videoplayback?expire=1697588478&ei=ntAuZZDvC9Lt8wSzuLnACA&ip=206.167.239.2&id=o-AHk6en27alNRtXEDGvezYf9uwHbdMdOzz-v0I7Kt1fbz&itag=251&source=youtube&requiressl=yes&mh=V1&mm=31%2C29&mn=sn-gpn9-t0as%2Csn-t0a7sn7d&ms=au%2Crdu&mv=m&mvi=4&pl=24&gcr=ca&initcwndbps=1092500&spc=UWF9f-17OBkMFySd_qlPxJyuEnSw104&vprv=1&svpuc=1&mime=audio%2Fwebm&gir=yes&clen=686404&dur=34.841&lmt=1569423260306701&mt=1697566622&fvip=1&keepalive=yes&fexp=24007246&beids=24350017&c=ANDROID&txp=8301222&sparams=expire%2Cei%2Cip%2Cid%2Citag%2Csource%2Crequiressl%2Cgcr%2Cspc%2Cvprv%2Csvpuc%2Cmime%2Cgir%2Cclen%2Cdur%2Clmt&sig=AGM4YrMwRQIgZ1Dfzu3DyRP6rMXkxcTA7GhlIfYraf3IfkC5gNtT9FECIQDpsX33ZcEH9xdSGPXC8QNjnILdG9eLK1smfED3YsX8Lw%3D%3D&lsparams=mh%2Cmm%2Cmn%2Cms%2Cmv%2Cmvi%2Cpl%2Cinitcwndbps&lsig=AK1ks_kwRQIgYPTL8SppyoxnX2Zde94Ce-zcR7aR5sRk2dVLf8m9coYCIQDuCeLdVEjsqi6jGesFcaA5pLziFPs5Gkk9okQw7uDu_A%3D%3D':\n",
      "  Metadata:\n",
      "    encoder         : google/video-file\n",
      "  Duration: 00:00:34.84, start: -0.007000, bitrate: 157 kb/s\n",
      "  Stream #0:0(eng): Audio: opus, 48000 Hz, stereo, fltp (default)\n",
      "Stream mapping:\n",
      "  Stream #0:0 -> #0:0 (opus (native) -> opus (libopus))\n",
      "Press [q] to stop, [?] for help\n",
      "[libopus @ 0x55bbcaf0cf80] No bit rate set. Defaulting to 96000 bps.\n",
      "Output #0, webm, to 'file:./test/StimuliFinal/long/Orchestral/The Office (Main Theme) ＂Tv Short Version＂ [3cMctz6KNsg].webm.part':\n",
      "  Metadata:\n",
      "    encoder         : Lavf58.76.100\n",
      "  Stream #0:0(eng): Audio: opus, 48000 Hz, stereo, flt, 96 kb/s (default)\n",
      "    Metadata:\n",
      "      encoder         : Lavc58.134.100 libopus\n",
      "size=     155kB time=00:00:14.22 bitrate=  89.0kbits/s speed=28.2x    \r"
     ]
    },
    {
     "name": "stdout",
     "output_type": "stream",
     "text": [
      "[download] 100% of  502.14KiB in 00:00:01 at 267.94KiB/s\n",
      "[ExtractAudio] Destination: ./test/StimuliFinal/long/Orchestral/The Office (Main Theme) ＂Tv Short Version＂ [3cMctz6KNsg].wav\n"
     ]
    },
    {
     "name": "stderr",
     "output_type": "stream",
     "text": [
      "size=     502kB time=00:00:34.00 bitrate= 121.0kbits/s speed=19.4x    \n",
      "video:0kB audio:490kB subtitle:0kB other streams:0kB global headers:0kB muxing overhead: 2.525063%\n"
     ]
    },
    {
     "name": "stdout",
     "output_type": "stream",
     "text": [
      "Deleting original file ./test/StimuliFinal/long/Orchestral/The Office (Main Theme) ＂Tv Short Version＂ [3cMctz6KNsg].webm (pass -k to keep)\n",
      "Downloading long track : The Imperial March (Darth Vader's Theme) https://www.youtube.com/watch?v=s3SZ5sIMY6o\n",
      "[youtube] Extracting URL: https://www.youtube.com/watch?v=s3SZ5sIMY6o\n",
      "[youtube] s3SZ5sIMY6o: Downloading webpage\n",
      "[youtube] s3SZ5sIMY6o: Downloading ios player API JSON\n",
      "[youtube] s3SZ5sIMY6o: Downloading android player API JSON\n",
      "[youtube] s3SZ5sIMY6o: Downloading m3u8 information\n",
      "[info] s3SZ5sIMY6o: Downloading 1 format(s): 251\n",
      "[info] s3SZ5sIMY6o: Downloading 1 time ranges: 0.0-42.0\n",
      "[download] Destination: ./test/StimuliFinal/long/Orchestral/The Imperial March (Darth Vader's Theme) [s3SZ5sIMY6o].webm\n"
     ]
    },
    {
     "name": "stderr",
     "output_type": "stream",
     "text": [
      "Input #0, matroska,webm, from 'https://rr2---sn-gpn9-t0as.googlevideo.com/videoplayback?expire=1697588481&ei=odAuZeftJNyp_9EPou-jyAg&ip=206.167.239.2&id=o-ALoCKKlqHK1f_Pgp9R9K25obn9FSyE_Vu-ggFo9q9zdQ&itag=251&source=youtube&requiressl=yes&mh=yB&mm=31%2C29&mn=sn-gpn9-t0as%2Csn-t0a7lnee&ms=au%2Crdu&mv=m&mvi=2&pl=24&gcr=ca&initcwndbps=1092500&spc=UWF9f1PAjNTopXpGNxRZKSc14dc6N9Y&vprv=1&svpuc=1&mime=audio%2Fwebm&gir=yes&clen=2871285&dur=179.581&lmt=1577788120759091&mt=1697566622&fvip=1&keepalive=yes&fexp=24007246&beids=24350018&c=ANDROID&txp=5431432&sparams=expire%2Cei%2Cip%2Cid%2Citag%2Csource%2Crequiressl%2Cgcr%2Cspc%2Cvprv%2Csvpuc%2Cmime%2Cgir%2Cclen%2Cdur%2Clmt&sig=AGM4YrMwRQIhAJqCKOGj9nD5gRwND8vzSa3FNxxY39PlooYW17LkLaMVAiApSsSCM15ojXfmoNXhFT7QQxzwbwm69d1pQfEu-FUfmA%3D%3D&lsparams=mh%2Cmm%2Cmn%2Cms%2Cmv%2Cmvi%2Cpl%2Cinitcwndbps&lsig=AK1ks_kwRAIgY3fMz93ndRQbCvEzbdjnfXriXm4jFz8Rfcrx1SdKsLECIC19IdSzIqg7_34IstL4GKjt5GjgTbc6fE3evbIgl2kW':\n",
      "  Metadata:\n",
      "    encoder         : google/video-file\n",
      "  Duration: 00:02:59.58, start: -0.007000, bitrate: 127 kb/s\n",
      "  Stream #0:0(eng): Audio: opus, 48000 Hz, stereo, fltp (default)\n",
      "Stream mapping:\n",
      "  Stream #0:0 -> #0:0 (opus (native) -> opus (libopus))\n",
      "Press [q] to stop, [?] for help\n",
      "[libopus @ 0x55ddb8babc00] No bit rate set. Defaulting to 96000 bps.\n",
      "Output #0, webm, to 'file:./test/StimuliFinal/long/Orchestral/The Imperial March (Darth Vader's Theme) [s3SZ5sIMY6o].webm.part':\n",
      "  Metadata:\n",
      "    encoder         : Lavf58.76.100\n",
      "  Stream #0:0(eng): Audio: opus, 48000 Hz, stereo, flt, 96 kb/s (default)\n",
      "    Metadata:\n",
      "      encoder         : Lavc58.134.100 libopus\n",
      "size=     256kB time=00:00:33.34 bitrate=  62.9kbits/s speed=21.7x    \r"
     ]
    },
    {
     "name": "stdout",
     "output_type": "stream",
     "text": [
      "[download] 100% of  494.61KiB in 00:00:02 at 241.37KiB/s\n",
      "[ExtractAudio] Destination: ./test/StimuliFinal/long/Orchestral/The Imperial March (Darth Vader's Theme) [s3SZ5sIMY6o].wav\n",
      "Deleting original file ./test/StimuliFinal/long/Orchestral/The Imperial March (Darth Vader's Theme) [s3SZ5sIMY6o].webm (pass -k to keep)\n"
     ]
    },
    {
     "name": "stderr",
     "output_type": "stream",
     "text": [
      "size=     495kB time=00:00:42.00 bitrate=  96.5kbits/s speed=23.7x    \n",
      "video:0kB audio:479kB subtitle:0kB other streams:0kB global headers:0kB muxing overhead: 3.161141%\n"
     ]
    },
    {
     "name": "stdout",
     "output_type": "stream",
     "text": [
      "Downloading long track : Game of Thrones Main Title https://www.youtube.com/watch?v=uXZd_W5B7N0\n",
      "[youtube] Extracting URL: https://www.youtube.com/watch?v=uXZd_W5B7N0\n",
      "[youtube] uXZd_W5B7N0: Downloading webpage\n",
      "[youtube] uXZd_W5B7N0: Downloading ios player API JSON\n",
      "[youtube] uXZd_W5B7N0: Downloading android player API JSON\n",
      "[youtube] uXZd_W5B7N0: Downloading m3u8 information\n",
      "[info] uXZd_W5B7N0: Downloading 1 format(s): 251\n",
      "[info] uXZd_W5B7N0: Downloading 1 time ranges: 42.0-98.0\n",
      "[download] Destination: ./test/StimuliFinal/long/Orchestral/Main Title [uXZd_W5B7N0].webm\n"
     ]
    },
    {
     "name": "stderr",
     "output_type": "stream",
     "text": [
      "Input #0, matroska,webm, from 'https://rr4---sn-gpn9-t0as.googlevideo.com/videoplayback?expire=1697588485&ei=pdAuZb3eIMzQgwPexZX4DA&ip=206.167.239.2&id=o-APrhCQz7mY26HTTw79EhW3Rl3ADex-jQkABdSMHim1lV&itag=251&source=youtube&requiressl=yes&mh=am&mm=31%2C29&mn=sn-gpn9-t0as%2Csn-t0a7sn7d&ms=au%2Crdu&mv=m&mvi=4&pl=24&gcr=ca&initcwndbps=1092500&spc=UWF9f6hccH3bMlVyUlG-b7q-zGFg7ys&vprv=1&svpuc=1&mime=audio%2Fwebm&gir=yes&clen=1797219&dur=107.241&lmt=1565947210416064&mt=1697566622&fvip=1&keepalive=yes&fexp=24007246&beids=24350018&c=ANDROID&txp=2311222&sparams=expire%2Cei%2Cip%2Cid%2Citag%2Csource%2Crequiressl%2Cgcr%2Cspc%2Cvprv%2Csvpuc%2Cmime%2Cgir%2Cclen%2Cdur%2Clmt&sig=AGM4YrMwRgIhAJQVEpaDYO0Lgb7mgv-fRUuaNkK2P2dnDIRCcheLQ9DbAiEA3NcPERUS3BQp4XOoEzVSZlvZWBTMvjNzGB0AdUbzEXA%3D&lsparams=mh%2Cmm%2Cmn%2Cms%2Cmv%2Cmvi%2Cpl%2Cinitcwndbps&lsig=AK1ks_kwRQIgGU3L5WvSLPmIx38uXrpCOe40Xe3OjZGc0XV8419z1KoCIQDLeECboffSf7bm3lCg1Y89I7Eq8O5yDyF8I6D_thmobw%3D%3D':\n",
      "  Metadata:\n",
      "    encoder         : google/video-file\n",
      "  Duration: 00:01:47.24, start: -0.007000, bitrate: 134 kb/s\n",
      "  Stream #0:0(eng): Audio: opus, 48000 Hz, stereo, fltp (default)\n",
      "Stream mapping:\n",
      "  Stream #0:0 -> #0:0 (opus (native) -> opus (libopus))\n",
      "Press [q] to stop, [?] for help\n",
      "[libopus @ 0x558f99e6bf80] No bit rate set. Defaulting to 96000 bps.\n",
      "Output #0, webm, to 'file:./test/StimuliFinal/long/Orchestral/Main Title [uXZd_W5B7N0].webm.part':\n",
      "  Metadata:\n",
      "    encoder         : Lavf58.76.100\n",
      "  Stream #0:0(eng): Audio: opus, 48000 Hz, stereo, flt, 96 kb/s (default)\n",
      "    Metadata:\n",
      "      encoder         : Lavc58.134.100 libopus\n",
      "size=     256kB time=00:00:41.73 bitrate=  50.3kbits/s speed=19.8x    \r"
     ]
    },
    {
     "name": "stdout",
     "output_type": "stream",
     "text": [
      "[download] 100% of  717.53KiB in 00:00:02 at 255.65KiB/s\n",
      "[ExtractAudio] Destination: ./test/StimuliFinal/long/Orchestral/Main Title [uXZd_W5B7N0].wav\n",
      "Deleting original file ./test/StimuliFinal/long/Orchestral/Main Title [uXZd_W5B7N0].webm (pass -k to keep)\n"
     ]
    },
    {
     "name": "stderr",
     "output_type": "stream",
     "text": [
      "size=     718kB time=00:00:55.99 bitrate= 105.0kbits/s speed=22.2x    \n",
      "video:0kB audio:697kB subtitle:0kB other streams:0kB global headers:0kB muxing overhead: 2.871880%\n"
     ]
    },
    {
     "name": "stdout",
     "output_type": "stream",
     "text": [
      "Downloading long track : The Pink Panther Theme https://www.youtube.com/watch?v=VyZiIuMufTA\n",
      "[youtube] Extracting URL: https://www.youtube.com/watch?v=VyZiIuMufTA\n",
      "[youtube] VyZiIuMufTA: Downloading webpage\n",
      "[youtube] VyZiIuMufTA: Downloading ios player API JSON\n",
      "[youtube] VyZiIuMufTA: Downloading android player API JSON\n",
      "[youtube] VyZiIuMufTA: Downloading m3u8 information\n",
      "[info] VyZiIuMufTA: Downloading 1 format(s): 251\n",
      "[info] VyZiIuMufTA: Downloading 1 time ranges: 0.0-45.0\n",
      "[download] Destination: ./test/StimuliFinal/long/Orchestral/The Pink Panther Theme [VyZiIuMufTA].webm\n"
     ]
    },
    {
     "name": "stderr",
     "output_type": "stream",
     "text": [
      "Input #0, matroska,webm, from 'https://rr2---sn-gpn9-t0as.googlevideo.com/videoplayback?expire=1697588489&ei=qdAuZfDiONqS8wTNzpmgCQ&ip=206.167.239.2&id=o-AAxtj3-ZaCSxjX1VDt2nBxm0cpHlMpfMZXZAwTppDCSm&itag=251&source=youtube&requiressl=yes&mh=xc&mm=31%2C29&mn=sn-gpn9-t0as%2Csn-t0a7ln7d&ms=au%2Crdu&mv=m&mvi=2&pl=24&gcr=ca&initcwndbps=1092500&spc=UWF9fwarEStaz1AotH0ARCbLBcCsRAU&vprv=1&svpuc=1&mime=audio%2Fwebm&gir=yes&clen=3288002&dur=184.461&lmt=1565532807644531&mt=1697566622&fvip=3&keepalive=yes&fexp=24007246&beids=24350018&c=ANDROID&txp=1311222&sparams=expire%2Cei%2Cip%2Cid%2Citag%2Csource%2Crequiressl%2Cgcr%2Cspc%2Cvprv%2Csvpuc%2Cmime%2Cgir%2Cclen%2Cdur%2Clmt&sig=AGM4YrMwRAIgWKrv0Yv8a2iXWu6chRKDambcslnSrNAuWxSrYbW2l5wCIHf9eZaSgj14nfVK07xCJOV2bZOsVJy6pOVX47ZEx1qt&lsparams=mh%2Cmm%2Cmn%2Cms%2Cmv%2Cmvi%2Cpl%2Cinitcwndbps&lsig=AK1ks_kwRgIhAIQGU89ovlYoIy5qtn3x8meia5fRPr_jypheYZ3MG7BCAiEAttIZ6Eqm9YoCro5p85KU442g4_D9zk5JfpFPCiep4Pw%3D':\n",
      "  Metadata:\n",
      "    encoder         : google/video-file\n",
      "  Duration: 00:03:04.46, start: -0.007000, bitrate: 142 kb/s\n",
      "  Stream #0:0(eng): Audio: opus, 48000 Hz, stereo, fltp (default)\n",
      "Stream mapping:\n",
      "  Stream #0:0 -> #0:0 (opus (native) -> opus (libopus))\n",
      "Press [q] to stop, [?] for help\n",
      "[libopus @ 0x55f84f1ffc00] No bit rate set. Defaulting to 96000 bps.\n",
      "Output #0, webm, to 'file:./test/StimuliFinal/long/Orchestral/The Pink Panther Theme [VyZiIuMufTA].webm.part':\n",
      "  Metadata:\n",
      "    encoder         : Lavf58.76.100\n",
      "  Stream #0:0(eng): Audio: opus, 48000 Hz, stereo, flt, 96 kb/s (default)\n",
      "    Metadata:\n",
      "      encoder         : Lavc58.134.100 libopus\n",
      "size=     256kB time=00:00:30.94 bitrate=  67.8kbits/s speed=16.5x    \r"
     ]
    },
    {
     "name": "stdout",
     "output_type": "stream",
     "text": [
      "[download] 100% of  664.70KiB in 00:00:02 at 254.51KiB/s\n",
      "[ExtractAudio] Destination: ./test/StimuliFinal/long/Orchestral/The Pink Panther Theme [VyZiIuMufTA].wav\n"
     ]
    },
    {
     "name": "stderr",
     "output_type": "stream",
     "text": [
      "size=     665kB time=00:00:45.00 bitrate= 121.0kbits/s speed=18.2x    \n",
      "video:0kB audio:649kB subtitle:0kB other streams:0kB global headers:0kB muxing overhead: 2.495795%\n"
     ]
    },
    {
     "name": "stdout",
     "output_type": "stream",
     "text": [
      "Deleting original file ./test/StimuliFinal/long/Orchestral/The Pink Panther Theme [VyZiIuMufTA].webm (pass -k to keep)\n",
      "Downloading long track : Yakety Sax(1983 version) https://www.youtube.com/watch?v=mvsR9KXQknE\n",
      "[youtube] Extracting URL: https://www.youtube.com/watch?v=mvsR9KXQknE\n",
      "[youtube] mvsR9KXQknE: Downloading webpage\n",
      "[youtube] mvsR9KXQknE: Downloading ios player API JSON\n",
      "[youtube] mvsR9KXQknE: Downloading android player API JSON\n",
      "[youtube] mvsR9KXQknE: Downloading m3u8 information\n",
      "[info] mvsR9KXQknE: Downloading 1 format(s): 251\n",
      "[info] mvsR9KXQknE: Downloading 1 time ranges: 50.0-94.0\n",
      "[download] Destination: ./test/StimuliFinal/long/Orchestral/Ronnie Aldrich Orchestra - Yakety Sax (1983) [mvsR9KXQknE].webm\n"
     ]
    },
    {
     "name": "stderr",
     "output_type": "stream",
     "text": [
      "Input #0, matroska,webm, from 'https://rr1---sn-gpn9-t0as.googlevideo.com/videoplayback?expire=1697588495&ei=r9AuZaylHPeM_9EPq8anwAI&ip=206.167.239.2&id=o-AB6Dg3Yr3aaHjx-yB6xvZzG2mpnv5LIqYsv0z1PGZMxa&itag=251&source=youtube&requiressl=yes&mh=OD&mm=31%2C29&mn=sn-gpn9-t0as%2Csn-t0a7sn7d&ms=au%2Crdu&mv=m&mvi=1&pl=24&initcwndbps=1092500&spc=UWF9f8OgWxHb_E9cbsuKFM-Ou-N9D-A&vprv=1&svpuc=1&mime=audio%2Fwebm&gir=yes&clen=1610451&dur=113.401&lmt=1504159609729215&mt=1697566622&fvip=2&keepalive=yes&fexp=24007246&beids=24350018&c=ANDROID&sparams=expire%2Cei%2Cip%2Cid%2Citag%2Csource%2Crequiressl%2Cspc%2Cvprv%2Csvpuc%2Cmime%2Cgir%2Cclen%2Cdur%2Clmt&sig=AGM4YrMwRQIhAPsSdEOcmDyFuI25fbW9DUAZMg53yEHbEHHVe6OYzhYTAiBIWBKSiTrjZBPx4-bdVfA1aHrxkai7adJ1FcC0IA7Gcw%3D%3D&lsparams=mh%2Cmm%2Cmn%2Cms%2Cmv%2Cmvi%2Cpl%2Cinitcwndbps&lsig=AK1ks_kwRQIgXSlMPttIB2QaeR-AwxW9sUabhEmWEx2xkPUlGml09akCIQD4ZHu9Uak6blm8IJZaCvrdbEtnTSs1WoPTfonmUPCRgQ%3D%3D':\n",
      "  Metadata:\n",
      "    encoder         : google\n",
      "  Duration: 00:01:53.40, start: -0.007000, bitrate: 113 kb/s\n",
      "  Stream #0:0(eng): Audio: opus, 48000 Hz, stereo, fltp (default)\n",
      "Stream mapping:\n",
      "  Stream #0:0 -> #0:0 (opus (native) -> opus (libopus))\n",
      "Press [q] to stop, [?] for help\n",
      "[libopus @ 0x55eb27f7c180] No bit rate set. Defaulting to 96000 bps.\n",
      "Output #0, webm, to 'file:./test/StimuliFinal/long/Orchestral/Ronnie Aldrich Orchestra - Yakety Sax (1983) [mvsR9KXQknE].webm.part':\n",
      "  Metadata:\n",
      "    encoder         : Lavf58.76.100\n",
      "  Stream #0:0(eng): Audio: opus, 48000 Hz, stereo, flt, 96 kb/s (default)\n",
      "    Metadata:\n",
      "      encoder         : Lavc58.134.100 libopus\n",
      "size=     256kB time=00:00:39.47 bitrate=  53.1kbits/s speed=14.6x    \r"
     ]
    },
    {
     "name": "stdout",
     "output_type": "stream",
     "text": [
      "[download] 100% of  451.44KiB in 00:00:04 at 96.40KiB/s\n",
      "[ExtractAudio] Destination: ./test/StimuliFinal/long/Orchestral/Ronnie Aldrich Orchestra - Yakety Sax (1983) [mvsR9KXQknE].wav\n"
     ]
    },
    {
     "name": "stderr",
     "output_type": "stream",
     "text": [
      "size=     451kB time=00:00:43.99 bitrate=  84.1kbits/s speed=13.1x    \n",
      "video:0kB audio:436kB subtitle:0kB other streams:0kB global headers:0kB muxing overhead: 3.637012%\n"
     ]
    },
    {
     "name": "stdout",
     "output_type": "stream",
     "text": [
      "Deleting original file ./test/StimuliFinal/long/Orchestral/Ronnie Aldrich Orchestra - Yakety Sax (1983) [mvsR9KXQknE].webm (pass -k to keep)\n",
      "Downloading long track : Lux Aeterna from Requiem for a Dream https://www.youtube.com/watch?v=0-jVz7Dou4Y\n",
      "[youtube] Extracting URL: https://www.youtube.com/watch?v=0-jVz7Dou4Y\n",
      "[youtube] 0-jVz7Dou4Y: Downloading webpage\n",
      "[youtube] 0-jVz7Dou4Y: Downloading ios player API JSON\n",
      "[youtube] 0-jVz7Dou4Y: Downloading android player API JSON\n",
      "[youtube] 0-jVz7Dou4Y: Downloading m3u8 information\n",
      "[info] 0-jVz7Dou4Y: Downloading 1 format(s): 251\n",
      "[info] 0-jVz7Dou4Y: Downloading 1 time ranges: 67.0-127.0\n",
      "[download] Destination: ./test/StimuliFinal/long/Orchestral/Clint Mansell： Lux Aeterna from Requiem for a Dream (Official Video) [0-jVz7Dou4Y].webm\n"
     ]
    },
    {
     "name": "stderr",
     "output_type": "stream",
     "text": [
      "Input #0, matroska,webm, from 'https://rr4---sn-gpn9-t0as.googlevideo.com/videoplayback?expire=1697588505&ei=udAuZYWuHqiW_9EPzd2G0Aw&ip=206.167.239.2&id=o-AKC2-ZId_GpQH7Wv8yfbHb2dWyZI-7al8y6IkMcwnBip&itag=251&source=youtube&requiressl=yes&mh=Ut&mm=31%2C29&mn=sn-gpn9-t0as%2Csn-t0a7lnee&ms=au%2Crdu&mv=m&mvi=4&pl=24&initcwndbps=1092500&spc=UWF9f-sNFunNRBv0Fvc_X5aRZz-tYGs&vprv=1&svpuc=1&mime=audio%2Fwebm&gir=yes&clen=4296406&dur=234.441&lmt=1674270571117985&mt=1697566622&fvip=1&keepalive=yes&fexp=24007246&beids=24350018&c=ANDROID&txp=5311224&sparams=expire%2Cei%2Cip%2Cid%2Citag%2Csource%2Crequiressl%2Cspc%2Cvprv%2Csvpuc%2Cmime%2Cgir%2Cclen%2Cdur%2Clmt&sig=AGM4YrMwRQIhAI06og8O23hKDwnqlmzhr-ky0V7ysQUO4kwJK_V56bfmAiBEGFrHD2TBKoatu-9EpKFsE0QucCWOrheH8HgiDaQHlw%3D%3D&lsparams=mh%2Cmm%2Cmn%2Cms%2Cmv%2Cmvi%2Cpl%2Cinitcwndbps&lsig=AK1ks_kwRAIgYUh7gWvrpFz5QXzIlEPdbDKAD09_IzqPpwYKIxXnKKECID8Gw2goqPrNPj7O7kicDG0bXULQHUhU7GqzOeI3Lh6D':\n",
      "  Metadata:\n",
      "    encoder         : google/video-file\n",
      "  Duration: 00:03:54.44, start: -0.007000, bitrate: 146 kb/s\n",
      "  Stream #0:0(eng): Audio: opus, 48000 Hz, stereo, fltp (default)\n",
      "Stream mapping:\n",
      "  Stream #0:0 -> #0:0 (opus (native) -> opus (libopus))\n",
      "Press [q] to stop, [?] for help\n",
      "[libopus @ 0x556e42fac180] No bit rate set. Defaulting to 96000 bps.\n",
      "Output #0, webm, to 'file:./test/StimuliFinal/long/Orchestral/Clint Mansell： Lux Aeterna from Requiem for a Dream (Official Video) [0-jVz7Dou4Y].webm.part':\n",
      "  Metadata:\n",
      "    encoder         : Lavf58.76.100\n",
      "  Stream #0:0(eng): Audio: opus, 48000 Hz, stereo, flt, 96 kb/s (default)\n",
      "    Metadata:\n",
      "      encoder         : Lavc58.134.100 libopus\n",
      "size=     512kB time=00:00:44.85 bitrate=  93.5kbits/s speed=29.7x    \r"
     ]
    },
    {
     "name": "stdout",
     "output_type": "stream",
     "text": [
      "[download] 100% of  809.30KiB in 00:00:03 at 239.73KiB/s\n",
      "[ExtractAudio] Destination: ./test/StimuliFinal/long/Orchestral/Clint Mansell： Lux Aeterna from Requiem for a Dream (Official Video) [0-jVz7Dou4Y].wav\n"
     ]
    },
    {
     "name": "stderr",
     "output_type": "stream",
     "text": [
      "size=     809kB time=00:00:59.99 bitrate= 110.5kbits/s speed=30.9x    \n",
      "video:0kB audio:788kB subtitle:0kB other streams:0kB global headers:0kB muxing overhead: 2.719835%\n"
     ]
    },
    {
     "name": "stdout",
     "output_type": "stream",
     "text": [
      "Deleting original file ./test/StimuliFinal/long/Orchestral/Clint Mansell： Lux Aeterna from Requiem for a Dream (Official Video) [0-jVz7Dou4Y].webm (pass -k to keep)\n",
      "Downloading long track : il porco rosso https://www.youtube.com/watch?v=iKMHCmDdJ2U\n",
      "[youtube] Extracting URL: https://www.youtube.com/watch?v=iKMHCmDdJ2U\n",
      "[youtube] iKMHCmDdJ2U: Downloading webpage\n",
      "[youtube] iKMHCmDdJ2U: Downloading ios player API JSON\n",
      "[youtube] iKMHCmDdJ2U: Downloading android player API JSON\n",
      "[youtube] iKMHCmDdJ2U: Downloading m3u8 information\n",
      "[info] iKMHCmDdJ2U: Downloading 1 format(s): 251\n",
      "[info] iKMHCmDdJ2U: Downloading 1 time ranges: 38.0-104.0\n",
      "[download] Destination: ./test/StimuliFinal/long/Orchestral/il porco rosso [iKMHCmDdJ2U].webm\n"
     ]
    },
    {
     "name": "stderr",
     "output_type": "stream",
     "text": [
      "Input #0, matroska,webm, from 'https://rr4---sn-gpn9-t0as.googlevideo.com/videoplayback?expire=1697588513&ei=wdAuZfGMAqCh_9EPg5S6qAw&ip=206.167.239.2&id=o-AGpocKlDRWJdjRJPbF8cnUB3aqOWt3tJlxM2EsFgsSRO&itag=251&source=youtube&requiressl=yes&mh=8e&mm=31%2C29&mn=sn-gpn9-t0as%2Csn-t0a7sn7d&ms=au%2Crdu&mv=m&mvi=4&pl=24&gcr=ca&initcwndbps=1092500&spc=UWF9fwgwGhzE5CDVNMrJmrbRecPmLpQ&vprv=1&svpuc=1&mime=audio%2Fwebm&gir=yes&clen=5106832&dur=292.841&lmt=1581643030956840&mt=1697566622&fvip=3&keepalive=yes&fexp=24007246&beids=24350018&c=ANDROID&txp=2301222&sparams=expire%2Cei%2Cip%2Cid%2Citag%2Csource%2Crequiressl%2Cgcr%2Cspc%2Cvprv%2Csvpuc%2Cmime%2Cgir%2Cclen%2Cdur%2Clmt&sig=AGM4YrMwRQIgNkPhxHP0Mdcogx__wkjGAOKX_BJeOhzUhWzDvVI_ct0CIQCUp_VRzQdgwvzvMAcE1QHB777GFf8hus18GSoe0qPtyQ%3D%3D&lsparams=mh%2Cmm%2Cmn%2Cms%2Cmv%2Cmvi%2Cpl%2Cinitcwndbps&lsig=AK1ks_kwRQIgWlu_bc37rGe3tsLyNl5w1SuWHEJ0OmcnUcmWsLUi8ugCIQDW-uh0WmGMoWjhIk0_RpHtuOXW_dLO94OXrKmGmJLDRg%3D%3D':\n",
      "  Metadata:\n",
      "    encoder         : google/video-file\n",
      "  Duration: 00:04:52.84, start: -0.007000, bitrate: 139 kb/s\n",
      "  Stream #0:0(eng): Audio: opus, 48000 Hz, stereo, fltp (default)\n",
      "Stream mapping:\n",
      "  Stream #0:0 -> #0:0 (opus (native) -> opus (libopus))\n",
      "Press [q] to stop, [?] for help\n",
      "[libopus @ 0x56111042b140] No bit rate set. Defaulting to 96000 bps.\n",
      "Output #0, webm, to 'file:./test/StimuliFinal/long/Orchestral/il porco rosso [iKMHCmDdJ2U].webm.part':\n",
      "  Metadata:\n",
      "    encoder         : Lavf58.76.100\n",
      "  Stream #0:0(eng): Audio: opus, 48000 Hz, stereo, flt, 96 kb/s (default)\n",
      "    Metadata:\n",
      "      encoder         : Lavc58.134.100 libopus\n",
      "size=     512kB time=00:00:57.97 bitrate=  72.3kbits/s speed=  19x    \r"
     ]
    },
    {
     "name": "stdout",
     "output_type": "stream",
     "text": [
      "[download] 100% of  851.42KiB in 00:00:03 at 240.37KiB/s\n",
      "[ExtractAudio] Destination: ./test/StimuliFinal/long/Orchestral/il porco rosso [iKMHCmDdJ2U].wav\n"
     ]
    },
    {
     "name": "stderr",
     "output_type": "stream",
     "text": [
      "size=     851kB time=00:01:05.99 bitrate= 105.7kbits/s speed=20.2x    \n",
      "video:0kB audio:828kB subtitle:0kB other streams:0kB global headers:0kB muxing overhead: 2.839514%\n"
     ]
    },
    {
     "name": "stdout",
     "output_type": "stream",
     "text": [
      "Deleting original file ./test/StimuliFinal/long/Orchestral/il porco rosso [iKMHCmDdJ2U].webm (pass -k to keep)\n",
      "Downloading long track : Another Brick In The Wall (Part 1) https://www.youtube.com/watch?v=-cfJqYtmmqA\n",
      "[youtube] Extracting URL: https://www.youtube.com/watch?v=-cfJqYtmmqA\n",
      "[youtube] -cfJqYtmmqA: Downloading webpage\n",
      "[youtube] -cfJqYtmmqA: Downloading ios player API JSON\n",
      "[youtube] -cfJqYtmmqA: Downloading android player API JSON\n",
      "[youtube] -cfJqYtmmqA: Downloading m3u8 information\n",
      "[info] -cfJqYtmmqA: Downloading 1 format(s): 251\n",
      "[info] -cfJqYtmmqA: Downloading 1 time ranges: 84.0-129.0\n",
      "[download] Destination: ./test/StimuliFinal/long/Orchestral/Another Brick In The Wall (Part 1) [-cfJqYtmmqA].webm\n"
     ]
    },
    {
     "name": "stderr",
     "output_type": "stream",
     "text": [
      "Input #0, matroska,webm, from 'https://rr1---sn-gpn9-t0as.googlevideo.com/videoplayback?expire=1697588518&ei=xtAuZejzItHq8wT2-Jm4Bw&ip=206.167.239.2&id=o-AMlkFe-4gN6ei2L4t1THYu3PeO2C5GzwcbtiBgJKFt5D&itag=251&source=youtube&requiressl=yes&mh=jv&mm=31%2C29&mn=sn-gpn9-t0as%2Csn-t0a7ln7d&ms=au%2Crdu&mv=m&mvi=1&pl=24&gcr=ca&initcwndbps=1092500&spc=UWF9f2eBXpAOy2Y6m_Blgwh-Nopa0B8&vprv=1&svpuc=1&mime=audio%2Fwebm&gir=yes&clen=3128434&dur=191.761&lmt=1592564865863361&mt=1697566622&fvip=5&keepalive=yes&fexp=24007246&beids=24350018&c=ANDROID&txp=5511222&sparams=expire%2Cei%2Cip%2Cid%2Citag%2Csource%2Crequiressl%2Cgcr%2Cspc%2Cvprv%2Csvpuc%2Cmime%2Cgir%2Cclen%2Cdur%2Clmt&sig=AGM4YrMwRAIgAr4rGIg03l23rywxgiwceLm4-6O4vf4kXzQK2epGp_ACIDk5lAfkPEltx-o1jZnH63-V4BtR0n5ihe5Ex0eh8DT2&lsparams=mh%2Cmm%2Cmn%2Cms%2Cmv%2Cmvi%2Cpl%2Cinitcwndbps&lsig=AK1ks_kwRQIhAPIIG4vzQXz0fP4UK3qUebwcYK43c161c0cndxFZpzW6AiBbyOtowxpSBLE2iX-RVtLh6IvoXApHxmML9qnVQW0KMA%3D%3D':\n",
      "  Metadata:\n",
      "    encoder         : google/video-file\n",
      "  Duration: 00:03:11.76, start: -0.007000, bitrate: 130 kb/s\n",
      "  Stream #0:0(eng): Audio: opus, 48000 Hz, stereo, fltp (default)\n",
      "Stream mapping:\n",
      "  Stream #0:0 -> #0:0 (opus (native) -> opus (libopus))\n",
      "Press [q] to stop, [?] for help\n",
      "[libopus @ 0x55e4b2b6df80] No bit rate set. Defaulting to 96000 bps.\n",
      "Output #0, webm, to 'file:./test/StimuliFinal/long/Orchestral/Another Brick In The Wall (Part 1) [-cfJqYtmmqA].webm.part':\n",
      "  Metadata:\n",
      "    encoder         : Lavf58.76.100\n",
      "  Stream #0:0(eng): Audio: opus, 48000 Hz, stereo, flt, 96 kb/s (default)\n",
      "    Metadata:\n",
      "      encoder         : Lavc58.134.100 libopus\n",
      "size=     256kB time=00:00:36.47 bitrate=  57.5kbits/s speed=17.5x    \r"
     ]
    },
    {
     "name": "stdout",
     "output_type": "stream",
     "text": [
      "[download] 100% of  547.90KiB in 00:00:03 at 161.36KiB/s\n",
      "[ExtractAudio] Destination: ./test/StimuliFinal/long/Orchestral/Another Brick In The Wall (Part 1) [-cfJqYtmmqA].wav\n"
     ]
    },
    {
     "name": "stderr",
     "output_type": "stream",
     "text": [
      "size=     548kB time=00:00:44.99 bitrate=  99.8kbits/s speed=14.2x    \n",
      "video:0kB audio:532kB subtitle:0kB other streams:0kB global headers:0kB muxing overhead: 3.049522%\n"
     ]
    },
    {
     "name": "stdout",
     "output_type": "stream",
     "text": [
      "Deleting original file ./test/StimuliFinal/long/Orchestral/Another Brick In The Wall (Part 1) [-cfJqYtmmqA].webm (pass -k to keep)\n",
      "Downloading long track : Kiki's Delivery Service https://www.youtube.com/watch?v=HPg_auEBL1Y\n",
      "[youtube] Extracting URL: https://www.youtube.com/watch?v=HPg_auEBL1Y\n",
      "[youtube] HPg_auEBL1Y: Downloading webpage\n",
      "[youtube] HPg_auEBL1Y: Downloading ios player API JSON\n",
      "[youtube] HPg_auEBL1Y: Downloading android player API JSON\n",
      "[youtube] HPg_auEBL1Y: Downloading m3u8 information\n",
      "[info] HPg_auEBL1Y: Downloading 1 format(s): 251\n",
      "[info] HPg_auEBL1Y: Downloading 1 time ranges: 0.0-48.0\n",
      "[download] Destination: ./test/StimuliFinal/long/Orchestral/Joe Hisaishi - Kiki's Delivery Service [HPg_auEBL1Y].webm\n"
     ]
    },
    {
     "name": "stderr",
     "output_type": "stream",
     "text": [
      "Input #0, matroska,webm, from 'https://rr2---sn-gpn9-t0as.googlevideo.com/videoplayback?expire=1697588523&ei=y9AuZdLwLMOJ8wTP1rSwAw&ip=206.167.239.2&id=o-ALLpA8o9nSdfsybndkaAHadaHNjC1tzyweDllkIzNQaz&itag=251&source=youtube&requiressl=yes&mh=zX&mm=31%2C29&mn=sn-gpn9-t0as%2Csn-t0a7lnee&ms=au%2Crdu&mv=m&mvi=2&pl=24&gcr=ca&initcwndbps=1092500&spc=UWF9f9b6nkKnjtmIYH8i0dyAhJn8ZIY&vprv=1&svpuc=1&mime=audio%2Fwebm&gir=yes&clen=4588455&dur=272.461&lmt=1587108540316550&mt=1697566622&fvip=5&keepalive=yes&fexp=24007246&beids=24350018&c=ANDROID&txp=5311222&sparams=expire%2Cei%2Cip%2Cid%2Citag%2Csource%2Crequiressl%2Cgcr%2Cspc%2Cvprv%2Csvpuc%2Cmime%2Cgir%2Cclen%2Cdur%2Clmt&sig=AGM4YrMwRQIhAIcd2HlSUFWoqEEzg-Hnmghz6PKynMdqgsbTnkoSJs4wAiB1PbbKcLSHb8oNQa-_v6yuKDvyquMf_I96kBWScIql7A%3D%3D&lsparams=mh%2Cmm%2Cmn%2Cms%2Cmv%2Cmvi%2Cpl%2Cinitcwndbps&lsig=AK1ks_kwRQIhALHCN641PzTnaIa4MB45n9y5QyxEWBsn61fDsAL4GlvSAiABwAIfMu9fw7Hup7DKb9WR7F-jQ52GD-zBPHY2LY7nFw%3D%3D':\n",
      "  Metadata:\n",
      "    encoder         : google/video-file\n",
      "  Duration: 00:04:32.46, start: -0.007000, bitrate: 134 kb/s\n",
      "  Stream #0:0(eng): Audio: opus, 48000 Hz, stereo, fltp (default)\n",
      "Stream mapping:\n",
      "  Stream #0:0 -> #0:0 (opus (native) -> opus (libopus))\n",
      "Press [q] to stop, [?] for help\n",
      "[libopus @ 0x563780f4a840] No bit rate set. Defaulting to 96000 bps.\n",
      "Output #0, webm, to 'file:./test/StimuliFinal/long/Orchestral/Joe Hisaishi - Kiki's Delivery Service [HPg_auEBL1Y].webm.part':\n",
      "  Metadata:\n",
      "    encoder         : Lavf58.76.100\n",
      "  Stream #0:0(eng): Audio: opus, 48000 Hz, stereo, flt, 96 kb/s (default)\n",
      "    Metadata:\n",
      "      encoder         : Lavc58.134.100 libopus\n",
      "size=     256kB time=00:00:37.34 bitrate=  56.2kbits/s speed=12.6x    \r"
     ]
    },
    {
     "name": "stdout",
     "output_type": "stream",
     "text": [
      "[download] 100% of  624.42KiB in 00:00:04 at 143.46KiB/s\n",
      "[ExtractAudio] Destination: ./test/StimuliFinal/long/Orchestral/Joe Hisaishi - Kiki's Delivery Service [HPg_auEBL1Y].wav\n",
      "Deleting original file ./test/StimuliFinal/long/Orchestral/Joe Hisaishi - Kiki's Delivery Service [HPg_auEBL1Y].webm (pass -k to keep)\n"
     ]
    },
    {
     "name": "stderr",
     "output_type": "stream",
     "text": [
      "size=     624kB time=00:00:48.00 bitrate= 106.6kbits/s speed=14.3x    \n",
      "video:0kB audio:607kB subtitle:0kB other streams:0kB global headers:0kB muxing overhead: 2.835095%\n"
     ]
    },
    {
     "name": "stdout",
     "output_type": "stream",
     "text": [
      "Downloading long track : Waltz No. 2 https://www.youtube.com/watch?v=mmCnQDUSO4I&t=42\n",
      "[youtube] Extracting URL: https://www.youtube.com/watch?v=mmCnQDUSO4I&t=42\n",
      "[youtube] mmCnQDUSO4I: Downloading webpage\n",
      "[youtube] mmCnQDUSO4I: Downloading ios player API JSON\n",
      "[youtube] mmCnQDUSO4I: Downloading android player API JSON\n",
      "[youtube] mmCnQDUSO4I: Downloading m3u8 information\n",
      "[info] mmCnQDUSO4I: Downloading 1 format(s): 251\n",
      "[info] mmCnQDUSO4I: Downloading 1 time ranges: 0.0-41.0\n",
      "[download] Destination: ./test/StimuliFinal/long/Orchestral/Dmitri Shostakovich - Waltz No. 2 [mmCnQDUSO4I].webm\n"
     ]
    },
    {
     "name": "stderr",
     "output_type": "stream",
     "text": [
      "Input #0, matroska,webm, from 'https://rr3---sn-gpn9-t0as.googlevideo.com/videoplayback?expire=1697588530&ei=0tAuZeGGHfSo_9EPpOaugA0&ip=206.167.239.2&id=o-AIugu_Dtr9Bys2y3bce16PLw9Af3zuhpzaHH-S7UJsHB&itag=251&source=youtube&requiressl=yes&mh=FW&mm=31%2C29&mn=sn-gpn9-t0as%2Csn-t0a7lnee&ms=au%2Crdu&mv=m&mvi=3&pl=24&initcwndbps=1092500&spc=UWF9fyGXWnFPXPt_JdsRMYGgecfq82c&vprv=1&svpuc=1&mime=audio%2Fwebm&gir=yes&clen=3762412&dur=230.101&lmt=1692391642813643&mt=1697566622&fvip=5&keepalive=yes&fexp=24007246&beids=24350018&c=ANDROID&txp=4532434&sparams=expire%2Cei%2Cip%2Cid%2Citag%2Csource%2Crequiressl%2Cspc%2Cvprv%2Csvpuc%2Cmime%2Cgir%2Cclen%2Cdur%2Clmt&sig=AGM4YrMwRgIhALCBr6a0m0Sd9WCimZwq3Z3fmljSHVW9VNtfgqtiupiRAiEAkOjBc6A8NZAdRT05iASO4lc1MlKwA2Oc44dWSZBzkmQ%3D&lsparams=mh%2Cmm%2Cmn%2Cms%2Cmv%2Cmvi%2Cpl%2Cinitcwndbps&lsig=AK1ks_kwRAIgbJzlAYt1xs0qpwDRXS0BMAeFNSzYRUfFlrFEr7ZuR1ICIHOfW2AkFRWHnBB3hvryfe_3U1Cpb2-fTqw8562QBDEY':\n",
      "  Metadata:\n",
      "    encoder         : google/video-file\n",
      "  Duration: 00:03:50.10, start: -0.007000, bitrate: 130 kb/s\n",
      "  Stream #0:0(eng): Audio: opus, 48000 Hz, stereo, fltp (default)\n",
      "Stream mapping:\n",
      "  Stream #0:0 -> #0:0 (opus (native) -> opus (libopus))\n",
      "Press [q] to stop, [?] for help\n",
      "[libopus @ 0x5596a2658240] No bit rate set. Defaulting to 96000 bps.\n",
      "Output #0, webm, to 'file:./test/StimuliFinal/long/Orchestral/Dmitri Shostakovich - Waltz No. 2 [mmCnQDUSO4I].webm.part':\n",
      "  Metadata:\n",
      "    encoder         : Lavf58.76.100\n",
      "  Stream #0:0(eng): Audio: opus, 48000 Hz, stereo, flt, 96 kb/s (default)\n",
      "    Metadata:\n",
      "      encoder         : Lavc58.134.100 libopus\n",
      "size=     191kB time=00:00:18.34 bitrate=  85.4kbits/s speed=36.2x    \r"
     ]
    },
    {
     "name": "stdout",
     "output_type": "stream",
     "text": [
      "[download] 100% of  526.81KiB in 00:00:01 at 389.23KiB/s\n"
     ]
    },
    {
     "name": "stderr",
     "output_type": "stream",
     "text": [
      "size=     527kB time=00:00:41.00 bitrate= 105.3kbits/s speed=34.4x    \n",
      "video:0kB audio:512kB subtitle:0kB other streams:0kB global headers:0kB muxing overhead: 2.892701%\n"
     ]
    },
    {
     "name": "stdout",
     "output_type": "stream",
     "text": [
      "[ExtractAudio] Destination: ./test/StimuliFinal/long/Orchestral/Dmitri Shostakovich - Waltz No. 2 [mmCnQDUSO4I].wav\n",
      "Deleting original file ./test/StimuliFinal/long/Orchestral/Dmitri Shostakovich - Waltz No. 2 [mmCnQDUSO4I].webm (pass -k to keep)\n",
      "Downloading long track : The Moldau https://www.youtube.com/watch?v=pT2bgYo9RT0\n",
      "[youtube] Extracting URL: https://www.youtube.com/watch?v=pT2bgYo9RT0\n",
      "[youtube] pT2bgYo9RT0: Downloading webpage\n",
      "[youtube] pT2bgYo9RT0: Downloading ios player API JSON\n",
      "[youtube] pT2bgYo9RT0: Downloading android player API JSON\n",
      "[youtube] pT2bgYo9RT0: Downloading m3u8 information\n",
      "[info] pT2bgYo9RT0: Downloading 1 format(s): 251\n",
      "[info] pT2bgYo9RT0: Downloading 1 time ranges: 0.0-54.0\n",
      "[download] Destination: ./test/StimuliFinal/long/Orchestral/The Moldau (Studio recording) [pT2bgYo9RT0].webm\n"
     ]
    },
    {
     "name": "stderr",
     "output_type": "stream",
     "text": [
      "Input #0, matroska,webm, from 'https://rr4---sn-gpn9-t0as.googlevideo.com/videoplayback?expire=1697588533&ei=1dAuZcyRJq-w_9EPgLqggAg&ip=206.167.239.2&id=o-AI5FpsYkUVMkQNxArqK6wS1PU50SEf_jvgDAyrfZe_1t&itag=251&source=youtube&requiressl=yes&mh=V2&mm=31%2C29&mn=sn-gpn9-t0as%2Csn-t0a7lnee&ms=au%2Crdu&mv=m&mvi=4&pl=24&gcr=ca&initcwndbps=1092500&spc=UWF9fxnnuTv7HZrUakm9S2kN9us1gr8&vprv=1&svpuc=1&mime=audio%2Fwebm&gir=yes&clen=12903679&dur=774.261&lmt=1678118159989894&mt=1697566622&fvip=1&keepalive=yes&fexp=24007246&beids=24350018&c=ANDROID&txp=2318224&sparams=expire%2Cei%2Cip%2Cid%2Citag%2Csource%2Crequiressl%2Cgcr%2Cspc%2Cvprv%2Csvpuc%2Cmime%2Cgir%2Cclen%2Cdur%2Clmt&sig=AGM4YrMwRQIgTu7JYZ3341wtKdu9gos0hs3M1cVvzb-W3mV3BL2cS_4CIQDoj6crHtCbg3EgjRh8BT_pcQavEoDibS99iPdQQ5NZKA%3D%3D&lsparams=mh%2Cmm%2Cmn%2Cms%2Cmv%2Cmvi%2Cpl%2Cinitcwndbps&lsig=AK1ks_kwRAIgMt4ByBMcHxQZn8TWaw7-wTjYYXQmhHEZ4wbAxzkSrUQCIDOcKxkJ-pE9Ki_ObGAuXqq-9L_PKE9VyisLIzWtm84j':\n",
      "  Metadata:\n",
      "    encoder         : google/video-file\n",
      "  Duration: 00:12:54.26, start: -0.007000, bitrate: 133 kb/s\n",
      "  Stream #0:0(eng): Audio: opus, 48000 Hz, stereo, fltp (default)\n",
      "Stream mapping:\n",
      "  Stream #0:0 -> #0:0 (opus (native) -> opus (libopus))\n",
      "Press [q] to stop, [?] for help\n",
      "[libopus @ 0x5583fdc6b500] No bit rate set. Defaulting to 96000 bps.\n",
      "Output #0, webm, to 'file:./test/StimuliFinal/long/Orchestral/The Moldau (Studio recording) [pT2bgYo9RT0].webm.part':\n",
      "  Metadata:\n",
      "    encoder         : Lavf58.76.100\n",
      "  Stream #0:0(eng): Audio: opus, 48000 Hz, stereo, flt, 96 kb/s (default)\n",
      "    Metadata:\n",
      "      encoder         : Lavc58.134.100 libopus\n",
      "size=     512kB time=00:00:51.38 bitrate=  81.6kbits/s speed=1.84x    \r"
     ]
    },
    {
     "name": "stdout",
     "output_type": "stream",
     "text": [
      "[download] 100% of  723.77KiB in 00:00:29 at 24.65KiB/s\n",
      "[ExtractAudio] Destination: ./test/StimuliFinal/long/Orchestral/The Moldau (Studio recording) [pT2bgYo9RT0].wav\n"
     ]
    },
    {
     "name": "stderr",
     "output_type": "stream",
     "text": [
      "size=     724kB time=00:00:54.00 bitrate= 109.8kbits/s speed=1.86x    \n",
      "video:0kB audio:704kB subtitle:0kB other streams:0kB global headers:0kB muxing overhead: 2.738617%\n"
     ]
    },
    {
     "name": "stdout",
     "output_type": "stream",
     "text": [
      "Deleting original file ./test/StimuliFinal/long/Orchestral/The Moldau (Studio recording) [pT2bgYo9RT0].webm (pass -k to keep)\n",
      "Downloading long track : 2001, l'odyssée de l’espace https://www.youtube.com/watch?v=5HjTXZPnYso\n",
      "[youtube] Extracting URL: https://www.youtube.com/watch?v=5HjTXZPnYso\n",
      "[youtube] 5HjTXZPnYso: Downloading webpage\n",
      "[youtube] 5HjTXZPnYso: Downloading ios player API JSON\n",
      "[youtube] 5HjTXZPnYso: Downloading android player API JSON\n",
      "[youtube] 5HjTXZPnYso: Downloading m3u8 information\n",
      "[youtube] 5HjTXZPnYso: Downloading MPD manifest\n",
      "[info] 5HjTXZPnYso: Downloading 1 format(s): 251\n",
      "[info] 5HjTXZPnYso: Downloading 1 time ranges: 19.0-80.0\n",
      "[download] Destination: ./test/StimuliFinal/long/Orchestral/Générique 2001, l'Odyssée de l'espace de Stanley Kubrick 1968 [5HjTXZPnYso].webm\n"
     ]
    },
    {
     "name": "stderr",
     "output_type": "stream",
     "text": [
      "Input #0, matroska,webm, from 'https://rr1---sn-gpn9-t0as.googlevideo.com/videoplayback?expire=1697588565&ei=9dAuZZ3FHImF8wS29br4DA&ip=206.167.239.2&id=o-AKFeQcnEXfhASPLGYKdBbKiTGU2XFejcAt8wVh2tZyWs&itag=251&source=youtube&requiressl=yes&mh=Uk&mm=31%2C29&mn=sn-gpn9-t0as%2Csn-t0a7sn7d&ms=au%2Crdu&mv=m&mvi=1&pl=24&initcwndbps=1092500&spc=UWF9f6mgzaLWFieyjFwpWZr5IOkFVjw&vprv=1&svpuc=1&mime=audio%2Fwebm&gir=yes&clen=1497422&dur=83.821&lmt=1626216668746441&mt=1697566622&fvip=3&keepalive=yes&fexp=24007246&beids=24350018&c=ANDROID&txp=5311222&sparams=expire%2Cei%2Cip%2Cid%2Citag%2Csource%2Crequiressl%2Cspc%2Cvprv%2Csvpuc%2Cmime%2Cgir%2Cclen%2Cdur%2Clmt&sig=AGM4YrMwRAIgOIrAq_kN2V656ELqNrui2soRi35wdTIo7r5QKKlrKosCIG7SmqNMMfa5VXqAApG5cpvjG2CmV9zyNt1s4tObwiSj&lsparams=mh%2Cmm%2Cmn%2Cms%2Cmv%2Cmvi%2Cpl%2Cinitcwndbps&lsig=AK1ks_kwRgIhAPffuwvVsj8NmL7jfvFAqSd-dKCQ5JCbN1RLSkuqh8IsAiEAhQBgG_nV1xJTpQoHAYeRisqfKySLXOuZrDCgnf3FIc0%3D':\n",
      "  Metadata:\n",
      "    encoder         : google/video-file\n",
      "  Duration: 00:01:23.82, start: -0.007000, bitrate: 142 kb/s\n",
      "  Stream #0:0(eng): Audio: opus, 48000 Hz, stereo, fltp (default)\n",
      "Stream mapping:\n",
      "  Stream #0:0 -> #0:0 (opus (native) -> opus (libopus))\n",
      "Press [q] to stop, [?] for help\n",
      "[libopus @ 0x55b3dff8bfc0] No bit rate set. Defaulting to 96000 bps.\n",
      "Output #0, webm, to 'file:./test/StimuliFinal/long/Orchestral/Générique 2001, l'Odyssée de l'espace de Stanley Kubrick 1968 [5HjTXZPnYso].webm.part':\n",
      "  Metadata:\n",
      "    encoder         : Lavf58.76.100\n",
      "  Stream #0:0(eng): Audio: opus, 48000 Hz, stereo, flt, 96 kb/s (default)\n",
      "    Metadata:\n",
      "      encoder         : Lavc58.134.100 libopus\n",
      "size=     512kB time=00:00:53.27 bitrate=  78.7kbits/s speed=16.5x    \r"
     ]
    },
    {
     "name": "stdout",
     "output_type": "stream",
     "text": [
      "[download] 100% of  813.28KiB in 00:00:03 at 217.12KiB/s\n",
      "[ExtractAudio] Destination: ./test/StimuliFinal/long/Orchestral/Générique 2001, l'Odyssée de l'espace de Stanley Kubrick 1968 [5HjTXZPnYso].wav\n",
      "Deleting original file ./test/StimuliFinal/long/Orchestral/Générique 2001, l'Odyssée de l'espace de Stanley Kubrick 1968 [5HjTXZPnYso].webm (pass -k to keep)\n"
     ]
    },
    {
     "name": "stderr",
     "output_type": "stream",
     "text": [
      "size=     813kB time=00:01:00.99 bitrate= 109.2kbits/s speed=17.7x    \n",
      "video:0kB audio:792kB subtitle:0kB other streams:0kB global headers:0kB muxing overhead: 2.750511%\n"
     ]
    },
    {
     "name": "stdout",
     "output_type": "stream",
     "text": [
      "Downloading long track : The 4 Seasons, Op. 8/4, RV 297, \"Winter\" https://www.youtube.com/watch?v=_FeJFs6LJjU\n",
      "[youtube] Extracting URL: https://www.youtube.com/watch?v=_FeJFs6LJjU\n",
      "[youtube] _FeJFs6LJjU: Downloading webpage\n",
      "[youtube] _FeJFs6LJjU: Downloading ios player API JSON\n",
      "[youtube] _FeJFs6LJjU: Downloading android player API JSON\n",
      "[youtube] _FeJFs6LJjU: Downloading m3u8 information\n",
      "[info] _FeJFs6LJjU: Downloading 1 format(s): 251\n",
      "[info] _FeJFs6LJjU: Downloading 1 time ranges: 66.0-126.0\n",
      "[download] Destination: ./test/StimuliFinal/long/Orchestral/The 4 Seasons, Op. 8⧸4, RV 297, ＂Winter＂ [_FeJFs6LJjU].webm\n"
     ]
    },
    {
     "name": "stderr",
     "output_type": "stream",
     "text": [
      "Input #0, matroska,webm, from 'https://rr1---sn-gpn9-t0as.googlevideo.com/videoplayback?expire=1697588571&ei=-9AuZa7FEoe68wSDuJ2ICg&ip=206.167.239.2&id=o-APEmBHIhnRwrmDucyIJ1RbVNBr_GOaYNuSwR3RP48Shh&itag=251&source=youtube&requiressl=yes&mh=EK&mm=31%2C29&mn=sn-gpn9-t0as%2Csn-t0a7sn7d&ms=au%2Crdu&mv=m&mvi=1&pl=24&gcr=ca&initcwndbps=1092500&spc=UWF9f36FWw4Vbbmp5fpysUAvbN81VCY&vprv=1&svpuc=1&mime=audio%2Fwebm&gir=yes&clen=9827736&dur=565.941&lmt=1693550997478829&mt=1697566622&fvip=2&keepalive=yes&fexp=24007246&beids=24350018&c=ANDROID&txp=1311224&sparams=expire%2Cei%2Cip%2Cid%2Citag%2Csource%2Crequiressl%2Cgcr%2Cspc%2Cvprv%2Csvpuc%2Cmime%2Cgir%2Cclen%2Cdur%2Clmt&sig=AGM4YrMwRQIhAOb4ZOBSzIEA1Y3xHIHQ9qciEaT8jkrf_o_2z0gws-k5AiBU59uaso5L4NEpc8o1SChUMpww7UqpdZFKVN6n5WpoHg%3D%3D&lsparams=mh%2Cmm%2Cmn%2Cms%2Cmv%2Cmvi%2Cpl%2Cinitcwndbps&lsig=AK1ks_kwRQIgArGjVxdUil4vYPqpX1SZV3HEetP1PONWQF3kDKPURxQCIQCQC2-AY93Zc1GwMkLzQTDJzM9KWx0TYWMP-CUnC1Fktg%3D%3D':\n",
      "  Metadata:\n",
      "    encoder         : google/video-file\n",
      "  Duration: 00:09:25.94, start: -0.007000, bitrate: 138 kb/s\n",
      "  Stream #0:0(eng): Audio: opus, 48000 Hz, stereo, fltp (default)\n",
      "Stream mapping:\n",
      "  Stream #0:0 -> #0:0 (opus (native) -> opus (libopus))\n",
      "Press [q] to stop, [?] for help\n",
      "[libopus @ 0x55b023c8af80] No bit rate set. Defaulting to 96000 bps.\n",
      "Output #0, webm, to 'file:./test/StimuliFinal/long/Orchestral/The 4 Seasons, Op. 8⧸4, RV 297, ＂Winter＂ [_FeJFs6LJjU].webm.part':\n",
      "  Metadata:\n",
      "    encoder         : Lavf58.76.100\n",
      "  Stream #0:0(eng): Audio: opus, 48000 Hz, stereo, flt, 96 kb/s (default)\n",
      "    Metadata:\n",
      "      encoder         : Lavc58.134.100 libopus\n",
      "size=     256kB time=00:00:43.03 bitrate=  48.7kbits/s speed=20.4x    \r"
     ]
    },
    {
     "name": "stdout",
     "output_type": "stream",
     "text": [
      "[download] 100% of  765.60KiB in 00:00:02 at 265.24KiB/s\n",
      "[ExtractAudio] Destination: ./test/StimuliFinal/long/Orchestral/The 4 Seasons, Op. 8⧸4, RV 297, ＂Winter＂ [_FeJFs6LJjU].wav\n",
      "Deleting original file ./test/StimuliFinal/long/Orchestral/The 4 Seasons, Op. 8⧸4, RV 297, ＂Winter＂ [_FeJFs6LJjU].webm (pass -k to keep)\n"
     ]
    },
    {
     "name": "stderr",
     "output_type": "stream",
     "text": [
      "size=     766kB time=00:00:59.99 bitrate= 104.5kbits/s speed=23.2x    \n",
      "video:0kB audio:744kB subtitle:0kB other streams:0kB global headers:0kB muxing overhead: 2.879407%\n"
     ]
    },
    {
     "name": "stdout",
     "output_type": "stream",
     "text": [
      "Downloading long track : Back To The Future (From \"Back To The Future\" Original Score) https://www.youtube.com/watch?v=LpbHlXPmmcE\n",
      "[youtube] Extracting URL: https://www.youtube.com/watch?v=LpbHlXPmmcE\n",
      "[youtube] LpbHlXPmmcE: Downloading webpage\n",
      "[youtube] LpbHlXPmmcE: Downloading ios player API JSON\n",
      "[youtube] LpbHlXPmmcE: Downloading android player API JSON\n",
      "[youtube] LpbHlXPmmcE: Downloading m3u8 information\n",
      "[info] LpbHlXPmmcE: Downloading 1 format(s): 251\n",
      "[info] LpbHlXPmmcE: Downloading 1 time ranges: 0.0-48.0\n",
      "[download] Destination: ./test/StimuliFinal/long/Orchestral/Back To The Future (From ＂Back To The Future＂ Original Score⧸End Credits) [LpbHlXPmmcE].webm\n"
     ]
    },
    {
     "name": "stderr",
     "output_type": "stream",
     "text": [
      "Input #0, matroska,webm, from 'https://rr3---sn-gpn9-t0as.googlevideo.com/videoplayback?expire=1697588575&ei=_9AuZbPYNbKQ_9EP-fyjuAc&ip=206.167.239.2&id=o-ADxm4Q6vwm_sd13WNYlDSMqXDb-p-fa_w3LVyTXBScyf&itag=251&source=youtube&requiressl=yes&mh=cw&mm=31%2C29&mn=sn-gpn9-t0as%2Csn-t0a7lnee&ms=au%2Crdu&mv=m&mvi=3&pl=24&gcr=ca&initcwndbps=1092500&spc=UWF9f4oHVmR_EzRQZ2lD_iEuiTU1LeI&vprv=1&svpuc=1&mime=audio%2Fwebm&gir=yes&clen=3211939&dur=195.201&lmt=1565931693822206&mt=1697566622&fvip=2&keepalive=yes&fexp=24007246&beids=24350018&c=ANDROID&txp=1311222&sparams=expire%2Cei%2Cip%2Cid%2Citag%2Csource%2Crequiressl%2Cgcr%2Cspc%2Cvprv%2Csvpuc%2Cmime%2Cgir%2Cclen%2Cdur%2Clmt&sig=AGM4YrMwRQIgeojTeGHLu9LCiaO95uOoZovbutx4pI_j8VSw2Bn42nkCIQDnHbG8zs9Z0Pn_8xr5HAGvMVHSs3y_s7Y_XXY1Cm4y6A%3D%3D&lsparams=mh%2Cmm%2Cmn%2Cms%2Cmv%2Cmvi%2Cpl%2Cinitcwndbps&lsig=AK1ks_kwRAIgR8eOrZBeIeYEEhACVYaRZE0M_Wl24LcZXDb11nivyNQCIDUOKTJy2aRVeyx9qy2s-syZGSRB65VrnfEXpbeeGzNK':\n",
      "  Metadata:\n",
      "    encoder         : google/video-file\n",
      "  Duration: 00:03:15.20, start: -0.007000, bitrate: 131 kb/s\n",
      "  Stream #0:0(eng): Audio: opus, 48000 Hz, stereo, fltp (default)\n",
      "Stream mapping:\n",
      "  Stream #0:0 -> #0:0 (opus (native) -> opus (libopus))\n",
      "Press [q] to stop, [?] for help\n",
      "[libopus @ 0x55b89e9d1c40] No bit rate set. Defaulting to 96000 bps.\n",
      "Output #0, webm, to 'file:./test/StimuliFinal/long/Orchestral/Back To The Future (From ＂Back To The Future＂ Original Score⧸End Credits) [LpbHlXPmmcE].webm.part':\n",
      "  Metadata:\n",
      "    encoder         : Lavf58.76.100\n",
      "  Stream #0:0(eng): Audio: opus, 48000 Hz, stereo, flt, 96 kb/s (default)\n",
      "    Metadata:\n",
      "      encoder         : Lavc58.134.100 libopus\n",
      "size=     256kB time=00:00:28.94 bitrate=  72.5kbits/s speed=22.6x    \r"
     ]
    },
    {
     "name": "stdout",
     "output_type": "stream",
     "text": [
      "[download] 100% of  614.57KiB in 00:00:01 at 310.58KiB/s\n",
      "[ExtractAudio] Destination: ./test/StimuliFinal/long/Orchestral/Back To The Future (From ＂Back To The Future＂ Original Score⧸End Credits) [LpbHlXPmmcE].wav\n"
     ]
    },
    {
     "name": "stderr",
     "output_type": "stream",
     "text": [
      "size=     615kB time=00:00:48.00 bitrate= 104.9kbits/s speed=26.2x    \n",
      "video:0kB audio:597kB subtitle:0kB other streams:0kB global headers:0kB muxing overhead: 2.885884%\n"
     ]
    },
    {
     "name": "stdout",
     "output_type": "stream",
     "text": [
      "Deleting original file ./test/StimuliFinal/long/Orchestral/Back To The Future (From ＂Back To The Future＂ Original Score⧸End Credits) [LpbHlXPmmcE].webm (pass -k to keep)\n",
      "Downloading long track : Main Title Terminator 2 Theme (Remastered 2017) https://www.youtube.com/watch?v=CnQm2_cAZvo\n",
      "[youtube] Extracting URL: https://www.youtube.com/watch?v=CnQm2_cAZvo\n",
      "[youtube] CnQm2_cAZvo: Downloading webpage\n",
      "[youtube] CnQm2_cAZvo: Downloading ios player API JSON\n",
      "[youtube] CnQm2_cAZvo: Downloading android player API JSON\n",
      "[youtube] CnQm2_cAZvo: Downloading m3u8 information\n",
      "[info] CnQm2_cAZvo: Downloading 1 format(s): 251\n",
      "[info] CnQm2_cAZvo: Downloading 1 time ranges: 51.0-105.0\n",
      "[download] Destination: ./test/StimuliFinal/long/Orchestral/Main Title Terminator 2 Theme (Remastered 2017) [CnQm2_cAZvo].webm\n"
     ]
    },
    {
     "name": "stderr",
     "output_type": "stream",
     "text": [
      "Input #0, matroska,webm, from 'https://rr1---sn-gpn9-t0as.googlevideo.com/videoplayback?expire=1697588579&ei=A9EuZZHtJu-W_9EP4vOkuAg&ip=206.167.239.2&id=o-AJd7la5DT530slsFxVOE5sequCeoEqPr8MxLlfmGxhIZ&itag=251&source=youtube&requiressl=yes&mh=oL&mm=31%2C29&mn=sn-gpn9-t0as%2Csn-t0a7sn7d&ms=au%2Crdu&mv=m&mvi=1&pcm2cms=yes&pl=24&gcr=ca&initcwndbps=1092500&spc=UWF9f_JyKyxTp45xeUf8N17I_zIgpUA&vprv=1&svpuc=1&mime=audio%2Fwebm&gir=yes&clen=1862512&dur=117.061&lmt=1575171324713344&mt=1697566622&fvip=2&keepalive=yes&fexp=24007246&beids=24350018&c=ANDROID&txp=5431432&sparams=expire%2Cei%2Cip%2Cid%2Citag%2Csource%2Crequiressl%2Cgcr%2Cspc%2Cvprv%2Csvpuc%2Cmime%2Cgir%2Cclen%2Cdur%2Clmt&sig=AGM4YrMwRQIhANW47ZsbsZjblzNEyITakBKXg4woEhWTL9D0e39-TcV7AiBJIvKzp8teNMPb6HnRmfP9GQgp4GIyojrlLquEXaY3QA%3D%3D&lsparams=mh%2Cmm%2Cmn%2Cms%2Cmv%2Cmvi%2Cpcm2cms%2Cpl%2Cinitcwndbps&lsig=AK1ks_kwRQIgAShznJ61HkFpesecgAEptf_HHkU1_Le3CYMm1uImh-0CIQCLzAUGm1Jbd79ZZevrimvHhSNI3MW7BO_qqZ54yRDVUQ%3D%3D':\n",
      "  Metadata:\n",
      "    encoder         : google/video-file\n",
      "  Duration: 00:01:57.06, start: -0.007000, bitrate: 127 kb/s\n",
      "  Stream #0:0(eng): Audio: opus, 48000 Hz, stereo, fltp (default)\n",
      "Stream mapping:\n",
      "  Stream #0:0 -> #0:0 (opus (native) -> opus (libopus))\n",
      "Press [q] to stop, [?] for help\n",
      "[libopus @ 0x56242db4f200] No bit rate set. Defaulting to 96000 bps.\n",
      "Output #0, webm, to 'file:./test/StimuliFinal/long/Orchestral/Main Title Terminator 2 Theme (Remastered 2017) [CnQm2_cAZvo].webm.part':\n",
      "  Metadata:\n",
      "    encoder         : Lavf58.76.100\n",
      "  Stream #0:0(eng): Audio: opus, 48000 Hz, stereo, flt, 96 kb/s (default)\n",
      "    Metadata:\n",
      "      encoder         : Lavc58.134.100 libopus\n",
      "size=     256kB time=00:00:43.89 bitrate=  47.8kbits/s speed=20.7x    \r"
     ]
    },
    {
     "name": "stdout",
     "output_type": "stream",
     "text": [
      "[download] 100% of  647.22KiB in 00:00:04 at 152.39KiB/s\n",
      "[ExtractAudio] Destination: ./test/StimuliFinal/long/Orchestral/Main Title Terminator 2 Theme (Remastered 2017) [CnQm2_cAZvo].wav\n"
     ]
    },
    {
     "name": "stderr",
     "output_type": "stream",
     "text": [
      "size=     647kB time=00:00:53.99 bitrate=  98.2kbits/s speed=20.2x    \n",
      "video:0kB audio:628kB subtitle:0kB other streams:0kB global headers:0kB muxing overhead: 3.076830%\n"
     ]
    },
    {
     "name": "stdout",
     "output_type": "stream",
     "text": [
      "Deleting original file ./test/StimuliFinal/long/Orchestral/Main Title Terminator 2 Theme (Remastered 2017) [CnQm2_cAZvo].webm (pass -k to keep)\n",
      "Downloading long track : Hook prologue https://www.youtube.com/watch?v=OwpOeeQJXGI\n",
      "[youtube] Extracting URL: https://www.youtube.com/watch?v=OwpOeeQJXGI\n",
      "[youtube] OwpOeeQJXGI: Downloading webpage\n",
      "[youtube] OwpOeeQJXGI: Downloading ios player API JSON\n",
      "[youtube] OwpOeeQJXGI: Downloading android player API JSON\n",
      "[youtube] OwpOeeQJXGI: Downloading m3u8 information\n",
      "[info] OwpOeeQJXGI: Downloading 1 format(s): 251\n",
      "[info] OwpOeeQJXGI: Downloading 1 time ranges: 0.0-44.0\n",
      "[download] Destination: ./test/StimuliFinal/long/Orchestral/Hook- Hook Prologue [OwpOeeQJXGI].webm\n"
     ]
    },
    {
     "name": "stderr",
     "output_type": "stream",
     "text": [
      "Input #0, matroska,webm, from 'https://rr3---sn-gpn9-t0as.googlevideo.com/videoplayback?expire=1697588586&ei=CtEuZeXzN9WN_9EP__yTsAk&ip=206.167.239.2&id=o-AAPuayD9asQ2gLG7NY1-FrRCHgHap709eoeOHKqaPVJl&itag=251&source=youtube&requiressl=yes&mh=Sq&mm=31%2C29&mn=sn-gpn9-t0as%2Csn-t0a7lnee&ms=au%2Crdu&mv=m&mvi=3&pl=24&gcr=ca&initcwndbps=1092500&spc=UWF9fwXJ5KikYmYF5rGUCBUCHjeW648&vprv=1&svpuc=1&mime=audio%2Fwebm&gir=yes&clen=1485778&dur=90.081&lmt=1558476848115659&mt=1697566622&fvip=5&keepalive=yes&fexp=24007246&beids=24350018&c=ANDROID&txp=5432432&sparams=expire%2Cei%2Cip%2Cid%2Citag%2Csource%2Crequiressl%2Cgcr%2Cspc%2Cvprv%2Csvpuc%2Cmime%2Cgir%2Cclen%2Cdur%2Clmt&sig=AGM4YrMwRQIgfParAu_vNqT9ULrUEobV9ivJniBaIazRwHLHCpZX2gwCIQCJGheRDycAaf1WZbHYYec94AB9vByerJFJ4tza5_GUig%3D%3D&lsparams=mh%2Cmm%2Cmn%2Cms%2Cmv%2Cmvi%2Cpl%2Cinitcwndbps&lsig=AK1ks_kwRQIgE9fvIsu2zcko7MuG8ioKrXUIgVF5lduLe_iZpsDZYRICIQC67yGnWjQsU5u5xcUOmSYt8rBCt6O3tdbGPkYQjmrktw%3D%3D':\n",
      "  Metadata:\n",
      "    encoder         : google/video-file\n",
      "  Duration: 00:01:30.08, start: -0.007000, bitrate: 131 kb/s\n",
      "  Stream #0:0(eng): Audio: opus, 48000 Hz, stereo, fltp (default)\n",
      "Stream mapping:\n",
      "  Stream #0:0 -> #0:0 (opus (native) -> opus (libopus))\n",
      "Press [q] to stop, [?] for help\n",
      "[libopus @ 0x5602ccd6f040] No bit rate set. Defaulting to 96000 bps.\n",
      "Output #0, webm, to 'file:./test/StimuliFinal/long/Orchestral/Hook- Hook Prologue [OwpOeeQJXGI].webm.part':\n",
      "  Metadata:\n",
      "    encoder         : Lavf58.76.100\n",
      "  Stream #0:0(eng): Audio: opus, 48000 Hz, stereo, flt, 96 kb/s (default)\n",
      "    Metadata:\n",
      "      encoder         : Lavc58.134.100 libopus\n",
      "size=     256kB time=00:00:35.14 bitrate=  59.7kbits/s speed=35.1x    \r"
     ]
    },
    {
     "name": "stdout",
     "output_type": "stream",
     "text": [
      "[download] 100% of  532.16KiB in 00:00:01 at 325.50KiB/s\n",
      "[ExtractAudio] Destination: ./test/StimuliFinal/long/Orchestral/Hook- Hook Prologue [OwpOeeQJXGI].wav\n",
      "Deleting original file ./test/StimuliFinal/long/Orchestral/Hook- Hook Prologue [OwpOeeQJXGI].webm (pass -k to keep)\n"
     ]
    },
    {
     "name": "stderr",
     "output_type": "stream",
     "text": [
      "size=     532kB time=00:00:44.00 bitrate=  99.1kbits/s speed=36.2x    \n",
      "video:0kB audio:516kB subtitle:0kB other streams:0kB global headers:0kB muxing overhead: 3.064152%\n"
     ]
    },
    {
     "name": "stdout",
     "output_type": "stream",
     "text": [
      "Downloading long track : Suite bergamasque, CD 82, L. 75: III. Clair de lune https://www.youtube.com/watch?v=JVmwLJeeOy4\n",
      "[youtube] Extracting URL: https://www.youtube.com/watch?v=JVmwLJeeOy4\n",
      "[youtube] JVmwLJeeOy4: Downloading webpage\n",
      "[youtube] JVmwLJeeOy4: Downloading ios player API JSON\n",
      "[youtube] JVmwLJeeOy4: Downloading android player API JSON\n",
      "[youtube] JVmwLJeeOy4: Downloading m3u8 information\n",
      "[info] JVmwLJeeOy4: Downloading 1 format(s): 251\n",
      "[info] JVmwLJeeOy4: Downloading 1 time ranges: 2.0-52.0\n",
      "[download] Destination: ./test/StimuliFinal/long/Orchestral/Suite bergamasque, CD 82, L. 75： III. Clair de lune [JVmwLJeeOy4].webm\n"
     ]
    },
    {
     "name": "stderr",
     "output_type": "stream",
     "text": [
      "Input #0, matroska,webm, from 'https://rr1---sn-gpn9-t0as.googlevideo.com/videoplayback?expire=1697588590&ei=DtEuZYn2Kd6X_9EPwsmhmAc&ip=206.167.239.2&id=o-AGeaC4fBiu9gfs9JgOnhUZPgyBUYw2Dv1leYkozpiN5X&itag=251&source=youtube&requiressl=yes&mh=VG&mm=31%2C29&mn=sn-gpn9-t0as%2Csn-t0a7sn7d&ms=au%2Crdu&mv=m&mvi=1&pl=24&gcr=ca&initcwndbps=1092500&spc=UWF9f6C7MAUZWNjJxZP7ckb3ZfLoa9E&vprv=1&svpuc=1&mime=audio%2Fwebm&gir=yes&clen=5624837&dur=300.741&lmt=1581354792326921&mt=1697566622&fvip=5&keepalive=yes&fexp=24007246&beids=24350018&c=ANDROID&txp=5531432&sparams=expire%2Cei%2Cip%2Cid%2Citag%2Csource%2Crequiressl%2Cgcr%2Cspc%2Cvprv%2Csvpuc%2Cmime%2Cgir%2Cclen%2Cdur%2Clmt&sig=AGM4YrMwRgIhAM6AOe1CM9pCuaYn7kjmm1homNYx4UWnfouFBXPJpXQNAiEAnKVJXZaubvj_SROg8DHdiwB2brAq0sLIMMi1_EDWo7I%3D&lsparams=mh%2Cmm%2Cmn%2Cms%2Cmv%2Cmvi%2Cpl%2Cinitcwndbps&lsig=AK1ks_kwRgIhAPT8J2uK6nHHdum-GtWfO3B0CnzKreNzgd5zFRQSOncLAiEAuhI9kgfeVkrYo9LF1TBu9-0aaWlc7Sc9cLPGgxyr0Cw%3D':\n",
      "  Metadata:\n",
      "    encoder         : google/video-file\n",
      "  Duration: 00:05:00.74, start: -0.007000, bitrate: 149 kb/s\n",
      "  Stream #0:0(eng): Audio: opus, 48000 Hz, stereo, fltp (default)\n",
      "Stream mapping:\n",
      "  Stream #0:0 -> #0:0 (opus (native) -> opus (libopus))\n",
      "Press [q] to stop, [?] for help\n",
      "[libopus @ 0x56152c367f40] No bit rate set. Defaulting to 96000 bps.\n",
      "Output #0, webm, to 'file:./test/StimuliFinal/long/Orchestral/Suite bergamasque, CD 82, L. 75： III. Clair de lune [JVmwLJeeOy4].webm.part':\n",
      "  Metadata:\n",
      "    encoder         : Lavf58.76.100\n",
      "  Stream #0:0(eng): Audio: opus, 48000 Hz, stereo, flt, 96 kb/s (default)\n",
      "    Metadata:\n",
      "      encoder         : Lavc58.134.100 libopus\n",
      "size=     256kB time=00:00:28.35 bitrate=  74.0kbits/s speed=12.7x    \r"
     ]
    },
    {
     "name": "stdout",
     "output_type": "stream",
     "text": [
      "[download] 100% of  698.78KiB in 00:00:03 at 221.24KiB/s\n"
     ]
    },
    {
     "name": "stderr",
     "output_type": "stream",
     "text": [
      "size=     699kB time=00:00:49.99 bitrate= 114.5kbits/s speed=17.3x    \n",
      "video:0kB audio:681kB subtitle:0kB other streams:0kB global headers:0kB muxing overhead: 2.636803%\n"
     ]
    },
    {
     "name": "stdout",
     "output_type": "stream",
     "text": [
      "[ExtractAudio] Destination: ./test/StimuliFinal/long/Orchestral/Suite bergamasque, CD 82, L. 75： III. Clair de lune [JVmwLJeeOy4].wav\n",
      "Deleting original file ./test/StimuliFinal/long/Orchestral/Suite bergamasque, CD 82, L. 75： III. Clair de lune [JVmwLJeeOy4].webm (pass -k to keep)\n",
      "Downloading long track : Gnossienne No.1 https://www.youtube.com/watch?v=t27rzTkFKmU\n",
      "[youtube] Extracting URL: https://www.youtube.com/watch?v=t27rzTkFKmU\n",
      "[youtube] t27rzTkFKmU: Downloading webpage\n",
      "[youtube] t27rzTkFKmU: Downloading ios player API JSON\n",
      "[youtube] t27rzTkFKmU: Downloading android player API JSON\n",
      "[youtube] t27rzTkFKmU: Downloading m3u8 information\n",
      "[info] t27rzTkFKmU: Downloading 1 format(s): 251\n",
      "[info] t27rzTkFKmU: Downloading 1 time ranges: 0.0-63.0\n",
      "[download] Destination: ./test/StimuliFinal/long/Orchestral/Satie： Gnossiennes - Gnossiennes No. 1 - Lent [t27rzTkFKmU].webm\n"
     ]
    },
    {
     "name": "stderr",
     "output_type": "stream",
     "text": [
      "Input #0, matroska,webm, from 'https://rr4---sn-gpn9-t0as.googlevideo.com/videoplayback?expire=1697588595&ei=E9EuZZqSLJHOgwOkkouQAg&ip=206.167.239.2&id=o-AA7WLncDW1hgev4wOPETEUpOay7NVwQ9NvH_WmDKDd4w&itag=251&source=youtube&requiressl=yes&mh=CE&mm=31%2C29&mn=sn-gpn9-t0as%2Csn-t0a7sn7d&ms=au%2Crdu&mv=m&mvi=4&pl=24&gcr=ca&initcwndbps=1092500&spc=UWF9f4id4PGaHclQZILW4xJdcwjXf9Y&vprv=1&svpuc=1&mime=audio%2Fwebm&gir=yes&clen=3874953&dur=202.101&lmt=1565938131754778&mt=1697566622&fvip=4&keepalive=yes&fexp=24007246&beids=24350018&c=ANDROID&txp=1311222&sparams=expire%2Cei%2Cip%2Cid%2Citag%2Csource%2Crequiressl%2Cgcr%2Cspc%2Cvprv%2Csvpuc%2Cmime%2Cgir%2Cclen%2Cdur%2Clmt&sig=AGM4YrMwRAIgIaTV4gkjWm5GJbu0y3nAX6UhDL5qJMfGAT1I0Th5BgICIG4PYKPUGlpKtFWrSEA6be5qOjP4oXllUGrlXh0gAt-W&lsparams=mh%2Cmm%2Cmn%2Cms%2Cmv%2Cmvi%2Cpl%2Cinitcwndbps&lsig=AK1ks_kwRgIhALqkSK2UiBWm3-w8rg4WEALvvWQVNSU9sFbfcJ9JsVbzAiEAsLiI_v8RPJvBuWr9Y-ChtSfb32cVsR0x9FBr6MDSCIs%3D':\n",
      "  Metadata:\n",
      "    encoder         : google/video-file\n",
      "  Duration: 00:03:22.10, start: -0.007000, bitrate: 153 kb/s\n",
      "  Stream #0:0(eng): Audio: opus, 48000 Hz, stereo, fltp (default)\n",
      "Stream mapping:\n",
      "  Stream #0:0 -> #0:0 (opus (native) -> opus (libopus))\n",
      "Press [q] to stop, [?] for help\n",
      "[libopus @ 0x55a7f35f8bc0] No bit rate set. Defaulting to 96000 bps.\n",
      "Output #0, webm, to 'file:./test/StimuliFinal/long/Orchestral/Satie： Gnossiennes - Gnossiennes No. 1 - Lent [t27rzTkFKmU].webm.part':\n",
      "  Metadata:\n",
      "    encoder         : Lavf58.76.100\n",
      "  Stream #0:0(eng): Audio: opus, 48000 Hz, stereo, flt, 96 kb/s (default)\n",
      "    Metadata:\n",
      "      encoder         : Lavc58.134.100 libopus\n",
      "size=     512kB time=00:00:49.46 bitrate=  84.8kbits/s speed=19.6x    \r"
     ]
    },
    {
     "name": "stdout",
     "output_type": "stream",
     "text": [
      "[download] 100% of  922.93KiB in 00:00:03 at 294.94KiB/s\n",
      "[ExtractAudio] Destination: ./test/StimuliFinal/long/Orchestral/Satie： Gnossiennes - Gnossiennes No. 1 - Lent [t27rzTkFKmU].wav\n",
      "Deleting original file ./test/StimuliFinal/long/Orchestral/Satie： Gnossiennes - Gnossiennes No. 1 - Lent [t27rzTkFKmU].webm (pass -k to keep)\n"
     ]
    },
    {
     "name": "stderr",
     "output_type": "stream",
     "text": [
      "size=     923kB time=00:01:03.00 bitrate= 120.0kbits/s speed=  21x    \n",
      "video:0kB audio:901kB subtitle:0kB other streams:0kB global headers:0kB muxing overhead: 2.488012%\n"
     ]
    },
    {
     "name": "stdout",
     "output_type": "stream",
     "text": [
      "Downloading long track : Moonlight Sonata https://www.youtube.com/watch?v=4Tr0otuiQuU\n",
      "[youtube] Extracting URL: https://www.youtube.com/watch?v=4Tr0otuiQuU\n",
      "[youtube] 4Tr0otuiQuU: Downloading webpage\n",
      "[youtube] 4Tr0otuiQuU: Downloading ios player API JSON\n",
      "[youtube] 4Tr0otuiQuU: Downloading android player API JSON\n",
      "[youtube] 4Tr0otuiQuU: Downloading m3u8 information\n",
      "[info] 4Tr0otuiQuU: Downloading 1 format(s): 251\n",
      "[info] 4Tr0otuiQuU: Downloading 1 time ranges: 486.0-533.0\n",
      "[download] Destination: ./test/StimuliFinal/long/Orchestral/Beethoven - Moonlight Sonata (FULL) [4Tr0otuiQuU].webm\n"
     ]
    },
    {
     "name": "stderr",
     "output_type": "stream",
     "text": [
      "Input #0, matroska,webm, from 'https://rr3---sn-gpn9-t0as.googlevideo.com/videoplayback?expire=1697588600&ei=GNEuZdbYJMys_9EPy6SUgAc&ip=206.167.239.2&id=o-AEjjN4eg5Ehy2FAt4IQX2haZeJ5PYfYS2pdxr7M6WsTl&itag=251&source=youtube&requiressl=yes&mh=OS&mm=31%2C29&mn=sn-gpn9-t0as%2Csn-t0a7ln7d&ms=au%2Crdu&mv=m&mvi=3&pl=24&initcwndbps=1092500&spc=UWF9f3CpZWPG5JjdYUJb6lIoaHf45z4&vprv=1&svpuc=1&mime=audio%2Fwebm&gir=yes&clen=16214387&dur=899.941&lmt=1673151758977613&mt=1697566622&fvip=4&keepalive=yes&fexp=24007246&beids=24350018&c=ANDROID&txp=4532434&sparams=expire%2Cei%2Cip%2Cid%2Citag%2Csource%2Crequiressl%2Cspc%2Cvprv%2Csvpuc%2Cmime%2Cgir%2Cclen%2Cdur%2Clmt&sig=AGM4YrMwRQIhANV4YLq1gmjm8TWZ7CqwVv_K1gJ95wO34TNRIrJu-JIvAiAEP-aW_chcePt82Z_h_B7haNXTQH3OlKjsqrMXM42EAg%3D%3D&lsparams=mh%2Cmm%2Cmn%2Cms%2Cmv%2Cmvi%2Cpl%2Cinitcwndbps&lsig=AK1ks_kwRAIgeh17EKgFllcMOtz42byRzh59tknGh5dKDuN2D-iANL4CIDx_hbZ5TUvNzHOCOmmcjvfFP84mqoU3GtzqzZvcl-4_':\n",
      "  Metadata:\n",
      "    encoder         : google/video-file\n",
      "  Duration: 00:14:59.94, start: -0.007000, bitrate: 144 kb/s\n",
      "  Stream #0:0(eng): Audio: opus, 48000 Hz, stereo, fltp (default)\n",
      "Stream mapping:\n",
      "  Stream #0:0 -> #0:0 (opus (native) -> opus (libopus))\n",
      "Press [q] to stop, [?] for help\n",
      "[libopus @ 0x55affbceb180] No bit rate set. Defaulting to 96000 bps.\n",
      "Output #0, webm, to 'file:./test/StimuliFinal/long/Orchestral/Beethoven - Moonlight Sonata (FULL) [4Tr0otuiQuU].webm.part':\n",
      "  Metadata:\n",
      "    encoder         : Lavf58.76.100\n",
      "  Stream #0:0(eng): Audio: opus, 48000 Hz, stereo, flt, 96 kb/s (default)\n",
      "    Metadata:\n",
      "      encoder         : Lavc58.134.100 libopus\n",
      "size=     256kB time=00:00:25.07 bitrate=  83.6kbits/s speed=  25x    \r"
     ]
    },
    {
     "name": "stdout",
     "output_type": "stream",
     "text": [
      "[download] 100% of  637.43KiB in 00:00:02 at 294.82KiB/s\n"
     ]
    },
    {
     "name": "stderr",
     "output_type": "stream",
     "text": [
      "size=     637kB time=00:00:46.99 bitrate= 111.1kbits/s speed=27.8x    \n",
      "video:0kB audio:621kB subtitle:0kB other streams:0kB global headers:0kB muxing overhead: 2.723225%\n"
     ]
    },
    {
     "name": "stdout",
     "output_type": "stream",
     "text": [
      "[ExtractAudio] Destination: ./test/StimuliFinal/long/Orchestral/Beethoven - Moonlight Sonata (FULL) [4Tr0otuiQuU].wav\n",
      "Deleting original file ./test/StimuliFinal/long/Orchestral/Beethoven - Moonlight Sonata (FULL) [4Tr0otuiQuU].webm (pass -k to keep)\n",
      "Downloading long track : Star Trek: the Next Generation (Main Title) https://www.youtube.com/watch?v=yweIpSWhyRc\n",
      "[youtube] Extracting URL: https://www.youtube.com/watch?v=yweIpSWhyRc\n",
      "[youtube] yweIpSWhyRc: Downloading webpage\n",
      "[youtube] yweIpSWhyRc: Downloading ios player API JSON\n",
      "[youtube] yweIpSWhyRc: Downloading android player API JSON\n",
      "[youtube] yweIpSWhyRc: Downloading m3u8 information\n",
      "[info] yweIpSWhyRc: Downloading 1 format(s): 251\n",
      "[info] yweIpSWhyRc: Downloading 1 time ranges: 51.0-107.0\n",
      "[download] Destination: ./test/StimuliFinal/long/Orchestral/Star Trek： the Next Generation - Main Title [yweIpSWhyRc].webm\n"
     ]
    },
    {
     "name": "stderr",
     "output_type": "stream",
     "text": [
      "Input #0, matroska,webm, from 'https://rr4---sn-gpn9-t0as.googlevideo.com/videoplayback?expire=1697588604&ei=HNEuZdfzDu2k_9EP9vSPwAc&ip=206.167.239.2&id=o-AFLDiQIFbDOC0PITzd8Aw6y0XU_0vuuYDChV1H_6oD-x&itag=251&source=youtube&requiressl=yes&mh=_C&mm=31%2C29&mn=sn-gpn9-t0as%2Csn-t0a7ln7d&ms=au%2Crdu&mv=m&mvi=4&pcm2cms=yes&pl=24&gcr=ca&initcwndbps=1101250&spc=UWF9f3AHIs2oUp7tDtTyjKhAFUS_K0I&vprv=1&svpuc=1&mime=audio%2Fwebm&gir=yes&clen=1877709&dur=110.481&lmt=1568534660961766&mt=1697566861&fvip=1&keepalive=yes&fexp=24007246&beids=24350018&c=ANDROID&txp=8311222&sparams=expire%2Cei%2Cip%2Cid%2Citag%2Csource%2Crequiressl%2Cgcr%2Cspc%2Cvprv%2Csvpuc%2Cmime%2Cgir%2Cclen%2Cdur%2Clmt&sig=AGM4YrMwRAIgM9yfIW92r_jweYJDQqOyg_CdkzYf8r1uJki3k5hJynkCIGdKDivDGjqWARtUWK25KBrERYZe6LZogDPqJnmcxcRZ&lsparams=mh%2Cmm%2Cmn%2Cms%2Cmv%2Cmvi%2Cpcm2cms%2Cpl%2Cinitcwndbps&lsig=AK1ks_kwRgIhAObeGjXrJnXd9kysCwZnKVLitpz-iyM0Pb29O_rzFFajAiEA5fvlE00rf86o7c-ATNcfaOJy8232oKFz-_ncfC5f1MI%3D':\n",
      "  Metadata:\n",
      "    encoder         : google/video-file\n",
      "  Duration: 00:01:50.48, start: -0.007000, bitrate: 135 kb/s\n",
      "  Stream #0:0(eng): Audio: opus, 48000 Hz, stereo, fltp (default)\n",
      "Stream mapping:\n",
      "  Stream #0:0 -> #0:0 (opus (native) -> opus (libopus))\n",
      "Press [q] to stop, [?] for help\n",
      "[libopus @ 0x556561ca8f80] No bit rate set. Defaulting to 96000 bps.\n",
      "Output #0, webm, to 'file:./test/StimuliFinal/long/Orchestral/Star Trek： the Next Generation - Main Title [yweIpSWhyRc].webm.part':\n",
      "  Metadata:\n",
      "    encoder         : Lavf58.76.100\n",
      "  Stream #0:0(eng): Audio: opus, 48000 Hz, stereo, flt, 96 kb/s (default)\n",
      "    Metadata:\n",
      "      encoder         : Lavc58.134.100 libopus\n",
      "size=     256kB time=00:00:41.91 bitrate=  50.0kbits/s speed=12.7x    \r"
     ]
    },
    {
     "name": "stdout",
     "output_type": "stream",
     "text": [
      "[download] 100% of  657.48KiB in 00:00:04 at 143.20KiB/s\n",
      "[ExtractAudio] Destination: ./test/StimuliFinal/long/Orchestral/Star Trek： the Next Generation - Main Title [yweIpSWhyRc].wav\n"
     ]
    },
    {
     "name": "stderr",
     "output_type": "stream",
     "text": [
      "size=     657kB time=00:00:55.99 bitrate=  96.2kbits/s speed=12.9x    \n",
      "video:0kB audio:637kB subtitle:0kB other streams:0kB global headers:0kB muxing overhead: 3.142426%\n"
     ]
    },
    {
     "name": "stdout",
     "output_type": "stream",
     "text": [
      "Deleting original file ./test/StimuliFinal/long/Orchestral/Star Trek： the Next Generation - Main Title [yweIpSWhyRc].webm (pass -k to keep)\n",
      "Downloading long track : Seinfeld Official Soundtrack (Seinfeld Theme) https://www.youtube.com/watch?v=RWak0i_iqnM\n",
      "[youtube] Extracting URL: https://www.youtube.com/watch?v=RWak0i_iqnM\n",
      "[youtube] RWak0i_iqnM: Downloading webpage\n",
      "[youtube] RWak0i_iqnM: Downloading ios player API JSON\n",
      "[youtube] RWak0i_iqnM: Downloading android player API JSON\n",
      "[youtube] RWak0i_iqnM: Downloading m3u8 information\n",
      "[info] RWak0i_iqnM: Downloading 1 format(s): 251\n",
      "[info] RWak0i_iqnM: Downloading 1 time ranges: 0.0-52.0\n",
      "[download] Destination: ./test/StimuliFinal/long/Orchestral/Seinfeld Official Soundtrack ｜ Seinfeld Theme - Jonathan Wolff ｜ WaterTower [RWak0i_iqnM].webm\n"
     ]
    },
    {
     "name": "stderr",
     "output_type": "stream",
     "text": [
      "Input #0, matroska,webm, from 'https://rr3---sn-gpn9-t0as.googlevideo.com/videoplayback?expire=1697588612&ei=JNEuZZ2zOsyl_9EPjJOYkAM&ip=206.167.239.2&id=o-ANDVCbDITFwSMnKZCVjCuq5P8jc5jqE4UJyUj8N-KjgY&itag=251&source=youtube&requiressl=yes&mh=6R&mm=31%2C29&mn=sn-gpn9-t0as%2Csn-t0a7sn7d&ms=au%2Crdu&mv=m&mvi=3&pl=24&pcm2=no&initcwndbps=1092500&spc=UWF9f9VGkkxEvKgQsswJvXyAjr_eRE4&vprv=1&svpuc=1&mime=audio%2Fwebm&gir=yes&clen=774481&dur=52.481&lmt=1625241342306156&mt=1697566622&fvip=3&keepalive=yes&fexp=24007246&beids=24350018&c=ANDROID&txp=5311224&sparams=expire%2Cei%2Cip%2Cid%2Citag%2Csource%2Crequiressl%2Cpcm2%2Cspc%2Cvprv%2Csvpuc%2Cmime%2Cgir%2Cclen%2Cdur%2Clmt&sig=AGM4YrMwRQIgR9YfxXCvnNvG5zAunUFB8yJPI8nRuydojhWQYTSunSYCIQD9FKMft77aaoo5_EUvGDpUHQ_ijIt-RCdVVHZ49c3A6g%3D%3D&lsparams=mh%2Cmm%2Cmn%2Cms%2Cmv%2Cmvi%2Cpl%2Cinitcwndbps&lsig=AK1ks_kwRAIgZg6RcN2ISfoJg1M4pzsQ8EiPaK1FWprJxRdOgLJqmm8CIG5pxR_R89H2pObCAhAnHT6ijwCx2lp7QP9zK6ZGQPzf':\n",
      "  Metadata:\n",
      "    encoder         : google/video-file\n",
      "  Duration: 00:00:52.48, start: -0.007000, bitrate: 118 kb/s\n",
      "  Stream #0:0(eng): Audio: opus, 48000 Hz, stereo, fltp (default)\n",
      "Stream mapping:\n",
      "  Stream #0:0 -> #0:0 (opus (native) -> opus (libopus))\n",
      "Press [q] to stop, [?] for help\n",
      "[libopus @ 0x55fbd820f480] No bit rate set. Defaulting to 96000 bps.\n",
      "Output #0, webm, to 'file:./test/StimuliFinal/long/Orchestral/Seinfeld Official Soundtrack ｜ Seinfeld Theme - Jonathan Wolff ｜ WaterTower [RWak0i_iqnM].webm.part':\n",
      "  Metadata:\n",
      "    encoder         : Lavf58.76.100\n",
      "  Stream #0:0(eng): Audio: opus, 48000 Hz, stereo, flt, 96 kb/s (default)\n",
      "    Metadata:\n",
      "      encoder         : Lavc58.134.100 libopus\n",
      "size=     256kB time=00:00:40.76 bitrate=  51.4kbits/s speed=40.7x    \r"
     ]
    },
    {
     "name": "stdout",
     "output_type": "stream",
     "text": [
      "[download] 100% of  571.47KiB in 00:00:01 at 419.68KiB/s\n",
      "[ExtractAudio] Destination: ./test/StimuliFinal/long/Orchestral/Seinfeld Official Soundtrack ｜ Seinfeld Theme - Jonathan Wolff ｜ WaterTower [RWak0i_iqnM].wav\n",
      "Deleting original file ./test/StimuliFinal/long/Orchestral/Seinfeld Official Soundtrack ｜ Seinfeld Theme - Jonathan Wolff ｜ WaterTower [RWak0i_iqnM].webm (pass -k to keep)\n"
     ]
    },
    {
     "name": "stderr",
     "output_type": "stream",
     "text": [
      "size=     571kB time=00:00:52.00 bitrate=  90.0kbits/s speed=41.6x    \n",
      "video:0kB audio:553kB subtitle:0kB other streams:0kB global headers:0kB muxing overhead: 3.361088%\n"
     ]
    },
    {
     "name": "stdout",
     "output_type": "stream",
     "text": [
      "Downloading long track : Dreaming of Bag End https://www.youtube.com/watch?v=h55ROrO3UHc\n",
      "[youtube] Extracting URL: https://www.youtube.com/watch?v=h55ROrO3UHc\n",
      "[youtube] h55ROrO3UHc: Downloading webpage\n",
      "[youtube] h55ROrO3UHc: Downloading ios player API JSON\n",
      "[youtube] h55ROrO3UHc: Downloading android player API JSON\n",
      "[youtube] h55ROrO3UHc: Downloading m3u8 information\n",
      "[info] h55ROrO3UHc: Downloading 1 format(s): 251\n",
      "[info] h55ROrO3UHc: Downloading 1 time ranges: 0.0-52.0\n",
      "[download] Destination: ./test/StimuliFinal/long/Orchestral/Dreaming of Bag End [h55ROrO3UHc].webm\n"
     ]
    },
    {
     "name": "stderr",
     "output_type": "stream",
     "text": [
      "Input #0, matroska,webm, from 'https://rr3---sn-gpn9-t0as.googlevideo.com/videoplayback?expire=1697588615&ei=J9EuZcjjO8_48gTC_KHQBg&ip=206.167.239.2&id=o-ABti249gosjS7UNSEL7fIOuXXHWW0-gLDssBN2sLg_Py&itag=251&source=youtube&requiressl=yes&mh=bN&mm=31%2C29&mn=sn-gpn9-t0as%2Csn-t0a7sn7d&ms=au%2Crdu&mv=m&mvi=3&pcm2cms=yes&pl=24&gcr=ca&initcwndbps=1092500&spc=UWF9f2_wiOinDO4j7oGFt-HxssbGajA&vprv=1&svpuc=1&mime=audio%2Fwebm&gir=yes&clen=1881582&dur=109.621&lmt=1602586116460683&mt=1697566622&fvip=5&keepalive=yes&fexp=24007246&beids=24350018&c=ANDROID&txp=2311222&sparams=expire%2Cei%2Cip%2Cid%2Citag%2Csource%2Crequiressl%2Cgcr%2Cspc%2Cvprv%2Csvpuc%2Cmime%2Cgir%2Cclen%2Cdur%2Clmt&sig=AGM4YrMwRQIhAJlTCiL3TJ7h65HkerZznmYdiW0d2KOToGzd3P_99qyGAiA_vpwEaj02ZnZcEZVjkgW4tjDt30OPGzhDMmzmGecdng%3D%3D&lsparams=mh%2Cmm%2Cmn%2Cms%2Cmv%2Cmvi%2Cpcm2cms%2Cpl%2Cinitcwndbps&lsig=AK1ks_kwRAIgE4_v1aD6ReeZhTemS8oipARHnBBJThNapQZY3mD8f1sCIHF4ED5JtDKpNeL0w8GUj98JZvpshSbmjVZddoHNcEmm':\n",
      "  Metadata:\n",
      "    encoder         : google/video-file\n",
      "  Duration: 00:01:49.62, start: -0.007000, bitrate: 137 kb/s\n",
      "  Stream #0:0(eng): Audio: opus, 48000 Hz, stereo, fltp (default)\n",
      "Stream mapping:\n",
      "  Stream #0:0 -> #0:0 (opus (native) -> opus (libopus))\n",
      "Press [q] to stop, [?] for help\n",
      "[libopus @ 0x5602674be280] No bit rate set. Defaulting to 96000 bps.\n",
      "Output #0, webm, to 'file:./test/StimuliFinal/long/Orchestral/Dreaming of Bag End [h55ROrO3UHc].webm.part':\n",
      "  Metadata:\n",
      "    encoder         : Lavf58.76.100\n",
      "  Stream #0:0(eng): Audio: opus, 48000 Hz, stereo, flt, 96 kb/s (default)\n",
      "    Metadata:\n",
      "      encoder         : Lavc58.134.100 libopus\n",
      "size=     256kB time=00:00:36.84 bitrate=  56.9kbits/s speed=21.2x    \r"
     ]
    },
    {
     "name": "stdout",
     "output_type": "stream",
     "text": [
      "[download] 100% of  670.36KiB in 00:00:03 at 222.26KiB/s\n",
      "[ExtractAudio] Destination: ./test/StimuliFinal/long/Orchestral/Dreaming of Bag End [h55ROrO3UHc].wav\n"
     ]
    },
    {
     "name": "stderr",
     "output_type": "stream",
     "text": [
      "size=     670kB time=00:00:52.00 bitrate= 105.6kbits/s speed=18.1x    \n",
      "video:0kB audio:652kB subtitle:0kB other streams:0kB global headers:0kB muxing overhead: 2.859442%\n"
     ]
    },
    {
     "name": "stdout",
     "output_type": "stream",
     "text": [
      "Deleting original file ./test/StimuliFinal/long/Orchestral/Dreaming of Bag End [h55ROrO3UHc].webm (pass -k to keep)\n",
      "Downloading long track : My Name is Nobody - Il Mio Nome è Nessuno (Album) https://www.youtube.com/watch?v=duF1OQho1gc\n",
      "[youtube] Extracting URL: https://www.youtube.com/watch?v=duF1OQho1gc\n",
      "[youtube] duF1OQho1gc: Downloading webpage\n",
      "[youtube] duF1OQho1gc: Downloading ios player API JSON\n",
      "[youtube] duF1OQho1gc: Downloading android player API JSON\n",
      "[youtube] duF1OQho1gc: Downloading m3u8 information\n",
      "[info] duF1OQho1gc: Downloading 1 format(s): 251\n",
      "[info] duF1OQho1gc: Downloading 1 time ranges: 3.0-56.0\n",
      "[download] Destination: ./test/StimuliFinal/long/Orchestral/Ennio Morricone - My Name is Nobody - Il Mio Nome è Nessuno (Album) High Quality Audio [duF1OQho1gc].webm\n"
     ]
    },
    {
     "name": "stderr",
     "output_type": "stream",
     "text": [
      "Input #0, matroska,webm, from 'https://rr3---sn-gpn9-t0as.googlevideo.com/videoplayback?expire=1697588620&ei=LNEuZdW-K9Os_9EP6caO6AY&ip=206.167.239.2&id=o-AJt_cOJGimJRYK8E2kE1h1CvN9_IX6e7nxPNhkfUOP7M&itag=251&source=youtube&requiressl=yes&mh=NT&mm=31%2C29&mn=sn-gpn9-t0as%2Csn-t0a7lnee&ms=au%2Crdu&mv=m&mvi=3&pl=24&initcwndbps=1101250&spc=UWF9fypFXzWqstdF2cT2rOJT_m9CLuk&vprv=1&svpuc=1&mime=audio%2Fwebm&gir=yes&clen=34836398&dur=1957.981&lmt=1540582298465352&mt=1697566861&fvip=1&keepalive=yes&fexp=24007246&beids=24350018&c=ANDROID&txp=5411222&sparams=expire%2Cei%2Cip%2Cid%2Citag%2Csource%2Crequiressl%2Cspc%2Cvprv%2Csvpuc%2Cmime%2Cgir%2Cclen%2Cdur%2Clmt&sig=AGM4YrMwRQIhAKdcHcLDDfOoIx2BMULgsGqY3b-2r-AgSdbSMB8dUPplAiArrIKzMV1AuR5N7qKMu8NpmxUn25WOl7WwjKpNWGeITQ%3D%3D&lsparams=mh%2Cmm%2Cmn%2Cms%2Cmv%2Cmvi%2Cpl%2Cinitcwndbps&lsig=AK1ks_kwRQIgYo1FRF_6_iuHaMAA6MMembMDDW7x6-uRbbP4ugPDbcwCIQCdMw4ZlQyry40MYJcu6j-z7LBOdsdPH_xUxiy7gbDWGg%3D%3D':\n",
      "  Metadata:\n",
      "    encoder         : google/video-file\n",
      "  Duration: 00:32:37.98, start: -0.007000, bitrate: 142 kb/s\n",
      "  Stream #0:0(eng): Audio: opus, 48000 Hz, stereo, fltp (default)\n",
      "Stream mapping:\n",
      "  Stream #0:0 -> #0:0 (opus (native) -> opus (libopus))\n",
      "Press [q] to stop, [?] for help\n",
      "[libopus @ 0x5603b9715ac0] No bit rate set. Defaulting to 96000 bps.\n",
      "Output #0, webm, to 'file:./test/StimuliFinal/long/Orchestral/Ennio Morricone - My Name is Nobody - Il Mio Nome è Nessuno (Album) High Quality Audio [duF1OQho1gc].webm.part':\n",
      "  Metadata:\n",
      "    encoder         : Lavf58.76.100\n",
      "  Stream #0:0(eng): Audio: opus, 48000 Hz, stereo, flt, 96 kb/s (default)\n",
      "    Metadata:\n",
      "      encoder         : Lavc58.134.100 libopus\n",
      "size=     203kB time=00:00:16.41 bitrate= 101.4kbits/s speed=1.52x     \r"
     ]
    }
   ],
   "source": [
    "duration = 8\n",
    "\n",
    "for index,row in songsDf.iterrows():\n",
    "    url = row['url'].strip()\n",
    "    timestamp8s = row['timestamp_8s'].strip()\n",
    "    timestamp_long = row['timestamp_long'].strip()\n",
    "    duration = row['duration']\n",
    "    title = row['title']\n",
    "    \n",
    "    print(f\"Downloading long track : {title} {url}\")\n",
    "    track_path = os.path.join('./test/StimuliFinal', 'long', row['playlist'].strip())\n",
    "    os.makedirs(track_path, exist_ok=True)\n",
    "    try:\n",
    "        ytdl(url,timestamp_long,duration=duration,outpath=track_path)\n",
    "    except Exception as e:\n",
    "        print(e)"
   ]
  },
  {
   "cell_type": "code",
   "execution_count": null,
   "id": "6131b9d2-9255-4c5c-9e48-5a545deec6e8",
   "metadata": {},
   "outputs": [],
   "source": [
    "    print(f\"Downloading 8s track : {title} {url}\")\n",
    "    track_path = os.path.join('./test/StimuliFinal', '8s', row['playlist'].strip())\n",
    "    os.makedirs(track_path, exist_ok=True)\n",
    "    try:\n",
    "        ytdl(url,timestamp8s,duration=8,outpath=track_path)\n",
    "    except Exception as e:\n",
    "        print(e)\n",
    "        "
   ]
  },
  {
   "cell_type": "code",
   "execution_count": null,
   "id": "ac997653-c9c1-4ba0-9224-c0caf023b4be",
   "metadata": {},
   "outputs": [],
   "source": [
    "url = 'https://www.youtube.com/watch?v=duF1OQho1gc'\n",
    "timestamp8s='0:25'\n",
    "track_path=os.path.join('./test/StimuliFinal', '8s', 'Orchestral')\n",
    "ytdl(url,timestamp8s,duration=8,outpath=track_path)"
   ]
  },
  {
   "cell_type": "markdown",
   "id": "3badc535",
   "metadata": {},
   "source": [
    "to do : \n",
    "\n",
    "- create training stimulus \n",
    "- randomize order, generate mp3 and two csv  : one for subject, one for experimenter\n",
    "- fade in and fade out (configurable) \n",
    "- add time stamp 1 second before the beginning of each file \n",
    "- two columns, yes or no"
   ]
  }
 ],
 "metadata": {
  "kernelspec": {
   "display_name": "Python 3 (ipykernel)",
   "language": "python",
   "name": "python3"
  },
  "language_info": {
   "codemirror_mode": {
    "name": "ipython",
    "version": 3
   },
   "file_extension": ".py",
   "mimetype": "text/x-python",
   "name": "python",
   "nbconvert_exporter": "python",
   "pygments_lexer": "ipython3",
   "version": "3.10.12"
  }
 },
 "nbformat": 4,
 "nbformat_minor": 5
}
