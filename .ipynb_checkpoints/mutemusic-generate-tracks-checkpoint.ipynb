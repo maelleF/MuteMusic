{
 "cells": [
  {
   "cell_type": "markdown",
   "id": "cd67bc61",
   "metadata": {},
   "source": [
    "to do : \n",
    "\n",
    "- create training stimulus \n",
    "- randomize order, generate mp3 and two csv  : one for subject, one for experimenter\n",
    "- fade in and fade out (configurable) \n",
    "- add time stamp 1 second before the beginning of each file \n",
    "- two columns, yes or no"
   ]
  },
  {
   "cell_type": "code",
   "execution_count": 1,
   "id": "c79acab4",
   "metadata": {},
   "outputs": [],
   "source": [
    "import pandas as pd\n",
    "import os\n",
    "import random\n",
    "import numpy as np\n",
    "import librosa\n",
    "import soundfile as sf\n",
    "import pyloudnorm as pyln\n",
    "\n",
    "path = '/home/maellef/git/MuteMusic/data/StimuliFinal/8s/'"
   ]
  },
  {
   "cell_type": "code",
   "execution_count": 26,
   "id": "aba1cf8f",
   "metadata": {},
   "outputs": [],
   "source": [
    "def add_sound(filepath,silencedur=1,fadedur = 0.5, peak_norm=False, peak_goal= 0, loudness_norm = False, loudness_goal=-18):\n",
    "    wav,sr = librosa.load(filepath, sr=None)\n",
    "\n",
    "    #-------loudness normalisation    \n",
    "    if peak_norm:\n",
    "        wav = pyln.normalize.peak(wav, peak_goal)\n",
    "    \n",
    "    if loudness_norm :\n",
    "        meter = pyln.Meter(sr) # create BS.1770 meter\n",
    "        loudness = meter.integrated_loudness(wav)\n",
    "        wav = pyln.normalize.loudness(wav, loudness, loudness_goal)\n",
    "    #------------------------------\n",
    "    \n",
    "    silence = np.zeros(sr*silencedur)\n",
    "    fadein = np.linspace(0,1,np.int32(fadedur*sr))\n",
    "    fadeout = np.linspace(1,0,np.int32(fadedur*sr))\n",
    "    \n",
    "    wav[:np.int32(fadedur*sr)] *= fadein\n",
    "    wav[-np.int32(fadedur*sr):] *= fadeout\n",
    "    \n",
    "    return np.hstack([silence,wav]),sr"
   ]
  },
  {
   "cell_type": "markdown",
   "id": "c9fe6ac3",
   "metadata": {},
   "source": [
    "Make the training stimulus. I have put 2 seconds before the first one, and 4 seconds before the second one, so that participants have time to adjust"
   ]
  },
  {
   "cell_type": "code",
   "execution_count": 40,
   "id": "b935ea97",
   "metadata": {},
   "outputs": [],
   "source": [
    "a,sr= add_sound('/home/maellef/git/MuteMusic/data/StimuliFinal/8s/Synthetic/Aladdin Genesis Music   Ending [oaIXo6aaL-w].wav',fadedur=2,silencedur=2, peak_norm=True)\n",
    "b,sr= add_sound('/home/maellef/git/MuteMusic/data/StimuliFinal/8s/Orchestral/Led Zeppelin - Stairway To Heaven (Official Audio) [QkF3oxziUI4].wav',silencedur=4, peak_norm=True)\n",
    "practivewave = np.hstack([a,b])\n",
    "sf.write(path+'practicev3_peaknorm_0.mp3',practivewave,sr)"
   ]
  },
  {
   "cell_type": "markdown",
   "id": "29962207",
   "metadata": {},
   "source": [
    "make three lists of files, one for each type of stimulus"
   ]
  },
  {
   "cell_type": "code",
   "execution_count": 6,
   "id": "b1ac226d",
   "metadata": {},
   "outputs": [],
   "source": [
    "orchestral = [path+'Orchestral/' + song for song in os.listdir(path+'Orchestral/')]\n",
    "lyrics = [path+'Lyrics/' + song for song in os.listdir(path+'Lyrics/')]\n",
    "synth = [path+'Synthetic/' + song for song in os.listdir(path+'Synthetic/')]\n",
    "\n",
    "allstims = orchestral + lyrics + synth\n",
    "random.shuffle(allstims)"
   ]
  },
  {
   "cell_type": "code",
   "execution_count": 7,
   "id": "c61cbd3c",
   "metadata": {},
   "outputs": [
    {
     "data": {
      "text/plain": [
       "['/home/maellef/git/MuteMusic/data/StimuliFinal/8s/Orchestral/Seinfeld Official Soundtrack ｜ Seinfeld Theme - Jonathan Wolff ｜ WaterTower [RWak0i_iqnM].wav',\n",
       " '/home/maellef/git/MuteMusic/data/StimuliFinal/8s/Lyrics/Hotel California (2013 Remaster) [BciS5krYL80].wav',\n",
       " '/home/maellef/git/MuteMusic/data/StimuliFinal/8s/Lyrics/Tears For Fears - Everybody Wants To Rule The World (Official Archive Video) [znDgBy2mHbc].wav',\n",
       " '/home/maellef/git/MuteMusic/data/StimuliFinal/8s/Synthetic/Shinobi 3 Return Of The Ninja Master OST- Idaten [TFZQWCg99l4].wav',\n",
       " '/home/maellef/git/MuteMusic/data/StimuliFinal/8s/Synthetic/Super Mario Bros (NES) Music - Underground Theme [UOwyFPgjPQ4].wav',\n",
       " '/home/maellef/git/MuteMusic/data/StimuliFinal/8s/Synthetic/Underwater Theme - Super Mario Bros 3 [JGpOPWM6uzE].wav',\n",
       " '/home/maellef/git/MuteMusic/data/StimuliFinal/8s/Lyrics/AC⧸DC - Highway to Hell (Official Video) [l482T0yNkeo].wav',\n",
       " '/home/maellef/git/MuteMusic/data/StimuliFinal/8s/Synthetic/Castlevania 4 - Bloody Tears (Super Nintendo) [QOWUSsFar-s].wav',\n",
       " '/home/maellef/git/MuteMusic/data/StimuliFinal/8s/Synthetic/Space Harrier Music - MAIN THEME [-_Tam9lv1KQ].wav',\n",
       " '/home/maellef/git/MuteMusic/data/StimuliFinal/8s/Synthetic/[Official] Celeste Original Soundtrack - 03 - Resurrections [1rwAvUvvQzQ].wav',\n",
       " '/home/maellef/git/MuteMusic/data/StimuliFinal/8s/Orchestral/il porco rosso [iKMHCmDdJ2U].wav',\n",
       " '/home/maellef/git/MuteMusic/data/StimuliFinal/8s/Lyrics/Bob Marley - No Women No Cry (Original) [pHlSE9j5FGY].wav',\n",
       " '/home/maellef/git/MuteMusic/data/StimuliFinal/8s/Synthetic/Original Tetris theme (Tetris Soundtrack) [NmCCQxVBfyM].wav',\n",
       " '/home/maellef/git/MuteMusic/data/StimuliFinal/8s/Lyrics/Murder By Numbers [tUq9fURN2VQ].wav',\n",
       " '/home/maellef/git/MuteMusic/data/StimuliFinal/8s/Synthetic/Sonic The Hedgehog OST - Green Hill Zone [G-i8HYi1QH0].wav',\n",
       " '/home/maellef/git/MuteMusic/data/StimuliFinal/8s/Lyrics/Material Girl [JO9h1fQU_-k].wav',\n",
       " '/home/maellef/git/MuteMusic/data/StimuliFinal/8s/Orchestral/Satie： Gnossiennes - Gnossiennes No. 1 - Lent [t27rzTkFKmU].wav',\n",
       " '/home/maellef/git/MuteMusic/data/StimuliFinal/8s/Synthetic/Mortal Kombat (Sega Genesis) - Opening Theme [yVCoMrJwFZc].wav',\n",
       " '/home/maellef/git/MuteMusic/data/StimuliFinal/8s/Orchestral/Main Title [uXZd_W5B7N0].wav',\n",
       " '/home/maellef/git/MuteMusic/data/StimuliFinal/8s/Synthetic/Super Mario 64 - Bob-Omb Battlefield (Extended) Theme [xC3oIT5g_os].wav',\n",
       " \"/home/maellef/git/MuteMusic/data/StimuliFinal/8s/Lyrics/Make 'Em Laugh [ieU4Am0t0tc].wav\",\n",
       " '/home/maellef/git/MuteMusic/data/StimuliFinal/8s/Lyrics/Radiohead - Creep [XFkzRNyygfk].wav',\n",
       " \"/home/maellef/git/MuteMusic/data/StimuliFinal/8s/Orchestral/Joe Hisaishi - Kiki's Delivery Service [HPg_auEBL1Y].wav\",\n",
       " '/home/maellef/git/MuteMusic/data/StimuliFinal/8s/Orchestral/The Office (Main Theme) ＂Tv Short Version＂ [3cMctz6KNsg].wav',\n",
       " '/home/maellef/git/MuteMusic/data/StimuliFinal/8s/Lyrics/Elvis Presley - Jailhouse Rock (Official Lyric Video) [Hi2hpTXeHTI].wav',\n",
       " '/home/maellef/git/MuteMusic/data/StimuliFinal/8s/Synthetic/Streets Of Rage 1 OST- Stage 1 [tfiUfU18FmM].wav',\n",
       " \"/home/maellef/git/MuteMusic/data/StimuliFinal/8s/Orchestral/The Imperial March (Darth Vader's Theme) [s3SZ5sIMY6o].wav\",\n",
       " '/home/maellef/git/MuteMusic/data/StimuliFinal/8s/Synthetic/Super Mario Bros (NES) Music - Overworld Theme [iy3qq7zc4EY].wav',\n",
       " '/home/maellef/git/MuteMusic/data/StimuliFinal/8s/Synthetic/Legend of Zelda, The (NES) Music - Overworld Theme [ncg72VswyTs].wav',\n",
       " \"/home/maellef/git/MuteMusic/data/StimuliFinal/8s/Lyrics/Gangsta's Paradise [Tw0_qHNRAEA].wav\",\n",
       " '/home/maellef/git/MuteMusic/data/StimuliFinal/8s/Synthetic/Populous (SNES⧸SFC) - BGM 01： Title Theme [_Oix8HQESBs].wav',\n",
       " '/home/maellef/git/MuteMusic/data/StimuliFinal/8s/Synthetic/Sim City - Growth [cwWrJg6OMs8].wav',\n",
       " '/home/maellef/git/MuteMusic/data/StimuliFinal/8s/Orchestral/Dreaming of Bag End [h55ROrO3UHc].wav',\n",
       " '/home/maellef/git/MuteMusic/data/StimuliFinal/8s/Lyrics/Monday, Monday [sWGh92O9kxU].wav',\n",
       " '/home/maellef/git/MuteMusic/data/StimuliFinal/8s/Synthetic/Aladdin Genesis Music   Ending [oaIXo6aaL-w].wav',\n",
       " '/home/maellef/git/MuteMusic/data/StimuliFinal/8s/Orchestral/Clint Mansell： Lux Aeterna from Requiem for a Dream (Official Video) [0-jVz7Dou4Y].wav',\n",
       " '/home/maellef/git/MuteMusic/data/StimuliFinal/8s/Orchestral/Beethoven - Moonlight Sonata (FULL) [4Tr0otuiQuU].wav',\n",
       " '/home/maellef/git/MuteMusic/data/StimuliFinal/8s/Orchestral/Led Zeppelin - Stairway To Heaven (Official Audio) [QkF3oxziUI4].wav',\n",
       " '/home/maellef/git/MuteMusic/data/StimuliFinal/8s/Orchestral/Ronnie Aldrich Orchestra - Yakety Sax (1983) [mvsR9KXQknE].wav',\n",
       " '/home/maellef/git/MuteMusic/data/StimuliFinal/8s/Orchestral/Back To The Future (From ＂Back To The Future＂ Original Score⧸End Credits) [LpbHlXPmmcE].wav',\n",
       " '/home/maellef/git/MuteMusic/data/StimuliFinal/8s/Lyrics/Mister Sandman [PKnPrbPK5vA].wav',\n",
       " '/home/maellef/git/MuteMusic/data/StimuliFinal/8s/Orchestral/Coleman Hawkins - Body and Soul [Pkvju_DlP8A].wav',\n",
       " '/home/maellef/git/MuteMusic/data/StimuliFinal/8s/Orchestral/The 4 Seasons, Op. 8⧸4, RV 297, ＂Winter＂ [_FeJFs6LJjU].wav',\n",
       " \"/home/maellef/git/MuteMusic/data/StimuliFinal/8s/Synthetic/Sid Meier's Civilization 【SNES】 OST 06 City Menu [zFND5ln-06o].wav\",\n",
       " '/home/maellef/git/MuteMusic/data/StimuliFinal/8s/Orchestral/Main Title Terminator 2 Theme (Remastered 2017) [CnQm2_cAZvo].wav',\n",
       " \"/home/maellef/git/MuteMusic/data/StimuliFinal/8s/Orchestral/Générique 2001, l'Odyssée de l'espace de Stanley Kubrick 1968 [5HjTXZPnYso].wav\",\n",
       " '/home/maellef/git/MuteMusic/data/StimuliFinal/8s/Lyrics/Living Together [1U9noJETLU0].wav',\n",
       " '/home/maellef/git/MuteMusic/data/StimuliFinal/8s/Lyrics/Gloria Gaynor - I Will Survive [6dYWe1c3OyU].wav',\n",
       " \"/home/maellef/git/MuteMusic/data/StimuliFinal/8s/Lyrics/I'll Be There for You (Theme From ＂Friends＂) [RIjTq_OdFvo].wav\",\n",
       " '/home/maellef/git/MuteMusic/data/StimuliFinal/8s/Lyrics/Another Brick In The Wall (Part 1) [-cfJqYtmmqA].wav',\n",
       " '/home/maellef/git/MuteMusic/data/StimuliFinal/8s/Lyrics/Babooshka (2018 Remaster) [3NMhpI2-pLU].wav',\n",
       " \"/home/maellef/git/MuteMusic/data/StimuliFinal/8s/Lyrics/The Weather Girls - It's Raining Men (Video) [l5aZJBLAu1E].wav\",\n",
       " '/home/maellef/git/MuteMusic/data/StimuliFinal/8s/Synthetic/Street Fighter II： Champion Edition Arcade Music - Guile Theme (CPS-1) [kZTFKSfKZ_Q].wav',\n",
       " '/home/maellef/git/MuteMusic/data/StimuliFinal/8s/Synthetic/Above Ground BGM - Super Mario Bros. 3 [oZszAppxXoo].wav',\n",
       " '/home/maellef/git/MuteMusic/data/StimuliFinal/8s/Orchestral/The Pink Panther Theme [VyZiIuMufTA].wav',\n",
       " '/home/maellef/git/MuteMusic/data/StimuliFinal/8s/Synthetic/Donkey Kong Country OST (Super Nintendo) - Track 03⧸23 - DK Island Swing [HG8YrDF6cDk].wav',\n",
       " '/home/maellef/git/MuteMusic/data/StimuliFinal/8s/Orchestral/The Moldau (Studio recording) [pT2bgYo9RT0].wav',\n",
       " \"/home/maellef/git/MuteMusic/data/StimuliFinal/8s/Lyrics/[I Can't Get No] Satisfaction (Mono) [MSSxnv1_J2g].wav\",\n",
       " '/home/maellef/git/MuteMusic/data/StimuliFinal/8s/Synthetic/MEGALOVANIA [0FCvzsVlXpQ].wav',\n",
       " '/home/maellef/git/MuteMusic/data/StimuliFinal/8s/Orchestral/Suite bergamasque, CD 82, L. 75： III. Clair de lune [JVmwLJeeOy4].wav',\n",
       " '/home/maellef/git/MuteMusic/data/StimuliFinal/8s/Orchestral/Hook- Hook Prologue [OwpOeeQJXGI].wav',\n",
       " '/home/maellef/git/MuteMusic/data/StimuliFinal/8s/Synthetic/Shinobi 3 Return Of The Ninja Master OST- Japonesque [rVmaou-eQfY].wav',\n",
       " '/home/maellef/git/MuteMusic/data/StimuliFinal/8s/Synthetic/エアリスのテーマ [n0H6kTppjP8].wav',\n",
       " '/home/maellef/git/MuteMusic/data/StimuliFinal/8s/Lyrics/Rick Astley - Never Gonna Give You Up (Official Music Video) [dQw4w9WgXcQ].wav',\n",
       " '/home/maellef/git/MuteMusic/data/StimuliFinal/8s/Lyrics/Simon & Garfunkel - Mrs. Robinson (Audio) [9C1BCAgu2I8].wav',\n",
       " '/home/maellef/git/MuteMusic/data/StimuliFinal/8s/Orchestral/Another Brick In The Wall (Part 1) [-cfJqYtmmqA].wav',\n",
       " '/home/maellef/git/MuteMusic/data/StimuliFinal/8s/Lyrics/John Denver - Take Me Home, Country Roads (Official Audio) [1vrEljMfXYo].wav',\n",
       " '/home/maellef/git/MuteMusic/data/StimuliFinal/8s/Lyrics/The Beatles - Rain [cK5G8fPmWeA].wav',\n",
       " '/home/maellef/git/MuteMusic/data/StimuliFinal/8s/Synthetic/Invincibility - Sonic the Hedgehog 2 [OST] [UbobbsFpMR0].wav',\n",
       " '/home/maellef/git/MuteMusic/data/StimuliFinal/8s/Orchestral/Ennio Morricone - My Name is Nobody - Il Mio Nome è Nessuno (Album) High Quality Audio [duF1OQho1gc].wav',\n",
       " '/home/maellef/git/MuteMusic/data/StimuliFinal/8s/Lyrics/Michael Jackson - Why You Wanna Trip on Me (Audio) [C2FUzoy-UCg].wav',\n",
       " '/home/maellef/git/MuteMusic/data/StimuliFinal/8s/Orchestral/Dmitri Shostakovich - Waltz No. 2 [mmCnQDUSO4I].wav',\n",
       " '/home/maellef/git/MuteMusic/data/StimuliFinal/8s/Lyrics/Billy Newton-Davis, Céline Dion - Can’t Live With You, Can’t Live Without You (Official Audio) [bY8PUuZR4tw].wav',\n",
       " '/home/maellef/git/MuteMusic/data/StimuliFinal/8s/Orchestral/Star Trek： the Next Generation - Main Title [yweIpSWhyRc].wav',\n",
       " '/home/maellef/git/MuteMusic/data/StimuliFinal/8s/Synthetic/Shinobi 3 Return Of The Ninja Master OST- Shinobi Walk [A1jKza3O1y4].wav']"
      ]
     },
     "execution_count": 7,
     "metadata": {},
     "output_type": "execute_result"
    }
   ],
   "source": [
    "allstims"
   ]
  },
  {
   "cell_type": "markdown",
   "id": "dc664ca6",
   "metadata": {},
   "source": [
    "Decide here how much silence between stimuli"
   ]
  },
  {
   "cell_type": "code",
   "execution_count": 8,
   "id": "ec2c6f89",
   "metadata": {},
   "outputs": [],
   "source": [
    "silence = 4"
   ]
  },
  {
   "cell_type": "markdown",
   "id": "77aec8c8",
   "metadata": {},
   "source": [
    "Generate the sound and the timestamps"
   ]
  },
  {
   "cell_type": "code",
   "execution_count": 38,
   "id": "f4ea96b8",
   "metadata": {},
   "outputs": [
    {
     "name": "stderr",
     "output_type": "stream",
     "text": [
      "/home/maellef/env/MuteMusic_P310/lib/python3.10/site-packages/pyloudnorm/normalize.py:31: UserWarning: Possible clipped samples in output.\n",
      "  warnings.warn(\"Possible clipped samples in output.\")\n",
      "/home/maellef/env/MuteMusic_P310/lib/python3.10/site-packages/pyloudnorm/normalize.py:31: UserWarning: Possible clipped samples in output.\n",
      "  warnings.warn(\"Possible clipped samples in output.\")\n",
      "/home/maellef/env/MuteMusic_P310/lib/python3.10/site-packages/pyloudnorm/normalize.py:31: UserWarning: Possible clipped samples in output.\n",
      "  warnings.warn(\"Possible clipped samples in output.\")\n",
      "/home/maellef/env/MuteMusic_P310/lib/python3.10/site-packages/pyloudnorm/normalize.py:31: UserWarning: Possible clipped samples in output.\n",
      "  warnings.warn(\"Possible clipped samples in output.\")\n",
      "/home/maellef/env/MuteMusic_P310/lib/python3.10/site-packages/pyloudnorm/normalize.py:31: UserWarning: Possible clipped samples in output.\n",
      "  warnings.warn(\"Possible clipped samples in output.\")\n",
      "/home/maellef/env/MuteMusic_P310/lib/python3.10/site-packages/pyloudnorm/normalize.py:31: UserWarning: Possible clipped samples in output.\n",
      "  warnings.warn(\"Possible clipped samples in output.\")\n",
      "/home/maellef/env/MuteMusic_P310/lib/python3.10/site-packages/pyloudnorm/normalize.py:31: UserWarning: Possible clipped samples in output.\n",
      "  warnings.warn(\"Possible clipped samples in output.\")\n",
      "/home/maellef/env/MuteMusic_P310/lib/python3.10/site-packages/pyloudnorm/normalize.py:31: UserWarning: Possible clipped samples in output.\n",
      "  warnings.warn(\"Possible clipped samples in output.\")\n",
      "/home/maellef/env/MuteMusic_P310/lib/python3.10/site-packages/pyloudnorm/normalize.py:31: UserWarning: Possible clipped samples in output.\n",
      "  warnings.warn(\"Possible clipped samples in output.\")\n",
      "/home/maellef/env/MuteMusic_P310/lib/python3.10/site-packages/pyloudnorm/normalize.py:31: UserWarning: Possible clipped samples in output.\n",
      "  warnings.warn(\"Possible clipped samples in output.\")\n",
      "/home/maellef/env/MuteMusic_P310/lib/python3.10/site-packages/pyloudnorm/normalize.py:31: UserWarning: Possible clipped samples in output.\n",
      "  warnings.warn(\"Possible clipped samples in output.\")\n",
      "/home/maellef/env/MuteMusic_P310/lib/python3.10/site-packages/pyloudnorm/normalize.py:31: UserWarning: Possible clipped samples in output.\n",
      "  warnings.warn(\"Possible clipped samples in output.\")\n"
     ]
    },
    {
     "name": "stdout",
     "output_type": "stream",
     "text": [
      "Adding -18.148306842346535, /home/maellef/git/MuteMusic/data/StimuliFinal/8s/Orchestral/Seinfeld Official Soundtrack ｜ Seinfeld Theme - Jonathan Wolff ｜ WaterTower [RWak0i_iqnM].wav\n",
      "Adding -17.360478501810427, /home/maellef/git/MuteMusic/data/StimuliFinal/8s/Lyrics/Hotel California (2013 Remaster) [BciS5krYL80].wav\n",
      "Adding -11.390842516410341, /home/maellef/git/MuteMusic/data/StimuliFinal/8s/Lyrics/Tears For Fears - Everybody Wants To Rule The World (Official Archive Video) [znDgBy2mHbc].wav\n",
      "Adding -15.422087707786233, /home/maellef/git/MuteMusic/data/StimuliFinal/8s/Synthetic/Shinobi 3 Return Of The Ninja Master OST- Idaten [TFZQWCg99l4].wav\n",
      "Adding -13.353783897282653, /home/maellef/git/MuteMusic/data/StimuliFinal/8s/Synthetic/Super Mario Bros (NES) Music - Underground Theme [UOwyFPgjPQ4].wav\n",
      "Adding -14.207238551630299, /home/maellef/git/MuteMusic/data/StimuliFinal/8s/Synthetic/Underwater Theme - Super Mario Bros 3 [JGpOPWM6uzE].wav\n",
      "Adding -12.492427787736165, /home/maellef/git/MuteMusic/data/StimuliFinal/8s/Lyrics/AC⧸DC - Highway to Hell (Official Video) [l482T0yNkeo].wav\n",
      "Adding -15.013187651403314, /home/maellef/git/MuteMusic/data/StimuliFinal/8s/Synthetic/Castlevania 4 - Bloody Tears (Super Nintendo) [QOWUSsFar-s].wav\n",
      "Adding -16.798437414886664, /home/maellef/git/MuteMusic/data/StimuliFinal/8s/Synthetic/Space Harrier Music - MAIN THEME [-_Tam9lv1KQ].wav\n",
      "Adding -14.6570536150062, /home/maellef/git/MuteMusic/data/StimuliFinal/8s/Synthetic/[Official] Celeste Original Soundtrack - 03 - Resurrections [1rwAvUvvQzQ].wav\n",
      "Adding -16.352149836185298, /home/maellef/git/MuteMusic/data/StimuliFinal/8s/Orchestral/il porco rosso [iKMHCmDdJ2U].wav\n",
      "Adding -16.207353031354632, /home/maellef/git/MuteMusic/data/StimuliFinal/8s/Lyrics/Bob Marley - No Women No Cry (Original) [pHlSE9j5FGY].wav\n",
      "Adding -13.220152077980964, /home/maellef/git/MuteMusic/data/StimuliFinal/8s/Synthetic/Original Tetris theme (Tetris Soundtrack) [NmCCQxVBfyM].wav\n"
     ]
    },
    {
     "name": "stderr",
     "output_type": "stream",
     "text": [
      "/home/maellef/env/MuteMusic_P310/lib/python3.10/site-packages/pyloudnorm/normalize.py:31: UserWarning: Possible clipped samples in output.\n",
      "  warnings.warn(\"Possible clipped samples in output.\")\n",
      "/home/maellef/env/MuteMusic_P310/lib/python3.10/site-packages/pyloudnorm/normalize.py:31: UserWarning: Possible clipped samples in output.\n",
      "  warnings.warn(\"Possible clipped samples in output.\")\n",
      "/home/maellef/env/MuteMusic_P310/lib/python3.10/site-packages/pyloudnorm/normalize.py:31: UserWarning: Possible clipped samples in output.\n",
      "  warnings.warn(\"Possible clipped samples in output.\")\n",
      "/home/maellef/env/MuteMusic_P310/lib/python3.10/site-packages/pyloudnorm/normalize.py:31: UserWarning: Possible clipped samples in output.\n",
      "  warnings.warn(\"Possible clipped samples in output.\")\n",
      "/home/maellef/env/MuteMusic_P310/lib/python3.10/site-packages/pyloudnorm/normalize.py:31: UserWarning: Possible clipped samples in output.\n",
      "  warnings.warn(\"Possible clipped samples in output.\")\n",
      "/home/maellef/env/MuteMusic_P310/lib/python3.10/site-packages/pyloudnorm/normalize.py:31: UserWarning: Possible clipped samples in output.\n",
      "  warnings.warn(\"Possible clipped samples in output.\")\n",
      "/home/maellef/env/MuteMusic_P310/lib/python3.10/site-packages/pyloudnorm/normalize.py:31: UserWarning: Possible clipped samples in output.\n",
      "  warnings.warn(\"Possible clipped samples in output.\")\n",
      "/home/maellef/env/MuteMusic_P310/lib/python3.10/site-packages/pyloudnorm/normalize.py:31: UserWarning: Possible clipped samples in output.\n",
      "  warnings.warn(\"Possible clipped samples in output.\")\n",
      "/home/maellef/env/MuteMusic_P310/lib/python3.10/site-packages/pyloudnorm/normalize.py:31: UserWarning: Possible clipped samples in output.\n",
      "  warnings.warn(\"Possible clipped samples in output.\")\n",
      "/home/maellef/env/MuteMusic_P310/lib/python3.10/site-packages/pyloudnorm/normalize.py:31: UserWarning: Possible clipped samples in output.\n",
      "  warnings.warn(\"Possible clipped samples in output.\")\n",
      "/home/maellef/env/MuteMusic_P310/lib/python3.10/site-packages/pyloudnorm/normalize.py:31: UserWarning: Possible clipped samples in output.\n",
      "  warnings.warn(\"Possible clipped samples in output.\")\n"
     ]
    },
    {
     "name": "stdout",
     "output_type": "stream",
     "text": [
      "Adding -18.139700502287532, /home/maellef/git/MuteMusic/data/StimuliFinal/8s/Lyrics/Murder By Numbers [tUq9fURN2VQ].wav\n",
      "Adding -15.132073669871819, /home/maellef/git/MuteMusic/data/StimuliFinal/8s/Synthetic/Sonic The Hedgehog OST - Green Hill Zone [G-i8HYi1QH0].wav\n",
      "Adding -10.371066022720234, /home/maellef/git/MuteMusic/data/StimuliFinal/8s/Lyrics/Material Girl [JO9h1fQU_-k].wav\n",
      "Adding -18.88518454419925, /home/maellef/git/MuteMusic/data/StimuliFinal/8s/Orchestral/Satie： Gnossiennes - Gnossiennes No. 1 - Lent [t27rzTkFKmU].wav\n",
      "Adding -14.617382192054498, /home/maellef/git/MuteMusic/data/StimuliFinal/8s/Synthetic/Mortal Kombat (Sega Genesis) - Opening Theme [yVCoMrJwFZc].wav\n",
      "Adding -16.746248863166674, /home/maellef/git/MuteMusic/data/StimuliFinal/8s/Orchestral/Main Title [uXZd_W5B7N0].wav\n",
      "Adding -17.406345321008846, /home/maellef/git/MuteMusic/data/StimuliFinal/8s/Synthetic/Super Mario 64 - Bob-Omb Battlefield (Extended) Theme [xC3oIT5g_os].wav\n",
      "Adding -18.762142434468807, /home/maellef/git/MuteMusic/data/StimuliFinal/8s/Lyrics/Make 'Em Laugh [ieU4Am0t0tc].wav\n",
      "Adding -15.102700770096623, /home/maellef/git/MuteMusic/data/StimuliFinal/8s/Lyrics/Radiohead - Creep [XFkzRNyygfk].wav\n",
      "Adding -15.551069656335134, /home/maellef/git/MuteMusic/data/StimuliFinal/8s/Orchestral/Joe Hisaishi - Kiki's Delivery Service [HPg_auEBL1Y].wav\n",
      "Adding -12.750508389131125, /home/maellef/git/MuteMusic/data/StimuliFinal/8s/Orchestral/The Office (Main Theme) ＂Tv Short Version＂ [3cMctz6KNsg].wav\n",
      "Adding -15.102039469503023, /home/maellef/git/MuteMusic/data/StimuliFinal/8s/Lyrics/Elvis Presley - Jailhouse Rock (Official Lyric Video) [Hi2hpTXeHTI].wav\n",
      "Adding -16.352446136290606, /home/maellef/git/MuteMusic/data/StimuliFinal/8s/Synthetic/Streets Of Rage 1 OST- Stage 1 [tfiUfU18FmM].wav\n",
      "Adding -15.83245621457523, /home/maellef/git/MuteMusic/data/StimuliFinal/8s/Orchestral/The Imperial March (Darth Vader's Theme) [s3SZ5sIMY6o].wav\n"
     ]
    },
    {
     "name": "stderr",
     "output_type": "stream",
     "text": [
      "/home/maellef/env/MuteMusic_P310/lib/python3.10/site-packages/pyloudnorm/normalize.py:31: UserWarning: Possible clipped samples in output.\n",
      "  warnings.warn(\"Possible clipped samples in output.\")\n",
      "/home/maellef/env/MuteMusic_P310/lib/python3.10/site-packages/pyloudnorm/normalize.py:31: UserWarning: Possible clipped samples in output.\n",
      "  warnings.warn(\"Possible clipped samples in output.\")\n",
      "/home/maellef/env/MuteMusic_P310/lib/python3.10/site-packages/pyloudnorm/normalize.py:31: UserWarning: Possible clipped samples in output.\n",
      "  warnings.warn(\"Possible clipped samples in output.\")\n",
      "/home/maellef/env/MuteMusic_P310/lib/python3.10/site-packages/pyloudnorm/normalize.py:31: UserWarning: Possible clipped samples in output.\n",
      "  warnings.warn(\"Possible clipped samples in output.\")\n",
      "/home/maellef/env/MuteMusic_P310/lib/python3.10/site-packages/pyloudnorm/normalize.py:31: UserWarning: Possible clipped samples in output.\n",
      "  warnings.warn(\"Possible clipped samples in output.\")\n",
      "/home/maellef/env/MuteMusic_P310/lib/python3.10/site-packages/pyloudnorm/normalize.py:31: UserWarning: Possible clipped samples in output.\n",
      "  warnings.warn(\"Possible clipped samples in output.\")\n",
      "/home/maellef/env/MuteMusic_P310/lib/python3.10/site-packages/pyloudnorm/normalize.py:31: UserWarning: Possible clipped samples in output.\n",
      "  warnings.warn(\"Possible clipped samples in output.\")\n",
      "/home/maellef/env/MuteMusic_P310/lib/python3.10/site-packages/pyloudnorm/normalize.py:31: UserWarning: Possible clipped samples in output.\n",
      "  warnings.warn(\"Possible clipped samples in output.\")\n",
      "/home/maellef/env/MuteMusic_P310/lib/python3.10/site-packages/pyloudnorm/normalize.py:31: UserWarning: Possible clipped samples in output.\n",
      "  warnings.warn(\"Possible clipped samples in output.\")\n",
      "/home/maellef/env/MuteMusic_P310/lib/python3.10/site-packages/pyloudnorm/normalize.py:31: UserWarning: Possible clipped samples in output.\n",
      "  warnings.warn(\"Possible clipped samples in output.\")\n",
      "/home/maellef/env/MuteMusic_P310/lib/python3.10/site-packages/pyloudnorm/normalize.py:31: UserWarning: Possible clipped samples in output.\n",
      "  warnings.warn(\"Possible clipped samples in output.\")\n",
      "/home/maellef/env/MuteMusic_P310/lib/python3.10/site-packages/pyloudnorm/normalize.py:31: UserWarning: Possible clipped samples in output.\n",
      "  warnings.warn(\"Possible clipped samples in output.\")\n",
      "/home/maellef/env/MuteMusic_P310/lib/python3.10/site-packages/pyloudnorm/normalize.py:31: UserWarning: Possible clipped samples in output.\n",
      "  warnings.warn(\"Possible clipped samples in output.\")\n"
     ]
    },
    {
     "name": "stdout",
     "output_type": "stream",
     "text": [
      "Adding -15.715482985596482, /home/maellef/git/MuteMusic/data/StimuliFinal/8s/Synthetic/Super Mario Bros (NES) Music - Overworld Theme [iy3qq7zc4EY].wav\n",
      "Adding -12.861177888136536, /home/maellef/git/MuteMusic/data/StimuliFinal/8s/Synthetic/Legend of Zelda, The (NES) Music - Overworld Theme [ncg72VswyTs].wav\n",
      "Adding -13.506574059193637, /home/maellef/git/MuteMusic/data/StimuliFinal/8s/Lyrics/Gangsta's Paradise [Tw0_qHNRAEA].wav\n",
      "Adding -13.359925942506292, /home/maellef/git/MuteMusic/data/StimuliFinal/8s/Synthetic/Populous (SNES⧸SFC) - BGM 01： Title Theme [_Oix8HQESBs].wav\n",
      "Adding -14.87106493321865, /home/maellef/git/MuteMusic/data/StimuliFinal/8s/Synthetic/Sim City - Growth [cwWrJg6OMs8].wav\n",
      "Adding -16.01321484468239, /home/maellef/git/MuteMusic/data/StimuliFinal/8s/Orchestral/Dreaming of Bag End [h55ROrO3UHc].wav\n",
      "Adding -14.120398025582228, /home/maellef/git/MuteMusic/data/StimuliFinal/8s/Lyrics/Monday, Monday [sWGh92O9kxU].wav\n",
      "Adding -12.73465661913829, /home/maellef/git/MuteMusic/data/StimuliFinal/8s/Synthetic/Aladdin Genesis Music   Ending [oaIXo6aaL-w].wav\n",
      "Adding -15.151114538147647, /home/maellef/git/MuteMusic/data/StimuliFinal/8s/Orchestral/Clint Mansell： Lux Aeterna from Requiem for a Dream (Official Video) [0-jVz7Dou4Y].wav\n",
      "Adding -17.71370562746881, /home/maellef/git/MuteMusic/data/StimuliFinal/8s/Orchestral/Beethoven - Moonlight Sonata (FULL) [4Tr0otuiQuU].wav\n",
      "Adding -20.839800618044883, /home/maellef/git/MuteMusic/data/StimuliFinal/8s/Orchestral/Led Zeppelin - Stairway To Heaven (Official Audio) [QkF3oxziUI4].wav\n",
      "Adding -14.28673921523142, /home/maellef/git/MuteMusic/data/StimuliFinal/8s/Orchestral/Ronnie Aldrich Orchestra - Yakety Sax (1983) [mvsR9KXQknE].wav\n",
      "Adding -14.925283129931488, /home/maellef/git/MuteMusic/data/StimuliFinal/8s/Orchestral/Back To The Future (From ＂Back To The Future＂ Original Score⧸End Credits) [LpbHlXPmmcE].wav\n"
     ]
    },
    {
     "name": "stderr",
     "output_type": "stream",
     "text": [
      "/home/maellef/env/MuteMusic_P310/lib/python3.10/site-packages/pyloudnorm/normalize.py:31: UserWarning: Possible clipped samples in output.\n",
      "  warnings.warn(\"Possible clipped samples in output.\")\n",
      "/home/maellef/env/MuteMusic_P310/lib/python3.10/site-packages/pyloudnorm/normalize.py:31: UserWarning: Possible clipped samples in output.\n",
      "  warnings.warn(\"Possible clipped samples in output.\")\n",
      "/home/maellef/env/MuteMusic_P310/lib/python3.10/site-packages/pyloudnorm/normalize.py:31: UserWarning: Possible clipped samples in output.\n",
      "  warnings.warn(\"Possible clipped samples in output.\")\n",
      "/home/maellef/env/MuteMusic_P310/lib/python3.10/site-packages/pyloudnorm/normalize.py:31: UserWarning: Possible clipped samples in output.\n",
      "  warnings.warn(\"Possible clipped samples in output.\")\n",
      "/home/maellef/env/MuteMusic_P310/lib/python3.10/site-packages/pyloudnorm/normalize.py:31: UserWarning: Possible clipped samples in output.\n",
      "  warnings.warn(\"Possible clipped samples in output.\")\n",
      "/home/maellef/env/MuteMusic_P310/lib/python3.10/site-packages/pyloudnorm/normalize.py:31: UserWarning: Possible clipped samples in output.\n",
      "  warnings.warn(\"Possible clipped samples in output.\")\n",
      "/home/maellef/env/MuteMusic_P310/lib/python3.10/site-packages/pyloudnorm/normalize.py:31: UserWarning: Possible clipped samples in output.\n",
      "  warnings.warn(\"Possible clipped samples in output.\")\n",
      "/home/maellef/env/MuteMusic_P310/lib/python3.10/site-packages/pyloudnorm/normalize.py:31: UserWarning: Possible clipped samples in output.\n",
      "  warnings.warn(\"Possible clipped samples in output.\")\n",
      "/home/maellef/env/MuteMusic_P310/lib/python3.10/site-packages/pyloudnorm/normalize.py:31: UserWarning: Possible clipped samples in output.\n",
      "  warnings.warn(\"Possible clipped samples in output.\")\n",
      "/home/maellef/env/MuteMusic_P310/lib/python3.10/site-packages/pyloudnorm/normalize.py:31: UserWarning: Possible clipped samples in output.\n",
      "  warnings.warn(\"Possible clipped samples in output.\")\n",
      "/home/maellef/env/MuteMusic_P310/lib/python3.10/site-packages/pyloudnorm/normalize.py:31: UserWarning: Possible clipped samples in output.\n",
      "  warnings.warn(\"Possible clipped samples in output.\")\n",
      "/home/maellef/env/MuteMusic_P310/lib/python3.10/site-packages/pyloudnorm/normalize.py:31: UserWarning: Possible clipped samples in output.\n",
      "  warnings.warn(\"Possible clipped samples in output.\")\n"
     ]
    },
    {
     "name": "stdout",
     "output_type": "stream",
     "text": [
      "Adding -13.123470637823363, /home/maellef/git/MuteMusic/data/StimuliFinal/8s/Lyrics/Mister Sandman [PKnPrbPK5vA].wav\n",
      "Adding -14.787790022339337, /home/maellef/git/MuteMusic/data/StimuliFinal/8s/Orchestral/Coleman Hawkins - Body and Soul [Pkvju_DlP8A].wav\n",
      "Adding -14.873564059156076, /home/maellef/git/MuteMusic/data/StimuliFinal/8s/Orchestral/The 4 Seasons, Op. 8⧸4, RV 297, ＂Winter＂ [_FeJFs6LJjU].wav\n",
      "Adding -15.42660204816387, /home/maellef/git/MuteMusic/data/StimuliFinal/8s/Synthetic/Sid Meier's Civilization 【SNES】 OST 06 City Menu [zFND5ln-06o].wav\n",
      "Adding -12.802486760366802, /home/maellef/git/MuteMusic/data/StimuliFinal/8s/Orchestral/Main Title Terminator 2 Theme (Remastered 2017) [CnQm2_cAZvo].wav\n",
      "Adding -16.547405072972506, /home/maellef/git/MuteMusic/data/StimuliFinal/8s/Orchestral/Générique 2001, l'Odyssée de l'espace de Stanley Kubrick 1968 [5HjTXZPnYso].wav\n",
      "Adding -15.765160442821633, /home/maellef/git/MuteMusic/data/StimuliFinal/8s/Lyrics/Living Together [1U9noJETLU0].wav\n",
      "Adding -18.860564641152745, /home/maellef/git/MuteMusic/data/StimuliFinal/8s/Lyrics/Gloria Gaynor - I Will Survive [6dYWe1c3OyU].wav\n",
      "Adding -12.595643433630721, /home/maellef/git/MuteMusic/data/StimuliFinal/8s/Lyrics/I'll Be There for You (Theme From ＂Friends＂) [RIjTq_OdFvo].wav\n",
      "Adding -16.37280034219198, /home/maellef/git/MuteMusic/data/StimuliFinal/8s/Lyrics/Another Brick In The Wall (Part 1) [-cfJqYtmmqA].wav\n",
      "Adding -15.044558649346097, /home/maellef/git/MuteMusic/data/StimuliFinal/8s/Lyrics/Babooshka (2018 Remaster) [3NMhpI2-pLU].wav\n",
      "Adding -15.480282883342467, /home/maellef/git/MuteMusic/data/StimuliFinal/8s/Lyrics/The Weather Girls - It's Raining Men (Video) [l5aZJBLAu1E].wav\n",
      "Adding -16.461622415263726, /home/maellef/git/MuteMusic/data/StimuliFinal/8s/Synthetic/Street Fighter II： Champion Edition Arcade Music - Guile Theme (CPS-1) [kZTFKSfKZ_Q].wav\n"
     ]
    },
    {
     "name": "stderr",
     "output_type": "stream",
     "text": [
      "/home/maellef/env/MuteMusic_P310/lib/python3.10/site-packages/pyloudnorm/normalize.py:31: UserWarning: Possible clipped samples in output.\n",
      "  warnings.warn(\"Possible clipped samples in output.\")\n",
      "/home/maellef/env/MuteMusic_P310/lib/python3.10/site-packages/pyloudnorm/normalize.py:31: UserWarning: Possible clipped samples in output.\n",
      "  warnings.warn(\"Possible clipped samples in output.\")\n",
      "/home/maellef/env/MuteMusic_P310/lib/python3.10/site-packages/pyloudnorm/normalize.py:31: UserWarning: Possible clipped samples in output.\n",
      "  warnings.warn(\"Possible clipped samples in output.\")\n",
      "/home/maellef/env/MuteMusic_P310/lib/python3.10/site-packages/pyloudnorm/normalize.py:31: UserWarning: Possible clipped samples in output.\n",
      "  warnings.warn(\"Possible clipped samples in output.\")\n",
      "/home/maellef/env/MuteMusic_P310/lib/python3.10/site-packages/pyloudnorm/normalize.py:31: UserWarning: Possible clipped samples in output.\n",
      "  warnings.warn(\"Possible clipped samples in output.\")\n",
      "/home/maellef/env/MuteMusic_P310/lib/python3.10/site-packages/pyloudnorm/normalize.py:31: UserWarning: Possible clipped samples in output.\n",
      "  warnings.warn(\"Possible clipped samples in output.\")\n",
      "/home/maellef/env/MuteMusic_P310/lib/python3.10/site-packages/pyloudnorm/normalize.py:31: UserWarning: Possible clipped samples in output.\n",
      "  warnings.warn(\"Possible clipped samples in output.\")\n",
      "/home/maellef/env/MuteMusic_P310/lib/python3.10/site-packages/pyloudnorm/normalize.py:31: UserWarning: Possible clipped samples in output.\n",
      "  warnings.warn(\"Possible clipped samples in output.\")\n",
      "/home/maellef/env/MuteMusic_P310/lib/python3.10/site-packages/pyloudnorm/normalize.py:31: UserWarning: Possible clipped samples in output.\n",
      "  warnings.warn(\"Possible clipped samples in output.\")\n",
      "/home/maellef/env/MuteMusic_P310/lib/python3.10/site-packages/pyloudnorm/normalize.py:31: UserWarning: Possible clipped samples in output.\n",
      "  warnings.warn(\"Possible clipped samples in output.\")\n",
      "/home/maellef/env/MuteMusic_P310/lib/python3.10/site-packages/pyloudnorm/normalize.py:31: UserWarning: Possible clipped samples in output.\n",
      "  warnings.warn(\"Possible clipped samples in output.\")\n",
      "/home/maellef/env/MuteMusic_P310/lib/python3.10/site-packages/pyloudnorm/normalize.py:31: UserWarning: Possible clipped samples in output.\n",
      "  warnings.warn(\"Possible clipped samples in output.\")\n"
     ]
    },
    {
     "name": "stdout",
     "output_type": "stream",
     "text": [
      "Adding -19.0608327456443, /home/maellef/git/MuteMusic/data/StimuliFinal/8s/Synthetic/Above Ground BGM - Super Mario Bros. 3 [oZszAppxXoo].wav\n",
      "Adding -15.480953604668242, /home/maellef/git/MuteMusic/data/StimuliFinal/8s/Orchestral/The Pink Panther Theme [VyZiIuMufTA].wav\n",
      "Adding -14.585445938340852, /home/maellef/git/MuteMusic/data/StimuliFinal/8s/Synthetic/Donkey Kong Country OST (Super Nintendo) - Track 03⧸23 - DK Island Swing [HG8YrDF6cDk].wav\n",
      "Adding -17.05714503293441, /home/maellef/git/MuteMusic/data/StimuliFinal/8s/Orchestral/The Moldau (Studio recording) [pT2bgYo9RT0].wav\n",
      "Adding -14.313004157758865, /home/maellef/git/MuteMusic/data/StimuliFinal/8s/Lyrics/[I Can't Get No] Satisfaction (Mono) [MSSxnv1_J2g].wav\n",
      "Adding -14.40616162722932, /home/maellef/git/MuteMusic/data/StimuliFinal/8s/Synthetic/MEGALOVANIA [0FCvzsVlXpQ].wav\n",
      "Adding -16.3480543263586, /home/maellef/git/MuteMusic/data/StimuliFinal/8s/Orchestral/Suite bergamasque, CD 82, L. 75： III. Clair de lune [JVmwLJeeOy4].wav\n",
      "Adding -17.526960398652466, /home/maellef/git/MuteMusic/data/StimuliFinal/8s/Orchestral/Hook- Hook Prologue [OwpOeeQJXGI].wav\n",
      "Adding -14.16283805319707, /home/maellef/git/MuteMusic/data/StimuliFinal/8s/Synthetic/Shinobi 3 Return Of The Ninja Master OST- Japonesque [rVmaou-eQfY].wav\n",
      "Adding -12.5748372088115, /home/maellef/git/MuteMusic/data/StimuliFinal/8s/Synthetic/エアリスのテーマ [n0H6kTppjP8].wav\n",
      "Adding -13.396354223815896, /home/maellef/git/MuteMusic/data/StimuliFinal/8s/Lyrics/Rick Astley - Never Gonna Give You Up (Official Music Video) [dQw4w9WgXcQ].wav\n",
      "Adding -14.145488549429304, /home/maellef/git/MuteMusic/data/StimuliFinal/8s/Lyrics/Simon & Garfunkel - Mrs. Robinson (Audio) [9C1BCAgu2I8].wav\n",
      "Adding -15.040568304514514, /home/maellef/git/MuteMusic/data/StimuliFinal/8s/Orchestral/Another Brick In The Wall (Part 1) [-cfJqYtmmqA].wav\n",
      "Adding -13.556990758255106, /home/maellef/git/MuteMusic/data/StimuliFinal/8s/Lyrics/John Denver - Take Me Home, Country Roads (Official Audio) [1vrEljMfXYo].wav\n",
      "Adding -12.397569211226395, /home/maellef/git/MuteMusic/data/StimuliFinal/8s/Lyrics/The Beatles - Rain [cK5G8fPmWeA].wav\n",
      "Adding -14.516689635716363, /home/maellef/git/MuteMusic/data/StimuliFinal/8s/Synthetic/Invincibility - Sonic the Hedgehog 2 [OST] [UbobbsFpMR0].wav\n",
      "Adding -9.920475407656868, /home/maellef/git/MuteMusic/data/StimuliFinal/8s/Orchestral/Ennio Morricone - My Name is Nobody - Il Mio Nome è Nessuno (Album) High Quality Audio [duF1OQho1gc].wav\n",
      "Adding -15.150983454444813, /home/maellef/git/MuteMusic/data/StimuliFinal/8s/Lyrics/Michael Jackson - Why You Wanna Trip on Me (Audio) [C2FUzoy-UCg].wav\n",
      "Adding -13.975943313744445, /home/maellef/git/MuteMusic/data/StimuliFinal/8s/Orchestral/Dmitri Shostakovich - Waltz No. 2 [mmCnQDUSO4I].wav\n",
      "Adding -12.576948809336232, /home/maellef/git/MuteMusic/data/StimuliFinal/8s/Lyrics/Billy Newton-Davis, Céline Dion - Can’t Live With You, Can’t Live Without You (Official Audio) [bY8PUuZR4tw].wav\n",
      "Adding -15.769168098195161, /home/maellef/git/MuteMusic/data/StimuliFinal/8s/Orchestral/Star Trek： the Next Generation - Main Title [yweIpSWhyRc].wav\n",
      "Adding -16.66593368906104, /home/maellef/git/MuteMusic/data/StimuliFinal/8s/Synthetic/Shinobi 3 Return Of The Ninja Master OST- Shinobi Walk [A1jKza3O1y4].wav\n"
     ]
    },
    {
     "name": "stderr",
     "output_type": "stream",
     "text": [
      "/home/maellef/env/MuteMusic_P310/lib/python3.10/site-packages/pyloudnorm/normalize.py:31: UserWarning: Possible clipped samples in output.\n",
      "  warnings.warn(\"Possible clipped samples in output.\")\n",
      "/home/maellef/env/MuteMusic_P310/lib/python3.10/site-packages/pyloudnorm/normalize.py:31: UserWarning: Possible clipped samples in output.\n",
      "  warnings.warn(\"Possible clipped samples in output.\")\n",
      "/home/maellef/env/MuteMusic_P310/lib/python3.10/site-packages/pyloudnorm/normalize.py:31: UserWarning: Possible clipped samples in output.\n",
      "  warnings.warn(\"Possible clipped samples in output.\")\n",
      "/home/maellef/env/MuteMusic_P310/lib/python3.10/site-packages/pyloudnorm/normalize.py:31: UserWarning: Possible clipped samples in output.\n",
      "  warnings.warn(\"Possible clipped samples in output.\")\n",
      "/home/maellef/env/MuteMusic_P310/lib/python3.10/site-packages/pyloudnorm/normalize.py:31: UserWarning: Possible clipped samples in output.\n",
      "  warnings.warn(\"Possible clipped samples in output.\")\n",
      "/home/maellef/env/MuteMusic_P310/lib/python3.10/site-packages/pyloudnorm/normalize.py:31: UserWarning: Possible clipped samples in output.\n",
      "  warnings.warn(\"Possible clipped samples in output.\")\n",
      "/home/maellef/env/MuteMusic_P310/lib/python3.10/site-packages/pyloudnorm/normalize.py:31: UserWarning: Possible clipped samples in output.\n",
      "  warnings.warn(\"Possible clipped samples in output.\")\n",
      "/home/maellef/env/MuteMusic_P310/lib/python3.10/site-packages/pyloudnorm/normalize.py:31: UserWarning: Possible clipped samples in output.\n",
      "  warnings.warn(\"Possible clipped samples in output.\")\n"
     ]
    }
   ],
   "source": [
    "timestamps = []\n",
    "allsounds = []\n",
    "start = 3\n",
    "max, min = -10, -10\n",
    "max_track, min_track = None, None\n",
    "for curstim in allstims:\n",
    "    timestamps.append(start)\n",
    "    start = start + silence + 8\n",
    "    curwave,rate = add_sound(curstim,silencedur=silence,fadedur = 0.5, peak_norm=True)\n",
    "    #----------------------------------------------------\n",
    "    meter = pyln.Meter(rate)\n",
    "    loudness = meter.integrated_loudness(curwave)\n",
    "    print(f\"Adding {loudness}, {curstim}\")\n",
    "    #----------------------------------------------------\n",
    "    allsounds.append(curwave)"
   ]
  },
  {
   "cell_type": "code",
   "execution_count": 29,
   "id": "6fdcb1cc",
   "metadata": {},
   "outputs": [],
   "source": [
    "def convert_seconds(timestamps):\n",
    "    minutes = []\n",
    "    seconds = []\n",
    "    for i in range(len(timestamps)):\n",
    "        minutes.append(timestamps[i] // 60)\n",
    "        seconds.append(timestamps[i] % 60)\n",
    "    return (minutes, seconds)"
   ]
  },
  {
   "cell_type": "code",
   "execution_count": 30,
   "id": "05fa600b",
   "metadata": {},
   "outputs": [],
   "source": [
    "minutes,seconds = convert_seconds(timestamps)"
   ]
  },
  {
   "cell_type": "code",
   "execution_count": 12,
   "id": "13f1f2c1",
   "metadata": {},
   "outputs": [],
   "source": [
    "times = [f\"{minute:02d}:{second:02d}\" for minute,second in zip(minutes,seconds)]"
   ]
  },
  {
   "cell_type": "code",
   "execution_count": 13,
   "id": "54cae041",
   "metadata": {},
   "outputs": [
    {
     "data": {
      "text/plain": [
       "['00:03',\n",
       " '00:15',\n",
       " '00:27',\n",
       " '00:39',\n",
       " '00:51',\n",
       " '01:03',\n",
       " '01:15',\n",
       " '01:27',\n",
       " '01:39',\n",
       " '01:51',\n",
       " '02:03',\n",
       " '02:15',\n",
       " '02:27',\n",
       " '02:39',\n",
       " '02:51',\n",
       " '03:03',\n",
       " '03:15',\n",
       " '03:27',\n",
       " '03:39',\n",
       " '03:51',\n",
       " '04:03',\n",
       " '04:15',\n",
       " '04:27',\n",
       " '04:39',\n",
       " '04:51',\n",
       " '05:03',\n",
       " '05:15',\n",
       " '05:27',\n",
       " '05:39',\n",
       " '05:51',\n",
       " '06:03',\n",
       " '06:15',\n",
       " '06:27',\n",
       " '06:39',\n",
       " '06:51',\n",
       " '07:03',\n",
       " '07:15',\n",
       " '07:27',\n",
       " '07:39',\n",
       " '07:51',\n",
       " '08:03',\n",
       " '08:15',\n",
       " '08:27',\n",
       " '08:39',\n",
       " '08:51',\n",
       " '09:03',\n",
       " '09:15',\n",
       " '09:27',\n",
       " '09:39',\n",
       " '09:51',\n",
       " '10:03',\n",
       " '10:15',\n",
       " '10:27',\n",
       " '10:39',\n",
       " '10:51',\n",
       " '11:03',\n",
       " '11:15',\n",
       " '11:27',\n",
       " '11:39',\n",
       " '11:51',\n",
       " '12:03',\n",
       " '12:15',\n",
       " '12:27',\n",
       " '12:39',\n",
       " '12:51',\n",
       " '13:03',\n",
       " '13:15',\n",
       " '13:27',\n",
       " '13:39',\n",
       " '13:51',\n",
       " '14:03',\n",
       " '14:15',\n",
       " '14:27',\n",
       " '14:39',\n",
       " '14:51']"
      ]
     },
     "execution_count": 13,
     "metadata": {},
     "output_type": "execute_result"
    }
   ],
   "source": [
    "times"
   ]
  },
  {
   "cell_type": "code",
   "execution_count": 14,
   "id": "9a9bfd1e",
   "metadata": {},
   "outputs": [],
   "source": [
    "Df_experimenter = pd.DataFrame(columns=['file','timestamp'])\n",
    "Df_experimenter['file'] = allstims\n",
    "Df_experimenter['timestamp'] = times\n",
    "Df_experimenter.to_csv(path+'table_experimenter.csv',index=False)"
   ]
  },
  {
   "cell_type": "markdown",
   "id": "d1a9a6e9",
   "metadata": {},
   "source": [
    "Finally generate the sound file "
   ]
  },
  {
   "cell_type": "code",
   "execution_count": 34,
   "id": "6dbef58a",
   "metadata": {},
   "outputs": [],
   "source": [
    "fullwave = np.hstack(allsounds)\n",
    "sf.write(path+'allstimuli_peaknorm_0.mp3',fullwave,sr)"
   ]
  }
 ],
 "metadata": {
  "kernelspec": {
   "display_name": "Python 3 (ipykernel)",
   "language": "python",
   "name": "python3"
  },
  "language_info": {
   "codemirror_mode": {
    "name": "ipython",
    "version": 3
   },
   "file_extension": ".py",
   "mimetype": "text/x-python",
   "name": "python",
   "nbconvert_exporter": "python",
   "pygments_lexer": "ipython3",
   "version": "3.10.12"
  }
 },
 "nbformat": 4,
 "nbformat_minor": 5
}
