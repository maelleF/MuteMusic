{
 "cells": [
  {
   "cell_type": "code",
   "execution_count": 14,
   "id": "3f480384",
   "metadata": {},
   "outputs": [],
   "source": [
    "import os \n",
    "import yt_dlp\n",
    "from yt_dlp.utils import download_range_func\n",
    "import pandas as pd"
   ]
  },
  {
   "cell_type": "code",
   "execution_count": 15,
   "id": "e752f15b",
   "metadata": {},
   "outputs": [],
   "source": [
    "def ytdl(url,timestamp,duration,outpath='./'):\n",
    "    minutes, seconds = timestamp.strip().split(':')\n",
    "\n",
    "    # Convert minutes and seconds to integers\n",
    "    minutes = int(minutes)\n",
    "    seconds = int(seconds)\n",
    "    \n",
    "    # Convert minutes to seconds and add to the total seconds\n",
    "    start = minutes * 60 + seconds\n",
    "    \n",
    "    stop = start + duration\n",
    "\n",
    "    ydl_opts = {\n",
    "        'format': 'wav/bestaudio/best',\n",
    "        'paths' : {'home':outpath},\n",
    "        'download_ranges' : download_range_func(None,[(start,stop)]),\n",
    "        'force_keyframes_at_cuts': True, # for yt links,\n",
    "        # ℹ️ See help(yt_dlp.postprocessor) for a list of available Postprocessors and their arguments\n",
    "        'postprocessors': [{  # Extract audio using ffmpeg\n",
    "            'key': 'FFmpegExtractAudio',\n",
    "            'preferredcodec': 'wav',\n",
    "        }]\n",
    "    }\n",
    "\n",
    "    with yt_dlp.YoutubeDL(ydl_opts) as ydl:\n",
    "        error_code = ydl.download([url])"
   ]
  },
  {
   "cell_type": "code",
   "execution_count": 17,
   "id": "071f8212",
   "metadata": {},
   "outputs": [
    {
     "data": {
      "text/html": [
       "<div>\n",
       "<style scoped>\n",
       "    .dataframe tbody tr th:only-of-type {\n",
       "        vertical-align: middle;\n",
       "    }\n",
       "\n",
       "    .dataframe tbody tr th {\n",
       "        vertical-align: top;\n",
       "    }\n",
       "\n",
       "    .dataframe thead th {\n",
       "        text-align: right;\n",
       "    }\n",
       "</style>\n",
       "<table border=\"1\" class=\"dataframe\">\n",
       "  <thead>\n",
       "    <tr style=\"text-align: right;\">\n",
       "      <th></th>\n",
       "      <th>playlist</th>\n",
       "      <th>title</th>\n",
       "      <th>artist</th>\n",
       "      <th>date</th>\n",
       "      <th>timestamp_8s</th>\n",
       "      <th>timestamp_long</th>\n",
       "      <th>duration</th>\n",
       "      <th>url</th>\n",
       "    </tr>\n",
       "  </thead>\n",
       "  <tbody>\n",
       "    <tr>\n",
       "      <th>0</th>\n",
       "      <td>Lyrics</td>\n",
       "      <td>Goodbye_Blue_Sky</td>\n",
       "      <td>Pink_Floyd</td>\n",
       "      <td>1979.0</td>\n",
       "      <td>NaN</td>\n",
       "      <td>1:50</td>\n",
       "      <td>48</td>\n",
       "      <td>https://www.youtube.com/watch?v=bn6YnUt4Vuk</td>\n",
       "    </tr>\n",
       "    <tr>\n",
       "      <th>1</th>\n",
       "      <td>Lyrics</td>\n",
       "      <td>Synchronicity</td>\n",
       "      <td>The_Police</td>\n",
       "      <td>1983.0</td>\n",
       "      <td>NaN</td>\n",
       "      <td>0:15</td>\n",
       "      <td>47</td>\n",
       "      <td>https://www.youtube.com/watch?v=Si5CSpUCDGY</td>\n",
       "    </tr>\n",
       "    <tr>\n",
       "      <th>2</th>\n",
       "      <td>Lyrics</td>\n",
       "      <td>Paper_Back_writer</td>\n",
       "      <td>The_Beatles</td>\n",
       "      <td>1966.0</td>\n",
       "      <td>NaN</td>\n",
       "      <td>0:09</td>\n",
       "      <td>46</td>\n",
       "      <td>https://www.youtube.com/watch?v=yYvkICbTZIQ</td>\n",
       "    </tr>\n",
       "    <tr>\n",
       "      <th>3</th>\n",
       "      <td>Orchestral</td>\n",
       "      <td>Make_Em_Laugh</td>\n",
       "      <td>Donald_O_Connor</td>\n",
       "      <td>1952.0</td>\n",
       "      <td>NaN</td>\n",
       "      <td>1:36</td>\n",
       "      <td>60</td>\n",
       "      <td>https://www.youtube.com/watch?v=ieU4Am0t0tc</td>\n",
       "    </tr>\n",
       "    <tr>\n",
       "      <th>4</th>\n",
       "      <td>Orchestral</td>\n",
       "      <td>My_Name_is_Nobody_Good_Luck_Jack</td>\n",
       "      <td>Ennio Morricone</td>\n",
       "      <td>NaN</td>\n",
       "      <td>NaN</td>\n",
       "      <td>3:17</td>\n",
       "      <td>53</td>\n",
       "      <td>https://www.youtube.com/watch?v=duF1OQho1gc</td>\n",
       "    </tr>\n",
       "    <tr>\n",
       "      <th>5</th>\n",
       "      <td>Synthetic</td>\n",
       "      <td>Super_Mario_Bros_(NES)_Music_Castle_Theme</td>\n",
       "      <td>NaN</td>\n",
       "      <td>NaN</td>\n",
       "      <td>NaN</td>\n",
       "      <td>0:00</td>\n",
       "      <td>47</td>\n",
       "      <td>https://www.youtube.com/watch?v=In8WfBgBEis</td>\n",
       "    </tr>\n",
       "    <tr>\n",
       "      <th>6</th>\n",
       "      <td>Synthetic</td>\n",
       "      <td>Super_Mario_Bros_3_Athletic_Theme</td>\n",
       "      <td>NaN</td>\n",
       "      <td>NaN</td>\n",
       "      <td>NaN</td>\n",
       "      <td>0:00</td>\n",
       "      <td>50</td>\n",
       "      <td>https://www.youtube.com/watch?v=l6CxZInFlZM</td>\n",
       "    </tr>\n",
       "    <tr>\n",
       "      <th>7</th>\n",
       "      <td>Synthetic</td>\n",
       "      <td>Super_Mario_Bros_3_Castle_Theme</td>\n",
       "      <td>NaN</td>\n",
       "      <td>NaN</td>\n",
       "      <td>NaN</td>\n",
       "      <td>0:00</td>\n",
       "      <td>53</td>\n",
       "      <td>https://www.youtube.com/watch?v=ixA3SzX6uUc</td>\n",
       "    </tr>\n",
       "    <tr>\n",
       "      <th>8</th>\n",
       "      <td>Synthetic</td>\n",
       "      <td>Super_Mario_Bros_3_Airship</td>\n",
       "      <td>NaN</td>\n",
       "      <td>NaN</td>\n",
       "      <td>NaN</td>\n",
       "      <td>0:00</td>\n",
       "      <td>60</td>\n",
       "      <td>https://www.youtube.com/watch?v=7TO0N4KxzPE</td>\n",
       "    </tr>\n",
       "    <tr>\n",
       "      <th>9</th>\n",
       "      <td>Synthetic</td>\n",
       "      <td>Super_Mario_Bros_3_Boss_Battle</td>\n",
       "      <td>NaN</td>\n",
       "      <td>NaN</td>\n",
       "      <td>NaN</td>\n",
       "      <td>0:00</td>\n",
       "      <td>57</td>\n",
       "      <td>https://www.youtube.com/watch?v=8Tj3-bmDnS8</td>\n",
       "    </tr>\n",
       "  </tbody>\n",
       "</table>\n",
       "</div>"
      ],
      "text/plain": [
       "     playlist                                      title           artist  \\\n",
       "0      Lyrics                           Goodbye_Blue_Sky       Pink_Floyd   \n",
       "1      Lyrics                              Synchronicity       The_Police   \n",
       "2      Lyrics                          Paper_Back_writer      The_Beatles   \n",
       "3  Orchestral                              Make_Em_Laugh  Donald_O_Connor   \n",
       "4  Orchestral           My_Name_is_Nobody_Good_Luck_Jack  Ennio Morricone   \n",
       "5   Synthetic  Super_Mario_Bros_(NES)_Music_Castle_Theme              NaN   \n",
       "6   Synthetic          Super_Mario_Bros_3_Athletic_Theme              NaN   \n",
       "7   Synthetic            Super_Mario_Bros_3_Castle_Theme              NaN   \n",
       "8   Synthetic                 Super_Mario_Bros_3_Airship              NaN   \n",
       "9   Synthetic             Super_Mario_Bros_3_Boss_Battle              NaN   \n",
       "\n",
       "     date  timestamp_8s timestamp_long  duration  \\\n",
       "0  1979.0           NaN           1:50        48   \n",
       "1  1983.0           NaN           0:15        47   \n",
       "2  1966.0           NaN           0:09        46   \n",
       "3  1952.0           NaN           1:36        60   \n",
       "4     NaN           NaN           3:17        53   \n",
       "5     NaN           NaN           0:00        47   \n",
       "6     NaN           NaN           0:00        50   \n",
       "7     NaN           NaN           0:00        53   \n",
       "8     NaN           NaN           0:00        60   \n",
       "9     NaN           NaN           0:00        57   \n",
       "\n",
       "                                           url  \n",
       "0  https://www.youtube.com/watch?v=bn6YnUt4Vuk  \n",
       "1  https://www.youtube.com/watch?v=Si5CSpUCDGY  \n",
       "2  https://www.youtube.com/watch?v=yYvkICbTZIQ  \n",
       "3  https://www.youtube.com/watch?v=ieU4Am0t0tc  \n",
       "4  https://www.youtube.com/watch?v=duF1OQho1gc  \n",
       "5  https://www.youtube.com/watch?v=In8WfBgBEis  \n",
       "6  https://www.youtube.com/watch?v=l6CxZInFlZM  \n",
       "7  https://www.youtube.com/watch?v=ixA3SzX6uUc  \n",
       "8  https://www.youtube.com/watch?v=7TO0N4KxzPE  \n",
       "9  https://www.youtube.com/watch?v=8Tj3-bmDnS8  "
      ]
     },
     "execution_count": 17,
     "metadata": {},
     "output_type": "execute_result"
    }
   ],
   "source": [
    "# open csv file \n",
    "songsDf = pd.read_csv('/home/maellef/git/MuteMusic/data/segments_manquants.csv',sep=';')\n",
    "pd.set_option('display.max_rows', None)\n",
    "songsDf\n"
   ]
  },
  {
   "cell_type": "code",
   "execution_count": 18,
   "id": "a3568d22",
   "metadata": {},
   "outputs": [
    {
     "name": "stdout",
     "output_type": "stream",
     "text": [
      "Downloading long track : Goodbye_Blue_Sky https://www.youtube.com/watch?v=bn6YnUt4Vuk\n",
      "[youtube] Extracting URL: https://www.youtube.com/watch?v=bn6YnUt4Vuk\n",
      "[youtube] bn6YnUt4Vuk: Downloading webpage\n",
      "[youtube] bn6YnUt4Vuk: Downloading ios player API JSON\n",
      "[youtube] bn6YnUt4Vuk: Downloading android player API JSON\n",
      "[youtube] bn6YnUt4Vuk: Downloading m3u8 information\n",
      "[info] bn6YnUt4Vuk: Downloading 1 format(s): 251\n",
      "[info] bn6YnUt4Vuk: Downloading 1 time ranges: 110.0-158.0\n",
      "[download] Destination: /home/maellef/git/MuteMusic/data/StimuliFinal/long/Lyrics/Goodbye Blue Sky [bn6YnUt4Vuk].webm\n"
     ]
    },
    {
     "name": "stderr",
     "output_type": "stream",
     "text": [
      "Input #0, matroska,webm, from 'https://rr4---sn-cxaaj5o5q5-t0ad.googlevideo.com/videoplayback?expire=1700043386&ei=GkZUZbHTBfvsir4PmoyY2Aw&ip=206.176.141.6&id=o-AO0LVtcfAABz-HJhOrAw0aKxMiu9g7WB2nzdhP9N8l0d&itag=251&source=youtube&requiressl=yes&mh=Lf&mm=31%2C26&mn=sn-cxaaj5o5q5-t0ad%2Csn-ab5l6nrz&ms=au%2Conr&mv=m&mvi=4&pl=21&gcr=ca&initcwndbps=432500&spc=UWF9fzqm8gPSTz4osK30jKHUetP5h-s&vprv=1&svpuc=1&mime=audio%2Fwebm&gir=yes&clen=2877394&dur=167.361&lmt=1592564918307570&mt=1700020877&fvip=2&keepalive=yes&fexp=24007246&beids=24350018&c=ANDROID&txp=5511222&sparams=expire%2Cei%2Cip%2Cid%2Citag%2Csource%2Crequiressl%2Cgcr%2Cspc%2Cvprv%2Csvpuc%2Cmime%2Cgir%2Cclen%2Cdur%2Clmt&sig=ANLwegAwRAIgXDW2pDQKpRPBzJ51NH6WEdiBlU1dJPAX10jKBRnDtLsCIGtgpPPu1UHzacPfaRDlBNryuzMVGl8xoUll_vr007Bb&lsparams=mh%2Cmm%2Cmn%2Cms%2Cmv%2Cmvi%2Cpl%2Cinitcwndbps&lsig=AM8Gb2swRQIhAPVKVjtKM_7wR6dllnfMSkScJcUwbRp23gcsonf9n--0AiAYLyLvWF2C25DYmGUWIMZZjKLdy_bk8qHw24zc664hVw%3D%3D':\n",
      "  Metadata:\n",
      "    encoder         : google/video-file\n",
      "  Duration: 00:02:47.36, start: -0.007000, bitrate: 137 kb/s\n",
      "  Stream #0:0(eng): Audio: opus, 48000 Hz, stereo, fltp (default)\n",
      "Stream mapping:\n",
      "  Stream #0:0 -> #0:0 (opus (native) -> opus (libopus))\n",
      "Press [q] to stop, [?] for help\n",
      "[libopus @ 0x564f2fda7f00] No bit rate set. Defaulting to 96000 bps.\n",
      "Output #0, webm, to 'file:/home/maellef/git/MuteMusic/data/StimuliFinal/long/Lyrics/Goodbye Blue Sky [bn6YnUt4Vuk].webm.part':\n",
      "  Metadata:\n",
      "    encoder         : Lavf58.76.100\n",
      "  Stream #0:0(eng): Audio: opus, 48000 Hz, stereo, flt, 96 kb/s (default)\n",
      "    Metadata:\n",
      "      encoder         : Lavc58.134.100 libopus\n",
      "size=     256kB time=00:00:32.91 bitrate=  63.7kbits/s speed=21.5x    \r"
     ]
    },
    {
     "name": "stdout",
     "output_type": "stream",
     "text": [
      "[download] 100% of  619.83KiB in 00:00:02 at 237.46KiB/s\n",
      "[ExtractAudio] Destination: /home/maellef/git/MuteMusic/data/StimuliFinal/long/Lyrics/Goodbye Blue Sky [bn6YnUt4Vuk].wav\n"
     ]
    },
    {
     "name": "stderr",
     "output_type": "stream",
     "text": [
      "size=     620kB time=00:00:47.99 bitrate= 105.8kbits/s speed=23.3x    \n",
      "video:0kB audio:603kB subtitle:0kB other streams:0kB global headers:0kB muxing overhead: 2.861000%\n"
     ]
    },
    {
     "name": "stdout",
     "output_type": "stream",
     "text": [
      "Deleting original file /home/maellef/git/MuteMusic/data/StimuliFinal/long/Lyrics/Goodbye Blue Sky [bn6YnUt4Vuk].webm (pass -k to keep)\n",
      "Downloading long track : Synchronicity https://www.youtube.com/watch?v=Si5CSpUCDGY\n",
      "[youtube] Extracting URL: https://www.youtube.com/watch?v=Si5CSpUCDGY\n",
      "[youtube] Si5CSpUCDGY: Downloading webpage\n",
      "[youtube] Si5CSpUCDGY: Downloading ios player API JSON\n",
      "[youtube] Si5CSpUCDGY: Downloading android player API JSON\n",
      "[youtube] Si5CSpUCDGY: Downloading m3u8 information\n",
      "[info] Si5CSpUCDGY: Downloading 1 format(s): 251\n",
      "[info] Si5CSpUCDGY: Downloading 1 time ranges: 15.0-62.0\n",
      "[download] Destination: /home/maellef/git/MuteMusic/data/StimuliFinal/long/Lyrics/Synchronicity I [Si5CSpUCDGY].webm\n"
     ]
    },
    {
     "name": "stderr",
     "output_type": "stream",
     "text": [
      "Input #0, matroska,webm, from 'https://rr2---sn-cxaaj5o5q5-t0ak.googlevideo.com/videoplayback?expire=1700043391&ei=H0ZUZdHZGcy0lu8P0-Sz0AQ&ip=206.176.141.6&id=o-AM78XPK_WfVZFZVZ0DLGnVW74dI5WJwSeEm9yyADnIS9&itag=251&source=youtube&requiressl=yes&mh=SX&mm=31%2C26&mn=sn-cxaaj5o5q5-t0ak%2Csn-ab5l6ndy&ms=au%2Conr&mv=m&mvi=2&pl=21&gcr=ca&initcwndbps=428750&spc=UWF9f6LKaecSS-YijP4jOCQr-g_d8R4&vprv=1&svpuc=1&mime=audio%2Fwebm&gir=yes&clen=3235238&dur=203.021&lmt=1577378647310094&mt=1700020877&fvip=3&keepalive=yes&fexp=24007246&beids=24350018&c=ANDROID&txp=2301222&sparams=expire%2Cei%2Cip%2Cid%2Citag%2Csource%2Crequiressl%2Cgcr%2Cspc%2Cvprv%2Csvpuc%2Cmime%2Cgir%2Cclen%2Cdur%2Clmt&sig=ANLwegAwRQIhAKwTe-4F1Wwg3WyR-q9IxRTi1AoYyq3Niiaehlc6EQckAiBpCh59UJ-VBayIZMiVvGMRnYVbNY_yTeete9IBnnoKyg%3D%3D&lsparams=mh%2Cmm%2Cmn%2Cms%2Cmv%2Cmvi%2Cpl%2Cinitcwndbps&lsig=AM8Gb2swRgIhANVRn3Xc43RoOQpBWq_l5eOCLXgvLuxoFGUuxQnXLJsjAiEAqB-UHzFKEsMpcFxZOGWIcNpt4tHlaiHco8uWZEiJju8%3D':\n",
      "  Metadata:\n",
      "    encoder         : google/video-file\n",
      "  Duration: 00:03:23.02, start: -0.007000, bitrate: 127 kb/s\n",
      "  Stream #0:0(eng): Audio: opus, 48000 Hz, stereo, fltp (default)\n",
      "Stream mapping:\n",
      "  Stream #0:0 -> #0:0 (opus (native) -> opus (libopus))\n",
      "Press [q] to stop, [?] for help\n",
      "[libopus @ 0x55ac5dbb7300] No bit rate set. Defaulting to 96000 bps.\n",
      "Output #0, webm, to 'file:/home/maellef/git/MuteMusic/data/StimuliFinal/long/Lyrics/Synchronicity I [Si5CSpUCDGY].webm.part':\n",
      "  Metadata:\n",
      "    encoder         : Lavf58.76.100\n",
      "  Stream #0:0(eng): Audio: opus, 48000 Hz, stereo, flt, 96 kb/s (default)\n",
      "    Metadata:\n",
      "      encoder         : Lavc58.134.100 libopus\n",
      "size=     256kB time=00:00:27.17 bitrate=  77.2kbits/s speed=26.9x    \r"
     ]
    },
    {
     "name": "stdout",
     "output_type": "stream",
     "text": [
      "[download] 100% of  527.85KiB in 00:00:02 at 231.85KiB/s\n"
     ]
    },
    {
     "name": "stderr",
     "output_type": "stream",
     "text": [
      "size=     528kB time=00:00:46.99 bitrate=  92.0kbits/s speed=28.9x    \n",
      "video:0kB audio:511kB subtitle:0kB other streams:0kB global headers:0kB muxing overhead: 3.307028%\n"
     ]
    },
    {
     "name": "stdout",
     "output_type": "stream",
     "text": [
      "[ExtractAudio] Destination: /home/maellef/git/MuteMusic/data/StimuliFinal/long/Lyrics/Synchronicity I [Si5CSpUCDGY].wav\n",
      "Deleting original file /home/maellef/git/MuteMusic/data/StimuliFinal/long/Lyrics/Synchronicity I [Si5CSpUCDGY].webm (pass -k to keep)\n",
      "Downloading long track : Paper_Back_writer https://www.youtube.com/watch?v=yYvkICbTZIQ\n",
      "[youtube] Extracting URL: https://www.youtube.com/watch?v=yYvkICbTZIQ\n",
      "[youtube] yYvkICbTZIQ: Downloading webpage\n",
      "[youtube] yYvkICbTZIQ: Downloading ios player API JSON\n",
      "[youtube] yYvkICbTZIQ: Downloading android player API JSON\n",
      "[youtube] yYvkICbTZIQ: Downloading m3u8 information\n",
      "[info] yYvkICbTZIQ: Downloading 1 format(s): 251\n",
      "[info] yYvkICbTZIQ: Downloading 1 time ranges: 9.0-55.0\n",
      "[download] Destination: /home/maellef/git/MuteMusic/data/StimuliFinal/long/Lyrics/The Beatles - Paperback Writer [yYvkICbTZIQ].webm\n"
     ]
    },
    {
     "name": "stderr",
     "output_type": "stream",
     "text": [
      "Input #0, matroska,webm, from 'https://rr2---sn-cxaaj5o5q5-t0ar.googlevideo.com/videoplayback?expire=1700043396&ei=JEZUZZDaDZGY2_gP3Le7yAo&ip=206.176.141.6&id=o-AFvYu5EtsYM72D3jqSsR7FB2vjcQN6hav_RZhxQSvfLF&itag=251&source=youtube&requiressl=yes&mh=Wl&mm=31%2C26&mn=sn-cxaaj5o5q5-t0ar%2Csn-ab5l6nrk&ms=au%2Conr&mv=m&mvi=2&pl=21&gcr=ca&initcwndbps=470000&spc=UWF9f9Y65gToz2jp4tPZGMJwsSlnEuo&vprv=1&svpuc=1&mime=audio%2Fwebm&gir=yes&clen=2230721&dur=149.961&lmt=1699594170576272&mt=1700021599&fvip=4&keepalive=yes&fexp=24007246&beids=24350018&c=ANDROID&txp=4532434&sparams=expire%2Cei%2Cip%2Cid%2Citag%2Csource%2Crequiressl%2Cgcr%2Cspc%2Cvprv%2Csvpuc%2Cmime%2Cgir%2Cclen%2Cdur%2Clmt&sig=ANLwegAwRAIhAPaLenSz5qenVZUqq5Yvq9Ce5VOp2xe-C8IEZzMK7UvaAh8eBctrE2oTsPrE5HbF6BXHepnZbQeQHa2_X2POenz8&lsparams=mh%2Cmm%2Cmn%2Cms%2Cmv%2Cmvi%2Cpl%2Cinitcwndbps&lsig=AM8Gb2swRgIhANMawSK1QxS4LOmzFfw1OnUDXw7puFLifLCYt3mDan4OAiEA1KKzE_C9Re2Xd-NWauWV_a4JBsMrbTro01fUBdGbEXo%3D':\n",
      "  Metadata:\n",
      "    encoder         : google/video-file\n",
      "  Duration: 00:02:29.96, start: -0.007000, bitrate: 119 kb/s\n",
      "  Stream #0:0(eng): Audio: opus, 48000 Hz, stereo, fltp (default)\n",
      "Stream mapping:\n",
      "  Stream #0:0 -> #0:0 (opus (native) -> opus (libopus))\n",
      "Press [q] to stop, [?] for help\n",
      "[libopus @ 0x55769292d980] No bit rate set. Defaulting to 96000 bps.\n",
      "Output #0, webm, to 'file:/home/maellef/git/MuteMusic/data/StimuliFinal/long/Lyrics/The Beatles - Paperback Writer [yYvkICbTZIQ].webm.part':\n",
      "  Metadata:\n",
      "    encoder         : Lavf58.76.100\n",
      "  Stream #0:0(eng): Audio: opus, 48000 Hz, stereo, flt, 96 kb/s (default)\n",
      "    Metadata:\n",
      "      encoder         : Lavc58.134.100 libopus\n",
      "size=     256kB time=00:00:38.59 bitrate=  54.3kbits/s speed=25.6x    \r"
     ]
    },
    {
     "name": "stdout",
     "output_type": "stream",
     "text": [
      "[download] 100% of  540.94KiB in 00:00:02 at 215.83KiB/s\n",
      "[ExtractAudio] Destination: /home/maellef/git/MuteMusic/data/StimuliFinal/long/Lyrics/The Beatles - Paperback Writer [yYvkICbTZIQ].wav\n"
     ]
    },
    {
     "name": "stderr",
     "output_type": "stream",
     "text": [
      "size=     541kB time=00:00:45.99 bitrate=  96.3kbits/s speed=  26x    \n",
      "video:0kB audio:524kB subtitle:0kB other streams:0kB global headers:0kB muxing overhead: 3.156991%\n"
     ]
    },
    {
     "name": "stdout",
     "output_type": "stream",
     "text": [
      "Deleting original file /home/maellef/git/MuteMusic/data/StimuliFinal/long/Lyrics/The Beatles - Paperback Writer [yYvkICbTZIQ].webm (pass -k to keep)\n",
      "Downloading long track : Make_Em_Laugh https://www.youtube.com/watch?v=ieU4Am0t0tc\n",
      "[youtube] Extracting URL: https://www.youtube.com/watch?v=ieU4Am0t0tc\n",
      "[youtube] ieU4Am0t0tc: Downloading webpage\n",
      "[youtube] ieU4Am0t0tc: Downloading ios player API JSON\n",
      "[youtube] ieU4Am0t0tc: Downloading android player API JSON\n",
      "[youtube] ieU4Am0t0tc: Downloading m3u8 information\n",
      "[info] ieU4Am0t0tc: Downloading 1 format(s): 251\n",
      "[info] ieU4Am0t0tc: Downloading 1 time ranges: 96.0-156.0\n",
      "[download] Destination: /home/maellef/git/MuteMusic/data/StimuliFinal/long/Orchestral/Make 'Em Laugh [ieU4Am0t0tc].webm\n"
     ]
    },
    {
     "name": "stderr",
     "output_type": "stream",
     "text": [
      "Input #0, matroska,webm, from 'https://rr5---sn-cxaaj5o5q5-t0ak.googlevideo.com/videoplayback?expire=1700043401&ei=KUZUZYjqIZrXir4PqbWpmAg&ip=206.176.141.6&id=o-ACaMPgpZo5MXhbUwQsO7nJ8vumu623EhanxNAgbJ63qT&itag=251&source=youtube&requiressl=yes&mh=3L&mm=31%2C26&mn=sn-cxaaj5o5q5-t0ak%2Csn-ab5l6nrd&ms=au%2Conr&mv=m&mvi=5&pl=21&gcr=ca&initcwndbps=428750&spc=UWF9fynZ4szjW0EF9a9wuLbDQUVRQHs&vprv=1&svpuc=1&mime=audio%2Fwebm&gir=yes&clen=2614260&dur=198.081&lmt=1573985142143202&mt=1700020877&fvip=1&keepalive=yes&fexp=24007246&beids=24350018&c=ANDROID&txp=2301222&sparams=expire%2Cei%2Cip%2Cid%2Citag%2Csource%2Crequiressl%2Cgcr%2Cspc%2Cvprv%2Csvpuc%2Cmime%2Cgir%2Cclen%2Cdur%2Clmt&sig=ANLwegAwRQIgWtS9ayERI3aSEgoKTF2s6iK71GSBE7vc19h5DuZSoDACIQDb32EG2sYQgZ_oWQNVwcJ-VLbOS3hG4LUFBDSzO8hPdQ%3D%3D&lsparams=mh%2Cmm%2Cmn%2Cms%2Cmv%2Cmvi%2Cpl%2Cinitcwndbps&lsig=AM8Gb2swRQIgJkvJauPt0yzqeb5_CTfxJULaDT4745DsewQJHSxVazECIQC5plVbKkQQLhgG74OIieMhRTEKVKyDeAAXj38tc7y-6w%3D%3D':\n",
      "  Metadata:\n",
      "    encoder         : google/video-file\n",
      "  Duration: 00:03:18.08, start: -0.007000, bitrate: 105 kb/s\n",
      "  Stream #0:0(eng): Audio: opus, 48000 Hz, stereo, fltp (default)\n",
      "Stream mapping:\n",
      "  Stream #0:0 -> #0:0 (opus (native) -> opus (libopus))\n",
      "Press [q] to stop, [?] for help\n",
      "[libopus @ 0x55e73254b800] No bit rate set. Defaulting to 96000 bps.\n",
      "Output #0, webm, to 'file:/home/maellef/git/MuteMusic/data/StimuliFinal/long/Orchestral/Make 'Em Laugh [ieU4Am0t0tc].webm.part':\n",
      "  Metadata:\n",
      "    encoder         : Lavf58.76.100\n",
      "  Stream #0:0(eng): Audio: opus, 48000 Hz, stereo, flt, 96 kb/s (default)\n",
      "    Metadata:\n",
      "      encoder         : Lavc58.134.100 libopus\n",
      "size=     256kB time=00:00:50.61 bitrate=  41.4kbits/s speed=32.7x    \r"
     ]
    },
    {
     "name": "stdout",
     "output_type": "stream",
     "text": [
      "[download] 100% of  573.13KiB in 00:00:02 at 211.88KiB/s\n",
      "[ExtractAudio] Destination: /home/maellef/git/MuteMusic/data/StimuliFinal/long/Orchestral/Make 'Em Laugh [ieU4Am0t0tc].wav\n"
     ]
    },
    {
     "name": "stderr",
     "output_type": "stream",
     "text": [
      "size=     573kB time=00:00:59.99 bitrate=  78.3kbits/s speed=34.1x    \n",
      "video:0kB audio:552kB subtitle:0kB other streams:0kB global headers:0kB muxing overhead: 3.883925%\n"
     ]
    },
    {
     "name": "stdout",
     "output_type": "stream",
     "text": [
      "Deleting original file /home/maellef/git/MuteMusic/data/StimuliFinal/long/Orchestral/Make 'Em Laugh [ieU4Am0t0tc].webm (pass -k to keep)\n",
      "Downloading long track : My_Name_is_Nobody_Good_Luck_Jack https://www.youtube.com/watch?v=duF1OQho1gc\n",
      "[youtube] Extracting URL: https://www.youtube.com/watch?v=duF1OQho1gc\n",
      "[youtube] duF1OQho1gc: Downloading webpage\n",
      "[youtube] duF1OQho1gc: Downloading ios player API JSON\n",
      "[youtube] duF1OQho1gc: Downloading android player API JSON\n",
      "[youtube] duF1OQho1gc: Downloading m3u8 information\n",
      "[info] duF1OQho1gc: Downloading 1 format(s): 251\n",
      "[info] duF1OQho1gc: Downloading 1 time ranges: 197.0-250.0\n",
      "[download] Destination: /home/maellef/git/MuteMusic/data/StimuliFinal/long/Orchestral/Ennio Morricone - My Name is Nobody - Il Mio Nome è Nessuno (Album) High Quality Audio [duF1OQho1gc].webm\n"
     ]
    },
    {
     "name": "stderr",
     "output_type": "stream",
     "text": [
      "Input #0, matroska,webm, from 'https://rr5---sn-cxaaj5o5q5-t0ad.googlevideo.com/videoplayback?expire=1700043407&ei=L0ZUZa2-DKuhir4PkbWpsA8&ip=206.176.141.6&id=o-AKLFlu7kg1B-RMHQHWBKJiuCcqapUlWrjVohUcQNhUgS&itag=251&source=youtube&requiressl=yes&mh=NT&mm=31%2C26&mn=sn-cxaaj5o5q5-t0ad%2Csn-ab5l6nrs&ms=au%2Conr&mv=m&mvi=5&pl=21&initcwndbps=432500&spc=UWF9fwf7lLQr6Y2XdEr15E1Izd-mf9w&vprv=1&svpuc=1&mime=audio%2Fwebm&gir=yes&clen=34836398&dur=1957.981&lmt=1540582298465352&mt=1700020877&fvip=3&keepalive=yes&fexp=24007246&beids=24350018&c=ANDROID&txp=5411222&sparams=expire%2Cei%2Cip%2Cid%2Citag%2Csource%2Crequiressl%2Cspc%2Cvprv%2Csvpuc%2Cmime%2Cgir%2Cclen%2Cdur%2Clmt&sig=ANLwegAwRQIgHFB30gZ3dziv0QIRE-UUmXtgv--udOgZ9SYXnBDVSsECIQDxo4xbRmesIOqHcLTkGDUP89NwdraYZ74WXKaLaU3NvQ%3D%3D&lsparams=mh%2Cmm%2Cmn%2Cms%2Cmv%2Cmvi%2Cpl%2Cinitcwndbps&lsig=AM8Gb2swRQIgcLTY8LlR1MNAgaJzyuDG6OXiWvxZjnU5XxcJMys4U4gCIQCydFdfldfE6c6fs4enYgsOTQimJeHvNoTy8h2lYO0l9w%3D%3D':\n",
      "  Metadata:\n",
      "    encoder         : google/video-file\n",
      "  Duration: 00:32:37.98, start: -0.007000, bitrate: 142 kb/s\n",
      "  Stream #0:0(eng): Audio: opus, 48000 Hz, stereo, fltp (default)\n",
      "Stream mapping:\n",
      "  Stream #0:0 -> #0:0 (opus (native) -> opus (libopus))\n",
      "Press [q] to stop, [?] for help\n",
      "[libopus @ 0x562d237b4f00] No bit rate set. Defaulting to 96000 bps.\n",
      "Output #0, webm, to 'file:/home/maellef/git/MuteMusic/data/StimuliFinal/long/Orchestral/Ennio Morricone - My Name is Nobody - Il Mio Nome è Nessuno (Album) High Quality Audio [duF1OQho1gc].webm.part':\n",
      "  Metadata:\n",
      "    encoder         : Lavf58.76.100\n",
      "  Stream #0:0(eng): Audio: opus, 48000 Hz, stereo, flt, 96 kb/s (default)\n",
      "    Metadata:\n",
      "      encoder         : Lavc58.134.100 libopus\n",
      "size=     768kB time=00:00:52.07 bitrate= 120.8kbits/s speed=1.53x     \r"
     ]
    },
    {
     "name": "stdout",
     "output_type": "stream",
     "text": [
      "[download] 100% of  837.24KiB in 00:00:35 at 23.55KiB/s\n",
      "[ExtractAudio] Destination: /home/maellef/git/MuteMusic/data/StimuliFinal/long/Orchestral/Ennio Morricone - My Name is Nobody - Il Mio Nome è Nessuno (Album) High Quality Audio [duF1OQho1gc].wav\n"
     ]
    },
    {
     "name": "stderr",
     "output_type": "stream",
     "text": [
      "size=     837kB time=00:00:52.99 bitrate= 129.4kbits/s speed=1.54x    \n",
      "video:0kB audio:818kB subtitle:0kB other streams:0kB global headers:0kB muxing overhead: 2.319364%\n"
     ]
    },
    {
     "name": "stdout",
     "output_type": "stream",
     "text": [
      "Deleting original file /home/maellef/git/MuteMusic/data/StimuliFinal/long/Orchestral/Ennio Morricone - My Name is Nobody - Il Mio Nome è Nessuno (Album) High Quality Audio [duF1OQho1gc].webm (pass -k to keep)\n",
      "Downloading long track : Super_Mario_Bros_(NES)_Music_Castle_Theme https://www.youtube.com/watch?v=In8WfBgBEis\n",
      "[youtube] Extracting URL: https://www.youtube.com/watch?v=In8WfBgBEis\n",
      "[youtube] In8WfBgBEis: Downloading webpage\n",
      "[youtube] In8WfBgBEis: Downloading ios player API JSON\n",
      "[youtube] In8WfBgBEis: Downloading android player API JSON\n",
      "[youtube] In8WfBgBEis: Downloading m3u8 information\n",
      "[info] In8WfBgBEis: Downloading 1 format(s): 251\n",
      "[info] In8WfBgBEis: Downloading 1 time ranges: 0.0-47.0\n",
      "[download] Destination: /home/maellef/git/MuteMusic/data/StimuliFinal/long/Synthetic/Super Mario Bros (NES) Music - Castle Theme [In8WfBgBEis].webm\n"
     ]
    },
    {
     "name": "stderr",
     "output_type": "stream",
     "text": [
      "Input #0, matroska,webm, from 'https://rr1---sn-cxaaj5o5q5-t0ar.googlevideo.com/videoplayback?expire=1700043445&ei=VUZUZZ_yFqaKir4P6PubkAg&ip=206.176.141.6&id=o-AIVAdbWyOuAT4gztb0CUY59EO3YJsCtvNXwOs9SqOztI&itag=251&source=youtube&requiressl=yes&mh=SL&mm=31%2C26&mn=sn-cxaaj5o5q5-t0ar%2Csn-ab5l6nkd&ms=au%2Conr&mv=m&mvi=1&pl=21&initcwndbps=438750&spc=UWF9f6oftlcOQHQrFB6voU8o-rLhD9w&vprv=1&svpuc=1&mime=audio%2Fwebm&gir=yes&clen=3471489&dur=180.021&lmt=1496548733834643&mt=1700020877&fvip=3&keepalive=yes&fexp=24007246&beids=24350018&c=ANDROID&sparams=expire%2Cei%2Cip%2Cid%2Citag%2Csource%2Crequiressl%2Cspc%2Cvprv%2Csvpuc%2Cmime%2Cgir%2Cclen%2Cdur%2Clmt&sig=ANLwegAwRgIhAMRaFRKkiI8iI1bi3q7aHXA37JeoWF4FY5Ek5Xmkb_f6AiEApwTDocbJnDrni4gOhOdW7zxbzc-TXzduG3bwJ3daU_I%3D&lsparams=mh%2Cmm%2Cmn%2Cms%2Cmv%2Cmvi%2Cpl%2Cinitcwndbps&lsig=AM8Gb2swRAIgKBFV_GqbT9tx2PzpE170MuC968FbBlEmMgHdPINDSUkCIBYnQE-ybUx8hPMovdn7_Jm8wG-hY8pHr9q816oji2G4':\n",
      "  Metadata:\n",
      "    encoder         : google\n",
      "  Duration: 00:03:00.02, start: -0.007000, bitrate: 154 kb/s\n",
      "  Stream #0:0(eng): Audio: opus, 48000 Hz, stereo, fltp (default)\n",
      "Stream mapping:\n",
      "  Stream #0:0 -> #0:0 (opus (native) -> opus (libopus))\n",
      "Press [q] to stop, [?] for help\n",
      "[libopus @ 0x55fa705c4a80] No bit rate set. Defaulting to 96000 bps.\n",
      "Output #0, webm, to 'file:/home/maellef/git/MuteMusic/data/StimuliFinal/long/Synthetic/Super Mario Bros (NES) Music - Castle Theme [In8WfBgBEis].webm.part':\n",
      "  Metadata:\n",
      "    encoder         : Lavf58.76.100\n",
      "  Stream #0:0(eng): Audio: opus, 48000 Hz, stereo, flt, 96 kb/s (default)\n",
      "    Metadata:\n",
      "      encoder         : Lavc58.134.100 libopus\n",
      "size=     256kB time=00:00:38.10 bitrate=  55.0kbits/s speed=25.2x    \r"
     ]
    },
    {
     "name": "stdout",
     "output_type": "stream",
     "text": [
      "[download] 100% of  670.83KiB in 00:00:02 at 256.34KiB/s\n",
      "[ExtractAudio] Destination: /home/maellef/git/MuteMusic/data/StimuliFinal/long/Synthetic/Super Mario Bros (NES) Music - Castle Theme [In8WfBgBEis].wav\n"
     ]
    },
    {
     "name": "stderr",
     "output_type": "stream",
     "text": [
      "size=     671kB time=00:00:47.00 bitrate= 116.9kbits/s speed=25.5x    \n",
      "video:0kB audio:654kB subtitle:0kB other streams:0kB global headers:0kB muxing overhead: 2.583830%\n"
     ]
    },
    {
     "name": "stdout",
     "output_type": "stream",
     "text": [
      "Deleting original file /home/maellef/git/MuteMusic/data/StimuliFinal/long/Synthetic/Super Mario Bros (NES) Music - Castle Theme [In8WfBgBEis].webm (pass -k to keep)\n",
      "Downloading long track : Super_Mario_Bros_3_Athletic_Theme https://www.youtube.com/watch?v=l6CxZInFlZM\n",
      "[youtube] Extracting URL: https://www.youtube.com/watch?v=l6CxZInFlZM\n",
      "[youtube] l6CxZInFlZM: Downloading webpage\n",
      "[youtube] l6CxZInFlZM: Downloading ios player API JSON\n",
      "[youtube] l6CxZInFlZM: Downloading android player API JSON\n",
      "[youtube] l6CxZInFlZM: Downloading m3u8 information\n",
      "[info] l6CxZInFlZM: Downloading 1 format(s): 251\n",
      "[info] l6CxZInFlZM: Downloading 1 time ranges: 0.0-50.0\n",
      "[download] Destination: /home/maellef/git/MuteMusic/data/StimuliFinal/long/Synthetic/Athletic BGM - Super Mario Bros. 3 [l6CxZInFlZM].webm\n"
     ]
    },
    {
     "name": "stderr",
     "output_type": "stream",
     "text": [
      "Input #0, matroska,webm, from 'https://rr1---sn-cxaaj5o5q5-t0ar.googlevideo.com/videoplayback?expire=1700043450&ei=WkZUZaeZEv6Fir4P__mnsA0&ip=206.176.141.6&id=o-AJKiRUh2UFEIBObUfspPvGHiFzXe2PGOC7uRMPwr4SHU&itag=251&source=youtube&requiressl=yes&mh=fl&mm=31%2C26&mn=sn-cxaaj5o5q5-t0ar%2Csn-ab5l6nrd&ms=au%2Conr&mv=m&mvi=1&pl=21&initcwndbps=438750&spc=UWF9f7QqBVC4akls3vrEfF80sWbQyI0&vprv=1&svpuc=1&mime=audio%2Fwebm&gir=yes&clen=1462461&dur=76.141&lmt=1564961402732190&mt=1700020877&fvip=1&keepalive=yes&fexp=24007246&beids=24350018&c=ANDROID&sparams=expire%2Cei%2Cip%2Cid%2Citag%2Csource%2Crequiressl%2Cspc%2Cvprv%2Csvpuc%2Cmime%2Cgir%2Cclen%2Cdur%2Clmt&sig=ANLwegAwRAIgW3RajHQ8eg0JKjYEjUO2ji_AJMb3o_tMSZHJZwkXTnkCIGgHYuM9VJOGh987z1ohFEtBktstH0qbstidcy6Wq8Lh&lsparams=mh%2Cmm%2Cmn%2Cms%2Cmv%2Cmvi%2Cpl%2Cinitcwndbps&lsig=AM8Gb2swRQIgMVAhQyvBNDaJIiRZ8XaMpNrkAQHlB6P9W-n5MgNDSekCIQCJBnJsF1xDOQnF25bBMZ2OQgGaJGbyUQnuJtPqxY_QrA%3D%3D':\n",
      "  Metadata:\n",
      "    encoder         : google/video-file\n",
      "  Duration: 00:01:16.14, start: -0.007000, bitrate: 153 kb/s\n",
      "  Stream #0:0(eng): Audio: opus, 48000 Hz, stereo, fltp (default)\n",
      "Stream mapping:\n",
      "  Stream #0:0 -> #0:0 (opus (native) -> opus (libopus))\n",
      "Press [q] to stop, [?] for help\n",
      "[libopus @ 0x56225c8499c0] No bit rate set. Defaulting to 96000 bps.\n",
      "Output #0, webm, to 'file:/home/maellef/git/MuteMusic/data/StimuliFinal/long/Synthetic/Athletic BGM - Super Mario Bros. 3 [l6CxZInFlZM].webm.part':\n",
      "  Metadata:\n",
      "    encoder         : Lavf58.76.100\n",
      "  Stream #0:0(eng): Audio: opus, 48000 Hz, stereo, flt, 96 kb/s (default)\n",
      "    Metadata:\n",
      "      encoder         : Lavc58.134.100 libopus\n",
      "size=     512kB time=00:00:41.16 bitrate= 101.9kbits/s speed=26.5x    \r"
     ]
    },
    {
     "name": "stdout",
     "output_type": "stream",
     "text": [
      "[download] 100% of  723.78KiB in 00:00:02 at 305.55KiB/s\n",
      "[ExtractAudio] Destination: /home/maellef/git/MuteMusic/data/StimuliFinal/long/Synthetic/Athletic BGM - Super Mario Bros. 3 [l6CxZInFlZM].wav\n"
     ]
    },
    {
     "name": "stderr",
     "output_type": "stream",
     "text": [
      "size=     724kB time=00:00:50.00 bitrate= 118.6kbits/s speed=26.3x    \n",
      "video:0kB audio:706kB subtitle:0kB other streams:0kB global headers:0kB muxing overhead: 2.536188%\n"
     ]
    },
    {
     "name": "stdout",
     "output_type": "stream",
     "text": [
      "Deleting original file /home/maellef/git/MuteMusic/data/StimuliFinal/long/Synthetic/Athletic BGM - Super Mario Bros. 3 [l6CxZInFlZM].webm (pass -k to keep)\n",
      "Downloading long track : Super_Mario_Bros_3_Castle_Theme https://www.youtube.com/watch?v=ixA3SzX6uUc\n",
      "[youtube] Extracting URL: https://www.youtube.com/watch?v=ixA3SzX6uUc\n",
      "[youtube] ixA3SzX6uUc: Downloading webpage\n",
      "[youtube] ixA3SzX6uUc: Downloading ios player API JSON\n",
      "[youtube] ixA3SzX6uUc: Downloading android player API JSON\n",
      "[youtube] ixA3SzX6uUc: Downloading m3u8 information\n",
      "[info] ixA3SzX6uUc: Downloading 1 format(s): 251\n",
      "[info] ixA3SzX6uUc: Downloading 1 time ranges: 0.0-53.0\n",
      "[download] Destination: /home/maellef/git/MuteMusic/data/StimuliFinal/long/Synthetic/Super Mario Bros 3 (NES) Music - Castle Theme [ixA3SzX6uUc].webm\n"
     ]
    },
    {
     "name": "stderr",
     "output_type": "stream",
     "text": [
      "Input #0, matroska,webm, from 'https://rr2---sn-cxaaj5o5q5-t0ar.googlevideo.com/videoplayback?expire=1700043455&ei=X0ZUZWSzuIq-D5HHsIAN&ip=206.176.141.6&id=o-AFKgAA64Ow0sNmg-BIImpC4ZYX_zrpnXObyFk7dbqEH3&itag=251&source=youtube&requiressl=yes&mh=DQ&mm=31%2C26&mn=sn-cxaaj5o5q5-t0ar%2Csn-ab5l6nk6&ms=au%2Conr&mv=m&mvi=2&pl=21&initcwndbps=438750&spc=UWF9f98pVI1wDM0CPfKECe3i6ErfX3o&vprv=1&svpuc=1&mime=audio%2Fwebm&gir=yes&clen=3132232&dur=180.141&lmt=1496889554705209&mt=1700020877&fvip=3&keepalive=yes&fexp=24007246&beids=24350018&c=ANDROID&sparams=expire%2Cei%2Cip%2Cid%2Citag%2Csource%2Crequiressl%2Cspc%2Cvprv%2Csvpuc%2Cmime%2Cgir%2Cclen%2Cdur%2Clmt&sig=ANLwegAwRgIhAPTpDyzSvu2_lKMADr1pQVXbqJViM6IRKLClN6FcACdkAiEAvaRIQrjJpWLoTy7YGK6vfsq9kmmiCNgx53nWrGVx5FY%3D&lsparams=mh%2Cmm%2Cmn%2Cms%2Cmv%2Cmvi%2Cpl%2Cinitcwndbps&lsig=AM8Gb2swRQIhAPWX-8dGJic6wP-b0dsGM7uw0JRX3EsS_M1BJLMcUD72AiAPyo-vJyUu2dr3XdojzGd8g7xpWjYu25o9xktqKMjgfw%3D%3D':\n",
      "  Metadata:\n",
      "    encoder         : google\n",
      "  Duration: 00:03:00.14, start: -0.007000, bitrate: 139 kb/s\n",
      "  Stream #0:0(eng): Audio: opus, 48000 Hz, stereo, fltp (default)\n",
      "Stream mapping:\n",
      "  Stream #0:0 -> #0:0 (opus (native) -> opus (libopus))\n",
      "Press [q] to stop, [?] for help\n",
      "[libopus @ 0x560066c06a80] No bit rate set. Defaulting to 96000 bps.\n",
      "Output #0, webm, to 'file:/home/maellef/git/MuteMusic/data/StimuliFinal/long/Synthetic/Super Mario Bros 3 (NES) Music - Castle Theme [ixA3SzX6uUc].webm.part':\n",
      "  Metadata:\n",
      "    encoder         : Lavf58.76.100\n",
      "  Stream #0:0(eng): Audio: opus, 48000 Hz, stereo, flt, 96 kb/s (default)\n",
      "    Metadata:\n",
      "      encoder         : Lavc58.134.100 libopus\n",
      "size=     512kB time=00:00:41.04 bitrate= 102.2kbits/s speed=26.4x    \r"
     ]
    },
    {
     "name": "stdout",
     "output_type": "stream",
     "text": [
      "[download] 100% of  699.00KiB in 00:00:02 at 240.78KiB/s\n",
      "[ExtractAudio] Destination: /home/maellef/git/MuteMusic/data/StimuliFinal/long/Synthetic/Super Mario Bros 3 (NES) Music - Castle Theme [ixA3SzX6uUc].wav\n"
     ]
    },
    {
     "name": "stderr",
     "output_type": "stream",
     "text": [
      "size=     699kB time=00:00:53.00 bitrate= 108.0kbits/s speed=27.2x    \n",
      "video:0kB audio:680kB subtitle:0kB other streams:0kB global headers:0kB muxing overhead: 2.788352%\n"
     ]
    },
    {
     "name": "stdout",
     "output_type": "stream",
     "text": [
      "Deleting original file /home/maellef/git/MuteMusic/data/StimuliFinal/long/Synthetic/Super Mario Bros 3 (NES) Music - Castle Theme [ixA3SzX6uUc].webm (pass -k to keep)\n",
      "Downloading long track : Super_Mario_Bros_3_Airship https://www.youtube.com/watch?v=7TO0N4KxzPE\n",
      "[youtube] Extracting URL: https://www.youtube.com/watch?v=7TO0N4KxzPE\n",
      "[youtube] 7TO0N4KxzPE: Downloading webpage\n",
      "[youtube] 7TO0N4KxzPE: Downloading ios player API JSON\n",
      "[youtube] 7TO0N4KxzPE: Downloading android player API JSON\n",
      "[youtube] 7TO0N4KxzPE: Downloading m3u8 information\n",
      "[info] 7TO0N4KxzPE: Downloading 1 format(s): 251\n",
      "[info] 7TO0N4KxzPE: Downloading 1 time ranges: 0.0-60.0\n",
      "[download] Destination: /home/maellef/git/MuteMusic/data/StimuliFinal/long/Synthetic/Super Mario Bros 3 (NES) Music - Airship Theme [7TO0N4KxzPE].webm\n"
     ]
    },
    {
     "name": "stderr",
     "output_type": "stream",
     "text": [
      "Input #0, matroska,webm, from 'https://rr2---sn-cxaaj5o5q5-t0ar.googlevideo.com/videoplayback?expire=1700043460&ei=ZEZUZYehLZa4ir4PrNiDoAg&ip=206.176.141.6&id=o-AGvKaZMmo2PIT5Y9NvhFSz2r52-j2kb5oPsNymds3cWE&itag=251&source=youtube&requiressl=yes&mh=IM&mm=31%2C26&mn=sn-cxaaj5o5q5-t0ar%2Csn-ab5l6nrr&ms=au%2Conr&mv=m&mvi=2&pl=21&initcwndbps=470000&spc=UWF9f-kQl5_amKYgknK8oQFxHuANkSg&vprv=1&svpuc=1&mime=audio%2Fwebm&gir=yes&clen=2897515&dur=180.021&lmt=1497208620996934&mt=1700021599&fvip=3&keepalive=yes&fexp=24007246&beids=24350018&c=ANDROID&sparams=expire%2Cei%2Cip%2Cid%2Citag%2Csource%2Crequiressl%2Cspc%2Cvprv%2Csvpuc%2Cmime%2Cgir%2Cclen%2Cdur%2Clmt&sig=ANLwegAwRgIhAOYrSctvfqs6cvSGIsq92ECEp4w5rodHCOKwOK5pjLjjAiEA3RdBQZlYuoYm8Ri73XmQyZ0aBaMblN7C5OwDKEbJwRg%3D&lsparams=mh%2Cmm%2Cmn%2Cms%2Cmv%2Cmvi%2Cpl%2Cinitcwndbps&lsig=AM8Gb2swRgIhAMgumNVR_LOohm6l0r_WaHOrqrgIJhLf6z4I300GPP3vAiEAt-zL3-ffloBgf5xys81i2bYC5ipGfrsgFZ2aW4cCqt8%3D':\n",
      "  Metadata:\n",
      "    encoder         : google\n",
      "  Duration: 00:03:00.02, start: -0.007000, bitrate: 128 kb/s\n",
      "  Stream #0:0(eng): Audio: opus, 48000 Hz, stereo, fltp (default)\n",
      "Stream mapping:\n",
      "  Stream #0:0 -> #0:0 (opus (native) -> opus (libopus))\n",
      "Press [q] to stop, [?] for help\n",
      "[libopus @ 0x556d77bce0c0] No bit rate set. Defaulting to 96000 bps.\n",
      "Output #0, webm, to 'file:/home/maellef/git/MuteMusic/data/StimuliFinal/long/Synthetic/Super Mario Bros 3 (NES) Music - Airship Theme [7TO0N4KxzPE].webm.part':\n",
      "  Metadata:\n",
      "    encoder         : Lavf58.76.100\n",
      "  Stream #0:0(eng): Audio: opus, 48000 Hz, stereo, flt, 96 kb/s (default)\n",
      "    Metadata:\n",
      "      encoder         : Lavc58.134.100 libopus\n",
      "size=     512kB time=00:00:50.04 bitrate=  83.8kbits/s speed=  31x    \r"
     ]
    },
    {
     "name": "stdout",
     "output_type": "stream",
     "text": [
      "[download] 100% of  683.45KiB in 00:00:02 at 311.02KiB/s\n",
      "[ExtractAudio] Destination: /home/maellef/git/MuteMusic/data/StimuliFinal/long/Synthetic/Super Mario Bros 3 (NES) Music - Airship Theme [7TO0N4KxzPE].wav\n"
     ]
    },
    {
     "name": "stderr",
     "output_type": "stream",
     "text": [
      "size=     683kB time=00:01:00.00 bitrate=  93.3kbits/s speed=30.9x    \n",
      "video:0kB audio:662kB subtitle:0kB other streams:0kB global headers:0kB muxing overhead: 3.232007%\n"
     ]
    },
    {
     "name": "stdout",
     "output_type": "stream",
     "text": [
      "Deleting original file /home/maellef/git/MuteMusic/data/StimuliFinal/long/Synthetic/Super Mario Bros 3 (NES) Music - Airship Theme [7TO0N4KxzPE].webm (pass -k to keep)\n",
      "Downloading long track : Super_Mario_Bros_3_Boss_Battle https://www.youtube.com/watch?v=8Tj3-bmDnS8\n",
      "[youtube] Extracting URL: https://www.youtube.com/watch?v=8Tj3-bmDnS8\n",
      "[youtube] 8Tj3-bmDnS8: Downloading webpage\n",
      "[youtube] 8Tj3-bmDnS8: Downloading ios player API JSON\n",
      "[youtube] 8Tj3-bmDnS8: Downloading android player API JSON\n",
      "[youtube] 8Tj3-bmDnS8: Downloading m3u8 information\n",
      "[info] 8Tj3-bmDnS8: Downloading 1 format(s): 251\n",
      "[info] 8Tj3-bmDnS8: Downloading 1 time ranges: 0.0-57.0\n",
      "[download] Destination: /home/maellef/git/MuteMusic/data/StimuliFinal/long/Synthetic/Super Mario Bros 3 (NES) Music - Boss Battle [8Tj3-bmDnS8].webm\n"
     ]
    },
    {
     "name": "stderr",
     "output_type": "stream",
     "text": [
      "Input #0, matroska,webm, from 'https://rr5---sn-cxaaj5o5q5-t0a6.googlevideo.com/videoplayback?expire=1700043465&ei=aUZUZZCcIqqmir4PrvKA4AM&ip=206.176.141.6&id=o-AH2BWGuYlre22jYIIZghueI6t4SlOh8LxMryLEBrjPca&itag=251&source=youtube&requiressl=yes&mh=uT&mm=31%2C26&mn=sn-cxaaj5o5q5-t0a6%2Csn-ab5l6nkd&ms=au%2Conr&mv=m&mvi=5&pl=21&initcwndbps=480000&spc=UWF9fwAc31ZwUtPzViAlyhFH6_sPg9c&vprv=1&svpuc=1&mime=audio%2Fwebm&gir=yes&clen=3468808&dur=180.101&lmt=1497221806551472&mt=1700021599&fvip=2&keepalive=yes&fexp=24007246&beids=24350018&c=ANDROID&sparams=expire%2Cei%2Cip%2Cid%2Citag%2Csource%2Crequiressl%2Cspc%2Cvprv%2Csvpuc%2Cmime%2Cgir%2Cclen%2Cdur%2Clmt&sig=ANLwegAwRAIgOC1woI-XhCSxgA-nQCBv2ksk8gzuFdfJHdFxO_gjD2sCIHKqjGZEdFtFmm2FPr8dcXmt0HBHcVsy-oRIW0u9H8af&lsparams=mh%2Cmm%2Cmn%2Cms%2Cmv%2Cmvi%2Cpl%2Cinitcwndbps&lsig=AM8Gb2swRgIhAIDRVAuJ6ti1NxI01c2ltq9ml8fVj0BEs4tO5YwM-WoDAiEAlGrUx9BIx4iYXwCdZDz98a8DL1WDpQnDpfvqZ4Fw068%3D':\n",
      "  Metadata:\n",
      "    encoder         : google\n",
      "  Duration: 00:03:00.10, start: -0.007000, bitrate: 154 kb/s\n",
      "  Stream #0:0(eng): Audio: opus, 48000 Hz, stereo, fltp (default)\n",
      "Stream mapping:\n",
      "  Stream #0:0 -> #0:0 (opus (native) -> opus (libopus))\n",
      "Press [q] to stop, [?] for help\n",
      "[libopus @ 0x556277c10a80] No bit rate set. Defaulting to 96000 bps.\n",
      "Output #0, webm, to 'file:/home/maellef/git/MuteMusic/data/StimuliFinal/long/Synthetic/Super Mario Bros 3 (NES) Music - Boss Battle [8Tj3-bmDnS8].webm.part':\n",
      "  Metadata:\n",
      "    encoder         : Lavf58.76.100\n",
      "  Stream #0:0(eng): Audio: opus, 48000 Hz, stereo, flt, 96 kb/s (default)\n",
      "    Metadata:\n",
      "      encoder         : Lavc58.134.100 libopus\n",
      "size=     512kB time=00:00:49.46 bitrate=  84.8kbits/s speed=24.2x    \r"
     ]
    },
    {
     "name": "stdout",
     "output_type": "stream",
     "text": [
      "[download] 100% of  783.12KiB in 00:00:03 at 219.74KiB/s\n",
      "[ExtractAudio] Destination: /home/maellef/git/MuteMusic/data/StimuliFinal/long/Synthetic/Super Mario Bros 3 (NES) Music - Boss Battle [8Tj3-bmDnS8].wav\n"
     ]
    },
    {
     "name": "stderr",
     "output_type": "stream",
     "text": [
      "size=     783kB time=00:00:57.00 bitrate= 112.5kbits/s speed=24.6x    \n",
      "video:0kB audio:763kB subtitle:0kB other streams:0kB global headers:0kB muxing overhead: 2.671023%\n"
     ]
    },
    {
     "name": "stdout",
     "output_type": "stream",
     "text": [
      "Deleting original file /home/maellef/git/MuteMusic/data/StimuliFinal/long/Synthetic/Super Mario Bros 3 (NES) Music - Boss Battle [8Tj3-bmDnS8].webm (pass -k to keep)\n"
     ]
    }
   ],
   "source": [
    "duration = 8\n",
    "\n",
    "for index,row in songsDf.iterrows():\n",
    "    url = row['url'].strip()\n",
    "    #timestamp8s = row['timestamp_8s'].strip()\n",
    "    timestamp_long = row['timestamp_long'].strip()\n",
    "    duration = row['duration']\n",
    "    title = row['title']\n",
    "    \n",
    "    print(f\"Downloading long track : {title} {url}\")\n",
    "    track_path = os.path.join('/home/maellef/git/MuteMusic/data/StimuliFinal', 'long', row['playlist'].strip())\n",
    "    os.makedirs(track_path, exist_ok=True)\n",
    "    try:\n",
    "        ytdl(url,timestamp_long,duration=duration,outpath=track_path)\n",
    "    except Exception as e:\n",
    "        print(e)\n",
    "    "
   ]
  },
  {
   "cell_type": "code",
   "execution_count": null,
   "id": "53fb3f98-ad96-46dd-bad6-88c8d36fe6de",
   "metadata": {},
   "outputs": [],
   "source": [
    "    print(f\"Downloading 8s track : {title} {url}\")\n",
    "    track_path = os.path.join('./test/StimuliFinal', '8s', row['playlist'].strip())\n",
    "    os.makedirs(track_path, exist_ok=True)\n",
    "    try:\n",
    "        ytdl(url,timestamp8s,duration=8,outpath=track_path)\n",
    "    except Exception as e:\n",
    "        print(e)"
   ]
  },
  {
   "cell_type": "code",
   "execution_count": null,
   "id": "ac997653-c9c1-4ba0-9224-c0caf023b4be",
   "metadata": {},
   "outputs": [],
   "source": [
    "#individual short download \n",
    "url = 'https://www.youtube.com/watch?v=duF1OQho1gc'\n",
    "timestamp8s='0:25'\n",
    "track_path=os.path.join('./test/StimuliFinal', '8s', 'Orchestral')\n",
    "ytdl(url,timestamp8s,duration=8,outpath=track_path)"
   ]
  },
  {
   "cell_type": "code",
   "execution_count": 12,
   "id": "af3187f8-be6a-4832-8857-179595c2b9dc",
   "metadata": {},
   "outputs": [
    {
     "name": "stdout",
     "output_type": "stream",
     "text": [
      "[youtube] Extracting URL: https://www.youtube.com/watch?v=mvsR9KXQknE\n",
      "[youtube] mvsR9KXQknE: Downloading webpage\n",
      "[youtube] mvsR9KXQknE: Downloading ios player API JSON\n",
      "[youtube] mvsR9KXQknE: Downloading android player API JSON\n",
      "[youtube] mvsR9KXQknE: Downloading m3u8 information\n",
      "[info] mvsR9KXQknE: Downloading 1 format(s): 251\n",
      "[info] mvsR9KXQknE: Downloading 1 time ranges: 51.0-96.0\n",
      "[download] Destination: /home/maellef/git/MuteMusic/data/StimuliFinal/long/Orchestral/Ronnie Aldrich Orchestra - Yakety Sax (1983) [mvsR9KXQknE].webm\n"
     ]
    },
    {
     "name": "stderr",
     "output_type": "stream",
     "text": [
      "Input #0, matroska,webm, from 'https://rr1---sn-gpn9-t0as.googlevideo.com/videoplayback?expire=1699913771&ei=y0tSZfHjIp2a_9EPmrSvmAc&ip=206.167.239.2&id=o-ACE9ngPKFv129tGW-a6dP0KIhpWWHTFFPhjkM5pkC-Ta&itag=251&source=youtube&requiressl=yes&mh=OD&mm=31%2C29&mn=sn-gpn9-t0as%2Csn-t0a7sn7d&ms=au%2Crdu&mv=m&mvi=1&pl=24&initcwndbps=1231250&spc=UWF9f7jpjNcSIffnJ_26xz3DWNPrqM8&vprv=1&svpuc=1&mime=audio%2Fwebm&gir=yes&clen=1610451&dur=113.401&lmt=1504159609729215&mt=1699891756&fvip=2&keepalive=yes&fexp=24007246&beids=24350018&c=ANDROID&sparams=expire%2Cei%2Cip%2Cid%2Citag%2Csource%2Crequiressl%2Cspc%2Cvprv%2Csvpuc%2Cmime%2Cgir%2Cclen%2Cdur%2Clmt&sig=ANLwegAwRAIgEqVjgksuHbZAn4BCz3sZbzzdgZRKCLIjEVt7il9NLP4CIB01SjCkTrNq2kdvVd4_8FcAm3PkYz7wbhObkPEF7wFq&lsparams=mh%2Cmm%2Cmn%2Cms%2Cmv%2Cmvi%2Cpl%2Cinitcwndbps&lsig=AM8Gb2swRQIgFnJjJdGAFxvdxyvyYV07-Tn_cNLjaQV1yggwfOy-rxYCIQDb3SXaIclo9XihstQRp8Y3z5AUoHkzt70IiQyyxbhGSA%3D%3D':\n",
      "  Metadata:\n",
      "    encoder         : google\n",
      "  Duration: 00:01:53.40, start: -0.007000, bitrate: 113 kb/s\n",
      "  Stream #0:0(eng): Audio: opus, 48000 Hz, stereo, fltp (default)\n",
      "Stream mapping:\n",
      "  Stream #0:0 -> #0:0 (opus (native) -> opus (libopus))\n",
      "Press [q] to stop, [?] for help\n",
      "[libopus @ 0x5590c2d89180] No bit rate set. Defaulting to 96000 bps.\n",
      "Output #0, webm, to 'file:/home/maellef/git/MuteMusic/data/StimuliFinal/long/Orchestral/Ronnie Aldrich Orchestra - Yakety Sax (1983) [mvsR9KXQknE].webm.part':\n",
      "  Metadata:\n",
      "    encoder         : Lavf58.76.100\n",
      "  Stream #0:0(eng): Audio: opus, 48000 Hz, stereo, flt, 96 kb/s (default)\n",
      "    Metadata:\n",
      "      encoder         : Lavc58.134.100 libopus\n",
      "size=       1kB time=00:00:00.00 bitrate=N/A speed=N/A    \r"
     ]
    },
    {
     "name": "stdout",
     "output_type": "stream",
     "text": [
      "[download] 100% of  462.43KiB in 00:00:00 at 958.83KiB/s\n",
      "[ExtractAudio] Destination: /home/maellef/git/MuteMusic/data/StimuliFinal/long/Orchestral/Ronnie Aldrich Orchestra - Yakety Sax (1983) [mvsR9KXQknE].wav\n",
      "Deleting original file /home/maellef/git/MuteMusic/data/StimuliFinal/long/Orchestral/Ronnie Aldrich Orchestra - Yakety Sax (1983) [mvsR9KXQknE].webm (pass -k to keep)\n"
     ]
    },
    {
     "name": "stderr",
     "output_type": "stream",
     "text": [
      "size=     462kB time=00:00:44.99 bitrate=  84.2kbits/s speed= 116x    \n",
      "video:0kB audio:446kB subtitle:0kB other streams:0kB global headers:0kB muxing overhead: 3.633435%\n"
     ]
    }
   ],
   "source": [
    "#individual long download\n",
    "url = 'https://www.youtube.com/watch?v=OwpOeeQJXGI'\n",
    "timestamp_long = '0:5'\n",
    "duration=45\n",
    "track_path = '/home/maellef/git/MuteMusic/data/StimuliFinal/long/Orchestral'\n",
    "ytdl(url,timestamp_long,duration=duration,outpath=track_path)"
   ]
  },
  {
   "cell_type": "markdown",
   "id": "3badc535",
   "metadata": {},
   "source": [
    "to do : \n",
    "\n",
    "- create training stimulus \n",
    "- randomize order, generate mp3 and two csv  : one for subject, one for experimenter\n",
    "- fade in and fade out (configurable) \n",
    "- add time stamp 1 second before the beginning of each file \n",
    "- two columns, yes or no"
   ]
  }
 ],
 "metadata": {
  "kernelspec": {
   "display_name": "Python 3 (ipykernel)",
   "language": "python",
   "name": "python3"
  },
  "language_info": {
   "codemirror_mode": {
    "name": "ipython",
    "version": 3
   },
   "file_extension": ".py",
   "mimetype": "text/x-python",
   "name": "python",
   "nbconvert_exporter": "python",
   "pygments_lexer": "ipython3",
   "version": "3.10.12"
  }
 },
 "nbformat": 4,
 "nbformat_minor": 5
}
