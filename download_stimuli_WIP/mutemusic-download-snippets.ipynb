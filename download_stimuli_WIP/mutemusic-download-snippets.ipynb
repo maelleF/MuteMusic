{
 "cells": [
  {
   "cell_type": "code",
   "execution_count": 1,
   "id": "3f480384",
   "metadata": {},
   "outputs": [],
   "source": [
    "import os \n",
    "import yt_dlp\n",
    "from yt_dlp.utils import download_range_func\n",
    "import pandas as pd"
   ]
  },
  {
   "cell_type": "code",
   "execution_count": 2,
   "id": "e752f15b",
   "metadata": {},
   "outputs": [],
   "source": [
    "def ytdl(url,timestamp,duration,outpath='./'):\n",
    "    minutes, seconds = timestamp.strip().split(':')\n",
    "\n",
    "    # Convert minutes and seconds to integers\n",
    "    minutes = int(minutes)\n",
    "    seconds = int(seconds)\n",
    "    \n",
    "    # Convert minutes to seconds and add to the total seconds\n",
    "    start = minutes * 60 + seconds\n",
    "    \n",
    "    stop = start + duration\n",
    "\n",
    "    ydl_opts = {\n",
    "        'format': 'wav/bestaudio/best',\n",
    "        'paths' : {'home':outpath},\n",
    "        'download_ranges' : download_range_func(None,[(start,stop)]),\n",
    "        'force_keyframes_at_cuts': True, # for yt links,\n",
    "        # ℹ️ See help(yt_dlp.postprocessor) for a list of available Postprocessors and their arguments\n",
    "        'postprocessors': [{  # Extract audio using ffmpeg\n",
    "            'key': 'FFmpegExtractAudio',\n",
    "            'preferredcodec': 'wav',\n",
    "        }]\n",
    "    }\n",
    "\n",
    "    with yt_dlp.YoutubeDL(ydl_opts) as ydl:\n",
    "        error_code = ydl.download([url])"
   ]
  },
  {
   "cell_type": "code",
   "execution_count": 3,
   "id": "071f8212",
   "metadata": {},
   "outputs": [
    {
     "data": {
      "text/html": [
       "<div>\n",
       "<style scoped>\n",
       "    .dataframe tbody tr th:only-of-type {\n",
       "        vertical-align: middle;\n",
       "    }\n",
       "\n",
       "    .dataframe tbody tr th {\n",
       "        vertical-align: top;\n",
       "    }\n",
       "\n",
       "    .dataframe thead th {\n",
       "        text-align: right;\n",
       "    }\n",
       "</style>\n",
       "<table border=\"1\" class=\"dataframe\">\n",
       "  <thead>\n",
       "    <tr style=\"text-align: right;\">\n",
       "      <th></th>\n",
       "      <th>playlist</th>\n",
       "      <th>title</th>\n",
       "      <th>artist</th>\n",
       "      <th>date</th>\n",
       "      <th>timestamp_8s</th>\n",
       "      <th>timestamp_long</th>\n",
       "      <th>duration</th>\n",
       "      <th>url</th>\n",
       "    </tr>\n",
       "  </thead>\n",
       "  <tbody>\n",
       "    <tr>\n",
       "      <th>0</th>\n",
       "      <td>Lyrics</td>\n",
       "      <td>Make 'Em Laugh</td>\n",
       "      <td>Donald O'Connor</td>\n",
       "      <td>1952.0</td>\n",
       "      <td>0:04</td>\n",
       "      <td>0:00</td>\n",
       "      <td>65</td>\n",
       "      <td>https://www.youtube.com/watch?v=ieU4Am0t0tc</td>\n",
       "    </tr>\n",
       "    <tr>\n",
       "      <th>1</th>\n",
       "      <td>Lyrics</td>\n",
       "      <td>Mister Sandman</td>\n",
       "      <td>The Chordettes</td>\n",
       "      <td>1954.0</td>\n",
       "      <td>0:10</td>\n",
       "      <td>0:00</td>\n",
       "      <td>46</td>\n",
       "      <td>https://www.youtube.com/watch?v=PKnPrbPK5vA</td>\n",
       "    </tr>\n",
       "    <tr>\n",
       "      <th>2</th>\n",
       "      <td>Lyrics</td>\n",
       "      <td>Jailhouse Rock</td>\n",
       "      <td>Elvis Presley</td>\n",
       "      <td>1957.0</td>\n",
       "      <td>0:15</td>\n",
       "      <td>0:00</td>\n",
       "      <td>52</td>\n",
       "      <td>https://www.youtube.com/watch?v=Hi2hpTXeHTI?t=15</td>\n",
       "    </tr>\n",
       "    <tr>\n",
       "      <th>3</th>\n",
       "      <td>Lyrics</td>\n",
       "      <td>Rain</td>\n",
       "      <td>The Beatles</td>\n",
       "      <td>1966.0</td>\n",
       "      <td>1:18</td>\n",
       "      <td>0:00</td>\n",
       "      <td>48</td>\n",
       "      <td>https://www.youtube.com/watch?v=cK5G8fPmWeA</td>\n",
       "    </tr>\n",
       "    <tr>\n",
       "      <th>4</th>\n",
       "      <td>Lyrics</td>\n",
       "      <td>Monday, Monday</td>\n",
       "      <td>The Mamas &amp; The Papas</td>\n",
       "      <td>1966.0</td>\n",
       "      <td>1:13</td>\n",
       "      <td>0:29</td>\n",
       "      <td>53</td>\n",
       "      <td>https://www.youtube.com/watch?v=sWGh92O9kxU&amp;t=73</td>\n",
       "    </tr>\n",
       "    <tr>\n",
       "      <th>5</th>\n",
       "      <td>Lyrics</td>\n",
       "      <td>[I Can't Get No] Satisfaction</td>\n",
       "      <td>The Rolling Stones</td>\n",
       "      <td>1965.0</td>\n",
       "      <td>0:34</td>\n",
       "      <td>0:00</td>\n",
       "      <td>67</td>\n",
       "      <td>https://www.youtube.com/watch?v=MSSxnv1_J2g</td>\n",
       "    </tr>\n",
       "    <tr>\n",
       "      <th>6</th>\n",
       "      <td>Lyrics</td>\n",
       "      <td>Mrs. Robinson</td>\n",
       "      <td>Simon &amp; Garfunkel</td>\n",
       "      <td>1967.0</td>\n",
       "      <td>0:41</td>\n",
       "      <td>1:45</td>\n",
       "      <td>53</td>\n",
       "      <td>https://www.youtube.com/watch?v=9C1BCAgu2I8</td>\n",
       "    </tr>\n",
       "    <tr>\n",
       "      <th>7</th>\n",
       "      <td>Lyrics</td>\n",
       "      <td>Take Me Home, Country Roads</td>\n",
       "      <td>John Denver</td>\n",
       "      <td>1971.0</td>\n",
       "      <td>0:31</td>\n",
       "      <td>0:00</td>\n",
       "      <td>54</td>\n",
       "      <td>https://www.youtube.com/watch?v=1vrEljMfXYo</td>\n",
       "    </tr>\n",
       "    <tr>\n",
       "      <th>8</th>\n",
       "      <td>Lyrics</td>\n",
       "      <td>No Woman No Cry</td>\n",
       "      <td>Bob Marley</td>\n",
       "      <td>1974.0</td>\n",
       "      <td>0:20</td>\n",
       "      <td>0:24</td>\n",
       "      <td>64</td>\n",
       "      <td>https://www.youtube.com/watch?v=pHlSE9j5FGY</td>\n",
       "    </tr>\n",
       "    <tr>\n",
       "      <th>9</th>\n",
       "      <td>Lyrics</td>\n",
       "      <td>Living Together</td>\n",
       "      <td>Bee Gees</td>\n",
       "      <td>1978.0</td>\n",
       "      <td>0:23</td>\n",
       "      <td>0:33</td>\n",
       "      <td>71</td>\n",
       "      <td>https://www.youtube.com/watch?v=1U9noJETLU0</td>\n",
       "    </tr>\n",
       "    <tr>\n",
       "      <th>10</th>\n",
       "      <td>Lyrics</td>\n",
       "      <td>Hotel California</td>\n",
       "      <td>Eagles</td>\n",
       "      <td>1977.0</td>\n",
       "      <td>1:50</td>\n",
       "      <td>0:52</td>\n",
       "      <td>78</td>\n",
       "      <td>https://www.youtube.com/watch?v=BciS5krYL80</td>\n",
       "    </tr>\n",
       "    <tr>\n",
       "      <th>11</th>\n",
       "      <td>Lyrics</td>\n",
       "      <td>I Will Survive</td>\n",
       "      <td>Gloria Gaynor</td>\n",
       "      <td>1978.0</td>\n",
       "      <td>1:04</td>\n",
       "      <td>0:06</td>\n",
       "      <td>68</td>\n",
       "      <td>https://www.youtube.com/watch?v=6dYWe1c3OyU</td>\n",
       "    </tr>\n",
       "    <tr>\n",
       "      <th>12</th>\n",
       "      <td>Lyrics</td>\n",
       "      <td>Highway to Hell</td>\n",
       "      <td>AC/DC</td>\n",
       "      <td>1979.0</td>\n",
       "      <td>0:52</td>\n",
       "      <td>0:17</td>\n",
       "      <td>53</td>\n",
       "      <td>https://www.youtube.com/watch?v=l482T0yNkeo</td>\n",
       "    </tr>\n",
       "    <tr>\n",
       "      <th>13</th>\n",
       "      <td>Lyrics</td>\n",
       "      <td>Another Brick In The Wall (Part 1)</td>\n",
       "      <td>Pink Floyd</td>\n",
       "      <td>1979.0</td>\n",
       "      <td>0:55</td>\n",
       "      <td>0:14</td>\n",
       "      <td>60</td>\n",
       "      <td>https://www.youtube.com/watch?v=-cfJqYtmmqA</td>\n",
       "    </tr>\n",
       "    <tr>\n",
       "      <th>14</th>\n",
       "      <td>Lyrics</td>\n",
       "      <td>It's Raining Men</td>\n",
       "      <td>The Weather Girls</td>\n",
       "      <td>1983.0</td>\n",
       "      <td>0:57</td>\n",
       "      <td>0:28</td>\n",
       "      <td>62</td>\n",
       "      <td>https://www.youtube.com/watch?v=l5aZJBLAu1E</td>\n",
       "    </tr>\n",
       "    <tr>\n",
       "      <th>15</th>\n",
       "      <td>Lyrics</td>\n",
       "      <td>Babooshka</td>\n",
       "      <td>Kate Bush</td>\n",
       "      <td>1980.0</td>\n",
       "      <td>1:58</td>\n",
       "      <td>0:17</td>\n",
       "      <td>55</td>\n",
       "      <td>https://www.youtube.com/watch?v=3NMhpI2-pLU</td>\n",
       "    </tr>\n",
       "    <tr>\n",
       "      <th>16</th>\n",
       "      <td>Lyrics</td>\n",
       "      <td>Why You Wanna Trip on Me</td>\n",
       "      <td>Michael Jackson</td>\n",
       "      <td>1991.0</td>\n",
       "      <td>1:30</td>\n",
       "      <td>0:53</td>\n",
       "      <td>53</td>\n",
       "      <td>https://www.youtube.com/watch?v=C2FUzoy-UCg</td>\n",
       "    </tr>\n",
       "    <tr>\n",
       "      <th>17</th>\n",
       "      <td>Lyrics</td>\n",
       "      <td>Everybody Wants To Rule The World</td>\n",
       "      <td>Tears For Fears</td>\n",
       "      <td>1985.0</td>\n",
       "      <td>0:48</td>\n",
       "      <td>1:05</td>\n",
       "      <td>58</td>\n",
       "      <td>https://www.youtube.com/watch?v=znDgBy2mHbc</td>\n",
       "    </tr>\n",
       "    <tr>\n",
       "      <th>18</th>\n",
       "      <td>Lyrics</td>\n",
       "      <td>Murder by Numbers</td>\n",
       "      <td>The Police</td>\n",
       "      <td>1983.0</td>\n",
       "      <td>1:00</td>\n",
       "      <td>0:19</td>\n",
       "      <td>60</td>\n",
       "      <td>https://www.youtube.com/watch?v=tUq9fURN2VQ</td>\n",
       "    </tr>\n",
       "    <tr>\n",
       "      <th>19</th>\n",
       "      <td>Lyrics</td>\n",
       "      <td>Material Girl</td>\n",
       "      <td>Madonna</td>\n",
       "      <td>1985.0</td>\n",
       "      <td>0:57</td>\n",
       "      <td>0:25</td>\n",
       "      <td>50</td>\n",
       "      <td>https://www.youtube.com/watch?v=JO9h1fQU_-k</td>\n",
       "    </tr>\n",
       "    <tr>\n",
       "      <th>20</th>\n",
       "      <td>Lyrics</td>\n",
       "      <td>Never Gonna Give You Up</td>\n",
       "      <td>Rick Astley</td>\n",
       "      <td>1987.0</td>\n",
       "      <td>0:43</td>\n",
       "      <td>0:10</td>\n",
       "      <td>50</td>\n",
       "      <td>https://www.youtube.com/watch?v=dQw4w9WgXcQ</td>\n",
       "    </tr>\n",
       "    <tr>\n",
       "      <th>21</th>\n",
       "      <td>Lyrics</td>\n",
       "      <td>Gangsta's Paradise</td>\n",
       "      <td>Coolio</td>\n",
       "      <td>1995.0</td>\n",
       "      <td>1:00</td>\n",
       "      <td>0:11</td>\n",
       "      <td>61</td>\n",
       "      <td>https://www.youtube.com/watch?v=Tw0_qHNRAEA</td>\n",
       "    </tr>\n",
       "    <tr>\n",
       "      <th>22</th>\n",
       "      <td>Lyrics</td>\n",
       "      <td>I’ll Be There for You</td>\n",
       "      <td>The Rembrandts</td>\n",
       "      <td>1995.0</td>\n",
       "      <td>0:31</td>\n",
       "      <td>0:00</td>\n",
       "      <td>47</td>\n",
       "      <td>https://www.youtube.com/watch?v=RIjTq_OdFvo</td>\n",
       "    </tr>\n",
       "    <tr>\n",
       "      <th>23</th>\n",
       "      <td>Lyrics</td>\n",
       "      <td>Can’t Live With You, Can’t Live Without You</td>\n",
       "      <td>Billy Newton-Davis, Céline Dion</td>\n",
       "      <td>1989.0</td>\n",
       "      <td>2:22</td>\n",
       "      <td>0:31</td>\n",
       "      <td>60</td>\n",
       "      <td>https://www.youtube.com/watch?v=bY8PUuZR4tw</td>\n",
       "    </tr>\n",
       "    <tr>\n",
       "      <th>24</th>\n",
       "      <td>Lyrics</td>\n",
       "      <td>Creep</td>\n",
       "      <td>Radiohead</td>\n",
       "      <td>1992.0</td>\n",
       "      <td>0:54</td>\n",
       "      <td>0:36</td>\n",
       "      <td>49</td>\n",
       "      <td>https://www.youtube.com/watch?v=XFkzRNyygfk</td>\n",
       "    </tr>\n",
       "    <tr>\n",
       "      <th>25</th>\n",
       "      <td>Orchestral</td>\n",
       "      <td>The Office (Main Theme) \"Tv Short Version\"</td>\n",
       "      <td>The Office Band</td>\n",
       "      <td>2011.0</td>\n",
       "      <td>0:06</td>\n",
       "      <td>0:00</td>\n",
       "      <td>34</td>\n",
       "      <td>https://www.youtube.com/watch?v=3cMctz6KNsg</td>\n",
       "    </tr>\n",
       "    <tr>\n",
       "      <th>26</th>\n",
       "      <td>Orchestral</td>\n",
       "      <td>The Imperial March (Darth Vader's Theme)</td>\n",
       "      <td>John Williams &amp; London Symphony</td>\n",
       "      <td>1980.0</td>\n",
       "      <td>0:09</td>\n",
       "      <td>0:00</td>\n",
       "      <td>42</td>\n",
       "      <td>https://www.youtube.com/watch?v=s3SZ5sIMY6o</td>\n",
       "    </tr>\n",
       "    <tr>\n",
       "      <th>27</th>\n",
       "      <td>Orchestral</td>\n",
       "      <td>Game of Thrones Main Title</td>\n",
       "      <td>Ramin Djawadi</td>\n",
       "      <td>2012.0</td>\n",
       "      <td>0:09</td>\n",
       "      <td>0:42</td>\n",
       "      <td>56</td>\n",
       "      <td>https://www.youtube.com/watch?v=uXZd_W5B7N0</td>\n",
       "    </tr>\n",
       "    <tr>\n",
       "      <th>28</th>\n",
       "      <td>Orchestral</td>\n",
       "      <td>The Pink Panther Theme</td>\n",
       "      <td>Henry Mancini &amp; His Orchestra</td>\n",
       "      <td>1975.0</td>\n",
       "      <td>0:12</td>\n",
       "      <td>0:00</td>\n",
       "      <td>45</td>\n",
       "      <td>https://www.youtube.com/watch?v=VyZiIuMufTA</td>\n",
       "    </tr>\n",
       "    <tr>\n",
       "      <th>29</th>\n",
       "      <td>Orchestral</td>\n",
       "      <td>Yakety Sax(1983 version)</td>\n",
       "      <td>Ronnie Aldrich Orchestra</td>\n",
       "      <td>1983.0</td>\n",
       "      <td>0:06</td>\n",
       "      <td>0:50</td>\n",
       "      <td>44</td>\n",
       "      <td>https://www.youtube.com/watch?v=mvsR9KXQknE</td>\n",
       "    </tr>\n",
       "    <tr>\n",
       "      <th>30</th>\n",
       "      <td>Orchestral</td>\n",
       "      <td>Lux Aeterna from Requiem for a Dream</td>\n",
       "      <td>Clint Mansell</td>\n",
       "      <td>NaN</td>\n",
       "      <td>1:22</td>\n",
       "      <td>1:07</td>\n",
       "      <td>60</td>\n",
       "      <td>https://www.youtube.com/watch?v=0-jVz7Dou4Y</td>\n",
       "    </tr>\n",
       "    <tr>\n",
       "      <th>31</th>\n",
       "      <td>Orchestral</td>\n",
       "      <td>il porco rosso</td>\n",
       "      <td>Joe Hisaishi</td>\n",
       "      <td>1998.0</td>\n",
       "      <td>0:23</td>\n",
       "      <td>0:38</td>\n",
       "      <td>66</td>\n",
       "      <td>https://www.youtube.com/watch?v=iKMHCmDdJ2U</td>\n",
       "    </tr>\n",
       "    <tr>\n",
       "      <th>32</th>\n",
       "      <td>Orchestral</td>\n",
       "      <td>Another Brick In The Wall (Part 1)</td>\n",
       "      <td>Pink Floyd</td>\n",
       "      <td>1979.0</td>\n",
       "      <td>1:37</td>\n",
       "      <td>1:24</td>\n",
       "      <td>45</td>\n",
       "      <td>https://www.youtube.com/watch?v=-cfJqYtmmqA</td>\n",
       "    </tr>\n",
       "    <tr>\n",
       "      <th>33</th>\n",
       "      <td>Orchestral</td>\n",
       "      <td>Kiki's Delivery Service</td>\n",
       "      <td>Joe Hisaishi</td>\n",
       "      <td>NaN</td>\n",
       "      <td>0:12</td>\n",
       "      <td>0:00</td>\n",
       "      <td>48</td>\n",
       "      <td>https://www.youtube.com/watch?v=HPg_auEBL1Y</td>\n",
       "    </tr>\n",
       "    <tr>\n",
       "      <th>34</th>\n",
       "      <td>Orchestral</td>\n",
       "      <td>Waltz No. 2</td>\n",
       "      <td>Dmitri Shostakovich</td>\n",
       "      <td>1938.0</td>\n",
       "      <td>0:42</td>\n",
       "      <td>0:00</td>\n",
       "      <td>41</td>\n",
       "      <td>https://www.youtube.com/watch?v=mmCnQDUSO4I&amp;t=42</td>\n",
       "    </tr>\n",
       "    <tr>\n",
       "      <th>35</th>\n",
       "      <td>Orchestral</td>\n",
       "      <td>The Moldau</td>\n",
       "      <td>Bedrich Smetana</td>\n",
       "      <td>NaN</td>\n",
       "      <td>0:00</td>\n",
       "      <td>0:00</td>\n",
       "      <td>54</td>\n",
       "      <td>https://www.youtube.com/watch?v=pT2bgYo9RT0</td>\n",
       "    </tr>\n",
       "    <tr>\n",
       "      <th>36</th>\n",
       "      <td>Orchestral</td>\n",
       "      <td>2001, l'odyssée de l’espace</td>\n",
       "      <td>NaN</td>\n",
       "      <td>1968.0</td>\n",
       "      <td>0:09</td>\n",
       "      <td>0:19</td>\n",
       "      <td>61</td>\n",
       "      <td>https://www.youtube.com/watch?v=5HjTXZPnYso</td>\n",
       "    </tr>\n",
       "    <tr>\n",
       "      <th>37</th>\n",
       "      <td>Orchestral</td>\n",
       "      <td>The 4 Seasons, Op. 8/4, RV 297, \"Winter\"</td>\n",
       "      <td>Vivaldi</td>\n",
       "      <td>NaN</td>\n",
       "      <td>1:14</td>\n",
       "      <td>1:06</td>\n",
       "      <td>60</td>\n",
       "      <td>https://www.youtube.com/watch?v=_FeJFs6LJjU</td>\n",
       "    </tr>\n",
       "    <tr>\n",
       "      <th>38</th>\n",
       "      <td>Orchestral</td>\n",
       "      <td>Back To The Future (From \"Back To The Future\" ...</td>\n",
       "      <td>The Outatime Orchestra</td>\n",
       "      <td>1985.0</td>\n",
       "      <td>2:03</td>\n",
       "      <td>0:00</td>\n",
       "      <td>48</td>\n",
       "      <td>https://www.youtube.com/watch?v=LpbHlXPmmcE</td>\n",
       "    </tr>\n",
       "    <tr>\n",
       "      <th>39</th>\n",
       "      <td>Orchestral</td>\n",
       "      <td>Main Title Terminator 2 Theme (Remastered 2017)</td>\n",
       "      <td>Brad Fiedel</td>\n",
       "      <td>1991.0</td>\n",
       "      <td>0:59</td>\n",
       "      <td>0:51</td>\n",
       "      <td>54</td>\n",
       "      <td>https://www.youtube.com/watch?v=CnQm2_cAZvo</td>\n",
       "    </tr>\n",
       "    <tr>\n",
       "      <th>40</th>\n",
       "      <td>Orchestral</td>\n",
       "      <td>Hook prologue</td>\n",
       "      <td>John Williams</td>\n",
       "      <td>1991.0</td>\n",
       "      <td>0:14</td>\n",
       "      <td>0:00</td>\n",
       "      <td>44</td>\n",
       "      <td>https://www.youtube.com/watch?v=OwpOeeQJXGI</td>\n",
       "    </tr>\n",
       "    <tr>\n",
       "      <th>41</th>\n",
       "      <td>Orchestral</td>\n",
       "      <td>Suite bergamasque, CD 82, L. 75: III. Clair de...</td>\n",
       "      <td>Debussy</td>\n",
       "      <td>NaN</td>\n",
       "      <td>0:02</td>\n",
       "      <td>0:02</td>\n",
       "      <td>50</td>\n",
       "      <td>https://www.youtube.com/watch?v=JVmwLJeeOy4</td>\n",
       "    </tr>\n",
       "    <tr>\n",
       "      <th>42</th>\n",
       "      <td>Orchestral</td>\n",
       "      <td>Gnossienne No.1</td>\n",
       "      <td>Erik Satie</td>\n",
       "      <td>NaN</td>\n",
       "      <td>0:24</td>\n",
       "      <td>0:00</td>\n",
       "      <td>63</td>\n",
       "      <td>https://www.youtube.com/watch?v=t27rzTkFKmU</td>\n",
       "    </tr>\n",
       "    <tr>\n",
       "      <th>43</th>\n",
       "      <td>Orchestral</td>\n",
       "      <td>Moonlight Sonata</td>\n",
       "      <td>Ludwig van Beethoven</td>\n",
       "      <td>NaN</td>\n",
       "      <td>8:06</td>\n",
       "      <td>8:06</td>\n",
       "      <td>47</td>\n",
       "      <td>https://www.youtube.com/watch?v=4Tr0otuiQuU</td>\n",
       "    </tr>\n",
       "    <tr>\n",
       "      <th>44</th>\n",
       "      <td>Orchestral</td>\n",
       "      <td>Star Trek: the Next Generation (Main Title)</td>\n",
       "      <td>Jerry Goldsmith &amp; Alexander Courage</td>\n",
       "      <td>1990.0</td>\n",
       "      <td>0:51</td>\n",
       "      <td>0:51</td>\n",
       "      <td>56</td>\n",
       "      <td>https://www.youtube.com/watch?v=yweIpSWhyRc</td>\n",
       "    </tr>\n",
       "    <tr>\n",
       "      <th>45</th>\n",
       "      <td>Orchestral</td>\n",
       "      <td>Seinfeld Official Soundtrack (Seinfeld Theme)</td>\n",
       "      <td>Jonathan Wolff</td>\n",
       "      <td>NaN</td>\n",
       "      <td>0:29</td>\n",
       "      <td>0:00</td>\n",
       "      <td>52</td>\n",
       "      <td>https://www.youtube.com/watch?v=RWak0i_iqnM</td>\n",
       "    </tr>\n",
       "    <tr>\n",
       "      <th>46</th>\n",
       "      <td>Orchestral</td>\n",
       "      <td>Dreaming of Bag End</td>\n",
       "      <td>Howard Shore</td>\n",
       "      <td>2012.0</td>\n",
       "      <td>0:33</td>\n",
       "      <td>0:00</td>\n",
       "      <td>52</td>\n",
       "      <td>https://www.youtube.com/watch?v=h55ROrO3UHc</td>\n",
       "    </tr>\n",
       "    <tr>\n",
       "      <th>47</th>\n",
       "      <td>Orchestral</td>\n",
       "      <td>My Name is Nobody - Il Mio Nome è Nessuno (Album)</td>\n",
       "      <td>Ennio Morricone</td>\n",
       "      <td>NaN</td>\n",
       "      <td>1:25</td>\n",
       "      <td>0:03</td>\n",
       "      <td>53</td>\n",
       "      <td>https://www.youtube.com/watch?v=duF1OQho1gc</td>\n",
       "    </tr>\n",
       "    <tr>\n",
       "      <th>48</th>\n",
       "      <td>Orchestral</td>\n",
       "      <td>Body and soul</td>\n",
       "      <td>Coleman Hawkins</td>\n",
       "      <td>NaN</td>\n",
       "      <td>0:14</td>\n",
       "      <td>0:00</td>\n",
       "      <td>59</td>\n",
       "      <td>https://www.youtube.com/watch?v=Pkvju_DlP8A</td>\n",
       "    </tr>\n",
       "    <tr>\n",
       "      <th>49</th>\n",
       "      <td>Orchestral</td>\n",
       "      <td>Stairway To Heaven</td>\n",
       "      <td>Led Zeppelin</td>\n",
       "      <td>NaN</td>\n",
       "      <td>0:00</td>\n",
       "      <td>0:00</td>\n",
       "      <td>52</td>\n",
       "      <td>https://www.youtube.com/watch?v=QkF3oxziUI4</td>\n",
       "    </tr>\n",
       "    <tr>\n",
       "      <th>50</th>\n",
       "      <td>Synthetic</td>\n",
       "      <td>Super Mario Bros (NES) Music - Overworld Theme</td>\n",
       "      <td>NaN</td>\n",
       "      <td>NaN</td>\n",
       "      <td>0:00</td>\n",
       "      <td>0:00</td>\n",
       "      <td>59</td>\n",
       "      <td>https://www.youtube.com/watch?v=iy3qq7zc4EY</td>\n",
       "    </tr>\n",
       "    <tr>\n",
       "      <th>51</th>\n",
       "      <td>Synthetic</td>\n",
       "      <td>Super Mario Bros (NES) Music - Underground Theme</td>\n",
       "      <td>NaN</td>\n",
       "      <td>NaN</td>\n",
       "      <td>0:00</td>\n",
       "      <td>0:00</td>\n",
       "      <td>49</td>\n",
       "      <td>https://www.youtube.com/watch?v=UOwyFPgjPQ4</td>\n",
       "    </tr>\n",
       "    <tr>\n",
       "      <th>52</th>\n",
       "      <td>Synthetic</td>\n",
       "      <td>Super Mario Bros. 3 - Overworld 1 Theme</td>\n",
       "      <td>NaN</td>\n",
       "      <td>NaN</td>\n",
       "      <td>0:04</td>\n",
       "      <td>0:00</td>\n",
       "      <td>54</td>\n",
       "      <td>https://www.youtube.com/watch?v=oZszAppxXoo</td>\n",
       "    </tr>\n",
       "    <tr>\n",
       "      <th>53</th>\n",
       "      <td>Synthetic</td>\n",
       "      <td>Super Mario Bros 3 - Underwater Theme</td>\n",
       "      <td>NaN</td>\n",
       "      <td>NaN</td>\n",
       "      <td>0:04</td>\n",
       "      <td>0:00</td>\n",
       "      <td>46</td>\n",
       "      <td>https://www.youtube.com/watch?v=JGpOPWM6uzE</td>\n",
       "    </tr>\n",
       "    <tr>\n",
       "      <th>54</th>\n",
       "      <td>Synthetic</td>\n",
       "      <td>Super Mario 64 - Bob-Omb Battlefield (Extended...</td>\n",
       "      <td>NaN</td>\n",
       "      <td>NaN</td>\n",
       "      <td>0:04</td>\n",
       "      <td>0:00</td>\n",
       "      <td>54</td>\n",
       "      <td>https://www.youtube.com/watch?v=xC3oIT5g_os</td>\n",
       "    </tr>\n",
       "    <tr>\n",
       "      <th>55</th>\n",
       "      <td>Synthetic</td>\n",
       "      <td>Original Tetris theme (Tetris Soundtrack)</td>\n",
       "      <td>NaN</td>\n",
       "      <td>NaN</td>\n",
       "      <td>0:00</td>\n",
       "      <td>0:00</td>\n",
       "      <td>50</td>\n",
       "      <td>https://www.youtube.com/watch?v=NmCCQxVBfyM</td>\n",
       "    </tr>\n",
       "    <tr>\n",
       "      <th>56</th>\n",
       "      <td>Synthetic</td>\n",
       "      <td>Donkey Kong Country OST (Super Nintendo) - Tra...</td>\n",
       "      <td>NaN</td>\n",
       "      <td>NaN</td>\n",
       "      <td>1:14</td>\n",
       "      <td>0:40</td>\n",
       "      <td>59</td>\n",
       "      <td>https://www.youtube.com/watch?v=HG8YrDF6cDk</td>\n",
       "    </tr>\n",
       "    <tr>\n",
       "      <th>57</th>\n",
       "      <td>Synthetic</td>\n",
       "      <td>Final Fantasy 7 Music - Aerith's Theme</td>\n",
       "      <td>Nobuo Uematsu</td>\n",
       "      <td>1997.0</td>\n",
       "      <td>0:14</td>\n",
       "      <td>0:14</td>\n",
       "      <td>57</td>\n",
       "      <td>https://www.youtube.com/watch?v=n0H6kTppjP8</td>\n",
       "    </tr>\n",
       "    <tr>\n",
       "      <th>58</th>\n",
       "      <td>Synthetic</td>\n",
       "      <td>Legend of Zelda, The (NES) Music - Overworld T...</td>\n",
       "      <td>Koji Kondo</td>\n",
       "      <td>NaN</td>\n",
       "      <td>0:06</td>\n",
       "      <td>0:00</td>\n",
       "      <td>50</td>\n",
       "      <td>https://www.youtube.com/watch?v=ncg72VswyTs</td>\n",
       "    </tr>\n",
       "    <tr>\n",
       "      <th>59</th>\n",
       "      <td>Synthetic</td>\n",
       "      <td>Castlevania 4 - Bloody Tears (Super Nintendo)</td>\n",
       "      <td>NaN</td>\n",
       "      <td>NaN</td>\n",
       "      <td>0:09</td>\n",
       "      <td>0:00</td>\n",
       "      <td>58</td>\n",
       "      <td>https://www.youtube.com/watch?v=QOWUSsFar-s</td>\n",
       "    </tr>\n",
       "    <tr>\n",
       "      <th>60</th>\n",
       "      <td>Synthetic</td>\n",
       "      <td>Populous (SNES/SFC) - BGM 01: Title Theme</td>\n",
       "      <td>Rob Hubbard, Kazuo Sawa</td>\n",
       "      <td>NaN</td>\n",
       "      <td>0:00</td>\n",
       "      <td>0:00</td>\n",
       "      <td>49</td>\n",
       "      <td>https://www.youtube.com/watch?v=_Oix8HQESBs</td>\n",
       "    </tr>\n",
       "    <tr>\n",
       "      <th>61</th>\n",
       "      <td>Synthetic</td>\n",
       "      <td>Sim City - Growth</td>\n",
       "      <td>NaN</td>\n",
       "      <td>NaN</td>\n",
       "      <td>0:00</td>\n",
       "      <td>0:00</td>\n",
       "      <td>32</td>\n",
       "      <td>https://www.youtube.com/watch?v=cwWrJg6OMs8</td>\n",
       "    </tr>\n",
       "    <tr>\n",
       "      <th>62</th>\n",
       "      <td>Synthetic</td>\n",
       "      <td>Sid Meier's Civilization 【SNES】 OST 06 City Menu</td>\n",
       "      <td>NaN</td>\n",
       "      <td>1991.0</td>\n",
       "      <td>0:06</td>\n",
       "      <td>0:06</td>\n",
       "      <td>60</td>\n",
       "      <td>https://www.youtube.com/watch?v=zFND5ln-06o</td>\n",
       "    </tr>\n",
       "    <tr>\n",
       "      <th>63</th>\n",
       "      <td>Synthetic</td>\n",
       "      <td>Shinobi 3 Return Of The Ninja Master OST- Japo...</td>\n",
       "      <td>NaN</td>\n",
       "      <td>NaN</td>\n",
       "      <td>0:20</td>\n",
       "      <td>0:00</td>\n",
       "      <td>44</td>\n",
       "      <td>https://www.youtube.com/watch?v=rVmaou-eQfY</td>\n",
       "    </tr>\n",
       "    <tr>\n",
       "      <th>64</th>\n",
       "      <td>Synthetic</td>\n",
       "      <td>Shinobi 3 Return Of The Ninja Master OST- Shin...</td>\n",
       "      <td>NaN</td>\n",
       "      <td>NaN</td>\n",
       "      <td>0:24</td>\n",
       "      <td>0:09</td>\n",
       "      <td>52</td>\n",
       "      <td>https://www.youtube.com/watch?v=A1jKza3O1y4</td>\n",
       "    </tr>\n",
       "    <tr>\n",
       "      <th>65</th>\n",
       "      <td>Synthetic</td>\n",
       "      <td>Shinobi 3 Return Of The Ninja Master OST- Idat...</td>\n",
       "      <td>NaN</td>\n",
       "      <td>NaN</td>\n",
       "      <td>0:06</td>\n",
       "      <td>0:00</td>\n",
       "      <td>61</td>\n",
       "      <td>https://www.youtube.com/watch?v=TFZQWCg99l4</td>\n",
       "    </tr>\n",
       "    <tr>\n",
       "      <th>66</th>\n",
       "      <td>Synthetic</td>\n",
       "      <td>Sonic The Hedgehog OST - Green Hill Zone</td>\n",
       "      <td>NaN</td>\n",
       "      <td>NaN</td>\n",
       "      <td>0:00</td>\n",
       "      <td>0:00</td>\n",
       "      <td>52</td>\n",
       "      <td>https://www.youtube.com/watch?v=G-i8HYi1QH0</td>\n",
       "    </tr>\n",
       "    <tr>\n",
       "      <th>67</th>\n",
       "      <td>Synthetic</td>\n",
       "      <td>Invincibility - Sonic the Hedgehog 2 [OST]</td>\n",
       "      <td>NaN</td>\n",
       "      <td>NaN</td>\n",
       "      <td>0:01</td>\n",
       "      <td>0:00</td>\n",
       "      <td>52</td>\n",
       "      <td>https://www.youtube.com/watch?v=UbobbsFpMR0</td>\n",
       "    </tr>\n",
       "    <tr>\n",
       "      <th>68</th>\n",
       "      <td>Synthetic</td>\n",
       "      <td>Mortal Kombat (Sega Genesis) - Opening Theme</td>\n",
       "      <td>NaN</td>\n",
       "      <td>NaN</td>\n",
       "      <td>0:21</td>\n",
       "      <td>0:00</td>\n",
       "      <td>48</td>\n",
       "      <td>https://www.youtube.com/watch?v=yVCoMrJwFZc</td>\n",
       "    </tr>\n",
       "    <tr>\n",
       "      <th>69</th>\n",
       "      <td>Synthetic</td>\n",
       "      <td>Street Fighter II: Champion Edition Arcade Mus...</td>\n",
       "      <td>NaN</td>\n",
       "      <td>NaN</td>\n",
       "      <td>0:00</td>\n",
       "      <td>0:00</td>\n",
       "      <td>55</td>\n",
       "      <td>https://www.youtube.com/watch?v=kZTFKSfKZ_Q</td>\n",
       "    </tr>\n",
       "    <tr>\n",
       "      <th>70</th>\n",
       "      <td>Synthetic</td>\n",
       "      <td>Aladdin Genesis Music Ending</td>\n",
       "      <td>NaN</td>\n",
       "      <td>NaN</td>\n",
       "      <td>0:35</td>\n",
       "      <td>0:00</td>\n",
       "      <td>65</td>\n",
       "      <td>https://www.youtube.com/watch?v=oaIXo6aaL-w&amp;t=35</td>\n",
       "    </tr>\n",
       "    <tr>\n",
       "      <th>71</th>\n",
       "      <td>Synthetic</td>\n",
       "      <td>Space Harrier Music - MAIN THEME</td>\n",
       "      <td>NaN</td>\n",
       "      <td>NaN</td>\n",
       "      <td>0:25</td>\n",
       "      <td>0:25</td>\n",
       "      <td>48</td>\n",
       "      <td>https://www.youtube.com/watch?v=-_Tam9lv1KQ</td>\n",
       "    </tr>\n",
       "    <tr>\n",
       "      <th>72</th>\n",
       "      <td>Synthetic</td>\n",
       "      <td>Streets Of Rage 1 OST- Stage 1</td>\n",
       "      <td>Yuzo Koshiro</td>\n",
       "      <td>1991.0</td>\n",
       "      <td>0:29</td>\n",
       "      <td>0:00</td>\n",
       "      <td>45</td>\n",
       "      <td>https://www.youtube.com/watch?v=tfiUfU18FmM</td>\n",
       "    </tr>\n",
       "    <tr>\n",
       "      <th>73</th>\n",
       "      <td>Synthetic</td>\n",
       "      <td>[Official] Celeste Original Soundtrack - 03 - ...</td>\n",
       "      <td>Lena Raine</td>\n",
       "      <td>NaN</td>\n",
       "      <td>2:13</td>\n",
       "      <td>2:13</td>\n",
       "      <td>50</td>\n",
       "      <td>https://www.youtube.com/watch?v=1rwAvUvvQzQ</td>\n",
       "    </tr>\n",
       "    <tr>\n",
       "      <th>74</th>\n",
       "      <td>Synthetic</td>\n",
       "      <td>Megalovania (Undertale)</td>\n",
       "      <td>Toby Fox</td>\n",
       "      <td>2015.0</td>\n",
       "      <td>0:16</td>\n",
       "      <td>0:08</td>\n",
       "      <td>56</td>\n",
       "      <td>https://www.youtube.com/watch?v=0FCvzsVlXpQ</td>\n",
       "    </tr>\n",
       "  </tbody>\n",
       "</table>\n",
       "</div>"
      ],
      "text/plain": [
       "      playlist                                              title  \\\n",
       "0       Lyrics                                     Make 'Em Laugh   \n",
       "1       Lyrics                                     Mister Sandman   \n",
       "2       Lyrics                                     Jailhouse Rock   \n",
       "3       Lyrics                                               Rain   \n",
       "4       Lyrics                                     Monday, Monday   \n",
       "5       Lyrics                      [I Can't Get No] Satisfaction   \n",
       "6       Lyrics                                      Mrs. Robinson   \n",
       "7       Lyrics                        Take Me Home, Country Roads   \n",
       "8       Lyrics                                    No Woman No Cry   \n",
       "9       Lyrics                                    Living Together   \n",
       "10      Lyrics                                   Hotel California   \n",
       "11      Lyrics                                     I Will Survive   \n",
       "12      Lyrics                                    Highway to Hell   \n",
       "13      Lyrics                 Another Brick In The Wall (Part 1)   \n",
       "14      Lyrics                                   It's Raining Men   \n",
       "15      Lyrics                                          Babooshka   \n",
       "16      Lyrics                           Why You Wanna Trip on Me   \n",
       "17      Lyrics                  Everybody Wants To Rule The World   \n",
       "18      Lyrics                                  Murder by Numbers   \n",
       "19      Lyrics                                      Material Girl   \n",
       "20      Lyrics                            Never Gonna Give You Up   \n",
       "21      Lyrics                                 Gangsta's Paradise   \n",
       "22      Lyrics                              I’ll Be There for You   \n",
       "23      Lyrics        Can’t Live With You, Can’t Live Without You   \n",
       "24      Lyrics                                              Creep   \n",
       "25  Orchestral        The Office (Main Theme) \"Tv Short Version\"    \n",
       "26  Orchestral           The Imperial March (Darth Vader's Theme)   \n",
       "27  Orchestral                         Game of Thrones Main Title   \n",
       "28  Orchestral                             The Pink Panther Theme   \n",
       "29  Orchestral                           Yakety Sax(1983 version)   \n",
       "30  Orchestral               Lux Aeterna from Requiem for a Dream   \n",
       "31  Orchestral                                     il porco rosso   \n",
       "32  Orchestral                 Another Brick In The Wall (Part 1)   \n",
       "33  Orchestral                            Kiki's Delivery Service   \n",
       "34  Orchestral                                        Waltz No. 2   \n",
       "35  Orchestral                                         The Moldau   \n",
       "36  Orchestral                        2001, l'odyssée de l’espace   \n",
       "37  Orchestral           The 4 Seasons, Op. 8/4, RV 297, \"Winter\"   \n",
       "38  Orchestral  Back To The Future (From \"Back To The Future\" ...   \n",
       "39  Orchestral    Main Title Terminator 2 Theme (Remastered 2017)   \n",
       "40  Orchestral                                      Hook prologue   \n",
       "41  Orchestral  Suite bergamasque, CD 82, L. 75: III. Clair de...   \n",
       "42  Orchestral                                    Gnossienne No.1   \n",
       "43  Orchestral                                   Moonlight Sonata   \n",
       "44  Orchestral        Star Trek: the Next Generation (Main Title)   \n",
       "45  Orchestral      Seinfeld Official Soundtrack (Seinfeld Theme)   \n",
       "46  Orchestral                                Dreaming of Bag End   \n",
       "47  Orchestral  My Name is Nobody - Il Mio Nome è Nessuno (Album)   \n",
       "48  Orchestral                                      Body and soul   \n",
       "49  Orchestral                                 Stairway To Heaven   \n",
       "50   Synthetic     Super Mario Bros (NES) Music - Overworld Theme   \n",
       "51   Synthetic   Super Mario Bros (NES) Music - Underground Theme   \n",
       "52   Synthetic            Super Mario Bros. 3 - Overworld 1 Theme   \n",
       "53   Synthetic              Super Mario Bros 3 - Underwater Theme   \n",
       "54   Synthetic  Super Mario 64 - Bob-Omb Battlefield (Extended...   \n",
       "55   Synthetic          Original Tetris theme (Tetris Soundtrack)   \n",
       "56   Synthetic  Donkey Kong Country OST (Super Nintendo) - Tra...   \n",
       "57   Synthetic             Final Fantasy 7 Music - Aerith's Theme   \n",
       "58   Synthetic  Legend of Zelda, The (NES) Music - Overworld T...   \n",
       "59   Synthetic      Castlevania 4 - Bloody Tears (Super Nintendo)   \n",
       "60   Synthetic          Populous (SNES/SFC) - BGM 01: Title Theme   \n",
       "61   Synthetic                                  Sim City - Growth   \n",
       "62   Synthetic   Sid Meier's Civilization 【SNES】 OST 06 City Menu   \n",
       "63   Synthetic  Shinobi 3 Return Of The Ninja Master OST- Japo...   \n",
       "64   Synthetic  Shinobi 3 Return Of The Ninja Master OST- Shin...   \n",
       "65   Synthetic  Shinobi 3 Return Of The Ninja Master OST- Idat...   \n",
       "66   Synthetic           Sonic The Hedgehog OST - Green Hill Zone   \n",
       "67   Synthetic         Invincibility - Sonic the Hedgehog 2 [OST]   \n",
       "68   Synthetic       Mortal Kombat (Sega Genesis) - Opening Theme   \n",
       "69   Synthetic  Street Fighter II: Champion Edition Arcade Mus...   \n",
       "70   Synthetic                       Aladdin Genesis Music Ending   \n",
       "71   Synthetic                   Space Harrier Music - MAIN THEME   \n",
       "72   Synthetic                     Streets Of Rage 1 OST- Stage 1   \n",
       "73   Synthetic  [Official] Celeste Original Soundtrack - 03 - ...   \n",
       "74   Synthetic                            Megalovania (Undertale)   \n",
       "\n",
       "                                 artist    date timestamp_8s timestamp_long  \\\n",
       "0                       Donald O'Connor  1952.0         0:04           0:00   \n",
       "1                        The Chordettes  1954.0         0:10           0:00   \n",
       "2                         Elvis Presley  1957.0         0:15           0:00   \n",
       "3                           The Beatles  1966.0         1:18           0:00   \n",
       "4                 The Mamas & The Papas  1966.0         1:13           0:29   \n",
       "5                    The Rolling Stones  1965.0         0:34           0:00   \n",
       "6                     Simon & Garfunkel  1967.0         0:41           1:45   \n",
       "7                           John Denver  1971.0         0:31           0:00   \n",
       "8                            Bob Marley  1974.0         0:20           0:24   \n",
       "9                              Bee Gees  1978.0         0:23           0:33   \n",
       "10                               Eagles  1977.0         1:50           0:52   \n",
       "11                        Gloria Gaynor  1978.0         1:04           0:06   \n",
       "12                                AC/DC  1979.0         0:52           0:17   \n",
       "13                           Pink Floyd  1979.0         0:55           0:14   \n",
       "14                    The Weather Girls  1983.0         0:57           0:28   \n",
       "15                            Kate Bush  1980.0         1:58           0:17   \n",
       "16                      Michael Jackson  1991.0         1:30           0:53   \n",
       "17                      Tears For Fears  1985.0         0:48           1:05   \n",
       "18                           The Police  1983.0         1:00           0:19   \n",
       "19                              Madonna  1985.0         0:57           0:25   \n",
       "20                          Rick Astley  1987.0         0:43           0:10   \n",
       "21                               Coolio  1995.0         1:00           0:11   \n",
       "22                       The Rembrandts  1995.0         0:31           0:00   \n",
       "23      Billy Newton-Davis, Céline Dion  1989.0         2:22           0:31   \n",
       "24                            Radiohead  1992.0         0:54           0:36   \n",
       "25                      The Office Band  2011.0         0:06           0:00   \n",
       "26      John Williams & London Symphony  1980.0         0:09           0:00   \n",
       "27                        Ramin Djawadi  2012.0         0:09           0:42   \n",
       "28        Henry Mancini & His Orchestra  1975.0         0:12           0:00   \n",
       "29             Ronnie Aldrich Orchestra  1983.0         0:06           0:50   \n",
       "30                        Clint Mansell     NaN         1:22           1:07   \n",
       "31                         Joe Hisaishi  1998.0         0:23           0:38   \n",
       "32                           Pink Floyd  1979.0         1:37           1:24   \n",
       "33                         Joe Hisaishi     NaN         0:12           0:00   \n",
       "34                  Dmitri Shostakovich  1938.0         0:42           0:00   \n",
       "35                      Bedrich Smetana     NaN         0:00           0:00   \n",
       "36                                  NaN  1968.0         0:09           0:19   \n",
       "37                              Vivaldi     NaN         1:14           1:06   \n",
       "38               The Outatime Orchestra  1985.0         2:03           0:00   \n",
       "39                          Brad Fiedel  1991.0         0:59           0:51   \n",
       "40                        John Williams  1991.0         0:14           0:00   \n",
       "41                              Debussy     NaN         0:02           0:02   \n",
       "42                           Erik Satie     NaN         0:24           0:00   \n",
       "43                 Ludwig van Beethoven     NaN         8:06           8:06   \n",
       "44  Jerry Goldsmith & Alexander Courage  1990.0         0:51           0:51   \n",
       "45                       Jonathan Wolff     NaN         0:29           0:00   \n",
       "46                         Howard Shore  2012.0         0:33           0:00   \n",
       "47                      Ennio Morricone     NaN         1:25           0:03   \n",
       "48                      Coleman Hawkins     NaN         0:14           0:00   \n",
       "49                         Led Zeppelin     NaN         0:00           0:00   \n",
       "50                                  NaN     NaN         0:00           0:00   \n",
       "51                                  NaN     NaN         0:00           0:00   \n",
       "52                                  NaN     NaN         0:04           0:00   \n",
       "53                                  NaN     NaN         0:04           0:00   \n",
       "54                                  NaN     NaN         0:04           0:00   \n",
       "55                                  NaN     NaN         0:00           0:00   \n",
       "56                                  NaN     NaN         1:14           0:40   \n",
       "57                        Nobuo Uematsu  1997.0         0:14           0:14   \n",
       "58                           Koji Kondo     NaN         0:06           0:00   \n",
       "59                                  NaN     NaN         0:09           0:00   \n",
       "60              Rob Hubbard, Kazuo Sawa     NaN         0:00           0:00   \n",
       "61                                  NaN     NaN         0:00           0:00   \n",
       "62                                  NaN  1991.0         0:06           0:06   \n",
       "63                                  NaN     NaN         0:20           0:00   \n",
       "64                                  NaN     NaN         0:24           0:09   \n",
       "65                                  NaN     NaN         0:06           0:00   \n",
       "66                                  NaN     NaN         0:00           0:00   \n",
       "67                                  NaN     NaN         0:01           0:00   \n",
       "68                                  NaN     NaN         0:21           0:00   \n",
       "69                                  NaN     NaN         0:00           0:00   \n",
       "70                                  NaN     NaN         0:35           0:00   \n",
       "71                                  NaN     NaN         0:25           0:25   \n",
       "72                         Yuzo Koshiro  1991.0         0:29           0:00   \n",
       "73                           Lena Raine     NaN         2:13           2:13   \n",
       "74                             Toby Fox  2015.0         0:16           0:08   \n",
       "\n",
       "    duration                                               url  \n",
       "0         65       https://www.youtube.com/watch?v=ieU4Am0t0tc  \n",
       "1         46       https://www.youtube.com/watch?v=PKnPrbPK5vA  \n",
       "2         52  https://www.youtube.com/watch?v=Hi2hpTXeHTI?t=15  \n",
       "3         48       https://www.youtube.com/watch?v=cK5G8fPmWeA  \n",
       "4         53  https://www.youtube.com/watch?v=sWGh92O9kxU&t=73  \n",
       "5         67       https://www.youtube.com/watch?v=MSSxnv1_J2g  \n",
       "6         53       https://www.youtube.com/watch?v=9C1BCAgu2I8  \n",
       "7         54       https://www.youtube.com/watch?v=1vrEljMfXYo  \n",
       "8         64       https://www.youtube.com/watch?v=pHlSE9j5FGY  \n",
       "9         71       https://www.youtube.com/watch?v=1U9noJETLU0  \n",
       "10        78       https://www.youtube.com/watch?v=BciS5krYL80  \n",
       "11        68       https://www.youtube.com/watch?v=6dYWe1c3OyU  \n",
       "12        53       https://www.youtube.com/watch?v=l482T0yNkeo  \n",
       "13        60       https://www.youtube.com/watch?v=-cfJqYtmmqA  \n",
       "14        62       https://www.youtube.com/watch?v=l5aZJBLAu1E  \n",
       "15        55       https://www.youtube.com/watch?v=3NMhpI2-pLU  \n",
       "16        53       https://www.youtube.com/watch?v=C2FUzoy-UCg  \n",
       "17        58       https://www.youtube.com/watch?v=znDgBy2mHbc  \n",
       "18        60       https://www.youtube.com/watch?v=tUq9fURN2VQ  \n",
       "19        50       https://www.youtube.com/watch?v=JO9h1fQU_-k  \n",
       "20        50       https://www.youtube.com/watch?v=dQw4w9WgXcQ  \n",
       "21        61       https://www.youtube.com/watch?v=Tw0_qHNRAEA  \n",
       "22        47       https://www.youtube.com/watch?v=RIjTq_OdFvo  \n",
       "23        60       https://www.youtube.com/watch?v=bY8PUuZR4tw  \n",
       "24        49       https://www.youtube.com/watch?v=XFkzRNyygfk  \n",
       "25        34       https://www.youtube.com/watch?v=3cMctz6KNsg  \n",
       "26        42       https://www.youtube.com/watch?v=s3SZ5sIMY6o  \n",
       "27        56       https://www.youtube.com/watch?v=uXZd_W5B7N0  \n",
       "28        45       https://www.youtube.com/watch?v=VyZiIuMufTA  \n",
       "29        44       https://www.youtube.com/watch?v=mvsR9KXQknE  \n",
       "30        60       https://www.youtube.com/watch?v=0-jVz7Dou4Y  \n",
       "31        66       https://www.youtube.com/watch?v=iKMHCmDdJ2U  \n",
       "32        45       https://www.youtube.com/watch?v=-cfJqYtmmqA  \n",
       "33        48       https://www.youtube.com/watch?v=HPg_auEBL1Y  \n",
       "34        41  https://www.youtube.com/watch?v=mmCnQDUSO4I&t=42  \n",
       "35        54       https://www.youtube.com/watch?v=pT2bgYo9RT0  \n",
       "36        61       https://www.youtube.com/watch?v=5HjTXZPnYso  \n",
       "37        60       https://www.youtube.com/watch?v=_FeJFs6LJjU  \n",
       "38        48       https://www.youtube.com/watch?v=LpbHlXPmmcE  \n",
       "39        54       https://www.youtube.com/watch?v=CnQm2_cAZvo  \n",
       "40        44       https://www.youtube.com/watch?v=OwpOeeQJXGI  \n",
       "41        50       https://www.youtube.com/watch?v=JVmwLJeeOy4  \n",
       "42        63       https://www.youtube.com/watch?v=t27rzTkFKmU  \n",
       "43        47       https://www.youtube.com/watch?v=4Tr0otuiQuU  \n",
       "44        56       https://www.youtube.com/watch?v=yweIpSWhyRc  \n",
       "45        52       https://www.youtube.com/watch?v=RWak0i_iqnM  \n",
       "46        52       https://www.youtube.com/watch?v=h55ROrO3UHc  \n",
       "47        53       https://www.youtube.com/watch?v=duF1OQho1gc  \n",
       "48        59       https://www.youtube.com/watch?v=Pkvju_DlP8A  \n",
       "49        52       https://www.youtube.com/watch?v=QkF3oxziUI4  \n",
       "50        59       https://www.youtube.com/watch?v=iy3qq7zc4EY  \n",
       "51        49       https://www.youtube.com/watch?v=UOwyFPgjPQ4  \n",
       "52        54       https://www.youtube.com/watch?v=oZszAppxXoo  \n",
       "53        46       https://www.youtube.com/watch?v=JGpOPWM6uzE  \n",
       "54        54       https://www.youtube.com/watch?v=xC3oIT5g_os  \n",
       "55        50       https://www.youtube.com/watch?v=NmCCQxVBfyM  \n",
       "56        59       https://www.youtube.com/watch?v=HG8YrDF6cDk  \n",
       "57        57       https://www.youtube.com/watch?v=n0H6kTppjP8  \n",
       "58        50       https://www.youtube.com/watch?v=ncg72VswyTs  \n",
       "59        58       https://www.youtube.com/watch?v=QOWUSsFar-s  \n",
       "60        49       https://www.youtube.com/watch?v=_Oix8HQESBs  \n",
       "61        32       https://www.youtube.com/watch?v=cwWrJg6OMs8  \n",
       "62        60       https://www.youtube.com/watch?v=zFND5ln-06o  \n",
       "63        44       https://www.youtube.com/watch?v=rVmaou-eQfY  \n",
       "64        52       https://www.youtube.com/watch?v=A1jKza3O1y4  \n",
       "65        61       https://www.youtube.com/watch?v=TFZQWCg99l4  \n",
       "66        52       https://www.youtube.com/watch?v=G-i8HYi1QH0  \n",
       "67        52       https://www.youtube.com/watch?v=UbobbsFpMR0  \n",
       "68        48       https://www.youtube.com/watch?v=yVCoMrJwFZc  \n",
       "69        55       https://www.youtube.com/watch?v=kZTFKSfKZ_Q  \n",
       "70        65  https://www.youtube.com/watch?v=oaIXo6aaL-w&t=35  \n",
       "71        48       https://www.youtube.com/watch?v=-_Tam9lv1KQ  \n",
       "72        45       https://www.youtube.com/watch?v=tfiUfU18FmM  \n",
       "73        50       https://www.youtube.com/watch?v=1rwAvUvvQzQ  \n",
       "74        56       https://www.youtube.com/watch?v=0FCvzsVlXpQ  "
      ]
     },
     "execution_count": 3,
     "metadata": {},
     "output_type": "execute_result"
    }
   ],
   "source": [
    "# open csv file \n",
    "songsDf = pd.read_csv('/home/maellef/git/MuteMusic/MuteMusic_songs_data.csv',sep=';')\n",
    "pd.set_option('display.max_rows', None)\n",
    "songsDf\n"
   ]
  },
  {
   "cell_type": "code",
   "execution_count": 7,
   "id": "a3568d22",
   "metadata": {},
   "outputs": [
    {
     "name": "stdout",
     "output_type": "stream",
     "text": [
      "Downloading long track : Make 'Em Laugh https://www.youtube.com/watch?v=ieU4Am0t0tc\n",
      "[youtube] Extracting URL: https://www.youtube.com/watch?v=ieU4Am0t0tc\n",
      "[youtube] ieU4Am0t0tc: Downloading webpage\n",
      "[youtube] ieU4Am0t0tc: Downloading ios player API JSON\n",
      "[youtube] ieU4Am0t0tc: Downloading android player API JSON\n",
      "[youtube] ieU4Am0t0tc: Downloading m3u8 information\n",
      "[info] ieU4Am0t0tc: Downloading 1 format(s): 251\n",
      "[info] ieU4Am0t0tc: Downloading 1 time ranges: 0.0-65.0\n",
      "[download] Destination: ./test/StimuliFinal/long/Lyrics/Make 'Em Laugh [ieU4Am0t0tc].webm\n"
     ]
    },
    {
     "name": "stderr",
     "output_type": "stream",
     "text": [
      "Input #0, matroska,webm, from 'https://rr2---sn-gpn9-t0as.googlevideo.com/videoplayback?expire=1697588677&ei=ZdEuZaDXOYmR_9EP-oihqAc&ip=206.167.239.2&id=o-AEW2nWsgnS1oTvRCmhiKfBD1nuFvrOqDRRhieEkONPHx&itag=251&source=youtube&requiressl=yes&mh=3L&mm=31%2C29&mn=sn-gpn9-t0as%2Csn-t0a7lnee&ms=au%2Crdu&mv=m&mvi=2&pl=24&gcr=ca&initcwndbps=1092500&spc=UWF9f_KKfyWxWZ1CDFTW6Q42ijgPO4I&vprv=1&svpuc=1&mime=audio%2Fwebm&gir=yes&clen=2614260&dur=198.081&lmt=1573985142143202&mt=1697566622&fvip=1&keepalive=yes&fexp=24007246&beids=24350018&c=ANDROID&txp=2301222&sparams=expire%2Cei%2Cip%2Cid%2Citag%2Csource%2Crequiressl%2Cgcr%2Cspc%2Cvprv%2Csvpuc%2Cmime%2Cgir%2Cclen%2Cdur%2Clmt&sig=AGM4YrMwRQIgZyC5dIyk18Q7ooxctc6fxXd_Gr06NVH4LxvuyztNYK8CIQCA6SvvM4UOayxauMcihYrwWGORtzWptWzCJAgIK5tGUg%3D%3D&lsparams=mh%2Cmm%2Cmn%2Cms%2Cmv%2Cmvi%2Cpl%2Cinitcwndbps&lsig=AK1ks_kwRQIhANgcpU1LclCGN4MBLLb99OEv2x_ERgU-nzpTKAdYa8PfAiB5_iw07v8E9M0BVheFiMiF9HJzbFWMeTpw80fFUZDHPQ%3D%3D':\n",
      "  Metadata:\n",
      "    encoder         : google/video-file\n",
      "  Duration: 00:03:18.08, start: -0.007000, bitrate: 105 kb/s\n",
      "  Stream #0:0(eng): Audio: opus, 48000 Hz, stereo, fltp (default)\n",
      "Stream mapping:\n",
      "  Stream #0:0 -> #0:0 (opus (native) -> opus (libopus))\n",
      "Press [q] to stop, [?] for help\n",
      "[libopus @ 0x55ab16b0d840] No bit rate set. Defaulting to 96000 bps.\n",
      "Output #0, webm, to 'file:./test/StimuliFinal/long/Lyrics/Make 'Em Laugh [ieU4Am0t0tc].webm.part':\n",
      "  Metadata:\n",
      "    encoder         : Lavf58.76.100\n",
      "  Stream #0:0(eng): Audio: opus, 48000 Hz, stereo, flt, 96 kb/s (default)\n",
      "    Metadata:\n",
      "      encoder         : Lavc58.134.100 libopus\n",
      "size=     256kB time=00:00:47.50 bitrate=  44.1kbits/s speed=26.7x    \r"
     ]
    },
    {
     "name": "stdout",
     "output_type": "stream",
     "text": [
      "[download] 100% of  619.38KiB in 00:00:02 at 265.14KiB/s\n",
      "[ExtractAudio] Destination: ./test/StimuliFinal/long/Lyrics/Make 'Em Laugh [ieU4Am0t0tc].wav\n",
      "Deleting original file ./test/StimuliFinal/long/Lyrics/Make 'Em Laugh [ieU4Am0t0tc].webm (pass -k to keep)\n"
     ]
    },
    {
     "name": "stderr",
     "output_type": "stream",
     "text": [
      "size=     619kB time=00:01:05.00 bitrate=  78.1kbits/s speed=29.9x    \n",
      "video:0kB audio:596kB subtitle:0kB other streams:0kB global headers:0kB muxing overhead: 3.879075%\n"
     ]
    },
    {
     "name": "stdout",
     "output_type": "stream",
     "text": [
      "Downloading long track : Mister Sandman https://www.youtube.com/watch?v=PKnPrbPK5vA\n",
      "[youtube] Extracting URL: https://www.youtube.com/watch?v=PKnPrbPK5vA\n",
      "[youtube] PKnPrbPK5vA: Downloading webpage\n",
      "[youtube] PKnPrbPK5vA: Downloading ios player API JSON\n",
      "[youtube] PKnPrbPK5vA: Downloading android player API JSON\n",
      "[youtube] PKnPrbPK5vA: Downloading m3u8 information\n",
      "[info] PKnPrbPK5vA: Downloading 1 format(s): 251\n",
      "[info] PKnPrbPK5vA: Downloading 1 time ranges: 0.0-46.0\n",
      "[download] Destination: ./test/StimuliFinal/long/Lyrics/Mister Sandman [PKnPrbPK5vA].webm\n"
     ]
    },
    {
     "name": "stderr",
     "output_type": "stream",
     "text": [
      "Input #0, matroska,webm, from 'https://rr3---sn-gpn9-t0as.googlevideo.com/videoplayback?expire=1697588681&ei=adEuZcmgOJCP8wTCuq7gBw&ip=206.167.239.2&id=o-ALY-E7NNzST7Ygyh6Ym4Lwxg0ciqT9Azbbrorkrkq8cj&itag=251&source=youtube&requiressl=yes&mh=4o&mm=31%2C29&mn=sn-gpn9-t0as%2Csn-t0a7ln7d&ms=au%2Crdu&mv=m&mvi=3&pl=24&gcr=ca&initcwndbps=1101250&spc=UWF9f1T-y2KvYsyytnYc-w8Gyq_Paqk&vprv=1&svpuc=1&mime=audio%2Fwebm&gir=yes&clen=1913875&dur=146.021&lmt=1604170192890941&mt=1697566861&fvip=3&keepalive=yes&fexp=24007246&beids=24350018&c=ANDROID&txp=5432434&sparams=expire%2Cei%2Cip%2Cid%2Citag%2Csource%2Crequiressl%2Cgcr%2Cspc%2Cvprv%2Csvpuc%2Cmime%2Cgir%2Cclen%2Cdur%2Clmt&sig=AGM4YrMwRQIgCG2wRQ28Z4dKDFGjrkkzReoFKg-6kOCjNStPeuRjTncCIQDCt7V5Gop1pKChmHat2vXKWLab5P4S9w8r5rioc38WKw%3D%3D&lsparams=mh%2Cmm%2Cmn%2Cms%2Cmv%2Cmvi%2Cpl%2Cinitcwndbps&lsig=AK1ks_kwRQIgHlP75zz1Zp8v1VLEyH74xQcg0-CybKBZAOss8CWp6f8CIQCEo6JTHsok1Ojgl8_ECKi5s2x-0K4g_tvDqfAOWJfWew%3D%3D':\n",
      "  Metadata:\n",
      "    encoder         : google/video-file\n",
      "  Duration: 00:02:26.02, start: -0.007000, bitrate: 104 kb/s\n",
      "  Stream #0:0(eng): Audio: opus, 48000 Hz, stereo, fltp (default)\n",
      "Stream mapping:\n",
      "  Stream #0:0 -> #0:0 (opus (native) -> opus (libopus))\n",
      "Press [q] to stop, [?] for help\n",
      "[libopus @ 0x565210148d40] No bit rate set. Defaulting to 96000 bps.\n",
      "Output #0, webm, to 'file:./test/StimuliFinal/long/Lyrics/Mister Sandman [PKnPrbPK5vA].webm.part':\n",
      "  Metadata:\n",
      "    encoder         : Lavf58.76.100\n",
      "  Stream #0:0(eng): Audio: opus, 48000 Hz, stereo, flt, 96 kb/s (default)\n",
      "    Metadata:\n",
      "      encoder         : Lavc58.134.100 libopus\n",
      "size=     256kB time=00:00:31.64 bitrate=  66.3kbits/s speed=11.5x    \r"
     ]
    },
    {
     "name": "stdout",
     "output_type": "stream",
     "text": [
      "[download] 100% of  454.56KiB in 00:00:03 at 140.42KiB/s\n",
      "[ExtractAudio] Destination: ./test/StimuliFinal/long/Lyrics/Mister Sandman [PKnPrbPK5vA].wav\n",
      "Deleting original file ./test/StimuliFinal/long/Lyrics/Mister Sandman [PKnPrbPK5vA].webm (pass -k to keep)\n"
     ]
    },
    {
     "name": "stderr",
     "output_type": "stream",
     "text": [
      "size=     455kB time=00:00:46.00 bitrate=  80.9kbits/s speed=14.9x    \n",
      "video:0kB audio:438kB subtitle:0kB other streams:0kB global headers:0kB muxing overhead: 3.775419%\n"
     ]
    },
    {
     "name": "stdout",
     "output_type": "stream",
     "text": [
      "Downloading long track : Jailhouse Rock https://www.youtube.com/watch?v=Hi2hpTXeHTI?t=15\n",
      "[youtube] Extracting URL: https://www.youtube.com/watch?v=Hi2hpTXeHTI?t=15\n",
      "[youtube] Hi2hpTXeHTI: Downloading webpage\n",
      "[youtube] Hi2hpTXeHTI: Downloading ios player API JSON\n",
      "[youtube] Hi2hpTXeHTI: Downloading android player API JSON\n",
      "[youtube] Hi2hpTXeHTI: Downloading m3u8 information\n",
      "[info] Hi2hpTXeHTI: Downloading 1 format(s): 251\n",
      "[info] Hi2hpTXeHTI: Downloading 1 time ranges: 0.0-52.0\n",
      "[download] Destination: ./test/StimuliFinal/long/Lyrics/Elvis Presley - Jailhouse Rock (Official Lyric Video) [Hi2hpTXeHTI].webm\n"
     ]
    },
    {
     "name": "stderr",
     "output_type": "stream",
     "text": [
      "Input #0, matroska,webm, from 'https://rr3---sn-gpn9-t0as.googlevideo.com/videoplayback?expire=1697588688&ei=cNEuZbCRD5qu_9EPpr-boAk&ip=206.167.239.2&id=o-ABRd9fGePEosnyTZrzWuDLUGQgIF27KNkwlvgbRqAbBi&itag=251&source=youtube&requiressl=yes&mh=0s&mm=31%2C29&mn=sn-gpn9-t0as%2Csn-t0a7sn7d&ms=au%2Crdu&mv=m&mvi=3&pl=24&gcr=ca&initcwndbps=1092500&spc=UWF9f0Ej8eAp45saoMab6QZkBpOmmrs&vprv=1&svpuc=1&mime=audio%2Fwebm&gir=yes&clen=1996512&dur=154.261&lmt=1656107047225993&mt=1697566622&fvip=4&keepalive=yes&fexp=24007246&beids=24350018&c=ANDROID&txp=5318224&sparams=expire%2Cei%2Cip%2Cid%2Citag%2Csource%2Crequiressl%2Cgcr%2Cspc%2Cvprv%2Csvpuc%2Cmime%2Cgir%2Cclen%2Cdur%2Clmt&sig=AGM4YrMwRQIhALLWhBH5WneKoZlWDjgTQkZIUv2hFJcqa7sJQS9CvuzVAiBi8LceT6hu7tUU9w8NRYmEodcFmrTob2y6egC0YuIjOw%3D%3D&lsparams=mh%2Cmm%2Cmn%2Cms%2Cmv%2Cmvi%2Cpl%2Cinitcwndbps&lsig=AK1ks_kwRAIgKVXW4N14WlCj1JCD6jFt7dsocBXgWNipDQeUJlIEj4QCIBeKw3pQob33omqKrL-MSMz7-A5xjWDbNyz3BgqyBtpE':\n",
      "  Metadata:\n",
      "    encoder         : google/video-file\n",
      "  Duration: 00:02:34.26, start: -0.007000, bitrate: 103 kb/s\n",
      "  Stream #0:0(eng): Audio: opus, 48000 Hz, stereo, fltp (default)\n",
      "Stream mapping:\n",
      "  Stream #0:0 -> #0:0 (opus (native) -> opus (libopus))\n",
      "Press [q] to stop, [?] for help\n",
      "[libopus @ 0x565512f3b400] No bit rate set. Defaulting to 96000 bps.\n",
      "Output #0, webm, to 'file:./test/StimuliFinal/long/Lyrics/Elvis Presley - Jailhouse Rock (Official Lyric Video) [Hi2hpTXeHTI].webm.part':\n",
      "  Metadata:\n",
      "    encoder         : Lavf58.76.100\n",
      "  Stream #0:0(eng): Audio: opus, 48000 Hz, stereo, flt, 96 kb/s (default)\n",
      "    Metadata:\n",
      "      encoder         : Lavc58.134.100 libopus\n",
      "size=     256kB time=00:00:38.18 bitrate=  54.9kbits/s speed=  18x    \r"
     ]
    },
    {
     "name": "stdout",
     "output_type": "stream",
     "text": [
      "[download] 100% of  501.73KiB in 00:00:03 at 143.08KiB/s\n",
      "[ExtractAudio] Destination: ./test/StimuliFinal/long/Lyrics/Elvis Presley - Jailhouse Rock (Official Lyric Video) [Hi2hpTXeHTI].wav\n"
     ]
    },
    {
     "name": "stderr",
     "output_type": "stream",
     "text": [
      "size=     502kB time=00:00:52.00 bitrate=  79.0kbits/s speed=17.9x    \n",
      "video:0kB audio:483kB subtitle:0kB other streams:0kB global headers:0kB muxing overhead: 3.856766%\n"
     ]
    },
    {
     "name": "stdout",
     "output_type": "stream",
     "text": [
      "Deleting original file ./test/StimuliFinal/long/Lyrics/Elvis Presley - Jailhouse Rock (Official Lyric Video) [Hi2hpTXeHTI].webm (pass -k to keep)\n",
      "Downloading long track : Rain https://www.youtube.com/watch?v=cK5G8fPmWeA\n",
      "[youtube] Extracting URL: https://www.youtube.com/watch?v=cK5G8fPmWeA\n",
      "[youtube] cK5G8fPmWeA: Downloading webpage\n",
      "[youtube] cK5G8fPmWeA: Downloading ios player API JSON\n",
      "[youtube] cK5G8fPmWeA: Downloading android player API JSON\n",
      "[youtube] cK5G8fPmWeA: Downloading m3u8 information\n",
      "[info] cK5G8fPmWeA: Downloading 1 format(s): 251\n",
      "[info] cK5G8fPmWeA: Downloading 1 time ranges: 0.0-48.0\n",
      "[download] Destination: ./test/StimuliFinal/long/Lyrics/The Beatles - Rain [cK5G8fPmWeA].webm\n"
     ]
    },
    {
     "name": "stderr",
     "output_type": "stream",
     "text": [
      "Input #0, matroska,webm, from 'https://rr2---sn-gpn9-t0as.googlevideo.com/videoplayback?expire=1697588693&ei=ddEuZbr4HqmE_9EP5pqXwAk&ip=206.167.239.2&id=o-AERK6duxVfosV6J6Hwbm3sFzvlOlmeG_DdninDkAhnNl&itag=251&source=youtube&requiressl=yes&mh=Sz&mm=31%2C29&mn=sn-gpn9-t0as%2Csn-t0a7lnee&ms=au%2Crdu&mv=m&mvi=2&pl=24&gcr=ca&initcwndbps=1092500&spc=UWF9f8w0XXEiCyUVsBbq4iXc-rCK6bc&vprv=1&svpuc=1&mime=audio%2Fwebm&gir=yes&clen=2968547&dur=188.201&lmt=1575213365560991&mt=1697566622&fvip=2&keepalive=yes&fexp=24007246&beids=24350018&c=ANDROID&txp=5531432&sparams=expire%2Cei%2Cip%2Cid%2Citag%2Csource%2Crequiressl%2Cgcr%2Cspc%2Cvprv%2Csvpuc%2Cmime%2Cgir%2Cclen%2Cdur%2Clmt&sig=AGM4YrMwRQIgHpmXgVglblwG7I6fom_-PGqoVm4hS9I-OKYOyfRcyAICIQDO1EgRNsaTa1wiEpM35-GGuLH23nRXc6sQ9nQpsUQQXg%3D%3D&lsparams=mh%2Cmm%2Cmn%2Cms%2Cmv%2Cmvi%2Cpl%2Cinitcwndbps&lsig=AK1ks_kwRQIhAI8NiJG0P5BXj3Gt7JQLG31yt44awas_CswwaCTLMb1oAiBLUgJPT7RrsyH1gaIvW4CSFYa6u5WXU28YtJthWkLzvQ%3D%3D':\n",
      "  Metadata:\n",
      "    encoder         : google/video-file\n",
      "  Duration: 00:03:08.20, start: -0.007000, bitrate: 126 kb/s\n",
      "  Stream #0:0(eng): Audio: opus, 48000 Hz, stereo, fltp (default)\n",
      "Stream mapping:\n",
      "  Stream #0:0 -> #0:0 (opus (native) -> opus (libopus))\n",
      "Press [q] to stop, [?] for help\n",
      "[libopus @ 0x55d32673d9c0] No bit rate set. Defaulting to 96000 bps.\n",
      "Output #0, webm, to 'file:./test/StimuliFinal/long/Lyrics/The Beatles - Rain [cK5G8fPmWeA].webm.part':\n",
      "  Metadata:\n",
      "    encoder         : Lavf58.76.100\n",
      "  Stream #0:0(eng): Audio: opus, 48000 Hz, stereo, flt, 96 kb/s (default)\n",
      "    Metadata:\n",
      "      encoder         : Lavc58.134.100 libopus\n",
      "size=     256kB time=00:00:35.76 bitrate=  58.6kbits/s speed=35.7x    \r"
     ]
    },
    {
     "name": "stdout",
     "output_type": "stream",
     "text": [
      "[download] 100% of  556.16KiB in 00:00:01 at 372.63KiB/s\n",
      "[ExtractAudio] Destination: ./test/StimuliFinal/long/Lyrics/The Beatles - Rain [cK5G8fPmWeA].wav\n",
      "Deleting original file ./test/StimuliFinal/long/Lyrics/The Beatles - Rain [cK5G8fPmWeA].webm (pass -k to keep)\n"
     ]
    },
    {
     "name": "stderr",
     "output_type": "stream",
     "text": [
      "size=     556kB time=00:00:48.00 bitrate=  94.9kbits/s speed=35.6x    \n",
      "video:0kB audio:539kB subtitle:0kB other streams:0kB global headers:0kB muxing overhead: 3.194564%\n"
     ]
    },
    {
     "name": "stdout",
     "output_type": "stream",
     "text": [
      "Downloading long track : Monday, Monday https://www.youtube.com/watch?v=sWGh92O9kxU&t=73\n",
      "[youtube] Extracting URL: https://www.youtube.com/watch?v=sWGh92O9kxU&t=73\n",
      "[youtube] sWGh92O9kxU: Downloading webpage\n",
      "[youtube] sWGh92O9kxU: Downloading ios player API JSON\n",
      "[youtube] sWGh92O9kxU: Downloading android player API JSON\n",
      "[youtube] sWGh92O9kxU: Downloading m3u8 information\n",
      "[info] sWGh92O9kxU: Downloading 1 format(s): 251\n",
      "[info] sWGh92O9kxU: Downloading 1 time ranges: 29.0-82.0\n",
      "[download] Destination: ./test/StimuliFinal/long/Lyrics/Monday, Monday [sWGh92O9kxU].webm\n"
     ]
    },
    {
     "name": "stderr",
     "output_type": "stream",
     "text": [
      "Input #0, matroska,webm, from 'https://rr4---sn-gpn9-t0as.googlevideo.com/videoplayback?expire=1697588696&ei=eNEuZYOXIZ-y_9EPxfW3qA8&ip=206.167.239.2&id=o-AE9it2bC8FKfR6W9a0CIBBnEZNUGhkaH5P0tnNM6btt9&itag=251&source=youtube&requiressl=yes&mh=7u&mm=31%2C29&mn=sn-gpn9-t0as%2Csn-t0a7lnee&ms=au%2Crdu&mv=m&mvi=4&pl=24&gcr=ca&initcwndbps=1092500&spc=UWF9f6hVfjQ9IVC_v96OcIpcosrrG2E&vprv=1&svpuc=1&mime=audio%2Fwebm&gir=yes&clen=3400109&dur=208.301&lmt=1565947262493890&mt=1697566622&fvip=2&keepalive=yes&fexp=24007246&beids=24350018&c=ANDROID&txp=1311222&sparams=expire%2Cei%2Cip%2Cid%2Citag%2Csource%2Crequiressl%2Cgcr%2Cspc%2Cvprv%2Csvpuc%2Cmime%2Cgir%2Cclen%2Cdur%2Clmt&sig=AGM4YrMwRAIgc00b6K7diurbK2moesI0RDlnaBwiGnCVBIXD-ag7QTcCIHV7LuiOK6vVN9SZkuTk5sLgseBdU4N1bfMTFRjS9O2m&lsparams=mh%2Cmm%2Cmn%2Cms%2Cmv%2Cmvi%2Cpl%2Cinitcwndbps&lsig=AK1ks_kwRQIhAIAXJ_YNu3R2KfU3yISZPNmw1bY8SKtkB58a7FOWfmq0AiAiDqMuR94ubH677UlUK04SZNjXx3OoBercYPaXHDNIkA%3D%3D':\n",
      "  Metadata:\n",
      "    encoder         : google/video-file\n",
      "  Duration: 00:03:28.30, start: -0.007000, bitrate: 130 kb/s\n",
      "  Stream #0:0(eng): Audio: opus, 48000 Hz, stereo, fltp (default)\n",
      "Stream mapping:\n",
      "  Stream #0:0 -> #0:0 (opus (native) -> opus (libopus))\n",
      "Press [q] to stop, [?] for help\n",
      "[libopus @ 0x55dce5423f80] No bit rate set. Defaulting to 96000 bps.\n",
      "Output #0, webm, to 'file:./test/StimuliFinal/long/Lyrics/Monday, Monday [sWGh92O9kxU].webm.part':\n",
      "  Metadata:\n",
      "    encoder         : Lavf58.76.100\n",
      "  Stream #0:0(eng): Audio: opus, 48000 Hz, stereo, flt, 96 kb/s (default)\n",
      "    Metadata:\n",
      "      encoder         : Lavc58.134.100 libopus\n",
      "size=     256kB time=00:00:34.01 bitrate=  61.7kbits/s speed=  14x    \r"
     ]
    },
    {
     "name": "stdout",
     "output_type": "stream",
     "text": [
      "[download] 100% of  654.48KiB in 00:00:03 at 201.40KiB/s\n",
      "[ExtractAudio] Destination: ./test/StimuliFinal/long/Lyrics/Monday, Monday [sWGh92O9kxU].wav\n",
      "Deleting original file ./test/StimuliFinal/long/Lyrics/Monday, Monday [sWGh92O9kxU].webm (pass -k to keep)\n"
     ]
    },
    {
     "name": "stderr",
     "output_type": "stream",
     "text": [
      "size=     654kB time=00:00:52.99 bitrate= 101.2kbits/s speed=17.8x    \n",
      "video:0kB audio:635kB subtitle:0kB other streams:0kB global headers:0kB muxing overhead: 2.986242%\n"
     ]
    },
    {
     "name": "stdout",
     "output_type": "stream",
     "text": [
      "Downloading long track : [I Can't Get No] Satisfaction https://www.youtube.com/watch?v=MSSxnv1_J2g\n",
      "[youtube] Extracting URL: https://www.youtube.com/watch?v=MSSxnv1_J2g\n",
      "[youtube] MSSxnv1_J2g: Downloading webpage\n",
      "[youtube] MSSxnv1_J2g: Downloading ios player API JSON\n",
      "[youtube] MSSxnv1_J2g: Downloading android player API JSON\n",
      "[youtube] MSSxnv1_J2g: Downloading m3u8 information\n",
      "[info] MSSxnv1_J2g: Downloading 1 format(s): 251\n",
      "[info] MSSxnv1_J2g: Downloading 1 time ranges: 0.0-67.0\n",
      "[download] Destination: ./test/StimuliFinal/long/Lyrics/[I Can't Get No] Satisfaction (Mono) [MSSxnv1_J2g].webm\n"
     ]
    },
    {
     "name": "stderr",
     "output_type": "stream",
     "text": [
      "Input #0, matroska,webm, from 'https://rr4---sn-gpn9-t0as.googlevideo.com/videoplayback?expire=1697588701&ei=fdEuZaSIKM6N_9EPhPK1sA4&ip=206.167.239.2&id=o-AIfDT4IW_lnJiZjb5B0cKSJbiwPBLRr69fZDDNpxrrr-&itag=251&source=youtube&requiressl=yes&mh=LO&mm=31%2C29&mn=sn-gpn9-t0as%2Csn-t0a7sn7d&ms=au%2Crdu&mv=m&mvi=4&pl=24&gcr=ca&initcwndbps=1092500&spc=UWF9fxZzJy7UoetqcaMhim3BTpEScos&vprv=1&svpuc=1&mime=audio%2Fwebm&gir=yes&clen=2796610&dur=223.461&lmt=1629844623265805&mt=1697566622&fvip=4&keepalive=yes&fexp=24007246&beids=24350018&c=ANDROID&txp=5432434&sparams=expire%2Cei%2Cip%2Cid%2Citag%2Csource%2Crequiressl%2Cgcr%2Cspc%2Cvprv%2Csvpuc%2Cmime%2Cgir%2Cclen%2Cdur%2Clmt&sig=AGM4YrMwRQIgW8crNnnzv8sejUC1J_mOD6nkJ-bDuyb-qJrtwNxjjV0CIQDpRWss938CcYIQP5CUESbq10clwQ59MpedLvghq-smJQ%3D%3D&lsparams=mh%2Cmm%2Cmn%2Cms%2Cmv%2Cmvi%2Cpl%2Cinitcwndbps&lsig=AK1ks_kwRQIhANj_EyDAD7_CB7pye0vnCPeYSJQXQg75gMi2cRE1j0N8AiByyzwpSxZHim7eL04hR5xfMR9RSthB95NPKO6V74LUzg%3D%3D':\n",
      "  Metadata:\n",
      "    encoder         : google/video-file\n",
      "  Duration: 00:03:43.46, start: -0.007000, bitrate: 100 kb/s\n",
      "  Stream #0:0(eng): Audio: opus, 48000 Hz, stereo, fltp (default)\n",
      "Stream mapping:\n",
      "  Stream #0:0 -> #0:0 (opus (native) -> opus (libopus))\n",
      "Press [q] to stop, [?] for help\n",
      "[libopus @ 0x55745b4aab00] No bit rate set. Defaulting to 96000 bps.\n",
      "Output #0, webm, to 'file:./test/StimuliFinal/long/Lyrics/[I Can't Get No] Satisfaction (Mono) [MSSxnv1_J2g].webm.part':\n",
      "  Metadata:\n",
      "    encoder         : Lavf58.76.100\n",
      "  Stream #0:0(eng): Audio: opus, 48000 Hz, stereo, flt, 96 kb/s (default)\n",
      "    Metadata:\n",
      "      encoder         : Lavc58.134.100 libopus\n",
      "size=     256kB time=00:00:50.70 bitrate=  41.4kbits/s speed=  32x    \r"
     ]
    },
    {
     "name": "stdout",
     "output_type": "stream",
     "text": [
      "[download] 100% of  628.67KiB in 00:00:02 at 307.10KiB/s\n",
      "[ExtractAudio] Destination: ./test/StimuliFinal/long/Lyrics/[I Can't Get No] Satisfaction (Mono) [MSSxnv1_J2g].wav\n",
      "Deleting original file ./test/StimuliFinal/long/Lyrics/[I Can't Get No] Satisfaction (Mono) [MSSxnv1_J2g].webm (pass -k to keep)\n"
     ]
    },
    {
     "name": "stderr",
     "output_type": "stream",
     "text": [
      "size=     629kB time=00:01:07.00 bitrate=  76.9kbits/s speed=34.9x    \n",
      "video:0kB audio:605kB subtitle:0kB other streams:0kB global headers:0kB muxing overhead: 3.943249%\n"
     ]
    },
    {
     "name": "stdout",
     "output_type": "stream",
     "text": [
      "Downloading long track : Mrs. Robinson https://www.youtube.com/watch?v=9C1BCAgu2I8\n",
      "[youtube] Extracting URL: https://www.youtube.com/watch?v=9C1BCAgu2I8\n",
      "[youtube] 9C1BCAgu2I8: Downloading webpage\n",
      "[youtube] 9C1BCAgu2I8: Downloading ios player API JSON\n",
      "[youtube] 9C1BCAgu2I8: Downloading android player API JSON\n",
      "[youtube] 9C1BCAgu2I8: Downloading m3u8 information\n",
      "[info] 9C1BCAgu2I8: Downloading 1 format(s): 251\n",
      "[info] 9C1BCAgu2I8: Downloading 1 time ranges: 105.0-158.0\n",
      "[download] Destination: ./test/StimuliFinal/long/Lyrics/Simon & Garfunkel - Mrs. Robinson (Audio) [9C1BCAgu2I8].webm\n"
     ]
    },
    {
     "name": "stderr",
     "output_type": "stream",
     "text": [
      "Input #0, matroska,webm, from 'https://rr1---sn-gpn9-t0as.googlevideo.com/videoplayback?expire=1697588706&ei=gtEuZf2xF5Ww_9EPl_mW2Ac&ip=206.167.239.2&id=o-AHGdRUOi9ig_3ud2xd3W4PVfTQTnLL89wZV2kEDFDGrd&itag=251&source=youtube&requiressl=yes&mh=ah&mm=31%2C29&mn=sn-gpn9-t0as%2Csn-t0a7lnee&ms=au%2Crdu&mv=m&mvi=1&pl=24&gcr=ca&initcwndbps=1101250&spc=UWF9f9Uh-Sk4OrhsHG0VbSba1Xuu-xo&vprv=1&svpuc=1&mime=audio%2Fwebm&gir=yes&clen=4401295&dur=243.541&lmt=1574970360668625&mt=1697566861&fvip=2&keepalive=yes&fexp=24007246&beids=24350018&c=ANDROID&txp=5531432&sparams=expire%2Cei%2Cip%2Cid%2Citag%2Csource%2Crequiressl%2Cgcr%2Cspc%2Cvprv%2Csvpuc%2Cmime%2Cgir%2Cclen%2Cdur%2Clmt&sig=AGM4YrMwRQIhAJGmvU13HJhI_PfExY4dcuyaNUQXxwHK6nBzNkYZw0o_AiAQe1xVaVL44kCyvu5HUHx1uyzLTSx65zxwgVJngZL4Sw%3D%3D&lsparams=mh%2Cmm%2Cmn%2Cms%2Cmv%2Cmvi%2Cpl%2Cinitcwndbps&lsig=AK1ks_kwRgIhAMPi_srTXLLl2kxi5_Fk9lV5WQzvhsaFQHZoVpdkl841AiEAk4eUltVYOHNmMoYkWaJ0Slo8D0S60nh_KU3gCjHzUPc%3D':\n",
      "  Metadata:\n",
      "    encoder         : google/video-file\n",
      "  Duration: 00:04:03.54, start: -0.007000, bitrate: 144 kb/s\n",
      "  Stream #0:0(eng): Audio: opus, 48000 Hz, stereo, fltp (default)\n",
      "Stream mapping:\n",
      "  Stream #0:0 -> #0:0 (opus (native) -> opus (libopus))\n",
      "Press [q] to stop, [?] for help\n",
      "[libopus @ 0x559a58910f80] No bit rate set. Defaulting to 96000 bps.\n",
      "Output #0, webm, to 'file:./test/StimuliFinal/long/Lyrics/Simon & Garfunkel - Mrs. Robinson (Audio) [9C1BCAgu2I8].webm.part':\n",
      "  Metadata:\n",
      "    encoder         : Lavf58.76.100\n",
      "  Stream #0:0(eng): Audio: opus, 48000 Hz, stereo, flt, 96 kb/s (default)\n",
      "    Metadata:\n",
      "      encoder         : Lavc58.134.100 libopus\n",
      "size=     512kB time=00:00:44.67 bitrate=  93.9kbits/s speed=29.4x    \r"
     ]
    },
    {
     "name": "stdout",
     "output_type": "stream",
     "text": [
      "[download] 100% of  706.18KiB in 00:00:02 at 270.89KiB/s\n"
     ]
    },
    {
     "name": "stderr",
     "output_type": "stream",
     "text": [
      "size=     706kB time=00:00:52.99 bitrate= 109.2kbits/s speed=22.8x    \n",
      "video:0kB audio:687kB subtitle:0kB other streams:0kB global headers:0kB muxing overhead: 2.761708%\n"
     ]
    },
    {
     "name": "stdout",
     "output_type": "stream",
     "text": [
      "[ExtractAudio] Destination: ./test/StimuliFinal/long/Lyrics/Simon & Garfunkel - Mrs. Robinson (Audio) [9C1BCAgu2I8].wav\n",
      "Deleting original file ./test/StimuliFinal/long/Lyrics/Simon & Garfunkel - Mrs. Robinson (Audio) [9C1BCAgu2I8].webm (pass -k to keep)\n",
      "Downloading long track : Take Me Home, Country Roads https://www.youtube.com/watch?v=1vrEljMfXYo\n",
      "[youtube] Extracting URL: https://www.youtube.com/watch?v=1vrEljMfXYo\n",
      "[youtube] 1vrEljMfXYo: Downloading webpage\n",
      "[youtube] 1vrEljMfXYo: Downloading ios player API JSON\n",
      "[youtube] 1vrEljMfXYo: Downloading android player API JSON\n",
      "[youtube] 1vrEljMfXYo: Downloading m3u8 information\n",
      "[info] 1vrEljMfXYo: Downloading 1 format(s): 251\n",
      "[info] 1vrEljMfXYo: Downloading 1 time ranges: 0.0-54.0\n",
      "[download] Destination: ./test/StimuliFinal/long/Lyrics/John Denver - Take Me Home, Country Roads (Official Audio) [1vrEljMfXYo].webm\n"
     ]
    },
    {
     "name": "stderr",
     "output_type": "stream",
     "text": [
      "Input #0, matroska,webm, from 'https://rr1---sn-gpn9-t0as.googlevideo.com/videoplayback?expire=1697588710&ei=htEuZYa0LZSP_9EPs7e1oAE&ip=206.167.239.2&id=o-AFdXNc10jRUiqROvK4HyLbYcvnS20uMkpIS5sBVnDAw3&itag=251&source=youtube&requiressl=yes&mh=zw&mm=31%2C29&mn=sn-gpn9-t0as%2Csn-t0a7ln7d&ms=au%2Crdu&mv=m&mvi=1&pl=24&gcr=ca&initcwndbps=1092500&spc=UWF9f3zglWgHyKG3NUzTkzJNTWFZ07c&vprv=1&svpuc=1&mime=audio%2Fwebm&gir=yes&clen=3258424&dur=195.521&lmt=1657241747088066&mt=1697566622&fvip=1&keepalive=yes&fexp=24007246&beids=24350018&c=ANDROID&txp=4532434&sparams=expire%2Cei%2Cip%2Cid%2Citag%2Csource%2Crequiressl%2Cgcr%2Cspc%2Cvprv%2Csvpuc%2Cmime%2Cgir%2Cclen%2Cdur%2Clmt&sig=AGM4YrMwRgIhAJ8OmXMN78qIuoIu4A0GG5szRH8D3WHcWc2f8nHSbl7GAiEA09psaW1XacfdFp-o2J6jDbisum8xK8KgLJj7wmaideA%3D&lsparams=mh%2Cmm%2Cmn%2Cms%2Cmv%2Cmvi%2Cpl%2Cinitcwndbps&lsig=AK1ks_kwRAIgI_nGWYvdag9x0hOHac5AAyKwvEb-NCNqrrtK9yArQ8gCIAkHsD6tMHF8SaqZTsH7WtR_xVvRPFrotPHam-q389wd':\n",
      "  Metadata:\n",
      "    encoder         : google/video-file\n",
      "  Duration: 00:03:15.52, start: -0.007000, bitrate: 133 kb/s\n",
      "  Stream #0:0(eng): Audio: opus, 48000 Hz, stereo, fltp (default)\n",
      "Stream mapping:\n",
      "  Stream #0:0 -> #0:0 (opus (native) -> opus (libopus))\n",
      "Press [q] to stop, [?] for help\n",
      "[libopus @ 0x56474877fc40] No bit rate set. Defaulting to 96000 bps.\n",
      "Output #0, webm, to 'file:./test/StimuliFinal/long/Lyrics/John Denver - Take Me Home, Country Roads (Official Audio) [1vrEljMfXYo].webm.part':\n",
      "  Metadata:\n",
      "    encoder         : Lavf58.76.100\n",
      "  Stream #0:0(eng): Audio: opus, 48000 Hz, stereo, flt, 96 kb/s (default)\n",
      "    Metadata:\n",
      "      encoder         : Lavc58.134.100 libopus\n",
      "size=     512kB time=00:00:45.12 bitrate=  93.0kbits/s speed=11.2x    \r"
     ]
    },
    {
     "name": "stdout",
     "output_type": "stream",
     "text": [
      "[download] 100% of  692.18KiB in 00:00:04 at 157.36KiB/s\n",
      "[ExtractAudio] Destination: ./test/StimuliFinal/long/Lyrics/John Denver - Take Me Home, Country Roads (Official Audio) [1vrEljMfXYo].wav\n",
      "Deleting original file ./test/StimuliFinal/long/Lyrics/John Denver - Take Me Home, Country Roads (Official Audio) [1vrEljMfXYo].webm (pass -k to keep)\n"
     ]
    },
    {
     "name": "stderr",
     "output_type": "stream",
     "text": [
      "size=     692kB time=00:00:54.00 bitrate= 105.0kbits/s speed=12.6x    \n",
      "video:0kB audio:673kB subtitle:0kB other streams:0kB global headers:0kB muxing overhead: 2.865685%\n"
     ]
    },
    {
     "name": "stdout",
     "output_type": "stream",
     "text": [
      "Downloading long track : No Woman No Cry https://www.youtube.com/watch?v=pHlSE9j5FGY\n",
      "[youtube] Extracting URL: https://www.youtube.com/watch?v=pHlSE9j5FGY\n",
      "[youtube] pHlSE9j5FGY: Downloading webpage\n",
      "[youtube] pHlSE9j5FGY: Downloading ios player API JSON\n",
      "[youtube] pHlSE9j5FGY: Downloading android player API JSON\n",
      "[youtube] pHlSE9j5FGY: Downloading m3u8 information\n",
      "[info] pHlSE9j5FGY: Downloading 1 format(s): 251\n",
      "[info] pHlSE9j5FGY: Downloading 1 time ranges: 24.0-88.0\n",
      "[download] Destination: ./test/StimuliFinal/long/Lyrics/Bob Marley - No Women No Cry (Original) [pHlSE9j5FGY].webm\n"
     ]
    },
    {
     "name": "stderr",
     "output_type": "stream",
     "text": [
      "Input #0, matroska,webm, from 'https://rr2---sn-gpn9-t0as.googlevideo.com/videoplayback?expire=1697588716&ei=jNEuZdGPLu6t_9EPvcO-wAg&ip=206.167.239.2&id=o-AJaY0oIhApCdS4vJC_Bwzw-CsUCWL8B_3obdEoVAqlqn&itag=251&source=youtube&requiressl=yes&mh=6l&mm=31%2C29&mn=sn-gpn9-t0as%2Csn-t0a7lnee&ms=au%2Crdu&mv=m&mvi=2&pl=24&initcwndbps=1092500&spc=UWF9f6DtCX4t6WbkNjd89eNQ5Uk-lAI&vprv=1&svpuc=1&mime=audio%2Fwebm&gir=yes&clen=3509375&dur=216.741&lmt=1552069510581362&mt=1697566622&fvip=1&keepalive=yes&fexp=24007246&beids=24350018&c=ANDROID&txp=5511222&sparams=expire%2Cei%2Cip%2Cid%2Citag%2Csource%2Crequiressl%2Cspc%2Cvprv%2Csvpuc%2Cmime%2Cgir%2Cclen%2Cdur%2Clmt&sig=AGM4YrMwRQIhALLBDJkZgeNECmfZUOIjVAYvhimOWJrvIu2IgaaEDd_OAiBgpvk77lIUTWXinZFB9zL-XY5X9mS6_HKWbf9ilID4vg%3D%3D&lsparams=mh%2Cmm%2Cmn%2Cms%2Cmv%2Cmvi%2Cpl%2Cinitcwndbps&lsig=AK1ks_kwRAIgO9wOSmCuxRd5f0TAzumF0KOxHQPh87LaFf6u-yZpXQ0CIEzGcNX0Om467v73gwbuGFDVIzgqa8TY64uC-9DtQ1qJ':\n",
      "  Metadata:\n",
      "    encoder         : google/video-file\n",
      "  Duration: 00:03:36.74, start: -0.007000, bitrate: 129 kb/s\n",
      "  Stream #0:0(eng): Audio: opus, 48000 Hz, stereo, fltp (default)\n",
      "Stream mapping:\n",
      "  Stream #0:0 -> #0:0 (opus (native) -> opus (libopus))\n",
      "Press [q] to stop, [?] for help\n",
      "[libopus @ 0x5556a189ffc0] No bit rate set. Defaulting to 96000 bps.\n",
      "Output #0, webm, to 'file:./test/StimuliFinal/long/Lyrics/Bob Marley - No Women No Cry (Original) [pHlSE9j5FGY].webm.part':\n",
      "  Metadata:\n",
      "    encoder         : Lavf58.76.100\n",
      "  Stream #0:0(eng): Audio: opus, 48000 Hz, stereo, flt, 96 kb/s (default)\n",
      "    Metadata:\n",
      "      encoder         : Lavc58.134.100 libopus\n",
      "size=     512kB time=00:00:53.31 bitrate=  78.7kbits/s speed=23.3x    \r"
     ]
    },
    {
     "name": "stdout",
     "output_type": "stream",
     "text": [
      "[download] 100% of  777.60KiB in 00:00:02 at 271.79KiB/s\n",
      "[ExtractAudio] Destination: ./test/StimuliFinal/long/Lyrics/Bob Marley - No Women No Cry (Original) [pHlSE9j5FGY].wav\n"
     ]
    },
    {
     "name": "stderr",
     "output_type": "stream",
     "text": [
      "size=     778kB time=00:01:03.99 bitrate=  99.5kbits/s speed=24.5x    \n",
      "video:0kB audio:755kB subtitle:0kB other streams:0kB global headers:0kB muxing overhead: 3.020109%\n"
     ]
    },
    {
     "name": "stdout",
     "output_type": "stream",
     "text": [
      "Deleting original file ./test/StimuliFinal/long/Lyrics/Bob Marley - No Women No Cry (Original) [pHlSE9j5FGY].webm (pass -k to keep)\n",
      "Downloading long track : Living Together https://www.youtube.com/watch?v=1U9noJETLU0\n",
      "[youtube] Extracting URL: https://www.youtube.com/watch?v=1U9noJETLU0\n",
      "[youtube] 1U9noJETLU0: Downloading webpage\n",
      "[youtube] 1U9noJETLU0: Downloading ios player API JSON\n",
      "[youtube] 1U9noJETLU0: Downloading android player API JSON\n",
      "[youtube] 1U9noJETLU0: Downloading m3u8 information\n",
      "[info] 1U9noJETLU0: Downloading 1 format(s): 251\n",
      "[info] 1U9noJETLU0: Downloading 1 time ranges: 33.0-104.0\n",
      "[download] Destination: ./test/StimuliFinal/long/Lyrics/Living Together [1U9noJETLU0].webm\n"
     ]
    },
    {
     "name": "stderr",
     "output_type": "stream",
     "text": [
      "Input #0, matroska,webm, from 'https://rr1---sn-gpn9-t0as.googlevideo.com/videoplayback?expire=1697588721&ei=kdEuZYuPFofi8wSd7LbgBg&ip=206.167.239.2&id=o-AP_aif3t9Gqfa733Ewyl8XXjCijtoKLqJYzco7BUhXPW&itag=251&source=youtube&requiressl=yes&mh=Sx&mm=31%2C29&mn=sn-gpn9-t0as%2Csn-t0a7sn7d&ms=au%2Crdu&mv=m&mvi=1&pl=24&gcr=ca&initcwndbps=1101250&spc=UWF9fw8O8OcD4mdXbIWqAcaIwHk0uUw&vprv=1&svpuc=1&mime=audio%2Fwebm&gir=yes&clen=4399829&dur=262.341&lmt=1565912233859760&mt=1697566861&fvip=1&keepalive=yes&fexp=24007246&beids=24350018&c=ANDROID&txp=1311222&sparams=expire%2Cei%2Cip%2Cid%2Citag%2Csource%2Crequiressl%2Cgcr%2Cspc%2Cvprv%2Csvpuc%2Cmime%2Cgir%2Cclen%2Cdur%2Clmt&sig=AGM4YrMwRgIhAJtNXGkaOJ1o7P_PVN4jgFh542tRMdaYFYqg1WfgNegjAiEA5Nhbn3i-VLZjTFrzgV37YMSdKRtwEGQHwkXRCkSfGAQ%3D&lsparams=mh%2Cmm%2Cmn%2Cms%2Cmv%2Cmvi%2Cpl%2Cinitcwndbps&lsig=AK1ks_kwRgIhAN92YaKo7YrpbToS5IjscDRlgdaxyXyB_FcHzaJw2oixAiEAwkG3Vbl9ujLGN5JLeFhk3yWwH-F08YJahHUB9FJWln0%3D':\n",
      "  Metadata:\n",
      "    encoder         : google/video-file\n",
      "  Duration: 00:04:22.34, start: -0.007000, bitrate: 134 kb/s\n",
      "  Stream #0:0(eng): Audio: opus, 48000 Hz, stereo, fltp (default)\n",
      "Stream mapping:\n",
      "  Stream #0:0 -> #0:0 (opus (native) -> opus (libopus))\n",
      "Press [q] to stop, [?] for help\n",
      "[libopus @ 0x55d72bca8f80] No bit rate set. Defaulting to 96000 bps.\n",
      "Output #0, webm, to 'file:./test/StimuliFinal/long/Lyrics/Living Together [1U9noJETLU0].webm.part':\n",
      "  Metadata:\n",
      "    encoder         : Lavf58.76.100\n",
      "  Stream #0:0(eng): Audio: opus, 48000 Hz, stereo, flt, 96 kb/s (default)\n",
      "    Metadata:\n",
      "      encoder         : Lavc58.134.100 libopus\n",
      "size=     512kB time=00:00:58.57 bitrate=  71.6kbits/s speed=10.6x    \r"
     ]
    },
    {
     "name": "stdout",
     "output_type": "stream",
     "text": [
      "[download] 100% of  870.38KiB in 00:00:06 at 137.30KiB/s\n",
      "[ExtractAudio] Destination: ./test/StimuliFinal/long/Lyrics/Living Together [1U9noJETLU0].wav\n"
     ]
    },
    {
     "name": "stderr",
     "output_type": "stream",
     "text": [
      "size=     870kB time=00:01:10.99 bitrate= 100.4kbits/s speed=12.1x    \n",
      "video:0kB audio:845kB subtitle:0kB other streams:0kB global headers:0kB muxing overhead: 2.987462%\n"
     ]
    },
    {
     "name": "stdout",
     "output_type": "stream",
     "text": [
      "Deleting original file ./test/StimuliFinal/long/Lyrics/Living Together [1U9noJETLU0].webm (pass -k to keep)\n",
      "Downloading long track : Hotel California https://www.youtube.com/watch?v=BciS5krYL80\n",
      "[youtube] Extracting URL: https://www.youtube.com/watch?v=BciS5krYL80\n",
      "[youtube] BciS5krYL80: Downloading webpage\n",
      "[youtube] BciS5krYL80: Downloading ios player API JSON\n",
      "[youtube] BciS5krYL80: Downloading android player API JSON\n",
      "[youtube] BciS5krYL80: Downloading m3u8 information\n",
      "[info] BciS5krYL80: Downloading 1 format(s): 251\n",
      "[info] BciS5krYL80: Downloading 1 time ranges: 52.0-130.0\n",
      "[download] Destination: ./test/StimuliFinal/long/Lyrics/Hotel California (2013 Remaster) [BciS5krYL80].webm\n"
     ]
    },
    {
     "name": "stderr",
     "output_type": "stream",
     "text": [
      "Input #0, matroska,webm, from 'https://rr3---sn-gpn9-t0as.googlevideo.com/videoplayback?expire=1697588729&ei=mdEuZZiWMuWq_9EPj4e_qAc&ip=206.167.239.2&id=o-ABXTpmYYrB9qQH3jEHSom_ZdcA_zsQg--TkthDF-knRs&itag=251&source=youtube&requiressl=yes&mh=Hn&mm=31%2C29&mn=sn-gpn9-t0as%2Csn-t0a7lnee&ms=au%2Crdu&mv=m&mvi=3&pl=24&gcr=ca&initcwndbps=1101250&spc=UWF9f_KCzSxMpyj-0H2z6oFQNmIMdM8&vprv=1&svpuc=1&mime=audio%2Fwebm&gir=yes&clen=7185589&dur=391.401&lmt=1659118407972175&mt=1697566861&fvip=4&keepalive=yes&fexp=24007246&beids=24350018&c=ANDROID&txp=4532434&sparams=expire%2Cei%2Cip%2Cid%2Citag%2Csource%2Crequiressl%2Cgcr%2Cspc%2Cvprv%2Csvpuc%2Cmime%2Cgir%2Cclen%2Cdur%2Clmt&sig=AGM4YrMwRgIhAJ97cMY0R6KRjv0Ht4cVl2pPRehDMHtT7bzHPeITwAiTAiEA2XBzkqbPenctLmDohFJYP-bpH_QHNFwkPWeSwmhKwgQ%3D&lsparams=mh%2Cmm%2Cmn%2Cms%2Cmv%2Cmvi%2Cpl%2Cinitcwndbps&lsig=AK1ks_kwRgIhAOPOZlQAP3jzbgyXSufEqGYstekUtTAHQh9sFcQQ20pZAiEAi6Fn-A5j8SC8ZiYLSgpwcq6nPLAKby2D1PAJvi4j58o%3D':\n",
      "  Metadata:\n",
      "    encoder         : google/video-file\n",
      "  Duration: 00:06:31.40, start: -0.007000, bitrate: 146 kb/s\n",
      "  Stream #0:0(eng): Audio: opus, 48000 Hz, stereo, fltp (default)\n",
      "Stream mapping:\n",
      "  Stream #0:0 -> #0:0 (opus (native) -> opus (libopus))\n",
      "Press [q] to stop, [?] for help\n",
      "[libopus @ 0x559653646f80] No bit rate set. Defaulting to 96000 bps.\n",
      "Output #0, webm, to 'file:./test/StimuliFinal/long/Lyrics/Hotel California (2013 Remaster) [BciS5krYL80].webm.part':\n",
      "  Metadata:\n",
      "    encoder         : Lavf58.76.100\n",
      "  Stream #0:0(eng): Audio: opus, 48000 Hz, stereo, flt, 96 kb/s (default)\n",
      "    Metadata:\n",
      "      encoder         : Lavc58.134.100 libopus\n",
      "size=     768kB time=00:01:08.23 bitrate=  92.2kbits/s speed=23.8x    \r"
     ]
    },
    {
     "name": "stdout",
     "output_type": "stream",
     "text": [
      "[download] 100% of    1.01MiB in 00:00:03 at 298.46KiB/s\n",
      "[ExtractAudio] Destination: ./test/StimuliFinal/long/Lyrics/Hotel California (2013 Remaster) [BciS5krYL80].wav\n"
     ]
    },
    {
     "name": "stderr",
     "output_type": "stream",
     "text": [
      "size=    1032kB time=00:01:17.99 bitrate= 108.4kbits/s speed=24.2x    \n",
      "video:0kB audio:1004kB subtitle:0kB other streams:0kB global headers:0kB muxing overhead: 2.756258%\n"
     ]
    },
    {
     "name": "stdout",
     "output_type": "stream",
     "text": [
      "Deleting original file ./test/StimuliFinal/long/Lyrics/Hotel California (2013 Remaster) [BciS5krYL80].webm (pass -k to keep)\n",
      "Downloading long track : I Will Survive https://www.youtube.com/watch?v=6dYWe1c3OyU\n",
      "[youtube] Extracting URL: https://www.youtube.com/watch?v=6dYWe1c3OyU\n",
      "[youtube] 6dYWe1c3OyU: Downloading webpage\n",
      "[youtube] 6dYWe1c3OyU: Downloading ios player API JSON\n",
      "[youtube] 6dYWe1c3OyU: Downloading android player API JSON\n",
      "[youtube] 6dYWe1c3OyU: Downloading m3u8 information\n",
      "[info] 6dYWe1c3OyU: Downloading 1 format(s): 251\n",
      "[info] 6dYWe1c3OyU: Downloading 1 time ranges: 6.0-74.0\n",
      "[download] Destination: ./test/StimuliFinal/long/Lyrics/Gloria Gaynor - I Will Survive [6dYWe1c3OyU].webm\n"
     ]
    },
    {
     "name": "stderr",
     "output_type": "stream",
     "text": [
      "Input #0, matroska,webm, from 'https://rr3---sn-gpn9-t0as.googlevideo.com/videoplayback?expire=1697588736&ei=oNEuZcmGI42B_9EPldKqmAc&ip=206.167.239.2&id=o-APQQ5eu8nGInJ5zang79SBoL-e9eFaW6hDzKSGBscsfY&itag=251&source=youtube&requiressl=yes&mh=2C&mm=31%2C29&mn=sn-gpn9-t0as%2Csn-t0a7lnee&ms=au%2Crdu&mv=m&mvi=3&pl=24&gcr=ca&initcwndbps=1123750&spc=UWF9fz0LpnF3i-1psVzc1TlwpObShd0&vprv=1&svpuc=1&mime=audio%2Fwebm&gir=yes&clen=3301512&dur=194.381&lmt=1660241867227263&mt=1697567103&fvip=5&keepalive=yes&fexp=24007246&beids=24350018&c=ANDROID&txp=5532434&sparams=expire%2Cei%2Cip%2Cid%2Citag%2Csource%2Crequiressl%2Cgcr%2Cspc%2Cvprv%2Csvpuc%2Cmime%2Cgir%2Cclen%2Cdur%2Clmt&sig=AGM4YrMwRgIhAIGMTRqDIeZLBD6i2EkDLb9sSqgL4d1iDGdGG5-6soGRAiEAqmBinlp2TBMpvPZQnpsxD6M0i_KHrHbo-eEoG0Blft0%3D&lsparams=mh%2Cmm%2Cmn%2Cms%2Cmv%2Cmvi%2Cpl%2Cinitcwndbps&lsig=AK1ks_kwRQIhAMJgM1IcXMJcvO1QPE0u7rSseOqkmat3eygMjgTLbKh_AiAmuYsjnQLdf1JZmWnmA--cOuaZjM0VLn4KMYN3GrGPEw%3D%3D':\n",
      "  Metadata:\n",
      "    encoder         : google/video-file\n",
      "  Duration: 00:03:14.38, start: -0.007000, bitrate: 135 kb/s\n",
      "  Stream #0:0(eng): Audio: opus, 48000 Hz, stereo, fltp (default)\n",
      "Stream mapping:\n",
      "  Stream #0:0 -> #0:0 (opus (native) -> opus (libopus))\n",
      "Press [q] to stop, [?] for help\n",
      "[libopus @ 0x55ec2a603b00] No bit rate set. Defaulting to 96000 bps.\n",
      "Output #0, webm, to 'file:./test/StimuliFinal/long/Lyrics/Gloria Gaynor - I Will Survive [6dYWe1c3OyU].webm.part':\n",
      "  Metadata:\n",
      "    encoder         : Lavf58.76.100\n",
      "  Stream #0:0(eng): Audio: opus, 48000 Hz, stereo, flt, 96 kb/s (default)\n",
      "    Metadata:\n",
      "      encoder         : Lavc58.134.100 libopus\n",
      "size=     512kB time=00:00:51.27 bitrate=  81.8kbits/s speed=15.9x    \r"
     ]
    },
    {
     "name": "stdout",
     "output_type": "stream",
     "text": [
      "[download] 100% of  846.32KiB in 00:00:04 at 184.83KiB/s\n",
      "[ExtractAudio] Destination: ./test/StimuliFinal/long/Lyrics/Gloria Gaynor - I Will Survive [6dYWe1c3OyU].wav\n"
     ]
    },
    {
     "name": "stderr",
     "output_type": "stream",
     "text": [
      "size=     846kB time=00:01:07.99 bitrate= 102.0kbits/s speed=15.2x    \n",
      "video:0kB audio:822kB subtitle:0kB other streams:0kB global headers:0kB muxing overhead: 2.942770%\n"
     ]
    },
    {
     "name": "stdout",
     "output_type": "stream",
     "text": [
      "Deleting original file ./test/StimuliFinal/long/Lyrics/Gloria Gaynor - I Will Survive [6dYWe1c3OyU].webm (pass -k to keep)\n",
      "Downloading long track : Highway to Hell https://www.youtube.com/watch?v=l482T0yNkeo\n",
      "[youtube] Extracting URL: https://www.youtube.com/watch?v=l482T0yNkeo\n",
      "[youtube] l482T0yNkeo: Downloading webpage\n",
      "[youtube] l482T0yNkeo: Downloading ios player API JSON\n",
      "[youtube] l482T0yNkeo: Downloading android player API JSON\n",
      "[youtube] l482T0yNkeo: Downloading m3u8 information\n",
      "[info] l482T0yNkeo: Downloading 1 format(s): 251\n",
      "[info] l482T0yNkeo: Downloading 1 time ranges: 17.0-70.0\n",
      "[download] Destination: ./test/StimuliFinal/long/Lyrics/AC⧸DC - Highway to Hell (Official Video) [l482T0yNkeo].webm\n"
     ]
    },
    {
     "name": "stderr",
     "output_type": "stream",
     "text": [
      "Input #0, matroska,webm, from 'https://rr3---sn-gpn9-t0as.googlevideo.com/videoplayback?expire=1697588742&ei=ptEuZfGqLvmX_9EP9Ja5yAg&ip=206.167.239.2&id=o-AIRufb3X3m1uuyNWLGE4dFAP_OLTxkP9ia5fb2PCVu6z&itag=251&source=youtube&requiressl=yes&mh=C1&mm=31%2C29&mn=sn-gpn9-t0as%2Csn-t0a7sn7d&ms=au%2Crdu&mv=m&mvi=3&pl=24&gcr=ca&initcwndbps=1101250&spc=UWF9f5b6-zrjMFDnR-W62s93s9UMcLw&vprv=1&svpuc=1&mime=audio%2Fwebm&gir=yes&clen=3343601&dur=207.061&lmt=1634270984317925&mt=1697566861&fvip=2&keepalive=yes&fexp=24007246&beids=24350018&c=ANDROID&txp=5532434&sparams=expire%2Cei%2Cip%2Cid%2Citag%2Csource%2Crequiressl%2Cgcr%2Cspc%2Cvprv%2Csvpuc%2Cmime%2Cgir%2Cclen%2Cdur%2Clmt&sig=AGM4YrMwRAIgKIjV-Yk7nsPtdCvHHvhDMbzbnjmUtJFeoM1Chsdv9vcCIGURiuHMbip90zMQWEoyLXPMeo685zZa0B-fa8yzvAgz&lsparams=mh%2Cmm%2Cmn%2Cms%2Cmv%2Cmvi%2Cpl%2Cinitcwndbps&lsig=AK1ks_kwRgIhAIMXVLVCQ-ywZ11L3klsIpIebIyM68ls_jLLEs-0kGwzAiEApyaUWJbsA0IPHOAKVHdscuSRNDXtzUA4Gay34B1aifU%3D':\n",
      "  Metadata:\n",
      "    encoder         : google/video-file\n",
      "  Duration: 00:03:27.06, start: -0.007000, bitrate: 129 kb/s\n",
      "  Stream #0:0(eng): Audio: opus, 48000 Hz, stereo, fltp (default)\n",
      "Stream mapping:\n",
      "  Stream #0:0 -> #0:0 (opus (native) -> opus (libopus))\n",
      "Press [q] to stop, [?] for help\n",
      "[libopus @ 0x562b2c567f80] No bit rate set. Defaulting to 96000 bps.\n",
      "Output #0, webm, to 'file:./test/StimuliFinal/long/Lyrics/AC⧸DC - Highway to Hell (Official Video) [l482T0yNkeo].webm.part':\n",
      "  Metadata:\n",
      "    encoder         : Lavf58.76.100\n",
      "  Stream #0:0(eng): Audio: opus, 48000 Hz, stereo, flt, 96 kb/s (default)\n",
      "    Metadata:\n",
      "      encoder         : Lavc58.134.100 libopus\n",
      "size=     256kB time=00:00:38.91 bitrate=  53.9kbits/s speed=15.4x    \r"
     ]
    },
    {
     "name": "stdout",
     "output_type": "stream",
     "text": [
      "[download] 100% of  622.30KiB in 00:00:03 at 200.00KiB/s\n",
      "[ExtractAudio] Destination: ./test/StimuliFinal/long/Lyrics/AC⧸DC - Highway to Hell (Official Video) [l482T0yNkeo].wav\n",
      "Deleting original file ./test/StimuliFinal/long/Lyrics/AC⧸DC - Highway to Hell (Official Video) [l482T0yNkeo].webm (pass -k to keep)\n"
     ]
    },
    {
     "name": "stderr",
     "output_type": "stream",
     "text": [
      "size=     622kB time=00:00:52.99 bitrate=  96.2kbits/s speed=18.3x    \n",
      "video:0kB audio:603kB subtitle:0kB other streams:0kB global headers:0kB muxing overhead: 3.145501%\n"
     ]
    },
    {
     "name": "stdout",
     "output_type": "stream",
     "text": [
      "Downloading long track : Another Brick In The Wall (Part 1) https://www.youtube.com/watch?v=-cfJqYtmmqA\n",
      "[youtube] Extracting URL: https://www.youtube.com/watch?v=-cfJqYtmmqA\n",
      "[youtube] -cfJqYtmmqA: Downloading webpage\n",
      "[youtube] -cfJqYtmmqA: Downloading ios player API JSON\n",
      "[youtube] -cfJqYtmmqA: Downloading android player API JSON\n",
      "[youtube] -cfJqYtmmqA: Downloading m3u8 information\n",
      "[info] -cfJqYtmmqA: Downloading 1 format(s): 251\n",
      "[info] -cfJqYtmmqA: Downloading 1 time ranges: 14.0-74.0\n",
      "[download] Destination: ./test/StimuliFinal/long/Lyrics/Another Brick In The Wall (Part 1) [-cfJqYtmmqA].webm\n"
     ]
    },
    {
     "name": "stderr",
     "output_type": "stream",
     "text": [
      "Input #0, matroska,webm, from 'https://rr1---sn-gpn9-t0as.googlevideo.com/videoplayback?expire=1697588747&ei=q9EuZc_rJu-G_9EPvoOZ4A8&ip=206.167.239.2&id=o-AAW4PJ0t1IPDDt1koSpumH0g3sXyKveCcpNuPz4uGM_-&itag=251&source=youtube&requiressl=yes&mh=jv&mm=31%2C29&mn=sn-gpn9-t0as%2Csn-t0a7sn7d&ms=au%2Crdu&mv=m&mvi=1&pl=24&gcr=ca&initcwndbps=1101250&spc=UWF9f_q9uzLghJM3KiGbgQ8m51LzR_g&vprv=1&svpuc=1&mime=audio%2Fwebm&gir=yes&clen=3128434&dur=191.761&lmt=1592564865863361&mt=1697566861&fvip=2&keepalive=yes&fexp=24007246&beids=24350018&c=ANDROID&txp=5511222&sparams=expire%2Cei%2Cip%2Cid%2Citag%2Csource%2Crequiressl%2Cgcr%2Cspc%2Cvprv%2Csvpuc%2Cmime%2Cgir%2Cclen%2Cdur%2Clmt&sig=AGM4YrMwRAIgDI4hsfv7sOIJpnCG5UDIshaTUQy6D-PKKFfpwdC5MOcCIEsY9WZ23eIZQsZuEk9EoraobKEsAWCJHZGpBgBj34dp&lsparams=mh%2Cmm%2Cmn%2Cms%2Cmv%2Cmvi%2Cpl%2Cinitcwndbps&lsig=AK1ks_kwRQIhAL9JfnI30FRKWaYBDeEufcceGxwmSe6eADYyvXWyoO3jAiAFcMVP_ShhdGGrXX5HxmpmjUwb0XzbJCJp6fXnlKQvCA%3D%3D':\n",
      "  Metadata:\n",
      "    encoder         : google/video-file\n",
      "  Duration: 00:03:11.76, start: -0.007000, bitrate: 130 kb/s\n",
      "  Stream #0:0(eng): Audio: opus, 48000 Hz, stereo, fltp (default)\n",
      "Stream mapping:\n",
      "  Stream #0:0 -> #0:0 (opus (native) -> opus (libopus))\n",
      "Press [q] to stop, [?] for help\n",
      "[libopus @ 0x55a55ae3df80] No bit rate set. Defaulting to 96000 bps.\n",
      "Output #0, webm, to 'file:./test/StimuliFinal/long/Lyrics/Another Brick In The Wall (Part 1) [-cfJqYtmmqA].webm.part':\n",
      "  Metadata:\n",
      "    encoder         : Lavf58.76.100\n",
      "  Stream #0:0(eng): Audio: opus, 48000 Hz, stereo, flt, 96 kb/s (default)\n",
      "    Metadata:\n",
      "      encoder         : Lavc58.134.100 libopus\n",
      "size=     256kB time=00:00:35.81 bitrate=  58.6kbits/s speed=19.7x    \r"
     ]
    },
    {
     "name": "stdout",
     "output_type": "stream",
     "text": [
      "[download] 100% of  705.26KiB in 00:00:02 at 260.44KiB/s\n"
     ]
    },
    {
     "name": "stderr",
     "output_type": "stream",
     "text": [
      "size=     705kB time=00:00:59.99 bitrate=  96.3kbits/s speed=24.2x    \n",
      "video:0kB audio:684kB subtitle:0kB other streams:0kB global headers:0kB muxing overhead: 3.133488%\n"
     ]
    },
    {
     "name": "stdout",
     "output_type": "stream",
     "text": [
      "[ExtractAudio] Destination: ./test/StimuliFinal/long/Lyrics/Another Brick In The Wall (Part 1) [-cfJqYtmmqA].wav\n",
      "Deleting original file ./test/StimuliFinal/long/Lyrics/Another Brick In The Wall (Part 1) [-cfJqYtmmqA].webm (pass -k to keep)\n",
      "Downloading long track : It's Raining Men https://www.youtube.com/watch?v=l5aZJBLAu1E\n",
      "[youtube] Extracting URL: https://www.youtube.com/watch?v=l5aZJBLAu1E\n",
      "[youtube] l5aZJBLAu1E: Downloading webpage\n",
      "[youtube] l5aZJBLAu1E: Downloading ios player API JSON\n",
      "[youtube] l5aZJBLAu1E: Downloading android player API JSON\n",
      "[youtube] l5aZJBLAu1E: Downloading m3u8 information\n",
      "[info] l5aZJBLAu1E: Downloading 1 format(s): 251\n",
      "[info] l5aZJBLAu1E: Downloading 1 time ranges: 28.0-90.0\n",
      "[download] Destination: ./test/StimuliFinal/long/Lyrics/The Weather Girls - It's Raining Men (Video) [l5aZJBLAu1E].webm\n"
     ]
    },
    {
     "name": "stderr",
     "output_type": "stream",
     "text": [
      "Input #0, matroska,webm, from 'https://rr1---sn-gpn9-t0as.googlevideo.com/videoplayback?expire=1697588752&ei=sNEuZZuxD_zm0_wPn-S0gAw&ip=206.167.239.2&id=o-AC4gT6NfPFvEkJM9t1jQnVrLHvE6mxzsq1UgKZujLZDP&itag=251&source=youtube&requiressl=yes&mh=Pg&mm=31%2C29&mn=sn-gpn9-t0as%2Csn-t0a7sn7d&ms=au%2Crdu&mv=m&mvi=1&pl=24&gcr=ca&initcwndbps=1101250&spc=UWF9f-woz6aRjq8BQE4f-BILoVmfl5M&vprv=1&svpuc=1&mime=audio%2Fwebm&gir=yes&clen=4774666&dur=294.121&lmt=1575227259819326&mt=1697566861&fvip=4&keepalive=yes&fexp=24007246&beids=24350018&c=ANDROID&txp=5531432&sparams=expire%2Cei%2Cip%2Cid%2Citag%2Csource%2Crequiressl%2Cgcr%2Cspc%2Cvprv%2Csvpuc%2Cmime%2Cgir%2Cclen%2Cdur%2Clmt&sig=AGM4YrMwRAIgBG9Kc__CAEZfE_0Xsfq0cJxNnRA_7rrQZAtGK7jY9AYCIDkuxpCsigj2Cnod9J28UYwvmWTqHRbMGRLyJWaoKMvB&lsparams=mh%2Cmm%2Cmn%2Cms%2Cmv%2Cmvi%2Cpl%2Cinitcwndbps&lsig=AK1ks_kwRQIhANOG_munLZJJysqutJGmjldtKG6Ge-k57RtOinBlpFgGAiANfD6jazOn_2Rs-UW0XS_G_OJYIpHqVHDDlJbcejDWUg%3D%3D':\n",
      "  Metadata:\n",
      "    encoder         : google/video-file\n",
      "  Duration: 00:04:54.12, start: -0.007000, bitrate: 129 kb/s\n",
      "  Stream #0:0(eng): Audio: opus, 48000 Hz, stereo, fltp (default)\n",
      "Stream mapping:\n",
      "  Stream #0:0 -> #0:0 (opus (native) -> opus (libopus))\n",
      "Press [q] to stop, [?] for help\n",
      "[libopus @ 0x55cddb8fff80] No bit rate set. Defaulting to 96000 bps.\n",
      "Output #0, webm, to 'file:./test/StimuliFinal/long/Lyrics/The Weather Girls - It's Raining Men (Video) [l5aZJBLAu1E].webm.part':\n",
      "  Metadata:\n",
      "    encoder         : Lavf58.76.100\n",
      "  Stream #0:0(eng): Audio: opus, 48000 Hz, stereo, flt, 96 kb/s (default)\n",
      "    Metadata:\n",
      "      encoder         : Lavc58.134.100 libopus\n",
      "size=     512kB time=00:00:46.45 bitrate=  90.3kbits/s speed=18.8x    \r"
     ]
    },
    {
     "name": "stdout",
     "output_type": "stream",
     "text": [
      "[download] 100% of  742.51KiB in 00:00:03 at 235.66KiB/s\n",
      "[ExtractAudio] Destination: ./test/StimuliFinal/long/Lyrics/The Weather Girls - It's Raining Men (Video) [l5aZJBLAu1E].wav\n",
      "Deleting original file ./test/StimuliFinal/long/Lyrics/The Weather Girls - It's Raining Men (Video) [l5aZJBLAu1E].webm (pass -k to keep)\n"
     ]
    },
    {
     "name": "stderr",
     "output_type": "stream",
     "text": [
      "size=     743kB time=00:01:01.99 bitrate=  98.1kbits/s speed=21.5x    \n",
      "video:0kB audio:720kB subtitle:0kB other streams:0kB global headers:0kB muxing overhead: 3.069476%\n"
     ]
    },
    {
     "name": "stdout",
     "output_type": "stream",
     "text": [
      "Downloading long track : Babooshka https://www.youtube.com/watch?v=3NMhpI2-pLU\n",
      "[youtube] Extracting URL: https://www.youtube.com/watch?v=3NMhpI2-pLU\n",
      "[youtube] 3NMhpI2-pLU: Downloading webpage\n",
      "[youtube] 3NMhpI2-pLU: Downloading ios player API JSON\n",
      "[youtube] 3NMhpI2-pLU: Downloading android player API JSON\n",
      "[youtube] 3NMhpI2-pLU: Downloading m3u8 information\n",
      "[info] 3NMhpI2-pLU: Downloading 1 format(s): 251\n",
      "[info] 3NMhpI2-pLU: Downloading 1 time ranges: 17.0-72.0\n",
      "[download] Destination: ./test/StimuliFinal/long/Lyrics/Babooshka (2018 Remaster) [3NMhpI2-pLU].webm\n"
     ]
    },
    {
     "name": "stderr",
     "output_type": "stream",
     "text": [
      "Input #0, matroska,webm, from 'https://rr1---sn-gpn9-t0as.googlevideo.com/videoplayback?expire=1697588757&ei=tdEuZfCYGpKV_9EPtcWosA4&ip=206.167.239.2&id=o-AHcuPwhUZohi-d-kfwN98Fhyf7BTPmuDNVhYqeDk96mr&itag=251&source=youtube&requiressl=yes&mh=ZM&mm=31%2C29&mn=sn-gpn9-t0as%2Csn-t0a7lnee&ms=au%2Crdu&mv=m&mvi=1&pl=24&gcr=ca&initcwndbps=1101250&spc=UWF9f_C_WlIQ2kC8cZs-iC_hRCodScI&vprv=1&svpuc=1&mime=audio%2Fwebm&gir=yes&clen=3294624&dur=199.241&lmt=1571197585855182&mt=1697566861&fvip=4&keepalive=yes&fexp=24007246&beids=24472446&c=ANDROID&txp=2301222&sparams=expire%2Cei%2Cip%2Cid%2Citag%2Csource%2Crequiressl%2Cgcr%2Cspc%2Cvprv%2Csvpuc%2Cmime%2Cgir%2Cclen%2Cdur%2Clmt&sig=AGM4YrMwRQIgcMO59JsBZa47H8t-qqCySoNtEXPvKuw1rhACM19TspICIQC0iz19t_BUrKOf8vR9OKupf7peyia-N7E20IWzLMHY0g%3D%3D&lsparams=mh%2Cmm%2Cmn%2Cms%2Cmv%2Cmvi%2Cpl%2Cinitcwndbps&lsig=AK1ks_kwRQIgKgI68rrg9XmtvUidPfisXSZcE-PrSd5me0acqGuMiFgCIQDKLK5vy7izjUh5Cm0PZnz8Cd5-LGY0AvJPeCVC6FawWw%3D%3D':\n",
      "  Metadata:\n",
      "    encoder         : google/video-file\n",
      "  Duration: 00:03:19.24, start: -0.007000, bitrate: 132 kb/s\n",
      "  Stream #0:0(eng): Audio: opus, 48000 Hz, stereo, fltp (default)\n",
      "Stream mapping:\n",
      "  Stream #0:0 -> #0:0 (opus (native) -> opus (libopus))\n",
      "Press [q] to stop, [?] for help\n",
      "[libopus @ 0x56235da10f80] No bit rate set. Defaulting to 96000 bps.\n",
      "Output #0, webm, to 'file:./test/StimuliFinal/long/Lyrics/Babooshka (2018 Remaster) [3NMhpI2-pLU].webm.part':\n",
      "  Metadata:\n",
      "    encoder         : Lavf58.76.100\n",
      "  Stream #0:0(eng): Audio: opus, 48000 Hz, stereo, flt, 96 kb/s (default)\n",
      "    Metadata:\n",
      "      encoder         : Lavc58.134.100 libopus\n",
      "size=     256kB time=00:00:41.23 bitrate=  50.9kbits/s speed=17.9x    \r"
     ]
    },
    {
     "name": "stdout",
     "output_type": "stream",
     "text": [
      "[download] 100% of  655.69KiB in 00:00:02 at 220.05KiB/s\n",
      "[ExtractAudio] Destination: ./test/StimuliFinal/long/Lyrics/Babooshka (2018 Remaster) [3NMhpI2-pLU].wav\n",
      "Deleting original file ./test/StimuliFinal/long/Lyrics/Babooshka (2018 Remaster) [3NMhpI2-pLU].webm (pass -k to keep)\n"
     ]
    },
    {
     "name": "stderr",
     "output_type": "stream",
     "text": [
      "size=     656kB time=00:00:54.99 bitrate=  97.7kbits/s speed=20.4x    \n",
      "video:0kB audio:636kB subtitle:0kB other streams:0kB global headers:0kB muxing overhead: 3.095831%\n"
     ]
    },
    {
     "name": "stdout",
     "output_type": "stream",
     "text": [
      "Downloading long track : Why You Wanna Trip on Me https://www.youtube.com/watch?v=C2FUzoy-UCg\n",
      "[youtube] Extracting URL: https://www.youtube.com/watch?v=C2FUzoy-UCg\n",
      "[youtube] C2FUzoy-UCg: Downloading webpage\n",
      "[youtube] C2FUzoy-UCg: Downloading ios player API JSON\n",
      "[youtube] C2FUzoy-UCg: Downloading android player API JSON\n",
      "[youtube] C2FUzoy-UCg: Downloading m3u8 information\n",
      "[info] C2FUzoy-UCg: Downloading 1 format(s): 251\n",
      "[info] C2FUzoy-UCg: Downloading 1 time ranges: 53.0-106.0\n",
      "[download] Destination: ./test/StimuliFinal/long/Lyrics/Michael Jackson - Why You Wanna Trip on Me (Audio) [C2FUzoy-UCg].webm\n"
     ]
    },
    {
     "name": "stderr",
     "output_type": "stream",
     "text": [
      "Input #0, matroska,webm, from 'https://rr3---sn-gpn9-t0as.googlevideo.com/videoplayback?expire=1697588762&ei=utEuZYaIAu6N_9EPuNC-gAc&ip=206.167.239.2&id=o-AE1TXasjgWDPQsOtZcTOCnq1v-Mrf2ek2m9_sIB8oZRi&itag=251&source=youtube&requiressl=yes&mh=7R&mm=31%2C29&mn=sn-gpn9-t0as%2Csn-t0a7ln7d&ms=au%2Crdu&mv=m&mvi=3&pl=24&gcr=ca&initcwndbps=1101250&spc=UWF9f13Ktah8sK7c9upVLgI_ck2Twgg&vprv=1&svpuc=1&mime=audio%2Fwebm&gir=yes&clen=5257777&dur=324.901&lmt=1686012877421437&mt=1697566861&fvip=4&keepalive=yes&fexp=24007246&beids=24350018&c=ANDROID&txp=4532434&sparams=expire%2Cei%2Cip%2Cid%2Citag%2Csource%2Crequiressl%2Cgcr%2Cspc%2Cvprv%2Csvpuc%2Cmime%2Cgir%2Cclen%2Cdur%2Clmt&sig=AGM4YrMwRgIhAKAo5PnF0vCb-WvaITKA8XW12dwqraTxeak-lqu5nYZeAiEAxIBJfirCX-DUPeRCiMXv8T3YPAbas_HGVIJg_CPMN-k%3D&lsparams=mh%2Cmm%2Cmn%2Cms%2Cmv%2Cmvi%2Cpl%2Cinitcwndbps&lsig=AK1ks_kwRQIgQS8DvMCsHtNJGeWlFfl5nn5I-rTM5xEnQAM7lO76p-wCIQDMpeQL5v85RQssEwPqXtNadA-zyh8Pr5ZPZB1HW5WxyA%3D%3D':\n",
      "  Metadata:\n",
      "    encoder         : google/video-file\n",
      "  Duration: 00:05:24.90, start: -0.007000, bitrate: 129 kb/s\n",
      "  Stream #0:0(eng): Audio: opus, 48000 Hz, stereo, fltp (default)\n",
      "Stream mapping:\n",
      "  Stream #0:0 -> #0:0 (opus (native) -> opus (libopus))\n",
      "Press [q] to stop, [?] for help\n",
      "[libopus @ 0x55e1f6fccf80] No bit rate set. Defaulting to 96000 bps.\n",
      "Output #0, webm, to 'file:./test/StimuliFinal/long/Lyrics/Michael Jackson - Why You Wanna Trip on Me (Audio) [C2FUzoy-UCg].webm.part':\n",
      "  Metadata:\n",
      "    encoder         : Lavf58.76.100\n",
      "  Stream #0:0(eng): Audio: opus, 48000 Hz, stereo, flt, 96 kb/s (default)\n",
      "    Metadata:\n",
      "      encoder         : Lavc58.134.100 libopus\n",
      "size=     256kB time=00:00:33.21 bitrate=  63.1kbits/s speed=32.9x    \r"
     ]
    },
    {
     "name": "stdout",
     "output_type": "stream",
     "text": [
      "[download] 100% of  619.18KiB in 00:00:01 at 350.26KiB/s\n",
      "[ExtractAudio] Destination: ./test/StimuliFinal/long/Lyrics/Michael Jackson - Why You Wanna Trip on Me (Audio) [C2FUzoy-UCg].wav\n",
      "Deleting original file ./test/StimuliFinal/long/Lyrics/Michael Jackson - Why You Wanna Trip on Me (Audio) [C2FUzoy-UCg].webm (pass -k to keep)\n"
     ]
    },
    {
     "name": "stderr",
     "output_type": "stream",
     "text": [
      "size=     619kB time=00:00:52.99 bitrate=  95.7kbits/s speed=35.7x    \n",
      "video:0kB audio:600kB subtitle:0kB other streams:0kB global headers:0kB muxing overhead: 3.161853%\n"
     ]
    },
    {
     "name": "stdout",
     "output_type": "stream",
     "text": [
      "Downloading long track : Everybody Wants To Rule The World https://www.youtube.com/watch?v=znDgBy2mHbc\n",
      "[youtube] Extracting URL: https://www.youtube.com/watch?v=znDgBy2mHbc\n",
      "[youtube] znDgBy2mHbc: Downloading webpage\n",
      "[youtube] znDgBy2mHbc: Downloading ios player API JSON\n",
      "[youtube] znDgBy2mHbc: Downloading android player API JSON\n",
      "[youtube] znDgBy2mHbc: Downloading m3u8 information\n",
      "[info] znDgBy2mHbc: Downloading 1 format(s): 251\n",
      "[info] znDgBy2mHbc: Downloading 1 time ranges: 65.0-123.0\n",
      "[download] Destination: ./test/StimuliFinal/long/Lyrics/Tears For Fears - Everybody Wants To Rule The World (Official Archive Video) [znDgBy2mHbc].webm\n"
     ]
    },
    {
     "name": "stderr",
     "output_type": "stream",
     "text": [
      "Input #0, matroska,webm, from 'https://rr2---sn-gpn9-t0as.googlevideo.com/videoplayback?expire=1697588766&ei=vtEuZfbmCo2o_9EP15yK6Aw&ip=206.167.239.2&id=o-AApSJhr8dz-_3u2QdcCs3Qd0xnWKBx18stRslyCABQLy&itag=251&source=youtube&requiressl=yes&mh=r0&mm=31%2C29&mn=sn-gpn9-t0as%2Csn-t0a7lnee&ms=au%2Crdu&mv=m&mvi=2&pl=24&gcr=ca&initcwndbps=1101250&spc=UWF9f8awhltSo6RYrYJKSp6xheXttVA&vprv=1&svpuc=1&mime=audio%2Fwebm&gir=yes&clen=4226492&dur=251.101&lmt=1686006393299454&mt=1697566861&fvip=1&keepalive=yes&fexp=24007246&beids=24350018&c=ANDROID&txp=4532434&sparams=expire%2Cei%2Cip%2Cid%2Citag%2Csource%2Crequiressl%2Cgcr%2Cspc%2Cvprv%2Csvpuc%2Cmime%2Cgir%2Cclen%2Cdur%2Clmt&sig=AGM4YrMwRQIhANNJU-TZq6ZgTJ4-7t7g7md9QmMBBfcgYDIfgrujIXkFAiAXfwLDd_kbhRbSDFb4rnq46li0xFbbuExNXudCdi9DZw%3D%3D&lsparams=mh%2Cmm%2Cmn%2Cms%2Cmv%2Cmvi%2Cpl%2Cinitcwndbps&lsig=AK1ks_kwRgIhAMU4IolYlpFbbBQYI165R1Itj6aSo7GXo16H4Vji4AiuAiEAlgjUz0P78DRBHpbnIHKlyBrY3WdA6SexQRulEZu_LHY%3D':\n",
      "  Metadata:\n",
      "    encoder         : google/video-file\n",
      "  Duration: 00:04:11.10, start: -0.007000, bitrate: 134 kb/s\n",
      "  Stream #0:0(eng): Audio: opus, 48000 Hz, stereo, fltp (default)\n",
      "Stream mapping:\n",
      "  Stream #0:0 -> #0:0 (opus (native) -> opus (libopus))\n",
      "Press [q] to stop, [?] for help\n",
      "[libopus @ 0x5605a515f380] No bit rate set. Defaulting to 96000 bps.\n",
      "Output #0, webm, to 'file:./test/StimuliFinal/long/Lyrics/Tears For Fears - Everybody Wants To Rule The World (Official Archive Video) [znDgBy2mHbc].webm.part':\n",
      "  Metadata:\n",
      "    encoder         : Lavf58.76.100\n",
      "  Stream #0:0(eng): Audio: opus, 48000 Hz, stereo, flt, 96 kb/s (default)\n",
      "    Metadata:\n",
      "      encoder         : Lavc58.134.100 libopus\n",
      "size=     256kB time=00:00:39.19 bitrate=  53.5kbits/s speed=16.7x    \r"
     ]
    },
    {
     "name": "stdout",
     "output_type": "stream",
     "text": [
      "[download] 100% of  684.54KiB in 00:00:03 at 178.87KiB/s\n"
     ]
    },
    {
     "name": "stderr",
     "output_type": "stream",
     "text": [
      "size=     685kB time=00:00:57.99 bitrate=  96.7kbits/s speed=16.1x    \n",
      "video:0kB audio:664kB subtitle:0kB other streams:0kB global headers:0kB muxing overhead: 3.120656%\n"
     ]
    },
    {
     "name": "stdout",
     "output_type": "stream",
     "text": [
      "[ExtractAudio] Destination: ./test/StimuliFinal/long/Lyrics/Tears For Fears - Everybody Wants To Rule The World (Official Archive Video) [znDgBy2mHbc].wav\n",
      "Deleting original file ./test/StimuliFinal/long/Lyrics/Tears For Fears - Everybody Wants To Rule The World (Official Archive Video) [znDgBy2mHbc].webm (pass -k to keep)\n",
      "Downloading long track : Murder by Numbers https://www.youtube.com/watch?v=tUq9fURN2VQ\n",
      "[youtube] Extracting URL: https://www.youtube.com/watch?v=tUq9fURN2VQ\n",
      "[youtube] tUq9fURN2VQ: Downloading webpage\n",
      "[youtube] tUq9fURN2VQ: Downloading ios player API JSON\n",
      "[youtube] tUq9fURN2VQ: Downloading android player API JSON\n",
      "[youtube] tUq9fURN2VQ: Downloading m3u8 information\n",
      "[info] tUq9fURN2VQ: Downloading 1 format(s): 251\n",
      "[info] tUq9fURN2VQ: Downloading 1 time ranges: 19.0-79.0\n",
      "[download] Destination: ./test/StimuliFinal/long/Lyrics/Murder By Numbers [tUq9fURN2VQ].webm\n"
     ]
    },
    {
     "name": "stderr",
     "output_type": "stream",
     "text": [
      "Input #0, matroska,webm, from 'https://rr4---sn-gpn9-t0as.googlevideo.com/videoplayback?expire=1697588771&ei=w9EuZZDhJ7PigwPQiqLoBg&ip=206.167.239.2&id=o-ALJSVrklnmXTuZKBCsHbckK7urjkPyCH-ST_0qQ4w1hD&itag=251&source=youtube&requiressl=yes&mh=5u&mm=31%2C29&mn=sn-gpn9-t0as%2Csn-t0a7lnee&ms=au%2Crdu&mv=m&mvi=4&pl=24&gcr=ca&initcwndbps=1101250&spc=UWF9f7ajlEYQBmWxIM-4eI_pi7ededQ&vprv=1&svpuc=1&mime=audio%2Fwebm&gir=yes&clen=4598767&dur=276.141&lmt=1577811361723687&mt=1697566861&fvip=2&keepalive=yes&fexp=24007246&beids=24350018&c=ANDROID&txp=2301222&sparams=expire%2Cei%2Cip%2Cid%2Citag%2Csource%2Crequiressl%2Cgcr%2Cspc%2Cvprv%2Csvpuc%2Cmime%2Cgir%2Cclen%2Cdur%2Clmt&sig=AGM4YrMwRgIhAMh8FLmAXIID9maQGW2e8UixLFsGGfe5y4_bZE3EmSwrAiEA691U_J54e_FLH0wWIE9vv4vbp5dNxN3IgQP2rsewMEk%3D&lsparams=mh%2Cmm%2Cmn%2Cms%2Cmv%2Cmvi%2Cpl%2Cinitcwndbps&lsig=AK1ks_kwRAIgRDbJ2Z9f1v5FkKQJy24Es-zT2eY5Ty86EjZt-jgQSFgCIFlcpSkmngR8gjVwm222gVLj2kRVcRRv-qIIv7Q4OWfD':\n",
      "  Metadata:\n",
      "    encoder         : google/video-file\n",
      "  Duration: 00:04:36.14, start: -0.007000, bitrate: 133 kb/s\n",
      "  Stream #0:0(eng): Audio: opus, 48000 Hz, stereo, fltp (default)\n",
      "Stream mapping:\n",
      "  Stream #0:0 -> #0:0 (opus (native) -> opus (libopus))\n",
      "Press [q] to stop, [?] for help\n",
      "[libopus @ 0x564790673f80] No bit rate set. Defaulting to 96000 bps.\n",
      "Output #0, webm, to 'file:./test/StimuliFinal/long/Lyrics/Murder By Numbers [tUq9fURN2VQ].webm.part':\n",
      "  Metadata:\n",
      "    encoder         : Lavf58.76.100\n",
      "  Stream #0:0(eng): Audio: opus, 48000 Hz, stereo, flt, 96 kb/s (default)\n",
      "    Metadata:\n",
      "      encoder         : Lavc58.134.100 libopus\n",
      "size=     512kB time=00:00:48.93 bitrate=  85.7kbits/s speed=  16x    \r"
     ]
    },
    {
     "name": "stdout",
     "output_type": "stream",
     "text": [
      "[download] 100% of  736.62KiB in 00:00:03 at 200.01KiB/s\n",
      "[ExtractAudio] Destination: ./test/StimuliFinal/long/Lyrics/Murder By Numbers [tUq9fURN2VQ].wav\n"
     ]
    },
    {
     "name": "stderr",
     "output_type": "stream",
     "text": [
      "size=     737kB time=00:00:59.99 bitrate= 100.6kbits/s speed=17.6x    \n",
      "video:0kB audio:715kB subtitle:0kB other streams:0kB global headers:0kB muxing overhead: 2.996084%\n"
     ]
    },
    {
     "name": "stdout",
     "output_type": "stream",
     "text": [
      "Deleting original file ./test/StimuliFinal/long/Lyrics/Murder By Numbers [tUq9fURN2VQ].webm (pass -k to keep)\n",
      "Downloading long track : Material Girl https://www.youtube.com/watch?v=JO9h1fQU_-k\n",
      "[youtube] Extracting URL: https://www.youtube.com/watch?v=JO9h1fQU_-k\n",
      "[youtube] JO9h1fQU_-k: Downloading webpage\n",
      "[youtube] JO9h1fQU_-k: Downloading ios player API JSON\n",
      "[youtube] JO9h1fQU_-k: Downloading android player API JSON\n",
      "[youtube] JO9h1fQU_-k: Downloading m3u8 information\n",
      "[info] JO9h1fQU_-k: Downloading 1 format(s): 251\n",
      "[info] JO9h1fQU_-k: Downloading 1 time ranges: 25.0-75.0\n",
      "[download] Destination: ./test/StimuliFinal/long/Lyrics/Material Girl [JO9h1fQU_-k].webm\n"
     ]
    },
    {
     "name": "stderr",
     "output_type": "stream",
     "text": [
      "Input #0, matroska,webm, from 'https://rr1---sn-gpn9-t0as.googlevideo.com/videoplayback?expire=1697588778&ei=ytEuZc-eF-is_9EPncaqgAE&ip=206.167.239.2&id=o-AFz-qAIC9KxRiRdpEMizIuzoLLgs8sr4AqTAzcwTr0iz&itag=251&source=youtube&requiressl=yes&mh=bQ&mm=31%2C29&mn=sn-gpn9-t0as%2Csn-t0a7lnee&ms=au%2Crdu&mv=m&mvi=1&pcm2cms=yes&pl=24&gcr=ca&initcwndbps=1101250&spc=UWF9f1Ki2M0N7EdVEY5xejVpGlDoIwI&vprv=1&svpuc=1&mime=audio%2Fwebm&gir=yes&clen=3868801&dur=240.301&lmt=1590602413638714&mt=1697566861&fvip=2&keepalive=yes&fexp=24007246&beids=24350018&c=ANDROID&txp=5531432&sparams=expire%2Cei%2Cip%2Cid%2Citag%2Csource%2Crequiressl%2Cgcr%2Cspc%2Cvprv%2Csvpuc%2Cmime%2Cgir%2Cclen%2Cdur%2Clmt&sig=AGM4YrMwRQIgEmK_-g2UL5lYlhY3Sbg4UoFkm5_GDri6IcCtSaeRUyICIQDv-gzIKTsGBavxXenUQMxMtUm_EFdf6LP8zIWg6y6y3w%3D%3D&lsparams=mh%2Cmm%2Cmn%2Cms%2Cmv%2Cmvi%2Cpcm2cms%2Cpl%2Cinitcwndbps&lsig=AK1ks_kwRAIgI6YCACtF5FZuv_nRvNb3Ytmr7FB_jt-FjfDSdZR7oHsCIDZzSVVbvrbjW5Ft0faDLg4xJWpQRMI4kmv000UBOpT1':\n",
      "  Metadata:\n",
      "    encoder         : google/video-file\n",
      "  Duration: 00:04:00.30, start: -0.007000, bitrate: 128 kb/s\n",
      "  Stream #0:0(eng): Audio: opus, 48000 Hz, stereo, fltp (default)\n",
      "Stream mapping:\n",
      "  Stream #0:0 -> #0:0 (opus (native) -> opus (libopus))\n",
      "Press [q] to stop, [?] for help\n",
      "[libopus @ 0x55a2ceca4140] No bit rate set. Defaulting to 96000 bps.\n",
      "Output #0, webm, to 'file:./test/StimuliFinal/long/Lyrics/Material Girl [JO9h1fQU_-k].webm.part':\n",
      "  Metadata:\n",
      "    encoder         : Lavf58.76.100\n",
      "  Stream #0:0(eng): Audio: opus, 48000 Hz, stereo, flt, 96 kb/s (default)\n",
      "    Metadata:\n",
      "      encoder         : Lavc58.134.100 libopus\n",
      "size=     256kB time=00:00:34.43 bitrate=  60.9kbits/s speed=15.3x    \r"
     ]
    },
    {
     "name": "stdout",
     "output_type": "stream",
     "text": [
      "[download] 100% of  589.27KiB in 00:00:03 at 166.90KiB/s\n",
      "[ExtractAudio] Destination: ./test/StimuliFinal/long/Lyrics/Material Girl [JO9h1fQU_-k].wav\n",
      "Deleting original file ./test/StimuliFinal/long/Lyrics/Material Girl [JO9h1fQU_-k].webm (pass -k to keep)\n"
     ]
    },
    {
     "name": "stderr",
     "output_type": "stream",
     "text": [
      "size=     589kB time=00:00:49.99 bitrate=  96.6kbits/s speed=15.3x    \n",
      "video:0kB audio:571kB subtitle:0kB other streams:0kB global headers:0kB muxing overhead: 3.142061%\n"
     ]
    },
    {
     "name": "stdout",
     "output_type": "stream",
     "text": [
      "Downloading long track : Never Gonna Give You Up https://www.youtube.com/watch?v=dQw4w9WgXcQ\n",
      "[youtube] Extracting URL: https://www.youtube.com/watch?v=dQw4w9WgXcQ\n",
      "[youtube] dQw4w9WgXcQ: Downloading webpage\n",
      "[youtube] dQw4w9WgXcQ: Downloading ios player API JSON\n",
      "[youtube] dQw4w9WgXcQ: Downloading android player API JSON\n",
      "[youtube] dQw4w9WgXcQ: Downloading m3u8 information\n",
      "[info] dQw4w9WgXcQ: Downloading 1 format(s): 251\n",
      "[info] dQw4w9WgXcQ: Downloading 1 time ranges: 10.0-60.0\n",
      "[download] Destination: ./test/StimuliFinal/long/Lyrics/Rick Astley - Never Gonna Give You Up (Official Music Video) [dQw4w9WgXcQ].webm\n"
     ]
    },
    {
     "name": "stderr",
     "output_type": "stream",
     "text": [
      "Input #0, matroska,webm, from 'https://rr2---sn-gpn9-t0as.googlevideo.com/videoplayback?expire=1697588783&ei=z9EuZYrxMI-F8wSs567gCA&ip=206.167.239.2&id=o-AGuGVX84rCy903Uw0GcYbX7jEwa0eR3FnSSFdgs_sJTC&itag=251&source=youtube&requiressl=yes&mh=7c&mm=31%2C29&mn=sn-gpn9-t0as%2Csn-t0a7ln7d&ms=au%2Crdu&mv=m&mvi=2&pl=24&initcwndbps=1101250&spc=UWF9fxFILfHNJisLPnJy1XZFTPvowos&vprv=1&svpuc=1&mime=audio%2Fwebm&gir=yes&clen=3437753&dur=212.061&lmt=1696366847061576&mt=1697566861&fvip=1&keepalive=yes&fexp=24007246&beids=24350018&c=ANDROID&txp=4532434&sparams=expire%2Cei%2Cip%2Cid%2Citag%2Csource%2Crequiressl%2Cspc%2Cvprv%2Csvpuc%2Cmime%2Cgir%2Cclen%2Cdur%2Clmt&sig=AGM4YrMwRQIgbYzxGi5VWAEgCgfWZkyEx1pCOjjw7QjdeIUBbRSYQA8CIQCmFA01IG_oXRo5LcxNa5AZPA1yaQivBo-7Odvr4DUc2A%3D%3D&lsparams=mh%2Cmm%2Cmn%2Cms%2Cmv%2Cmvi%2Cpl%2Cinitcwndbps&lsig=AK1ks_kwRQIgO3OGBJU9jei0r_R4hc-150-ZrStyhBCzmMmfzpswDG0CIQDfN9U-C65ZmkVY1SRL39_iQiDpeXy0hYrwKI4cVKcalw%3D%3D':\n",
      "  Metadata:\n",
      "    encoder         : google/video-file\n",
      "  Duration: 00:03:32.06, start: -0.007000, bitrate: 129 kb/s\n",
      "  Stream #0:0(eng): Audio: opus, 48000 Hz, stereo, fltp (default)\n",
      "Stream mapping:\n",
      "  Stream #0:0 -> #0:0 (opus (native) -> opus (libopus))\n",
      "Press [q] to stop, [?] for help\n",
      "[libopus @ 0x55eeaa76a000] No bit rate set. Defaulting to 96000 bps.\n",
      "Output #0, webm, to 'file:./test/StimuliFinal/long/Lyrics/Rick Astley - Never Gonna Give You Up (Official Music Video) [dQw4w9WgXcQ].webm.part':\n",
      "  Metadata:\n",
      "    encoder         : Lavf58.76.100\n",
      "  Stream #0:0(eng): Audio: opus, 48000 Hz, stereo, flt, 96 kb/s (default)\n",
      "    Metadata:\n",
      "      encoder         : Lavc58.134.100 libopus\n",
      "size=     256kB time=00:00:35.31 bitrate=  59.4kbits/s speed=18.5x    \r"
     ]
    },
    {
     "name": "stdout",
     "output_type": "stream",
     "text": [
      "[download] 100% of  598.77KiB in 00:00:02 at 250.81KiB/s\n",
      "[ExtractAudio] Destination: ./test/StimuliFinal/long/Lyrics/Rick Astley - Never Gonna Give You Up (Official Music Video) [dQw4w9WgXcQ].wav\n",
      "Deleting original file ./test/StimuliFinal/long/Lyrics/Rick Astley - Never Gonna Give You Up (Official Music Video) [dQw4w9WgXcQ].webm (pass -k to keep)\n"
     ]
    },
    {
     "name": "stderr",
     "output_type": "stream",
     "text": [
      "size=     599kB time=00:00:49.99 bitrate=  98.1kbits/s speed=21.8x    \n",
      "video:0kB audio:581kB subtitle:0kB other streams:0kB global headers:0kB muxing overhead: 3.090674%\n"
     ]
    },
    {
     "name": "stdout",
     "output_type": "stream",
     "text": [
      "Downloading long track : Gangsta's Paradise https://www.youtube.com/watch?v=Tw0_qHNRAEA\n",
      "[youtube] Extracting URL: https://www.youtube.com/watch?v=Tw0_qHNRAEA\n",
      "[youtube] Tw0_qHNRAEA: Downloading webpage\n",
      "[youtube] Tw0_qHNRAEA: Downloading ios player API JSON\n",
      "[youtube] Tw0_qHNRAEA: Downloading android player API JSON\n",
      "[youtube] Tw0_qHNRAEA: Downloading m3u8 information\n",
      "[info] Tw0_qHNRAEA: Downloading 1 format(s): 251\n",
      "[info] Tw0_qHNRAEA: Downloading 1 time ranges: 11.0-72.0\n",
      "[download] Destination: ./test/StimuliFinal/long/Lyrics/Gangsta's Paradise [Tw0_qHNRAEA].webm\n"
     ]
    },
    {
     "name": "stderr",
     "output_type": "stream",
     "text": [
      "Input #0, matroska,webm, from 'https://rr1---sn-gpn9-t0as.googlevideo.com/videoplayback?expire=1697588787&ei=09EuZZWNNriU_9EP7tuJgAc&ip=206.167.239.2&id=o-AMdp9PvlwyPCPq1B7rWeUfLE900bKyPVp2ngsjbnN5B8&itag=251&source=youtube&requiressl=yes&mh=LY&mm=31%2C29&mn=sn-gpn9-t0as%2Csn-t0a7lnee&ms=au%2Crdu&mv=m&mvi=1&pl=24&gcr=ca&initcwndbps=1101250&spc=UWF9fxjkWr8KbmMLlqAPUMVduyMw3Jg&vprv=1&svpuc=1&mime=audio%2Fwebm&gir=yes&clen=3841486&dur=241.021&lmt=1663829489615992&mt=1697566861&fvip=2&keepalive=yes&fexp=24007246&beids=24350018&c=ANDROID&txp=2318224&sparams=expire%2Cei%2Cip%2Cid%2Citag%2Csource%2Crequiressl%2Cgcr%2Cspc%2Cvprv%2Csvpuc%2Cmime%2Cgir%2Cclen%2Cdur%2Clmt&sig=AGM4YrMwRQIgB-WkubWi6nO4ncpQ47jg9lpm59SJx-N1R7sgOl7fwuoCIQCvBOO90zLXI4WN_1AIQzx__2jqbby_6ggyjOlvOiYg_w%3D%3D&lsparams=mh%2Cmm%2Cmn%2Cms%2Cmv%2Cmvi%2Cpl%2Cinitcwndbps&lsig=AK1ks_kwRgIhAM6sJpp__PfEErFWUe41EQDa7Sx6AIIKHQ3mWbrimzXwAiEArgwFg6wgs9NqVywtfRNPuIUEpSncIKIc0ss5VBwjKKo%3D':\n",
      "  Metadata:\n",
      "    encoder         : google/video-file\n",
      "  Duration: 00:04:01.02, start: -0.007000, bitrate: 127 kb/s\n",
      "  Stream #0:0(eng): Audio: opus, 48000 Hz, stereo, fltp (default)\n",
      "Stream mapping:\n",
      "  Stream #0:0 -> #0:0 (opus (native) -> opus (libopus))\n",
      "Press [q] to stop, [?] for help\n",
      "[libopus @ 0x563b1799cf80] No bit rate set. Defaulting to 96000 bps.\n",
      "Output #0, webm, to 'file:./test/StimuliFinal/long/Lyrics/Gangsta's Paradise [Tw0_qHNRAEA].webm.part':\n",
      "  Metadata:\n",
      "    encoder         : Lavf58.76.100\n",
      "  Stream #0:0(eng): Audio: opus, 48000 Hz, stereo, flt, 96 kb/s (default)\n",
      "    Metadata:\n",
      "      encoder         : Lavc58.134.100 libopus\n",
      "size=     256kB time=00:00:37.97 bitrate=  55.2kbits/s speed=37.4x    \r"
     ]
    },
    {
     "name": "stdout",
     "output_type": "stream",
     "text": [
      "[download] 100% of  693.35KiB in 00:00:01 at 363.66KiB/s\n",
      "[ExtractAudio] Destination: ./test/StimuliFinal/long/Lyrics/Gangsta's Paradise [Tw0_qHNRAEA].wav\n"
     ]
    },
    {
     "name": "stderr",
     "output_type": "stream",
     "text": [
      "size=     693kB time=00:01:00.99 bitrate=  93.1kbits/s speed=36.5x    \n",
      "video:0kB audio:672kB subtitle:0kB other streams:0kB global headers:0kB muxing overhead: 3.241549%\n"
     ]
    },
    {
     "name": "stdout",
     "output_type": "stream",
     "text": [
      "Deleting original file ./test/StimuliFinal/long/Lyrics/Gangsta's Paradise [Tw0_qHNRAEA].webm (pass -k to keep)\n",
      "Downloading long track : I’ll Be There for You https://www.youtube.com/watch?v=RIjTq_OdFvo\n",
      "[youtube] Extracting URL: https://www.youtube.com/watch?v=RIjTq_OdFvo\n",
      "[youtube] RIjTq_OdFvo: Downloading webpage\n",
      "[youtube] RIjTq_OdFvo: Downloading ios player API JSON\n",
      "[youtube] RIjTq_OdFvo: Downloading android player API JSON\n",
      "[youtube] RIjTq_OdFvo: Downloading m3u8 information\n",
      "[info] RIjTq_OdFvo: Downloading 1 format(s): 251\n",
      "[info] RIjTq_OdFvo: Downloading 1 time ranges: 0.0-47.0\n",
      "[download] Destination: ./test/StimuliFinal/long/Lyrics/I'll Be There for You (Theme From ＂Friends＂) [RIjTq_OdFvo].webm\n"
     ]
    },
    {
     "name": "stderr",
     "output_type": "stream",
     "text": [
      "Input #0, matroska,webm, from 'https://rr3---sn-gpn9-t0as.googlevideo.com/videoplayback?expire=1697588791&ei=19EuZbm4I4eG8wTS0J2YBA&ip=206.167.239.2&id=o-ALROad4EfEesyED-OUKnQrKIsEbruiv_8_VuKlvYXvfc&itag=251&source=youtube&requiressl=yes&mh=S-&mm=31%2C29&mn=sn-gpn9-t0as%2Csn-t0a7sn7d&ms=au%2Crdu&mv=m&mvi=3&pl=24&gcr=ca&initcwndbps=1101250&spc=UWF9f8mCPYsIQLSR_A1aX94Ym14iQ1s&vprv=1&svpuc=1&mime=audio%2Fwebm&gir=yes&clen=3091740&dur=188.381&lmt=1621528387662293&mt=1697566861&fvip=3&keepalive=yes&fexp=24007246&beids=24350018&c=ANDROID&txp=5432434&sparams=expire%2Cei%2Cip%2Cid%2Citag%2Csource%2Crequiressl%2Cgcr%2Cspc%2Cvprv%2Csvpuc%2Cmime%2Cgir%2Cclen%2Cdur%2Clmt&sig=AGM4YrMwRQIhAO467p5N5oQvfHL-Ui-AVAZ9xfuVoezvdhOcrteP4KiMAiAPbncNnr9pRC5wWk_ZQuDQC_e_UTt92jcMcKU3uxt4Jw%3D%3D&lsparams=mh%2Cmm%2Cmn%2Cms%2Cmv%2Cmvi%2Cpl%2Cinitcwndbps&lsig=AK1ks_kwRgIhAJ0dZzKbPT-fycZxVC6rOJue32joxFsRie5wCk6JfIbZAiEA0ODBe96WOczN84oXzu4N7RXTRSGCfMHaonkhxnxj840%3D':\n",
      "  Metadata:\n",
      "    encoder         : google/video-file\n",
      "  Duration: 00:03:08.38, start: -0.007000, bitrate: 131 kb/s\n",
      "  Stream #0:0(eng): Audio: opus, 48000 Hz, stereo, fltp (default)\n",
      "Stream mapping:\n",
      "  Stream #0:0 -> #0:0 (opus (native) -> opus (libopus))\n",
      "Press [q] to stop, [?] for help\n",
      "[libopus @ 0x563ef5c10c00] No bit rate set. Defaulting to 96000 bps.\n",
      "Output #0, webm, to 'file:./test/StimuliFinal/long/Lyrics/I'll Be There for You (Theme From ＂Friends＂) [RIjTq_OdFvo].webm.part':\n",
      "  Metadata:\n",
      "    encoder         : Lavf58.76.100\n",
      "  Stream #0:0(eng): Audio: opus, 48000 Hz, stereo, flt, 96 kb/s (default)\n",
      "    Metadata:\n",
      "      encoder         : Lavc58.134.100 libopus\n",
      "size=     256kB time=00:00:33.16 bitrate=  63.2kbits/s speed=14.7x    \r"
     ]
    },
    {
     "name": "stdout",
     "output_type": "stream",
     "text": [
      "[download] 100% of  573.33KiB in 00:00:02 at 205.60KiB/s\n",
      "[ExtractAudio] Destination: ./test/StimuliFinal/long/Lyrics/I'll Be There for You (Theme From ＂Friends＂) [RIjTq_OdFvo].wav\n",
      "Deleting original file ./test/StimuliFinal/long/Lyrics/I'll Be There for You (Theme From ＂Friends＂) [RIjTq_OdFvo].webm (pass -k to keep)\n"
     ]
    },
    {
     "name": "stderr",
     "output_type": "stream",
     "text": [
      "size=     573kB time=00:00:47.00 bitrate=  99.9kbits/s speed=17.7x    \n",
      "video:0kB audio:556kB subtitle:0kB other streams:0kB global headers:0kB muxing overhead: 3.036919%\n"
     ]
    },
    {
     "name": "stdout",
     "output_type": "stream",
     "text": [
      "Downloading long track : Can’t Live With You, Can’t Live Without You https://www.youtube.com/watch?v=bY8PUuZR4tw\n",
      "[youtube] Extracting URL: https://www.youtube.com/watch?v=bY8PUuZR4tw\n",
      "[youtube] bY8PUuZR4tw: Downloading webpage\n",
      "[youtube] bY8PUuZR4tw: Downloading ios player API JSON\n",
      "[youtube] bY8PUuZR4tw: Downloading android player API JSON\n",
      "[youtube] bY8PUuZR4tw: Downloading m3u8 information\n",
      "[info] bY8PUuZR4tw: Downloading 1 format(s): 251\n",
      "[info] bY8PUuZR4tw: Downloading 1 time ranges: 31.0-91.0\n",
      "[download] Destination: ./test/StimuliFinal/long/Lyrics/Billy Newton-Davis, Céline Dion - Can’t Live With You, Can’t Live Without You (Official Audio) [bY8PUuZR4tw].webm\n"
     ]
    },
    {
     "name": "stderr",
     "output_type": "stream",
     "text": [
      "Input #0, matroska,webm, from 'https://rr1---sn-gpn9-t0as.googlevideo.com/videoplayback?expire=1697588796&ei=3NEuZYXZBsGo_9EPmdu9qAc&ip=206.167.239.2&id=o-ACOycJSalcQAG2X6kPMmM1DSyE3wNAOdX-iHSCLU0SvQ&itag=251&source=youtube&requiressl=yes&mh=u_&mm=31%2C29&mn=sn-gpn9-t0as%2Csn-t0a7sn7d&ms=au%2Crdu&mv=m&mvi=1&pl=24&initcwndbps=1101250&spc=UWF9f-M8t0xUr4j8VQ9Q7NpT--Btn4Q&vprv=1&svpuc=1&mime=audio%2Fwebm&gir=yes&clen=4115443&dur=257.181&lmt=1640774368885043&mt=1697566861&fvip=5&keepalive=yes&fexp=24007246&beids=24350018&c=ANDROID&txp=6211224&sparams=expire%2Cei%2Cip%2Cid%2Citag%2Csource%2Crequiressl%2Cspc%2Cvprv%2Csvpuc%2Cmime%2Cgir%2Cclen%2Cdur%2Clmt&sig=AGM4YrMwRAIgR3jnVCzjIZW5uGcGem4M7eflM8vuDeLlnxhoZUcFLakCIAgaBZFFCxz1_l6A2msROC0BnIhptki3_oc8ZlsU7R2n&lsparams=mh%2Cmm%2Cmn%2Cms%2Cmv%2Cmvi%2Cpl%2Cinitcwndbps&lsig=AK1ks_kwRQIgc3UeTuVUPXg9LxkyKQrD0mLhlHPWpEWUE4x87HJFMGoCIQDbwl2aiZkExiTG0z5GvgNRFWvV6Lm7tlazuAX8OrqczQ%3D%3D':\n",
      "  Metadata:\n",
      "    encoder         : google/video-file\n",
      "  Duration: 00:04:17.18, start: -0.007000, bitrate: 128 kb/s\n",
      "  Stream #0:0(eng): Audio: opus, 48000 Hz, stereo, fltp (default)\n",
      "Stream mapping:\n",
      "  Stream #0:0 -> #0:0 (opus (native) -> opus (libopus))\n",
      "Press [q] to stop, [?] for help\n",
      "[libopus @ 0x55ca98822fc0] No bit rate set. Defaulting to 96000 bps.\n",
      "Output #0, webm, to 'file:./test/StimuliFinal/long/Lyrics/Billy Newton-Davis, Céline Dion - Can’t Live With You, Can’t Live Without You (Official Audio) [bY8PUuZR4tw].webm.part':\n",
      "  Metadata:\n",
      "    encoder         : Lavf58.76.100\n",
      "  Stream #0:0(eng): Audio: opus, 48000 Hz, stereo, flt, 96 kb/s (default)\n",
      "    Metadata:\n",
      "      encoder         : Lavc58.134.100 libopus\n",
      "size=     256kB time=00:00:35.29 bitrate=  59.4kbits/s speed=21.9x    \r"
     ]
    },
    {
     "name": "stdout",
     "output_type": "stream",
     "text": [
      "[download] 100% of  723.04KiB in 00:00:02 at 283.70KiB/s\n"
     ]
    },
    {
     "name": "stderr",
     "output_type": "stream",
     "text": [
      "size=     723kB time=00:00:59.99 bitrate=  98.7kbits/s speed=26.3x    \n",
      "video:0kB audio:702kB subtitle:0kB other streams:0kB global headers:0kB muxing overhead: 3.054070%\n"
     ]
    },
    {
     "name": "stdout",
     "output_type": "stream",
     "text": [
      "[ExtractAudio] Destination: ./test/StimuliFinal/long/Lyrics/Billy Newton-Davis, Céline Dion - Can’t Live With You, Can’t Live Without You (Official Audio) [bY8PUuZR4tw].wav\n",
      "Deleting original file ./test/StimuliFinal/long/Lyrics/Billy Newton-Davis, Céline Dion - Can’t Live With You, Can’t Live Without You (Official Audio) [bY8PUuZR4tw].webm (pass -k to keep)\n",
      "Downloading long track : Creep https://www.youtube.com/watch?v=XFkzRNyygfk\n",
      "[youtube] Extracting URL: https://www.youtube.com/watch?v=XFkzRNyygfk\n",
      "[youtube] XFkzRNyygfk: Downloading webpage\n",
      "[youtube] XFkzRNyygfk: Downloading ios player API JSON\n",
      "[youtube] XFkzRNyygfk: Downloading android player API JSON\n",
      "[youtube] XFkzRNyygfk: Downloading m3u8 information\n",
      "[info] XFkzRNyygfk: Downloading 1 format(s): 251\n",
      "[info] XFkzRNyygfk: Downloading 1 time ranges: 36.0-85.0\n",
      "[download] Destination: ./test/StimuliFinal/long/Lyrics/Radiohead - Creep [XFkzRNyygfk].webm\n"
     ]
    },
    {
     "name": "stderr",
     "output_type": "stream",
     "text": [
      "Input #0, matroska,webm, from 'https://rr3---sn-gpn9-t0as.googlevideo.com/videoplayback?expire=1697588800&ei=4NEuZZLPMdSk_9EP4L6PwAU&ip=206.167.239.2&id=o-AJfwyijt267Evw6lL3yFhdZzYS5AIaK5wfPBcbJ628xI&itag=251&source=youtube&requiressl=yes&mh=md&mm=31%2C29&mn=sn-gpn9-t0as%2Csn-t0a7sn7d&ms=au%2Crdu&mv=m&mvi=3&pl=24&initcwndbps=1101250&spc=UWF9f82Y5tOiWVKKFbpqIVdn2-v3g3o&vprv=1&svpuc=1&mime=audio%2Fwebm&gir=yes&clen=4037230&dur=236.601&lmt=1659419851691368&mt=1697566861&fvip=5&keepalive=yes&fexp=24007246&beids=24350018&c=ANDROID&txp=4532434&sparams=expire%2Cei%2Cip%2Cid%2Citag%2Csource%2Crequiressl%2Cspc%2Cvprv%2Csvpuc%2Cmime%2Cgir%2Cclen%2Cdur%2Clmt&sig=AGM4YrMwRQIgapazjhIUqYBO_hwTmOAOd7Flz5-kDX_rl9rXE8rjVDgCIQD0xqLz2qTZ3BhYnjveIflRjyM2vLu9s5Q2p_56jIlaKw%3D%3D&lsparams=mh%2Cmm%2Cmn%2Cms%2Cmv%2Cmvi%2Cpl%2Cinitcwndbps&lsig=AK1ks_kwRgIhAPeI4ZFtVQJIzZIq5n18rX4wSJIPh_6vMnpTL7YiqEVcAiEAmw63Wxt33YcIIwnGq9gjSirJxd0sUlre83y0iY7MECE%3D':\n",
      "  Metadata:\n",
      "    encoder         : google/video-file\n",
      "  Duration: 00:03:56.60, start: -0.007000, bitrate: 136 kb/s\n",
      "  Stream #0:0(eng): Audio: opus, 48000 Hz, stereo, fltp (default)\n",
      "Stream mapping:\n",
      "  Stream #0:0 -> #0:0 (opus (native) -> opus (libopus))\n",
      "Press [q] to stop, [?] for help\n",
      "[libopus @ 0x557bbc886f80] No bit rate set. Defaulting to 96000 bps.\n",
      "Output #0, webm, to 'file:./test/StimuliFinal/long/Lyrics/Radiohead - Creep [XFkzRNyygfk].webm.part':\n",
      "  Metadata:\n",
      "    encoder         : Lavf58.76.100\n",
      "  Stream #0:0(eng): Audio: opus, 48000 Hz, stereo, flt, 96 kb/s (default)\n",
      "    Metadata:\n",
      "      encoder         : Lavc58.134.100 libopus\n",
      "size=     512kB time=00:00:47.89 bitrate=  87.6kbits/s speed=21.4x    \r"
     ]
    },
    {
     "name": "stdout",
     "output_type": "stream",
     "text": [
      "[download] 100% of  613.26KiB in 00:00:02 at 208.20KiB/s\n",
      "[ExtractAudio] Destination: ./test/StimuliFinal/long/Lyrics/Radiohead - Creep [XFkzRNyygfk].wav\n",
      "Deleting original file ./test/StimuliFinal/long/Lyrics/Radiohead - Creep [XFkzRNyygfk].webm (pass -k to keep)\n"
     ]
    },
    {
     "name": "stderr",
     "output_type": "stream",
     "text": [
      "size=     613kB time=00:00:48.99 bitrate= 102.5kbits/s speed=  18x    \n",
      "video:0kB audio:596kB subtitle:0kB other streams:0kB global headers:0kB muxing overhead: 2.951621%\n"
     ]
    },
    {
     "name": "stdout",
     "output_type": "stream",
     "text": [
      "Downloading long track : The Office (Main Theme) \"Tv Short Version\"  https://www.youtube.com/watch?v=3cMctz6KNsg\n",
      "[youtube] Extracting URL: https://www.youtube.com/watch?v=3cMctz6KNsg\n",
      "[youtube] 3cMctz6KNsg: Downloading webpage\n",
      "[youtube] 3cMctz6KNsg: Downloading ios player API JSON\n",
      "[youtube] 3cMctz6KNsg: Downloading android player API JSON\n",
      "[youtube] 3cMctz6KNsg: Downloading m3u8 information\n",
      "[info] 3cMctz6KNsg: Downloading 1 format(s): 251\n",
      "[info] 3cMctz6KNsg: Downloading 1 time ranges: 0.0-34.0\n",
      "[download] Destination: ./test/StimuliFinal/long/Orchestral/The Office (Main Theme) ＂Tv Short Version＂ [3cMctz6KNsg].webm\n"
     ]
    },
    {
     "name": "stderr",
     "output_type": "stream",
     "text": [
      "Input #0, matroska,webm, from 'https://rr4---sn-gpn9-t0as.googlevideo.com/videoplayback?expire=1697588805&ei=5dEuZdKTIcyl_9EPjJOYkAM&ip=206.167.239.2&id=o-ABddS7VBv6FalUG9JqmoKOTd9uzv2RpEFq7muJSxKbyw&itag=251&source=youtube&requiressl=yes&mh=V1&mm=31%2C29&mn=sn-gpn9-t0as%2Csn-t0a7lnee&ms=au%2Crdu&mv=m&mvi=4&pl=24&gcr=ca&initcwndbps=1101250&spc=UWF9fza7v_Ds9WBehWloOyoTSLDDrws&vprv=1&svpuc=1&mime=audio%2Fwebm&gir=yes&clen=686404&dur=34.841&lmt=1569423260306701&mt=1697566861&fvip=2&keepalive=yes&fexp=24007246&beids=24350018&c=ANDROID&txp=8301222&sparams=expire%2Cei%2Cip%2Cid%2Citag%2Csource%2Crequiressl%2Cgcr%2Cspc%2Cvprv%2Csvpuc%2Cmime%2Cgir%2Cclen%2Cdur%2Clmt&sig=AGM4YrMwRQIgNBCqeZeFg9kWRvE9yDi7PPwrW1M_kKrnd-9dUKCmhloCIQD3ubl7EQb5ZZlOQrkpKW9wRitrTu25FHSvGwrvKD9v2g%3D%3D&lsparams=mh%2Cmm%2Cmn%2Cms%2Cmv%2Cmvi%2Cpl%2Cinitcwndbps&lsig=AK1ks_kwRAIgZMXVMeKU5cnHqOzS97Uj-7AKAbR_6MnY9Y46NdwRotgCIGenQRw5PI18Ow9E73Fc5cISzf_xB63HuoGL7FR_0L_-':\n",
      "  Metadata:\n",
      "    encoder         : google/video-file\n",
      "  Duration: 00:00:34.84, start: -0.007000, bitrate: 157 kb/s\n",
      "  Stream #0:0(eng): Audio: opus, 48000 Hz, stereo, fltp (default)\n",
      "Stream mapping:\n",
      "  Stream #0:0 -> #0:0 (opus (native) -> opus (libopus))\n",
      "Press [q] to stop, [?] for help\n",
      "[libopus @ 0x5563c201df80] No bit rate set. Defaulting to 96000 bps.\n",
      "Output #0, webm, to 'file:./test/StimuliFinal/long/Orchestral/The Office (Main Theme) ＂Tv Short Version＂ [3cMctz6KNsg].webm.part':\n",
      "  Metadata:\n",
      "    encoder         : Lavf58.76.100\n",
      "  Stream #0:0(eng): Audio: opus, 48000 Hz, stereo, flt, 96 kb/s (default)\n",
      "    Metadata:\n",
      "      encoder         : Lavc58.134.100 libopus\n",
      "size=     256kB time=00:00:26.80 bitrate=  78.2kbits/s speed=  16x    \r"
     ]
    },
    {
     "name": "stdout",
     "output_type": "stream",
     "text": [
      "[download] 100% of  502.14KiB in 00:00:02 at 245.74KiB/s\n",
      "[ExtractAudio] Destination: ./test/StimuliFinal/long/Orchestral/The Office (Main Theme) ＂Tv Short Version＂ [3cMctz6KNsg].wav\n",
      "Deleting original file ./test/StimuliFinal/long/Orchestral/The Office (Main Theme) ＂Tv Short Version＂ [3cMctz6KNsg].webm (pass -k to keep)\n"
     ]
    },
    {
     "name": "stderr",
     "output_type": "stream",
     "text": [
      "size=     502kB time=00:00:34.00 bitrate= 121.0kbits/s speed=17.8x    \n",
      "video:0kB audio:490kB subtitle:0kB other streams:0kB global headers:0kB muxing overhead: 2.525063%\n"
     ]
    },
    {
     "name": "stdout",
     "output_type": "stream",
     "text": [
      "Downloading long track : The Imperial March (Darth Vader's Theme) https://www.youtube.com/watch?v=s3SZ5sIMY6o\n",
      "[youtube] Extracting URL: https://www.youtube.com/watch?v=s3SZ5sIMY6o\n",
      "[youtube] s3SZ5sIMY6o: Downloading webpage\n",
      "[youtube] s3SZ5sIMY6o: Downloading ios player API JSON\n",
      "[youtube] s3SZ5sIMY6o: Downloading android player API JSON\n",
      "[youtube] s3SZ5sIMY6o: Downloading m3u8 information\n",
      "[info] s3SZ5sIMY6o: Downloading 1 format(s): 251\n",
      "[info] s3SZ5sIMY6o: Downloading 1 time ranges: 0.0-42.0\n",
      "[download] Destination: ./test/StimuliFinal/long/Orchestral/The Imperial March (Darth Vader's Theme) [s3SZ5sIMY6o].webm\n"
     ]
    },
    {
     "name": "stderr",
     "output_type": "stream",
     "text": [
      "Input #0, matroska,webm, from 'https://rr2---sn-gpn9-t0as.googlevideo.com/videoplayback?expire=1697588809&ei=6dEuZdqNI8fj8wST2IrwAw&ip=206.167.239.2&id=o-AC23FLMaUun9akQD71EYFPDMH3znX-8UepVq38nS4prj&itag=251&source=youtube&requiressl=yes&mh=yB&mm=31%2C29&mn=sn-gpn9-t0as%2Csn-t0a7sn7d&ms=au%2Crdu&mv=m&mvi=2&pl=24&gcr=ca&initcwndbps=1101250&spc=UWF9f6VC8VTIpneMarRivPLBQz-Mc6Q&vprv=1&svpuc=1&mime=audio%2Fwebm&gir=yes&clen=2871285&dur=179.581&lmt=1577788120759091&mt=1697566861&fvip=3&keepalive=yes&fexp=24007246&beids=24350018&c=ANDROID&txp=5431432&sparams=expire%2Cei%2Cip%2Cid%2Citag%2Csource%2Crequiressl%2Cgcr%2Cspc%2Cvprv%2Csvpuc%2Cmime%2Cgir%2Cclen%2Cdur%2Clmt&sig=AGM4YrMwRQIgEG7rh_SCho1fhTyc6k4D47FjGHSViw7Tg7XyNf-OfTQCIQC3GLfry5NM8KMTOW1WPQe0ODoLUu80YV4tWrnFCC-UBA%3D%3D&lsparams=mh%2Cmm%2Cmn%2Cms%2Cmv%2Cmvi%2Cpl%2Cinitcwndbps&lsig=AK1ks_kwRAIgPaxXJRqVq__64_oTLbZO2ZfdvRogPEmNtWHHtNCyk6wCIH-Xdg1y7F2ldvoJrdo-zNBE4UP8CbKW60GqbyOlZ9zV':\n",
      "  Metadata:\n",
      "    encoder         : google/video-file\n",
      "  Duration: 00:02:59.58, start: -0.007000, bitrate: 127 kb/s\n",
      "  Stream #0:0(eng): Audio: opus, 48000 Hz, stereo, fltp (default)\n",
      "Stream mapping:\n",
      "  Stream #0:0 -> #0:0 (opus (native) -> opus (libopus))\n",
      "Press [q] to stop, [?] for help\n",
      "[libopus @ 0x5616b1f82c00] No bit rate set. Defaulting to 96000 bps.\n",
      "Output #0, webm, to 'file:./test/StimuliFinal/long/Orchestral/The Imperial March (Darth Vader's Theme) [s3SZ5sIMY6o].webm.part':\n",
      "  Metadata:\n",
      "    encoder         : Lavf58.76.100\n",
      "  Stream #0:0(eng): Audio: opus, 48000 Hz, stereo, flt, 96 kb/s (default)\n",
      "    Metadata:\n",
      "      encoder         : Lavc58.134.100 libopus\n",
      "size=     256kB time=00:00:28.38 bitrate=  73.9kbits/s speed=13.1x    \r"
     ]
    },
    {
     "name": "stdout",
     "output_type": "stream",
     "text": [
      "[download] 100% of  494.61KiB in 00:00:02 at 186.46KiB/s\n",
      "[ExtractAudio] Destination: ./test/StimuliFinal/long/Orchestral/The Imperial March (Darth Vader's Theme) [s3SZ5sIMY6o].wav\n",
      "Deleting original file ./test/StimuliFinal/long/Orchestral/The Imperial March (Darth Vader's Theme) [s3SZ5sIMY6o].webm (pass -k to keep)\n"
     ]
    },
    {
     "name": "stderr",
     "output_type": "stream",
     "text": [
      "size=     495kB time=00:00:42.00 bitrate=  96.5kbits/s speed=16.6x    \n",
      "video:0kB audio:479kB subtitle:0kB other streams:0kB global headers:0kB muxing overhead: 3.161141%\n"
     ]
    },
    {
     "name": "stdout",
     "output_type": "stream",
     "text": [
      "Downloading long track : Game of Thrones Main Title https://www.youtube.com/watch?v=uXZd_W5B7N0\n",
      "[youtube] Extracting URL: https://www.youtube.com/watch?v=uXZd_W5B7N0\n",
      "[youtube] uXZd_W5B7N0: Downloading webpage\n",
      "[youtube] uXZd_W5B7N0: Downloading ios player API JSON\n",
      "[youtube] uXZd_W5B7N0: Downloading android player API JSON\n",
      "[youtube] uXZd_W5B7N0: Downloading m3u8 information\n",
      "[info] uXZd_W5B7N0: Downloading 1 format(s): 251\n",
      "[info] uXZd_W5B7N0: Downloading 1 time ranges: 42.0-98.0\n",
      "[download] Destination: ./test/StimuliFinal/long/Orchestral/Main Title [uXZd_W5B7N0].webm\n"
     ]
    },
    {
     "name": "stderr",
     "output_type": "stream",
     "text": [
      "Input #0, matroska,webm, from 'https://rr4---sn-gpn9-t0as.googlevideo.com/videoplayback?expire=1697588813&ei=7dEuZcDSNtyi_9EP6au6-AY&ip=206.167.239.2&id=o-AAI9t-B8E9SI8TytH8OdWS1Bd0lgfxGDnnaUH5sY2tst&itag=251&source=youtube&requiressl=yes&mh=am&mm=31%2C29&mn=sn-gpn9-t0as%2Csn-t0a7lnee&ms=au%2Crdu&mv=m&mvi=4&pl=24&gcr=ca&initcwndbps=1101250&spc=UWF9f79N8iSo5oJy1hPHRmQlDayCFKw&vprv=1&svpuc=1&mime=audio%2Fwebm&gir=yes&clen=1797219&dur=107.241&lmt=1565947210416064&mt=1697566861&fvip=2&keepalive=yes&fexp=24007246&beids=24350018&c=ANDROID&txp=2311222&sparams=expire%2Cei%2Cip%2Cid%2Citag%2Csource%2Crequiressl%2Cgcr%2Cspc%2Cvprv%2Csvpuc%2Cmime%2Cgir%2Cclen%2Cdur%2Clmt&sig=AGM4YrMwRQIgNvpn9e829rddMLmdPcdc83bATCPwWlr-tgAYi9SWR5MCIQCdTFiqCKMOlYO63PQDn0wAHwLFWMIZFdM-thLcTdaDiw%3D%3D&lsparams=mh%2Cmm%2Cmn%2Cms%2Cmv%2Cmvi%2Cpl%2Cinitcwndbps&lsig=AK1ks_kwRQIge-DlUnU4wZdi_SUAZzm3f3cW1jCiSBdvi0OP56SOTDECIQDL7xTj93TR_zjhVAmWz-jjtVgZ6DCXXT236PU_Zf5F7g%3D%3D':\n",
      "  Metadata:\n",
      "    encoder         : google/video-file\n",
      "  Duration: 00:01:47.24, start: -0.007000, bitrate: 134 kb/s\n",
      "  Stream #0:0(eng): Audio: opus, 48000 Hz, stereo, fltp (default)\n",
      "Stream mapping:\n",
      "  Stream #0:0 -> #0:0 (opus (native) -> opus (libopus))\n",
      "Press [q] to stop, [?] for help\n",
      "[libopus @ 0x561b56d3c140] No bit rate set. Defaulting to 96000 bps.\n",
      "Output #0, webm, to 'file:./test/StimuliFinal/long/Orchestral/Main Title [uXZd_W5B7N0].webm.part':\n",
      "  Metadata:\n",
      "    encoder         : Lavf58.76.100\n",
      "  Stream #0:0(eng): Audio: opus, 48000 Hz, stereo, flt, 96 kb/s (default)\n",
      "    Metadata:\n",
      "      encoder         : Lavc58.134.100 libopus\n",
      "size=     256kB time=00:00:41.73 bitrate=  50.3kbits/s speed=22.2x    \r"
     ]
    },
    {
     "name": "stdout",
     "output_type": "stream",
     "text": [
      "[download] 100% of  717.53KiB in 00:00:02 at 278.30KiB/s\n",
      "[ExtractAudio] Destination: ./test/StimuliFinal/long/Orchestral/Main Title [uXZd_W5B7N0].wav\n",
      "Deleting original file ./test/StimuliFinal/long/Orchestral/Main Title [uXZd_W5B7N0].webm (pass -k to keep)\n"
     ]
    },
    {
     "name": "stderr",
     "output_type": "stream",
     "text": [
      "size=     718kB time=00:00:55.99 bitrate= 105.0kbits/s speed=24.2x    \n",
      "video:0kB audio:697kB subtitle:0kB other streams:0kB global headers:0kB muxing overhead: 2.871880%\n"
     ]
    },
    {
     "name": "stdout",
     "output_type": "stream",
     "text": [
      "Downloading long track : The Pink Panther Theme https://www.youtube.com/watch?v=VyZiIuMufTA\n",
      "[youtube] Extracting URL: https://www.youtube.com/watch?v=VyZiIuMufTA\n",
      "[youtube] VyZiIuMufTA: Downloading webpage\n",
      "[youtube] VyZiIuMufTA: Downloading ios player API JSON\n",
      "[youtube] VyZiIuMufTA: Downloading android player API JSON\n",
      "[youtube] VyZiIuMufTA: Downloading m3u8 information\n",
      "[info] VyZiIuMufTA: Downloading 1 format(s): 251\n",
      "[info] VyZiIuMufTA: Downloading 1 time ranges: 0.0-45.0\n",
      "[download] Destination: ./test/StimuliFinal/long/Orchestral/The Pink Panther Theme [VyZiIuMufTA].webm\n"
     ]
    },
    {
     "name": "stderr",
     "output_type": "stream",
     "text": [
      "Input #0, matroska,webm, from 'https://rr2---sn-gpn9-t0as.googlevideo.com/videoplayback?expire=1697588818&ei=8dEuZZ-uPMqP_9EPz7WH4AU&ip=206.167.239.2&id=o-AOoCNPa20KiGc9CDan_yRlbrwbeIXCGmAubWBNc5fBTa&itag=251&source=youtube&requiressl=yes&mh=xc&mm=31%2C29&mn=sn-gpn9-t0as%2Csn-t0a7sn7d&ms=au%2Crdu&mv=m&mvi=2&pl=24&gcr=ca&initcwndbps=1101250&spc=UWF9fx6S-VPaAupTuszI47iVY3kqZHA&vprv=1&svpuc=1&mime=audio%2Fwebm&gir=yes&clen=3288002&dur=184.461&lmt=1565532807644531&mt=1697566861&fvip=2&keepalive=yes&fexp=24007246&beids=24350018&c=ANDROID&txp=1311222&sparams=expire%2Cei%2Cip%2Cid%2Citag%2Csource%2Crequiressl%2Cgcr%2Cspc%2Cvprv%2Csvpuc%2Cmime%2Cgir%2Cclen%2Cdur%2Clmt&sig=AGM4YrMwRAIgSeI0Gb4BYF2toecdPcm_2zpwmoBxy9mheo_2z9UQ2zkCIHZgjidoCxjxiupLz730Em8UK0O0YEzkf7nO3zPPCZNA&lsparams=mh%2Cmm%2Cmn%2Cms%2Cmv%2Cmvi%2Cpl%2Cinitcwndbps&lsig=AK1ks_kwRgIhAM6KOIc-dz7cAV9RL92BLFcRrDfLcaNEXP08OUFLc_ABAiEA0uE16V3VLsf51bHVFuQwm8eUvubc9LlNJX1gQgESiME%3D':\n",
      "  Metadata:\n",
      "    encoder         : google/video-file\n",
      "  Duration: 00:03:04.46, start: -0.007000, bitrate: 142 kb/s\n",
      "  Stream #0:0(eng): Audio: opus, 48000 Hz, stereo, fltp (default)\n",
      "Stream mapping:\n",
      "  Stream #0:0 -> #0:0 (opus (native) -> opus (libopus))\n",
      "Press [q] to stop, [?] for help\n",
      "[libopus @ 0x55af16ec7c00] No bit rate set. Defaulting to 96000 bps.\n",
      "Output #0, webm, to 'file:./test/StimuliFinal/long/Orchestral/The Pink Panther Theme [VyZiIuMufTA].webm.part':\n",
      "  Metadata:\n",
      "    encoder         : Lavf58.76.100\n",
      "  Stream #0:0(eng): Audio: opus, 48000 Hz, stereo, flt, 96 kb/s (default)\n",
      "    Metadata:\n",
      "      encoder         : Lavc58.134.100 libopus\n",
      "size=     256kB time=00:00:34.34 bitrate=  61.1kbits/s speed=  12x    \r"
     ]
    },
    {
     "name": "stdout",
     "output_type": "stream",
     "text": [
      "[download] 100% of  664.70KiB in 00:00:03 at 202.36KiB/s\n",
      "[ExtractAudio] Destination: ./test/StimuliFinal/long/Orchestral/The Pink Panther Theme [VyZiIuMufTA].wav\n",
      "Deleting original file ./test/StimuliFinal/long/Orchestral/The Pink Panther Theme [VyZiIuMufTA].webm (pass -k to keep)\n"
     ]
    },
    {
     "name": "stderr",
     "output_type": "stream",
     "text": [
      "size=     665kB time=00:00:45.00 bitrate= 121.0kbits/s speed=14.2x    \n",
      "video:0kB audio:649kB subtitle:0kB other streams:0kB global headers:0kB muxing overhead: 2.495795%\n"
     ]
    },
    {
     "name": "stdout",
     "output_type": "stream",
     "text": [
      "Downloading long track : Yakety Sax(1983 version) https://www.youtube.com/watch?v=mvsR9KXQknE\n",
      "[youtube] Extracting URL: https://www.youtube.com/watch?v=mvsR9KXQknE\n",
      "[youtube] mvsR9KXQknE: Downloading webpage\n",
      "[youtube] mvsR9KXQknE: Downloading ios player API JSON\n",
      "[youtube] mvsR9KXQknE: Downloading android player API JSON\n",
      "[youtube] mvsR9KXQknE: Downloading m3u8 information\n",
      "[info] mvsR9KXQknE: Downloading 1 format(s): 251\n",
      "[info] mvsR9KXQknE: Downloading 1 time ranges: 50.0-94.0\n",
      "[download] Destination: ./test/StimuliFinal/long/Orchestral/Ronnie Aldrich Orchestra - Yakety Sax (1983) [mvsR9KXQknE].webm\n"
     ]
    },
    {
     "name": "stderr",
     "output_type": "stream",
     "text": [
      "Input #0, matroska,webm, from 'https://rr1---sn-gpn9-t0as.googlevideo.com/videoplayback?expire=1697588823&ei=99EuZZP7EoWY8wTBtbfwCw&ip=206.167.239.2&id=o-AJi7qOHsTvtF5rhGlFx338CtsDX0U40CYU05yA4hUMlr&itag=251&source=youtube&requiressl=yes&mh=OD&mm=31%2C29&mn=sn-gpn9-t0as%2Csn-t0a7ln7d&ms=au%2Crdu&mv=m&mvi=1&pl=24&initcwndbps=1101250&spc=UWF9fwKec_Pk7fcvgcBK4KE3ZYqrlTY&vprv=1&svpuc=1&mime=audio%2Fwebm&gir=yes&clen=1610451&dur=113.401&lmt=1504159609729215&mt=1697566861&fvip=2&keepalive=yes&fexp=24007246&beids=24472446&c=ANDROID&sparams=expire%2Cei%2Cip%2Cid%2Citag%2Csource%2Crequiressl%2Cspc%2Cvprv%2Csvpuc%2Cmime%2Cgir%2Cclen%2Cdur%2Clmt&sig=AGM4YrMwRAIgGiLM_bh5svnfmX8kFuwCpYVbPjuVptN8VlyMEGowwhYCIDgUmGJDestIwPy7i6fr0ZOenjcLIcEZbn_pS1VvbLG6&lsparams=mh%2Cmm%2Cmn%2Cms%2Cmv%2Cmvi%2Cpl%2Cinitcwndbps&lsig=AK1ks_kwRAIgM5_eksySzEol5UNjdmjyL_M2j3ELqyMIWdUDBbsx_0oCIEDMIUdqCTMopHOy-_rKbqlmv8-yKPRLVqkt7vRc2Sjx':\n",
      "  Metadata:\n",
      "    encoder         : google\n",
      "  Duration: 00:01:53.40, start: -0.007000, bitrate: 113 kb/s\n",
      "  Stream #0:0(eng): Audio: opus, 48000 Hz, stereo, fltp (default)\n",
      "Stream mapping:\n",
      "  Stream #0:0 -> #0:0 (opus (native) -> opus (libopus))\n",
      "Press [q] to stop, [?] for help\n",
      "[libopus @ 0x5617b2271140] No bit rate set. Defaulting to 96000 bps.\n",
      "Output #0, webm, to 'file:./test/StimuliFinal/long/Orchestral/Ronnie Aldrich Orchestra - Yakety Sax (1983) [mvsR9KXQknE].webm.part':\n",
      "  Metadata:\n",
      "    encoder         : Lavf58.76.100\n",
      "  Stream #0:0(eng): Audio: opus, 48000 Hz, stereo, flt, 96 kb/s (default)\n",
      "    Metadata:\n",
      "      encoder         : Lavc58.134.100 libopus\n",
      "size=     256kB time=00:00:32.67 bitrate=  64.2kbits/s speed=8.63x    \r"
     ]
    },
    {
     "name": "stdout",
     "output_type": "stream",
     "text": [
      "[download] 100% of  451.44KiB in 00:00:04 at 102.99KiB/s\n",
      "[ExtractAudio] Destination: ./test/StimuliFinal/long/Orchestral/Ronnie Aldrich Orchestra - Yakety Sax (1983) [mvsR9KXQknE].wav\n",
      "Deleting original file ./test/StimuliFinal/long/Orchestral/Ronnie Aldrich Orchestra - Yakety Sax (1983) [mvsR9KXQknE].webm (pass -k to keep)\n"
     ]
    },
    {
     "name": "stderr",
     "output_type": "stream",
     "text": [
      "size=     451kB time=00:00:43.99 bitrate=  84.1kbits/s speed=10.9x    \n",
      "video:0kB audio:436kB subtitle:0kB other streams:0kB global headers:0kB muxing overhead: 3.637012%\n"
     ]
    },
    {
     "name": "stdout",
     "output_type": "stream",
     "text": [
      "Downloading long track : Lux Aeterna from Requiem for a Dream https://www.youtube.com/watch?v=0-jVz7Dou4Y\n",
      "[youtube] Extracting URL: https://www.youtube.com/watch?v=0-jVz7Dou4Y\n",
      "[youtube] 0-jVz7Dou4Y: Downloading webpage\n",
      "[youtube] 0-jVz7Dou4Y: Downloading ios player API JSON\n",
      "[youtube] 0-jVz7Dou4Y: Downloading android player API JSON\n",
      "[youtube] 0-jVz7Dou4Y: Downloading m3u8 information\n",
      "[info] 0-jVz7Dou4Y: Downloading 1 format(s): 251\n",
      "[info] 0-jVz7Dou4Y: Downloading 1 time ranges: 67.0-127.0\n",
      "[download] Destination: ./test/StimuliFinal/long/Orchestral/Clint Mansell： Lux Aeterna from Requiem for a Dream (Official Video) [0-jVz7Dou4Y].webm\n"
     ]
    },
    {
     "name": "stderr",
     "output_type": "stream",
     "text": [
      "Input #0, matroska,webm, from 'https://rr4---sn-gpn9-t0as.googlevideo.com/videoplayback?expire=1697588829&ei=_dEuZbSBL-SN_9EPqo2F2Ag&ip=206.167.239.2&id=o-AKcY6Y23XQ2LYw3szZCE2Yg9kYmHQqVnI9q6uqCsbdfT&itag=251&source=youtube&requiressl=yes&mh=Ut&mm=31%2C29&mn=sn-gpn9-t0as%2Csn-t0a7sn7d&ms=au%2Crdu&mv=m&mvi=4&pl=24&initcwndbps=1101250&spc=UWF9f9_GwB4c5mGu6yITPYN7EkeormM&vprv=1&svpuc=1&mime=audio%2Fwebm&gir=yes&clen=4296406&dur=234.441&lmt=1674270571117985&mt=1697566861&fvip=1&keepalive=yes&fexp=24007246&beids=24350018&c=ANDROID&txp=5311224&sparams=expire%2Cei%2Cip%2Cid%2Citag%2Csource%2Crequiressl%2Cspc%2Cvprv%2Csvpuc%2Cmime%2Cgir%2Cclen%2Cdur%2Clmt&sig=AGM4YrMwRAIgHtudbrfYAnCMGGOaM1qgdZkobsyTqvTJN8LkhcSqX-ECIF6XQxjJTyHLnZxcoR-oKtp-a56770Pqqw53c_qdbjRM&lsparams=mh%2Cmm%2Cmn%2Cms%2Cmv%2Cmvi%2Cpl%2Cinitcwndbps&lsig=AK1ks_kwRQIhANKBTlK5RCPt4onLl5gtCXTeoMecalVL992CeYflMMsKAiBSxRHouHhJ-6T2B9evsmGRQyTujW4KN6YtxCbn-hGKgw%3D%3D':\n",
      "  Metadata:\n",
      "    encoder         : google/video-file\n",
      "  Duration: 00:03:54.44, start: -0.007000, bitrate: 146 kb/s\n",
      "  Stream #0:0(eng): Audio: opus, 48000 Hz, stereo, fltp (default)\n",
      "Stream mapping:\n",
      "  Stream #0:0 -> #0:0 (opus (native) -> opus (libopus))\n",
      "Press [q] to stop, [?] for help\n",
      "[libopus @ 0x559bd0d99180] No bit rate set. Defaulting to 96000 bps.\n",
      "Output #0, webm, to 'file:./test/StimuliFinal/long/Orchestral/Clint Mansell： Lux Aeterna from Requiem for a Dream (Official Video) [0-jVz7Dou4Y].webm.part':\n",
      "  Metadata:\n",
      "    encoder         : Lavf58.76.100\n",
      "  Stream #0:0(eng): Audio: opus, 48000 Hz, stereo, flt, 96 kb/s (default)\n",
      "    Metadata:\n",
      "      encoder         : Lavc58.134.100 libopus\n",
      "size=     512kB time=00:00:42.01 bitrate=  99.8kbits/s speed=27.7x    \r"
     ]
    },
    {
     "name": "stdout",
     "output_type": "stream",
     "text": [
      "[download] 100% of  809.30KiB in 00:00:02 at 347.20KiB/s\n",
      "[ExtractAudio] Destination: ./test/StimuliFinal/long/Orchestral/Clint Mansell： Lux Aeterna from Requiem for a Dream (Official Video) [0-jVz7Dou4Y].wav\n"
     ]
    },
    {
     "name": "stderr",
     "output_type": "stream",
     "text": [
      "size=     809kB time=00:00:59.99 bitrate= 110.5kbits/s speed=29.4x    \n",
      "video:0kB audio:788kB subtitle:0kB other streams:0kB global headers:0kB muxing overhead: 2.719835%\n"
     ]
    },
    {
     "name": "stdout",
     "output_type": "stream",
     "text": [
      "Deleting original file ./test/StimuliFinal/long/Orchestral/Clint Mansell： Lux Aeterna from Requiem for a Dream (Official Video) [0-jVz7Dou4Y].webm (pass -k to keep)\n",
      "Downloading long track : il porco rosso https://www.youtube.com/watch?v=iKMHCmDdJ2U\n",
      "[youtube] Extracting URL: https://www.youtube.com/watch?v=iKMHCmDdJ2U\n",
      "[youtube] iKMHCmDdJ2U: Downloading webpage\n",
      "[youtube] iKMHCmDdJ2U: Downloading ios player API JSON\n",
      "[youtube] iKMHCmDdJ2U: Downloading android player API JSON\n",
      "[youtube] iKMHCmDdJ2U: Downloading m3u8 information\n",
      "[info] iKMHCmDdJ2U: Downloading 1 format(s): 251\n",
      "[info] iKMHCmDdJ2U: Downloading 1 time ranges: 38.0-104.0\n",
      "[download] Destination: ./test/StimuliFinal/long/Orchestral/il porco rosso [iKMHCmDdJ2U].webm\n"
     ]
    },
    {
     "name": "stderr",
     "output_type": "stream",
     "text": [
      "Input #0, matroska,webm, from 'https://rr4---sn-gpn9-t0as.googlevideo.com/videoplayback?expire=1697588834&ei=AtIuZfysEdOk_9EP4NeS6AI&ip=206.167.239.2&id=o-ABmbiyRyKPdyYKwi_o_WC-mo0comyGAHwq5VwdtN7qHC&itag=251&source=youtube&requiressl=yes&mh=8e&mm=31%2C29&mn=sn-gpn9-t0as%2Csn-t0a7ln7d&ms=au%2Crdu&mv=m&mvi=4&pl=24&gcr=ca&initcwndbps=1101250&spc=UWF9f_KIyBbu2limPf1hHNrOmPupfVA&vprv=1&svpuc=1&mime=audio%2Fwebm&gir=yes&clen=5106832&dur=292.841&lmt=1581643030956840&mt=1697566861&fvip=3&keepalive=yes&fexp=24007246&beids=24350018&c=ANDROID&txp=2301222&sparams=expire%2Cei%2Cip%2Cid%2Citag%2Csource%2Crequiressl%2Cgcr%2Cspc%2Cvprv%2Csvpuc%2Cmime%2Cgir%2Cclen%2Cdur%2Clmt&sig=AGM4YrMwRQIgIJ_KWtT7HoEQAk6GMcpe2yEEULgixid1P_9l35ISWpICIQCWoLFV3RT8-jSalF0puDtRqgqDjnAPni9OVFHcOZffrA%3D%3D&lsparams=mh%2Cmm%2Cmn%2Cms%2Cmv%2Cmvi%2Cpl%2Cinitcwndbps&lsig=AK1ks_kwRgIhALFomLRiCxOE6SeGukA_C1w6i5sFCjqcUIir258ERAW4AiEAvD_664LQVOj20UdW1chqtSdivTkDcPaongBqVoft6G4%3D':\n",
      "  Metadata:\n",
      "    encoder         : google/video-file\n",
      "  Duration: 00:04:52.84, start: -0.007000, bitrate: 139 kb/s\n",
      "  Stream #0:0(eng): Audio: opus, 48000 Hz, stereo, fltp (default)\n",
      "Stream mapping:\n",
      "  Stream #0:0 -> #0:0 (opus (native) -> opus (libopus))\n",
      "Press [q] to stop, [?] for help\n",
      "[libopus @ 0x55a352f3d380] No bit rate set. Defaulting to 96000 bps.\n",
      "Output #0, webm, to 'file:./test/StimuliFinal/long/Orchestral/il porco rosso [iKMHCmDdJ2U].webm.part':\n",
      "  Metadata:\n",
      "    encoder         : Lavf58.76.100\n",
      "  Stream #0:0(eng): Audio: opus, 48000 Hz, stereo, flt, 96 kb/s (default)\n",
      "    Metadata:\n",
      "      encoder         : Lavc58.134.100 libopus\n",
      "size=     512kB time=00:00:57.97 bitrate=  72.3kbits/s speed=  13x    \r"
     ]
    },
    {
     "name": "stdout",
     "output_type": "stream",
     "text": [
      "[download] 100% of  851.42KiB in 00:00:04 at 171.20KiB/s\n",
      "[ExtractAudio] Destination: ./test/StimuliFinal/long/Orchestral/il porco rosso [iKMHCmDdJ2U].wav\n"
     ]
    },
    {
     "name": "stderr",
     "output_type": "stream",
     "text": [
      "size=     851kB time=00:01:05.99 bitrate= 105.7kbits/s speed=  14x    \n",
      "video:0kB audio:828kB subtitle:0kB other streams:0kB global headers:0kB muxing overhead: 2.839514%\n"
     ]
    },
    {
     "name": "stdout",
     "output_type": "stream",
     "text": [
      "Deleting original file ./test/StimuliFinal/long/Orchestral/il porco rosso [iKMHCmDdJ2U].webm (pass -k to keep)\n",
      "Downloading long track : Another Brick In The Wall (Part 1) https://www.youtube.com/watch?v=-cfJqYtmmqA\n",
      "[youtube] Extracting URL: https://www.youtube.com/watch?v=-cfJqYtmmqA\n",
      "[youtube] -cfJqYtmmqA: Downloading webpage\n",
      "[youtube] -cfJqYtmmqA: Downloading ios player API JSON\n",
      "[youtube] -cfJqYtmmqA: Downloading android player API JSON\n",
      "[youtube] -cfJqYtmmqA: Downloading m3u8 information\n",
      "[info] -cfJqYtmmqA: Downloading 1 format(s): 251\n",
      "[info] -cfJqYtmmqA: Downloading 1 time ranges: 84.0-129.0\n",
      "[download] Destination: ./test/StimuliFinal/long/Orchestral/Another Brick In The Wall (Part 1) [-cfJqYtmmqA].webm\n"
     ]
    },
    {
     "name": "stderr",
     "output_type": "stream",
     "text": [
      "Input #0, matroska,webm, from 'https://rr1---sn-gpn9-t0as.googlevideo.com/videoplayback?expire=1697588841&ei=CdIuZc75B8-s_9EP2duhmA0&ip=206.167.239.2&id=o-AC44auZBaJImytqVR7XoNxvafm8FH7NEZ3x4Pt8lxVTH&itag=251&source=youtube&requiressl=yes&mh=jv&mm=31%2C29&mn=sn-gpn9-t0as%2Csn-t0a7sn7d&ms=au%2Crdu&mv=m&mvi=1&pl=24&gcr=ca&initcwndbps=1101250&spc=UWF9fx0JWcHYqTN-yJ3dKwl-1gaRfG8&vprv=1&svpuc=1&mime=audio%2Fwebm&gir=yes&clen=3128434&dur=191.761&lmt=1592564865863361&mt=1697566861&fvip=2&keepalive=yes&fexp=24007246&beids=24472446&c=ANDROID&txp=5511222&sparams=expire%2Cei%2Cip%2Cid%2Citag%2Csource%2Crequiressl%2Cgcr%2Cspc%2Cvprv%2Csvpuc%2Cmime%2Cgir%2Cclen%2Cdur%2Clmt&sig=AGM4YrMwRQIhAO8rHU-ZdKYXn05g2G3JyC_T1o1jyjWpaxjCqMUW4CBpAiA4lbRod-8-YlDr0gNTOo4B4f_wSo6lGSKYn8Amb4OHtg%3D%3D&lsparams=mh%2Cmm%2Cmn%2Cms%2Cmv%2Cmvi%2Cpl%2Cinitcwndbps&lsig=AK1ks_kwRgIhAKzIRWu57NB3EOXuxujnubc_Www86n0Q4Z-xN2jVfSA3AiEA2HI8ufHyq8u8O4g7OjtFVtZXovkqw8dp-HvK9Kcf0GU%3D':\n",
      "  Metadata:\n",
      "    encoder         : google/video-file\n",
      "  Duration: 00:03:11.76, start: -0.007000, bitrate: 130 kb/s\n",
      "  Stream #0:0(eng): Audio: opus, 48000 Hz, stereo, fltp (default)\n",
      "Stream mapping:\n",
      "  Stream #0:0 -> #0:0 (opus (native) -> opus (libopus))\n",
      "Press [q] to stop, [?] for help\n",
      "[libopus @ 0x563f53e17f80] No bit rate set. Defaulting to 96000 bps.\n",
      "Output #0, webm, to 'file:./test/StimuliFinal/long/Orchestral/Another Brick In The Wall (Part 1) [-cfJqYtmmqA].webm.part':\n",
      "  Metadata:\n",
      "    encoder         : Lavf58.76.100\n",
      "  Stream #0:0(eng): Audio: opus, 48000 Hz, stereo, flt, 96 kb/s (default)\n",
      "    Metadata:\n",
      "      encoder         : Lavc58.134.100 libopus\n",
      "size=     256kB time=00:00:33.25 bitrate=  63.1kbits/s speed=21.5x    \r"
     ]
    },
    {
     "name": "stdout",
     "output_type": "stream",
     "text": [
      "[download] 100% of  547.90KiB in 00:00:02 at 256.95KiB/s\n",
      "[ExtractAudio] Destination: ./test/StimuliFinal/long/Orchestral/Another Brick In The Wall (Part 1) [-cfJqYtmmqA].wav\n",
      "Deleting original file ./test/StimuliFinal/long/Orchestral/Another Brick In The Wall (Part 1) [-cfJqYtmmqA].webm (pass -k to keep)\n"
     ]
    },
    {
     "name": "stderr",
     "output_type": "stream",
     "text": [
      "size=     548kB time=00:00:44.99 bitrate=  99.8kbits/s speed=23.8x    \n",
      "video:0kB audio:532kB subtitle:0kB other streams:0kB global headers:0kB muxing overhead: 3.049522%\n"
     ]
    },
    {
     "name": "stdout",
     "output_type": "stream",
     "text": [
      "Downloading long track : Kiki's Delivery Service https://www.youtube.com/watch?v=HPg_auEBL1Y\n",
      "[youtube] Extracting URL: https://www.youtube.com/watch?v=HPg_auEBL1Y\n",
      "[youtube] HPg_auEBL1Y: Downloading webpage\n",
      "[youtube] HPg_auEBL1Y: Downloading ios player API JSON\n",
      "[youtube] HPg_auEBL1Y: Downloading android player API JSON\n",
      "[youtube] HPg_auEBL1Y: Downloading m3u8 information\n",
      "[info] HPg_auEBL1Y: Downloading 1 format(s): 251\n",
      "[info] HPg_auEBL1Y: Downloading 1 time ranges: 0.0-48.0\n",
      "[download] Destination: ./test/StimuliFinal/long/Orchestral/Joe Hisaishi - Kiki's Delivery Service [HPg_auEBL1Y].webm\n"
     ]
    },
    {
     "name": "stderr",
     "output_type": "stream",
     "text": [
      "Input #0, matroska,webm, from 'https://rr2---sn-gpn9-t0as.googlevideo.com/videoplayback?expire=1697588845&ei=DdIuZaeGCJqN_9EP1NKTuAk&ip=206.167.239.2&id=o-ADnThCb_WcDRzMjtWx4hG6mwFhlYeF-yb9p3qg3E6vcu&itag=251&source=youtube&requiressl=yes&mh=zX&mm=31%2C29&mn=sn-gpn9-t0as%2Csn-t0a7lnee&ms=au%2Crdu&mv=m&mvi=2&pl=24&gcr=ca&initcwndbps=1101250&spc=UWF9f23O6kvFmhosrBfGgwubn8lvLGM&vprv=1&svpuc=1&mime=audio%2Fwebm&gir=yes&clen=4588455&dur=272.461&lmt=1587108540316550&mt=1697566861&fvip=5&keepalive=yes&fexp=24007246&beids=24350018&c=ANDROID&txp=5311222&sparams=expire%2Cei%2Cip%2Cid%2Citag%2Csource%2Crequiressl%2Cgcr%2Cspc%2Cvprv%2Csvpuc%2Cmime%2Cgir%2Cclen%2Cdur%2Clmt&sig=AGM4YrMwRQIhAOHlHe5jl7HdsUjqinK5H2fWO11Jwc2bXA2KSanppK6-AiADqJQrcnqA5eR0-K0Nr6VnxRpn2gOwreyij8bHNF4qRw%3D%3D&lsparams=mh%2Cmm%2Cmn%2Cms%2Cmv%2Cmvi%2Cpl%2Cinitcwndbps&lsig=AK1ks_kwRgIhAPVOuF9c69BoE-fvRkNNHXpjtHsF8FBkFv7vggJaQEBwAiEAi27fne2f78Wjp6fbXkCD7mVJkA6DTq-RiWSVftsN3ac%3D':\n",
      "  Metadata:\n",
      "    encoder         : google/video-file\n",
      "  Duration: 00:04:32.46, start: -0.007000, bitrate: 134 kb/s\n",
      "  Stream #0:0(eng): Audio: opus, 48000 Hz, stereo, fltp (default)\n",
      "Stream mapping:\n",
      "  Stream #0:0 -> #0:0 (opus (native) -> opus (libopus))\n",
      "Press [q] to stop, [?] for help\n",
      "[libopus @ 0x55c43f82b880] No bit rate set. Defaulting to 96000 bps.\n",
      "Output #0, webm, to 'file:./test/StimuliFinal/long/Orchestral/Joe Hisaishi - Kiki's Delivery Service [HPg_auEBL1Y].webm.part':\n",
      "  Metadata:\n",
      "    encoder         : Lavf58.76.100\n",
      "  Stream #0:0(eng): Audio: opus, 48000 Hz, stereo, flt, 96 kb/s (default)\n",
      "    Metadata:\n",
      "      encoder         : Lavc58.134.100 libopus\n",
      "size=     512kB time=00:00:40.54 bitrate= 103.5kbits/s speed=22.7x    \r"
     ]
    },
    {
     "name": "stdout",
     "output_type": "stream",
     "text": [
      "[download] 100% of  624.42KiB in 00:00:02 at 292.69KiB/s\n",
      "[ExtractAudio] Destination: ./test/StimuliFinal/long/Orchestral/Joe Hisaishi - Kiki's Delivery Service [HPg_auEBL1Y].wav\n",
      "Deleting original file ./test/StimuliFinal/long/Orchestral/Joe Hisaishi - Kiki's Delivery Service [HPg_auEBL1Y].webm (pass -k to keep)\n"
     ]
    },
    {
     "name": "stderr",
     "output_type": "stream",
     "text": [
      "size=     624kB time=00:00:48.00 bitrate= 106.6kbits/s speed=  24x    \n",
      "video:0kB audio:607kB subtitle:0kB other streams:0kB global headers:0kB muxing overhead: 2.835095%\n"
     ]
    },
    {
     "name": "stdout",
     "output_type": "stream",
     "text": [
      "Downloading long track : Waltz No. 2 https://www.youtube.com/watch?v=mmCnQDUSO4I&t=42\n",
      "[youtube] Extracting URL: https://www.youtube.com/watch?v=mmCnQDUSO4I&t=42\n",
      "[youtube] mmCnQDUSO4I: Downloading webpage\n",
      "[youtube] mmCnQDUSO4I: Downloading ios player API JSON\n",
      "[youtube] mmCnQDUSO4I: Downloading android player API JSON\n",
      "[youtube] mmCnQDUSO4I: Downloading m3u8 information\n",
      "[info] mmCnQDUSO4I: Downloading 1 format(s): 251\n",
      "[info] mmCnQDUSO4I: Downloading 1 time ranges: 0.0-41.0\n",
      "[download] Destination: ./test/StimuliFinal/long/Orchestral/Dmitri Shostakovich - Waltz No. 2 [mmCnQDUSO4I].webm\n"
     ]
    },
    {
     "name": "stderr",
     "output_type": "stream",
     "text": [
      "Input #0, matroska,webm, from 'https://rr3---sn-gpn9-t0as.googlevideo.com/videoplayback?expire=1697588848&ei=ENIuZc-vMojfgwP8gJf4AQ&ip=206.167.239.2&id=o-AF40It8OnIxOdvIZYSyNMNdVim6xQfuwrO6XUpkZNkzp&itag=251&source=youtube&requiressl=yes&mh=FW&mm=31%2C29&mn=sn-gpn9-t0as%2Csn-t0a7lnee&ms=au%2Crdu&mv=m&mvi=3&pl=24&initcwndbps=1101250&spc=UWF9f7KYl6jEf5peHC0wJ1BukjCVB4U&vprv=1&svpuc=1&mime=audio%2Fwebm&gir=yes&clen=3762412&dur=230.101&lmt=1692391642813643&mt=1697566861&fvip=5&keepalive=yes&fexp=24007246&beids=24350018&c=ANDROID&txp=4532434&sparams=expire%2Cei%2Cip%2Cid%2Citag%2Csource%2Crequiressl%2Cspc%2Cvprv%2Csvpuc%2Cmime%2Cgir%2Cclen%2Cdur%2Clmt&sig=AGM4YrMwRgIhAPig9hNIaGOSw7s5mZJ4Np6EQD8x2Z96PhEE3IseqwPTAiEAsVsdLmCogfHU3GybFVQ7HH1RyiBNo_fOXRWK47kuFyo%3D&lsparams=mh%2Cmm%2Cmn%2Cms%2Cmv%2Cmvi%2Cpl%2Cinitcwndbps&lsig=AK1ks_kwRgIhAIh9RwUWkViUjXTZeBYceMVMKjCSPDf_oKFARnNEmVS9AiEAyAoGoAMO1P-0yBBMiQHUPuH4iBQQvLcAj0CdnZnbKA0%3D':\n",
      "  Metadata:\n",
      "    encoder         : google/video-file\n",
      "  Duration: 00:03:50.10, start: -0.007000, bitrate: 130 kb/s\n",
      "  Stream #0:0(eng): Audio: opus, 48000 Hz, stereo, fltp (default)\n",
      "Stream mapping:\n",
      "  Stream #0:0 -> #0:0 (opus (native) -> opus (libopus))\n",
      "Press [q] to stop, [?] for help\n",
      "[libopus @ 0x560c33f6d240] No bit rate set. Defaulting to 96000 bps.\n",
      "Output #0, webm, to 'file:./test/StimuliFinal/long/Orchestral/Dmitri Shostakovich - Waltz No. 2 [mmCnQDUSO4I].webm.part':\n",
      "  Metadata:\n",
      "    encoder         : Lavf58.76.100\n",
      "  Stream #0:0(eng): Audio: opus, 48000 Hz, stereo, flt, 96 kb/s (default)\n",
      "    Metadata:\n",
      "      encoder         : Lavc58.134.100 libopus\n",
      "size=     191kB time=00:00:18.64 bitrate=  84.0kbits/s speed=37.3x    \r"
     ]
    },
    {
     "name": "stdout",
     "output_type": "stream",
     "text": [
      "[download] 100% of  526.81KiB in 00:00:01 at 399.27KiB/s\n"
     ]
    },
    {
     "name": "stderr",
     "output_type": "stream",
     "text": [
      "size=     527kB time=00:00:41.00 bitrate= 105.3kbits/s speed=34.6x    \n",
      "video:0kB audio:512kB subtitle:0kB other streams:0kB global headers:0kB muxing overhead: 2.892701%\n"
     ]
    },
    {
     "name": "stdout",
     "output_type": "stream",
     "text": [
      "[ExtractAudio] Destination: ./test/StimuliFinal/long/Orchestral/Dmitri Shostakovich - Waltz No. 2 [mmCnQDUSO4I].wav\n",
      "Deleting original file ./test/StimuliFinal/long/Orchestral/Dmitri Shostakovich - Waltz No. 2 [mmCnQDUSO4I].webm (pass -k to keep)\n",
      "Downloading long track : The Moldau https://www.youtube.com/watch?v=pT2bgYo9RT0\n",
      "[youtube] Extracting URL: https://www.youtube.com/watch?v=pT2bgYo9RT0\n",
      "[youtube] pT2bgYo9RT0: Downloading webpage\n",
      "[youtube] pT2bgYo9RT0: Downloading ios player API JSON\n",
      "[youtube] pT2bgYo9RT0: Downloading android player API JSON\n",
      "[youtube] pT2bgYo9RT0: Downloading m3u8 information\n",
      "[info] pT2bgYo9RT0: Downloading 1 format(s): 251\n",
      "[info] pT2bgYo9RT0: Downloading 1 time ranges: 0.0-54.0\n",
      "[download] Destination: ./test/StimuliFinal/long/Orchestral/The Moldau (Studio recording) [pT2bgYo9RT0].webm\n"
     ]
    },
    {
     "name": "stderr",
     "output_type": "stream",
     "text": [
      "Input #0, matroska,webm, from 'https://rr4---sn-gpn9-t0as.googlevideo.com/videoplayback?expire=1697588851&ei=E9IuZc74Lq2J_9EPvcO9gAE&ip=206.167.239.2&id=o-ALlInnbjZW5D8bB47b6ccpAOzDrow9kj467jIWwvEXNm&itag=251&source=youtube&requiressl=yes&mh=V2&mm=31%2C29&mn=sn-gpn9-t0as%2Csn-t0a7sn7d&ms=au%2Crdu&mv=m&mvi=4&pl=24&gcr=ca&initcwndbps=1101250&spc=UWF9f7CbxX8AFeiLzofgrxjIvDCFDl0&vprv=1&svpuc=1&mime=audio%2Fwebm&gir=yes&clen=12903679&dur=774.261&lmt=1678118159989894&mt=1697566861&fvip=2&keepalive=yes&fexp=24007246&beids=24350018&c=ANDROID&txp=2318224&sparams=expire%2Cei%2Cip%2Cid%2Citag%2Csource%2Crequiressl%2Cgcr%2Cspc%2Cvprv%2Csvpuc%2Cmime%2Cgir%2Cclen%2Cdur%2Clmt&sig=AGM4YrMwRgIhANHicgW6cQG-6UFUk1aFH7wck0ar_iccEuAb7fD5QU86AiEAzqCKizH9xp3FQLL2xP8SQQgJCP98xNnDSQmZJsPHYpQ%3D&lsparams=mh%2Cmm%2Cmn%2Cms%2Cmv%2Cmvi%2Cpl%2Cinitcwndbps&lsig=AK1ks_kwRAIgFnlmAfL4lggncZtU0OqCk4FPLpYxZWkElLpMR_Mje9MCIBnTvClcnN_WJSC3-lUkHRKiTsKVlTEou4SRrLxVFsxC':\n",
      "  Metadata:\n",
      "    encoder         : google/video-file\n",
      "  Duration: 00:12:54.26, start: -0.007000, bitrate: 133 kb/s\n",
      "  Stream #0:0(eng): Audio: opus, 48000 Hz, stereo, fltp (default)\n",
      "Stream mapping:\n",
      "  Stream #0:0 -> #0:0 (opus (native) -> opus (libopus))\n",
      "Press [q] to stop, [?] for help\n",
      "[libopus @ 0x5653b3898500] No bit rate set. Defaulting to 96000 bps.\n",
      "Output #0, webm, to 'file:./test/StimuliFinal/long/Orchestral/The Moldau (Studio recording) [pT2bgYo9RT0].webm.part':\n",
      "  Metadata:\n",
      "    encoder         : Lavf58.76.100\n",
      "  Stream #0:0(eng): Audio: opus, 48000 Hz, stereo, flt, 96 kb/s (default)\n",
      "    Metadata:\n",
      "      encoder         : Lavc58.134.100 libopus\n",
      "size=     512kB time=00:00:52.28 bitrate=  80.2kbits/s speed=1.85x    \r"
     ]
    },
    {
     "name": "stdout",
     "output_type": "stream",
     "text": [
      "[download] 100% of  723.77KiB in 00:00:28 at 25.03KiB/s\n",
      "[ExtractAudio] Destination: ./test/StimuliFinal/long/Orchestral/The Moldau (Studio recording) [pT2bgYo9RT0].wav\n",
      "Deleting original file ./test/StimuliFinal/long/Orchestral/The Moldau (Studio recording) [pT2bgYo9RT0].webm (pass -k to keep)\n"
     ]
    },
    {
     "name": "stderr",
     "output_type": "stream",
     "text": [
      "size=     724kB time=00:00:54.00 bitrate= 109.8kbits/s speed=1.89x    \n",
      "video:0kB audio:704kB subtitle:0kB other streams:0kB global headers:0kB muxing overhead: 2.738617%\n"
     ]
    },
    {
     "name": "stdout",
     "output_type": "stream",
     "text": [
      "Downloading long track : 2001, l'odyssée de l’espace https://www.youtube.com/watch?v=5HjTXZPnYso\n",
      "[youtube] Extracting URL: https://www.youtube.com/watch?v=5HjTXZPnYso\n",
      "[youtube] 5HjTXZPnYso: Downloading webpage\n",
      "[youtube] 5HjTXZPnYso: Downloading ios player API JSON\n",
      "[youtube] 5HjTXZPnYso: Downloading android player API JSON\n",
      "[youtube] 5HjTXZPnYso: Downloading m3u8 information\n",
      "[youtube] 5HjTXZPnYso: Downloading MPD manifest\n",
      "[info] 5HjTXZPnYso: Downloading 1 format(s): 251\n",
      "[info] 5HjTXZPnYso: Downloading 1 time ranges: 19.0-80.0\n",
      "[download] Destination: ./test/StimuliFinal/long/Orchestral/Générique 2001, l'Odyssée de l'espace de Stanley Kubrick 1968 [5HjTXZPnYso].webm\n"
     ]
    },
    {
     "name": "stderr",
     "output_type": "stream",
     "text": [
      "Input #0, matroska,webm, from 'https://rr1---sn-gpn9-t0as.googlevideo.com/videoplayback?expire=1697588882&ei=MtIuZd6iDs2k_9EPpYGskAE&ip=206.167.239.2&id=o-AN_4jHGbs7Q8PzTQpFfG9QPD4UAtCtux0k6VTXI-zEPG&itag=251&source=youtube&requiressl=yes&mh=Uk&mm=31%2C29&mn=sn-gpn9-t0as%2Csn-t0a7lnee&ms=au%2Crdu&mv=m&mvi=1&pcm2cms=yes&pl=24&initcwndbps=1101250&spc=UWF9fzZXLK_77PzvTWEn5-fy5IPgYYg&vprv=1&svpuc=1&mime=audio%2Fwebm&gir=yes&clen=1497422&dur=83.821&lmt=1626216668746441&mt=1697566861&fvip=4&keepalive=yes&fexp=24007246&beids=24350018&c=ANDROID&txp=5311222&sparams=expire%2Cei%2Cip%2Cid%2Citag%2Csource%2Crequiressl%2Cspc%2Cvprv%2Csvpuc%2Cmime%2Cgir%2Cclen%2Cdur%2Clmt&sig=AGM4YrMwRQIgOAWjF4vGZzZUzerUug3kMUC4sB5YaObEqnPxFmRJbEcCIQCYkIms1NOPMFDkhH_4sGec9auRB8sbGxSp9VIWYRVGqQ%3D%3D&lsparams=mh%2Cmm%2Cmn%2Cms%2Cmv%2Cmvi%2Cpcm2cms%2Cpl%2Cinitcwndbps&lsig=AK1ks_kwRQIhAI-v_cEhTrnx_qMFzRah1Vfk2QOzkaygTucf7JihsEfiAiBCEQNpoYN2WsvNTW4gNrF-1WLwouz0UYYQ2AIX-TEg5A%3D%3D':\n",
      "  Metadata:\n",
      "    encoder         : google/video-file\n",
      "  Duration: 00:01:23.82, start: -0.007000, bitrate: 142 kb/s\n",
      "  Stream #0:0(eng): Audio: opus, 48000 Hz, stereo, fltp (default)\n",
      "Stream mapping:\n",
      "  Stream #0:0 -> #0:0 (opus (native) -> opus (libopus))\n",
      "Press [q] to stop, [?] for help\n",
      "[libopus @ 0x560a31459140] No bit rate set. Defaulting to 96000 bps.\n",
      "Output #0, webm, to 'file:./test/StimuliFinal/long/Orchestral/Générique 2001, l'Odyssée de l'espace de Stanley Kubrick 1968 [5HjTXZPnYso].webm.part':\n",
      "  Metadata:\n",
      "    encoder         : Lavf58.76.100\n",
      "  Stream #0:0(eng): Audio: opus, 48000 Hz, stereo, flt, 96 kb/s (default)\n",
      "    Metadata:\n",
      "      encoder         : Lavc58.134.100 libopus\n",
      "size=     512kB time=00:00:41.77 bitrate= 100.4kbits/s speed=13.8x    \r"
     ]
    },
    {
     "name": "stdout",
     "output_type": "stream",
     "text": [
      "[download] 100% of  813.28KiB in 00:00:03 at 210.16KiB/s\n",
      "[ExtractAudio] Destination: ./test/StimuliFinal/long/Orchestral/Générique 2001, l'Odyssée de l'espace de Stanley Kubrick 1968 [5HjTXZPnYso].wav\n"
     ]
    },
    {
     "name": "stderr",
     "output_type": "stream",
     "text": [
      "size=     813kB time=00:01:00.99 bitrate= 109.2kbits/s speed=  17x    \n",
      "video:0kB audio:792kB subtitle:0kB other streams:0kB global headers:0kB muxing overhead: 2.750511%\n"
     ]
    },
    {
     "name": "stdout",
     "output_type": "stream",
     "text": [
      "Deleting original file ./test/StimuliFinal/long/Orchestral/Générique 2001, l'Odyssée de l'espace de Stanley Kubrick 1968 [5HjTXZPnYso].webm (pass -k to keep)\n",
      "Downloading long track : The 4 Seasons, Op. 8/4, RV 297, \"Winter\" https://www.youtube.com/watch?v=_FeJFs6LJjU\n",
      "[youtube] Extracting URL: https://www.youtube.com/watch?v=_FeJFs6LJjU\n",
      "[youtube] _FeJFs6LJjU: Downloading webpage\n",
      "[youtube] _FeJFs6LJjU: Downloading ios player API JSON\n",
      "[youtube] _FeJFs6LJjU: Downloading android player API JSON\n",
      "[youtube] _FeJFs6LJjU: Downloading m3u8 information\n",
      "[info] _FeJFs6LJjU: Downloading 1 format(s): 251\n",
      "[info] _FeJFs6LJjU: Downloading 1 time ranges: 66.0-126.0\n",
      "[download] Destination: ./test/StimuliFinal/long/Orchestral/The 4 Seasons, Op. 8⧸4, RV 297, ＂Winter＂ [_FeJFs6LJjU].webm\n"
     ]
    },
    {
     "name": "stderr",
     "output_type": "stream",
     "text": [
      "Input #0, matroska,webm, from 'https://rr1---sn-gpn9-t0as.googlevideo.com/videoplayback?expire=1697588888&ei=ONIuZfyLGq-l_9EP7bmQ4AY&ip=206.167.239.2&id=o-ANxrflQqxe0vUtOg0KUGWJCyuD9UX9MZDgzoBq6yAK5V&itag=251&source=youtube&requiressl=yes&mh=EK&mm=31%2C29&mn=sn-gpn9-t0as%2Csn-t0a7lnee&ms=au%2Crdu&mv=m&mvi=1&pl=24&gcr=ca&initcwndbps=1101250&spc=UWF9fy6ja2YOxqO9qzfQaiuUjetliiQ&vprv=1&svpuc=1&mime=audio%2Fwebm&gir=yes&clen=9827736&dur=565.941&lmt=1693550997478829&mt=1697566861&fvip=1&keepalive=yes&fexp=24007246&beids=24350018&c=ANDROID&txp=1311224&sparams=expire%2Cei%2Cip%2Cid%2Citag%2Csource%2Crequiressl%2Cgcr%2Cspc%2Cvprv%2Csvpuc%2Cmime%2Cgir%2Cclen%2Cdur%2Clmt&sig=AGM4YrMwRQIhAO5w8aWaUdAEtBQNXzdhK0MPFEdHBekRYVZcbQIbCxPTAiA8xs37qgNEVzimmWMSvw8Q4WXDHZbjpjvEc8h5p2IA8A%3D%3D&lsparams=mh%2Cmm%2Cmn%2Cms%2Cmv%2Cmvi%2Cpl%2Cinitcwndbps&lsig=AK1ks_kwRQIgRPd3GKibBoKAbVoeJAFyJnHDBjimXWZ9ZNV3UeW-kyUCIQD3buft8s7ZrI1ojDv7Y9eow90XEvXHi2SOTGlVY-M5fw%3D%3D':\n",
      "  Metadata:\n",
      "    encoder         : google/video-file\n",
      "  Duration: 00:09:25.94, start: -0.007000, bitrate: 138 kb/s\n",
      "  Stream #0:0(eng): Audio: opus, 48000 Hz, stereo, fltp (default)\n",
      "Stream mapping:\n",
      "  Stream #0:0 -> #0:0 (opus (native) -> opus (libopus))\n",
      "Press [q] to stop, [?] for help\n",
      "[libopus @ 0x55de74285f80] No bit rate set. Defaulting to 96000 bps.\n",
      "Output #0, webm, to 'file:./test/StimuliFinal/long/Orchestral/The 4 Seasons, Op. 8⧸4, RV 297, ＂Winter＂ [_FeJFs6LJjU].webm.part':\n",
      "  Metadata:\n",
      "    encoder         : Lavf58.76.100\n",
      "  Stream #0:0(eng): Audio: opus, 48000 Hz, stereo, flt, 96 kb/s (default)\n",
      "    Metadata:\n",
      "      encoder         : Lavc58.134.100 libopus\n",
      "size=     256kB time=00:00:43.65 bitrate=  48.0kbits/s speed=29.1x    \r"
     ]
    },
    {
     "name": "stdout",
     "output_type": "stream",
     "text": [
      "[download] 100% of  765.60KiB in 00:00:02 at 334.13KiB/s\n",
      "[ExtractAudio] Destination: ./test/StimuliFinal/long/Orchestral/The 4 Seasons, Op. 8⧸4, RV 297, ＂Winter＂ [_FeJFs6LJjU].wav\n",
      "Deleting original file ./test/StimuliFinal/long/Orchestral/The 4 Seasons, Op. 8⧸4, RV 297, ＂Winter＂ [_FeJFs6LJjU].webm (pass -k to keep)\n"
     ]
    },
    {
     "name": "stderr",
     "output_type": "stream",
     "text": [
      "size=     766kB time=00:00:59.99 bitrate= 104.5kbits/s speed=30.6x    \n",
      "video:0kB audio:744kB subtitle:0kB other streams:0kB global headers:0kB muxing overhead: 2.879407%\n"
     ]
    },
    {
     "name": "stdout",
     "output_type": "stream",
     "text": [
      "Downloading long track : Back To The Future (From \"Back To The Future\" Original Score) https://www.youtube.com/watch?v=LpbHlXPmmcE\n",
      "[youtube] Extracting URL: https://www.youtube.com/watch?v=LpbHlXPmmcE\n",
      "[youtube] LpbHlXPmmcE: Downloading webpage\n",
      "[youtube] LpbHlXPmmcE: Downloading ios player API JSON\n",
      "[youtube] LpbHlXPmmcE: Downloading android player API JSON\n",
      "[youtube] LpbHlXPmmcE: Downloading m3u8 information\n",
      "[info] LpbHlXPmmcE: Downloading 1 format(s): 251\n",
      "[info] LpbHlXPmmcE: Downloading 1 time ranges: 0.0-48.0\n",
      "[download] Destination: ./test/StimuliFinal/long/Orchestral/Back To The Future (From ＂Back To The Future＂ Original Score⧸End Credits) [LpbHlXPmmcE].webm\n"
     ]
    },
    {
     "name": "stderr",
     "output_type": "stream",
     "text": [
      "Input #0, matroska,webm, from 'https://rr3---sn-gpn9-t0as.googlevideo.com/videoplayback?expire=1697588892&ei=PNIuZdX6DdWg_9EPy82hgAs&ip=206.167.239.2&id=o-ALJYumriOj--51ON7lYstbKYmZVvKD7GsvKcF9rxVFqd&itag=251&source=youtube&requiressl=yes&mh=cw&mm=31%2C29&mn=sn-gpn9-t0as%2Csn-t0a7lnee&ms=au%2Crdu&mv=m&mvi=3&pl=24&gcr=ca&initcwndbps=1101250&spc=UWF9f4uu8yCr7RWWlPlXd2xvziRfqtc&vprv=1&svpuc=1&mime=audio%2Fwebm&gir=yes&clen=3211939&dur=195.201&lmt=1565931693822206&mt=1697566861&fvip=2&keepalive=yes&fexp=24007246&beids=24350018&c=ANDROID&txp=1311222&sparams=expire%2Cei%2Cip%2Cid%2Citag%2Csource%2Crequiressl%2Cgcr%2Cspc%2Cvprv%2Csvpuc%2Cmime%2Cgir%2Cclen%2Cdur%2Clmt&sig=AGM4YrMwRQIhAIfX5D2uPYK3wWi82GdUiLwk9jZfvAhziwi7lYLBMeLZAiAPzBO-7Hl5LkOoIm5kZqRkjIjYgBMzvRDgKfYQ1QFT1A%3D%3D&lsparams=mh%2Cmm%2Cmn%2Cms%2Cmv%2Cmvi%2Cpl%2Cinitcwndbps&lsig=AK1ks_kwRAIgOCEuMuHoG7sPfwtaq06TjDvUInfAgt3PVtCXHRpPri0CIFIOoQ7paq_hwA6Hpc2OMOcQf0XMeSwNHIFqAm5DQJG2':\n",
      "  Metadata:\n",
      "    encoder         : google/video-file\n",
      "  Duration: 00:03:15.20, start: -0.007000, bitrate: 131 kb/s\n",
      "  Stream #0:0(eng): Audio: opus, 48000 Hz, stereo, fltp (default)\n",
      "Stream mapping:\n",
      "  Stream #0:0 -> #0:0 (opus (native) -> opus (libopus))\n",
      "Press [q] to stop, [?] for help\n",
      "[libopus @ 0x55d20833ec40] No bit rate set. Defaulting to 96000 bps.\n",
      "Output #0, webm, to 'file:./test/StimuliFinal/long/Orchestral/Back To The Future (From ＂Back To The Future＂ Original Score⧸End Credits) [LpbHlXPmmcE].webm.part':\n",
      "  Metadata:\n",
      "    encoder         : Lavf58.76.100\n",
      "  Stream #0:0(eng): Audio: opus, 48000 Hz, stereo, flt, 96 kb/s (default)\n",
      "    Metadata:\n",
      "      encoder         : Lavc58.134.100 libopus\n",
      "size=     256kB time=00:00:34.90 bitrate=  60.1kbits/s speed=15.8x    \r"
     ]
    },
    {
     "name": "stdout",
     "output_type": "stream",
     "text": [
      "[download] 100% of  614.57KiB in 00:00:02 at 224.70KiB/s\n",
      "[ExtractAudio] Destination: ./test/StimuliFinal/long/Orchestral/Back To The Future (From ＂Back To The Future＂ Original Score⧸End Credits) [LpbHlXPmmcE].wav\n",
      "Deleting original file ./test/StimuliFinal/long/Orchestral/Back To The Future (From ＂Back To The Future＂ Original Score⧸End Credits) [LpbHlXPmmcE].webm (pass -k to keep)\n"
     ]
    },
    {
     "name": "stderr",
     "output_type": "stream",
     "text": [
      "size=     615kB time=00:00:48.00 bitrate= 104.9kbits/s speed=18.5x    \n",
      "video:0kB audio:597kB subtitle:0kB other streams:0kB global headers:0kB muxing overhead: 2.885884%\n"
     ]
    },
    {
     "name": "stdout",
     "output_type": "stream",
     "text": [
      "Downloading long track : Main Title Terminator 2 Theme (Remastered 2017) https://www.youtube.com/watch?v=CnQm2_cAZvo\n",
      "[youtube] Extracting URL: https://www.youtube.com/watch?v=CnQm2_cAZvo\n",
      "[youtube] CnQm2_cAZvo: Downloading webpage\n",
      "[youtube] CnQm2_cAZvo: Downloading ios player API JSON\n",
      "[youtube] CnQm2_cAZvo: Downloading android player API JSON\n",
      "[youtube] CnQm2_cAZvo: Downloading m3u8 information\n",
      "[info] CnQm2_cAZvo: Downloading 1 format(s): 251\n",
      "[info] CnQm2_cAZvo: Downloading 1 time ranges: 51.0-105.0\n",
      "[download] Destination: ./test/StimuliFinal/long/Orchestral/Main Title Terminator 2 Theme (Remastered 2017) [CnQm2_cAZvo].webm\n"
     ]
    },
    {
     "name": "stderr",
     "output_type": "stream",
     "text": [
      "Input #0, matroska,webm, from 'https://rr1---sn-gpn9-t0as.googlevideo.com/videoplayback?expire=1697588896&ei=QNIuZZPGFdGN_9EPuvGruAk&ip=206.167.239.2&id=o-AA3npr7Am7d9drF2-SsOsZbuvcRupuJowtTLfj8DCsRr&itag=251&source=youtube&requiressl=yes&mh=oL&mm=31%2C29&mn=sn-gpn9-t0as%2Csn-t0a7lnee&ms=au%2Crdu&mv=m&mvi=1&pl=24&gcr=ca&initcwndbps=1101250&spc=UWF9f5L3hhIZa2D895kpaQM7jUO6EBQ&vprv=1&svpuc=1&mime=audio%2Fwebm&gir=yes&clen=1862512&dur=117.061&lmt=1575171324713344&mt=1697566861&fvip=4&keepalive=yes&fexp=24007246&beids=24350018&c=ANDROID&txp=5431432&sparams=expire%2Cei%2Cip%2Cid%2Citag%2Csource%2Crequiressl%2Cgcr%2Cspc%2Cvprv%2Csvpuc%2Cmime%2Cgir%2Cclen%2Cdur%2Clmt&sig=AGM4YrMwRAIgYLeD8GTRBCxO6KVQn5rAPp3BiMLO6sZM1jkVdOCHGUwCIGb_mXVeTEGncDx9BWIA2qG5wgnPuPxU0Ls0N8t0RZZ7&lsparams=mh%2Cmm%2Cmn%2Cms%2Cmv%2Cmvi%2Cpl%2Cinitcwndbps&lsig=AK1ks_kwRgIhAPcZjCtyf6v7-buNs0MYib_xLVyvzrHEUUFIfse0bnjjAiEAulgyt5XktWapeJ-2JHE__yzbsB_LZJJsqOrDP_tsx4E%3D':\n",
      "  Metadata:\n",
      "    encoder         : google/video-file\n",
      "  Duration: 00:01:57.06, start: -0.007000, bitrate: 127 kb/s\n",
      "  Stream #0:0(eng): Audio: opus, 48000 Hz, stereo, fltp (default)\n",
      "Stream mapping:\n",
      "  Stream #0:0 -> #0:0 (opus (native) -> opus (libopus))\n",
      "Press [q] to stop, [?] for help\n",
      "[libopus @ 0x56177b3d4f80] No bit rate set. Defaulting to 96000 bps.\n",
      "Output #0, webm, to 'file:./test/StimuliFinal/long/Orchestral/Main Title Terminator 2 Theme (Remastered 2017) [CnQm2_cAZvo].webm.part':\n",
      "  Metadata:\n",
      "    encoder         : Lavf58.76.100\n",
      "  Stream #0:0(eng): Audio: opus, 48000 Hz, stereo, flt, 96 kb/s (default)\n",
      "    Metadata:\n",
      "      encoder         : Lavc58.134.100 libopus\n",
      "size=     512kB time=00:00:50.41 bitrate=  83.2kbits/s speed=33.6x    \r"
     ]
    },
    {
     "name": "stdout",
     "output_type": "stream",
     "text": [
      "[download] 100% of  647.22KiB in 00:00:02 at 249.57KiB/s\n",
      "[ExtractAudio] Destination: ./test/StimuliFinal/long/Orchestral/Main Title Terminator 2 Theme (Remastered 2017) [CnQm2_cAZvo].wav\n"
     ]
    },
    {
     "name": "stderr",
     "output_type": "stream",
     "text": [
      "size=     647kB time=00:00:53.99 bitrate=  98.2kbits/s speed=23.5x    \n",
      "video:0kB audio:628kB subtitle:0kB other streams:0kB global headers:0kB muxing overhead: 3.076830%\n"
     ]
    },
    {
     "name": "stdout",
     "output_type": "stream",
     "text": [
      "Deleting original file ./test/StimuliFinal/long/Orchestral/Main Title Terminator 2 Theme (Remastered 2017) [CnQm2_cAZvo].webm (pass -k to keep)\n",
      "Downloading long track : Hook prologue https://www.youtube.com/watch?v=OwpOeeQJXGI\n",
      "[youtube] Extracting URL: https://www.youtube.com/watch?v=OwpOeeQJXGI\n",
      "[youtube] OwpOeeQJXGI: Downloading webpage\n",
      "[youtube] OwpOeeQJXGI: Downloading ios player API JSON\n",
      "[youtube] OwpOeeQJXGI: Downloading android player API JSON\n",
      "[youtube] OwpOeeQJXGI: Downloading m3u8 information\n",
      "[info] OwpOeeQJXGI: Downloading 1 format(s): 251\n",
      "[info] OwpOeeQJXGI: Downloading 1 time ranges: 0.0-44.0\n",
      "[download] Destination: ./test/StimuliFinal/long/Orchestral/Hook- Hook Prologue [OwpOeeQJXGI].webm\n"
     ]
    },
    {
     "name": "stderr",
     "output_type": "stream",
     "text": [
      "Input #0, matroska,webm, from 'https://rr3---sn-gpn9-t0as.googlevideo.com/videoplayback?expire=1697588900&ei=RNIuZZfMIMr08gTF-rCIAw&ip=206.167.239.2&id=o-ADdL2Q_2hqQKxtxZxrUVgQiRdRbOdsy2zvvJiUXNy_P4&itag=251&source=youtube&requiressl=yes&mh=Sq&mm=31%2C29&mn=sn-gpn9-t0as%2Csn-t0a7sn7d&ms=au%2Crdu&mv=m&mvi=3&pl=24&gcr=ca&initcwndbps=1101250&spc=UWF9f8cYKGUcdGpiDKA_3nR7pjB1o_w&vprv=1&svpuc=1&mime=audio%2Fwebm&gir=yes&clen=1485778&dur=90.081&lmt=1558476848115659&mt=1697566861&fvip=5&keepalive=yes&fexp=24007246&beids=24350018&c=ANDROID&txp=5432432&sparams=expire%2Cei%2Cip%2Cid%2Citag%2Csource%2Crequiressl%2Cgcr%2Cspc%2Cvprv%2Csvpuc%2Cmime%2Cgir%2Cclen%2Cdur%2Clmt&sig=AGM4YrMwRAIgBKuNrVMm8ffErvI4u61dij2pXgAPYRoZmZsSKesSheQCIDZKBFaiDMk2BdlQcKBbvTo5Yc1EI3dQ721Kx3v3zueu&lsparams=mh%2Cmm%2Cmn%2Cms%2Cmv%2Cmvi%2Cpl%2Cinitcwndbps&lsig=AK1ks_kwRQIhAOTHToaXaWSbg2vzwODtu05OR57UGae5LShK4OSS9rndAiB1MkO3IbxRj63Ixn7eBdPpshiJP1rlDy5ADoeNoc1W1w%3D%3D':\n",
      "  Metadata:\n",
      "    encoder         : google/video-file\n",
      "  Duration: 00:01:30.08, start: -0.007000, bitrate: 131 kb/s\n",
      "  Stream #0:0(eng): Audio: opus, 48000 Hz, stereo, fltp (default)\n",
      "Stream mapping:\n",
      "  Stream #0:0 -> #0:0 (opus (native) -> opus (libopus))\n",
      "Press [q] to stop, [?] for help\n",
      "[libopus @ 0x55ee658e8100] No bit rate set. Defaulting to 96000 bps.\n",
      "Output #0, webm, to 'file:./test/StimuliFinal/long/Orchestral/Hook- Hook Prologue [OwpOeeQJXGI].webm.part':\n",
      "  Metadata:\n",
      "    encoder         : Lavf58.76.100\n",
      "  Stream #0:0(eng): Audio: opus, 48000 Hz, stereo, flt, 96 kb/s (default)\n",
      "    Metadata:\n",
      "      encoder         : Lavc58.134.100 libopus\n",
      "size=     246kB time=00:00:20.72 bitrate=  97.4kbits/s speed=16.6x    \r"
     ]
    },
    {
     "name": "stdout",
     "output_type": "stream",
     "text": [
      "[download] 100% of  532.16KiB in 00:00:02 at 257.10KiB/s\n"
     ]
    },
    {
     "name": "stderr",
     "output_type": "stream",
     "text": [
      "size=     532kB time=00:00:44.00 bitrate=  99.1kbits/s speed=22.7x    \n",
      "video:0kB audio:516kB subtitle:0kB other streams:0kB global headers:0kB muxing overhead: 3.064152%\n"
     ]
    },
    {
     "name": "stdout",
     "output_type": "stream",
     "text": [
      "[ExtractAudio] Destination: ./test/StimuliFinal/long/Orchestral/Hook- Hook Prologue [OwpOeeQJXGI].wav\n",
      "Deleting original file ./test/StimuliFinal/long/Orchestral/Hook- Hook Prologue [OwpOeeQJXGI].webm (pass -k to keep)\n",
      "Downloading long track : Suite bergamasque, CD 82, L. 75: III. Clair de lune https://www.youtube.com/watch?v=JVmwLJeeOy4\n",
      "[youtube] Extracting URL: https://www.youtube.com/watch?v=JVmwLJeeOy4\n",
      "[youtube] JVmwLJeeOy4: Downloading webpage\n",
      "[youtube] JVmwLJeeOy4: Downloading ios player API JSON\n",
      "[youtube] JVmwLJeeOy4: Downloading android player API JSON\n",
      "[youtube] JVmwLJeeOy4: Downloading m3u8 information\n",
      "[info] JVmwLJeeOy4: Downloading 1 format(s): 251\n",
      "[info] JVmwLJeeOy4: Downloading 1 time ranges: 2.0-52.0\n",
      "[download] Destination: ./test/StimuliFinal/long/Orchestral/Suite bergamasque, CD 82, L. 75： III. Clair de lune [JVmwLJeeOy4].webm\n"
     ]
    },
    {
     "name": "stderr",
     "output_type": "stream",
     "text": [
      "Input #0, matroska,webm, from 'https://rr1---sn-gpn9-t0as.googlevideo.com/videoplayback?expire=1697588904&ei=SNIuZaLROc_p8wTE3pvwCg&ip=206.167.239.2&id=o-ANCcy1W6W5Jmzh6ztdsBC_5KlIm4RpMo4kgTfe4Zn9J-&itag=251&source=youtube&requiressl=yes&mh=VG&mm=31%2C29&mn=sn-gpn9-t0as%2Csn-t0a7sn7d&ms=au%2Crdu&mv=m&mvi=1&pl=24&gcr=ca&initcwndbps=1101250&spc=UWF9f3RLWzyyPZqMoNbv0FLIsLa86K0&vprv=1&svpuc=1&mime=audio%2Fwebm&gir=yes&clen=5624837&dur=300.741&lmt=1581354792326921&mt=1697566861&fvip=5&keepalive=yes&fexp=24007246&beids=24350018&c=ANDROID&txp=5531432&sparams=expire%2Cei%2Cip%2Cid%2Citag%2Csource%2Crequiressl%2Cgcr%2Cspc%2Cvprv%2Csvpuc%2Cmime%2Cgir%2Cclen%2Cdur%2Clmt&sig=AGM4YrMwRQIgRHXXW3yeLE8otXaLggVECAGuaLqF43Cg4mIF7ngi82ACIQCoR3MmH_2GTmoj9LWMnYz-FFjn_J0z37pR5_f7iNaFkw%3D%3D&lsparams=mh%2Cmm%2Cmn%2Cms%2Cmv%2Cmvi%2Cpl%2Cinitcwndbps&lsig=AK1ks_kwRQIgSJacYjI308G0ywEuxSNTI3fw3ZpYxdMJxEt6POIA0zICIQDfbhx29hlITt5tYdb6TByzPHBscXNrFmSin0xgSj-Y4Q%3D%3D':\n",
      "  Metadata:\n",
      "    encoder         : google/video-file\n",
      "  Duration: 00:05:00.74, start: -0.007000, bitrate: 149 kb/s\n",
      "  Stream #0:0(eng): Audio: opus, 48000 Hz, stereo, fltp (default)\n",
      "Stream mapping:\n",
      "  Stream #0:0 -> #0:0 (opus (native) -> opus (libopus))\n",
      "Press [q] to stop, [?] for help\n",
      "[libopus @ 0x55c556487c80] No bit rate set. Defaulting to 96000 bps.\n",
      "Output #0, webm, to 'file:./test/StimuliFinal/long/Orchestral/Suite bergamasque, CD 82, L. 75： III. Clair de lune [JVmwLJeeOy4].webm.part':\n",
      "  Metadata:\n",
      "    encoder         : Lavf58.76.100\n",
      "  Stream #0:0(eng): Audio: opus, 48000 Hz, stereo, flt, 96 kb/s (default)\n",
      "    Metadata:\n",
      "      encoder         : Lavc58.134.100 libopus\n",
      "size=     256kB time=00:00:37.95 bitrate=  55.3kbits/s speed=19.2x    \r"
     ]
    },
    {
     "name": "stdout",
     "output_type": "stream",
     "text": [
      "[download] 100% of  698.78KiB in 00:00:02 at 282.10KiB/s\n",
      "[ExtractAudio] Destination: ./test/StimuliFinal/long/Orchestral/Suite bergamasque, CD 82, L. 75： III. Clair de lune [JVmwLJeeOy4].wav\n",
      "Deleting original file ./test/StimuliFinal/long/Orchestral/Suite bergamasque, CD 82, L. 75： III. Clair de lune [JVmwLJeeOy4].webm (pass -k to keep)\n"
     ]
    },
    {
     "name": "stderr",
     "output_type": "stream",
     "text": [
      "size=     699kB time=00:00:49.99 bitrate= 114.5kbits/s speed=21.1x    \n",
      "video:0kB audio:681kB subtitle:0kB other streams:0kB global headers:0kB muxing overhead: 2.636803%\n"
     ]
    },
    {
     "name": "stdout",
     "output_type": "stream",
     "text": [
      "Downloading long track : Gnossienne No.1 https://www.youtube.com/watch?v=t27rzTkFKmU\n",
      "[youtube] Extracting URL: https://www.youtube.com/watch?v=t27rzTkFKmU\n",
      "[youtube] t27rzTkFKmU: Downloading webpage\n",
      "[youtube] t27rzTkFKmU: Downloading ios player API JSON\n",
      "[youtube] t27rzTkFKmU: Downloading android player API JSON\n",
      "[youtube] t27rzTkFKmU: Downloading m3u8 information\n",
      "[info] t27rzTkFKmU: Downloading 1 format(s): 251\n",
      "[info] t27rzTkFKmU: Downloading 1 time ranges: 0.0-63.0\n",
      "[download] Destination: ./test/StimuliFinal/long/Orchestral/Satie： Gnossiennes - Gnossiennes No. 1 - Lent [t27rzTkFKmU].webm\n"
     ]
    },
    {
     "name": "stderr",
     "output_type": "stream",
     "text": [
      "Input #0, matroska,webm, from 'https://rr4---sn-gpn9-t0as.googlevideo.com/videoplayback?expire=1697588909&ei=TdIuZZjJGpiW_9EPz9qJ0Ag&ip=206.167.239.2&id=o-ANg4TxhFk5TJjw_HSUUK-akUkDA6IFtWPGd0GY7aqR7j&itag=251&source=youtube&requiressl=yes&mh=CE&mm=31%2C29&mn=sn-gpn9-t0as%2Csn-t0a7ln7d&ms=au%2Crdu&mv=m&mvi=4&pl=24&gcr=ca&initcwndbps=1101250&spc=UWF9f46e_hwl20AAGO68SJnOZIyGzJ8&vprv=1&svpuc=1&mime=audio%2Fwebm&gir=yes&clen=3874953&dur=202.101&lmt=1565938131754778&mt=1697566861&fvip=3&keepalive=yes&fexp=24007246&beids=24350018&c=ANDROID&txp=1311222&sparams=expire%2Cei%2Cip%2Cid%2Citag%2Csource%2Crequiressl%2Cgcr%2Cspc%2Cvprv%2Csvpuc%2Cmime%2Cgir%2Cclen%2Cdur%2Clmt&sig=AGM4YrMwRQIhAIEUB4PEOpA5JkNRHNe6x-8sg7jhPPvumZ81lITr__cZAiBKwZZ0l_ey1cyM66qtLKkAJckZxWVdMFZlfO1LIFmA5g%3D%3D&lsparams=mh%2Cmm%2Cmn%2Cms%2Cmv%2Cmvi%2Cpl%2Cinitcwndbps&lsig=AK1ks_kwRQIgfZy3kwDikP9V93v4Ph8lqJn7Zm7K7pV_acWStCWUejkCIQCMK6fiPsG1wm5-RNG1Z_FvzqCpsA4-bSe3DczKlUCHaw%3D%3D':\n",
      "  Metadata:\n",
      "    encoder         : google/video-file\n",
      "  Duration: 00:03:22.10, start: -0.007000, bitrate: 153 kb/s\n",
      "  Stream #0:0(eng): Audio: opus, 48000 Hz, stereo, fltp (default)\n",
      "Stream mapping:\n",
      "  Stream #0:0 -> #0:0 (opus (native) -> opus (libopus))\n",
      "Press [q] to stop, [?] for help\n",
      "[libopus @ 0x55c555da3d80] No bit rate set. Defaulting to 96000 bps.\n",
      "Output #0, webm, to 'file:./test/StimuliFinal/long/Orchestral/Satie： Gnossiennes - Gnossiennes No. 1 - Lent [t27rzTkFKmU].webm.part':\n",
      "  Metadata:\n",
      "    encoder         : Lavf58.76.100\n",
      "  Stream #0:0(eng): Audio: opus, 48000 Hz, stereo, flt, 96 kb/s (default)\n",
      "    Metadata:\n",
      "      encoder         : Lavc58.134.100 libopus\n",
      "size=     768kB time=00:00:57.42 bitrate= 109.6kbits/s speed=19.9x    \r"
     ]
    },
    {
     "name": "stdout",
     "output_type": "stream",
     "text": [
      "[download] 100% of  922.93KiB in 00:00:03 at 257.08KiB/s\n",
      "[ExtractAudio] Destination: ./test/StimuliFinal/long/Orchestral/Satie： Gnossiennes - Gnossiennes No. 1 - Lent [t27rzTkFKmU].wav\n"
     ]
    },
    {
     "name": "stderr",
     "output_type": "stream",
     "text": [
      "size=     923kB time=00:01:03.00 bitrate= 120.0kbits/s speed=18.3x    \n",
      "video:0kB audio:901kB subtitle:0kB other streams:0kB global headers:0kB muxing overhead: 2.488012%\n"
     ]
    },
    {
     "name": "stdout",
     "output_type": "stream",
     "text": [
      "Deleting original file ./test/StimuliFinal/long/Orchestral/Satie： Gnossiennes - Gnossiennes No. 1 - Lent [t27rzTkFKmU].webm (pass -k to keep)\n",
      "Downloading long track : Moonlight Sonata https://www.youtube.com/watch?v=4Tr0otuiQuU\n",
      "[youtube] Extracting URL: https://www.youtube.com/watch?v=4Tr0otuiQuU\n",
      "[youtube] 4Tr0otuiQuU: Downloading webpage\n",
      "[youtube] 4Tr0otuiQuU: Downloading ios player API JSON\n",
      "[youtube] 4Tr0otuiQuU: Downloading android player API JSON\n",
      "[youtube] 4Tr0otuiQuU: Downloading m3u8 information\n",
      "[info] 4Tr0otuiQuU: Downloading 1 format(s): 251\n",
      "[info] 4Tr0otuiQuU: Downloading 1 time ranges: 486.0-533.0\n",
      "[download] Destination: ./test/StimuliFinal/long/Orchestral/Beethoven - Moonlight Sonata (FULL) [4Tr0otuiQuU].webm\n"
     ]
    },
    {
     "name": "stderr",
     "output_type": "stream",
     "text": [
      "Input #0, matroska,webm, from 'https://rr3---sn-gpn9-t0as.googlevideo.com/videoplayback?expire=1697588914&ei=UtIuZafcNIbB8wSF4YfgDA&ip=206.167.239.2&id=o-AN5t2Ed-b3YViPAsqskozaqD_0FJ6KuFQjZiXTqM5KUT&itag=251&source=youtube&requiressl=yes&mh=OS&mm=31%2C29&mn=sn-gpn9-t0as%2Csn-t0a7sn7d&ms=au%2Crdu&mv=m&mvi=3&pl=24&initcwndbps=1101250&spc=UWF9f5L16MC-elWYKxlpDXxlzidAgqY&vprv=1&svpuc=1&mime=audio%2Fwebm&gir=yes&clen=16214387&dur=899.941&lmt=1673151758977613&mt=1697566861&fvip=1&keepalive=yes&fexp=24007246&beids=24350018&c=ANDROID&txp=4532434&sparams=expire%2Cei%2Cip%2Cid%2Citag%2Csource%2Crequiressl%2Cspc%2Cvprv%2Csvpuc%2Cmime%2Cgir%2Cclen%2Cdur%2Clmt&sig=AGM4YrMwRQIgDYlF5nAgUU7Vwuq50RZpsWfcCBnlrcJbvqZ5BJ67IqkCIQCuXgsc9G4tB5ZkXaFMtKjzuUer7loVk3mGvjAaY6U5ZA%3D%3D&lsparams=mh%2Cmm%2Cmn%2Cms%2Cmv%2Cmvi%2Cpl%2Cinitcwndbps&lsig=AK1ks_kwRAIgNd2WxTJ8x0tYGPwYv5ZjhWJtzUsROI77NQa7lQcAAigCIElyEddQh8qq5fmKEC9m2qQGXQrUnZhvQHl_nP_TGbdD':\n",
      "  Metadata:\n",
      "    encoder         : google/video-file\n",
      "  Duration: 00:14:59.94, start: -0.007000, bitrate: 144 kb/s\n",
      "  Stream #0:0(eng): Audio: opus, 48000 Hz, stereo, fltp (default)\n",
      "Stream mapping:\n",
      "  Stream #0:0 -> #0:0 (opus (native) -> opus (libopus))\n",
      "Press [q] to stop, [?] for help\n",
      "[libopus @ 0x55cbfb232180] No bit rate set. Defaulting to 96000 bps.\n",
      "Output #0, webm, to 'file:./test/StimuliFinal/long/Orchestral/Beethoven - Moonlight Sonata (FULL) [4Tr0otuiQuU].webm.part':\n",
      "  Metadata:\n",
      "    encoder         : Lavf58.76.100\n",
      "  Stream #0:0(eng): Audio: opus, 48000 Hz, stereo, flt, 96 kb/s (default)\n",
      "    Metadata:\n",
      "      encoder         : Lavc58.134.100 libopus\n",
      "size=     256kB time=00:00:25.31 bitrate=  82.8kbits/s speed=25.3x    \r"
     ]
    },
    {
     "name": "stdout",
     "output_type": "stream",
     "text": [
      "[download] 100% of  637.43KiB in 00:00:01 at 324.52KiB/s\n"
     ]
    },
    {
     "name": "stderr",
     "output_type": "stream",
     "text": [
      "size=     637kB time=00:00:46.99 bitrate= 111.1kbits/s speed=28.2x    \n",
      "video:0kB audio:621kB subtitle:0kB other streams:0kB global headers:0kB muxing overhead: 2.723225%\n"
     ]
    },
    {
     "name": "stdout",
     "output_type": "stream",
     "text": [
      "[ExtractAudio] Destination: ./test/StimuliFinal/long/Orchestral/Beethoven - Moonlight Sonata (FULL) [4Tr0otuiQuU].wav\n",
      "Deleting original file ./test/StimuliFinal/long/Orchestral/Beethoven - Moonlight Sonata (FULL) [4Tr0otuiQuU].webm (pass -k to keep)\n",
      "Downloading long track : Star Trek: the Next Generation (Main Title) https://www.youtube.com/watch?v=yweIpSWhyRc\n",
      "[youtube] Extracting URL: https://www.youtube.com/watch?v=yweIpSWhyRc\n",
      "[youtube] yweIpSWhyRc: Downloading webpage\n",
      "[youtube] yweIpSWhyRc: Downloading ios player API JSON\n",
      "[youtube] yweIpSWhyRc: Downloading android player API JSON\n",
      "[youtube] yweIpSWhyRc: Downloading m3u8 information\n",
      "[info] yweIpSWhyRc: Downloading 1 format(s): 251\n",
      "[info] yweIpSWhyRc: Downloading 1 time ranges: 51.0-107.0\n",
      "[download] Destination: ./test/StimuliFinal/long/Orchestral/Star Trek： the Next Generation - Main Title [yweIpSWhyRc].webm\n"
     ]
    },
    {
     "name": "stderr",
     "output_type": "stream",
     "text": [
      "Input #0, matroska,webm, from 'https://rr4---sn-gpn9-t0as.googlevideo.com/videoplayback?expire=1697588918&ei=VtIuZZ7WKYf08gTd0piYDQ&ip=206.167.239.2&id=o-AKbPoHayslhQuLh1h_joirdMdlvofCiKe7ZKAwLtQSnT&itag=251&source=youtube&requiressl=yes&mh=_C&mm=31%2C29&mn=sn-gpn9-t0as%2Csn-t0a7ln7d&ms=au%2Crdu&mv=m&mvi=4&pl=24&gcr=ca&initcwndbps=1101250&spc=UWF9f9h520xRLFyx6nb_cQOmsBIqxeg&vprv=1&svpuc=1&mime=audio%2Fwebm&gir=yes&clen=1877709&dur=110.481&lmt=1568534660961766&mt=1697566861&fvip=1&keepalive=yes&fexp=24007246&beids=24350018&c=ANDROID&txp=8311222&sparams=expire%2Cei%2Cip%2Cid%2Citag%2Csource%2Crequiressl%2Cgcr%2Cspc%2Cvprv%2Csvpuc%2Cmime%2Cgir%2Cclen%2Cdur%2Clmt&sig=AGM4YrMwRQIgY0dW8oDuT6H2_mPkRNrvZMGG0ubTd_D3EXRZ8gBWP-wCIQDzBBCkXjw01LyVNnlNo7QlwKETS4UWOjeCbhWjJ_Un6Q%3D%3D&lsparams=mh%2Cmm%2Cmn%2Cms%2Cmv%2Cmvi%2Cpl%2Cinitcwndbps&lsig=AK1ks_kwRAIgMsUNF-btVrcSe_XwAX1EHN6XkY2QslXS4U5thH_m8SgCIFeQDCauuIjoyzTdASGDXCIXqKdshe2YCHggo7ss1w_y':\n",
      "  Metadata:\n",
      "    encoder         : google/video-file\n",
      "  Duration: 00:01:50.48, start: -0.007000, bitrate: 135 kb/s\n",
      "  Stream #0:0(eng): Audio: opus, 48000 Hz, stereo, fltp (default)\n",
      "Stream mapping:\n",
      "  Stream #0:0 -> #0:0 (opus (native) -> opus (libopus))\n",
      "Press [q] to stop, [?] for help\n",
      "[libopus @ 0x55e19695ef80] No bit rate set. Defaulting to 96000 bps.\n",
      "Output #0, webm, to 'file:./test/StimuliFinal/long/Orchestral/Star Trek： the Next Generation - Main Title [yweIpSWhyRc].webm.part':\n",
      "  Metadata:\n",
      "    encoder         : Lavf58.76.100\n",
      "  Stream #0:0(eng): Audio: opus, 48000 Hz, stereo, flt, 96 kb/s (default)\n",
      "    Metadata:\n",
      "      encoder         : Lavc58.134.100 libopus\n",
      "size=     512kB time=00:00:47.95 bitrate=  87.5kbits/s speed=9.66x    \r"
     ]
    },
    {
     "name": "stdout",
     "output_type": "stream",
     "text": [
      "[download] 100% of  657.48KiB in 00:00:05 at 120.30KiB/s\n",
      "[ExtractAudio] Destination: ./test/StimuliFinal/long/Orchestral/Star Trek： the Next Generation - Main Title [yweIpSWhyRc].wav\n",
      "Deleting original file ./test/StimuliFinal/long/Orchestral/Star Trek： the Next Generation - Main Title [yweIpSWhyRc].webm (pass -k to keep)\n"
     ]
    },
    {
     "name": "stderr",
     "output_type": "stream",
     "text": [
      "size=     657kB time=00:00:55.99 bitrate=  96.2kbits/s speed=10.8x    \n",
      "video:0kB audio:637kB subtitle:0kB other streams:0kB global headers:0kB muxing overhead: 3.142426%\n"
     ]
    },
    {
     "name": "stdout",
     "output_type": "stream",
     "text": [
      "Downloading long track : Seinfeld Official Soundtrack (Seinfeld Theme) https://www.youtube.com/watch?v=RWak0i_iqnM\n",
      "[youtube] Extracting URL: https://www.youtube.com/watch?v=RWak0i_iqnM\n",
      "[youtube] RWak0i_iqnM: Downloading webpage\n",
      "[youtube] RWak0i_iqnM: Downloading ios player API JSON\n",
      "[youtube] RWak0i_iqnM: Downloading android player API JSON\n",
      "[youtube] RWak0i_iqnM: Downloading m3u8 information\n",
      "[info] RWak0i_iqnM: Downloading 1 format(s): 251\n",
      "[info] RWak0i_iqnM: Downloading 1 time ranges: 0.0-52.0\n",
      "[download] Destination: ./test/StimuliFinal/long/Orchestral/Seinfeld Official Soundtrack ｜ Seinfeld Theme - Jonathan Wolff ｜ WaterTower [RWak0i_iqnM].webm\n"
     ]
    },
    {
     "name": "stderr",
     "output_type": "stream",
     "text": [
      "Input #0, matroska,webm, from 'https://rr3---sn-gpn9-t0as.googlevideo.com/videoplayback?expire=1697588925&ei=XdIuZZPhK9Ll8wSa8IkY&ip=206.167.239.2&id=o-AKD9JYhUhQzmlrr17sVR1yFAx2Mg5uArXsijBr6bn6C1&itag=251&source=youtube&requiressl=yes&mh=6R&mm=31%2C29&mn=sn-gpn9-t0as%2Csn-t0a7sn7d&ms=au%2Crdu&mv=m&mvi=3&pcm2cms=yes&pl=24&initcwndbps=1101250&spc=UWF9f-Z7kk4sTn748moQ8ruuO1jxh4U&vprv=1&svpuc=1&mime=audio%2Fwebm&gir=yes&clen=774481&dur=52.481&lmt=1625241342306156&mt=1697566861&fvip=3&keepalive=yes&fexp=24007246&beids=24350018&c=ANDROID&txp=5311224&sparams=expire%2Cei%2Cip%2Cid%2Citag%2Csource%2Crequiressl%2Cspc%2Cvprv%2Csvpuc%2Cmime%2Cgir%2Cclen%2Cdur%2Clmt&sig=AGM4YrMwRQIhANyGwBn5RbkbrIzVMilUHMC3qPVge5SUw9FYbq3wr52sAiAV1o9WQ3fu_PlpElcLon6tVUocizdxQYqkrrZsh3pROg%3D%3D&lsparams=mh%2Cmm%2Cmn%2Cms%2Cmv%2Cmvi%2Cpcm2cms%2Cpl%2Cinitcwndbps&lsig=AK1ks_kwRAIgI6RgkiKmGXBZHaFhs2C9WvcY_50Qt8QEU55bizT9isoCIAGWT50FT9pAms9TZoFhBzkcZcSUFc6w97rBJWkie1_d':\n",
      "  Metadata:\n",
      "    encoder         : google/video-file\n",
      "  Duration: 00:00:52.48, start: -0.007000, bitrate: 118 kb/s\n",
      "  Stream #0:0(eng): Audio: opus, 48000 Hz, stereo, fltp (default)\n",
      "Stream mapping:\n",
      "  Stream #0:0 -> #0:0 (opus (native) -> opus (libopus))\n",
      "Press [q] to stop, [?] for help\n",
      "[libopus @ 0x55afc828e480] No bit rate set. Defaulting to 96000 bps.\n",
      "Output #0, webm, to 'file:./test/StimuliFinal/long/Orchestral/Seinfeld Official Soundtrack ｜ Seinfeld Theme - Jonathan Wolff ｜ WaterTower [RWak0i_iqnM].webm.part':\n",
      "  Metadata:\n",
      "    encoder         : Lavf58.76.100\n",
      "  Stream #0:0(eng): Audio: opus, 48000 Hz, stereo, flt, 96 kb/s (default)\n",
      "    Metadata:\n",
      "      encoder         : Lavc58.134.100 libopus\n",
      "size=     256kB time=00:00:39.62 bitrate=  52.9kbits/s speed=  10x    \r"
     ]
    },
    {
     "name": "stdout",
     "output_type": "stream",
     "text": [
      "[download] 100% of  571.47KiB in 00:00:04 at 131.62KiB/s\n",
      "[ExtractAudio] Destination: ./test/StimuliFinal/long/Orchestral/Seinfeld Official Soundtrack ｜ Seinfeld Theme - Jonathan Wolff ｜ WaterTower [RWak0i_iqnM].wav\n",
      "Deleting original file ./test/StimuliFinal/long/Orchestral/Seinfeld Official Soundtrack ｜ Seinfeld Theme - Jonathan Wolff ｜ WaterTower [RWak0i_iqnM].webm (pass -k to keep)\n"
     ]
    },
    {
     "name": "stderr",
     "output_type": "stream",
     "text": [
      "size=     571kB time=00:00:52.00 bitrate=  90.0kbits/s speed=12.3x    \n",
      "video:0kB audio:553kB subtitle:0kB other streams:0kB global headers:0kB muxing overhead: 3.361088%\n"
     ]
    },
    {
     "name": "stdout",
     "output_type": "stream",
     "text": [
      "Downloading long track : Dreaming of Bag End https://www.youtube.com/watch?v=h55ROrO3UHc\n",
      "[youtube] Extracting URL: https://www.youtube.com/watch?v=h55ROrO3UHc\n",
      "[youtube] h55ROrO3UHc: Downloading webpage\n",
      "[youtube] h55ROrO3UHc: Downloading ios player API JSON\n",
      "[youtube] h55ROrO3UHc: Downloading android player API JSON\n",
      "[youtube] h55ROrO3UHc: Downloading m3u8 information\n",
      "[info] h55ROrO3UHc: Downloading 1 format(s): 251\n",
      "[info] h55ROrO3UHc: Downloading 1 time ranges: 0.0-52.0\n",
      "[download] Destination: ./test/StimuliFinal/long/Orchestral/Dreaming of Bag End [h55ROrO3UHc].webm\n"
     ]
    },
    {
     "name": "stderr",
     "output_type": "stream",
     "text": [
      "Input #0, matroska,webm, from 'https://rr3---sn-gpn9-t0as.googlevideo.com/videoplayback?expire=1697588931&ei=Y9IuZbrdJ56A_9EP28a7gQc&ip=206.167.239.2&id=o-ANFGEksR7QJTEAhJqFT0UoRJB-nDE2-jbxRCzHFS7ND0&itag=251&source=youtube&requiressl=yes&mh=bN&mm=31%2C29&mn=sn-gpn9-t0as%2Csn-t0a7sn7d&ms=au%2Crdu&mv=m&mvi=3&pl=24&gcr=ca&initcwndbps=1101250&spc=UWF9fyMjxBr2jQeg_CNG5NAzR2Z9_CY&vprv=1&svpuc=1&mime=audio%2Fwebm&gir=yes&clen=1881582&dur=109.621&lmt=1602586116460683&mt=1697566861&fvip=5&keepalive=yes&fexp=24007246&beids=24350018&c=ANDROID&txp=2311222&sparams=expire%2Cei%2Cip%2Cid%2Citag%2Csource%2Crequiressl%2Cgcr%2Cspc%2Cvprv%2Csvpuc%2Cmime%2Cgir%2Cclen%2Cdur%2Clmt&sig=AGM4YrMwRAIgAOTfpGdYbU7enz-TGev--6VpJQAV6plN2dUT2bwai-4CIBhrgyXgCZzGlY9014eIE3b67dg-MgTNZOIamJLJBlEI&lsparams=mh%2Cmm%2Cmn%2Cms%2Cmv%2Cmvi%2Cpl%2Cinitcwndbps&lsig=AK1ks_kwRgIhAOgBOg0aE3POFK1w_oYh44kpNdXSXY7OFJze0dDg9Jd5AiEAxW1OXaMDGdufVHdqNzc5aXyjT-wjmu1HFp5rOuDkIKY%3D':\n",
      "  Metadata:\n",
      "    encoder         : google/video-file\n",
      "  Duration: 00:01:49.62, start: -0.007000, bitrate: 137 kb/s\n",
      "  Stream #0:0(eng): Audio: opus, 48000 Hz, stereo, fltp (default)\n",
      "Stream mapping:\n",
      "  Stream #0:0 -> #0:0 (opus (native) -> opus (libopus))\n",
      "Press [q] to stop, [?] for help\n",
      "[libopus @ 0x557bddfa0fc0] No bit rate set. Defaulting to 96000 bps.\n",
      "Output #0, webm, to 'file:./test/StimuliFinal/long/Orchestral/Dreaming of Bag End [h55ROrO3UHc].webm.part':\n",
      "  Metadata:\n",
      "    encoder         : Lavf58.76.100\n",
      "  Stream #0:0(eng): Audio: opus, 48000 Hz, stereo, flt, 96 kb/s (default)\n",
      "    Metadata:\n",
      "      encoder         : Lavc58.134.100 libopus\n",
      "size=     256kB time=00:00:36.84 bitrate=  56.9kbits/s speed=35.7x    \r"
     ]
    },
    {
     "name": "stdout",
     "output_type": "stream",
     "text": [
      "[download] 100% of  670.36KiB in 00:00:01 at 419.57KiB/s\n",
      "[ExtractAudio] Destination: ./test/StimuliFinal/long/Orchestral/Dreaming of Bag End [h55ROrO3UHc].wav\n",
      "Deleting original file ./test/StimuliFinal/long/Orchestral/Dreaming of Bag End [h55ROrO3UHc].webm (pass -k to keep)\n"
     ]
    },
    {
     "name": "stderr",
     "output_type": "stream",
     "text": [
      "size=     670kB time=00:00:52.00 bitrate= 105.6kbits/s speed=35.5x    \n",
      "video:0kB audio:652kB subtitle:0kB other streams:0kB global headers:0kB muxing overhead: 2.859442%\n"
     ]
    },
    {
     "name": "stdout",
     "output_type": "stream",
     "text": [
      "Downloading long track : My Name is Nobody - Il Mio Nome è Nessuno (Album) https://www.youtube.com/watch?v=duF1OQho1gc\n",
      "[youtube] Extracting URL: https://www.youtube.com/watch?v=duF1OQho1gc\n",
      "[youtube] duF1OQho1gc: Downloading webpage\n",
      "[youtube] duF1OQho1gc: Downloading ios player API JSON\n",
      "[youtube] duF1OQho1gc: Downloading android player API JSON\n",
      "[youtube] duF1OQho1gc: Downloading m3u8 information\n",
      "[info] duF1OQho1gc: Downloading 1 format(s): 251\n",
      "[info] duF1OQho1gc: Downloading 1 time ranges: 3.0-56.0\n",
      "[download] Destination: ./test/StimuliFinal/long/Orchestral/Ennio Morricone - My Name is Nobody - Il Mio Nome è Nessuno (Album) High Quality Audio [duF1OQho1gc].webm\n"
     ]
    },
    {
     "name": "stderr",
     "output_type": "stream",
     "text": [
      "Input #0, matroska,webm, from 'https://rr3---sn-gpn9-t0as.googlevideo.com/videoplayback?expire=1697588935&ei=Z9IuZfrdAq2n_9EPuJ-Y6AY&ip=206.167.239.2&id=o-ACpzxtCf3xAtNRJ3nNDcqR72qm7wVM2iaZnqiLRm4kDV&itag=251&source=youtube&requiressl=yes&mh=NT&mm=31%2C29&mn=sn-gpn9-t0as%2Csn-t0a7lnee&ms=au%2Crdu&mv=m&mvi=3&pl=24&initcwndbps=1101250&spc=UWF9f9OPlA4qjta-e3nJKsz8S0PMMhI&vprv=1&svpuc=1&mime=audio%2Fwebm&gir=yes&clen=34836398&dur=1957.981&lmt=1540582298465352&mt=1697566861&fvip=1&keepalive=yes&fexp=24007246&beids=24350018&c=ANDROID&txp=5411222&sparams=expire%2Cei%2Cip%2Cid%2Citag%2Csource%2Crequiressl%2Cspc%2Cvprv%2Csvpuc%2Cmime%2Cgir%2Cclen%2Cdur%2Clmt&sig=AGM4YrMwRgIhANgIvs5vWrp-RKj2m72aMeE2mskAXn5PjJgEf5yFp9X5AiEAgnTaqsQs5Wr5LLhwEWHkWwYign0-WiLrzqrZRpzMIt8%3D&lsparams=mh%2Cmm%2Cmn%2Cms%2Cmv%2Cmvi%2Cpl%2Cinitcwndbps&lsig=AK1ks_kwRgIhANQ2-A-Sd98_R-BZ0P-OFjCbGR23lKdK_G0ka8zptwZUAiEAtJ-Vpdk_18if--_gqrmf0Khhy1JdBuFb6-5AVBbGmw8%3D':\n",
      "  Metadata:\n",
      "    encoder         : google/video-file\n",
      "  Duration: 00:32:37.98, start: -0.007000, bitrate: 142 kb/s\n",
      "  Stream #0:0(eng): Audio: opus, 48000 Hz, stereo, fltp (default)\n",
      "Stream mapping:\n",
      "  Stream #0:0 -> #0:0 (opus (native) -> opus (libopus))\n",
      "Press [q] to stop, [?] for help\n",
      "[libopus @ 0x55726d0eeac0] No bit rate set. Defaulting to 96000 bps.\n",
      "Output #0, webm, to 'file:./test/StimuliFinal/long/Orchestral/Ennio Morricone - My Name is Nobody - Il Mio Nome è Nessuno (Album) High Quality Audio [duF1OQho1gc].webm.part':\n",
      "  Metadata:\n",
      "    encoder         : Lavf58.76.100\n",
      "  Stream #0:0(eng): Audio: opus, 48000 Hz, stereo, flt, 96 kb/s (default)\n",
      "    Metadata:\n",
      "      encoder         : Lavc58.134.100 libopus\n",
      "size=     512kB time=00:00:51.35 bitrate=  81.7kbits/s speed=1.73x     \r"
     ]
    },
    {
     "name": "stdout",
     "output_type": "stream",
     "text": [
      "[download] 100% of  765.62KiB in 00:00:30 at 24.85KiB/s\n",
      "[ExtractAudio] Destination: ./test/StimuliFinal/long/Orchestral/Ennio Morricone - My Name is Nobody - Il Mio Nome è Nessuno (Album) High Quality Audio [duF1OQho1gc].wav\n",
      "Deleting original file ./test/StimuliFinal/long/Orchestral/Ennio Morricone - My Name is Nobody - Il Mio Nome è Nessuno (Album) High Quality Audio [duF1OQho1gc].webm (pass -k to keep)\n"
     ]
    },
    {
     "name": "stderr",
     "output_type": "stream",
     "text": [
      "size=     766kB time=00:00:52.99 bitrate= 118.4kbits/s speed=1.74x    \n",
      "video:0kB audio:747kB subtitle:0kB other streams:0kB global headers:0kB muxing overhead: 2.541841%\n"
     ]
    },
    {
     "name": "stdout",
     "output_type": "stream",
     "text": [
      "Downloading long track : Body and soul https://www.youtube.com/watch?v=Pkvju_DlP8A\n",
      "[youtube] Extracting URL: https://www.youtube.com/watch?v=Pkvju_DlP8A\n",
      "[youtube] Pkvju_DlP8A: Downloading webpage\n",
      "[youtube] Pkvju_DlP8A: Downloading ios player API JSON\n",
      "[youtube] Pkvju_DlP8A: Downloading android player API JSON\n",
      "[youtube] Pkvju_DlP8A: Downloading m3u8 information\n",
      "[info] Pkvju_DlP8A: Downloading 1 format(s): 251\n",
      "[info] Pkvju_DlP8A: Downloading 1 time ranges: 0.0-59.0\n",
      "[download] Destination: ./test/StimuliFinal/long/Orchestral/Coleman Hawkins - Body and Soul [Pkvju_DlP8A].webm\n"
     ]
    },
    {
     "name": "stderr",
     "output_type": "stream",
     "text": [
      "Input #0, matroska,webm, from 'https://rr2---sn-gpn9-t0as.googlevideo.com/videoplayback?expire=1697588967&ei=h9IuZdGnHvuO_9EPhra7kAk&ip=206.167.239.2&id=o-ALM62o_juSpah3TobA9lDxpMCJD9i_NimFORClSt42Pv&itag=251&source=youtube&requiressl=yes&mh=ss&mm=31%2C29&mn=sn-gpn9-t0as%2Csn-t0a7lnee&ms=au%2Crdu&mv=m&mvi=2&pcm2cms=yes&pl=24&gcr=ca&initcwndbps=1101250&spc=UWF9f8PRx6WS1IpeD316lQ-KCZAv2tA&vprv=1&svpuc=1&mime=audio%2Fwebm&gir=yes&clen=2431310&dur=182.001&lmt=1496638933016763&mt=1697566861&fvip=5&keepalive=yes&fexp=24007246&beids=24350018&c=ANDROID&sparams=expire%2Cei%2Cip%2Cid%2Citag%2Csource%2Crequiressl%2Cgcr%2Cspc%2Cvprv%2Csvpuc%2Cmime%2Cgir%2Cclen%2Cdur%2Clmt&sig=AGM4YrMwRQIgdXhBpWl65KRk2v29uPuuzeqnLSHAGngYO_tHNtmY-18CIQCrK81Etk3KNqBoh6dHe51a8Ep7VF98-cdmBilbcXdGHA%3D%3D&lsparams=mh%2Cmm%2Cmn%2Cms%2Cmv%2Cmvi%2Cpcm2cms%2Cpl%2Cinitcwndbps&lsig=AK1ks_kwRQIgGL4uutQy4qdCxrylP_48O69WbZDriBEbp9aItgdb3MUCIQCz28q823rm0NWXC9gLCsZBxulmHrby0rkxNOSAUOkN1w%3D%3D':\n",
      "  Metadata:\n",
      "    encoder         : google\n",
      "  Duration: 00:03:02.00, start: -0.007000, bitrate: 106 kb/s\n",
      "  Stream #0:0(eng): Audio: opus, 48000 Hz, stereo, fltp (default)\n",
      "Stream mapping:\n",
      "  Stream #0:0 -> #0:0 (opus (native) -> opus (libopus))\n",
      "Press [q] to stop, [?] for help\n",
      "[libopus @ 0x556201b0ef80] No bit rate set. Defaulting to 96000 bps.\n",
      "Output #0, webm, to 'file:./test/StimuliFinal/long/Orchestral/Coleman Hawkins - Body and Soul [Pkvju_DlP8A].webm.part':\n",
      "  Metadata:\n",
      "    encoder         : Lavf58.76.100\n",
      "  Stream #0:0(eng): Audio: opus, 48000 Hz, stereo, flt, 96 kb/s (default)\n",
      "    Metadata:\n",
      "      encoder         : Lavc58.134.100 libopus\n",
      "size=     256kB time=00:00:42.52 bitrate=  49.3kbits/s speed=42.5x    \r"
     ]
    },
    {
     "name": "stdout",
     "output_type": "stream",
     "text": [
      "[download] 100% of  569.25KiB in 00:00:01 at 366.49KiB/s\n",
      "[ExtractAudio] Destination: ./test/StimuliFinal/long/Orchestral/Coleman Hawkins - Body and Soul [Pkvju_DlP8A].wav\n",
      "Deleting original file ./test/StimuliFinal/long/Orchestral/Coleman Hawkins - Body and Soul [Pkvju_DlP8A].webm (pass -k to keep)\n"
     ]
    },
    {
     "name": "stderr",
     "output_type": "stream",
     "text": [
      "size=     569kB time=00:00:59.00 bitrate=  79.0kbits/s speed=41.5x    \n",
      "video:0kB audio:548kB subtitle:0kB other streams:0kB global headers:0kB muxing overhead: 3.838316%\n"
     ]
    },
    {
     "name": "stdout",
     "output_type": "stream",
     "text": [
      "Downloading long track : Stairway To Heaven https://www.youtube.com/watch?v=QkF3oxziUI4\n",
      "[youtube] Extracting URL: https://www.youtube.com/watch?v=QkF3oxziUI4\n",
      "[youtube] QkF3oxziUI4: Downloading webpage\n",
      "[youtube] QkF3oxziUI4: Downloading ios player API JSON\n",
      "[youtube] QkF3oxziUI4: Downloading android player API JSON\n",
      "[youtube] QkF3oxziUI4: Downloading m3u8 information\n",
      "[info] QkF3oxziUI4: Downloading 1 format(s): 251\n",
      "[info] QkF3oxziUI4: Downloading 1 time ranges: 0.0-52.0\n",
      "[download] Destination: ./test/StimuliFinal/long/Orchestral/Led Zeppelin - Stairway To Heaven (Official Audio) [QkF3oxziUI4].webm\n"
     ]
    },
    {
     "name": "stderr",
     "output_type": "stream",
     "text": [
      "Input #0, matroska,webm, from 'https://rr4---sn-gpn9-t0as.googlevideo.com/videoplayback?expire=1697588971&ei=i9IuZaDwMKCM_9EPkNGH4A4&ip=206.167.239.2&id=o-AMtyQUOsF2vfu5FIimcsb5m8Vo1lFi7V7kaD27P2AM1O&itag=251&source=youtube&requiressl=yes&mh=h5&mm=31%2C29&mn=sn-gpn9-t0as%2Csn-t0a7sn7d&ms=au%2Crdu&mv=m&mvi=4&pl=24&initcwndbps=1101250&spc=UWF9f5cNE7s28Kt7-tNeRBgMekPqAEc&vprv=1&svpuc=1&mime=audio%2Fwebm&gir=yes&clen=8455287&dur=482.841&lmt=1661493968473831&mt=1697566861&fvip=1&keepalive=yes&fexp=24007246&beids=24350018&c=ANDROID&txp=4532434&sparams=expire%2Cei%2Cip%2Cid%2Citag%2Csource%2Crequiressl%2Cspc%2Cvprv%2Csvpuc%2Cmime%2Cgir%2Cclen%2Cdur%2Clmt&sig=AGM4YrMwRQIhAPlsCQRafc5UtfPnW7uUCk6a7Yw2LPs8V5uKigjdHB0aAiBMAVO0JKbWeiSBWQyIPbQ2kA8jGo-P99rjapOuRS41_Q%3D%3D&lsparams=mh%2Cmm%2Cmn%2Cms%2Cmv%2Cmvi%2Cpl%2Cinitcwndbps&lsig=AK1ks_kwRQIgKtCfGogc4ajSZVaYmyRzXrNakUym-P0IF17_SeVr-9MCIQDSEeJ3nSRHXNBZRUiGDkKQYGcpw7g_2Jy8zWQJ6fXJNg%3D%3D':\n",
      "  Metadata:\n",
      "    encoder         : google/video-file\n",
      "  Duration: 00:08:02.84, start: -0.007000, bitrate: 140 kb/s\n",
      "  Stream #0:0(eng): Audio: opus, 48000 Hz, stereo, fltp (default)\n",
      "Stream mapping:\n",
      "  Stream #0:0 -> #0:0 (opus (native) -> opus (libopus))\n",
      "Press [q] to stop, [?] for help\n",
      "[libopus @ 0x55b71369bfc0] No bit rate set. Defaulting to 96000 bps.\n",
      "Output #0, webm, to 'file:./test/StimuliFinal/long/Orchestral/Led Zeppelin - Stairway To Heaven (Official Audio) [QkF3oxziUI4].webm.part':\n",
      "  Metadata:\n",
      "    encoder         : Lavf58.76.100\n",
      "  Stream #0:0(eng): Audio: opus, 48000 Hz, stereo, flt, 96 kb/s (default)\n",
      "    Metadata:\n",
      "      encoder         : Lavc58.134.100 libopus\n",
      "size=     512kB time=00:00:45.92 bitrate=  91.3kbits/s speed=22.2x    \r"
     ]
    },
    {
     "name": "stdout",
     "output_type": "stream",
     "text": [
      "[download] 100% of  742.43KiB in 00:00:02 at 311.85KiB/s\n",
      "[ExtractAudio] Destination: ./test/StimuliFinal/long/Orchestral/Led Zeppelin - Stairway To Heaven (Official Audio) [QkF3oxziUI4].wav\n",
      "Deleting original file ./test/StimuliFinal/long/Orchestral/Led Zeppelin - Stairway To Heaven (Official Audio) [QkF3oxziUI4].webm (pass -k to keep)\n"
     ]
    },
    {
     "name": "stderr",
     "output_type": "stream",
     "text": [
      "size=     742kB time=00:00:52.00 bitrate= 117.0kbits/s speed=22.9x    \n",
      "video:0kB audio:724kB subtitle:0kB other streams:0kB global headers:0kB muxing overhead: 2.574855%\n"
     ]
    },
    {
     "name": "stdout",
     "output_type": "stream",
     "text": [
      "Downloading long track : Super Mario Bros (NES) Music - Overworld Theme https://www.youtube.com/watch?v=iy3qq7zc4EY\n",
      "[youtube] Extracting URL: https://www.youtube.com/watch?v=iy3qq7zc4EY\n",
      "[youtube] iy3qq7zc4EY: Downloading webpage\n",
      "[youtube] iy3qq7zc4EY: Downloading ios player API JSON\n",
      "[youtube] iy3qq7zc4EY: Downloading android player API JSON\n",
      "[youtube] iy3qq7zc4EY: Downloading m3u8 information\n",
      "[info] iy3qq7zc4EY: Downloading 1 format(s): 251\n",
      "[info] iy3qq7zc4EY: Downloading 1 time ranges: 0.0-59.0\n",
      "[download] Destination: ./test/StimuliFinal/long/Synthetic/Super Mario Bros (NES) Music - Overworld Theme [iy3qq7zc4EY].webm\n"
     ]
    },
    {
     "name": "stderr",
     "output_type": "stream",
     "text": [
      "Input #0, matroska,webm, from 'https://rr1---sn-gpn9-t0as.googlevideo.com/videoplayback?expire=1697588976&ei=kNIuZcnQKrec_9EPnZSygAc&ip=206.167.239.2&id=o-AHpF_px__MQZ-MaAvPD3LauS0F4ns5_NZOaoxeDFju9z&itag=251&source=youtube&requiressl=yes&mh=nc&mm=31%2C29&mn=sn-gpn9-t0as%2Csn-t0a7ln7d&ms=au%2Crdu&mv=m&mvi=1&pl=24&initcwndbps=1101250&spc=UWF9f1vY1kfzSuF_85mK1t4-gA40vGE&vprv=1&svpuc=1&mime=audio%2Fwebm&gir=yes&clen=3848747&dur=180.101&lmt=1496889928390995&mt=1697566861&fvip=5&keepalive=yes&fexp=24007246&beids=24350018&c=ANDROID&sparams=expire%2Cei%2Cip%2Cid%2Citag%2Csource%2Crequiressl%2Cspc%2Cvprv%2Csvpuc%2Cmime%2Cgir%2Cclen%2Cdur%2Clmt&sig=AGM4YrMwRAIgKryEVZb6oxoQON_MBjM8YGI29qr29DRsLK3VUuM_MtsCIAiySXzX3lVnk2GM3Vvoen0SVSUvupy4I74k3yx_Gxfz&lsparams=mh%2Cmm%2Cmn%2Cms%2Cmv%2Cmvi%2Cpl%2Cinitcwndbps&lsig=AK1ks_kwRQIhAIFNeV047kO4h_ZM4Xf2Y5409Hrqgp7ELujQwuLiuiDdAiB6m3BRaGhvV6-Mf-fm4-9tjUiAGApEhwbVYllHSRN-nQ%3D%3D':\n",
      "  Metadata:\n",
      "    encoder         : google\n",
      "  Duration: 00:03:00.10, start: -0.007000, bitrate: 170 kb/s\n",
      "  Stream #0:0(eng): Audio: opus, 48000 Hz, stereo, fltp (default)\n",
      "Stream mapping:\n",
      "  Stream #0:0 -> #0:0 (opus (native) -> opus (libopus))\n",
      "Press [q] to stop, [?] for help\n",
      "[libopus @ 0x56288410b100] No bit rate set. Defaulting to 96000 bps.\n",
      "Output #0, webm, to 'file:./test/StimuliFinal/long/Synthetic/Super Mario Bros (NES) Music - Overworld Theme [iy3qq7zc4EY].webm.part':\n",
      "  Metadata:\n",
      "    encoder         : Lavf58.76.100\n",
      "  Stream #0:0(eng): Audio: opus, 48000 Hz, stereo, flt, 96 kb/s (default)\n",
      "    Metadata:\n",
      "      encoder         : Lavc58.134.100 libopus\n",
      "size=     512kB time=00:00:40.36 bitrate= 103.9kbits/s speed=26.8x    \r"
     ]
    },
    {
     "name": "stdout",
     "output_type": "stream",
     "text": [
      "[download] 100% of  923.82KiB in 00:00:02 at 396.74KiB/s\n"
     ]
    },
    {
     "name": "stderr",
     "output_type": "stream",
     "text": [
      "size=     924kB time=00:00:59.00 bitrate= 128.3kbits/s speed=26.9x    \n",
      "video:0kB audio:903kB subtitle:0kB other streams:0kB global headers:0kB muxing overhead: 2.332469%\n"
     ]
    },
    {
     "name": "stdout",
     "output_type": "stream",
     "text": [
      "[ExtractAudio] Destination: ./test/StimuliFinal/long/Synthetic/Super Mario Bros (NES) Music - Overworld Theme [iy3qq7zc4EY].wav\n",
      "Deleting original file ./test/StimuliFinal/long/Synthetic/Super Mario Bros (NES) Music - Overworld Theme [iy3qq7zc4EY].webm (pass -k to keep)\n",
      "Downloading long track : Super Mario Bros (NES) Music - Underground Theme https://www.youtube.com/watch?v=UOwyFPgjPQ4\n",
      "[youtube] Extracting URL: https://www.youtube.com/watch?v=UOwyFPgjPQ4\n",
      "[youtube] UOwyFPgjPQ4: Downloading webpage\n",
      "[youtube] UOwyFPgjPQ4: Downloading ios player API JSON\n",
      "[youtube] UOwyFPgjPQ4: Downloading android player API JSON\n",
      "[youtube] UOwyFPgjPQ4: Downloading m3u8 information\n",
      "[info] UOwyFPgjPQ4: Downloading 1 format(s): 251\n",
      "[info] UOwyFPgjPQ4: Downloading 1 time ranges: 0.0-49.0\n",
      "[download] Destination: ./test/StimuliFinal/long/Synthetic/Super Mario Bros (NES) Music - Underground Theme [UOwyFPgjPQ4].webm\n"
     ]
    },
    {
     "name": "stderr",
     "output_type": "stream",
     "text": [
      "Input #0, matroska,webm, from 'https://rr4---sn-gpn9-t0as.googlevideo.com/videoplayback?expire=1697588980&ei=lNIuZeC-M8OX8wS6p6SYAQ&ip=206.167.239.2&id=o-ABy_N8ipvV5aR0RlI3Px-AOscsG31nr3tGIEZjkTmHrD&itag=251&source=youtube&requiressl=yes&mh=T5&mm=31%2C29&mn=sn-gpn9-t0as%2Csn-t0a7lnee&ms=au%2Crdu&mv=m&mvi=4&pl=24&initcwndbps=1101250&spc=UWF9f-SKCFJYn42LGrq2EmRglHPGpbA&vprv=1&svpuc=1&mime=audio%2Fwebm&gir=yes&clen=3090049&dur=180.141&lmt=1558720789021618&mt=1697566861&fvip=3&keepalive=yes&fexp=24007246&beids=24350018&c=ANDROID&txp=5432432&sparams=expire%2Cei%2Cip%2Cid%2Citag%2Csource%2Crequiressl%2Cspc%2Cvprv%2Csvpuc%2Cmime%2Cgir%2Cclen%2Cdur%2Clmt&sig=AGM4YrMwRQIge08uBH2s6N4cL7L3XYA22YQ4yZqX0cbqdCV_hxHQwNgCIQDTfGphJ5knk4T4_gx7RJ2S1wGewLEcY_JUXIKkxGMHYg%3D%3D&lsparams=mh%2Cmm%2Cmn%2Cms%2Cmv%2Cmvi%2Cpl%2Cinitcwndbps&lsig=AK1ks_kwRQIgMczFU2adl2_u0dSBXYdQBgCxj3J3CrR100KXBv8YK_QCIQDl_cqP3tcHSzNMtVVeibquF3CmQgD3cycuYVucjNmQvA%3D%3D':\n",
      "  Metadata:\n",
      "    encoder         : google/video-file\n",
      "  Duration: 00:03:00.14, start: -0.007000, bitrate: 137 kb/s\n",
      "  Stream #0:0(eng): Audio: opus, 48000 Hz, stereo, fltp (default)\n",
      "Stream mapping:\n",
      "  Stream #0:0 -> #0:0 (opus (native) -> opus (libopus))\n",
      "Press [q] to stop, [?] for help\n",
      "[libopus @ 0x563470fd8c00] No bit rate set. Defaulting to 96000 bps.\n",
      "Output #0, webm, to 'file:./test/StimuliFinal/long/Synthetic/Super Mario Bros (NES) Music - Underground Theme [UOwyFPgjPQ4].webm.part':\n",
      "  Metadata:\n",
      "    encoder         : Lavf58.76.100\n",
      "  Stream #0:0(eng): Audio: opus, 48000 Hz, stereo, flt, 96 kb/s (default)\n",
      "    Metadata:\n",
      "      encoder         : Lavc58.134.100 libopus\n",
      "size=     256kB time=00:00:33.82 bitrate=  62.0kbits/s speed=33.8x    \r"
     ]
    },
    {
     "name": "stdout",
     "output_type": "stream",
     "text": [
      "[download] 100% of  702.07KiB in 00:00:02 at 318.02KiB/s\n"
     ]
    },
    {
     "name": "stderr",
     "output_type": "stream",
     "text": [
      "size=     702kB time=00:00:49.00 bitrate= 117.4kbits/s speed=23.5x    \n",
      "video:0kB audio:685kB subtitle:0kB other streams:0kB global headers:0kB muxing overhead: 2.540250%\n"
     ]
    },
    {
     "name": "stdout",
     "output_type": "stream",
     "text": [
      "[ExtractAudio] Destination: ./test/StimuliFinal/long/Synthetic/Super Mario Bros (NES) Music - Underground Theme [UOwyFPgjPQ4].wav\n",
      "Deleting original file ./test/StimuliFinal/long/Synthetic/Super Mario Bros (NES) Music - Underground Theme [UOwyFPgjPQ4].webm (pass -k to keep)\n",
      "Downloading long track : Super Mario Bros. 3 - Overworld 1 Theme https://www.youtube.com/watch?v=oZszAppxXoo\n",
      "[youtube] Extracting URL: https://www.youtube.com/watch?v=oZszAppxXoo\n",
      "[youtube] oZszAppxXoo: Downloading webpage\n",
      "[youtube] oZszAppxXoo: Downloading ios player API JSON\n",
      "[youtube] oZszAppxXoo: Downloading android player API JSON\n",
      "[youtube] oZszAppxXoo: Downloading m3u8 information\n",
      "[info] oZszAppxXoo: Downloading 1 format(s): 251\n",
      "[info] oZszAppxXoo: Downloading 1 time ranges: 0.0-54.0\n",
      "[download] Destination: ./test/StimuliFinal/long/Synthetic/Above Ground BGM - Super Mario Bros. 3 [oZszAppxXoo].webm\n"
     ]
    },
    {
     "name": "stderr",
     "output_type": "stream",
     "text": [
      "Input #0, matroska,webm, from 'https://rr4---sn-gpn9-t0as.googlevideo.com/videoplayback?expire=1697588984&ei=mNIuZaueJIe68wSDuJ2ICg&ip=206.167.239.2&id=o-AI47hASxF6IhYWcVRzDPszUI7AYtq-F4TOwQO8bf__xM&itag=251&source=youtube&requiressl=yes&mh=ts&mm=31%2C29&mn=sn-gpn9-t0as%2Csn-t0a7sn7d&ms=au%2Crdu&mv=m&mvi=4&pl=24&initcwndbps=1101250&spc=UWF9f9eiJSTAz7fraZRnOs1UXQ5ercU&vprv=1&svpuc=1&mime=audio%2Fwebm&gir=yes&clen=1159463&dur=66.101&lmt=1564923704658257&mt=1697566861&fvip=5&keepalive=yes&fexp=24007246&beids=24350018&c=ANDROID&sparams=expire%2Cei%2Cip%2Cid%2Citag%2Csource%2Crequiressl%2Cspc%2Cvprv%2Csvpuc%2Cmime%2Cgir%2Cclen%2Cdur%2Clmt&sig=AGM4YrMwRgIhAI_3odVeDoZxelGLOMSX5kpMP6iMep1myDe80NcSu7AQAiEAyXpQI92k5Iial1kB8wCc6Bg4MJl66F9J2RfFpN13Sh8%3D&lsparams=mh%2Cmm%2Cmn%2Cms%2Cmv%2Cmvi%2Cpl%2Cinitcwndbps&lsig=AK1ks_kwRAIgHovtBDDfm8JoW9nkMsUA7OhqJWkr5GQWxrgGv7odoXECIBfIqONFWgKZjDGgoBRUQHKgHKutuK1STTFdVvUEbPHU':\n",
      "  Metadata:\n",
      "    encoder         : google/video-file\n",
      "  Duration: 00:01:06.10, start: -0.007000, bitrate: 140 kb/s\n",
      "  Stream #0:0(eng): Audio: opus, 48000 Hz, stereo, fltp (default)\n",
      "Stream mapping:\n",
      "  Stream #0:0 -> #0:0 (opus (native) -> opus (libopus))\n",
      "Press [q] to stop, [?] for help\n",
      "[libopus @ 0x5639c6a60f00] No bit rate set. Defaulting to 96000 bps.\n",
      "Output #0, webm, to 'file:./test/StimuliFinal/long/Synthetic/Above Ground BGM - Super Mario Bros. 3 [oZszAppxXoo].webm.part':\n",
      "  Metadata:\n",
      "    encoder         : Lavf58.76.100\n",
      "  Stream #0:0(eng): Audio: opus, 48000 Hz, stereo, flt, 96 kb/s (default)\n",
      "    Metadata:\n",
      "      encoder         : Lavc58.134.100 libopus\n",
      "size=     256kB time=00:00:31.16 bitrate=  67.3kbits/s speed=18.5x    \r"
     ]
    },
    {
     "name": "stdout",
     "output_type": "stream",
     "text": [
      "[download] 100% of  694.77KiB in 00:00:02 at 271.86KiB/s\n"
     ]
    },
    {
     "name": "stderr",
     "output_type": "stream",
     "text": [
      "size=     695kB time=00:00:54.00 bitrate= 105.4kbits/s speed=22.7x    \n",
      "video:0kB audio:675kB subtitle:0kB other streams:0kB global headers:0kB muxing overhead: 2.856655%\n"
     ]
    },
    {
     "name": "stdout",
     "output_type": "stream",
     "text": [
      "[ExtractAudio] Destination: ./test/StimuliFinal/long/Synthetic/Above Ground BGM - Super Mario Bros. 3 [oZszAppxXoo].wav\n",
      "Deleting original file ./test/StimuliFinal/long/Synthetic/Above Ground BGM - Super Mario Bros. 3 [oZszAppxXoo].webm (pass -k to keep)\n",
      "Downloading long track : Super Mario Bros 3 - Underwater Theme https://www.youtube.com/watch?v=JGpOPWM6uzE\n",
      "[youtube] Extracting URL: https://www.youtube.com/watch?v=JGpOPWM6uzE\n",
      "[youtube] JGpOPWM6uzE: Downloading webpage\n",
      "[youtube] JGpOPWM6uzE: Downloading ios player API JSON\n",
      "[youtube] JGpOPWM6uzE: Downloading android player API JSON\n",
      "[youtube] JGpOPWM6uzE: Downloading player dd34ec3d\n",
      "[youtube] JGpOPWM6uzE: Downloading m3u8 information\n",
      "[info] JGpOPWM6uzE: Downloading 1 format(s): 251\n",
      "[info] JGpOPWM6uzE: Downloading 1 time ranges: 0.0-46.0\n",
      "[download] Destination: ./test/StimuliFinal/long/Synthetic/Underwater Theme - Super Mario Bros 3 [JGpOPWM6uzE].webm\n"
     ]
    },
    {
     "name": "stderr",
     "output_type": "stream",
     "text": [
      "Input #0, matroska,webm, from 'https://rr1---sn-gpn9-t0as.googlevideo.com/videoplayback?expire=1697588989&ei=ndIuZYKoJMeE8wSO9474Aw&ip=206.167.239.2&id=o-ACJ-oA0bXQw44XAFBCuryGdSezAAnyaTNFSUn7aQOnrD&itag=251&source=youtube&requiressl=yes&mh=aX&mm=31%2C29&mn=sn-gpn9-t0as%2Csn-t0a7lnee&ms=au%2Crdu&mv=m&mvi=1&pl=24&initcwndbps=1101250&spc=UWF9f-tj0jzbCDWV3VsUxjgLLNPto_o&vprv=1&svpuc=1&mime=audio%2Fwebm&gir=yes&clen=1310728&dur=67.101&lmt=1563129556750371&mt=1697566861&fvip=3&keepalive=yes&fexp=24007246&beids=24350018&c=ANDROID&sparams=expire%2Cei%2Cip%2Cid%2Citag%2Csource%2Crequiressl%2Cspc%2Cvprv%2Csvpuc%2Cmime%2Cgir%2Cclen%2Cdur%2Clmt&sig=AGM4YrMwRgIhAPtmMDZncj-W5uliwDpLDnubNEfqR1rdHjJZLBdOtp6oAiEA1o1sM44znybRfHJXh4vUR8wUXVVLJZiRL1IirBKYCTM%3D&lsparams=mh%2Cmm%2Cmn%2Cms%2Cmv%2Cmvi%2Cpl%2Cinitcwndbps&lsig=AK1ks_kwRQIgB9wuJdmHWxumE2IEL71vBDYJEJPkuJeS3mvkQ5Xk0sECIQC4xaRuWF8UpU9fRjbnIf1_9vM94XYQAZ12jxPfhfUfxA%3D%3D':\n",
      "  Metadata:\n",
      "    encoder         : google/video-file\n",
      "  Duration: 00:01:07.10, start: -0.007000, bitrate: 156 kb/s\n",
      "  Stream #0:0(eng): Audio: opus, 48000 Hz, stereo, fltp (default)\n",
      "Stream mapping:\n",
      "  Stream #0:0 -> #0:0 (opus (native) -> opus (libopus))\n",
      "Press [q] to stop, [?] for help\n",
      "[libopus @ 0x55c122984d00] No bit rate set. Defaulting to 96000 bps.\n",
      "Output #0, webm, to 'file:./test/StimuliFinal/long/Synthetic/Underwater Theme - Super Mario Bros 3 [JGpOPWM6uzE].webm.part':\n",
      "  Metadata:\n",
      "    encoder         : Lavf58.76.100\n",
      "  Stream #0:0(eng): Audio: opus, 48000 Hz, stereo, flt, 96 kb/s (default)\n",
      "    Metadata:\n",
      "      encoder         : Lavc58.134.100 libopus\n",
      "size=     256kB time=00:00:31.20 bitrate=  67.2kbits/s speed=30.9x    \r"
     ]
    },
    {
     "name": "stdout",
     "output_type": "stream",
     "text": [
      "[download] 100% of  678.95KiB in 00:00:01 at 417.53KiB/s\n",
      "[ExtractAudio] Destination: ./test/StimuliFinal/long/Synthetic/Underwater Theme - Super Mario Bros 3 [JGpOPWM6uzE].wav\n",
      "Deleting original file ./test/StimuliFinal/long/Synthetic/Underwater Theme - Super Mario Bros 3 [JGpOPWM6uzE].webm (pass -k to keep)\n"
     ]
    },
    {
     "name": "stderr",
     "output_type": "stream",
     "text": [
      "size=     679kB time=00:00:46.00 bitrate= 120.9kbits/s speed=30.8x    \n",
      "video:0kB audio:662kB subtitle:0kB other streams:0kB global headers:0kB muxing overhead: 2.496038%\n"
     ]
    },
    {
     "name": "stdout",
     "output_type": "stream",
     "text": [
      "Downloading long track : Super Mario 64 - Bob-Omb Battlefield (Extended) Theme https://www.youtube.com/watch?v=xC3oIT5g_os\n",
      "[youtube] Extracting URL: https://www.youtube.com/watch?v=xC3oIT5g_os\n",
      "[youtube] xC3oIT5g_os: Downloading webpage\n",
      "[youtube] xC3oIT5g_os: Downloading ios player API JSON\n",
      "[youtube] xC3oIT5g_os: Downloading android player API JSON\n",
      "[youtube] xC3oIT5g_os: Downloading m3u8 information\n",
      "[info] xC3oIT5g_os: Downloading 1 format(s): 251\n",
      "[info] xC3oIT5g_os: Downloading 1 time ranges: 0.0-54.0\n",
      "[download] Destination: ./test/StimuliFinal/long/Synthetic/Super Mario 64 - Bob-Omb Battlefield (Extended) Theme [xC3oIT5g_os].webm\n"
     ]
    },
    {
     "name": "stderr",
     "output_type": "stream",
     "text": [
      "Input #0, matroska,webm, from 'https://rr4---sn-gpn9-t0as.googlevideo.com/videoplayback?expire=1697588994&ei=otIuZf6fOYOIgwPvsoGIBw&ip=206.167.239.2&id=o-AEeTJdsdJMEwIRG8m2hfrche7k9zinLFWYnw3hzP8Qot&itag=251&source=youtube&requiressl=yes&mh=It&mm=31%2C29&mn=sn-gpn9-t0as%2Csn-t0a7ln7d&ms=au%2Crdu&mv=m&mvi=4&pcm2cms=yes&pl=24&initcwndbps=1101250&spc=UWF9f5T43U4isHbhJ_dnZ_CjGMb6XI4&vprv=1&svpuc=1&mime=audio%2Fwebm&gir=yes&clen=30555226&dur=1799.201&lmt=1560463113003267&mt=1697566861&fvip=5&keepalive=yes&fexp=24007246&beids=24350018&c=ANDROID&txp=5432432&sparams=expire%2Cei%2Cip%2Cid%2Citag%2Csource%2Crequiressl%2Cspc%2Cvprv%2Csvpuc%2Cmime%2Cgir%2Cclen%2Cdur%2Clmt&sig=AGM4YrMwRQIhAOpKotv0b9u6rw1IA6rB-b0ntcq6LkrRaGXTu2OhqAcgAiBtzyly671tu_sC6JEiwXaOse9N4hogPc4MCJ89zQ55wg%3D%3D&lsparams=mh%2Cmm%2Cmn%2Cms%2Cmv%2Cmvi%2Cpcm2cms%2Cpl%2Cinitcwndbps&lsig=AK1ks_kwRQIhANlsKnlvFMoST_nhTYo4gSmmGM1F4j3F_YaaKAbYxKAoAiAZJyDBeTrdm9umbougzszAlTd51LAGyq0dqQyi2WfTZg%3D%3D':\n",
      "  Metadata:\n",
      "    encoder         : google/video-file\n",
      "  Duration: 00:29:59.20, start: -0.007000, bitrate: 135 kb/s\n",
      "  Stream #0:0(eng): Audio: opus, 48000 Hz, stereo, fltp (default)\n",
      "Stream mapping:\n",
      "  Stream #0:0 -> #0:0 (opus (native) -> opus (libopus))\n",
      "Press [q] to stop, [?] for help\n",
      "[libopus @ 0x56172b59d800] No bit rate set. Defaulting to 96000 bps.\n",
      "Output #0, webm, to 'file:./test/StimuliFinal/long/Synthetic/Super Mario 64 - Bob-Omb Battlefield (Extended) Theme [xC3oIT5g_os].webm.part':\n",
      "  Metadata:\n",
      "    encoder         : Lavf58.76.100\n",
      "  Stream #0:0(eng): Audio: opus, 48000 Hz, stereo, flt, 96 kb/s (default)\n",
      "    Metadata:\n",
      "      encoder         : Lavc58.134.100 libopus\n",
      "size=     512kB time=00:00:51.40 bitrate=  81.6kbits/s speed=1.96x    \r"
     ]
    },
    {
     "name": "stdout",
     "output_type": "stream",
     "text": [
      "[download] 100% of  675.58KiB in 00:00:27 at 24.57KiB/s\n",
      "[ExtractAudio] Destination: ./test/StimuliFinal/long/Synthetic/Super Mario 64 - Bob-Omb Battlefield (Extended) Theme [xC3oIT5g_os].wav\n",
      "Deleting original file ./test/StimuliFinal/long/Synthetic/Super Mario 64 - Bob-Omb Battlefield (Extended) Theme [xC3oIT5g_os].webm (pass -k to keep)\n"
     ]
    },
    {
     "name": "stderr",
     "output_type": "stream",
     "text": [
      "size=     676kB time=00:00:54.00 bitrate= 102.5kbits/s speed=1.99x    \n",
      "video:0kB audio:656kB subtitle:0kB other streams:0kB global headers:0kB muxing overhead: 2.943408%\n"
     ]
    },
    {
     "name": "stdout",
     "output_type": "stream",
     "text": [
      "Downloading long track : Original Tetris theme (Tetris Soundtrack) https://www.youtube.com/watch?v=NmCCQxVBfyM\n",
      "[youtube] Extracting URL: https://www.youtube.com/watch?v=NmCCQxVBfyM\n",
      "[youtube] NmCCQxVBfyM: Downloading webpage\n",
      "[youtube] NmCCQxVBfyM: Downloading ios player API JSON\n",
      "[youtube] NmCCQxVBfyM: Downloading android player API JSON\n",
      "[youtube] NmCCQxVBfyM: Downloading m3u8 information\n",
      "[info] NmCCQxVBfyM: Downloading 1 format(s): 251\n",
      "[info] NmCCQxVBfyM: Downloading 1 time ranges: 0.0-50.0\n",
      "[download] Destination: ./test/StimuliFinal/long/Synthetic/Original Tetris theme (Tetris Soundtrack) [NmCCQxVBfyM].webm\n"
     ]
    },
    {
     "name": "stderr",
     "output_type": "stream",
     "text": [
      "Input #0, matroska,webm, from 'https://rr2---sn-gpn9-t0as.googlevideo.com/videoplayback?expire=1697589023&ei=v9IuZeq1OJ6A_9EP28a7gQc&ip=206.167.239.2&id=o-ALabXWWNLXFwMTFz9aM-NtrtaBU6ceQ-cAh8lAyE9PfA&itag=251&source=youtube&requiressl=yes&mh=mj&mm=31%2C29&mn=sn-gpn9-t0as%2Csn-t0a7lnee&ms=au%2Crdu&mv=m&mvi=2&pl=24&initcwndbps=1101250&spc=UWF9f2AhJc-FLtnS4GWxbdRDDjUhU4k&vprv=1&svpuc=1&mime=audio%2Fwebm&gir=yes&clen=1520142&dur=83.621&lmt=1540638722065771&mt=1697566861&fvip=2&keepalive=yes&fexp=24007246&beids=24350018&c=ANDROID&txp=5411222&sparams=expire%2Cei%2Cip%2Cid%2Citag%2Csource%2Crequiressl%2Cspc%2Cvprv%2Csvpuc%2Cmime%2Cgir%2Cclen%2Cdur%2Clmt&sig=AGM4YrMwRQIhAL493f7MYc3ah3i4S8nqmmhjT1WLPTOOLLYsRyZYzWwdAiAvfxTopObCv_EmxuR3va82XyLEdrmi7xlLjM41VnqUSQ%3D%3D&lsparams=mh%2Cmm%2Cmn%2Cms%2Cmv%2Cmvi%2Cpl%2Cinitcwndbps&lsig=AK1ks_kwRAIgKMbr9yiOQTdMBvew_EHrlI9JvhRHCdAHs4X0Acy9iPoCIH0TfYwroV7f9gQOszsX3Y984TdfkXWs__JiNTCTkXVS':\n",
      "  Metadata:\n",
      "    encoder         : google/video-file\n",
      "  Duration: 00:01:23.62, start: -0.007000, bitrate: 145 kb/s\n",
      "  Stream #0:0(ger): Audio: opus, 48000 Hz, stereo, fltp (default)\n",
      "Stream mapping:\n",
      "  Stream #0:0 -> #0:0 (opus (native) -> opus (libopus))\n",
      "Press [q] to stop, [?] for help\n",
      "[libopus @ 0x5609a2601ac0] No bit rate set. Defaulting to 96000 bps.\n",
      "Output #0, webm, to 'file:./test/StimuliFinal/long/Synthetic/Original Tetris theme (Tetris Soundtrack) [NmCCQxVBfyM].webm.part':\n",
      "  Metadata:\n",
      "    encoder         : Lavf58.76.100\n",
      "  Stream #0:0(ger): Audio: opus, 48000 Hz, stereo, flt, 96 kb/s (default)\n",
      "    Metadata:\n",
      "      encoder         : Lavc58.134.100 libopus\n",
      "size=     256kB time=00:00:32.32 bitrate=  64.9kbits/s speed=32.1x    \r"
     ]
    },
    {
     "name": "stdout",
     "output_type": "stream",
     "text": [
      "[download] 100% of  689.23KiB in 00:00:01 at 413.16KiB/s\n",
      "[ExtractAudio] Destination: ./test/StimuliFinal/long/Synthetic/Original Tetris theme (Tetris Soundtrack) [NmCCQxVBfyM].wav\n",
      "Deleting original file ./test/StimuliFinal/long/Synthetic/Original Tetris theme (Tetris Soundtrack) [NmCCQxVBfyM].webm (pass -k to keep)\n"
     ]
    },
    {
     "name": "stderr",
     "output_type": "stream",
     "text": [
      "size=     689kB time=00:00:50.00 bitrate= 112.9kbits/s speed=32.4x    \n",
      "video:0kB audio:671kB subtitle:0kB other streams:0kB global headers:0kB muxing overhead: 2.669539%\n"
     ]
    },
    {
     "name": "stdout",
     "output_type": "stream",
     "text": [
      "Downloading long track : Donkey Kong Country OST (Super Nintendo) - Track 03/23 - DK Island Swing https://www.youtube.com/watch?v=HG8YrDF6cDk\n",
      "[youtube] Extracting URL: https://www.youtube.com/watch?v=HG8YrDF6cDk\n",
      "[youtube] HG8YrDF6cDk: Downloading webpage\n",
      "[youtube] HG8YrDF6cDk: Downloading ios player API JSON\n",
      "[youtube] HG8YrDF6cDk: Downloading android player API JSON\n",
      "[youtube] HG8YrDF6cDk: Downloading m3u8 information\n",
      "[info] HG8YrDF6cDk: Downloading 1 format(s): 251\n",
      "[info] HG8YrDF6cDk: Downloading 1 time ranges: 40.0-99.0\n",
      "[download] Destination: ./test/StimuliFinal/long/Synthetic/Donkey Kong Country OST (Super Nintendo) - Track 03⧸23 - DK Island Swing [HG8YrDF6cDk].webm\n"
     ]
    },
    {
     "name": "stderr",
     "output_type": "stream",
     "text": [
      "Input #0, matroska,webm, from 'https://rr3---sn-gpn9-t0as.googlevideo.com/videoplayback?expire=1697589027&ei=w9IuZfHfC7Ws_9EPof2qoAk&ip=206.167.239.2&id=o-ANzL4ZGOy_D4Adc14EGEMXsRhnosRxiWPg2OEousCEsB&itag=251&source=youtube&requiressl=yes&mh=jL&mm=31%2C29&mn=sn-gpn9-t0as%2Csn-t0a7sn7d&ms=au%2Crdu&mv=m&mvi=3&pl=24&initcwndbps=1101250&spc=UWF9f5nMf5fK0RMz5UQ7bSqyGTD1IA0&vprv=1&svpuc=1&mime=audio%2Fwebm&gir=yes&clen=3176666&dur=181.521&lmt=1561570180713648&mt=1697566861&fvip=5&keepalive=yes&fexp=24007246&beids=24350018&c=ANDROID&txp=5432432&sparams=expire%2Cei%2Cip%2Cid%2Citag%2Csource%2Crequiressl%2Cspc%2Cvprv%2Csvpuc%2Cmime%2Cgir%2Cclen%2Cdur%2Clmt&sig=AGM4YrMwRQIhAOYD3_bsM-EdfIsIVFuc9DRbcnf8CTj1JIeHKHtqsS9LAiAyB0764nORI4yTdx79nOswQlIT_95aHyNvJOJabWxQTA%3D%3D&lsparams=mh%2Cmm%2Cmn%2Cms%2Cmv%2Cmvi%2Cpl%2Cinitcwndbps&lsig=AK1ks_kwRAIgNi1YuWIK9wiJ_aUwF0F8OJlJnPxMI06VMzgiaE4ghYwCIGl2IaGpLC0lQ6HI8kuRGf-PVfF1RxPdFRv0N3MMMeuG':\n",
      "  Metadata:\n",
      "    encoder         : google/video-file\n",
      "  Duration: 00:03:01.52, start: -0.007000, bitrate: 140 kb/s\n",
      "  Stream #0:0(eng): Audio: opus, 48000 Hz, stereo, fltp (default)\n",
      "Stream mapping:\n",
      "  Stream #0:0 -> #0:0 (opus (native) -> opus (libopus))\n",
      "Press [q] to stop, [?] for help\n",
      "[libopus @ 0x5623efcf6180] No bit rate set. Defaulting to 96000 bps.\n",
      "Output #0, webm, to 'file:./test/StimuliFinal/long/Synthetic/Donkey Kong Country OST (Super Nintendo) - Track 03⧸23 - DK Island Swing [HG8YrDF6cDk].webm.part':\n",
      "  Metadata:\n",
      "    encoder         : Lavf58.76.100\n",
      "  Stream #0:0(eng): Audio: opus, 48000 Hz, stereo, flt, 96 kb/s (default)\n",
      "    Metadata:\n",
      "      encoder         : Lavc58.134.100 libopus\n",
      "size=     256kB time=00:00:37.95 bitrate=  55.3kbits/s speed=24.7x    \r"
     ]
    },
    {
     "name": "stdout",
     "output_type": "stream",
     "text": [
      "[download] 100% of  730.35KiB in 00:00:02 at 301.99KiB/s\n",
      "[ExtractAudio] Destination: ./test/StimuliFinal/long/Synthetic/Donkey Kong Country OST (Super Nintendo) - Track 03⧸23 - DK Island Swing [HG8YrDF6cDk].wav\n"
     ]
    },
    {
     "name": "stderr",
     "output_type": "stream",
     "text": [
      "size=     730kB time=00:00:58.99 bitrate= 101.4kbits/s speed=27.3x    \n",
      "video:0kB audio:709kB subtitle:0kB other streams:0kB global headers:0kB muxing overhead: 2.968822%\n"
     ]
    },
    {
     "name": "stdout",
     "output_type": "stream",
     "text": [
      "Deleting original file ./test/StimuliFinal/long/Synthetic/Donkey Kong Country OST (Super Nintendo) - Track 03⧸23 - DK Island Swing [HG8YrDF6cDk].webm (pass -k to keep)\n",
      "Downloading long track : Final Fantasy 7 Music - Aerith's Theme https://www.youtube.com/watch?v=n0H6kTppjP8\n",
      "[youtube] Extracting URL: https://www.youtube.com/watch?v=n0H6kTppjP8\n",
      "[youtube] n0H6kTppjP8: Downloading webpage\n",
      "[youtube] n0H6kTppjP8: Downloading ios player API JSON\n",
      "[youtube] n0H6kTppjP8: Downloading android player API JSON\n",
      "[youtube] n0H6kTppjP8: Downloading m3u8 information\n",
      "[info] n0H6kTppjP8: Downloading 1 format(s): 251\n",
      "[info] n0H6kTppjP8: Downloading 1 time ranges: 14.0-71.0\n",
      "[download] Destination: ./test/StimuliFinal/long/Synthetic/エアリスのテーマ [n0H6kTppjP8].webm\n"
     ]
    },
    {
     "name": "stderr",
     "output_type": "stream",
     "text": [
      "Input #0, matroska,webm, from 'https://rr3---sn-gpn9-t0as.googlevideo.com/videoplayback?expire=1697589031&ei=x9IuZYezDrKf_9EP6qiCmA4&ip=206.167.239.2&id=o-AEJW-1pki3ogY12t4n_NLyti197e5kOuIFU7GVCSJhRN&itag=251&source=youtube&requiressl=yes&mh=73&mm=31%2C29&mn=sn-gpn9-t0as%2Csn-t0a7sn7d&ms=au%2Crdu&mv=m&mvi=3&pl=24&gcr=ca&initcwndbps=1101250&spc=UWF9f-Vdi3bNNtpst5cOH5sKHmo868E&vprv=1&svpuc=1&mime=audio%2Fwebm&gir=yes&clen=5031812&dur=258.241&lmt=1681870451496925&mt=1697566861&fvip=5&keepalive=yes&fexp=24007246&beids=24350018&c=ANDROID&txp=2318224&sparams=expire%2Cei%2Cip%2Cid%2Citag%2Csource%2Crequiressl%2Cgcr%2Cspc%2Cvprv%2Csvpuc%2Cmime%2Cgir%2Cclen%2Cdur%2Clmt&sig=AGM4YrMwRgIhAN9dEK12Ntyv80vZYNJsslbytpZSvm8sU7Bt4cY97MAzAiEAgNjxd1O9AjRjg-HCYibBK7LXJTPHou3CJRkFoxJhQX0%3D&lsparams=mh%2Cmm%2Cmn%2Cms%2Cmv%2Cmvi%2Cpl%2Cinitcwndbps&lsig=AK1ks_kwRQIhAOiTvA0-Xbxuh2tfwCgOGm5zgLx1ZlajrYHYsb5nFm33AiA0SZkPhNuwlKgGtOYTJy1gc6H-H8y4vwQsyhB0JNTRMw%3D%3D':\n",
      "  Metadata:\n",
      "    encoder         : google/video-file\n",
      "  Duration: 00:04:18.24, start: -0.007000, bitrate: 155 kb/s\n",
      "  Stream #0:0(eng): Audio: opus, 48000 Hz, stereo, fltp (default)\n",
      "Stream mapping:\n",
      "  Stream #0:0 -> #0:0 (opus (native) -> opus (libopus))\n",
      "Press [q] to stop, [?] for help\n",
      "[libopus @ 0x55c5b0d4a380] No bit rate set. Defaulting to 96000 bps.\n",
      "Output #0, webm, to 'file:./test/StimuliFinal/long/Synthetic/エアリスのテーマ [n0H6kTppjP8].webm.part':\n",
      "  Metadata:\n",
      "    encoder         : Lavf58.76.100\n",
      "  Stream #0:0(eng): Audio: opus, 48000 Hz, stereo, flt, 96 kb/s (default)\n",
      "    Metadata:\n",
      "      encoder         : Lavc58.134.100 libopus\n",
      "size=     512kB time=00:00:44.57 bitrate=  94.1kbits/s speed=10.2x    \r"
     ]
    },
    {
     "name": "stdout",
     "output_type": "stream",
     "text": [
      "[download] 100% of  814.82KiB in 00:00:05 at 142.88KiB/s\n",
      "[ExtractAudio] Destination: ./test/StimuliFinal/long/Synthetic/エアリスのテーマ [n0H6kTppjP8].wav\n"
     ]
    },
    {
     "name": "stderr",
     "output_type": "stream",
     "text": [
      "size=     815kB time=00:00:56.99 bitrate= 117.1kbits/s speed=10.6x    \n",
      "video:0kB audio:794kB subtitle:0kB other streams:0kB global headers:0kB muxing overhead: 2.564673%\n"
     ]
    },
    {
     "name": "stdout",
     "output_type": "stream",
     "text": [
      "Deleting original file ./test/StimuliFinal/long/Synthetic/エアリスのテーマ [n0H6kTppjP8].webm (pass -k to keep)\n",
      "Downloading long track : Legend of Zelda, The (NES) Music - Overworld Theme https://www.youtube.com/watch?v=ncg72VswyTs\n",
      "[youtube] Extracting URL: https://www.youtube.com/watch?v=ncg72VswyTs\n",
      "[youtube] ncg72VswyTs: Downloading webpage\n",
      "[youtube] ncg72VswyTs: Downloading ios player API JSON\n",
      "[youtube] ncg72VswyTs: Downloading android player API JSON\n",
      "[youtube] ncg72VswyTs: Downloading m3u8 information\n",
      "[info] ncg72VswyTs: Downloading 1 format(s): 251\n",
      "[info] ncg72VswyTs: Downloading 1 time ranges: 0.0-50.0\n",
      "[download] Destination: ./test/StimuliFinal/long/Synthetic/Legend of Zelda, The (NES) Music - Overworld Theme [ncg72VswyTs].webm\n"
     ]
    },
    {
     "name": "stderr",
     "output_type": "stream",
     "text": [
      "Input #0, matroska,webm, from 'https://rr3---sn-gpn9-t0as.googlevideo.com/videoplayback?expire=1697589038&ei=ztIuZavrIbqj_9EP_vO12AY&ip=206.167.239.2&id=o-API92zg7154bKvLKtZ1L-nrCcEddCIoY6Dmz8vd63gTu&itag=251&source=youtube&requiressl=yes&mh=_f&mm=31%2C29&mn=sn-gpn9-t0as%2Csn-t0a7sn7d&ms=au%2Crdu&mv=m&mvi=3&pl=24&initcwndbps=1101250&spc=UWF9f70iO6HJrSwXiGBPBxfPQhhV6LY&vprv=1&svpuc=1&mime=audio%2Fwebm&gir=yes&clen=3753648&dur=180.121&lmt=1496950358823968&mt=1697566861&fvip=2&keepalive=yes&fexp=24007246&beids=24350018&c=ANDROID&sparams=expire%2Cei%2Cip%2Cid%2Citag%2Csource%2Crequiressl%2Cspc%2Cvprv%2Csvpuc%2Cmime%2Cgir%2Cclen%2Cdur%2Clmt&sig=AGM4YrMwRQIgZLjFp2O4NLuB9TbhGHSpEPqCYDpXyAlLVSY6T56B3pACIQCnJIP8pk90f2ktHvw7aq2xKo7QxVAyav9HLQ-WYXynng%3D%3D&lsparams=mh%2Cmm%2Cmn%2Cms%2Cmv%2Cmvi%2Cpl%2Cinitcwndbps&lsig=AK1ks_kwRAIgCx5LxMxLsx9sxojdozThRgDkStDAlVbFkPkK6C_ggW0CIA72IAKp9tsodpAqlcY_2WH2EXZyteIbC8oMPNSiKDSM':\n",
      "  Metadata:\n",
      "    encoder         : google\n",
      "  Duration: 00:03:00.12, start: -0.007000, bitrate: 166 kb/s\n",
      "  Stream #0:0(eng): Audio: opus, 48000 Hz, stereo, fltp (default)\n",
      "Stream mapping:\n",
      "  Stream #0:0 -> #0:0 (opus (native) -> opus (libopus))\n",
      "Press [q] to stop, [?] for help\n",
      "[libopus @ 0x55c40f330100] No bit rate set. Defaulting to 96000 bps.\n",
      "Output #0, webm, to 'file:./test/StimuliFinal/long/Synthetic/Legend of Zelda, The (NES) Music - Overworld Theme [ncg72VswyTs].webm.part':\n",
      "  Metadata:\n",
      "    encoder         : Lavf58.76.100\n",
      "  Stream #0:0(eng): Audio: opus, 48000 Hz, stereo, flt, 96 kb/s (default)\n",
      "    Metadata:\n",
      "      encoder         : Lavc58.134.100 libopus\n",
      "size=     512kB time=00:00:43.70 bitrate=  96.0kbits/s speed=28.7x    \r"
     ]
    },
    {
     "name": "stdout",
     "output_type": "stream",
     "text": [
      "[download] 100% of  773.79KiB in 00:00:01 at 391.11KiB/s\n",
      "[ExtractAudio] Destination: ./test/StimuliFinal/long/Synthetic/Legend of Zelda, The (NES) Music - Overworld Theme [ncg72VswyTs].wav\n",
      "Deleting original file ./test/StimuliFinal/long/Synthetic/Legend of Zelda, The (NES) Music - Overworld Theme [ncg72VswyTs].webm (pass -k to keep)\n"
     ]
    },
    {
     "name": "stderr",
     "output_type": "stream",
     "text": [
      "size=     774kB time=00:00:50.00 bitrate= 126.8kbits/s speed=27.1x    \n",
      "video:0kB audio:756kB subtitle:0kB other streams:0kB global headers:0kB muxing overhead: 2.371032%\n"
     ]
    },
    {
     "name": "stdout",
     "output_type": "stream",
     "text": [
      "Downloading long track : Castlevania 4 - Bloody Tears (Super Nintendo) https://www.youtube.com/watch?v=QOWUSsFar-s\n",
      "[youtube] Extracting URL: https://www.youtube.com/watch?v=QOWUSsFar-s\n",
      "[youtube] QOWUSsFar-s: Downloading webpage\n",
      "[youtube] QOWUSsFar-s: Downloading ios player API JSON\n",
      "[youtube] QOWUSsFar-s: Downloading android player API JSON\n",
      "[youtube] QOWUSsFar-s: Downloading m3u8 information\n",
      "[info] QOWUSsFar-s: Downloading 1 format(s): 251\n",
      "[info] QOWUSsFar-s: Downloading 1 time ranges: 0.0-58.0\n",
      "[download] Destination: ./test/StimuliFinal/long/Synthetic/Castlevania 4 - Bloody Tears (Super Nintendo) [QOWUSsFar-s].webm\n"
     ]
    },
    {
     "name": "stderr",
     "output_type": "stream",
     "text": [
      "Input #0, matroska,webm, from 'https://rr3---sn-gpn9-t0as.googlevideo.com/videoplayback?expire=1697589042&ei=0tIuZcr9FauM_9EPuO-aoAo&ip=206.167.239.2&id=o-AIQtRmfqO32Hby3xpvfyvlwKRZJt9Rp6CW2dEb7r1waJ&itag=251&source=youtube&requiressl=yes&mh=1k&mm=31%2C29&mn=sn-gpn9-t0as%2Csn-t0a7lnee&ms=au%2Crdu&mv=m&mvi=3&pcm2cms=yes&pl=24&initcwndbps=1101250&spc=UWF9f-q6FogVVY6hbJyq7IolEMQc-wE&vprv=1&svpuc=1&mime=audio%2Fwebm&gir=yes&clen=2129197&dur=127.021&lmt=1573408982662405&mt=1697566861&fvip=4&keepalive=yes&fexp=24007246&beids=24350018&c=ANDROID&txp=1311222&sparams=expire%2Cei%2Cip%2Cid%2Citag%2Csource%2Crequiressl%2Cspc%2Cvprv%2Csvpuc%2Cmime%2Cgir%2Cclen%2Cdur%2Clmt&sig=AGM4YrMwRQIhAN3EHotyB0ZuREl9Ur_ixQbBcnhZZgd5O5u5X71v75BKAiBUczp63z4lDzi-rKg96zaWFWV1BH2UpTJdYplkLguBKQ%3D%3D&lsparams=mh%2Cmm%2Cmn%2Cms%2Cmv%2Cmvi%2Cpcm2cms%2Cpl%2Cinitcwndbps&lsig=AK1ks_kwRAIgCcNhDfe7cCI8jQE1ibF0tC9FqpayzR4aBpbvR-RriZ4CIFAi6Iy7lBXb516FzJtf3MmNwdMz2FvfuZmXwIO2mEma':\n",
      "  Metadata:\n",
      "    encoder         : google/video-file\n",
      "  Duration: 00:02:07.02, start: -0.007000, bitrate: 134 kb/s\n",
      "  Stream #0:0(eng): Audio: opus, 48000 Hz, stereo, fltp (default)\n",
      "Stream mapping:\n",
      "  Stream #0:0 -> #0:0 (opus (native) -> opus (libopus))\n",
      "Press [q] to stop, [?] for help\n",
      "[libopus @ 0x55e03b7ed200] No bit rate set. Defaulting to 96000 bps.\n",
      "Output #0, webm, to 'file:./test/StimuliFinal/long/Synthetic/Castlevania 4 - Bloody Tears (Super Nintendo) [QOWUSsFar-s].webm.part':\n",
      "  Metadata:\n",
      "    encoder         : Lavf58.76.100\n",
      "  Stream #0:0(eng): Audio: opus, 48000 Hz, stereo, flt, 96 kb/s (default)\n",
      "    Metadata:\n",
      "      encoder         : Lavc58.134.100 libopus\n",
      "size=     256kB time=00:00:33.00 bitrate=  63.5kbits/s speed=13.6x    \r"
     ]
    },
    {
     "name": "stdout",
     "output_type": "stream",
     "text": [
      "[download] 100% of  718.18KiB in 00:00:03 at 217.54KiB/s\n"
     ]
    },
    {
     "name": "stderr",
     "output_type": "stream",
     "text": [
      "size=     718kB time=00:00:58.00 bitrate= 101.4kbits/s speed=18.6x    \n",
      "video:0kB audio:697kB subtitle:0kB other streams:0kB global headers:0kB muxing overhead: 2.969604%\n"
     ]
    },
    {
     "name": "stdout",
     "output_type": "stream",
     "text": [
      "[ExtractAudio] Destination: ./test/StimuliFinal/long/Synthetic/Castlevania 4 - Bloody Tears (Super Nintendo) [QOWUSsFar-s].wav\n",
      "Deleting original file ./test/StimuliFinal/long/Synthetic/Castlevania 4 - Bloody Tears (Super Nintendo) [QOWUSsFar-s].webm (pass -k to keep)\n",
      "Downloading long track : Populous (SNES/SFC) - BGM 01: Title Theme https://www.youtube.com/watch?v=_Oix8HQESBs\n",
      "[youtube] Extracting URL: https://www.youtube.com/watch?v=_Oix8HQESBs\n",
      "[youtube] _Oix8HQESBs: Downloading webpage\n",
      "[youtube] _Oix8HQESBs: Downloading ios player API JSON\n",
      "[youtube] _Oix8HQESBs: Downloading android player API JSON\n",
      "[youtube] _Oix8HQESBs: Downloading m3u8 information\n",
      "[youtube] _Oix8HQESBs: Downloading MPD manifest\n",
      "[info] _Oix8HQESBs: Downloading 1 format(s): 251\n",
      "[info] _Oix8HQESBs: Downloading 1 time ranges: 0.0-49.0\n",
      "[download] Destination: ./test/StimuliFinal/long/Synthetic/Populous (SNES⧸SFC) - BGM 01： Title Theme [_Oix8HQESBs].webm\n"
     ]
    },
    {
     "name": "stderr",
     "output_type": "stream",
     "text": [
      "Input #0, matroska,webm, from 'https://rr3---sn-gpn9-t0as.googlevideo.com/videoplayback?expire=1697589047&ei=19IuZfbaCpym_9EPqNGNyAg&ip=206.167.239.2&id=o-ABN_gwRrCRwLnajW6rQy9jPms8PF79-CO25liWOq_skC&itag=251&source=youtube&requiressl=yes&mh=HZ&mm=31%2C29&mn=sn-gpn9-t0as%2Csn-t0a7lnee&ms=au%2Crdu&mv=m&mvi=3&pl=24&initcwndbps=1101250&spc=UWF9f8sK8dBDzakR-OZlQFjCxQ-dqP4&vprv=1&svpuc=1&mime=audio%2Fwebm&gir=yes&clen=2586840&dur=178.061&lmt=1563841132306899&mt=1697566861&fvip=5&keepalive=yes&fexp=24007246&beids=24350018&c=ANDROID&sparams=expire%2Cei%2Cip%2Cid%2Citag%2Csource%2Crequiressl%2Cspc%2Cvprv%2Csvpuc%2Cmime%2Cgir%2Cclen%2Cdur%2Clmt&sig=AGM4YrMwRgIhAJp6cEiL0B3WSScHIDwUAIvtSYztDA-VdAAV43RG17xwAiEAlEdLYVwwXkPrz8n8muorPWROB1GFdS5rVgzeG9PSrwQ%3D&lsparams=mh%2Cmm%2Cmn%2Cms%2Cmv%2Cmvi%2Cpl%2Cinitcwndbps&lsig=AK1ks_kwRAIgWaGeHIhy8RA4fWgwI_RqCy4tQz7uePsm37_5_kzD-WQCIBbqy9NKSkpHp7NRcfOr7o2qlgFFuR8V9ioieAOttWDi':\n",
      "  Metadata:\n",
      "    encoder         : google/video-file\n",
      "  Duration: 00:02:58.06, start: -0.007000, bitrate: 116 kb/s\n",
      "  Stream #0:0(eng): Audio: opus, 48000 Hz, stereo, fltp (default)\n",
      "Stream mapping:\n",
      "  Stream #0:0 -> #0:0 (opus (native) -> opus (libopus))\n",
      "Press [q] to stop, [?] for help\n",
      "[libopus @ 0x55e9cb786ac0] No bit rate set. Defaulting to 96000 bps.\n",
      "Output #0, webm, to 'file:./test/StimuliFinal/long/Synthetic/Populous (SNES⧸SFC) - BGM 01： Title Theme [_Oix8HQESBs].webm.part':\n",
      "  Metadata:\n",
      "    encoder         : Lavf58.76.100\n",
      "  Stream #0:0(eng): Audio: opus, 48000 Hz, stereo, flt, 96 kb/s (default)\n",
      "    Metadata:\n",
      "      encoder         : Lavc58.134.100 libopus\n",
      "size=     256kB time=00:00:39.80 bitrate=  52.7kbits/s speed=17.5x    \r"
     ]
    },
    {
     "name": "stdout",
     "output_type": "stream",
     "text": [
      "[download] 100% of  493.09KiB in 00:00:02 at 187.37KiB/s\n",
      "[ExtractAudio] Destination: ./test/StimuliFinal/long/Synthetic/Populous (SNES⧸SFC) - BGM 01： Title Theme [_Oix8HQESBs].wav\n",
      "Deleting original file ./test/StimuliFinal/long/Synthetic/Populous (SNES⧸SFC) - BGM 01： Title Theme [_Oix8HQESBs].webm (pass -k to keep)\n"
     ]
    },
    {
     "name": "stderr",
     "output_type": "stream",
     "text": [
      "size=     493kB time=00:00:49.00 bitrate=  82.4kbits/s speed=19.6x    \n",
      "video:0kB audio:476kB subtitle:0kB other streams:0kB global headers:0kB muxing overhead: 3.697063%\n"
     ]
    },
    {
     "name": "stdout",
     "output_type": "stream",
     "text": [
      "Downloading long track : Sim City - Growth https://www.youtube.com/watch?v=cwWrJg6OMs8\n",
      "[youtube] Extracting URL: https://www.youtube.com/watch?v=cwWrJg6OMs8\n",
      "[youtube] cwWrJg6OMs8: Downloading webpage\n",
      "[youtube] cwWrJg6OMs8: Downloading ios player API JSON\n",
      "[youtube] cwWrJg6OMs8: Downloading android player API JSON\n",
      "[youtube] cwWrJg6OMs8: Downloading m3u8 information\n",
      "[info] cwWrJg6OMs8: Downloading 1 format(s): 251\n",
      "[info] cwWrJg6OMs8: Downloading 1 time ranges: 0.0-32.0\n",
      "[download] Destination: ./test/StimuliFinal/long/Synthetic/Sim City - Growth [cwWrJg6OMs8].webm\n"
     ]
    },
    {
     "name": "stderr",
     "output_type": "stream",
     "text": [
      "Input #0, matroska,webm, from 'https://rr4---sn-gpn9-t0as.googlevideo.com/videoplayback?expire=1697589051&ei=29IuZZ2jLsH48gSnta2gCQ&ip=206.167.239.2&id=o-AHVoEOWI8PQZSPaHeEcmOcdiRoewKa7ftPzOgfVJGY0h&itag=251&source=youtube&requiressl=yes&mh=LH&mm=31%2C29&mn=sn-gpn9-t0as%2Csn-t0a7ln7d&ms=au%2Crdu&mv=m&mvi=4&pl=24&initcwndbps=1101250&spc=UWF9f_BQ4gIflUsgMU_pbwWoTxbLWD4&vprv=1&svpuc=1&mime=audio%2Fwebm&gir=yes&clen=479178&dur=32.241&lmt=1564326278301970&mt=1697566861&fvip=2&keepalive=yes&fexp=24007246&beids=24350018&c=ANDROID&sparams=expire%2Cei%2Cip%2Cid%2Citag%2Csource%2Crequiressl%2Cspc%2Cvprv%2Csvpuc%2Cmime%2Cgir%2Cclen%2Cdur%2Clmt&sig=AGM4YrMwRAIgKk8bfBGPhe1KDT4Jxyrw11hUONx4Dr8In6enp3q_seoCICGBAb5Yn9jnPK1PGC6tmJD5dDffZsvjn7ftLHn7-3xy&lsparams=mh%2Cmm%2Cmn%2Cms%2Cmv%2Cmvi%2Cpl%2Cinitcwndbps&lsig=AK1ks_kwRAIgNy7kXsxHx-5C3E-munoHmNPsFL4Q2dMA6xXyNIAIMgQCIF-fYcyNV9f7yWIGSOw35PSRLtfGS-OnvCvglBoXlWuz':\n",
      "  Metadata:\n",
      "    encoder         : google/video-file\n",
      "  Duration: 00:00:32.24, start: -0.007000, bitrate: 118 kb/s\n",
      "  Stream #0:0(eng): Audio: opus, 48000 Hz, stereo, fltp (default)\n",
      "Stream mapping:\n",
      "  Stream #0:0 -> #0:0 (opus (native) -> opus (libopus))\n",
      "Press [q] to stop, [?] for help\n",
      "[libopus @ 0x55d44a174900] No bit rate set. Defaulting to 96000 bps.\n",
      "Output #0, webm, to 'file:./test/StimuliFinal/long/Synthetic/Sim City - Growth [cwWrJg6OMs8].webm.part':\n",
      "  Metadata:\n",
      "    encoder         : Lavf58.76.100\n",
      "  Stream #0:0(eng): Audio: opus, 48000 Hz, stereo, flt, 96 kb/s (default)\n",
      "    Metadata:\n",
      "      encoder         : Lavc58.134.100 libopus\n",
      "size=     167kB time=00:00:16.34 bitrate=  83.7kbits/s speed=  24x    \r"
     ]
    },
    {
     "name": "stdout",
     "output_type": "stream",
     "text": [
      "[download] 100% of  349.68KiB in 00:00:01 at 284.61KiB/s\n",
      "[ExtractAudio] Destination: ./test/StimuliFinal/long/Synthetic/Sim City - Growth [cwWrJg6OMs8].wav\n",
      "Deleting original file ./test/StimuliFinal/long/Synthetic/Sim City - Growth [cwWrJg6OMs8].webm (pass -k to keep)\n"
     ]
    },
    {
     "name": "stderr",
     "output_type": "stream",
     "text": [
      "size=     350kB time=00:00:32.00 bitrate=  89.5kbits/s speed=  30x    \n",
      "video:0kB audio:338kB subtitle:0kB other streams:0kB global headers:0kB muxing overhead: 3.442090%\n"
     ]
    },
    {
     "name": "stdout",
     "output_type": "stream",
     "text": [
      "Downloading long track : Sid Meier's Civilization 【SNES】 OST 06 City Menu https://www.youtube.com/watch?v=zFND5ln-06o\n",
      "[youtube] Extracting URL: https://www.youtube.com/watch?v=zFND5ln-06o\n",
      "[youtube] zFND5ln-06o: Downloading webpage\n",
      "[youtube] zFND5ln-06o: Downloading ios player API JSON\n",
      "[youtube] zFND5ln-06o: Downloading android player API JSON\n",
      "[youtube] zFND5ln-06o: Downloading m3u8 information\n",
      "[info] zFND5ln-06o: Downloading 1 format(s): 251\n",
      "[info] zFND5ln-06o: Downloading 1 time ranges: 6.0-66.0\n",
      "[download] Destination: ./test/StimuliFinal/long/Synthetic/Sid Meier's Civilization 【SNES】 OST 06 City Menu [zFND5ln-06o].webm\n"
     ]
    },
    {
     "name": "stderr",
     "output_type": "stream",
     "text": [
      "Input #0, matroska,webm, from 'https://rr2---sn-gpn9-t0as.googlevideo.com/videoplayback?expire=1697589055&ei=39IuZf-kD4zn8wTH14rYBg&ip=206.167.239.2&id=o-ANjjGDCIKFEQB6gMPGWYBZmDRmKhmk37dv50RH7aChp6&itag=251&source=youtube&requiressl=yes&mh=RH&mm=31%2C29&mn=sn-gpn9-t0as%2Csn-t0a7ln7d&ms=au%2Crdu&mv=m&mvi=2&pl=24&initcwndbps=1101250&spc=UWF9f4pBXC_uXdTDUDfra15xnj_Injg&vprv=1&svpuc=1&mime=audio%2Fwebm&gir=yes&clen=1358911&dur=71.161&lmt=1565790227692743&mt=1697566861&fvip=4&keepalive=yes&fexp=24007246&beids=24350018&c=ANDROID&sparams=expire%2Cei%2Cip%2Cid%2Citag%2Csource%2Crequiressl%2Cspc%2Cvprv%2Csvpuc%2Cmime%2Cgir%2Cclen%2Cdur%2Clmt&sig=AGM4YrMwRgIhAN1nR7dBMeeeUuxmVYAhHmWEWzc6d6-MA-hT7TdXfd8yAiEAnkNS9uV5lt5y4Be--TeuAVODf7I8ZkIxnYVW2ddPO7g%3D&lsparams=mh%2Cmm%2Cmn%2Cms%2Cmv%2Cmvi%2Cpl%2Cinitcwndbps&lsig=AK1ks_kwRgIhAMFmZmaA7pJull0TFeG7Xy_3Zl4356cFSbh157TCBSn2AiEAwP7zeTt3q4A0pe8ImD1xZ3NFrRo7xFAP3uu6QF8K0NY%3D':\n",
      "  Metadata:\n",
      "    encoder         : google/video-file\n",
      "  Duration: 00:01:11.16, start: -0.007000, bitrate: 152 kb/s\n",
      "  Stream #0:0(eng): Audio: opus, 48000 Hz, stereo, fltp (default)\n",
      "Stream mapping:\n",
      "  Stream #0:0 -> #0:0 (opus (native) -> opus (libopus))\n",
      "Press [q] to stop, [?] for help\n",
      "[libopus @ 0x557e8adb4140] No bit rate set. Defaulting to 96000 bps.\n",
      "Output #0, webm, to 'file:./test/StimuliFinal/long/Synthetic/Sid Meier's Civilization 【SNES】 OST 06 City Menu [zFND5ln-06o].webm.part':\n",
      "  Metadata:\n",
      "    encoder         : Lavf58.76.100\n",
      "  Stream #0:0(eng): Audio: opus, 48000 Hz, stereo, flt, 96 kb/s (default)\n",
      "    Metadata:\n",
      "      encoder         : Lavc58.134.100 libopus\n",
      "size=     512kB time=00:00:41.23 bitrate= 101.7kbits/s speed=11.4x    \r"
     ]
    },
    {
     "name": "stdout",
     "output_type": "stream",
     "text": [
      "[download] 100% of  846.36KiB in 00:00:04 at 193.84KiB/s\n",
      "[ExtractAudio] Destination: ./test/StimuliFinal/long/Synthetic/Sid Meier's Civilization 【SNES】 OST 06 City Menu [zFND5ln-06o].wav\n"
     ]
    },
    {
     "name": "stderr",
     "output_type": "stream",
     "text": [
      "size=     846kB time=00:00:59.99 bitrate= 115.6kbits/s speed=14.2x    \n",
      "video:0kB audio:825kB subtitle:0kB other streams:0kB global headers:0kB muxing overhead: 2.597635%\n"
     ]
    },
    {
     "name": "stdout",
     "output_type": "stream",
     "text": [
      "Deleting original file ./test/StimuliFinal/long/Synthetic/Sid Meier's Civilization 【SNES】 OST 06 City Menu [zFND5ln-06o].webm (pass -k to keep)\n",
      "Downloading long track : Shinobi 3 Return Of The Ninja Master OST- Japonesque (level 1-1) https://www.youtube.com/watch?v=rVmaou-eQfY\n",
      "[youtube] Extracting URL: https://www.youtube.com/watch?v=rVmaou-eQfY\n",
      "[youtube] rVmaou-eQfY: Downloading webpage\n",
      "[youtube] rVmaou-eQfY: Downloading ios player API JSON\n",
      "[youtube] rVmaou-eQfY: Downloading android player API JSON\n",
      "[youtube] rVmaou-eQfY: Downloading m3u8 information\n",
      "[info] rVmaou-eQfY: Downloading 1 format(s): 251\n",
      "[info] rVmaou-eQfY: Downloading 1 time ranges: 0.0-44.0\n",
      "[download] Destination: ./test/StimuliFinal/long/Synthetic/Shinobi 3 Return Of The Ninja Master OST- Japonesque [rVmaou-eQfY].webm\n"
     ]
    },
    {
     "name": "stderr",
     "output_type": "stream",
     "text": [
      "Input #0, matroska,webm, from 'https://rr4---sn-gpn9-t0as.googlevideo.com/videoplayback?expire=1697589062&ei=5tIuZeHuBoqG8wTli62wAw&ip=206.167.239.2&id=o-ABAUMi6y6lLcsiKEgP456A_hyQfVfg0QUcRnGHNucVKv&itag=251&source=youtube&requiressl=yes&mh=Xh&mm=31%2C29&mn=sn-gpn9-t0as%2Csn-t0a7sn7d&ms=au%2Crdu&mv=m&mvi=4&pl=24&initcwndbps=1101250&spc=UWF9f_SmdT6MeAwgFOtxa_SfRooseCw&vprv=1&svpuc=1&mime=audio%2Fwebm&gir=yes&clen=2296127&dur=134.261&lmt=1475556402009613&mt=1697566861&fvip=2&keepalive=yes&fexp=24007246&beids=24350018&c=ANDROID&sparams=expire%2Cei%2Cip%2Cid%2Citag%2Csource%2Crequiressl%2Cspc%2Cvprv%2Csvpuc%2Cmime%2Cgir%2Cclen%2Cdur%2Clmt&sig=AGM4YrMwRgIhAK4RN8cavxtP4mlpz8FgbSdANThgcCwFnYB6QhVKgtR4AiEAheIxLP8K6gZdQMLxVnqCPYOuq7i7Spdq1DxSm_XWE5w%3D&lsparams=mh%2Cmm%2Cmn%2Cms%2Cmv%2Cmvi%2Cpl%2Cinitcwndbps&lsig=AK1ks_kwRQIgLvxjb7kkHv4rZHXAOW6u72_oO0FnqGwrTvxGQ6JBeY4CIQC6rgjLWklvU3jgvvjyQ22vBJZ-r1r9g-0DNbZJ34UNSw%3D%3D':\n",
      "  Metadata:\n",
      "    encoder         : google\n",
      "  Duration: 00:02:14.26, start: -0.007000, bitrate: 136 kb/s\n",
      "  Stream #0:0(eng): Audio: opus, 48000 Hz, stereo, fltp (default)\n",
      "Stream mapping:\n",
      "  Stream #0:0 -> #0:0 (opus (native) -> opus (libopus))\n",
      "Press [q] to stop, [?] for help\n",
      "[libopus @ 0x5557ea7ac840] No bit rate set. Defaulting to 96000 bps.\n",
      "Output #0, webm, to 'file:./test/StimuliFinal/long/Synthetic/Shinobi 3 Return Of The Ninja Master OST- Japonesque [rVmaou-eQfY].webm.part':\n",
      "  Metadata:\n",
      "    encoder         : Lavf58.76.100\n",
      "  Stream #0:0(eng): Audio: opus, 48000 Hz, stereo, flt, 96 kb/s (default)\n",
      "    Metadata:\n",
      "      encoder         : Lavc58.134.100 libopus\n",
      "size=     256kB time=00:00:30.66 bitrate=  68.4kbits/s speed=11.9x    \r"
     ]
    },
    {
     "name": "stdout",
     "output_type": "stream",
     "text": [
      "[download] 100% of  565.39KiB in 00:00:03 at 144.98KiB/s\n",
      "[ExtractAudio] Destination: ./test/StimuliFinal/long/Synthetic/Shinobi 3 Return Of The Ninja Master OST- Japonesque [rVmaou-eQfY].wav\n"
     ]
    },
    {
     "name": "stderr",
     "output_type": "stream",
     "text": [
      "size=     565kB time=00:00:44.00 bitrate= 105.3kbits/s speed=11.8x    \n",
      "video:0kB audio:550kB subtitle:0kB other streams:0kB global headers:0kB muxing overhead: 2.881975%\n"
     ]
    },
    {
     "name": "stdout",
     "output_type": "stream",
     "text": [
      "Deleting original file ./test/StimuliFinal/long/Synthetic/Shinobi 3 Return Of The Ninja Master OST- Japonesque [rVmaou-eQfY].webm (pass -k to keep)\n",
      "Downloading long track : Shinobi 3 Return Of The Ninja Master OST- Shinobi Walk (level 4-2) https://www.youtube.com/watch?v=A1jKza3O1y4\n",
      "[youtube] Extracting URL: https://www.youtube.com/watch?v=A1jKza3O1y4\n",
      "[youtube] A1jKza3O1y4: Downloading webpage\n",
      "[youtube] A1jKza3O1y4: Downloading ios player API JSON\n",
      "[youtube] A1jKza3O1y4: Downloading android player API JSON\n",
      "[youtube] A1jKza3O1y4: Downloading m3u8 information\n",
      "[info] A1jKza3O1y4: Downloading 1 format(s): 251\n",
      "[info] A1jKza3O1y4: Downloading 1 time ranges: 9.0-61.0\n",
      "[download] Destination: ./test/StimuliFinal/long/Synthetic/Shinobi 3 Return Of The Ninja Master OST- Shinobi Walk [A1jKza3O1y4].webm\n"
     ]
    },
    {
     "name": "stderr",
     "output_type": "stream",
     "text": [
      "Input #0, matroska,webm, from 'https://rr4---sn-gpn9-t0as.googlevideo.com/videoplayback?expire=1697589067&ei=69IuZbGNLemO_9EP87ebyAk&ip=206.167.239.2&id=o-AGdM_XCV8JOskofFcRJWF_RXP6QPIDoyzFA6JL23ZwiC&itag=251&source=youtube&requiressl=yes&mh=Fi&mm=31%2C29&mn=sn-gpn9-t0as%2Csn-t0a7lnee&ms=au%2Crdu&mv=m&mvi=4&pcm2cms=yes&pl=24&initcwndbps=1101250&spc=UWF9f-sqgO3SpVKEj6vxcggb8ovIUq0&vprv=1&svpuc=1&mime=audio%2Fwebm&gir=yes&clen=3731020&dur=196.941&lmt=1563133467031515&mt=1697566861&fvip=1&keepalive=yes&fexp=24007246&beids=24350018&c=ANDROID&sparams=expire%2Cei%2Cip%2Cid%2Citag%2Csource%2Crequiressl%2Cspc%2Cvprv%2Csvpuc%2Cmime%2Cgir%2Cclen%2Cdur%2Clmt&sig=AGM4YrMwRgIhAMpoG6lU5JAqM4vxV0MCpFEZGxWAgIYE8OiVrlCgUbMxAiEAoiJ3DLNSZmqeOucqrZuYHZtVCac5FAx-AiGrISfGYhU%3D&lsparams=mh%2Cmm%2Cmn%2Cms%2Cmv%2Cmvi%2Cpcm2cms%2Cpl%2Cinitcwndbps&lsig=AK1ks_kwRgIhAOwbl2jCxoLzcDWpsIVfbG7LM4IjYTDj6ToNeRz-lxylAiEAxUiRjY204lWfb1N1EHhx5ToFnVxGr4hIgWl7VT9R3e0%3D':\n",
      "  Metadata:\n",
      "    encoder         : google/video-file\n",
      "  Duration: 00:03:16.94, start: -0.007000, bitrate: 151 kb/s\n",
      "  Stream #0:0(eng): Audio: opus, 48000 Hz, stereo, fltp (default)\n",
      "Stream mapping:\n",
      "  Stream #0:0 -> #0:0 (opus (native) -> opus (libopus))\n",
      "Press [q] to stop, [?] for help\n",
      "[libopus @ 0x557d47c98e80] No bit rate set. Defaulting to 96000 bps.\n",
      "Output #0, webm, to 'file:./test/StimuliFinal/long/Synthetic/Shinobi 3 Return Of The Ninja Master OST- Shinobi Walk [A1jKza3O1y4].webm.part':\n",
      "  Metadata:\n",
      "    encoder         : Lavf58.76.100\n",
      "  Stream #0:0(eng): Audio: opus, 48000 Hz, stereo, flt, 96 kb/s (default)\n",
      "    Metadata:\n",
      "      encoder         : Lavc58.134.100 libopus\n",
      "size=     512kB time=00:00:42.53 bitrate=  98.6kbits/s speed=27.6x    \r"
     ]
    },
    {
     "name": "stdout",
     "output_type": "stream",
     "text": [
      "[download] 100% of  727.07KiB in 00:00:02 at 355.57KiB/s\n",
      "[ExtractAudio] Destination: ./test/StimuliFinal/long/Synthetic/Shinobi 3 Return Of The Ninja Master OST- Shinobi Walk [A1jKza3O1y4].wav\n",
      "Deleting original file ./test/StimuliFinal/long/Synthetic/Shinobi 3 Return Of The Ninja Master OST- Shinobi Walk [A1jKza3O1y4].webm (pass -k to keep)\n"
     ]
    },
    {
     "name": "stderr",
     "output_type": "stream",
     "text": [
      "size=     727kB time=00:00:51.99 bitrate= 114.6kbits/s speed=27.3x    \n",
      "video:0kB audio:708kB subtitle:0kB other streams:0kB global headers:0kB muxing overhead: 2.630701%\n"
     ]
    },
    {
     "name": "stdout",
     "output_type": "stream",
     "text": [
      "Downloading long track : Shinobi 3 Return Of The Ninja Master OST- Idaten (level 5-1) https://www.youtube.com/watch?v=TFZQWCg99l4\n",
      "[youtube] Extracting URL: https://www.youtube.com/watch?v=TFZQWCg99l4\n",
      "[youtube] TFZQWCg99l4: Downloading webpage\n",
      "[youtube] TFZQWCg99l4: Downloading ios player API JSON\n",
      "[youtube] TFZQWCg99l4: Downloading android player API JSON\n",
      "[youtube] TFZQWCg99l4: Downloading m3u8 information\n",
      "[info] TFZQWCg99l4: Downloading 1 format(s): 251\n",
      "[info] TFZQWCg99l4: Downloading 1 time ranges: 0.0-61.0\n",
      "[download] Destination: ./test/StimuliFinal/long/Synthetic/Shinobi 3 Return Of The Ninja Master OST- Idaten [TFZQWCg99l4].webm\n"
     ]
    },
    {
     "name": "stderr",
     "output_type": "stream",
     "text": [
      "Input #0, matroska,webm, from 'https://rr4---sn-gpn9-t0as.googlevideo.com/videoplayback?expire=1697589072&ei=8NIuZe6RD52E_9EPiIWMuAg&ip=206.167.239.2&id=o-AMtfAimKdbDIdrAYJsNtZ-B1KEensCQOAPAduc10jSui&itag=251&source=youtube&requiressl=yes&mh=92&mm=31%2C29&mn=sn-gpn9-t0as%2Csn-t0a7lnee&ms=au%2Crdu&mv=m&mvi=4&pl=24&initcwndbps=1101250&spc=UWF9f_TdYBNC1sdEY7ysdR14t6hwHbc&vprv=1&svpuc=1&mime=audio%2Fwebm&gir=yes&clen=2444383&dur=147.341&lmt=1565880737283557&mt=1697566861&fvip=1&keepalive=yes&fexp=24007246&beids=24350018&c=ANDROID&sparams=expire%2Cei%2Cip%2Cid%2Citag%2Csource%2Crequiressl%2Cspc%2Cvprv%2Csvpuc%2Cmime%2Cgir%2Cclen%2Cdur%2Clmt&sig=AGM4YrMwRgIhALfo-XGKh_5byztK7o9FHfwBacebvFcnSkLl-v83h3H4AiEAno6N5fY7O5N6TK7Z-180Vrb3O9Ce0wjztDLZu3dn6F0%3D&lsparams=mh%2Cmm%2Cmn%2Cms%2Cmv%2Cmvi%2Cpl%2Cinitcwndbps&lsig=AK1ks_kwRAIgbYX3NRanDQxYXDYGQ7jCq2BkQ4qmsDiazCJudonELjwCIBk2wP2G3toCrtkILKx66z4j4yeeCfIj1i8nvl6VFyA2':\n",
      "  Metadata:\n",
      "    encoder         : google/video-file\n",
      "  Duration: 00:02:27.34, start: -0.007000, bitrate: 132 kb/s\n",
      "  Stream #0:0(eng): Audio: opus, 48000 Hz, stereo, fltp (default)\n",
      "Stream mapping:\n",
      "  Stream #0:0 -> #0:0 (opus (native) -> opus (libopus))\n",
      "Press [q] to stop, [?] for help\n",
      "[libopus @ 0x55a968448780] No bit rate set. Defaulting to 96000 bps.\n",
      "Output #0, webm, to 'file:./test/StimuliFinal/long/Synthetic/Shinobi 3 Return Of The Ninja Master OST- Idaten [TFZQWCg99l4].webm.part':\n",
      "  Metadata:\n",
      "    encoder         : Lavf58.76.100\n",
      "  Stream #0:0(eng): Audio: opus, 48000 Hz, stereo, flt, 96 kb/s (default)\n",
      "    Metadata:\n",
      "      encoder         : Lavc58.134.100 libopus\n",
      "size=     512kB time=00:00:52.06 bitrate=  80.6kbits/s speed=34.4x    \r"
     ]
    },
    {
     "name": "stdout",
     "output_type": "stream",
     "text": [
      "[download] 100% of  764.24KiB in 00:00:02 at 309.95KiB/s\n",
      "[ExtractAudio] Destination: ./test/StimuliFinal/long/Synthetic/Shinobi 3 Return Of The Ninja Master OST- Idaten [TFZQWCg99l4].wav\n"
     ]
    },
    {
     "name": "stderr",
     "output_type": "stream",
     "text": [
      "size=     764kB time=00:01:01.00 bitrate= 102.6kbits/s speed=26.2x    \n",
      "video:0kB audio:742kB subtitle:0kB other streams:0kB global headers:0kB muxing overhead: 2.930948%\n"
     ]
    },
    {
     "name": "stdout",
     "output_type": "stream",
     "text": [
      "Deleting original file ./test/StimuliFinal/long/Synthetic/Shinobi 3 Return Of The Ninja Master OST- Idaten [TFZQWCg99l4].webm (pass -k to keep)\n",
      "Downloading long track : Sonic The Hedgehog OST - Green Hill Zone https://www.youtube.com/watch?v=G-i8HYi1QH0\n",
      "[youtube] Extracting URL: https://www.youtube.com/watch?v=G-i8HYi1QH0\n",
      "[youtube] G-i8HYi1QH0: Downloading webpage\n",
      "[youtube] G-i8HYi1QH0: Downloading ios player API JSON\n",
      "[youtube] G-i8HYi1QH0: Downloading android player API JSON\n",
      "[youtube] G-i8HYi1QH0: Downloading m3u8 information\n",
      "[info] G-i8HYi1QH0: Downloading 1 format(s): 251\n",
      "[info] G-i8HYi1QH0: Downloading 1 time ranges: 0.0-52.0\n",
      "[download] Destination: ./test/StimuliFinal/long/Synthetic/Sonic The Hedgehog OST - Green Hill Zone [G-i8HYi1QH0].webm\n"
     ]
    },
    {
     "name": "stderr",
     "output_type": "stream",
     "text": [
      "Input #0, matroska,webm, from 'https://rr3---sn-gpn9-t0as.googlevideo.com/videoplayback?expire=1697589076&ei=9NIuZfODLpCk_9EPpum0uAw&ip=206.167.239.2&id=o-AJa9BGL1qzKN2dB1iPbdXAbS5_sc1XsAzCGWUURD8er6&itag=251&source=youtube&requiressl=yes&mh=JN&mm=31%2C29&mn=sn-gpn9-t0as%2Csn-t0a7ln7d&ms=au%2Crdu&mv=m&mvi=3&pl=24&initcwndbps=1101250&spc=UWF9fz5L-ztRWN7d3pjvG0rDdofJhps&vprv=1&svpuc=1&mime=audio%2Fwebm&gir=yes&clen=2787282&dur=141.501&lmt=1496527407136892&mt=1697566861&fvip=5&keepalive=yes&fexp=24007246&beids=24350018&c=ANDROID&sparams=expire%2Cei%2Cip%2Cid%2Citag%2Csource%2Crequiressl%2Cspc%2Cvprv%2Csvpuc%2Cmime%2Cgir%2Cclen%2Cdur%2Clmt&sig=AGM4YrMwRgIhAKqkINXMTmlOrHyIlIHmt-fwIUHEwrD4H-BwuK-Qz_TAAiEAqQuvAw-_K6PDF9UlpDWhbORmhVYHE4_ojHPKck2NozE%3D&lsparams=mh%2Cmm%2Cmn%2Cms%2Cmv%2Cmvi%2Cpl%2Cinitcwndbps&lsig=AK1ks_kwRAIgHxTfQJmfoC_90UDg6rd7U4aOCNFy0-6jXDfQ9Jyl47cCIDY7CA3TG-SvG7aw2fBtGS8wdOeO0idoUHQORvqDrmEC':\n",
      "  Metadata:\n",
      "    encoder         : google\n",
      "  Duration: 00:02:21.50, start: -0.007000, bitrate: 157 kb/s\n",
      "  Stream #0:0(eng): Audio: opus, 48000 Hz, stereo, fltp (default)\n",
      "Stream mapping:\n",
      "  Stream #0:0 -> #0:0 (opus (native) -> opus (libopus))\n",
      "Press [q] to stop, [?] for help\n",
      "[libopus @ 0x5614d1039780] No bit rate set. Defaulting to 96000 bps.\n",
      "Output #0, webm, to 'file:./test/StimuliFinal/long/Synthetic/Sonic The Hedgehog OST - Green Hill Zone [G-i8HYi1QH0].webm.part':\n",
      "  Metadata:\n",
      "    encoder         : Lavf58.76.100\n",
      "  Stream #0:0(eng): Audio: opus, 48000 Hz, stereo, flt, 96 kb/s (default)\n",
      "    Metadata:\n",
      "      encoder         : Lavc58.134.100 libopus\n",
      "size=     256kB time=00:00:38.82 bitrate=  54.0kbits/s speed=15.1x    \r"
     ]
    },
    {
     "name": "stdout",
     "output_type": "stream",
     "text": [
      "[download] 100% of  741.74KiB in 00:00:03 at 234.94KiB/s\n",
      "[ExtractAudio] Destination: ./test/StimuliFinal/long/Synthetic/Sonic The Hedgehog OST - Green Hill Zone [G-i8HYi1QH0].wav\n",
      "Deleting original file ./test/StimuliFinal/long/Synthetic/Sonic The Hedgehog OST - Green Hill Zone [G-i8HYi1QH0].webm (pass -k to keep)\n"
     ]
    },
    {
     "name": "stderr",
     "output_type": "stream",
     "text": [
      "size=     742kB time=00:00:52.00 bitrate= 116.9kbits/s speed=17.3x    \n",
      "video:0kB audio:723kB subtitle:0kB other streams:0kB global headers:0kB muxing overhead: 2.576777%\n"
     ]
    },
    {
     "name": "stdout",
     "output_type": "stream",
     "text": [
      "Downloading long track : Invincibility - Sonic the Hedgehog 2 [OST] https://www.youtube.com/watch?v=UbobbsFpMR0\n",
      "[youtube] Extracting URL: https://www.youtube.com/watch?v=UbobbsFpMR0\n",
      "[youtube] UbobbsFpMR0: Downloading webpage\n",
      "[youtube] UbobbsFpMR0: Downloading ios player API JSON\n",
      "[youtube] UbobbsFpMR0: Downloading android player API JSON\n",
      "[youtube] UbobbsFpMR0: Downloading m3u8 information\n",
      "[info] UbobbsFpMR0: Downloading 1 format(s): 251\n",
      "[info] UbobbsFpMR0: Downloading 1 time ranges: 0.0-52.0\n",
      "[download] Destination: ./test/StimuliFinal/long/Synthetic/Invincibility - Sonic the Hedgehog 2 [OST] [UbobbsFpMR0].webm\n"
     ]
    },
    {
     "name": "stderr",
     "output_type": "stream",
     "text": [
      "Input #0, matroska,webm, from 'https://rr1---sn-gpn9-t0as.googlevideo.com/videoplayback?expire=1697589081&ei=-dIuZaniH42M8wSm_I7ICA&ip=206.167.239.2&id=o-AE0-1dBxsxVoxSylo8l-MxD33bxZf4gN5S4OzJbQZyQb&itag=251&source=youtube&requiressl=yes&mh=Du&mm=31%2C29&mn=sn-gpn9-t0as%2Csn-t0a7sn7d&ms=au%2Crdu&mv=m&mvi=1&pcm2cms=yes&pl=24&pcm2=no&initcwndbps=1112500&spc=UWF9f7UyU21fJEqDo8FXknw4Ky0tWgk&vprv=1&svpuc=1&mime=audio%2Fwebm&gir=yes&clen=743923&dur=52.381&lmt=1441450594937073&mt=1697567352&fvip=4&keepalive=yes&fexp=24007246&beids=24350018&c=ANDROID&sparams=expire%2Cei%2Cip%2Cid%2Citag%2Csource%2Crequiressl%2Cpcm2%2Cspc%2Cvprv%2Csvpuc%2Cmime%2Cgir%2Cclen%2Cdur%2Clmt&sig=AGM4YrMwRQIgNzGjz5mXoXhCOFl8oowptywejtRhJIINm7qngtnE5wICIQCVoi24yR1Sq5yvdnGvX082xtvzKNCLAKkpHbAiaEIOQw%3D%3D&lsparams=mh%2Cmm%2Cmn%2Cms%2Cmv%2Cmvi%2Cpcm2cms%2Cpl%2Cinitcwndbps&lsig=AK1ks_kwRQIhAIcrx4BvR0h6-efDctTw-WqaCaBVcybNZvrl51nq_b2NAiB6qU2J3dTGuVa1Q-APlNhBuEDOjT1kfWpe58SEeighaw%3D%3D':\n",
      "  Metadata:\n",
      "    encoder         : google\n",
      "  Duration: 00:00:52.38, start: -0.007000, bitrate: 113 kb/s\n",
      "  Stream #0:0(eng): Audio: opus, 48000 Hz, stereo, fltp (default)\n",
      "Stream mapping:\n",
      "  Stream #0:0 -> #0:0 (opus (native) -> opus (libopus))\n",
      "Press [q] to stop, [?] for help\n",
      "[libopus @ 0x5607a82fa280] No bit rate set. Defaulting to 96000 bps.\n",
      "Output #0, webm, to 'file:./test/StimuliFinal/long/Synthetic/Invincibility - Sonic the Hedgehog 2 [OST] [UbobbsFpMR0].webm.part':\n",
      "  Metadata:\n",
      "    encoder         : Lavf58.76.100\n",
      "  Stream #0:0(eng): Audio: opus, 48000 Hz, stereo, flt, 96 kb/s (default)\n",
      "    Metadata:\n",
      "      encoder         : Lavc58.134.100 libopus\n",
      "size=     553kB time=00:00:52.00 bitrate=  87.1kbits/s speed=42.8x    \n",
      "video:0kB audio:534kB subtitle:0kB other streams:0kB global headers:0kB muxing overhead: 3.487930%\n"
     ]
    },
    {
     "name": "stdout",
     "output_type": "stream",
     "text": [
      "[download] 100% of  552.87KiB in 00:00:01 at 408.19KiB/s\n",
      "[ExtractAudio] Destination: ./test/StimuliFinal/long/Synthetic/Invincibility - Sonic the Hedgehog 2 [OST] [UbobbsFpMR0].wav\n",
      "Deleting original file ./test/StimuliFinal/long/Synthetic/Invincibility - Sonic the Hedgehog 2 [OST] [UbobbsFpMR0].webm (pass -k to keep)\n",
      "Downloading long track : Mortal Kombat (Sega Genesis) - Opening Theme https://www.youtube.com/watch?v=yVCoMrJwFZc\n",
      "[youtube] Extracting URL: https://www.youtube.com/watch?v=yVCoMrJwFZc\n",
      "[youtube] yVCoMrJwFZc: Downloading webpage\n",
      "[youtube] yVCoMrJwFZc: Downloading ios player API JSON\n",
      "[youtube] yVCoMrJwFZc: Downloading android player API JSON\n",
      "[youtube] yVCoMrJwFZc: Downloading m3u8 information\n",
      "[info] yVCoMrJwFZc: Downloading 1 format(s): 251\n",
      "[info] yVCoMrJwFZc: Downloading 1 time ranges: 0.0-48.0\n",
      "[download] Destination: ./test/StimuliFinal/long/Synthetic/Mortal Kombat (Sega Genesis) - Opening Theme [yVCoMrJwFZc].webm\n"
     ]
    },
    {
     "name": "stderr",
     "output_type": "stream",
     "text": [
      "Input #0, matroska,webm, from 'https://rr3---sn-gpn9-t0as.googlevideo.com/videoplayback?expire=1697589084&ei=_NIuZfTRHMy98wSjoafYAg&ip=206.167.239.2&id=o-APdEVNzf62qb-HLoNo4IKCrWFZSWyeY7S7N53rGoiXtu&itag=251&source=youtube&requiressl=yes&mh=dr&mm=31%2C29&mn=sn-gpn9-t0as%2Csn-t0a7ln7d&ms=au%2Crdu&mv=m&mvi=3&pl=24&initcwndbps=1101250&spc=UWF9f4PnqkhOrs_JCHEZJIzH5IZWwn8&vprv=1&svpuc=1&mime=audio%2Fwebm&gir=yes&clen=1489078&dur=96.641&lmt=1684750164208679&mt=1697566861&fvip=2&keepalive=yes&fexp=24007246&beids=24350018&c=ANDROID&txp=5311224&sparams=expire%2Cei%2Cip%2Cid%2Citag%2Csource%2Crequiressl%2Cspc%2Cvprv%2Csvpuc%2Cmime%2Cgir%2Cclen%2Cdur%2Clmt&sig=AGM4YrMwRAIgTi4H7v62JeP7BGJmErKVViK96lQvcbPJNO4CvadW4P8CIG1RgGdSorkyW2CbIfj0izbbkiYvvwezDl2rLKI9hI-C&lsparams=mh%2Cmm%2Cmn%2Cms%2Cmv%2Cmvi%2Cpl%2Cinitcwndbps&lsig=AK1ks_kwRQIgTypjkKAhkiM6VFaE_6idqFP1tywYo4vBC_BGUkLKbFcCIQD3XkjSqzCcUUPk25ibJIs7nZhAPkotrDwh1Sxx4gBj3Q%3D%3D':\n",
      "  Metadata:\n",
      "    encoder         : google/video-file\n",
      "  Duration: 00:01:36.64, start: -0.007000, bitrate: 123 kb/s\n",
      "  Stream #0:0(eng): Audio: opus, 48000 Hz, stereo, fltp (default)\n",
      "Stream mapping:\n",
      "  Stream #0:0 -> #0:0 (opus (native) -> opus (libopus))\n",
      "Press [q] to stop, [?] for help\n",
      "[libopus @ 0x55ee240ced00] No bit rate set. Defaulting to 96000 bps.\n",
      "Output #0, webm, to 'file:./test/StimuliFinal/long/Synthetic/Mortal Kombat (Sega Genesis) - Opening Theme [yVCoMrJwFZc].webm.part':\n",
      "  Metadata:\n",
      "    encoder         : Lavf58.76.100\n",
      "  Stream #0:0(eng): Audio: opus, 48000 Hz, stereo, flt, 96 kb/s (default)\n",
      "    Metadata:\n",
      "      encoder         : Lavc58.134.100 libopus\n",
      "size=     256kB time=00:00:34.52 bitrate=  60.8kbits/s speed=15.2x    \r"
     ]
    },
    {
     "name": "stdout",
     "output_type": "stream",
     "text": [
      "[download] 100% of  542.93KiB in 00:00:02 at 194.42KiB/s\n",
      "[ExtractAudio] Destination: ./test/StimuliFinal/long/Synthetic/Mortal Kombat (Sega Genesis) - Opening Theme [yVCoMrJwFZc].wav\n",
      "Deleting original file ./test/StimuliFinal/long/Synthetic/Mortal Kombat (Sega Genesis) - Opening Theme [yVCoMrJwFZc].webm (pass -k to keep)\n"
     ]
    },
    {
     "name": "stderr",
     "output_type": "stream",
     "text": [
      "size=     543kB time=00:00:48.00 bitrate=  92.7kbits/s speed=18.2x    \n",
      "video:0kB audio:526kB subtitle:0kB other streams:0kB global headers:0kB muxing overhead: 3.278558%\n"
     ]
    },
    {
     "name": "stdout",
     "output_type": "stream",
     "text": [
      "Downloading long track : Street Fighter II: Champion Edition Arcade Music - Guile Theme (CPS-1) https://www.youtube.com/watch?v=kZTFKSfKZ_Q\n",
      "[youtube] Extracting URL: https://www.youtube.com/watch?v=kZTFKSfKZ_Q\n",
      "[youtube] kZTFKSfKZ_Q: Downloading webpage\n",
      "[youtube] kZTFKSfKZ_Q: Downloading ios player API JSON\n",
      "[youtube] kZTFKSfKZ_Q: Downloading android player API JSON\n",
      "[youtube] kZTFKSfKZ_Q: Downloading m3u8 information\n",
      "[info] kZTFKSfKZ_Q: Downloading 1 format(s): 251\n",
      "[info] kZTFKSfKZ_Q: Downloading 1 time ranges: 0.0-55.0\n",
      "[download] Destination: ./test/StimuliFinal/long/Synthetic/Street Fighter II： Champion Edition Arcade Music - Guile Theme (CPS-1) [kZTFKSfKZ_Q].webm\n"
     ]
    },
    {
     "name": "stderr",
     "output_type": "stream",
     "text": [
      "Input #0, matroska,webm, from 'https://rr1---sn-gpn9-t0as.googlevideo.com/videoplayback?expire=1697589088&ei=ANMuZZKFL4mR_9EPuLqZyAg&ip=206.167.239.2&id=o-AJh-Y6NbxEZ99yAxNSm2UHoN_GZ9GGGtP-kI8Ar-2SD6&itag=251&source=youtube&requiressl=yes&mh=Mz&mm=31%2C29&mn=sn-gpn9-t0as%2Csn-t0a7lnee&ms=au%2Crdu&mv=m&mvi=1&pl=24&initcwndbps=1101250&spc=UWF9fy6GAroz2lohfgFbLOodGtkAgoc&vprv=1&svpuc=1&mime=audio%2Fwebm&gir=yes&clen=15100369&dur=868.801&lmt=1587284538192190&mt=1697566861&fvip=1&keepalive=yes&fexp=24007246&beids=24350018&c=ANDROID&txp=2211222&sparams=expire%2Cei%2Cip%2Cid%2Citag%2Csource%2Crequiressl%2Cspc%2Cvprv%2Csvpuc%2Cmime%2Cgir%2Cclen%2Cdur%2Clmt&sig=AGM4YrMwRQIhAJAKihOzxqEdJgtxEUrBMqPmRVzaLekIdVRjrpsWUiEfAiAcWpKD92vfEYO0MXvEmYyHwOGz5NrfH_IZuIGHrg5XOw%3D%3D&lsparams=mh%2Cmm%2Cmn%2Cms%2Cmv%2Cmvi%2Cpl%2Cinitcwndbps&lsig=AK1ks_kwRgIhAOOJCmlWE1XfGYTmm6FtBuBY0iAPLWx88hDTGTkt-tnPAiEAsppP7cqfJUzVbhmeOdI3KzFylh1UJD2HcOJU6rMxEi8%3D':\n",
      "  Metadata:\n",
      "    encoder         : google/video-file\n",
      "  Duration: 00:14:28.80, start: -0.007000, bitrate: 139 kb/s\n",
      "  Stream #0:0(eng): Audio: opus, 48000 Hz, stereo, fltp (default)\n",
      "Stream mapping:\n",
      "  Stream #0:0 -> #0:0 (opus (native) -> opus (libopus))\n",
      "Press [q] to stop, [?] for help\n",
      "[libopus @ 0x559f9c5b1e40] No bit rate set. Defaulting to 96000 bps.\n",
      "Output #0, webm, to 'file:./test/StimuliFinal/long/Synthetic/Street Fighter II： Champion Edition Arcade Music - Guile Theme (CPS-1) [kZTFKSfKZ_Q].webm.part':\n",
      "  Metadata:\n",
      "    encoder         : Lavf58.76.100\n",
      "  Stream #0:0(eng): Audio: opus, 48000 Hz, stereo, flt, 96 kb/s (default)\n",
      "    Metadata:\n",
      "      encoder         : Lavc58.134.100 libopus\n",
      "size=     512kB time=00:00:52.76 bitrate=  79.5kbits/s speed=2.03x    \r"
     ]
    },
    {
     "name": "stdout",
     "output_type": "stream",
     "text": [
      "[download] 100% of  697.12KiB in 00:00:27 at 25.52KiB/s\n",
      "[ExtractAudio] Destination: ./test/StimuliFinal/long/Synthetic/Street Fighter II： Champion Edition Arcade Music - Guile Theme (CPS-1) [kZTFKSfKZ_Q].wav\n",
      "Deleting original file ./test/StimuliFinal/long/Synthetic/Street Fighter II： Champion Edition Arcade Music - Guile Theme (CPS-1) [kZTFKSfKZ_Q].webm (pass -k to keep)\n"
     ]
    },
    {
     "name": "stderr",
     "output_type": "stream",
     "text": [
      "size=     697kB time=00:00:55.00 bitrate= 103.8kbits/s speed=2.04x    \n",
      "video:0kB audio:677kB subtitle:0kB other streams:0kB global headers:0kB muxing overhead: 2.901607%\n"
     ]
    },
    {
     "name": "stdout",
     "output_type": "stream",
     "text": [
      "Downloading long track : Aladdin Genesis Music Ending https://www.youtube.com/watch?v=oaIXo6aaL-w&t=35\n",
      "[youtube] Extracting URL: https://www.youtube.com/watch?v=oaIXo6aaL-w&t=35\n",
      "[youtube] oaIXo6aaL-w: Downloading webpage\n",
      "[youtube] oaIXo6aaL-w: Downloading ios player API JSON\n",
      "[youtube] oaIXo6aaL-w: Downloading android player API JSON\n",
      "[youtube] oaIXo6aaL-w: Downloading m3u8 information\n",
      "[youtube] oaIXo6aaL-w: Downloading MPD manifest\n",
      "[info] oaIXo6aaL-w: Downloading 1 format(s): 251\n",
      "[info] oaIXo6aaL-w: Downloading 1 time ranges: 0.0-65.0\n",
      "[download] Destination: ./test/StimuliFinal/long/Synthetic/Aladdin Genesis Music   Ending [oaIXo6aaL-w].webm\n"
     ]
    },
    {
     "name": "stderr",
     "output_type": "stream",
     "text": [
      "Input #0, matroska,webm, from 'https://rr3---sn-gpn9-t0as.googlevideo.com/videoplayback?expire=1697589118&ei=HdMuZZP3O6KH8gST_7KwAQ&ip=206.167.239.2&id=o-APqoHqXCUkVpIcgxKDQAjtIpNLNDWrXgi31J59QH7Ly_&itag=251&source=youtube&requiressl=yes&mh=4E&mm=31%2C29&mn=sn-gpn9-t0as%2Csn-t0a7lnee&ms=au%2Crdu&mv=m&mvi=3&pl=24&initcwndbps=1101250&spc=UWF9f0ls6bF6-nSeuoA-HKr2GXgkRNA&vprv=1&svpuc=1&mime=audio%2Fwebm&gir=yes&clen=5432869&dur=269.281&lmt=1569030262770288&mt=1697566861&fvip=3&keepalive=yes&fexp=24007246&beids=24350018&c=ANDROID&sparams=expire%2Cei%2Cip%2Cid%2Citag%2Csource%2Crequiressl%2Cspc%2Cvprv%2Csvpuc%2Cmime%2Cgir%2Cclen%2Cdur%2Clmt&sig=AGM4YrMwRAIgKzM9h94r1nHpOvqKaGd5T3b5MvjuqWFtAtMTAC10KnQCIBaIT8pA5-jd_yVLEHR88dxOhR0UQjYwZ-k1NkrpP2Cw&lsparams=mh%2Cmm%2Cmn%2Cms%2Cmv%2Cmvi%2Cpl%2Cinitcwndbps&lsig=AK1ks_kwRQIhAM99FkivJ5KJc7W9PDqQ_wF0AcNTGgSEinVmuIFVwCNyAiBLi84n_R-v1Hx241Jy2YBzBVwOeDGbKoCKZRO-7OIXuA%3D%3D':\n",
      "  Metadata:\n",
      "    encoder         : google/video-file\n",
      "  Duration: 00:04:29.28, start: -0.007000, bitrate: 161 kb/s\n",
      "  Stream #0:0(eng): Audio: opus, 48000 Hz, stereo, fltp (default)\n",
      "Stream mapping:\n",
      "  Stream #0:0 -> #0:0 (opus (native) -> opus (libopus))\n",
      "Press [q] to stop, [?] for help\n",
      "[libopus @ 0x55764fbc1dc0] No bit rate set. Defaulting to 96000 bps.\n",
      "Output #0, webm, to 'file:./test/StimuliFinal/long/Synthetic/Aladdin Genesis Music   Ending [oaIXo6aaL-w].webm.part':\n",
      "  Metadata:\n",
      "    encoder         : Lavf58.76.100\n",
      "  Stream #0:0(eng): Audio: opus, 48000 Hz, stereo, flt, 96 kb/s (default)\n",
      "    Metadata:\n",
      "      encoder         : Lavc58.134.100 libopus\n",
      "size=     512kB time=00:00:50.10 bitrate=  83.7kbits/s speed=14.1x    \r"
     ]
    },
    {
     "name": "stdout",
     "output_type": "stream",
     "text": [
      "[download] 100% of  946.46KiB in 00:00:04 at 225.71KiB/s\n",
      "[ExtractAudio] Destination: ./test/StimuliFinal/long/Synthetic/Aladdin Genesis Music   Ending [oaIXo6aaL-w].wav\n",
      "Deleting original file ./test/StimuliFinal/long/Synthetic/Aladdin Genesis Music   Ending [oaIXo6aaL-w].webm (pass -k to keep)\n"
     ]
    },
    {
     "name": "stderr",
     "output_type": "stream",
     "text": [
      "size=     946kB time=00:01:05.00 bitrate= 119.3kbits/s speed=16.2x    \n",
      "video:0kB audio:923kB subtitle:0kB other streams:0kB global headers:0kB muxing overhead: 2.505696%\n"
     ]
    },
    {
     "name": "stdout",
     "output_type": "stream",
     "text": [
      "Downloading long track : Space Harrier Music - MAIN THEME https://www.youtube.com/watch?v=-_Tam9lv1KQ\n",
      "[youtube] Extracting URL: https://www.youtube.com/watch?v=-_Tam9lv1KQ\n",
      "[youtube] -_Tam9lv1KQ: Downloading webpage\n",
      "[youtube] -_Tam9lv1KQ: Downloading ios player API JSON\n",
      "[youtube] -_Tam9lv1KQ: Downloading android player API JSON\n",
      "[youtube] -_Tam9lv1KQ: Downloading m3u8 information\n",
      "[info] -_Tam9lv1KQ: Downloading 1 format(s): 251\n",
      "[info] -_Tam9lv1KQ: Downloading 1 time ranges: 25.0-73.0\n",
      "[download] Destination: ./test/StimuliFinal/long/Synthetic/Space Harrier Music - MAIN THEME [-_Tam9lv1KQ].webm\n"
     ]
    },
    {
     "name": "stderr",
     "output_type": "stream",
     "text": [
      "Input #0, matroska,webm, from 'https://rr3---sn-gpn9-t0as.googlevideo.com/videoplayback?expire=1697589123&ei=I9MuZfLIOsqt8wTeuLqQBw&ip=206.167.239.2&id=o-AM-E1zHFc-svp8-DnriK-lVrnme9HmPnFQ8p_4dgs1L5&itag=251&source=youtube&requiressl=yes&mh=nf&mm=31%2C29&mn=sn-gpn9-t0as%2Csn-t0a7lnee&ms=au%2Crdu&mv=m&mvi=3&pl=24&initcwndbps=1101250&spc=UWF9f02wxC8klCchhtKK98FAGGYdaTg&vprv=1&svpuc=1&mime=audio%2Fwebm&gir=yes&clen=3709802&dur=224.401&lmt=1541901791843346&mt=1697566861&fvip=3&keepalive=yes&fexp=24007246&beids=24350018&c=ANDROID&txp=5411222&sparams=expire%2Cei%2Cip%2Cid%2Citag%2Csource%2Crequiressl%2Cspc%2Cvprv%2Csvpuc%2Cmime%2Cgir%2Cclen%2Cdur%2Clmt&sig=AGM4YrMwRgIhAL6zLQ2FEdEwKUGENBgzhrtrdUnCdhuQUs5RNCXSJCdrAiEA3KDmrRemAR8oAqBJGxNqoA0ZG5yX9f4BNpMIP3FMOXc%3D&lsparams=mh%2Cmm%2Cmn%2Cms%2Cmv%2Cmvi%2Cpl%2Cinitcwndbps&lsig=AK1ks_kwRQIhALDbyqR8eXs5SGfa38lofdYhdJpCWN_dgV7LnF9KoxOSAiAwrHCfADeZrYNNe09YEP9J6EViv4y8DwDgsJetlxt0iw%3D%3D':\n",
      "  Metadata:\n",
      "    encoder         : google/video-file\n",
      "  Duration: 00:03:44.40, start: -0.007000, bitrate: 132 kb/s\n",
      "  Stream #0:0(eng): Audio: opus, 48000 Hz, stereo, fltp (default)\n",
      "Stream mapping:\n",
      "  Stream #0:0 -> #0:0 (opus (native) -> opus (libopus))\n",
      "Press [q] to stop, [?] for help\n",
      "[libopus @ 0x55d74256ef80] No bit rate set. Defaulting to 96000 bps.\n",
      "Output #0, webm, to 'file:./test/StimuliFinal/long/Synthetic/Space Harrier Music - MAIN THEME [-_Tam9lv1KQ].webm.part':\n",
      "  Metadata:\n",
      "    encoder         : Lavf58.76.100\n",
      "  Stream #0:0(eng): Audio: opus, 48000 Hz, stereo, flt, 96 kb/s (default)\n",
      "    Metadata:\n",
      "      encoder         : Lavc58.134.100 libopus\n",
      "size=     256kB time=00:00:33.25 bitrate=  63.1kbits/s speed=18.9x    \r"
     ]
    },
    {
     "name": "stdout",
     "output_type": "stream",
     "text": [
      "[download] 100% of  566.62KiB in 00:00:02 at 230.88KiB/s\n",
      "[ExtractAudio] Destination: ./test/StimuliFinal/long/Synthetic/Space Harrier Music - MAIN THEME [-_Tam9lv1KQ].wav\n",
      "Deleting original file ./test/StimuliFinal/long/Synthetic/Space Harrier Music - MAIN THEME [-_Tam9lv1KQ].webm (pass -k to keep)\n"
     ]
    },
    {
     "name": "stderr",
     "output_type": "stream",
     "text": [
      "size=     567kB time=00:00:47.99 bitrate=  96.7kbits/s speed=22.3x    \n",
      "video:0kB audio:549kB subtitle:0kB other streams:0kB global headers:0kB muxing overhead: 3.137960%\n"
     ]
    },
    {
     "name": "stdout",
     "output_type": "stream",
     "text": [
      "Downloading long track : Streets Of Rage 1 OST- Stage 1 https://www.youtube.com/watch?v=tfiUfU18FmM\n",
      "[youtube] Extracting URL: https://www.youtube.com/watch?v=tfiUfU18FmM\n",
      "[youtube] tfiUfU18FmM: Downloading webpage\n",
      "[youtube] tfiUfU18FmM: Downloading ios player API JSON\n",
      "[youtube] tfiUfU18FmM: Downloading android player API JSON\n",
      "[youtube] tfiUfU18FmM: Downloading m3u8 information\n",
      "[info] tfiUfU18FmM: Downloading 1 format(s): 251\n",
      "[info] tfiUfU18FmM: Downloading 1 time ranges: 0.0-45.0\n",
      "[download] Destination: ./test/StimuliFinal/long/Synthetic/Streets Of Rage 1 OST- Stage 1 [tfiUfU18FmM].webm\n"
     ]
    },
    {
     "name": "stderr",
     "output_type": "stream",
     "text": [
      "Input #0, matroska,webm, from 'https://rr3---sn-gpn9-t0as.googlevideo.com/videoplayback?expire=1697589127&ei=J9MuZeTcOoeN_9EPldOAgAQ&ip=206.167.239.2&id=o-ANXUb2qqXExnvb7qYTwYww8-195ZyIgLpEhr_pjjvLsZ&itag=251&source=youtube&requiressl=yes&mh=jM&mm=31%2C29&mn=sn-gpn9-t0as%2Csn-t0a7ln7d&ms=au%2Crdu&mv=m&mvi=3&pl=24&initcwndbps=1101250&spc=UWF9f-R7b5u12k18azYb5zixj8gkV34&vprv=1&svpuc=1&mime=audio%2Fwebm&gir=yes&clen=4594774&dur=294.741&lmt=1664075140561573&mt=1697566861&fvip=2&keepalive=yes&fexp=24007246&beids=24350018&c=ANDROID&txp=5311224&sparams=expire%2Cei%2Cip%2Cid%2Citag%2Csource%2Crequiressl%2Cspc%2Cvprv%2Csvpuc%2Cmime%2Cgir%2Cclen%2Cdur%2Clmt&sig=AGM4YrMwRAIgPeWmdLDXvz_Mb3TyugXyvQx2b5zPpltIPNOotqF4OVkCIAOGc0RxsO_IAcK3BZNejikVen9Tglpt5B00aCEnl-WF&lsparams=mh%2Cmm%2Cmn%2Cms%2Cmv%2Cmvi%2Cpl%2Cinitcwndbps&lsig=AK1ks_kwRgIhAKRa1bjVJ27zLfDTVnffu2jZgQK_WXq-Coc-A7ZgBbglAiEAiWXOvyIXGmT52hZT4CFkWNjKGJPx74lk7g4UEdtSJLc%3D':\n",
      "  Metadata:\n",
      "    encoder         : google/video-file\n",
      "  Duration: 00:04:54.74, start: -0.007000, bitrate: 124 kb/s\n",
      "  Stream #0:0(eng): Audio: opus, 48000 Hz, stereo, fltp (default)\n",
      "Stream mapping:\n",
      "  Stream #0:0 -> #0:0 (opus (native) -> opus (libopus))\n",
      "Press [q] to stop, [?] for help\n",
      "[libopus @ 0x55f38998ae40] No bit rate set. Defaulting to 96000 bps.\n",
      "Output #0, webm, to 'file:./test/StimuliFinal/long/Synthetic/Streets Of Rage 1 OST- Stage 1 [tfiUfU18FmM].webm.part':\n",
      "  Metadata:\n",
      "    encoder         : Lavf58.76.100\n",
      "  Stream #0:0(eng): Audio: opus, 48000 Hz, stereo, flt, 96 kb/s (default)\n",
      "    Metadata:\n",
      "      encoder         : Lavc58.134.100 libopus\n",
      "size=     199kB time=00:00:20.42 bitrate=  79.8kbits/s speed=40.8x    \r"
     ]
    },
    {
     "name": "stdout",
     "output_type": "stream",
     "text": [
      "[download] 100% of  486.73KiB in 00:00:01 at 372.10KiB/s\n"
     ]
    },
    {
     "name": "stderr",
     "output_type": "stream",
     "text": [
      "size=     487kB time=00:00:45.00 bitrate=  88.6kbits/s speed=38.3x    \n",
      "video:0kB audio:471kB subtitle:0kB other streams:0kB global headers:0kB muxing overhead: 3.438858%\n"
     ]
    },
    {
     "name": "stdout",
     "output_type": "stream",
     "text": [
      "[ExtractAudio] Destination: ./test/StimuliFinal/long/Synthetic/Streets Of Rage 1 OST- Stage 1 [tfiUfU18FmM].wav\n",
      "Deleting original file ./test/StimuliFinal/long/Synthetic/Streets Of Rage 1 OST- Stage 1 [tfiUfU18FmM].webm (pass -k to keep)\n",
      "Downloading long track : [Official] Celeste Original Soundtrack - 03 - Resurrections https://www.youtube.com/watch?v=1rwAvUvvQzQ\n",
      "[youtube] Extracting URL: https://www.youtube.com/watch?v=1rwAvUvvQzQ\n",
      "[youtube] 1rwAvUvvQzQ: Downloading webpage\n",
      "[youtube] 1rwAvUvvQzQ: Downloading ios player API JSON\n",
      "[youtube] 1rwAvUvvQzQ: Downloading android player API JSON\n",
      "[youtube] 1rwAvUvvQzQ: Downloading m3u8 information\n",
      "[info] 1rwAvUvvQzQ: Downloading 1 format(s): 251\n",
      "[info] 1rwAvUvvQzQ: Downloading 1 time ranges: 133.0-183.0\n",
      "[download] Destination: ./test/StimuliFinal/long/Synthetic/[Official] Celeste Original Soundtrack - 03 - Resurrections [1rwAvUvvQzQ].webm\n"
     ]
    },
    {
     "name": "stderr",
     "output_type": "stream",
     "text": [
      "Input #0, matroska,webm, from 'https://rr3---sn-gpn9-t0as.googlevideo.com/videoplayback?expire=1697589131&ei=K9MuZdKlJ8TdgwP-zpiYBw&ip=206.167.239.2&id=o-AI0lKh_weMlDzWBx8LH9l72uCJZuh0GK1N50CGXeiume&itag=251&source=youtube&requiressl=yes&mh=f1&mm=31%2C29&mn=sn-gpn9-t0as%2Csn-t0a7ln7d&ms=au%2Crdu&mv=m&mvi=3&pl=24&initcwndbps=1112500&spc=UWF9f3I7tDRpXZbgoFDtr6C0iLLg824&vprv=1&svpuc=1&mime=audio%2Fwebm&gir=yes&clen=10325129&dur=578.741&lmt=1542225951520417&mt=1697567352&fvip=4&keepalive=yes&fexp=24007246&beids=24350018&c=ANDROID&txp=5511222&sparams=expire%2Cei%2Cip%2Cid%2Citag%2Csource%2Crequiressl%2Cspc%2Cvprv%2Csvpuc%2Cmime%2Cgir%2Cclen%2Cdur%2Clmt&sig=AGM4YrMwRAIgEftgsyhXGxeaBbkx32yWEf8R3PkRoypk4ygssE8IHDwCIClkbe7K_2adwnnOeNynNKoGIKUsipHPEAjWCkWhVyK-&lsparams=mh%2Cmm%2Cmn%2Cms%2Cmv%2Cmvi%2Cpl%2Cinitcwndbps&lsig=AK1ks_kwRQIhAK56iD-TSfIMUrP63cJhfUFFnC6FmGcnG3E8KAIQd9GrAiA1DNZkUOnv7gYz2-crGOLkzrJxXsVJYtoMiVxupbW-2Q%3D%3D':\n",
      "  Metadata:\n",
      "    encoder         : google/video-file\n",
      "  Duration: 00:09:38.74, start: -0.007000, bitrate: 142 kb/s\n",
      "  Stream #0:0(eng): Audio: opus, 48000 Hz, stereo, fltp (default)\n",
      "Stream mapping:\n",
      "  Stream #0:0 -> #0:0 (opus (native) -> opus (libopus))\n",
      "Press [q] to stop, [?] for help\n",
      "[libopus @ 0x55f2dde71200] No bit rate set. Defaulting to 96000 bps.\n",
      "Output #0, webm, to 'file:./test/StimuliFinal/long/Synthetic/[Official] Celeste Original Soundtrack - 03 - Resurrections [1rwAvUvvQzQ].webm.part':\n",
      "  Metadata:\n",
      "    encoder         : Lavf58.76.100\n",
      "  Stream #0:0(eng): Audio: opus, 48000 Hz, stereo, flt, 96 kb/s (default)\n",
      "    Metadata:\n",
      "      encoder         : Lavc58.134.100 libopus\n",
      "size=     256kB time=00:00:36.11 bitrate=  58.1kbits/s speed=19.1x    \r"
     ]
    },
    {
     "name": "stdout",
     "output_type": "stream",
     "text": [
      "[download] 100% of  663.39KiB in 00:00:03 at 203.34KiB/s\n",
      "[ExtractAudio] Destination: ./test/StimuliFinal/long/Synthetic/[Official] Celeste Original Soundtrack - 03 - Resurrections [1rwAvUvvQzQ].wav\n"
     ]
    },
    {
     "name": "stderr",
     "output_type": "stream",
     "text": [
      "size=     663kB time=00:00:49.99 bitrate= 108.7kbits/s speed=16.8x    \n",
      "video:0kB audio:645kB subtitle:0kB other streams:0kB global headers:0kB muxing overhead: 2.781396%\n"
     ]
    },
    {
     "name": "stdout",
     "output_type": "stream",
     "text": [
      "Deleting original file ./test/StimuliFinal/long/Synthetic/[Official] Celeste Original Soundtrack - 03 - Resurrections [1rwAvUvvQzQ].webm (pass -k to keep)\n",
      "Downloading long track : Megalovania (Undertale) https://www.youtube.com/watch?v=0FCvzsVlXpQ\n",
      "[youtube] Extracting URL: https://www.youtube.com/watch?v=0FCvzsVlXpQ\n",
      "[youtube] 0FCvzsVlXpQ: Downloading webpage\n",
      "[youtube] 0FCvzsVlXpQ: Downloading ios player API JSON\n",
      "[youtube] 0FCvzsVlXpQ: Downloading android player API JSON\n",
      "[youtube] 0FCvzsVlXpQ: Downloading m3u8 information\n",
      "[info] 0FCvzsVlXpQ: Downloading 1 format(s): 251\n",
      "[info] 0FCvzsVlXpQ: Downloading 1 time ranges: 8.0-64.0\n",
      "[download] Destination: ./test/StimuliFinal/long/Synthetic/MEGALOVANIA [0FCvzsVlXpQ].webm\n"
     ]
    },
    {
     "name": "stderr",
     "output_type": "stream",
     "text": [
      "Input #0, matroska,webm, from 'https://rr4---sn-gpn9-t0as.googlevideo.com/videoplayback?expire=1697589137&ei=MdMuZdjsCMmA_9EPxrqlsAw&ip=206.167.239.2&id=o-AG6k35hTyQCH2Y1Xzv91pA07GA2iNjobGDev1xjK-pXN&itag=251&source=youtube&requiressl=yes&mh=pA&mm=31%2C29&mn=sn-gpn9-t0as%2Csn-t0a7sn7d&ms=au%2Crdu&mv=m&mvi=4&pcm2cms=yes&pl=24&gcr=ca&initcwndbps=1112500&spc=UWF9fyI4S0CjPU285mGf5B9aLBlG9Yk&vprv=1&svpuc=1&mime=audio%2Fwebm&gir=yes&clen=2418106&dur=156.021&lmt=1597851046026208&mt=1697567352&fvip=5&keepalive=yes&fexp=24007246&beids=24350018&c=ANDROID&txp=5411222&sparams=expire%2Cei%2Cip%2Cid%2Citag%2Csource%2Crequiressl%2Cgcr%2Cspc%2Cvprv%2Csvpuc%2Cmime%2Cgir%2Cclen%2Cdur%2Clmt&sig=AGM4YrMwRgIhAOXVXZmyzgZewLXSWwUDpmgBshbgBC6RmWSIp4KdBrBGAiEAtNGQfuhMtbhA26r4V1zXAVlUYmsOQ0Yke0Zvs1tjMUs%3D&lsparams=mh%2Cmm%2Cmn%2Cms%2Cmv%2Cmvi%2Cpcm2cms%2Cpl%2Cinitcwndbps&lsig=AK1ks_kwRAIgL4bRIwbwWiRmbAE-cega1OJUfnx_NpJisk4JwN9N2NACIBsE4ARRelqrU8C4wy_oPGNEYNJh7MAlkN-ljCijpsK9':\n",
      "  Metadata:\n",
      "    encoder         : google/video-file\n",
      "  Duration: 00:02:36.02, start: -0.007000, bitrate: 123 kb/s\n",
      "  Stream #0:0(eng): Audio: opus, 48000 Hz, stereo, fltp (default)\n",
      "Stream mapping:\n",
      "  Stream #0:0 -> #0:0 (opus (native) -> opus (libopus))\n",
      "Press [q] to stop, [?] for help\n",
      "[libopus @ 0x561b731a0540] No bit rate set. Defaulting to 96000 bps.\n",
      "Output #0, webm, to 'file:./test/StimuliFinal/long/Synthetic/MEGALOVANIA [0FCvzsVlXpQ].webm.part':\n",
      "  Metadata:\n",
      "    encoder         : Lavf58.76.100\n",
      "  Stream #0:0(eng): Audio: opus, 48000 Hz, stereo, flt, 96 kb/s (default)\n",
      "    Metadata:\n",
      "      encoder         : Lavc58.134.100 libopus\n",
      "size=     512kB time=00:00:47.35 bitrate=  88.6kbits/s speed=31.3x    \r"
     ]
    },
    {
     "name": "stdout",
     "output_type": "stream",
     "text": [
      "[download] 100% of  652.33KiB in 00:00:02 at 242.15KiB/s\n",
      "[ExtractAudio] Destination: ./test/StimuliFinal/long/Synthetic/MEGALOVANIA [0FCvzsVlXpQ].wav\n"
     ]
    },
    {
     "name": "stderr",
     "output_type": "stream",
     "text": [
      "size=     652kB time=00:00:55.99 bitrate=  95.4kbits/s speed=22.2x    \n",
      "video:0kB audio:632kB subtitle:0kB other streams:0kB global headers:0kB muxing overhead: 3.168173%\n"
     ]
    },
    {
     "name": "stdout",
     "output_type": "stream",
     "text": [
      "Deleting original file ./test/StimuliFinal/long/Synthetic/MEGALOVANIA [0FCvzsVlXpQ].webm (pass -k to keep)\n"
     ]
    }
   ],
   "source": [
    "duration = 8\n",
    "\n",
    "for index,row in songsDf.iterrows():\n",
    "    url = row['url'].strip()\n",
    "    timestamp8s = row['timestamp_8s'].strip()\n",
    "    timestamp_long = row['timestamp_long'].strip()\n",
    "    duration = row['duration']\n",
    "    title = row['title']\n",
    "    \n",
    "    print(f\"Downloading long track : {title} {url}\")\n",
    "    track_path = os.path.join('./test/StimuliFinal', 'long', row['playlist'].strip())\n",
    "    os.makedirs(track_path, exist_ok=True)\n",
    "    try:\n",
    "        ytdl(url,timestamp_long,duration=duration,outpath=track_path)\n",
    "    except Exception as e:\n",
    "        print(e)\n",
    "    \n",
    "    print(f\"Downloading 8s track : {title} {url}\")\n",
    "    track_path = os.path.join('./test/StimuliFinal', '8s', row['playlist'].strip())\n",
    "    os.makedirs(track_path, exist_ok=True)\n",
    "    try:\n",
    "        ytdl(url,timestamp8s,duration=8,outpath=track_path)\n",
    "    except Exception as e:\n",
    "        print(e)"
   ]
  },
  {
   "cell_type": "code",
   "execution_count": 8,
   "id": "ac997653-c9c1-4ba0-9224-c0caf023b4be",
   "metadata": {},
   "outputs": [
    {
     "name": "stdout",
     "output_type": "stream",
     "text": [
      "[youtube] Extracting URL: https://www.youtube.com/watch?v=duF1OQho1gc\n",
      "[youtube] duF1OQho1gc: Downloading webpage\n",
      "[youtube] duF1OQho1gc: Downloading ios player API JSON\n",
      "[youtube] duF1OQho1gc: Downloading android player API JSON\n",
      "[youtube] duF1OQho1gc: Downloading m3u8 information\n",
      "[info] duF1OQho1gc: Downloading 1 format(s): 251\n",
      "[info] duF1OQho1gc: Downloading 1 time ranges: 25.0-33.0\n",
      "[download] Destination: ./test/StimuliFinal/8s/Orchestral/Ennio Morricone - My Name is Nobody - Il Mio Nome è Nessuno (Album) High Quality Audio [duF1OQho1gc].webm\n"
     ]
    },
    {
     "name": "stderr",
     "output_type": "stream",
     "text": [
      "Input #0, matroska,webm, from 'https://rr3---sn-gpn9-t0as.googlevideo.com/videoplayback?expire=1697589158&ei=RtMuZdLlKZSg_9EPycio2Ag&ip=206.167.239.2&id=o-AArYefUbu1-pqIdLnjh74D50KIfIkP6rMnTH5b9QaiS1&itag=251&source=youtube&requiressl=yes&mh=NT&mm=31%2C29&mn=sn-gpn9-t0as%2Csn-t0a7lnee&ms=au%2Crdu&mv=m&mvi=3&pcm2cms=yes&pl=24&initcwndbps=1112500&spc=UWF9f3v_Lb2RPbQx63CLw6bjYISJH7A&vprv=1&svpuc=1&mime=audio%2Fwebm&gir=yes&clen=34836398&dur=1957.981&lmt=1540582298465352&mt=1697567352&fvip=1&keepalive=yes&fexp=24007246&beids=24350018&c=ANDROID&txp=5411222&sparams=expire%2Cei%2Cip%2Cid%2Citag%2Csource%2Crequiressl%2Cspc%2Cvprv%2Csvpuc%2Cmime%2Cgir%2Cclen%2Cdur%2Clmt&sig=AGM4YrMwRAIgIcVPJ7sRY-5_PCEEGve4x7Va9tD_rd_WrGFctYUnGwQCIBnqIEgciYxEDOfDnSMfZ3vhL-ApXo6wOJGbjJDydbiU&lsparams=mh%2Cmm%2Cmn%2Cms%2Cmv%2Cmvi%2Cpcm2cms%2Cpl%2Cinitcwndbps&lsig=AK1ks_kwRgIhAM09DeF-F9qqqSpqaeJoIwg7v51vJlWUjcgIjXlNpnbsAiEAms5jJI7kRL0MiKyzcle3n4ruvJDylX7IRMCl0d7hLRY%3D':\n",
      "  Metadata:\n",
      "    encoder         : google/video-file\n",
      "  Duration: 00:32:37.98, start: -0.007000, bitrate: 142 kb/s\n",
      "  Stream #0:0(eng): Audio: opus, 48000 Hz, stereo, fltp (default)\n",
      "Stream mapping:\n",
      "  Stream #0:0 -> #0:0 (opus (native) -> opus (libopus))\n",
      "Press [q] to stop, [?] for help\n",
      "[libopus @ 0x55bfd1b48140] No bit rate set. Defaulting to 96000 bps.\n",
      "Output #0, webm, to 'file:./test/StimuliFinal/8s/Orchestral/Ennio Morricone - My Name is Nobody - Il Mio Nome è Nessuno (Album) High Quality Audio [duF1OQho1gc].webm.part':\n",
      "  Metadata:\n",
      "    encoder         : Lavf58.76.100\n",
      "  Stream #0:0(eng): Audio: opus, 48000 Hz, stereo, flt, 96 kb/s (default)\n",
      "    Metadata:\n",
      "      encoder         : Lavc58.134.100 libopus\n",
      "size=      74kB time=00:00:06.71 bitrate=  90.1kbits/s speed=0.994x     \r"
     ]
    },
    {
     "name": "stdout",
     "output_type": "stream",
     "text": [
      "[download] 100% of  118.71KiB in 00:00:08 at 14.30KiB/s\n",
      "[ExtractAudio] Destination: ./test/StimuliFinal/8s/Orchestral/Ennio Morricone - My Name is Nobody - Il Mio Nome è Nessuno (Album) High Quality Audio [duF1OQho1gc].wav\n",
      "Deleting original file ./test/StimuliFinal/8s/Orchestral/Ennio Morricone - My Name is Nobody - Il Mio Nome è Nessuno (Album) High Quality Audio [duF1OQho1gc].webm (pass -k to keep)\n"
     ]
    },
    {
     "name": "stderr",
     "output_type": "stream",
     "text": [
      "size=     119kB time=00:00:07.99 bitrate= 121.7kbits/s speed=1.01x     \n",
      "video:0kB audio:115kB subtitle:0kB other streams:0kB global headers:0kB muxing overhead: 2.888799%\n"
     ]
    }
   ],
   "source": [
    "url = 'https://www.youtube.com/watch?v=duF1OQho1gc'\n",
    "timestamp8s='0:25'\n",
    "track_path=os.path.join('./test/StimuliFinal', '8s', 'Orchestral')\n",
    "ytdl(url,timestamp8s,duration=8,outpath=track_path)"
   ]
  },
  {
   "cell_type": "markdown",
   "id": "3badc535",
   "metadata": {},
   "source": [
    "to do : \n",
    "\n",
    "- create training stimulus \n",
    "- randomize order, generate mp3 and two csv  : one for subject, one for experimenter\n",
    "- fade in and fade out (configurable) \n",
    "- add time stamp 1 second before the beginning of each file \n",
    "- two columns, yes or no"
   ]
  }
 ],
 "metadata": {
  "kernelspec": {
   "display_name": "Python 3 (ipykernel)",
   "language": "python",
   "name": "python3"
  },
  "language_info": {
   "codemirror_mode": {
    "name": "ipython",
    "version": 3
   },
   "file_extension": ".py",
   "mimetype": "text/x-python",
   "name": "python",
   "nbconvert_exporter": "python",
   "pygments_lexer": "ipython3",
   "version": "3.10.12"
  }
 },
 "nbformat": 4,
 "nbformat_minor": 5
}
