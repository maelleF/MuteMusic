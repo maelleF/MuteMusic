{
 "cells": [
  {
   "cell_type": "markdown",
   "id": "cd67bc61",
   "metadata": {},
   "source": [
    "to do : \n",
    "\n",
    "- create training stimulus \n",
    "- randomize order, generate mp3 and two csv  : one for subject, one for experimenter\n",
    "- fade in and fade out (configurable) \n",
    "- add time stamp 1 second before the beginning of each file \n",
    "- two columns, yes or no"
   ]
  },
  {
   "cell_type": "code",
   "execution_count": 1,
   "id": "c79acab4",
   "metadata": {},
   "outputs": [],
   "source": [
    "import pandas as pd\n",
    "import os\n",
    "import random\n",
    "import numpy as np\n",
    "import librosa\n",
    "import soundfile\n",
    "\n",
    "path = '/home/maellef/DataBase/MuteMusic/'"
   ]
  },
  {
   "cell_type": "code",
   "execution_count": 2,
   "id": "aba1cf8f",
   "metadata": {},
   "outputs": [],
   "source": [
    "def add_sound(filepath,silencedur=1,fadedur = 0.5):\n",
    "    wav,sr = librosa.load(filepath, sr=None)\n",
    "    silence = np.zeros(sr*silencedur)\n",
    "    fadein = np.linspace(0,1,np.int32(fadedur*sr))\n",
    "    fadeout = np.linspace(1,0,np.int32(fadedur*sr))\n",
    "    \n",
    "    wav[:np.int32(fadedur*sr)] *= fadein\n",
    "    wav[-np.int32(fadedur*sr):] *= fadeout\n",
    "    \n",
    "    return np.hstack([silence,wav]),sr"
   ]
  },
  {
   "cell_type": "markdown",
   "id": "c9fe6ac3",
   "metadata": {},
   "source": [
    "Make the training stimulus. I have put 2 seconds before the first one, and 4 seconds before the second one, so that participants have time to adjust"
   ]
  },
  {
   "cell_type": "code",
   "execution_count": 3,
   "id": "b935ea97",
   "metadata": {},
   "outputs": [
    {
     "name": "stderr",
     "output_type": "stream",
     "text": [
      "/tmp/ipykernel_87590/367717739.py:2: UserWarning: PySoundFile failed. Trying audioread instead.\n",
      "  wav,sr = librosa.load(filepath, sr=None)\n",
      "/home/maellef/env/Py39_finefriends/lib/python3.9/site-packages/librosa/core/audio.py:184: FutureWarning: librosa.core.audio.__audioread_load\n",
      "\tDeprecated as of librosa version 0.10.0.\n",
      "\tIt will be removed in librosa version 1.0.\n",
      "  y, sr_native = __audioread_load(path, offset, duration, dtype)\n",
      "/tmp/ipykernel_87590/367717739.py:2: UserWarning: PySoundFile failed. Trying audioread instead.\n",
      "  wav,sr = librosa.load(filepath, sr=None)\n",
      "/home/maellef/env/Py39_finefriends/lib/python3.9/site-packages/librosa/core/audio.py:184: FutureWarning: librosa.core.audio.__audioread_load\n",
      "\tDeprecated as of librosa version 0.10.0.\n",
      "\tIt will be removed in librosa version 1.0.\n",
      "  y, sr_native = __audioread_load(path, offset, duration, dtype)\n"
     ]
    }
   ],
   "source": [
    "a,sr= add_sound(path+'Lyrics/AC⧸DC - Highway to Hell (Official Video) [l482T0yNkeo].m4a',fadedur=2,silencedur=2)\n",
    "b,sr= add_sound(path+'Orchestral/Suite bergamasque, CD 82, L. 75： III. Clair de lune [JVmwLJeeOy4].m4a',silencedur=4)"
   ]
  },
  {
   "cell_type": "code",
   "execution_count": 4,
   "id": "11925bcd",
   "metadata": {},
   "outputs": [],
   "source": [
    "practivewave = np.hstack([a,b])"
   ]
  },
  {
   "cell_type": "code",
   "execution_count": 5,
   "id": "b6ec348b",
   "metadata": {},
   "outputs": [],
   "source": [
    "soundfile.write(path+'practice.mp3',practivewave,sr)"
   ]
  },
  {
   "cell_type": "markdown",
   "id": "29962207",
   "metadata": {},
   "source": [
    "make three lists of files, one for each type of stimulus"
   ]
  },
  {
   "cell_type": "code",
   "execution_count": 6,
   "id": "b1ac226d",
   "metadata": {},
   "outputs": [],
   "source": [
    "orchestral = [path+'Orchestral/' + song for song in os.listdir(path+'Orchestral/')]\n",
    "lyrics = [path+'Lyrics/' + song for song in os.listdir(path+'Lyrics/')]\n",
    "synth = [path+'Synthetic/' + song for song in os.listdir(path+'Synthetic/')]\n",
    "\n",
    "allstims = orchestral + lyrics + synth\n",
    "random.shuffle(allstims)"
   ]
  },
  {
   "cell_type": "code",
   "execution_count": 7,
   "id": "c61cbd3c",
   "metadata": {},
   "outputs": [
    {
     "data": {
      "text/plain": [
       "['/home/maellef/DataBase/MuteMusic/Lyrics/Material Girl [JO9h1fQU_-k].m4a',\n",
       " '/home/maellef/DataBase/MuteMusic/Synthetic/Underwater Theme - Super Mario Bros 3 [JGpOPWM6uzE].m4a',\n",
       " '/home/maellef/DataBase/MuteMusic/Synthetic/Shinobi 3 Return Of The Ninja Master OST- Japonesque [rVmaou-eQfY].m4a',\n",
       " '/home/maellef/DataBase/MuteMusic/Lyrics/Billy Newton-Davis, Céline Dion - Can’t Live With You, Can’t Live Without You (Official Audio) [bY8PUuZR4tw].m4a',\n",
       " '/home/maellef/DataBase/MuteMusic/Orchestral/Satie： Gnossiennes - Gnossiennes No. 1 - Lent [t27rzTkFKmU].m4a',\n",
       " '/home/maellef/DataBase/MuteMusic/Synthetic/Sonic The Hedgehog OST - Green Hill Zone [G-i8HYi1QH0].m4a',\n",
       " '/home/maellef/DataBase/MuteMusic/Orchestral/The Office (Main Theme) [0T-if-Vj2Xs].m4a',\n",
       " '/home/maellef/DataBase/MuteMusic/Orchestral/Aram Khachaturian - Sabre Dance [gqg3l3r_DRI].m4a',\n",
       " '/home/maellef/DataBase/MuteMusic/Lyrics/Survivor - Eye Of The Tiger (Official HD Video) [btPJPFnesV4].m4a',\n",
       " '/home/maellef/DataBase/MuteMusic/Lyrics/AC⧸DC - Highway to Hell (Official Video) [l482T0yNkeo].m4a',\n",
       " '/home/maellef/DataBase/MuteMusic/Orchestral/The Pink Panther Theme [VyZiIuMufTA].m4a',\n",
       " '/home/maellef/DataBase/MuteMusic/Synthetic/Legend of Zelda, The (NES) Music - Overworld Theme [ncg72VswyTs].m4a',\n",
       " '/home/maellef/DataBase/MuteMusic/Lyrics/Gloria Gaynor - I Will Survive [6dYWe1c3OyU].m4a',\n",
       " '/home/maellef/DataBase/MuteMusic/Synthetic/Mortal Kombat (Sega Genesis) - Opening Theme [yVCoMrJwFZc].m4a',\n",
       " '/home/maellef/DataBase/MuteMusic/Lyrics/Bob Marley - No Women No Cry (Original) [pHlSE9j5FGY].m4a',\n",
       " '/home/maellef/DataBase/MuteMusic/Orchestral/Beethoven - Moonlight Sonata (FULL) [4Tr0otuiQuU].m4a',\n",
       " '/home/maellef/DataBase/MuteMusic/Lyrics/Elvis Presley - Jailhouse Rock (Official Lyric Video) [Hi2hpTXeHTI].m4a',\n",
       " \"/home/maellef/DataBase/MuteMusic/Lyrics/Gangsta's Paradise [Tw0_qHNRAEA].m4a\",\n",
       " '/home/maellef/DataBase/MuteMusic/Synthetic/Space Harrier Music - MAIN THEME [-_Tam9lv1KQ].m4a',\n",
       " '/home/maellef/DataBase/MuteMusic/Lyrics/The Beatles - Rain [cK5G8fPmWeA].m4a',\n",
       " \"/home/maellef/DataBase/MuteMusic/Lyrics/Make 'Em Laugh [ieU4Am0t0tc].m4a\",\n",
       " '/home/maellef/DataBase/MuteMusic/Synthetic/Populous (SNES⧸SFC) - BGM 01： Title Theme [_Oix8HQESBs].m4a',\n",
       " '/home/maellef/DataBase/MuteMusic/Synthetic/Castlevania 4 - Bloody Tears (Super Nintendo) [QOWUSsFar-s].m4a',\n",
       " '/home/maellef/DataBase/MuteMusic/Lyrics/Babooshka (2018 Remaster) [3NMhpI2-pLU].m4a',\n",
       " '/home/maellef/DataBase/MuteMusic/Orchestral/Hook- Hook Prologue [OwpOeeQJXGI].m4a',\n",
       " '/home/maellef/DataBase/MuteMusic/Lyrics/Hotel California (2013 Remaster) [BciS5krYL80].m4a',\n",
       " '/home/maellef/DataBase/MuteMusic/Orchestral/Main Title [uXZd_W5B7N0].m4a',\n",
       " \"/home/maellef/DataBase/MuteMusic/Orchestral/Générique 2001, l'Odyssée de l'espace de Stanley Kubrick 1968 [5HjTXZPnYso].m4a\",\n",
       " '/home/maellef/DataBase/MuteMusic/Orchestral/Ronnie Aldrich Orchestra - Yakety Sax (1983) [mvsR9KXQknE].m4a',\n",
       " \"/home/maellef/DataBase/MuteMusic/Lyrics/I'll Be There for You (Theme From ＂Friends＂) [RIjTq_OdFvo].m4a\",\n",
       " '/home/maellef/DataBase/MuteMusic/Lyrics/Tears For Fears - Everybody Wants To Rule The World (Official Archive Video) [znDgBy2mHbc].m4a',\n",
       " '/home/maellef/DataBase/MuteMusic/Orchestral/Star Trek： the Next Generation - Main Title [yweIpSWhyRc].m4a',\n",
       " '/home/maellef/DataBase/MuteMusic/Orchestral/Main Title Terminator 2 Theme (Remastered 2017) [CnQm2_cAZvo].m4a',\n",
       " '/home/maellef/DataBase/MuteMusic/Lyrics/Murder By Numbers [tUq9fURN2VQ].m4a',\n",
       " '/home/maellef/DataBase/MuteMusic/Lyrics/Goodbye Blue Sky [bn6YnUt4Vuk].m4a',\n",
       " \"/home/maellef/DataBase/MuteMusic/Synthetic/Sid Meier's Civilization 【SNES】 OST 06 City Menu [zFND5ln-06o].m4a\",\n",
       " '/home/maellef/DataBase/MuteMusic/Synthetic/Invincibility - Sonic the Hedgehog 2 [OST] [UbobbsFpMR0].m4a',\n",
       " '/home/maellef/DataBase/MuteMusic/Synthetic/MEGALOVANIA [0FCvzsVlXpQ].m4a',\n",
       " '/home/maellef/DataBase/MuteMusic/Synthetic/Aladdin Genesis Music   Ending [oaIXo6aaL-w].m4a',\n",
       " '/home/maellef/DataBase/MuteMusic/Synthetic/Street Fighter II： Champion Edition Arcade Music - Guile Theme (CPS-1) [kZTFKSfKZ_Q].m4a',\n",
       " '/home/maellef/DataBase/MuteMusic/Synthetic/Original Tetris theme (Tetris Soundtrack) [NmCCQxVBfyM].m4a',\n",
       " '/home/maellef/DataBase/MuteMusic/Orchestral/il porco rosso [3fvffPaixM8].m4a',\n",
       " '/home/maellef/DataBase/MuteMusic/Orchestral/Back To The Future (From ＂Back To The Future＂ Original Score⧸End Credits) [LpbHlXPmmcE].m4a',\n",
       " '/home/maellef/DataBase/MuteMusic/Orchestral/The Good, The Bad and The Ugly (Main Theme) [XOl73VQOS9M].m4a',\n",
       " '/home/maellef/DataBase/MuteMusic/Lyrics/Living Together [1U9noJETLU0].m4a',\n",
       " '/home/maellef/DataBase/MuteMusic/Synthetic/Super Mario Bros (NES) Music - Overworld Theme [iy3qq7zc4EY].m4a',\n",
       " '/home/maellef/DataBase/MuteMusic/Orchestral/Dmitri Shostakovich - Waltz No. 2 [mmCnQDUSO4I].m4a',\n",
       " '/home/maellef/DataBase/MuteMusic/Synthetic/Super Mario Bros (NES) Music - Underground Theme [UOwyFPgjPQ4].m4a',\n",
       " '/home/maellef/DataBase/MuteMusic/Orchestral/Dreaming of Bag End [h55ROrO3UHc].m4a',\n",
       " '/home/maellef/DataBase/MuteMusic/Lyrics/Rick Astley - Never Gonna Give You Up (Official Music Video) [dQw4w9WgXcQ].m4a',\n",
       " '/home/maellef/DataBase/MuteMusic/Synthetic/Above Ground BGM - Super Mario Bros. 3 [oZszAppxXoo].m4a',\n",
       " '/home/maellef/DataBase/MuteMusic/Lyrics/Simon & Garfunkel - Mrs. Robinson (Audio) [9C1BCAgu2I8].m4a',\n",
       " '/home/maellef/DataBase/MuteMusic/Synthetic/Streets Of Rage 1 OST- Stage 1 [tfiUfU18FmM].m4a',\n",
       " '/home/maellef/DataBase/MuteMusic/Lyrics/Michael Jackson - Why You Wanna Trip on Me (Audio) [C2FUzoy-UCg].m4a',\n",
       " '/home/maellef/DataBase/MuteMusic/Synthetic/Super Mario 64 - Bob-Omb Battlefield (Extended) Theme [xC3oIT5g_os].m4a',\n",
       " '/home/maellef/DataBase/MuteMusic/Synthetic/Sim City - Growth [cwWrJg6OMs8].m4a',\n",
       " \"/home/maellef/DataBase/MuteMusic/Orchestral/The Imperial March (Darth Vader's Theme) [s3SZ5sIMY6o].m4a\",\n",
       " '/home/maellef/DataBase/MuteMusic/Orchestral/Suite bergamasque, CD 82, L. 75： III. Clair de lune [JVmwLJeeOy4].m4a',\n",
       " '/home/maellef/DataBase/MuteMusic/Orchestral/The 4 Seasons, Op. 8⧸4, RV 297, ＂Winter＂ [_FeJFs6LJjU].m4a',\n",
       " '/home/maellef/DataBase/MuteMusic/Orchestral/Clint Mansell： Lux Aeterna from Requiem for a Dream (Official Video) [0-jVz7Dou4Y].m4a',\n",
       " '/home/maellef/DataBase/MuteMusic/Synthetic/Shinobi 3 Return Of The Ninja Master OST- Shinobi Walk [A1jKza3O1y4].m4a',\n",
       " \"/home/maellef/DataBase/MuteMusic/Orchestral/Joe Hisaishi - Merry-Go-Round (from 'Howl's Moving Castle') [Cj-AL-J98U0].m4a\",\n",
       " '/home/maellef/DataBase/MuteMusic/Lyrics/John Denver - Take Me Home, Country Roads (Official Audio) [1vrEljMfXYo].m4a',\n",
       " '/home/maellef/DataBase/MuteMusic/Synthetic/[Official] Celeste Original Soundtrack - 03 - Resurrections [1rwAvUvvQzQ].m4a',\n",
       " '/home/maellef/DataBase/MuteMusic/Orchestral/The Moldau (Studio recording) [pT2bgYo9RT0].m4a',\n",
       " '/home/maellef/DataBase/MuteMusic/Orchestral/＂The Simpsons＂ Main Title Theme [Fttst9dG6Ko].m4a',\n",
       " \"/home/maellef/DataBase/MuteMusic/Lyrics/[I Can't Get No] Satisfaction (Mono) [MSSxnv1_J2g].m4a\",\n",
       " '/home/maellef/DataBase/MuteMusic/Synthetic/Shinobi 3 Return Of The Ninja Master OST- Idaten [TFZQWCg99l4].m4a',\n",
       " \"/home/maellef/DataBase/MuteMusic/Orchestral/Joe Hisaishi - Kiki's Delivery Service [HPg_auEBL1Y].m4a\",\n",
       " '/home/maellef/DataBase/MuteMusic/Lyrics/Monday, Monday [sWGh92O9kxU].m4a',\n",
       " '/home/maellef/DataBase/MuteMusic/Lyrics/Mister Sandman [PKnPrbPK5vA].m4a',\n",
       " '/home/maellef/DataBase/MuteMusic/Orchestral/Seinfeld Official Soundtrack ｜ Seinfeld Theme - Jonathan Wolff ｜ WaterTower [RWak0i_iqnM].m4a',\n",
       " '/home/maellef/DataBase/MuteMusic/Synthetic/Donkey Kong Country OST (Super Nintendo) - Track 03⧸23 - DK Island Swing [HG8YrDF6cDk].m4a',\n",
       " \"/home/maellef/DataBase/MuteMusic/Synthetic/Final Fantasy 7 Music - Aerith's Theme [4CK2hx377iU].m4a\",\n",
       " '/home/maellef/DataBase/MuteMusic/Lyrics/Radiohead - Creep [XFkzRNyygfk].m4a']"
      ]
     },
     "execution_count": 7,
     "metadata": {},
     "output_type": "execute_result"
    }
   ],
   "source": [
    "allstims"
   ]
  },
  {
   "cell_type": "markdown",
   "id": "dc664ca6",
   "metadata": {},
   "source": [
    "Decide here how much silence between stimuli"
   ]
  },
  {
   "cell_type": "code",
   "execution_count": 8,
   "id": "ec2c6f89",
   "metadata": {},
   "outputs": [],
   "source": [
    "silence = 4"
   ]
  },
  {
   "cell_type": "markdown",
   "id": "77aec8c8",
   "metadata": {},
   "source": [
    "Generate the sound and the timestamps"
   ]
  },
  {
   "cell_type": "code",
   "execution_count": 9,
   "id": "f4ea96b8",
   "metadata": {},
   "outputs": [
    {
     "name": "stdout",
     "output_type": "stream",
     "text": [
      "Adding /home/maellef/DataBase/MuteMusic/Lyrics/Material Girl [JO9h1fQU_-k].m4a\n",
      "Adding /home/maellef/DataBase/MuteMusic/Synthetic/Underwater Theme - Super Mario Bros 3 [JGpOPWM6uzE].m4a\n",
      "Adding /home/maellef/DataBase/MuteMusic/Synthetic/Shinobi 3 Return Of The Ninja Master OST- Japonesque [rVmaou-eQfY].m4a\n"
     ]
    },
    {
     "name": "stderr",
     "output_type": "stream",
     "text": [
      "/tmp/ipykernel_87590/367717739.py:2: UserWarning: PySoundFile failed. Trying audioread instead.\n",
      "  wav,sr = librosa.load(filepath, sr=None)\n",
      "/home/maellef/env/Py39_finefriends/lib/python3.9/site-packages/librosa/core/audio.py:184: FutureWarning: librosa.core.audio.__audioread_load\n",
      "\tDeprecated as of librosa version 0.10.0.\n",
      "\tIt will be removed in librosa version 1.0.\n",
      "  y, sr_native = __audioread_load(path, offset, duration, dtype)\n",
      "/tmp/ipykernel_87590/367717739.py:2: UserWarning: PySoundFile failed. Trying audioread instead.\n",
      "  wav,sr = librosa.load(filepath, sr=None)\n",
      "/home/maellef/env/Py39_finefriends/lib/python3.9/site-packages/librosa/core/audio.py:184: FutureWarning: librosa.core.audio.__audioread_load\n",
      "\tDeprecated as of librosa version 0.10.0.\n",
      "\tIt will be removed in librosa version 1.0.\n",
      "  y, sr_native = __audioread_load(path, offset, duration, dtype)\n",
      "/tmp/ipykernel_87590/367717739.py:2: UserWarning: PySoundFile failed. Trying audioread instead.\n",
      "  wav,sr = librosa.load(filepath, sr=None)\n",
      "/home/maellef/env/Py39_finefriends/lib/python3.9/site-packages/librosa/core/audio.py:184: FutureWarning: librosa.core.audio.__audioread_load\n",
      "\tDeprecated as of librosa version 0.10.0.\n",
      "\tIt will be removed in librosa version 1.0.\n",
      "  y, sr_native = __audioread_load(path, offset, duration, dtype)\n"
     ]
    },
    {
     "name": "stdout",
     "output_type": "stream",
     "text": [
      "Adding /home/maellef/DataBase/MuteMusic/Lyrics/Billy Newton-Davis, Céline Dion - Can’t Live With You, Can’t Live Without You (Official Audio) [bY8PUuZR4tw].m4a\n",
      "Adding /home/maellef/DataBase/MuteMusic/Orchestral/Satie： Gnossiennes - Gnossiennes No. 1 - Lent [t27rzTkFKmU].m4a\n",
      "Adding /home/maellef/DataBase/MuteMusic/Synthetic/Sonic The Hedgehog OST - Green Hill Zone [G-i8HYi1QH0].m4a\n",
      "Adding /home/maellef/DataBase/MuteMusic/Orchestral/The Office (Main Theme) [0T-if-Vj2Xs].m4a\n"
     ]
    },
    {
     "name": "stderr",
     "output_type": "stream",
     "text": [
      "/tmp/ipykernel_87590/367717739.py:2: UserWarning: PySoundFile failed. Trying audioread instead.\n",
      "  wav,sr = librosa.load(filepath, sr=None)\n",
      "/home/maellef/env/Py39_finefriends/lib/python3.9/site-packages/librosa/core/audio.py:184: FutureWarning: librosa.core.audio.__audioread_load\n",
      "\tDeprecated as of librosa version 0.10.0.\n",
      "\tIt will be removed in librosa version 1.0.\n",
      "  y, sr_native = __audioread_load(path, offset, duration, dtype)\n",
      "/tmp/ipykernel_87590/367717739.py:2: UserWarning: PySoundFile failed. Trying audioread instead.\n",
      "  wav,sr = librosa.load(filepath, sr=None)\n",
      "/home/maellef/env/Py39_finefriends/lib/python3.9/site-packages/librosa/core/audio.py:184: FutureWarning: librosa.core.audio.__audioread_load\n",
      "\tDeprecated as of librosa version 0.10.0.\n",
      "\tIt will be removed in librosa version 1.0.\n",
      "  y, sr_native = __audioread_load(path, offset, duration, dtype)\n",
      "/tmp/ipykernel_87590/367717739.py:2: UserWarning: PySoundFile failed. Trying audioread instead.\n",
      "  wav,sr = librosa.load(filepath, sr=None)\n",
      "/home/maellef/env/Py39_finefriends/lib/python3.9/site-packages/librosa/core/audio.py:184: FutureWarning: librosa.core.audio.__audioread_load\n",
      "\tDeprecated as of librosa version 0.10.0.\n",
      "\tIt will be removed in librosa version 1.0.\n",
      "  y, sr_native = __audioread_load(path, offset, duration, dtype)\n",
      "/tmp/ipykernel_87590/367717739.py:2: UserWarning: PySoundFile failed. Trying audioread instead.\n",
      "  wav,sr = librosa.load(filepath, sr=None)\n",
      "/home/maellef/env/Py39_finefriends/lib/python3.9/site-packages/librosa/core/audio.py:184: FutureWarning: librosa.core.audio.__audioread_load\n",
      "\tDeprecated as of librosa version 0.10.0.\n",
      "\tIt will be removed in librosa version 1.0.\n",
      "  y, sr_native = __audioread_load(path, offset, duration, dtype)\n"
     ]
    },
    {
     "name": "stdout",
     "output_type": "stream",
     "text": [
      "Adding /home/maellef/DataBase/MuteMusic/Orchestral/Aram Khachaturian - Sabre Dance [gqg3l3r_DRI].m4a\n",
      "Adding /home/maellef/DataBase/MuteMusic/Lyrics/Survivor - Eye Of The Tiger (Official HD Video) [btPJPFnesV4].m4a\n",
      "Adding /home/maellef/DataBase/MuteMusic/Lyrics/AC⧸DC - Highway to Hell (Official Video) [l482T0yNkeo].m4a\n",
      "Adding /home/maellef/DataBase/MuteMusic/Orchestral/The Pink Panther Theme [VyZiIuMufTA].m4a\n"
     ]
    },
    {
     "name": "stderr",
     "output_type": "stream",
     "text": [
      "/tmp/ipykernel_87590/367717739.py:2: UserWarning: PySoundFile failed. Trying audioread instead.\n",
      "  wav,sr = librosa.load(filepath, sr=None)\n",
      "/home/maellef/env/Py39_finefriends/lib/python3.9/site-packages/librosa/core/audio.py:184: FutureWarning: librosa.core.audio.__audioread_load\n",
      "\tDeprecated as of librosa version 0.10.0.\n",
      "\tIt will be removed in librosa version 1.0.\n",
      "  y, sr_native = __audioread_load(path, offset, duration, dtype)\n",
      "/tmp/ipykernel_87590/367717739.py:2: UserWarning: PySoundFile failed. Trying audioread instead.\n",
      "  wav,sr = librosa.load(filepath, sr=None)\n",
      "/home/maellef/env/Py39_finefriends/lib/python3.9/site-packages/librosa/core/audio.py:184: FutureWarning: librosa.core.audio.__audioread_load\n",
      "\tDeprecated as of librosa version 0.10.0.\n",
      "\tIt will be removed in librosa version 1.0.\n",
      "  y, sr_native = __audioread_load(path, offset, duration, dtype)\n",
      "/tmp/ipykernel_87590/367717739.py:2: UserWarning: PySoundFile failed. Trying audioread instead.\n",
      "  wav,sr = librosa.load(filepath, sr=None)\n",
      "/home/maellef/env/Py39_finefriends/lib/python3.9/site-packages/librosa/core/audio.py:184: FutureWarning: librosa.core.audio.__audioread_load\n",
      "\tDeprecated as of librosa version 0.10.0.\n",
      "\tIt will be removed in librosa version 1.0.\n",
      "  y, sr_native = __audioread_load(path, offset, duration, dtype)\n",
      "/tmp/ipykernel_87590/367717739.py:2: UserWarning: PySoundFile failed. Trying audioread instead.\n",
      "  wav,sr = librosa.load(filepath, sr=None)\n",
      "/home/maellef/env/Py39_finefriends/lib/python3.9/site-packages/librosa/core/audio.py:184: FutureWarning: librosa.core.audio.__audioread_load\n",
      "\tDeprecated as of librosa version 0.10.0.\n",
      "\tIt will be removed in librosa version 1.0.\n",
      "  y, sr_native = __audioread_load(path, offset, duration, dtype)\n"
     ]
    },
    {
     "name": "stdout",
     "output_type": "stream",
     "text": [
      "Adding /home/maellef/DataBase/MuteMusic/Synthetic/Legend of Zelda, The (NES) Music - Overworld Theme [ncg72VswyTs].m4a\n",
      "Adding /home/maellef/DataBase/MuteMusic/Lyrics/Gloria Gaynor - I Will Survive [6dYWe1c3OyU].m4a\n",
      "Adding /home/maellef/DataBase/MuteMusic/Synthetic/Mortal Kombat (Sega Genesis) - Opening Theme [yVCoMrJwFZc].m4a\n",
      "Adding /home/maellef/DataBase/MuteMusic/Lyrics/Bob Marley - No Women No Cry (Original) [pHlSE9j5FGY].m4a\n"
     ]
    },
    {
     "name": "stderr",
     "output_type": "stream",
     "text": [
      "/tmp/ipykernel_87590/367717739.py:2: UserWarning: PySoundFile failed. Trying audioread instead.\n",
      "  wav,sr = librosa.load(filepath, sr=None)\n",
      "/home/maellef/env/Py39_finefriends/lib/python3.9/site-packages/librosa/core/audio.py:184: FutureWarning: librosa.core.audio.__audioread_load\n",
      "\tDeprecated as of librosa version 0.10.0.\n",
      "\tIt will be removed in librosa version 1.0.\n",
      "  y, sr_native = __audioread_load(path, offset, duration, dtype)\n",
      "/tmp/ipykernel_87590/367717739.py:2: UserWarning: PySoundFile failed. Trying audioread instead.\n",
      "  wav,sr = librosa.load(filepath, sr=None)\n",
      "/home/maellef/env/Py39_finefriends/lib/python3.9/site-packages/librosa/core/audio.py:184: FutureWarning: librosa.core.audio.__audioread_load\n",
      "\tDeprecated as of librosa version 0.10.0.\n",
      "\tIt will be removed in librosa version 1.0.\n",
      "  y, sr_native = __audioread_load(path, offset, duration, dtype)\n",
      "/tmp/ipykernel_87590/367717739.py:2: UserWarning: PySoundFile failed. Trying audioread instead.\n",
      "  wav,sr = librosa.load(filepath, sr=None)\n",
      "/home/maellef/env/Py39_finefriends/lib/python3.9/site-packages/librosa/core/audio.py:184: FutureWarning: librosa.core.audio.__audioread_load\n",
      "\tDeprecated as of librosa version 0.10.0.\n",
      "\tIt will be removed in librosa version 1.0.\n",
      "  y, sr_native = __audioread_load(path, offset, duration, dtype)\n",
      "/tmp/ipykernel_87590/367717739.py:2: UserWarning: PySoundFile failed. Trying audioread instead.\n",
      "  wav,sr = librosa.load(filepath, sr=None)\n",
      "/home/maellef/env/Py39_finefriends/lib/python3.9/site-packages/librosa/core/audio.py:184: FutureWarning: librosa.core.audio.__audioread_load\n",
      "\tDeprecated as of librosa version 0.10.0.\n",
      "\tIt will be removed in librosa version 1.0.\n",
      "  y, sr_native = __audioread_load(path, offset, duration, dtype)\n"
     ]
    },
    {
     "name": "stdout",
     "output_type": "stream",
     "text": [
      "Adding /home/maellef/DataBase/MuteMusic/Orchestral/Beethoven - Moonlight Sonata (FULL) [4Tr0otuiQuU].m4a\n",
      "Adding /home/maellef/DataBase/MuteMusic/Lyrics/Elvis Presley - Jailhouse Rock (Official Lyric Video) [Hi2hpTXeHTI].m4a\n",
      "Adding /home/maellef/DataBase/MuteMusic/Lyrics/Gangsta's Paradise [Tw0_qHNRAEA].m4a\n",
      "Adding /home/maellef/DataBase/MuteMusic/Synthetic/Space Harrier Music - MAIN THEME [-_Tam9lv1KQ].m4a\n"
     ]
    },
    {
     "name": "stderr",
     "output_type": "stream",
     "text": [
      "/tmp/ipykernel_87590/367717739.py:2: UserWarning: PySoundFile failed. Trying audioread instead.\n",
      "  wav,sr = librosa.load(filepath, sr=None)\n",
      "/home/maellef/env/Py39_finefriends/lib/python3.9/site-packages/librosa/core/audio.py:184: FutureWarning: librosa.core.audio.__audioread_load\n",
      "\tDeprecated as of librosa version 0.10.0.\n",
      "\tIt will be removed in librosa version 1.0.\n",
      "  y, sr_native = __audioread_load(path, offset, duration, dtype)\n",
      "/tmp/ipykernel_87590/367717739.py:2: UserWarning: PySoundFile failed. Trying audioread instead.\n",
      "  wav,sr = librosa.load(filepath, sr=None)\n",
      "/home/maellef/env/Py39_finefriends/lib/python3.9/site-packages/librosa/core/audio.py:184: FutureWarning: librosa.core.audio.__audioread_load\n",
      "\tDeprecated as of librosa version 0.10.0.\n",
      "\tIt will be removed in librosa version 1.0.\n",
      "  y, sr_native = __audioread_load(path, offset, duration, dtype)\n",
      "/tmp/ipykernel_87590/367717739.py:2: UserWarning: PySoundFile failed. Trying audioread instead.\n",
      "  wav,sr = librosa.load(filepath, sr=None)\n",
      "/home/maellef/env/Py39_finefriends/lib/python3.9/site-packages/librosa/core/audio.py:184: FutureWarning: librosa.core.audio.__audioread_load\n",
      "\tDeprecated as of librosa version 0.10.0.\n",
      "\tIt will be removed in librosa version 1.0.\n",
      "  y, sr_native = __audioread_load(path, offset, duration, dtype)\n",
      "/tmp/ipykernel_87590/367717739.py:2: UserWarning: PySoundFile failed. Trying audioread instead.\n",
      "  wav,sr = librosa.load(filepath, sr=None)\n",
      "/home/maellef/env/Py39_finefriends/lib/python3.9/site-packages/librosa/core/audio.py:184: FutureWarning: librosa.core.audio.__audioread_load\n",
      "\tDeprecated as of librosa version 0.10.0.\n",
      "\tIt will be removed in librosa version 1.0.\n",
      "  y, sr_native = __audioread_load(path, offset, duration, dtype)\n"
     ]
    },
    {
     "name": "stdout",
     "output_type": "stream",
     "text": [
      "Adding /home/maellef/DataBase/MuteMusic/Lyrics/The Beatles - Rain [cK5G8fPmWeA].m4a\n",
      "Adding /home/maellef/DataBase/MuteMusic/Lyrics/Make 'Em Laugh [ieU4Am0t0tc].m4a\n",
      "Adding /home/maellef/DataBase/MuteMusic/Synthetic/Populous (SNES⧸SFC) - BGM 01： Title Theme [_Oix8HQESBs].m4a\n",
      "Adding /home/maellef/DataBase/MuteMusic/Synthetic/Castlevania 4 - Bloody Tears (Super Nintendo) [QOWUSsFar-s].m4a\n"
     ]
    },
    {
     "name": "stderr",
     "output_type": "stream",
     "text": [
      "/tmp/ipykernel_87590/367717739.py:2: UserWarning: PySoundFile failed. Trying audioread instead.\n",
      "  wav,sr = librosa.load(filepath, sr=None)\n",
      "/home/maellef/env/Py39_finefriends/lib/python3.9/site-packages/librosa/core/audio.py:184: FutureWarning: librosa.core.audio.__audioread_load\n",
      "\tDeprecated as of librosa version 0.10.0.\n",
      "\tIt will be removed in librosa version 1.0.\n",
      "  y, sr_native = __audioread_load(path, offset, duration, dtype)\n",
      "/tmp/ipykernel_87590/367717739.py:2: UserWarning: PySoundFile failed. Trying audioread instead.\n",
      "  wav,sr = librosa.load(filepath, sr=None)\n",
      "/home/maellef/env/Py39_finefriends/lib/python3.9/site-packages/librosa/core/audio.py:184: FutureWarning: librosa.core.audio.__audioread_load\n",
      "\tDeprecated as of librosa version 0.10.0.\n",
      "\tIt will be removed in librosa version 1.0.\n",
      "  y, sr_native = __audioread_load(path, offset, duration, dtype)\n",
      "/tmp/ipykernel_87590/367717739.py:2: UserWarning: PySoundFile failed. Trying audioread instead.\n",
      "  wav,sr = librosa.load(filepath, sr=None)\n",
      "/home/maellef/env/Py39_finefriends/lib/python3.9/site-packages/librosa/core/audio.py:184: FutureWarning: librosa.core.audio.__audioread_load\n",
      "\tDeprecated as of librosa version 0.10.0.\n",
      "\tIt will be removed in librosa version 1.0.\n",
      "  y, sr_native = __audioread_load(path, offset, duration, dtype)\n",
      "/tmp/ipykernel_87590/367717739.py:2: UserWarning: PySoundFile failed. Trying audioread instead.\n",
      "  wav,sr = librosa.load(filepath, sr=None)\n",
      "/home/maellef/env/Py39_finefriends/lib/python3.9/site-packages/librosa/core/audio.py:184: FutureWarning: librosa.core.audio.__audioread_load\n",
      "\tDeprecated as of librosa version 0.10.0.\n",
      "\tIt will be removed in librosa version 1.0.\n",
      "  y, sr_native = __audioread_load(path, offset, duration, dtype)\n"
     ]
    },
    {
     "name": "stdout",
     "output_type": "stream",
     "text": [
      "Adding /home/maellef/DataBase/MuteMusic/Lyrics/Babooshka (2018 Remaster) [3NMhpI2-pLU].m4a\n",
      "Adding /home/maellef/DataBase/MuteMusic/Orchestral/Hook- Hook Prologue [OwpOeeQJXGI].m4a\n",
      "Adding /home/maellef/DataBase/MuteMusic/Lyrics/Hotel California (2013 Remaster) [BciS5krYL80].m4a\n",
      "Adding /home/maellef/DataBase/MuteMusic/Orchestral/Main Title [uXZd_W5B7N0].m4a\n"
     ]
    },
    {
     "name": "stderr",
     "output_type": "stream",
     "text": [
      "/tmp/ipykernel_87590/367717739.py:2: UserWarning: PySoundFile failed. Trying audioread instead.\n",
      "  wav,sr = librosa.load(filepath, sr=None)\n",
      "/home/maellef/env/Py39_finefriends/lib/python3.9/site-packages/librosa/core/audio.py:184: FutureWarning: librosa.core.audio.__audioread_load\n",
      "\tDeprecated as of librosa version 0.10.0.\n",
      "\tIt will be removed in librosa version 1.0.\n",
      "  y, sr_native = __audioread_load(path, offset, duration, dtype)\n",
      "/tmp/ipykernel_87590/367717739.py:2: UserWarning: PySoundFile failed. Trying audioread instead.\n",
      "  wav,sr = librosa.load(filepath, sr=None)\n",
      "/home/maellef/env/Py39_finefriends/lib/python3.9/site-packages/librosa/core/audio.py:184: FutureWarning: librosa.core.audio.__audioread_load\n",
      "\tDeprecated as of librosa version 0.10.0.\n",
      "\tIt will be removed in librosa version 1.0.\n",
      "  y, sr_native = __audioread_load(path, offset, duration, dtype)\n",
      "/tmp/ipykernel_87590/367717739.py:2: UserWarning: PySoundFile failed. Trying audioread instead.\n",
      "  wav,sr = librosa.load(filepath, sr=None)\n",
      "/home/maellef/env/Py39_finefriends/lib/python3.9/site-packages/librosa/core/audio.py:184: FutureWarning: librosa.core.audio.__audioread_load\n",
      "\tDeprecated as of librosa version 0.10.0.\n",
      "\tIt will be removed in librosa version 1.0.\n",
      "  y, sr_native = __audioread_load(path, offset, duration, dtype)\n",
      "/tmp/ipykernel_87590/367717739.py:2: UserWarning: PySoundFile failed. Trying audioread instead.\n",
      "  wav,sr = librosa.load(filepath, sr=None)\n",
      "/home/maellef/env/Py39_finefriends/lib/python3.9/site-packages/librosa/core/audio.py:184: FutureWarning: librosa.core.audio.__audioread_load\n",
      "\tDeprecated as of librosa version 0.10.0.\n",
      "\tIt will be removed in librosa version 1.0.\n",
      "  y, sr_native = __audioread_load(path, offset, duration, dtype)\n"
     ]
    },
    {
     "name": "stdout",
     "output_type": "stream",
     "text": [
      "Adding /home/maellef/DataBase/MuteMusic/Orchestral/Générique 2001, l'Odyssée de l'espace de Stanley Kubrick 1968 [5HjTXZPnYso].m4a\n",
      "Adding /home/maellef/DataBase/MuteMusic/Orchestral/Ronnie Aldrich Orchestra - Yakety Sax (1983) [mvsR9KXQknE].m4a\n",
      "Adding /home/maellef/DataBase/MuteMusic/Lyrics/I'll Be There for You (Theme From ＂Friends＂) [RIjTq_OdFvo].m4a\n",
      "Adding /home/maellef/DataBase/MuteMusic/Lyrics/Tears For Fears - Everybody Wants To Rule The World (Official Archive Video) [znDgBy2mHbc].m4a\n"
     ]
    },
    {
     "name": "stderr",
     "output_type": "stream",
     "text": [
      "/tmp/ipykernel_87590/367717739.py:2: UserWarning: PySoundFile failed. Trying audioread instead.\n",
      "  wav,sr = librosa.load(filepath, sr=None)\n",
      "/home/maellef/env/Py39_finefriends/lib/python3.9/site-packages/librosa/core/audio.py:184: FutureWarning: librosa.core.audio.__audioread_load\n",
      "\tDeprecated as of librosa version 0.10.0.\n",
      "\tIt will be removed in librosa version 1.0.\n",
      "  y, sr_native = __audioread_load(path, offset, duration, dtype)\n",
      "/tmp/ipykernel_87590/367717739.py:2: UserWarning: PySoundFile failed. Trying audioread instead.\n",
      "  wav,sr = librosa.load(filepath, sr=None)\n",
      "/home/maellef/env/Py39_finefriends/lib/python3.9/site-packages/librosa/core/audio.py:184: FutureWarning: librosa.core.audio.__audioread_load\n",
      "\tDeprecated as of librosa version 0.10.0.\n",
      "\tIt will be removed in librosa version 1.0.\n",
      "  y, sr_native = __audioread_load(path, offset, duration, dtype)\n",
      "/tmp/ipykernel_87590/367717739.py:2: UserWarning: PySoundFile failed. Trying audioread instead.\n",
      "  wav,sr = librosa.load(filepath, sr=None)\n",
      "/home/maellef/env/Py39_finefriends/lib/python3.9/site-packages/librosa/core/audio.py:184: FutureWarning: librosa.core.audio.__audioread_load\n",
      "\tDeprecated as of librosa version 0.10.0.\n",
      "\tIt will be removed in librosa version 1.0.\n",
      "  y, sr_native = __audioread_load(path, offset, duration, dtype)\n",
      "/tmp/ipykernel_87590/367717739.py:2: UserWarning: PySoundFile failed. Trying audioread instead.\n",
      "  wav,sr = librosa.load(filepath, sr=None)\n",
      "/home/maellef/env/Py39_finefriends/lib/python3.9/site-packages/librosa/core/audio.py:184: FutureWarning: librosa.core.audio.__audioread_load\n",
      "\tDeprecated as of librosa version 0.10.0.\n",
      "\tIt will be removed in librosa version 1.0.\n",
      "  y, sr_native = __audioread_load(path, offset, duration, dtype)\n"
     ]
    },
    {
     "name": "stdout",
     "output_type": "stream",
     "text": [
      "Adding /home/maellef/DataBase/MuteMusic/Orchestral/Star Trek： the Next Generation - Main Title [yweIpSWhyRc].m4a\n",
      "Adding /home/maellef/DataBase/MuteMusic/Orchestral/Main Title Terminator 2 Theme (Remastered 2017) [CnQm2_cAZvo].m4a\n",
      "Adding /home/maellef/DataBase/MuteMusic/Lyrics/Murder By Numbers [tUq9fURN2VQ].m4a\n",
      "Adding /home/maellef/DataBase/MuteMusic/Lyrics/Goodbye Blue Sky [bn6YnUt4Vuk].m4a\n"
     ]
    },
    {
     "name": "stderr",
     "output_type": "stream",
     "text": [
      "/tmp/ipykernel_87590/367717739.py:2: UserWarning: PySoundFile failed. Trying audioread instead.\n",
      "  wav,sr = librosa.load(filepath, sr=None)\n",
      "/home/maellef/env/Py39_finefriends/lib/python3.9/site-packages/librosa/core/audio.py:184: FutureWarning: librosa.core.audio.__audioread_load\n",
      "\tDeprecated as of librosa version 0.10.0.\n",
      "\tIt will be removed in librosa version 1.0.\n",
      "  y, sr_native = __audioread_load(path, offset, duration, dtype)\n",
      "/tmp/ipykernel_87590/367717739.py:2: UserWarning: PySoundFile failed. Trying audioread instead.\n",
      "  wav,sr = librosa.load(filepath, sr=None)\n",
      "/home/maellef/env/Py39_finefriends/lib/python3.9/site-packages/librosa/core/audio.py:184: FutureWarning: librosa.core.audio.__audioread_load\n",
      "\tDeprecated as of librosa version 0.10.0.\n",
      "\tIt will be removed in librosa version 1.0.\n",
      "  y, sr_native = __audioread_load(path, offset, duration, dtype)\n",
      "/tmp/ipykernel_87590/367717739.py:2: UserWarning: PySoundFile failed. Trying audioread instead.\n",
      "  wav,sr = librosa.load(filepath, sr=None)\n",
      "/home/maellef/env/Py39_finefriends/lib/python3.9/site-packages/librosa/core/audio.py:184: FutureWarning: librosa.core.audio.__audioread_load\n",
      "\tDeprecated as of librosa version 0.10.0.\n",
      "\tIt will be removed in librosa version 1.0.\n",
      "  y, sr_native = __audioread_load(path, offset, duration, dtype)\n",
      "/tmp/ipykernel_87590/367717739.py:2: UserWarning: PySoundFile failed. Trying audioread instead.\n",
      "  wav,sr = librosa.load(filepath, sr=None)\n",
      "/home/maellef/env/Py39_finefriends/lib/python3.9/site-packages/librosa/core/audio.py:184: FutureWarning: librosa.core.audio.__audioread_load\n",
      "\tDeprecated as of librosa version 0.10.0.\n",
      "\tIt will be removed in librosa version 1.0.\n",
      "  y, sr_native = __audioread_load(path, offset, duration, dtype)\n"
     ]
    },
    {
     "name": "stdout",
     "output_type": "stream",
     "text": [
      "Adding /home/maellef/DataBase/MuteMusic/Synthetic/Sid Meier's Civilization 【SNES】 OST 06 City Menu [zFND5ln-06o].m4a\n",
      "Adding /home/maellef/DataBase/MuteMusic/Synthetic/Invincibility - Sonic the Hedgehog 2 [OST] [UbobbsFpMR0].m4a\n",
      "Adding /home/maellef/DataBase/MuteMusic/Synthetic/MEGALOVANIA [0FCvzsVlXpQ].m4a\n",
      "Adding /home/maellef/DataBase/MuteMusic/Synthetic/Aladdin Genesis Music   Ending [oaIXo6aaL-w].m4a\n"
     ]
    },
    {
     "name": "stderr",
     "output_type": "stream",
     "text": [
      "/tmp/ipykernel_87590/367717739.py:2: UserWarning: PySoundFile failed. Trying audioread instead.\n",
      "  wav,sr = librosa.load(filepath, sr=None)\n",
      "/home/maellef/env/Py39_finefriends/lib/python3.9/site-packages/librosa/core/audio.py:184: FutureWarning: librosa.core.audio.__audioread_load\n",
      "\tDeprecated as of librosa version 0.10.0.\n",
      "\tIt will be removed in librosa version 1.0.\n",
      "  y, sr_native = __audioread_load(path, offset, duration, dtype)\n",
      "/tmp/ipykernel_87590/367717739.py:2: UserWarning: PySoundFile failed. Trying audioread instead.\n",
      "  wav,sr = librosa.load(filepath, sr=None)\n",
      "/home/maellef/env/Py39_finefriends/lib/python3.9/site-packages/librosa/core/audio.py:184: FutureWarning: librosa.core.audio.__audioread_load\n",
      "\tDeprecated as of librosa version 0.10.0.\n",
      "\tIt will be removed in librosa version 1.0.\n",
      "  y, sr_native = __audioread_load(path, offset, duration, dtype)\n",
      "/tmp/ipykernel_87590/367717739.py:2: UserWarning: PySoundFile failed. Trying audioread instead.\n",
      "  wav,sr = librosa.load(filepath, sr=None)\n",
      "/home/maellef/env/Py39_finefriends/lib/python3.9/site-packages/librosa/core/audio.py:184: FutureWarning: librosa.core.audio.__audioread_load\n",
      "\tDeprecated as of librosa version 0.10.0.\n",
      "\tIt will be removed in librosa version 1.0.\n",
      "  y, sr_native = __audioread_load(path, offset, duration, dtype)\n",
      "/tmp/ipykernel_87590/367717739.py:2: UserWarning: PySoundFile failed. Trying audioread instead.\n",
      "  wav,sr = librosa.load(filepath, sr=None)\n",
      "/home/maellef/env/Py39_finefriends/lib/python3.9/site-packages/librosa/core/audio.py:184: FutureWarning: librosa.core.audio.__audioread_load\n",
      "\tDeprecated as of librosa version 0.10.0.\n",
      "\tIt will be removed in librosa version 1.0.\n",
      "  y, sr_native = __audioread_load(path, offset, duration, dtype)\n"
     ]
    },
    {
     "name": "stdout",
     "output_type": "stream",
     "text": [
      "Adding /home/maellef/DataBase/MuteMusic/Synthetic/Street Fighter II： Champion Edition Arcade Music - Guile Theme (CPS-1) [kZTFKSfKZ_Q].m4a\n",
      "Adding /home/maellef/DataBase/MuteMusic/Synthetic/Original Tetris theme (Tetris Soundtrack) [NmCCQxVBfyM].m4a\n",
      "Adding /home/maellef/DataBase/MuteMusic/Orchestral/il porco rosso [3fvffPaixM8].m4a\n"
     ]
    },
    {
     "name": "stderr",
     "output_type": "stream",
     "text": [
      "/tmp/ipykernel_87590/367717739.py:2: UserWarning: PySoundFile failed. Trying audioread instead.\n",
      "  wav,sr = librosa.load(filepath, sr=None)\n",
      "/home/maellef/env/Py39_finefriends/lib/python3.9/site-packages/librosa/core/audio.py:184: FutureWarning: librosa.core.audio.__audioread_load\n",
      "\tDeprecated as of librosa version 0.10.0.\n",
      "\tIt will be removed in librosa version 1.0.\n",
      "  y, sr_native = __audioread_load(path, offset, duration, dtype)\n",
      "/tmp/ipykernel_87590/367717739.py:2: UserWarning: PySoundFile failed. Trying audioread instead.\n",
      "  wav,sr = librosa.load(filepath, sr=None)\n",
      "/home/maellef/env/Py39_finefriends/lib/python3.9/site-packages/librosa/core/audio.py:184: FutureWarning: librosa.core.audio.__audioread_load\n",
      "\tDeprecated as of librosa version 0.10.0.\n",
      "\tIt will be removed in librosa version 1.0.\n",
      "  y, sr_native = __audioread_load(path, offset, duration, dtype)\n",
      "/tmp/ipykernel_87590/367717739.py:2: UserWarning: PySoundFile failed. Trying audioread instead.\n",
      "  wav,sr = librosa.load(filepath, sr=None)\n",
      "/home/maellef/env/Py39_finefriends/lib/python3.9/site-packages/librosa/core/audio.py:184: FutureWarning: librosa.core.audio.__audioread_load\n",
      "\tDeprecated as of librosa version 0.10.0.\n",
      "\tIt will be removed in librosa version 1.0.\n",
      "  y, sr_native = __audioread_load(path, offset, duration, dtype)\n"
     ]
    },
    {
     "name": "stdout",
     "output_type": "stream",
     "text": [
      "Adding /home/maellef/DataBase/MuteMusic/Orchestral/Back To The Future (From ＂Back To The Future＂ Original Score⧸End Credits) [LpbHlXPmmcE].m4a\n",
      "Adding /home/maellef/DataBase/MuteMusic/Orchestral/The Good, The Bad and The Ugly (Main Theme) [XOl73VQOS9M].m4a\n",
      "Adding /home/maellef/DataBase/MuteMusic/Lyrics/Living Together [1U9noJETLU0].m4a\n",
      "Adding /home/maellef/DataBase/MuteMusic/Synthetic/Super Mario Bros (NES) Music - Overworld Theme [iy3qq7zc4EY].m4a\n"
     ]
    },
    {
     "name": "stderr",
     "output_type": "stream",
     "text": [
      "/tmp/ipykernel_87590/367717739.py:2: UserWarning: PySoundFile failed. Trying audioread instead.\n",
      "  wav,sr = librosa.load(filepath, sr=None)\n",
      "/home/maellef/env/Py39_finefriends/lib/python3.9/site-packages/librosa/core/audio.py:184: FutureWarning: librosa.core.audio.__audioread_load\n",
      "\tDeprecated as of librosa version 0.10.0.\n",
      "\tIt will be removed in librosa version 1.0.\n",
      "  y, sr_native = __audioread_load(path, offset, duration, dtype)\n",
      "/tmp/ipykernel_87590/367717739.py:2: UserWarning: PySoundFile failed. Trying audioread instead.\n",
      "  wav,sr = librosa.load(filepath, sr=None)\n",
      "/home/maellef/env/Py39_finefriends/lib/python3.9/site-packages/librosa/core/audio.py:184: FutureWarning: librosa.core.audio.__audioread_load\n",
      "\tDeprecated as of librosa version 0.10.0.\n",
      "\tIt will be removed in librosa version 1.0.\n",
      "  y, sr_native = __audioread_load(path, offset, duration, dtype)\n",
      "/tmp/ipykernel_87590/367717739.py:2: UserWarning: PySoundFile failed. Trying audioread instead.\n",
      "  wav,sr = librosa.load(filepath, sr=None)\n",
      "/home/maellef/env/Py39_finefriends/lib/python3.9/site-packages/librosa/core/audio.py:184: FutureWarning: librosa.core.audio.__audioread_load\n",
      "\tDeprecated as of librosa version 0.10.0.\n",
      "\tIt will be removed in librosa version 1.0.\n",
      "  y, sr_native = __audioread_load(path, offset, duration, dtype)\n",
      "/tmp/ipykernel_87590/367717739.py:2: UserWarning: PySoundFile failed. Trying audioread instead.\n",
      "  wav,sr = librosa.load(filepath, sr=None)\n",
      "/home/maellef/env/Py39_finefriends/lib/python3.9/site-packages/librosa/core/audio.py:184: FutureWarning: librosa.core.audio.__audioread_load\n",
      "\tDeprecated as of librosa version 0.10.0.\n",
      "\tIt will be removed in librosa version 1.0.\n",
      "  y, sr_native = __audioread_load(path, offset, duration, dtype)\n"
     ]
    },
    {
     "name": "stdout",
     "output_type": "stream",
     "text": [
      "Adding /home/maellef/DataBase/MuteMusic/Orchestral/Dmitri Shostakovich - Waltz No. 2 [mmCnQDUSO4I].m4a\n",
      "Adding /home/maellef/DataBase/MuteMusic/Synthetic/Super Mario Bros (NES) Music - Underground Theme [UOwyFPgjPQ4].m4a\n",
      "Adding /home/maellef/DataBase/MuteMusic/Orchestral/Dreaming of Bag End [h55ROrO3UHc].m4a\n",
      "Adding /home/maellef/DataBase/MuteMusic/Lyrics/Rick Astley - Never Gonna Give You Up (Official Music Video) [dQw4w9WgXcQ].m4a\n"
     ]
    },
    {
     "name": "stderr",
     "output_type": "stream",
     "text": [
      "/tmp/ipykernel_87590/367717739.py:2: UserWarning: PySoundFile failed. Trying audioread instead.\n",
      "  wav,sr = librosa.load(filepath, sr=None)\n",
      "/home/maellef/env/Py39_finefriends/lib/python3.9/site-packages/librosa/core/audio.py:184: FutureWarning: librosa.core.audio.__audioread_load\n",
      "\tDeprecated as of librosa version 0.10.0.\n",
      "\tIt will be removed in librosa version 1.0.\n",
      "  y, sr_native = __audioread_load(path, offset, duration, dtype)\n",
      "/tmp/ipykernel_87590/367717739.py:2: UserWarning: PySoundFile failed. Trying audioread instead.\n",
      "  wav,sr = librosa.load(filepath, sr=None)\n",
      "/home/maellef/env/Py39_finefriends/lib/python3.9/site-packages/librosa/core/audio.py:184: FutureWarning: librosa.core.audio.__audioread_load\n",
      "\tDeprecated as of librosa version 0.10.0.\n",
      "\tIt will be removed in librosa version 1.0.\n",
      "  y, sr_native = __audioread_load(path, offset, duration, dtype)\n",
      "/tmp/ipykernel_87590/367717739.py:2: UserWarning: PySoundFile failed. Trying audioread instead.\n",
      "  wav,sr = librosa.load(filepath, sr=None)\n",
      "/home/maellef/env/Py39_finefriends/lib/python3.9/site-packages/librosa/core/audio.py:184: FutureWarning: librosa.core.audio.__audioread_load\n",
      "\tDeprecated as of librosa version 0.10.0.\n",
      "\tIt will be removed in librosa version 1.0.\n",
      "  y, sr_native = __audioread_load(path, offset, duration, dtype)\n",
      "/tmp/ipykernel_87590/367717739.py:2: UserWarning: PySoundFile failed. Trying audioread instead.\n",
      "  wav,sr = librosa.load(filepath, sr=None)\n",
      "/home/maellef/env/Py39_finefriends/lib/python3.9/site-packages/librosa/core/audio.py:184: FutureWarning: librosa.core.audio.__audioread_load\n",
      "\tDeprecated as of librosa version 0.10.0.\n",
      "\tIt will be removed in librosa version 1.0.\n",
      "  y, sr_native = __audioread_load(path, offset, duration, dtype)\n"
     ]
    },
    {
     "name": "stdout",
     "output_type": "stream",
     "text": [
      "Adding /home/maellef/DataBase/MuteMusic/Synthetic/Above Ground BGM - Super Mario Bros. 3 [oZszAppxXoo].m4a\n",
      "Adding /home/maellef/DataBase/MuteMusic/Lyrics/Simon & Garfunkel - Mrs. Robinson (Audio) [9C1BCAgu2I8].m4a\n",
      "Adding /home/maellef/DataBase/MuteMusic/Synthetic/Streets Of Rage 1 OST- Stage 1 [tfiUfU18FmM].m4a\n",
      "Adding /home/maellef/DataBase/MuteMusic/Lyrics/Michael Jackson - Why You Wanna Trip on Me (Audio) [C2FUzoy-UCg].m4a\n"
     ]
    },
    {
     "name": "stderr",
     "output_type": "stream",
     "text": [
      "/tmp/ipykernel_87590/367717739.py:2: UserWarning: PySoundFile failed. Trying audioread instead.\n",
      "  wav,sr = librosa.load(filepath, sr=None)\n",
      "/home/maellef/env/Py39_finefriends/lib/python3.9/site-packages/librosa/core/audio.py:184: FutureWarning: librosa.core.audio.__audioread_load\n",
      "\tDeprecated as of librosa version 0.10.0.\n",
      "\tIt will be removed in librosa version 1.0.\n",
      "  y, sr_native = __audioread_load(path, offset, duration, dtype)\n",
      "/tmp/ipykernel_87590/367717739.py:2: UserWarning: PySoundFile failed. Trying audioread instead.\n",
      "  wav,sr = librosa.load(filepath, sr=None)\n",
      "/home/maellef/env/Py39_finefriends/lib/python3.9/site-packages/librosa/core/audio.py:184: FutureWarning: librosa.core.audio.__audioread_load\n",
      "\tDeprecated as of librosa version 0.10.0.\n",
      "\tIt will be removed in librosa version 1.0.\n",
      "  y, sr_native = __audioread_load(path, offset, duration, dtype)\n",
      "/tmp/ipykernel_87590/367717739.py:2: UserWarning: PySoundFile failed. Trying audioread instead.\n",
      "  wav,sr = librosa.load(filepath, sr=None)\n",
      "/home/maellef/env/Py39_finefriends/lib/python3.9/site-packages/librosa/core/audio.py:184: FutureWarning: librosa.core.audio.__audioread_load\n",
      "\tDeprecated as of librosa version 0.10.0.\n",
      "\tIt will be removed in librosa version 1.0.\n",
      "  y, sr_native = __audioread_load(path, offset, duration, dtype)\n",
      "/tmp/ipykernel_87590/367717739.py:2: UserWarning: PySoundFile failed. Trying audioread instead.\n",
      "  wav,sr = librosa.load(filepath, sr=None)\n",
      "/home/maellef/env/Py39_finefriends/lib/python3.9/site-packages/librosa/core/audio.py:184: FutureWarning: librosa.core.audio.__audioread_load\n",
      "\tDeprecated as of librosa version 0.10.0.\n",
      "\tIt will be removed in librosa version 1.0.\n",
      "  y, sr_native = __audioread_load(path, offset, duration, dtype)\n"
     ]
    },
    {
     "name": "stdout",
     "output_type": "stream",
     "text": [
      "Adding /home/maellef/DataBase/MuteMusic/Synthetic/Super Mario 64 - Bob-Omb Battlefield (Extended) Theme [xC3oIT5g_os].m4a\n",
      "Adding /home/maellef/DataBase/MuteMusic/Synthetic/Sim City - Growth [cwWrJg6OMs8].m4a\n",
      "Adding /home/maellef/DataBase/MuteMusic/Orchestral/The Imperial March (Darth Vader's Theme) [s3SZ5sIMY6o].m4a\n"
     ]
    },
    {
     "name": "stderr",
     "output_type": "stream",
     "text": [
      "/tmp/ipykernel_87590/367717739.py:2: UserWarning: PySoundFile failed. Trying audioread instead.\n",
      "  wav,sr = librosa.load(filepath, sr=None)\n",
      "/home/maellef/env/Py39_finefriends/lib/python3.9/site-packages/librosa/core/audio.py:184: FutureWarning: librosa.core.audio.__audioread_load\n",
      "\tDeprecated as of librosa version 0.10.0.\n",
      "\tIt will be removed in librosa version 1.0.\n",
      "  y, sr_native = __audioread_load(path, offset, duration, dtype)\n",
      "/tmp/ipykernel_87590/367717739.py:2: UserWarning: PySoundFile failed. Trying audioread instead.\n",
      "  wav,sr = librosa.load(filepath, sr=None)\n",
      "/home/maellef/env/Py39_finefriends/lib/python3.9/site-packages/librosa/core/audio.py:184: FutureWarning: librosa.core.audio.__audioread_load\n",
      "\tDeprecated as of librosa version 0.10.0.\n",
      "\tIt will be removed in librosa version 1.0.\n",
      "  y, sr_native = __audioread_load(path, offset, duration, dtype)\n",
      "/tmp/ipykernel_87590/367717739.py:2: UserWarning: PySoundFile failed. Trying audioread instead.\n",
      "  wav,sr = librosa.load(filepath, sr=None)\n",
      "/home/maellef/env/Py39_finefriends/lib/python3.9/site-packages/librosa/core/audio.py:184: FutureWarning: librosa.core.audio.__audioread_load\n",
      "\tDeprecated as of librosa version 0.10.0.\n",
      "\tIt will be removed in librosa version 1.0.\n",
      "  y, sr_native = __audioread_load(path, offset, duration, dtype)\n"
     ]
    },
    {
     "name": "stdout",
     "output_type": "stream",
     "text": [
      "Adding /home/maellef/DataBase/MuteMusic/Orchestral/Suite bergamasque, CD 82, L. 75： III. Clair de lune [JVmwLJeeOy4].m4a\n",
      "Adding /home/maellef/DataBase/MuteMusic/Orchestral/The 4 Seasons, Op. 8⧸4, RV 297, ＂Winter＂ [_FeJFs6LJjU].m4a\n",
      "Adding /home/maellef/DataBase/MuteMusic/Orchestral/Clint Mansell： Lux Aeterna from Requiem for a Dream (Official Video) [0-jVz7Dou4Y].m4a\n",
      "Adding /home/maellef/DataBase/MuteMusic/Synthetic/Shinobi 3 Return Of The Ninja Master OST- Shinobi Walk [A1jKza3O1y4].m4a\n"
     ]
    },
    {
     "name": "stderr",
     "output_type": "stream",
     "text": [
      "/tmp/ipykernel_87590/367717739.py:2: UserWarning: PySoundFile failed. Trying audioread instead.\n",
      "  wav,sr = librosa.load(filepath, sr=None)\n",
      "/home/maellef/env/Py39_finefriends/lib/python3.9/site-packages/librosa/core/audio.py:184: FutureWarning: librosa.core.audio.__audioread_load\n",
      "\tDeprecated as of librosa version 0.10.0.\n",
      "\tIt will be removed in librosa version 1.0.\n",
      "  y, sr_native = __audioread_load(path, offset, duration, dtype)\n",
      "/tmp/ipykernel_87590/367717739.py:2: UserWarning: PySoundFile failed. Trying audioread instead.\n",
      "  wav,sr = librosa.load(filepath, sr=None)\n",
      "/home/maellef/env/Py39_finefriends/lib/python3.9/site-packages/librosa/core/audio.py:184: FutureWarning: librosa.core.audio.__audioread_load\n",
      "\tDeprecated as of librosa version 0.10.0.\n",
      "\tIt will be removed in librosa version 1.0.\n",
      "  y, sr_native = __audioread_load(path, offset, duration, dtype)\n",
      "/tmp/ipykernel_87590/367717739.py:2: UserWarning: PySoundFile failed. Trying audioread instead.\n",
      "  wav,sr = librosa.load(filepath, sr=None)\n",
      "/home/maellef/env/Py39_finefriends/lib/python3.9/site-packages/librosa/core/audio.py:184: FutureWarning: librosa.core.audio.__audioread_load\n",
      "\tDeprecated as of librosa version 0.10.0.\n",
      "\tIt will be removed in librosa version 1.0.\n",
      "  y, sr_native = __audioread_load(path, offset, duration, dtype)\n",
      "/tmp/ipykernel_87590/367717739.py:2: UserWarning: PySoundFile failed. Trying audioread instead.\n",
      "  wav,sr = librosa.load(filepath, sr=None)\n",
      "/home/maellef/env/Py39_finefriends/lib/python3.9/site-packages/librosa/core/audio.py:184: FutureWarning: librosa.core.audio.__audioread_load\n",
      "\tDeprecated as of librosa version 0.10.0.\n",
      "\tIt will be removed in librosa version 1.0.\n",
      "  y, sr_native = __audioread_load(path, offset, duration, dtype)\n"
     ]
    },
    {
     "name": "stdout",
     "output_type": "stream",
     "text": [
      "Adding /home/maellef/DataBase/MuteMusic/Orchestral/Joe Hisaishi - Merry-Go-Round (from 'Howl's Moving Castle') [Cj-AL-J98U0].m4a\n",
      "Adding /home/maellef/DataBase/MuteMusic/Lyrics/John Denver - Take Me Home, Country Roads (Official Audio) [1vrEljMfXYo].m4a\n",
      "Adding /home/maellef/DataBase/MuteMusic/Synthetic/[Official] Celeste Original Soundtrack - 03 - Resurrections [1rwAvUvvQzQ].m4a\n"
     ]
    },
    {
     "name": "stderr",
     "output_type": "stream",
     "text": [
      "/tmp/ipykernel_87590/367717739.py:2: UserWarning: PySoundFile failed. Trying audioread instead.\n",
      "  wav,sr = librosa.load(filepath, sr=None)\n",
      "/home/maellef/env/Py39_finefriends/lib/python3.9/site-packages/librosa/core/audio.py:184: FutureWarning: librosa.core.audio.__audioread_load\n",
      "\tDeprecated as of librosa version 0.10.0.\n",
      "\tIt will be removed in librosa version 1.0.\n",
      "  y, sr_native = __audioread_load(path, offset, duration, dtype)\n",
      "/tmp/ipykernel_87590/367717739.py:2: UserWarning: PySoundFile failed. Trying audioread instead.\n",
      "  wav,sr = librosa.load(filepath, sr=None)\n",
      "/home/maellef/env/Py39_finefriends/lib/python3.9/site-packages/librosa/core/audio.py:184: FutureWarning: librosa.core.audio.__audioread_load\n",
      "\tDeprecated as of librosa version 0.10.0.\n",
      "\tIt will be removed in librosa version 1.0.\n",
      "  y, sr_native = __audioread_load(path, offset, duration, dtype)\n",
      "/tmp/ipykernel_87590/367717739.py:2: UserWarning: PySoundFile failed. Trying audioread instead.\n",
      "  wav,sr = librosa.load(filepath, sr=None)\n",
      "/home/maellef/env/Py39_finefriends/lib/python3.9/site-packages/librosa/core/audio.py:184: FutureWarning: librosa.core.audio.__audioread_load\n",
      "\tDeprecated as of librosa version 0.10.0.\n",
      "\tIt will be removed in librosa version 1.0.\n",
      "  y, sr_native = __audioread_load(path, offset, duration, dtype)\n"
     ]
    },
    {
     "name": "stdout",
     "output_type": "stream",
     "text": [
      "Adding /home/maellef/DataBase/MuteMusic/Orchestral/The Moldau (Studio recording) [pT2bgYo9RT0].m4a\n",
      "Adding /home/maellef/DataBase/MuteMusic/Orchestral/＂The Simpsons＂ Main Title Theme [Fttst9dG6Ko].m4a\n",
      "Adding /home/maellef/DataBase/MuteMusic/Lyrics/[I Can't Get No] Satisfaction (Mono) [MSSxnv1_J2g].m4a\n"
     ]
    },
    {
     "name": "stderr",
     "output_type": "stream",
     "text": [
      "/tmp/ipykernel_87590/367717739.py:2: UserWarning: PySoundFile failed. Trying audioread instead.\n",
      "  wav,sr = librosa.load(filepath, sr=None)\n",
      "/home/maellef/env/Py39_finefriends/lib/python3.9/site-packages/librosa/core/audio.py:184: FutureWarning: librosa.core.audio.__audioread_load\n",
      "\tDeprecated as of librosa version 0.10.0.\n",
      "\tIt will be removed in librosa version 1.0.\n",
      "  y, sr_native = __audioread_load(path, offset, duration, dtype)\n",
      "/tmp/ipykernel_87590/367717739.py:2: UserWarning: PySoundFile failed. Trying audioread instead.\n",
      "  wav,sr = librosa.load(filepath, sr=None)\n",
      "/home/maellef/env/Py39_finefriends/lib/python3.9/site-packages/librosa/core/audio.py:184: FutureWarning: librosa.core.audio.__audioread_load\n",
      "\tDeprecated as of librosa version 0.10.0.\n",
      "\tIt will be removed in librosa version 1.0.\n",
      "  y, sr_native = __audioread_load(path, offset, duration, dtype)\n",
      "/tmp/ipykernel_87590/367717739.py:2: UserWarning: PySoundFile failed. Trying audioread instead.\n",
      "  wav,sr = librosa.load(filepath, sr=None)\n",
      "/home/maellef/env/Py39_finefriends/lib/python3.9/site-packages/librosa/core/audio.py:184: FutureWarning: librosa.core.audio.__audioread_load\n",
      "\tDeprecated as of librosa version 0.10.0.\n",
      "\tIt will be removed in librosa version 1.0.\n",
      "  y, sr_native = __audioread_load(path, offset, duration, dtype)\n"
     ]
    },
    {
     "name": "stdout",
     "output_type": "stream",
     "text": [
      "Adding /home/maellef/DataBase/MuteMusic/Synthetic/Shinobi 3 Return Of The Ninja Master OST- Idaten [TFZQWCg99l4].m4a\n",
      "Adding /home/maellef/DataBase/MuteMusic/Orchestral/Joe Hisaishi - Kiki's Delivery Service [HPg_auEBL1Y].m4a\n",
      "Adding /home/maellef/DataBase/MuteMusic/Lyrics/Monday, Monday [sWGh92O9kxU].m4a\n"
     ]
    },
    {
     "name": "stderr",
     "output_type": "stream",
     "text": [
      "/tmp/ipykernel_87590/367717739.py:2: UserWarning: PySoundFile failed. Trying audioread instead.\n",
      "  wav,sr = librosa.load(filepath, sr=None)\n",
      "/home/maellef/env/Py39_finefriends/lib/python3.9/site-packages/librosa/core/audio.py:184: FutureWarning: librosa.core.audio.__audioread_load\n",
      "\tDeprecated as of librosa version 0.10.0.\n",
      "\tIt will be removed in librosa version 1.0.\n",
      "  y, sr_native = __audioread_load(path, offset, duration, dtype)\n",
      "/tmp/ipykernel_87590/367717739.py:2: UserWarning: PySoundFile failed. Trying audioread instead.\n",
      "  wav,sr = librosa.load(filepath, sr=None)\n",
      "/home/maellef/env/Py39_finefriends/lib/python3.9/site-packages/librosa/core/audio.py:184: FutureWarning: librosa.core.audio.__audioread_load\n",
      "\tDeprecated as of librosa version 0.10.0.\n",
      "\tIt will be removed in librosa version 1.0.\n",
      "  y, sr_native = __audioread_load(path, offset, duration, dtype)\n",
      "/tmp/ipykernel_87590/367717739.py:2: UserWarning: PySoundFile failed. Trying audioread instead.\n",
      "  wav,sr = librosa.load(filepath, sr=None)\n",
      "/home/maellef/env/Py39_finefriends/lib/python3.9/site-packages/librosa/core/audio.py:184: FutureWarning: librosa.core.audio.__audioread_load\n",
      "\tDeprecated as of librosa version 0.10.0.\n",
      "\tIt will be removed in librosa version 1.0.\n",
      "  y, sr_native = __audioread_load(path, offset, duration, dtype)\n"
     ]
    },
    {
     "name": "stdout",
     "output_type": "stream",
     "text": [
      "Adding /home/maellef/DataBase/MuteMusic/Lyrics/Mister Sandman [PKnPrbPK5vA].m4a\n",
      "Adding /home/maellef/DataBase/MuteMusic/Orchestral/Seinfeld Official Soundtrack ｜ Seinfeld Theme - Jonathan Wolff ｜ WaterTower [RWak0i_iqnM].m4a\n",
      "Adding /home/maellef/DataBase/MuteMusic/Synthetic/Donkey Kong Country OST (Super Nintendo) - Track 03⧸23 - DK Island Swing [HG8YrDF6cDk].m4a\n"
     ]
    },
    {
     "name": "stderr",
     "output_type": "stream",
     "text": [
      "/tmp/ipykernel_87590/367717739.py:2: UserWarning: PySoundFile failed. Trying audioread instead.\n",
      "  wav,sr = librosa.load(filepath, sr=None)\n",
      "/home/maellef/env/Py39_finefriends/lib/python3.9/site-packages/librosa/core/audio.py:184: FutureWarning: librosa.core.audio.__audioread_load\n",
      "\tDeprecated as of librosa version 0.10.0.\n",
      "\tIt will be removed in librosa version 1.0.\n",
      "  y, sr_native = __audioread_load(path, offset, duration, dtype)\n",
      "/tmp/ipykernel_87590/367717739.py:2: UserWarning: PySoundFile failed. Trying audioread instead.\n",
      "  wav,sr = librosa.load(filepath, sr=None)\n",
      "/home/maellef/env/Py39_finefriends/lib/python3.9/site-packages/librosa/core/audio.py:184: FutureWarning: librosa.core.audio.__audioread_load\n",
      "\tDeprecated as of librosa version 0.10.0.\n",
      "\tIt will be removed in librosa version 1.0.\n",
      "  y, sr_native = __audioread_load(path, offset, duration, dtype)\n",
      "/tmp/ipykernel_87590/367717739.py:2: UserWarning: PySoundFile failed. Trying audioread instead.\n",
      "  wav,sr = librosa.load(filepath, sr=None)\n",
      "/home/maellef/env/Py39_finefriends/lib/python3.9/site-packages/librosa/core/audio.py:184: FutureWarning: librosa.core.audio.__audioread_load\n",
      "\tDeprecated as of librosa version 0.10.0.\n",
      "\tIt will be removed in librosa version 1.0.\n",
      "  y, sr_native = __audioread_load(path, offset, duration, dtype)\n"
     ]
    },
    {
     "name": "stdout",
     "output_type": "stream",
     "text": [
      "Adding /home/maellef/DataBase/MuteMusic/Synthetic/Final Fantasy 7 Music - Aerith's Theme [4CK2hx377iU].m4a\n",
      "Adding /home/maellef/DataBase/MuteMusic/Lyrics/Radiohead - Creep [XFkzRNyygfk].m4a\n"
     ]
    },
    {
     "name": "stderr",
     "output_type": "stream",
     "text": [
      "/tmp/ipykernel_87590/367717739.py:2: UserWarning: PySoundFile failed. Trying audioread instead.\n",
      "  wav,sr = librosa.load(filepath, sr=None)\n",
      "/home/maellef/env/Py39_finefriends/lib/python3.9/site-packages/librosa/core/audio.py:184: FutureWarning: librosa.core.audio.__audioread_load\n",
      "\tDeprecated as of librosa version 0.10.0.\n",
      "\tIt will be removed in librosa version 1.0.\n",
      "  y, sr_native = __audioread_load(path, offset, duration, dtype)\n",
      "/tmp/ipykernel_87590/367717739.py:2: UserWarning: PySoundFile failed. Trying audioread instead.\n",
      "  wav,sr = librosa.load(filepath, sr=None)\n",
      "/home/maellef/env/Py39_finefriends/lib/python3.9/site-packages/librosa/core/audio.py:184: FutureWarning: librosa.core.audio.__audioread_load\n",
      "\tDeprecated as of librosa version 0.10.0.\n",
      "\tIt will be removed in librosa version 1.0.\n",
      "  y, sr_native = __audioread_load(path, offset, duration, dtype)\n"
     ]
    }
   ],
   "source": [
    "timestamps = []\n",
    "allsounds = []\n",
    "start = 3\n",
    "for curstim in allstims:\n",
    "    timestamps.append(start)\n",
    "    start = start + silence + 8\n",
    "    print(f\"Adding {curstim}\")\n",
    "    curwave,_ = add_sound(curstim,silencedur=silence,fadedur = 0.5)\n",
    "    allsounds.append(curwave)"
   ]
  },
  {
   "cell_type": "code",
   "execution_count": 10,
   "id": "6fdcb1cc",
   "metadata": {},
   "outputs": [],
   "source": [
    "def convert_seconds(timestamps):\n",
    "    minutes = []\n",
    "    seconds = []\n",
    "    for i in range(len(timestamps)):\n",
    "        minutes.append(timestamps[i] // 60)\n",
    "        seconds.append(timestamps[i] % 60)\n",
    "    return (minutes, seconds)"
   ]
  },
  {
   "cell_type": "code",
   "execution_count": 11,
   "id": "05fa600b",
   "metadata": {},
   "outputs": [],
   "source": [
    "minutes,seconds = convert_seconds(timestamps)"
   ]
  },
  {
   "cell_type": "code",
   "execution_count": 12,
   "id": "13f1f2c1",
   "metadata": {},
   "outputs": [],
   "source": [
    "times = [f\"{minute:02d}:{second:02d}\" for minute,second in zip(minutes,seconds)]"
   ]
  },
  {
   "cell_type": "code",
   "execution_count": 13,
   "id": "54cae041",
   "metadata": {},
   "outputs": [
    {
     "data": {
      "text/plain": [
       "['00:03',\n",
       " '00:15',\n",
       " '00:27',\n",
       " '00:39',\n",
       " '00:51',\n",
       " '01:03',\n",
       " '01:15',\n",
       " '01:27',\n",
       " '01:39',\n",
       " '01:51',\n",
       " '02:03',\n",
       " '02:15',\n",
       " '02:27',\n",
       " '02:39',\n",
       " '02:51',\n",
       " '03:03',\n",
       " '03:15',\n",
       " '03:27',\n",
       " '03:39',\n",
       " '03:51',\n",
       " '04:03',\n",
       " '04:15',\n",
       " '04:27',\n",
       " '04:39',\n",
       " '04:51',\n",
       " '05:03',\n",
       " '05:15',\n",
       " '05:27',\n",
       " '05:39',\n",
       " '05:51',\n",
       " '06:03',\n",
       " '06:15',\n",
       " '06:27',\n",
       " '06:39',\n",
       " '06:51',\n",
       " '07:03',\n",
       " '07:15',\n",
       " '07:27',\n",
       " '07:39',\n",
       " '07:51',\n",
       " '08:03',\n",
       " '08:15',\n",
       " '08:27',\n",
       " '08:39',\n",
       " '08:51',\n",
       " '09:03',\n",
       " '09:15',\n",
       " '09:27',\n",
       " '09:39',\n",
       " '09:51',\n",
       " '10:03',\n",
       " '10:15',\n",
       " '10:27',\n",
       " '10:39',\n",
       " '10:51',\n",
       " '11:03',\n",
       " '11:15',\n",
       " '11:27',\n",
       " '11:39',\n",
       " '11:51',\n",
       " '12:03',\n",
       " '12:15',\n",
       " '12:27',\n",
       " '12:39',\n",
       " '12:51',\n",
       " '13:03',\n",
       " '13:15',\n",
       " '13:27',\n",
       " '13:39',\n",
       " '13:51',\n",
       " '14:03',\n",
       " '14:15',\n",
       " '14:27',\n",
       " '14:39',\n",
       " '14:51']"
      ]
     },
     "execution_count": 13,
     "metadata": {},
     "output_type": "execute_result"
    }
   ],
   "source": [
    "times"
   ]
  },
  {
   "cell_type": "code",
   "execution_count": 14,
   "id": "9a9bfd1e",
   "metadata": {},
   "outputs": [],
   "source": [
    "Df_experimenter = pd.DataFrame(columns=['file','timestamp'])\n",
    "Df_experimenter['file'] = allstims\n",
    "Df_experimenter['timestamp'] = times\n",
    "Df_experimenter.to_csv(path+'table_experimenter.csv',index=False)"
   ]
  },
  {
   "cell_type": "markdown",
   "id": "d1a9a6e9",
   "metadata": {},
   "source": [
    "Finally generate the sound file "
   ]
  },
  {
   "cell_type": "code",
   "execution_count": 15,
   "id": "6dbef58a",
   "metadata": {},
   "outputs": [],
   "source": [
    "fullwave = np.hstack(allsounds)\n",
    "soundfile.write(path+'allstimuli.mp3',fullwave,sr)"
   ]
  },
  {
   "cell_type": "code",
   "execution_count": null,
   "id": "0e87d7fb",
   "metadata": {},
   "outputs": [],
   "source": []
  }
 ],
 "metadata": {
  "kernelspec": {
   "display_name": "Python 3 (ipykernel)",
   "language": "python",
   "name": "python3"
  },
  "language_info": {
   "codemirror_mode": {
    "name": "ipython",
    "version": 3
   },
   "file_extension": ".py",
   "mimetype": "text/x-python",
   "name": "python",
   "nbconvert_exporter": "python",
   "pygments_lexer": "ipython3",
   "version": "3.10.12"
  }
 },
 "nbformat": 4,
 "nbformat_minor": 5
}
