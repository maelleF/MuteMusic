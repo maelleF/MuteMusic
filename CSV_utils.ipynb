{
 "cells": [
  {
   "cell_type": "code",
   "execution_count": 1,
   "id": "8106b15e-d7cc-43bf-aa62-cd5f4f5470a1",
   "metadata": {},
   "outputs": [],
   "source": [
    "import os, pandas\n",
    "pandas.options.display.max_colwidth = 200"
   ]
  },
  {
   "cell_type": "code",
   "execution_count": 2,
   "id": "7fc4936f-940c-4484-baa8-d102e069c45c",
   "metadata": {},
   "outputs": [],
   "source": [
    "path = '/home/maellef/git/MuteMusic/data/MuteMusic_songs_data.csv'\n",
    "\n",
    "music_data = pandas.read_table(path, sep=';')\n",
    "\n",
    "for key, value in music_data.iterrows():\n",
    "    title = value['title']\n",
    "    music_data.at[key, 'title'] = title.replace(' ', '_')\n",
    "music_data.to_csv(path, sep=';')"
   ]
  },
  {
   "cell_type": "code",
   "execution_count": 3,
   "id": "3c797a46-dc14-45b1-8ec1-cdbe605d355a",
   "metadata": {},
   "outputs": [
    {
     "name": "stdout",
     "output_type": "stream",
     "text": [
      "    Unnamed: 0   playlist                                         title  \\\n",
      "0            0     Lyrics                                 Make_Em_Laugh   \n",
      "1            1     Lyrics                                Mister_Sandman   \n",
      "2            2     Lyrics                                Jailhouse_Rock   \n",
      "3            3     Lyrics                                          Rain   \n",
      "4            4     Lyrics                                 Monday_Monday   \n",
      "..         ...        ...                                           ...   \n",
      "70          70  Synthetic                  Aladdin_Genesis_Music_Ending   \n",
      "71          71  Synthetic                Space_Harrier_Music_MAIN_THEME   \n",
      "72          72  Synthetic                 Streets_Of_Rage_1_OST_Stage_1   \n",
      "73          73  Synthetic  Celeste_Original_Soundtrack_03_Resurrections   \n",
      "74          74  Synthetic                         Megalovania_Undertale   \n",
      "\n",
      "                   artist    date timestamp_8s timestamp_long  duration  \\\n",
      "0         Donald O'Connor  1952.0         0:04           0:00        65   \n",
      "1          The Chordettes  1954.0         0:10           0:00        46   \n",
      "2           Elvis Presley  1957.0         0:15           0:00        52   \n",
      "3             The Beatles  1966.0         1:18           0:00        48   \n",
      "4   The Mamas & The Papas  1966.0         1:13           0:29        53   \n",
      "..                    ...     ...          ...            ...       ...   \n",
      "70                    NaN     NaN         0:35           0:00        65   \n",
      "71                    NaN     NaN         0:25           0:25        48   \n",
      "72           Yuzo Koshiro  1991.0         0:29           0:00        45   \n",
      "73             Lena Raine     NaN         2:13           2:13        50   \n",
      "74               Toby Fox  2015.0         0:16           0:08        56   \n",
      "\n",
      "                                            url  \n",
      "0   https://www.youtube.com/watch?v=ieU4Am0t0tc  \n",
      "1   https://www.youtube.com/watch?v=PKnPrbPK5vA  \n",
      "2   https://www.youtube.com/watch?v=Hi2hpTXeHTI  \n",
      "3   https://www.youtube.com/watch?v=cK5G8fPmWeA  \n",
      "4   https://www.youtube.com/watch?v=sWGh92O9kxU  \n",
      "..                                          ...  \n",
      "70  https://www.youtube.com/watch?v=oaIXo6aaL-w  \n",
      "71  https://www.youtube.com/watch?v=-_Tam9lv1KQ  \n",
      "72  https://www.youtube.com/watch?v=tfiUfU18FmM  \n",
      "73  https://www.youtube.com/watch?v=1rwAvUvvQzQ  \n",
      "74  https://www.youtube.com/watch?v=0FCvzsVlXpQ  \n",
      "\n",
      "[75 rows x 9 columns]\n"
     ]
    }
   ],
   "source": [
    "music_data = pandas.read_table(path, sep=';')\n",
    "print(music_data)"
   ]
  },
  {
   "cell_type": "code",
   "execution_count": null,
   "id": "4e0b7eda-89b7-4812-8ac3-5bae9f356666",
   "metadata": {},
   "outputs": [],
   "source": [
    "music_data = pandas.read_table(path, sep=';')\n",
    "tracks_path = '/home/maellef/git/MuteMusic/data/StimuliFinal'\n",
    "for dirpath,dirnames, filenames in os.walk(tracks_path):\n",
    "    if len(filenames) > 1:\n",
    "        for filename in filenames:\n",
    "            name, ext = os.path.splitext(filename)\n",
    "            url = f'https://www.youtube.com/watch?v={name[-12:-1]}'\n",
    "            correct_name = music_data['title'].loc[music_data['url']==url].values[0]\n",
    "            oldpath = os.path.join(dirpath, filename)\n",
    "            newpath = os.path.join(dirpath, correct_name+'.wav')\n",
    "            os.replace(oldpath, newpath)"
   ]
  },
  {
   "cell_type": "code",
   "execution_count": null,
   "id": "bb9d7768-3cba-4563-98cc-7df91648290a",
   "metadata": {},
   "outputs": [],
   "source": [
    "path = '/home/maellef/git/MuteMusic/data/MuteMusic_songs_data.csv'\n",
    "music_data = pandas.read_table(path, sep=';')\n",
    "behavioural_path = '/home/maellef/git/MuteMusic/data/Behavourial_data'\n",
    "\n",
    "for file in ('table_experimenter.csv', 'Sub_03_familiarity.csv'):\n",
    "    csv_path = os.path.join(behavioural_path,file)\n",
    "    csv_df = pandas.read_table(csv_path, sep=',')\n",
    "    for key, value in csv_df.iterrows():\n",
    "        path, filename = os.path.split(value['file'])\n",
    "        name, ext = os.path.splitext(filename)\n",
    "        url = f'https://www.youtube.com/watch?v={name[-12:-1]}'\n",
    "        correct_name = music_data['title'].loc[music_data['url']==url].values[0]\n",
    "        correct_path = os.path.join(path, correct_name+'.wav')\n",
    "        csv_df.at[key, 'file'] = correct_path\n",
    "    csv_df.to_csv(csv_path, sep=',')"
   ]
  },
  {
   "cell_type": "code",
   "execution_count": 5,
   "id": "66f14597-ede8-4606-b36c-6ca75e503c71",
   "metadata": {
    "scrolled": true
   },
   "outputs": [
    {
     "data": {
      "text/plain": [
       "Index(['file', 'category', 'timestamp', 'yes', 'maybe', 'no'], dtype='object')"
      ]
     },
     "execution_count": 5,
     "metadata": {},
     "output_type": "execute_result"
    }
   ],
   "source": [
    "behavioural_path = '/home/maellef/git/MuteMusic/data/Behavourial_data'\n",
    "subject = '03'\n",
    "familiarity_results = os.path.join(behavioural_path, f'Sub_{subject}_familiarity.csv')\n",
    "\n",
    "familiarity_df = pandas.read_table(familiarity_results, sep=',')\n",
    "familiarity_df.columns"
   ]
  },
  {
   "cell_type": "code",
   "execution_count": 7,
   "id": "0c2998d3-5f01-46eb-bca5-eba5beb09c9d",
   "metadata": {},
   "outputs": [
    {
     "name": "stdout",
     "output_type": "stream",
     "text": [
      "17\n",
      "1                      /home/maellef/git/MuteMusic/data/StimuliFinal/8s/Lyrics/Hotel_California.wav\n",
      "2     /home/maellef/git/MuteMusic/data/StimuliFinal/8s/Lyrics/Everybody_Wants_To_Rule_The_World.wav\n",
      "6                       /home/maellef/git/MuteMusic/data/StimuliFinal/8s/Lyrics/Highway_to_Hell.wav\n",
      "11                      /home/maellef/git/MuteMusic/data/StimuliFinal/8s/Lyrics/No_Woman_No_Cry.wav\n",
      "15                        /home/maellef/git/MuteMusic/data/StimuliFinal/8s/Lyrics/Material_Girl.wav\n",
      "21                                /home/maellef/git/MuteMusic/data/StimuliFinal/8s/Lyrics/Creep.wav\n",
      "24                       /home/maellef/git/MuteMusic/data/StimuliFinal/8s/Lyrics/Jailhouse_Rock.wav\n",
      "29                    /home/maellef/git/MuteMusic/data/StimuliFinal/8s/Lyrics/Gangstas_Paradise.wav\n",
      "33                        /home/maellef/git/MuteMusic/data/StimuliFinal/8s/Lyrics/Monday_Monday.wav\n",
      "40                       /home/maellef/git/MuteMusic/data/StimuliFinal/8s/Lyrics/Mister_Sandman.wav\n",
      "47                       /home/maellef/git/MuteMusic/data/StimuliFinal/8s/Lyrics/I_Will_Survive.wav\n",
      "48                /home/maellef/git/MuteMusic/data/StimuliFinal/8s/Lyrics/I_ll_Be_There_for_You.wav\n",
      "51                      /home/maellef/git/MuteMusic/data/StimuliFinal/8s/Lyrics/Its_Raining_Men.wav\n",
      "57          /home/maellef/git/MuteMusic/data/StimuliFinal/8s/Lyrics/I_Can't_Get_No_Satisfaction.wav\n",
      "63              /home/maellef/git/MuteMusic/data/StimuliFinal/8s/Lyrics/Never_Gonna_Give_You_Up.wav\n",
      "64                         /home/maellef/git/MuteMusic/data/StimuliFinal/8s/Lyrics/Mrs_Robinson.wav\n",
      "66           /home/maellef/git/MuteMusic/data/StimuliFinal/8s/Lyrics/Take_Me_Home_Country_Roads.wav\n",
      "Name: file, dtype: object\n",
      "7\n",
      "13                     /home/maellef/git/MuteMusic/data/StimuliFinal/8s/Lyrics/Murder_by_Numbers.wav\n",
      "20                         /home/maellef/git/MuteMusic/data/StimuliFinal/8s/Lyrics/Make_Em_Laugh.wav\n",
      "46                       /home/maellef/git/MuteMusic/data/StimuliFinal/8s/Lyrics/Living_Together.wav\n",
      "49    /home/maellef/git/MuteMusic/data/StimuliFinal/8s/Lyrics/Another_Brick_In_The_Wall_(Part_1).wav\n",
      "50                             /home/maellef/git/MuteMusic/data/StimuliFinal/8s/Lyrics/Babooshka.wav\n",
      "67                                  /home/maellef/git/MuteMusic/data/StimuliFinal/8s/Lyrics/Rain.wav\n",
      "70              /home/maellef/git/MuteMusic/data/StimuliFinal/8s/Lyrics/Why_You_Wanna_Trip_on_Me.wav\n",
      "Name: file, dtype: object\n",
      "14\n",
      "0      /home/maellef/git/MuteMusic/data/StimuliFinal/8s/Orchestral/Seinfeld_Official_Soundtrack_(Seinfeld_Theme).wav\n",
      "16                                    /home/maellef/git/MuteMusic/data/StimuliFinal/8s/Orchestral/Gnossienne_No1.wav\n",
      "26           /home/maellef/git/MuteMusic/data/StimuliFinal/8s/Orchestral/The_Imperial_March_(Darth_Vaders_Theme).wav\n",
      "36                                  /home/maellef/git/MuteMusic/data/StimuliFinal/8s/Orchestral/Moonlight_Sonata.wav\n",
      "37                                /home/maellef/git/MuteMusic/data/StimuliFinal/8s/Orchestral/Stairway_To_Heaven.wav\n",
      "38                          /home/maellef/git/MuteMusic/data/StimuliFinal/8s/Orchestral/Yakety_Sax(1983_version).wav\n",
      "39                                /home/maellef/git/MuteMusic/data/StimuliFinal/8s/Orchestral/Back_To_The_Future.wav\n",
      "41                                     /home/maellef/git/MuteMusic/data/StimuliFinal/8s/Orchestral/Body_and_soul.wav\n",
      "42                /home/maellef/git/MuteMusic/data/StimuliFinal/8s/Orchestral/The_4_Seasons_Op_8_4_RV_297_Winter.wav\n",
      "45                        /home/maellef/git/MuteMusic/data/StimuliFinal/8s/Orchestral/2001_l_odyssée_de_l_espace.wav\n",
      "54                            /home/maellef/git/MuteMusic/data/StimuliFinal/8s/Orchestral/The_Pink_Panther_Theme.wav\n",
      "59    /home/maellef/git/MuteMusic/data/StimuliFinal/8s/Orchestral/Suite_bergamasque_CD_82_L_75_III_Clair_de_lune.wav\n",
      "71                                        /home/maellef/git/MuteMusic/data/StimuliFinal/8s/Orchestral/Waltz_No_2.wav\n",
      "73        /home/maellef/git/MuteMusic/data/StimuliFinal/8s/Orchestral/Star_Trek_the_Next_Generation_(Main_Title).wav\n",
      "Name: file, dtype: object\n",
      "8\n",
      "10                                     /home/maellef/git/MuteMusic/data/StimuliFinal/8s/Orchestral/il_porco_rosso.wav\n",
      "22                             /home/maellef/git/MuteMusic/data/StimuliFinal/8s/Orchestral/Kikis_Delivery_Service.wav\n",
      "32                                /home/maellef/git/MuteMusic/data/StimuliFinal/8s/Orchestral/Dreaming_of_Bag_End.wav\n",
      "35               /home/maellef/git/MuteMusic/data/StimuliFinal/8s/Orchestral/Lux_Aeterna_from_Requiem_for_a_Dream.wav\n",
      "44    /home/maellef/git/MuteMusic/data/StimuliFinal/8s/Orchestral/Main_Title_Terminator_2_Theme_(Remastered_2017).wav\n",
      "56                                         /home/maellef/git/MuteMusic/data/StimuliFinal/8s/Orchestral/The_Moldau.wav\n",
      "65                 /home/maellef/git/MuteMusic/data/StimuliFinal/8s/Orchestral/Another_Brick_In_The_Wall_(Part_1).wav\n",
      "69            /home/maellef/git/MuteMusic/data/StimuliFinal/8s/Orchestral/My_Name_is_Nobody_Il_Mio_Nome_e_Nessuno.wav\n",
      "Name: file, dtype: object\n",
      "5\n",
      "4                      /home/maellef/git/MuteMusic/data/StimuliFinal/8s/Synthetic/Super_Mario_Bros_(NES)_Music_Underground_Theme.wav\n",
      "5                                 /home/maellef/git/MuteMusic/data/StimuliFinal/8s/Synthetic/Super_Mario_Bros_3_Underwater_Theme.wav\n",
      "27                       /home/maellef/git/MuteMusic/data/StimuliFinal/8s/Synthetic/Super_Mario_Bros_(NES)_Music_Overworld_Theme.wav\n",
      "53                               /home/maellef/git/MuteMusic/data/StimuliFinal/8s/Synthetic/Super_Mario_Bros_3_Overworld_1_Theme.wav\n",
      "61    /home/maellef/git/MuteMusic/data/StimuliFinal/8s/Synthetic/Shinobi_3_Return_Of_The_Ninja_Master_OST_Japonesque_(level_1_1).wav\n",
      "Name: file, dtype: object\n",
      "19\n",
      "3             /home/maellef/git/MuteMusic/data/StimuliFinal/8s/Synthetic/Shinobi_3_Return_Of_The_Ninja_Master_OST_Idaten_(level_5_1).wav\n",
      "7                             /home/maellef/git/MuteMusic/data/StimuliFinal/8s/Synthetic/Castlevania_4_Bloody_Tears_(Super_Nintendo).wav\n",
      "8                                          /home/maellef/git/MuteMusic/data/StimuliFinal/8s/Synthetic/Space_Harrier_Music_MAIN_THEME.wav\n",
      "9                            /home/maellef/git/MuteMusic/data/StimuliFinal/8s/Synthetic/Celeste_Original_Soundtrack_03_Resurrections.wav\n",
      "12                              /home/maellef/git/MuteMusic/data/StimuliFinal/8s/Synthetic/Original_Tetris_theme_(Tetris_Soundtrack).wav\n",
      "14                                 /home/maellef/git/MuteMusic/data/StimuliFinal/8s/Synthetic/Sonic_The_Hedgehog_OST_Green_Hill_Zone.wav\n",
      "19                     /home/maellef/git/MuteMusic/data/StimuliFinal/8s/Synthetic/Super_Mario_64_BobOmb_Battlefield_(Extended)_Theme.wav\n",
      "25                                          /home/maellef/git/MuteMusic/data/StimuliFinal/8s/Synthetic/Streets_Of_Rage_1_OST_Stage_1.wav\n",
      "28                        /home/maellef/git/MuteMusic/data/StimuliFinal/8s/Synthetic/Legend_of_Zelda_The_(NES)_Music_Overworld_Theme.wav\n",
      "30                                 /home/maellef/git/MuteMusic/data/StimuliFinal/8s/Synthetic/Populous_(SNES_SFC)_BGM_01_Title_Theme.wav\n",
      "31                                                        /home/maellef/git/MuteMusic/data/StimuliFinal/8s/Synthetic/Sim_City_Growth.wav\n",
      "34                                           /home/maellef/git/MuteMusic/data/StimuliFinal/8s/Synthetic/Aladdin_Genesis_Music_Ending.wav\n",
      "43                          /home/maellef/git/MuteMusic/data/StimuliFinal/8s/Synthetic/Sid_Meiers_Civilization_SNES_OST_06_City_Menu.wav\n",
      "52    /home/maellef/git/MuteMusic/data/StimuliFinal/8s/Synthetic/Street_Fighter_II_Champion_Edition_Arcade_Music_Guile_Theme_(CPS_1).wav\n",
      "55               /home/maellef/git/MuteMusic/data/StimuliFinal/8s/Synthetic/Donkey_Kong_Country_OST_(Super_Nintendo)_DK_Island_Swing.wav\n",
      "58                                                  /home/maellef/git/MuteMusic/data/StimuliFinal/8s/Synthetic/Megalovania_Undertale.wav\n",
      "62                                    /home/maellef/git/MuteMusic/data/StimuliFinal/8s/Synthetic/Final_Fantasy_7_Music_Aeriths_Theme.wav\n",
      "68                                     /home/maellef/git/MuteMusic/data/StimuliFinal/8s/Synthetic/Invincibility_Sonic_the_Hedgehog_2.wav\n",
      "74      /home/maellef/git/MuteMusic/data/StimuliFinal/8s/Synthetic/Shinobi_3_Return_Of_The_Ninja_Master_OST_Shinobi_Walk_(level_4_2).wav\n",
      "Name: file, dtype: object\n"
     ]
    }
   ],
   "source": [
    "seed = 42\n",
    "for category in ['Lyrics', 'Orchestral', 'Synthetic']:\n",
    "    yes_df = familiarity_df.loc[(familiarity_df['category'] == category) & (familiarity_df['yes'] == 1)]\n",
    "    no_df = familiarity_df.loc[(familiarity_df['category'] == category) & (familiarity_df['no'] == 1)]\n",
    "\n",
    "    for df in [yes_df, no_df]:\n",
    "        print(len(df['file']))\n",
    "        print(df['file'])\n",
    "        #if len(df) > 10:\n",
    "        #    print(df['file'].sample(n=10, random_state=seed))\n",
    "        #else:\n",
    "            #print(df['file'])#, random_state=seed))\n",
    "\n",
    "#df = familiarity_df.loc[(familiarity_df['category'] == 'Lyrics') & (familiarity_df['no'] == 1)]\n",
    "#print(len(df))\n"
   ]
  },
  {
   "cell_type": "code",
   "execution_count": 28,
   "id": "820b955c-0ee8-4a0e-ac0e-9c6119cddb21",
   "metadata": {},
   "outputs": [
    {
     "name": "stdout",
     "output_type": "stream",
     "text": [
      "Lyrics 138.25\n",
      "Orchestral 136.25\n",
      "Synthetic 129.75\n"
     ]
    }
   ],
   "source": [
    "import librosa\n",
    "file_path = '/home/maellef/git/MuteMusic/data/Behavourial_data/sub_03_playlists.tsv'\n",
    "df = pandas.read_table(file_path, sep=' ')\n",
    "for cat in ['Lyrics', 'Orchestral', 'Synthetic']:\n",
    "    total_silence = 0\n",
    "    for a, b in df.loc[df['category']==cat].iterrows():\n",
    "        path = os.path.join('/home/maellef/git/MuteMusic/data/StimuliFinal/long', cat, b['title'])\n",
    "        a, sr = librosa.load(path, sr=None)\n",
    "        total_silence += len(a)*0.25 / sr \n",
    "    print(cat, total_silence)"
   ]
  }
 ],
 "metadata": {
  "kernelspec": {
   "display_name": "Python 3 (ipykernel)",
   "language": "python",
   "name": "python3"
  },
  "language_info": {
   "codemirror_mode": {
    "name": "ipython",
    "version": 3
   },
   "file_extension": ".py",
   "mimetype": "text/x-python",
   "name": "python",
   "nbconvert_exporter": "python",
   "pygments_lexer": "ipython3",
   "version": "3.10.12"
  }
 },
 "nbformat": 4,
 "nbformat_minor": 5
}
